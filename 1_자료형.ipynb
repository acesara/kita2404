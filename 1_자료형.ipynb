{
  "nbformat": 4,
  "nbformat_minor": 0,
  "metadata": {
    "colab": {
      "provenance": [],
      "mount_file_id": "1Xzm0pky_eMpNX9MPGERLw_3zPCVLT9XR",
      "authorship_tag": "ABX9TyOXU5tr6iS16hVokKDxYoJp",
      "include_colab_link": true
    },
    "kernelspec": {
      "name": "python3",
      "display_name": "Python 3"
    },
    "language_info": {
      "name": "python"
    }
  },
  "cells": [
    {
      "cell_type": "markdown",
      "metadata": {
        "id": "view-in-github",
        "colab_type": "text"
      },
      "source": [
        "<a href=\"https://colab.research.google.com/github/acesara/kita2404/blob/main/1_%EC%9E%90%EB%A3%8C%ED%98%95.ipynb\" target=\"_parent\"><img src=\"https://colab.research.google.com/assets/colab-badge.svg\" alt=\"Open In Colab\"/></a>"
      ]
    },
    {
      "cell_type": "markdown",
      "source": [],
      "metadata": {
        "id": "l3LSbiML7Vrh"
      }
    },
    {
      "cell_type": "code",
      "source": [],
      "metadata": {
        "id": "yZxmGKFrBeS6"
      },
      "execution_count": null,
      "outputs": []
    },
    {
      "cell_type": "markdown",
      "source": [
        "#### 파이썬 이란\n",
        "- 1990년 암스테르담의 귀도 반 로섬(Guido Van Rossum)이 개발한 인터프리터 언어\n",
        "- 컴퓨터 프로그래밍 교육을 위해 많이 사용하지만, 기업의 실무를 위해서도 많이 사용하는 언어. 구글에서 만든 소프트웨어의 50%이상이 파이썬으로 작성\n",
        "\n",
        "#### 파이썬의 특징\n",
        "- 파이썬은 인간다운 언어이다\n",
        "- 파이썬은 문법이 쉬워 빠르게 배울 수 있다\n",
        "- 파이썬은 무료이지만 강력하다\n",
        "- 파이썬은 간결하다\n",
        "- 파이썬은 프로그래밍을 즐기게 해준다\n",
        "- 파이썬은 개발 속도가 빠르다\n",
        "#### 파이썬으로 할 수 있는 일\n",
        "- 웹 개발: Django, Flask 등의 프레임워크를 사용하여 웹 애플리케이션을 개발할 수 있습니다.\n",
        "- 데이터 분석: Pandas, NumPy, SciPy와 같은 라이브러리를 사용하여 데이터를 분석하고 처리할 수 있습니다.\n",
        "- 머신 러닝과 인공지능: TensorFlow, PyTorch, Scikit-learn 등의 라이브러리를 활용하여 머신 러닝 모델을 구축하고 훈련시킬 수 있습니다.\n",
        "- 자동화: 파이썬 스크립트를 작성하여 일상적인 작업을 자동화하고, 시스템 관리 작업을 수행할 수 있습니다.\n",
        "- 게임 개발: Pygame과 같은 라이브러리를 사용하여 간단한 게임을 개발할 수 있습니다.\n",
        "- 모바일 애플리케이션 개발: Kivy 또는 BeeWare와 같은 라이브러리를 사용하여 모바일 애플리케이션을 개발할 수 있습니다.\n",
        "- 데스크탑 애플리케이션 개발: PyQt, Tkinter 등의 라이브러리를 활용하여 데스크탑 애플리케이션을 개발할 수 있습니다.\n",
        "- 시스템 스크립팅과 네트워킹: 시스템 유틸리티를 개발하거나 네트워크 프로토콜을 구현할 수 있습니다.\n",
        "- 임베디드 시스템과 하드웨어 제어: 라즈베리 파이와 같은 임베디드 시스템을 제어하고 하드웨어를 프로그래밍할 수 있습니다.\n",
        "- 사이언티픽 컴퓨팅: 과학적 연산과 시뮬레이션을 위해 파이썬을 활용할 수 있습니다.\n",
        "- 교육: 파이썬은 초보자에게 프로그래밍을 가르치는 데 이상적인 언어로 평가받고 있습니다.\n",
        "- 파이썬의 다양한 라이브러리와 프레임워크 덕분에, 이러한 분야에서의 작업이 더욱 쉽고 효율적으로 수행될 수 있습니다."
      ],
      "metadata": {
        "id": "RNoml1hr71gw"
      }
    },
    {
      "cell_type": "code",
      "source": [
        "1 # ! 기호는  colab 셀에서 Unix/Linux 셀에서 실행\n",
        "!Python -- version"
      ],
      "metadata": {
        "colab": {
          "base_uri": "https://localhost:8080/"
        },
        "id": "whsMHI2jr7xD",
        "outputId": "cf6cc41b-0f85-4ead-d5e8-d95cce42687e"
      },
      "execution_count": null,
      "outputs": [
        {
          "output_type": "stream",
          "name": "stdout",
          "text": [
            "/bin/bash: line 1: Python: command not found\n"
          ]
        }
      ]
    },
    {
      "cell_type": "markdown",
      "source": [
        "#### 용어\n",
        "- 식별자 : 프로그램밍 언어에서 이름을 붙일 때 사용하는 단어. 주로 변수 또는 함수 이름 등으로 사용\n",
        "- 주석 : 프로그램을 설명하기 위해 사용. # 기호로 주석 처리\n",
        "- 연산자 : 스스로 값이 되는 것이 아니고 값과 값 사이에 무언가 기능을 적용할 때 사용\n",
        "- 자료 : 리터럴이라고 하는데 숫자이든 문자이든 어떠한 값 자체를 의미. 1, 10, \"Hello\"\n",
        "- 키워드 : 파이썬이 만들어질 때 이미 사용하겠다고 예약해 놓는 것. False, None, True, ...\n",
        "- 프로그램밍 언어에서 사용자가 이름을 정할 때 키워드는 사용할 수 없음\n",
        "#### 식별자\n",
        "count, user_name, _is_valid, calculate_area, Car, model, year, math 및 m 모두 유효한 식별자. 각각의 식별자는 특정한 데이터 또는 기능에 이름을 부여하여 코드 내에서 해당 데이터나 기능을 참조할 수 있게하며 코드의 가독성과 유지 보수성을 높이는 데 중요한 역할"
      ],
      "metadata": {
        "id": "i2RLii-cDZso"
      }
    },
    {
      "cell_type": "markdown",
      "source": [
        "##식별자 기본 규칙\n",
        "- 키워드를 사용하면 안된다\n",
        "- 특수문자는 언더바(_)만 사용\n",
        "- 숫자로 시작하면 안된다\n",
        "- 공백을 포함 할 수 없다"
      ],
      "metadata": {
        "id": "WwRJwzTfIQBf"
      }
    },
    {
      "cell_type": "markdown",
      "source": [
        "#### 자료형\n",
        "- 자료형 또는 데이터 타입이란 숫자, 문자 등과 같이 여러 종류의 데이터를 구분하기 위한 분류\n",
        "- 파이썬의 자료형은 크게 숫자(numbers), 시퀀스(sequence), 매핑(mapping) 등으로 나눌 수 있다.\n",
        "- 파이썬의 기본 자료형\n",
        "  - 수치형\n",
        "    - 정수형 : int는 정수(integer)를 나타낸다. 양의 정수와 음의 정수, 숫자 0\n",
        "    - 실수형 : float는 원래 부동소수점수(floating-point number)를 가리키는데, 지금은 단순히 소수점 이하를 표현할 수 있는 수이다.\n",
        "    - 복소수형 : 복소수를 complex로 나타내고 제곱하면 -1이 되는 수 i를 ‘허수(imaginary number)’라고 하는데 허수 i를 j로 표현\n",
        "  - 시퀀스 : 문자열(str), 리스트(list), 튜플(tuple), 사용자 정의 클래스가 시퀀스에 속한다. for 문에서 사용할 수 있는 것들이 바로 시퀀스\n",
        "    - 문자열 : 문자를 한 줄로 표현하며 문자열 인덱스를 이용해 문자열의 일부를 복사\n",
        "    - 리스트 : 대괄호([ ])로 감싸 주고 각 요솟값은 쉼표(,)로 구분\n",
        "    - 튜플 : 튜플은 ( )으로 둘러싸고 각 요솟값은 쉼표(,)로 구분\n",
        "  - 매핑\n",
        "    - 사전 : 딕셔너리(dict)는 키(key)와 값(value)의 짝으로 이뤄지는데 이런 것을 매핑\n",
        "  - 집합 : 집합을 표현하는 세트(set)\n",
        "  - 블린 : 참, 거짓을 표현"
      ],
      "metadata": {
        "id": "IASl7aAHA8wp"
      }
    },
    {
      "cell_type": "markdown",
      "source": [
        "#### sort 와 sorted 차이점\n",
        "\n",
        "1. 메서드 vs 함수:\n",
        "- sort(): 리스트 객체의 내장 메서드입니다. 즉, 리스트에서만 사용할 수 있습니다.\n",
        "- sorted(): 내장 함수로, 어떤 반복 가능한(iterable) 객체에도 사용될 수 있습니다. 예를 들면 리스트, 튜플, 딕셔너리, 문자열 등에 사용할 수 있습니다.\n",
        "\n",
        "2. 반환 값:\n",
        "- sort(): 리스트를 원 위치에서(in-place) 정렬하고 None을 반환합니다. 따라서 원래의 리스트 자체가 변경됩니다.\n",
        "- sorted(): 정렬된 새로운 리스트를 반환합니다. 원래의 객체는 변경되지 않습니다.\n",
        "\n",
        "3. 유용성:\n",
        "- sort(): 리스트에서만 작동하기 때문에 리스트만 정렬할 수 있습니다.\n",
        "- sorted(): 다양한 객체를 정렬할 수 있으며 결과는 항상 리스트로 반환됩니다."
      ],
      "metadata": {
        "id": "dmmHv16n9yZ1"
      }
    },
    {
      "cell_type": "code",
      "source": [
        "# 정수형 , 실수형\n",
        "i1 = 3\n",
        "f1 = 3.5\n",
        "print(i1)\n",
        "print(f1)"
      ],
      "metadata": {
        "colab": {
          "base_uri": "https://localhost:8080/"
        },
        "id": "SCVCUQYzCgES",
        "outputId": "13199c8f-f4f0-41c5-fc11-d874a530b610"
      },
      "execution_count": 59,
      "outputs": [
        {
          "output_type": "stream",
          "name": "stdout",
          "text": [
            "3\n",
            "3.5\n"
          ]
        }
      ]
    },
    {
      "cell_type": "code",
      "source": [
        "# 정수\n",
        "print(int(True))\n",
        "print(int(False))\n",
        "print(int(\"100\"))\n",
        "print(int(3.14))"
      ],
      "metadata": {
        "colab": {
          "base_uri": "https://localhost:8080/"
        },
        "id": "6DggK_bdC9Ki",
        "outputId": "9acc9d5f-01a9-43e5-c7c1-03c5220b0311"
      },
      "execution_count": 66,
      "outputs": [
        {
          "output_type": "stream",
          "name": "stdout",
          "text": [
            "1\n",
            "0\n",
            "100\n",
            "3\n"
          ]
        }
      ]
    },
    {
      "cell_type": "code",
      "source": [
        "# 실수\n",
        "print(float(True))\n",
        "print(float(False))\n",
        "print(float(\"100\"))\n",
        "print(float(3.14))"
      ],
      "metadata": {
        "colab": {
          "base_uri": "https://localhost:8080/"
        },
        "id": "x-R07XVXDaVn",
        "outputId": "9138050a-c3b5-4a0b-9f8e-cb651e0179d3"
      },
      "execution_count": 74,
      "outputs": [
        {
          "output_type": "stream",
          "name": "stdout",
          "text": [
            "1.0\n",
            "0.0\n",
            "100.0\n",
            "3.14\n"
          ]
        }
      ]
    },
    {
      "cell_type": "code",
      "source": [
        "print(int(True))\n",
        "print(int(False))\n",
        "print(int(\"100\"))\n",
        "print(int(3.14))\n",
        "\n",
        "print(float(True))\n",
        "print(float(False))\n",
        "print(float(\"100\"))\n",
        "print(float(3.14))"
      ],
      "metadata": {
        "colab": {
          "base_uri": "https://localhost:8080/"
        },
        "id": "v2QGzPi_anlF",
        "outputId": "c65e36e9-9669-41df-c79f-f9bcfa8d91e6"
      },
      "execution_count": 167,
      "outputs": [
        {
          "output_type": "stream",
          "name": "stdout",
          "text": [
            "1\n",
            "0\n",
            "100\n",
            "3\n",
            "1.0\n",
            "0.0\n",
            "100.0\n",
            "3.14\n"
          ]
        }
      ]
    },
    {
      "cell_type": "code",
      "source": [
        "# 사칙연산 : + , * , / , // , % , **\n",
        "\n",
        "a = 10\n",
        "b = 2.3\n",
        "print(a + b)\n",
        "print(a*b)\n",
        "print(a / b)\n",
        "print(a // b)\n",
        "print(a % b)\n",
        "print(a ** b)"
      ],
      "metadata": {
        "colab": {
          "base_uri": "https://localhost:8080/"
        },
        "id": "D2OdwKW_E5Ps",
        "outputId": "15027bc3-5ff2-4dd3-dfb6-f9355e525e73"
      },
      "execution_count": 80,
      "outputs": [
        {
          "output_type": "stream",
          "name": "stdout",
          "text": [
            "12.3\n",
            "23.0\n",
            "4.347826086956522\n",
            "4.0\n",
            "0.8000000000000007\n",
            "199.52623149688787\n"
          ]
        }
      ]
    },
    {
      "cell_type": "code",
      "source": [
        "# 문자열\n",
        "string = '문자열'\n",
        "a = \"100\"\n",
        "\n",
        "print(string)\n",
        "print(a)"
      ],
      "metadata": {
        "colab": {
          "base_uri": "https://localhost:8080/"
        },
        "id": "rDdCd4YfFtzE",
        "outputId": "9c59c4ec-2e69-4cdc-fcaf-7114b302fc67"
      },
      "execution_count": 88,
      "outputs": [
        {
          "output_type": "stream",
          "name": "stdout",
          "text": [
            "문자열\n",
            "100\n"
          ]
        }
      ]
    },
    {
      "cell_type": "code",
      "source": [
        "a = 100\n",
        "b = 50\n",
        "print(a + b)\n",
        "a = \"100\"\n",
        "b = \"50\"\n",
        "print(a + b)"
      ],
      "metadata": {
        "colab": {
          "base_uri": "https://localhost:8080/"
        },
        "id": "mNTH2T2dGS5D",
        "outputId": "e7ff8a5d-7ddd-4c43-845b-b291ced7212a"
      },
      "execution_count": 100,
      "outputs": [
        {
          "output_type": "stream",
          "name": "stdout",
          "text": [
            "150\n",
            "10050\n"
          ]
        }
      ]
    },
    {
      "cell_type": "code",
      "source": [
        "a = \"100\"\n",
        "b = \"50\"\n",
        "print(int(a + b))\n",
        "print(float(a + b))"
      ],
      "metadata": {
        "colab": {
          "base_uri": "https://localhost:8080/"
        },
        "id": "QQ5iODPVG3ys",
        "outputId": "0a0469d3-e0c8-412d-9cb3-dd9e754f3567"
      },
      "execution_count": 102,
      "outputs": [
        {
          "output_type": "stream",
          "name": "stdout",
          "text": [
            "10050\n",
            "10050.0\n"
          ]
        }
      ]
    },
    {
      "cell_type": "code",
      "source": [
        "a = 40\n",
        "b = 50\n",
        "print(a + b)\n",
        "a = \"40\"\n",
        "b = \"50\"\n",
        "print(a + b)"
      ],
      "metadata": {
        "colab": {
          "base_uri": "https://localhost:8080/"
        },
        "id": "J0XuBij3cAeB",
        "outputId": "89173700-a2fe-41c7-f0f5-b876233b9efc"
      },
      "execution_count": 168,
      "outputs": [
        {
          "output_type": "stream",
          "name": "stdout",
          "text": [
            "90\n",
            "4050\n"
          ]
        }
      ]
    },
    {
      "cell_type": "code",
      "source": [
        "a = \"100\"\n",
        "b = \"50\"\n",
        "print(int(a))\n",
        "print(int(b))\n",
        "print(a)\n",
        "print(b)\n",
        "print(int(a+b))"
      ],
      "metadata": {
        "colab": {
          "base_uri": "https://localhost:8080/"
        },
        "id": "4Ucu4FSYM4Tk",
        "outputId": "59ef0b33-62f8-40ca-cdff-a69b74381425"
      },
      "execution_count": 127,
      "outputs": [
        {
          "output_type": "stream",
          "name": "stdout",
          "text": [
            "100\n",
            "50\n",
            "100\n",
            "50\n",
            "10050\n"
          ]
        }
      ]
    },
    {
      "cell_type": "code",
      "source": [
        "a = \"1000\"\n",
        "b = \"500\"\n",
        "print(int(a))\n",
        "print(int(b))\n",
        "print(int(a + b))"
      ],
      "metadata": {
        "colab": {
          "base_uri": "https://localhost:8080/"
        },
        "id": "Oo8VCsJNdA3M",
        "outputId": "69b40078-754a-4ecc-8d77-92133dea6c24"
      },
      "execution_count": 170,
      "outputs": [
        {
          "output_type": "stream",
          "name": "stdout",
          "text": [
            "1000\n",
            "500\n",
            "1000500\n"
          ]
        }
      ]
    },
    {
      "cell_type": "code",
      "source": [
        "input(\"인사말을 입력하세요\")"
      ],
      "metadata": {
        "colab": {
          "base_uri": "https://localhost:8080/",
          "height": 54
        },
        "id": "8LTf0ecHH16h",
        "outputId": "29166b04-d616-46d2-ccf1-4bdd9d5f4625"
      },
      "execution_count": 107,
      "outputs": [
        {
          "name": "stdout",
          "output_type": "stream",
          "text": [
            "인사말을 입력하세요안녕하세요\n"
          ]
        },
        {
          "output_type": "execute_result",
          "data": {
            "text/plain": [
              "'안녕하세요'"
            ],
            "application/vnd.google.colaboratory.intrinsic+json": {
              "type": "string"
            }
          },
          "metadata": {},
          "execution_count": 107
        }
      ]
    },
    {
      "cell_type": "code",
      "source": [
        "print(input())"
      ],
      "metadata": {
        "colab": {
          "base_uri": "https://localhost:8080/"
        },
        "id": "1uuhq8odeF5u",
        "outputId": "886c571a-98ec-433c-edca-a27af77d1cf7"
      },
      "execution_count": 175,
      "outputs": [
        {
          "output_type": "stream",
          "name": "stdout",
          "text": [
            "3\n",
            "3\n"
          ]
        }
      ]
    },
    {
      "cell_type": "code",
      "source": [
        "# input() 함수는 입력받은 데이터를 string으로 처리한다\n",
        "a = input()\n",
        "b = input()\n",
        "print(a + b)"
      ],
      "metadata": {
        "colab": {
          "base_uri": "https://localhost:8080/"
        },
        "id": "uXAYG-Q5H9Lk",
        "outputId": "37f4c3a3-cabe-458d-af01-5d90d3e9400e"
      },
      "execution_count": 176,
      "outputs": [
        {
          "output_type": "stream",
          "name": "stdout",
          "text": [
            "1\n",
            "7\n",
            "17\n"
          ]
        }
      ]
    },
    {
      "cell_type": "code",
      "source": [],
      "metadata": {
        "id": "M_3PUsMffDmt"
      },
      "execution_count": null,
      "outputs": []
    },
    {
      "cell_type": "code",
      "source": [
        "num1 = int(input(\"첫 번째 숫자\"))\n",
        "num2 = int(input(\"두 번째 숫자\"))\n",
        "\n",
        "print(num1 + num2)"
      ],
      "metadata": {
        "colab": {
          "base_uri": "https://localhost:8080/"
        },
        "id": "V2t-srOEIQIs",
        "outputId": "34f027ad-3717-42cf-fbe1-57ed70c45075"
      },
      "execution_count": 112,
      "outputs": [
        {
          "output_type": "stream",
          "name": "stdout",
          "text": [
            "첫 번째 숫자10\n",
            "두 번째 숫자30\n",
            "40\n"
          ]
        }
      ]
    },
    {
      "cell_type": "code",
      "source": [
        "num1 = int(input())\n",
        "num2 = int(input())\n",
        "print( num1 + num2)"
      ],
      "metadata": {
        "colab": {
          "base_uri": "https://localhost:8080/"
        },
        "id": "omwyE5P7oCIH",
        "outputId": "41e7656d-effe-4d83-fb4d-d02b52247288"
      },
      "execution_count": 201,
      "outputs": [
        {
          "output_type": "stream",
          "name": "stdout",
          "text": [
            "4\n",
            "8\n",
            "12\n"
          ]
        }
      ]
    },
    {
      "cell_type": "code",
      "source": [
        "n1 = int(input())\n",
        "n2 = int(input())\n",
        "print(int(n1 + n2))"
      ],
      "metadata": {
        "colab": {
          "base_uri": "https://localhost:8080/"
        },
        "id": "1ykfu5YkftOU",
        "outputId": "85b697b7-562c-4bf8-d522-751bd71b860d"
      },
      "execution_count": 177,
      "outputs": [
        {
          "output_type": "stream",
          "name": "stdout",
          "text": [
            "4\n",
            "6\n",
            "10\n"
          ]
        }
      ]
    },
    {
      "cell_type": "code",
      "source": [
        "num1 = float(input())\n",
        "num2 = float(input())\n",
        "print( num1 + num2)"
      ],
      "metadata": {
        "colab": {
          "base_uri": "https://localhost:8080/"
        },
        "id": "C3hUHrdeOX52",
        "outputId": "d796aba1-ef25-4afb-aafd-670f463e9274"
      },
      "execution_count": 134,
      "outputs": [
        {
          "output_type": "stream",
          "name": "stdout",
          "text": [
            "3.5\n",
            "5.6\n",
            "9.1\n"
          ]
        }
      ]
    },
    {
      "cell_type": "code",
      "source": [
        "num1 = float(input())\n",
        "num2 = float(input())\n",
        "\n",
        "print(num1 + num2)"
      ],
      "metadata": {
        "colab": {
          "base_uri": "https://localhost:8080/"
        },
        "id": "LYi9xZUrojNu",
        "outputId": "9f2f8d27-c96a-4fda-de66-db2fddab53b8"
      },
      "execution_count": 203,
      "outputs": [
        {
          "output_type": "stream",
          "name": "stdout",
          "text": [
            "3.63\n",
            "6.31\n",
            "9.94\n"
          ]
        }
      ]
    },
    {
      "cell_type": "code",
      "source": [
        "n1 = float(input())\n",
        "n2 = float(input())\n",
        "print(float(n1 + n2))"
      ],
      "metadata": {
        "colab": {
          "base_uri": "https://localhost:8080/"
        },
        "id": "RMjQPZCygAw_",
        "outputId": "de0838de-2bd5-4325-d479-ad7c5c8f20bf"
      },
      "execution_count": 178,
      "outputs": [
        {
          "output_type": "stream",
          "name": "stdout",
          "text": [
            "3.5\n",
            "6.6\n",
            "10.1\n"
          ]
        }
      ]
    },
    {
      "cell_type": "code",
      "source": [
        "# 실수 + 실수 -> 실수\n",
        "#3과 3.3을 입력하고 숫자 연산을 수행하여 6.3을 출력하세요\n",
        "\n",
        "a = 3\n",
        "b = 3.3\n",
        "\n",
        "print(float(a))\n",
        "print(float(b))\n",
        "print(a + b)"
      ],
      "metadata": {
        "colab": {
          "base_uri": "https://localhost:8080/"
        },
        "id": "zV6FBeM8JBXw",
        "outputId": "1452c19b-9096-45b4-8085-dc5f0c93407f"
      },
      "execution_count": 200,
      "outputs": [
        {
          "output_type": "stream",
          "name": "stdout",
          "text": [
            "3.0\n",
            "3.3\n",
            "6.3\n"
          ]
        }
      ]
    },
    {
      "cell_type": "code",
      "source": [
        "a1 = 3\n",
        "b1 = 3.3\n",
        "print(float(a1))\n",
        "print(float(b1))\n",
        "print(a1 +b1)"
      ],
      "metadata": {
        "colab": {
          "base_uri": "https://localhost:8080/"
        },
        "id": "zMSjLIdygSI7",
        "outputId": "b55f87f9-03de-4708-f81a-5060f481971e"
      },
      "execution_count": 181,
      "outputs": [
        {
          "output_type": "stream",
          "name": "stdout",
          "text": [
            "3.0\n",
            "3.3\n",
            "6.3\n"
          ]
        }
      ]
    },
    {
      "cell_type": "code",
      "source": [
        "a = float(input())\n",
        "b = float(input())\n",
        "print(a + b)"
      ],
      "metadata": {
        "colab": {
          "base_uri": "https://localhost:8080/"
        },
        "id": "XX8KMftbKwpQ",
        "outputId": "0faf0f60-36b3-44a4-c376-15a84d79fccd"
      },
      "execution_count": 120,
      "outputs": [
        {
          "output_type": "stream",
          "name": "stdout",
          "text": [
            "3\n",
            "3.3\n",
            "6.3\n"
          ]
        }
      ]
    },
    {
      "cell_type": "code",
      "source": [
        "a = 3.6\n",
        "b = 10\n",
        "print(input())"
      ],
      "metadata": {
        "colab": {
          "base_uri": "https://localhost:8080/"
        },
        "id": "ar4c1GoaLqkw",
        "outputId": "eb96dce7-d064-42d9-9cfb-374ed40621c3"
      },
      "execution_count": 121,
      "outputs": [
        {
          "output_type": "stream",
          "name": "stdout",
          "text": [
            "3\n"
          ]
        }
      ]
    },
    {
      "cell_type": "code",
      "source": [
        "#   Q. a = 52와 b = 52.273일때 a + b 는 5252.273으로 출력되도록 a 와 b 를 문자열 자료형으로 변환하세요.\n",
        "\n",
        "a = 52\n",
        "b = 5252.273\n",
        "a = str(a)\n",
        "b= str(b)\n",
        "print(a + b)"
      ],
      "metadata": {
        "colab": {
          "base_uri": "https://localhost:8080/"
        },
        "id": "1U2s39KYNeOw",
        "outputId": "16136bdf-038e-403f-c617-23522e32d2c1"
      },
      "execution_count": 132,
      "outputs": [
        {
          "output_type": "stream",
          "name": "stdout",
          "text": [
            "525252.273\n"
          ]
        }
      ]
    },
    {
      "cell_type": "code",
      "source": [
        "a1 = 52\n",
        "b1 = 52.272\n",
        "a1 = str(a1)\n",
        "b1 = str(b1)\n",
        "print(a1+ b1)"
      ],
      "metadata": {
        "colab": {
          "base_uri": "https://localhost:8080/"
        },
        "id": "wbPCgW4PgzbK",
        "outputId": "2bafce51-b05a-4636-a880-fb8185870f26"
      },
      "execution_count": 189,
      "outputs": [
        {
          "output_type": "stream",
          "name": "stdout",
          "text": [
            "5252.272\n"
          ]
        }
      ]
    },
    {
      "cell_type": "code",
      "source": [
        "# 문자열 : \"\" , '' , \"\"\" \"\"\" , ''' '''\n",
        "# p1 = 'python's value is great'\n",
        "p1 = \"python's value is great\"\n",
        "print(p1)"
      ],
      "metadata": {
        "colab": {
          "base_uri": "https://localhost:8080/"
        },
        "id": "5f54EhelOtXj",
        "outputId": "77b541fc-c2fd-495c-bd8d-f8c5a27a750f"
      },
      "execution_count": 135,
      "outputs": [
        {
          "output_type": "stream",
          "name": "stdout",
          "text": [
            "python's value is great\n"
          ]
        }
      ]
    },
    {
      "cell_type": "code",
      "source": [
        "# 백슬래시 (w) 는 문자열 안에서 작은따옴표(')를 문자열의 끝을 의미하지 않는 일반 문자로 포함시키기 위해 사용\n",
        "# 이 기술을 이스케이프라고 한다\n",
        "p1 = 'python\\'s value is great'\n",
        "print(p1)"
      ],
      "metadata": {
        "colab": {
          "base_uri": "https://localhost:8080/"
        },
        "id": "lVZc-ePKPswq",
        "outputId": "fc332a31-6949-470b-8451-af8f77a2f6ca"
      },
      "execution_count": 137,
      "outputs": [
        {
          "output_type": "stream",
          "name": "stdout",
          "text": [
            "python's value is great\n"
          ]
        }
      ]
    },
    {
      "cell_type": "code",
      "source": [
        "# \\n 행 바꿈\n",
        "# y1 = \"Once you study date analysis you Python\"\n",
        "y1 =  \"Once you study date analysis\\nyou Python\"\n",
        "print(y1)"
      ],
      "metadata": {
        "colab": {
          "base_uri": "https://localhost:8080/"
        },
        "id": "I7WAp-FLRF-O",
        "outputId": "2f2886e0-f0c2-4f03-98ea-a0284832687b"
      },
      "execution_count": 146,
      "outputs": [
        {
          "output_type": "stream",
          "name": "stdout",
          "text": [
            "Once you study date analysis\n",
            "you Python\n"
          ]
        }
      ]
    },
    {
      "cell_type": "code",
      "source": [
        "y2 = '''\n",
        "Once you study data analysis\n",
        "you need Python\n",
        "'''\n",
        "\n",
        "y3 = \"\"\"\n",
        "Once you study data analysis\n",
        "you need Python\n",
        "\"\"\"\n",
        "print(y2)\n",
        "print(y3)"
      ],
      "metadata": {
        "colab": {
          "base_uri": "https://localhost:8080/"
        },
        "id": "6hY_Rpq_SFy6",
        "outputId": "fd246242-09a8-4ef6-94aa-e67fb0103edb"
      },
      "execution_count": 150,
      "outputs": [
        {
          "output_type": "stream",
          "name": "stdout",
          "text": [
            "\n",
            "Once you study data analysis\n",
            "you need Python\n",
            "\n",
            "\n",
            "Once you study data analysis\n",
            "you need Python\n",
            "\n"
          ]
        }
      ]
    },
    {
      "cell_type": "code",
      "source": [
        "a1 = 'Python'\n",
        "a2 = ' is easy to learn'\n",
        "print( a1 + a2)\n",
        "print(\"=\" * 23)\n",
        "\n"
      ],
      "metadata": {
        "colab": {
          "base_uri": "https://localhost:8080/"
        },
        "id": "VLCD7DFUTagY",
        "outputId": "b22b8204-8e9f-4d1e-b87e-51d6f715146e"
      },
      "execution_count": 151,
      "outputs": [
        {
          "output_type": "stream",
          "name": "stdout",
          "text": [
            "Python is easy to learn\n",
            "=======================\n"
          ]
        }
      ]
    },
    {
      "cell_type": "code",
      "source": [
        "# Q. 아래와 같이 출력할 수 있는 string을 만드세요\n",
        "\n",
        "\"what a wonderful world!\"\n",
        "\n",
        "a1 = \"what\"\n",
        "a2 = \" a wonderful world!\"\n",
        "print(a1 + a2)\n",
        "\n",
        "string = '''\n",
        "\"what a wonderful world!\"\n",
        "he said loudly\n",
        "'''\n",
        "print(string)\n",
        "\n"
      ],
      "metadata": {
        "colab": {
          "base_uri": "https://localhost:8080/"
        },
        "id": "A1Of6jpBUMSK",
        "outputId": "57488a6c-7292-4a0d-a6d5-5912d3d6035c"
      },
      "execution_count": 156,
      "outputs": [
        {
          "output_type": "stream",
          "name": "stdout",
          "text": [
            "what a wonderful world!\n",
            "\n",
            "\"what a wonderful world!\"\n",
            "he said loudly\n",
            "\n"
          ]
        }
      ]
    },
    {
      "cell_type": "code",
      "source": [
        "# Q. 아래와 같이 출력할 수 있는 string을 만드세요\n",
        "\n",
        "# \"he said loudly\"\n",
        "\n",
        "string = '''\n",
        "he said loudly\n",
        "'''\n",
        "print(string)"
      ],
      "metadata": {
        "colab": {
          "base_uri": "https://localhost:8080/"
        },
        "id": "uv3YX-eniTjs",
        "outputId": "db1679a2-0f3c-446a-8084-bf2bbdd1f435"
      },
      "execution_count": 199,
      "outputs": [
        {
          "output_type": "stream",
          "name": "stdout",
          "text": [
            "\n",
            "he said loudly\n",
            "\n"
          ]
        }
      ]
    },
    {
      "cell_type": "code",
      "source": [
        "# Q. 다른 타입의 숫자 2개를 입력받아 큰 수를 출력하세요\n",
        "\n",
        "n1 = int(input())\n",
        "n2 = int(input())\n",
        "\n",
        "if n1 > n2:\n",
        "    print(n1)\n",
        "\n",
        "elif n1 < n2:\n",
        "    print(n2)\n",
        "\n",
        "else:\n",
        "\n",
        "    print(\"큰수가 없습니다.\")"
      ],
      "metadata": {
        "colab": {
          "base_uri": "https://localhost:8080/"
        },
        "id": "Qd0P-NHVVRRy",
        "outputId": "68cf678f-4931-4161-de4f-696beca20385"
      },
      "execution_count": 161,
      "outputs": [
        {
          "output_type": "stream",
          "name": "stdout",
          "text": [
            "4\n",
            "10\n",
            "10\n"
          ]
        }
      ]
    },
    {
      "cell_type": "code",
      "source": [
        "# 자료형  = List\n",
        "# 리스트는 [] 로 표시하며 [] 안의 요소를 콤마로 구분하여 순서있게 나열\n",
        "\n",
        "list1 = [1,2,3,4,5]\n",
        "list2 = ['a' , 'b' , 'c' , 'd']\n",
        "list3 = [1, 'a' , 'abc' , [1,2,3,4,5], ['a' , 'b' , 'c']]\n",
        "print(list1)\n",
        "print(list2)\n",
        "print(list3)"
      ],
      "metadata": {
        "colab": {
          "base_uri": "https://localhost:8080/"
        },
        "id": "nrPm0FtKW9Tz",
        "outputId": "48736365-db1c-4369-fad7-0c45a786a2bf"
      },
      "execution_count": 165,
      "outputs": [
        {
          "output_type": "stream",
          "name": "stdout",
          "text": [
            "[1, 2, 3, 4, 5]\n",
            "['a', 'b', 'c', 'd']\n",
            "[1, 'a', 'abc', [1, 2, 3, 4, 5], ['a', 'b', 'c']]\n"
          ]
        }
      ]
    },
    {
      "cell_type": "code",
      "source": [
        "# 인덱싱\n",
        "\n",
        "list1 = [1,2,3,4,5]\n",
        "\n",
        "print(list1[2])\n",
        "print(list1[0:2])\n",
        "print(list1[:4])"
      ],
      "metadata": {
        "colab": {
          "base_uri": "https://localhost:8080/"
        },
        "id": "J6yHUK8SpfW1",
        "outputId": "da9bb739-b1ae-41ab-c0f5-2c957f34c5d7"
      },
      "execution_count": 212,
      "outputs": [
        {
          "output_type": "stream",
          "name": "stdout",
          "text": [
            "3\n",
            "[1, 2]\n",
            "[1, 2, 3, 4]\n"
          ]
        }
      ]
    },
    {
      "cell_type": "code",
      "source": [
        "list3 = [1, 'a', 'abc', [1, 2, 3, 4, 5], ['a', 'b', 'c']]\n",
        "\n",
        "print(list3[3][2])\n",
        "print(list3[4][0])"
      ],
      "metadata": {
        "colab": {
          "base_uri": "https://localhost:8080/"
        },
        "id": "6M6VFd1xquKe",
        "outputId": "776371e6-a976-49f0-e6c9-48e1154c1ba3"
      },
      "execution_count": 225,
      "outputs": [
        {
          "output_type": "stream",
          "name": "stdout",
          "text": [
            "3\n",
            "a\n"
          ]
        }
      ]
    },
    {
      "cell_type": "code",
      "source": [
        "# 리스트 수정 , 삭제\n",
        "\n",
        "a = [0,1,2,3,4,5,6,7,8,9,]\n",
        "b = ['a' , 'b' , 'c']\n",
        "a[0] = 1\n",
        "print(a)\n",
        "b[1] = 'a'\n",
        "print(b)\n",
        "del a[0]\n",
        "print(a)\n",
        "del b[1]\n",
        "print(b)"
      ],
      "metadata": {
        "colab": {
          "base_uri": "https://localhost:8080/"
        },
        "id": "aVXxQzYZrhgz",
        "outputId": "8de064de-fc97-4e7d-c89d-f41ecc0e8b12"
      },
      "execution_count": 223,
      "outputs": [
        {
          "output_type": "stream",
          "name": "stdout",
          "text": [
            "[1, 1, 2, 3, 4, 5, 6, 7, 8, 9]\n",
            "['a', 'a', 'c']\n",
            "[1, 2, 3, 4, 5, 6, 7, 8, 9]\n",
            "['a', 'c']\n"
          ]
        }
      ]
    },
    {
      "cell_type": "code",
      "source": [
        "# 끝에서 부터 인덱싱 : -1\n",
        "\n",
        "a = [0,1,2,3,4,5,6,7,8,9]\n",
        "b = ['a' , 'b' , 'c']\n",
        "print(a[-2])\n",
        "print(a[-4:])\n",
        "print(a[-10:-1])\n",
        "print(a[-9:])"
      ],
      "metadata": {
        "colab": {
          "base_uri": "https://localhost:8080/"
        },
        "id": "BlK2jYwHsuLS",
        "outputId": "7d28eb76-53c1-46d1-cc79-8413ac147929"
      },
      "execution_count": 242,
      "outputs": [
        {
          "output_type": "stream",
          "name": "stdout",
          "text": [
            "8\n",
            "[6, 7, 8, 9]\n",
            "[0, 1, 2, 3, 4, 5, 6, 7, 8]\n",
            "[1, 2, 3, 4, 5, 6, 7, 8, 9]\n"
          ]
        }
      ]
    },
    {
      "cell_type": "code",
      "source": [
        "# 리스트 확장\n",
        "\n",
        "h = [1,2,3]\n",
        "h.extend([4,5]) # 반복 가능한 객체의 모든 요소를 리스트에 추가\n",
        "print(h)\n",
        "h.append(6) # 단일 객체를 추가\n",
        "print(h)\n",
        "h.insert(0,5)\n",
        "print(h)"
      ],
      "metadata": {
        "colab": {
          "base_uri": "https://localhost:8080/"
        },
        "id": "KdZif1FKt2vS",
        "outputId": "507b1922-634e-4d8c-ff4d-4b54022e7543"
      },
      "execution_count": 236,
      "outputs": [
        {
          "output_type": "stream",
          "name": "stdout",
          "text": [
            "[1, 2, 3, 4, 5]\n",
            "[1, 2, 3, 4, 5, 6]\n",
            "[5, 1, 2, 3, 4, 5, 6]\n"
          ]
        }
      ]
    },
    {
      "cell_type": "markdown",
      "source": [
        "Q. list1에서 다음을 수행하세요\n",
        "- 33을 출력\n",
        "- 82를 리스트에 추가\n",
        "- 87의 인덱스 구하기 - 도전\n",
        "- 인덱스 3에서 10까지의 값을 출력하고 list2에 저장한 후 내림차순 정렬하기 - 도전\n",
        "- 39를 11로 변경\n",
        "- [69,45,58] 출력\n",
        "- 짝수 인덱스의 값으로 구성된 리스트 출력하기\n",
        "- 인덱스가 가장 큰수를 삭제하기\n",
        "- 인덱스 3, 5인 값으로 4칙 연산하기\n",
        "\n",
        "list1 = [58, 45, 69, 19,  4, 87, 29, 13, 39, 15, 54, [8, 33, 11], 27, 49, 63, 98, 22, 82]"
      ],
      "metadata": {
        "id": "75Q9e6ssv8G_"
      }
    },
    {
      "cell_type": "code",
      "source": [
        "list1 = [58, 45, 69, 19, 4, 87, 29, 13, 39, 15, 54, [8, 33, 11], 27, 49, 63, 98, 22, 82]\n",
        "\n",
        "print(list1[11][1])\n",
        "list1.append(82)"
      ],
      "metadata": {
        "colab": {
          "base_uri": "https://localhost:8080/"
        },
        "id": "KIePyVx_v9Nc",
        "outputId": "e393c2fb-4296-44dc-e83c-cb5fd73ecefd"
      },
      "execution_count": 306,
      "outputs": [
        {
          "output_type": "stream",
          "name": "stdout",
          "text": [
            "33\n"
          ]
        }
      ]
    },
    {
      "cell_type": "code",
      "source": [
        "#=======================================================================================\n",
        "list1 = [58, 45, 69, 19, 4, 87, 29, 13, 39, 15, 54, [8, 33, 11], 27, 49, 63, 98, 22, 82]\n",
        "\n",
        "print(list1[11][1],'\\n')\n",
        "list1.append(82)\n",
        "print(list1.index(87),'\\n')\n",
        "list2 = list1[3:11]\n",
        "list2.sort(reverse=True)\n",
        "print(list2,'\\n')\n",
        "list1[8] = 11\n",
        "print(list1[2::-1],'\\n')\n",
        "print(list1[0::2],'\\n')\n",
        "del list1[-1]\n",
        "print(list1,'\\n')"
      ],
      "metadata": {
        "colab": {
          "base_uri": "https://localhost:8080/"
        },
        "id": "ebdLuN5-5bf4",
        "outputId": "ff72ee6b-93ff-40d8-8a8b-95a6c82d6d2d"
      },
      "execution_count": 301,
      "outputs": [
        {
          "output_type": "stream",
          "name": "stdout",
          "text": [
            "33 \n",
            "\n",
            "5 \n",
            "\n",
            "[87, 54, 39, 29, 19, 15, 13, 4] \n",
            "\n",
            "[69, 45, 58] \n",
            "\n",
            "[58, 69, 4, 29, 11, 54, 27, 63, 22, 82] \n",
            "\n",
            "[58, 45, 69, 19, 4, 87, 29, 13, 11, 15, 54, [8, 33, 11], 27, 49, 63, 98, 22, 82] \n",
            "\n"
          ]
        }
      ]
    },
    {
      "cell_type": "code",
      "source": [
        "list1 = [58, 45, 69, 19, 4, 87, 29, 13, 39, 15, 54, [8, 33, 11], 27, 49, 63, 98, 22, 82]\n",
        "\n",
        "print(list1,'\\n')\n",
        "print(list1[6::-1])\n",
        "print(list1[6::2])\n",
        "print(list1[6::-2])\n",
        "print(list1[::-1])\n",
        "print(list1[:3])"
      ],
      "metadata": {
        "colab": {
          "base_uri": "https://localhost:8080/"
        },
        "id": "QQnlkQNx3mhl",
        "outputId": "ad5862b2-9d0c-4a91-e2c6-1f216bd2401c"
      },
      "execution_count": 315,
      "outputs": [
        {
          "output_type": "stream",
          "name": "stdout",
          "text": [
            "[58, 45, 69, 19, 4, 87, 29, 13, 39, 15, 54, [8, 33, 11], 27, 49, 63, 98, 22, 82] \n",
            "\n",
            "[29, 87, 4, 19, 69, 45, 58]\n",
            "[29, 39, 54, 27, 63, 22]\n",
            "[29, 4, 69, 58]\n",
            "[82, 22, 98, 63, 49, 27, [8, 33, 11], 54, 15, 39, 13, 29, 87, 4, 19, 69, 45, 58]\n",
            "[58, 45, 69]\n"
          ]
        }
      ]
    },
    {
      "cell_type": "code",
      "source": [
        "# sort()\n",
        "\n",
        "my_list = [3,1,2]\n",
        "my_list.sort()\n",
        "print(my_list)\n",
        "\n",
        "# sorted\n",
        "\n",
        "my_tuple = (3,1,2)\n",
        "new_list = sorted(my_tuple)\n",
        "print(my_tuple)\n",
        "print(new_list)"
      ],
      "metadata": {
        "colab": {
          "base_uri": "https://localhost:8080/"
        },
        "id": "KBZnJ1ikA512",
        "outputId": "c2e69040-6c35-486e-e8b5-a14c68f19e56"
      },
      "execution_count": 359,
      "outputs": [
        {
          "output_type": "stream",
          "name": "stdout",
          "text": [
            "[1, 2, 3]\n",
            "(3, 1, 2)\n",
            "[1, 2, 3]\n"
          ]
        }
      ]
    },
    {
      "cell_type": "code",
      "source": [
        "my_list = [6,8,1,5,3,4]\n",
        "my_list.sort()\n",
        "print(my_list)"
      ],
      "metadata": {
        "colab": {
          "base_uri": "https://localhost:8080/"
        },
        "id": "d6VXeXoPS1R0",
        "outputId": "9f439a0b-f733-453b-e3cb-6d72b2d16242"
      },
      "execution_count": 360,
      "outputs": [
        {
          "output_type": "stream",
          "name": "stdout",
          "text": [
            "[1, 3, 4, 5, 6, 8]\n"
          ]
        }
      ]
    },
    {
      "cell_type": "code",
      "source": [
        "my_list = [3,1,2]\n",
        "my_list.sort()\n",
        "print(my_list)\n",
        "\n",
        "my_tuple = [3,1,2]\n",
        "new_list = sorted(my_tuple)\n",
        "print(my_tuple)\n",
        "print(new_list)"
      ],
      "metadata": {
        "colab": {
          "base_uri": "https://localhost:8080/"
        },
        "id": "hLLGCgLzBgmt",
        "outputId": "961a7672-4728-42e9-abf3-cd2ebaf239ec"
      },
      "execution_count": 329,
      "outputs": [
        {
          "output_type": "stream",
          "name": "stdout",
          "text": [
            "[1, 2, 3]\n",
            "[3, 1, 2]\n",
            "[1, 2, 3]\n"
          ]
        }
      ]
    },
    {
      "cell_type": "code",
      "source": [
        "my_list = [3,1,2]\n",
        "my_list.sort()\n",
        "print(my_list)"
      ],
      "metadata": {
        "colab": {
          "base_uri": "https://localhost:8080/"
        },
        "id": "ypfAJLZ4T1yH",
        "outputId": "d9a0ab73-db59-4918-bc45-67d57cc28b16"
      },
      "execution_count": 361,
      "outputs": [
        {
          "output_type": "stream",
          "name": "stdout",
          "text": [
            "[1, 2, 3]\n"
          ]
        }
      ]
    },
    {
      "cell_type": "code",
      "source": [
        "list = [5,6,9,7,8]\n",
        "new_list = list.sort()\n",
        "print(list)\n",
        "print(new_list)\n",
        "\n",
        "list = [4,3,6,7,1]\n",
        "new_list = list.sort()\n",
        "print(list)\n",
        "print(new_list)\n",
        "\n",
        "list = [8,4,6,2,5]\n",
        "new_list = list.sort()\n",
        "print(list)\n",
        "print(new_list)"
      ],
      "metadata": {
        "colab": {
          "base_uri": "https://localhost:8080/"
        },
        "id": "N3U2vW9G9s7q",
        "outputId": "d3dbb661-fb9c-4b00-e3c8-2518fbf7bbca"
      },
      "execution_count": 352,
      "outputs": [
        {
          "output_type": "stream",
          "name": "stdout",
          "text": [
            "[5, 6, 7, 8, 9]\n",
            "None\n",
            "[1, 3, 4, 6, 7]\n",
            "None\n",
            "[2, 4, 5, 6, 8]\n",
            "None\n"
          ]
        }
      ]
    },
    {
      "cell_type": "code",
      "source": [
        "my_tuple = [5,3,1,7,9]\n",
        "new_list = sorted(my_tuple)\n",
        "print(my_tuple)\n",
        "print(new_list)"
      ],
      "metadata": {
        "colab": {
          "base_uri": "https://localhost:8080/"
        },
        "id": "TpTdr_NEVHx6",
        "outputId": "5412b6e2-7708-4e0d-e75a-cce9f5d5106a"
      },
      "execution_count": 365,
      "outputs": [
        {
          "output_type": "stream",
          "name": "stdout",
          "text": [
            "[5, 3, 1, 7, 9]\n",
            "[1, 3, 5, 7, 9]\n"
          ]
        }
      ]
    },
    {
      "cell_type": "code",
      "source": [
        "list = [5,6,9,7,8]\n",
        "new_list = sorted(list)\n",
        "print(list)\n",
        "print(new_list)\n",
        "\n",
        "list = [1,4,2,6]\n",
        "new_list = sorted(list)\n",
        "print(list)\n",
        "print(new_list)\n",
        "\n",
        "list = [5,6,9,7,8]\n",
        "new_list = sorted(list)\n",
        "print(new_list)"
      ],
      "metadata": {
        "colab": {
          "base_uri": "https://localhost:8080/"
        },
        "id": "O0MK-ObsE7bO",
        "outputId": "f4ecf21a-973c-4c6a-ce96-37acd92200fa"
      },
      "execution_count": 353,
      "outputs": [
        {
          "output_type": "stream",
          "name": "stdout",
          "text": [
            "[5, 6, 9, 7, 8]\n",
            "[5, 6, 7, 8, 9]\n",
            "[1, 4, 2, 6]\n",
            "[1, 2, 4, 6]\n",
            "[5, 6, 7, 8, 9]\n"
          ]
        }
      ]
    },
    {
      "cell_type": "code",
      "source": [
        "list1 = [58, 45, 69, 19, 4, 87, 29, 13, 39, 15, 54, [8, 33, 11], 27, 49, 63, 98, 22, 82]\n",
        "list2 = list[3:11]\n",
        "list_sort = sorted(list2,reverse = True)\n",
        "list_sort\n",
        "\n"
      ],
      "metadata": {
        "colab": {
          "base_uri": "https://localhost:8080/"
        },
        "id": "KZEMLAPuF8lj",
        "outputId": "696080f5-72ba-4bc0-b8c1-ce62ce124845"
      },
      "execution_count": 347,
      "outputs": [
        {
          "output_type": "execute_result",
          "data": {
            "text/plain": [
              "[6]"
            ]
          },
          "metadata": {},
          "execution_count": 347
        }
      ]
    },
    {
      "cell_type": "code",
      "source": [
        "list3 = list1[3:11]\n",
        "list3.sort(reverse = True)\n",
        "print(list3)"
      ],
      "metadata": {
        "colab": {
          "base_uri": "https://localhost:8080/"
        },
        "id": "4dPDHj1dGx7i",
        "outputId": "4a48ff31-0c65-492c-f5f3-b07e8aa24bf4"
      },
      "execution_count": 346,
      "outputs": [
        {
          "output_type": "stream",
          "name": "stdout",
          "text": [
            "[87, 54, 39, 29, 19, 15, 13, 4]\n"
          ]
        }
      ]
    },
    {
      "cell_type": "code",
      "source": [],
      "metadata": {
        "id": "FpwOwA3xHHPI"
      },
      "execution_count": null,
      "outputs": []
    },
    {
      "cell_type": "code",
      "source": [
        "import keyword\n",
        "print(keyword.kwlist, 'wn')\n",
        "len(keyword.kwlist)/"
      ],
      "metadata": {
        "colab": {
          "base_uri": "https://localhost:8080/",
          "height": 110
        },
        "id": "MA8iiCgAJAXO",
        "outputId": "c747a395-4ee3-413d-facd-e846987ae0d1"
      },
      "execution_count": null,
      "outputs": [
        {
          "output_type": "error",
          "ename": "SyntaxError",
          "evalue": "invalid syntax (<ipython-input-20-3dd68e45bd3d>, line 3)",
          "traceback": [
            "\u001b[0;36m  File \u001b[0;32m\"<ipython-input-20-3dd68e45bd3d>\"\u001b[0;36m, line \u001b[0;32m3\u001b[0m\n\u001b[0;31m    len(keyword.kwlist)/\u001b[0m\n\u001b[0m                        ^\u001b[0m\n\u001b[0;31mSyntaxError\u001b[0m\u001b[0;31m:\u001b[0m invalid syntax\n"
          ]
        }
      ]
    },
    {
      "cell_type": "markdown",
      "source": [
        "파이썬은 snake_case 와 CamelCase를 모두 사용\n",
        "\n",
        "- itemlist: item_list itemList\n",
        "- loginstatus : login_status loginStatus\n",
        "- 캐멀 케이스(대문자로 시작)클래스\n",
        "- 스네이크 케이스(소문자로 시작)뒤에 ()가 있다 - 함수\n",
        "- 스네이크 케이스(소문자로 시작)뒤에 ()가 없다 - 변수"
      ],
      "metadata": {
        "id": "PshNJk9I7Ndf"
      }
    },
    {
      "cell_type": "code",
      "source": [
        "1 alpha\n",
        "2 break # 키워드\n",
        "3 alpha10\n",
        "4 _alpha\n",
        "5 273alpha # 숫자\n",
        "6 Alpha\n",
        "7 ALPHA\n",
        "8 has space # 공백"
      ],
      "metadata": {
        "colab": {
          "base_uri": "https://localhost:8080/",
          "height": 110
        },
        "id": "pbG9GLl-Jb0P",
        "outputId": "cc43290c-9abd-4c75-b8b3-cb76cc0f6194"
      },
      "execution_count": null,
      "outputs": [
        {
          "output_type": "error",
          "ename": "SyntaxError",
          "evalue": "invalid decimal literal (<ipython-input-25-d77fb38daf42>, line 5)",
          "traceback": [
            "\u001b[0;36m  File \u001b[0;32m\"<ipython-input-25-d77fb38daf42>\"\u001b[0;36m, line \u001b[0;32m5\u001b[0m\n\u001b[0;31m    5 273alpha # 숫자\u001b[0m\n\u001b[0m        ^\u001b[0m\n\u001b[0;31mSyntaxError\u001b[0m\u001b[0;31m:\u001b[0m invalid decimal literal\n"
          ]
        }
      ]
    },
    {
      "cell_type": "code",
      "source": [
        "1 # !기호는 Colab 셀에서 Unix / Linux 셀 명령어를 실행\n",
        "!python --version\n"
      ],
      "metadata": {
        "colab": {
          "base_uri": "https://localhost:8080/"
        },
        "id": "aP5wPXNkBS09",
        "outputId": "e1ca1a12-3fba-496c-dd75-da4e5074a217"
      },
      "execution_count": null,
      "outputs": [
        {
          "output_type": "stream",
          "name": "stdout",
          "text": [
            "Python 3.10.12\n"
          ]
        }
      ]
    },
    {
      "cell_type": "code",
      "source": [
        "1 # % 기호는 IPyhon 환경( 즉 , Colab이 포함된 Jupyter 환경) 에서 제공하는 매직명령어를 사용\n",
        "2 # 현재폴더 확인"
      ],
      "metadata": {
        "id": "uTA8Pyj6CeEr"
      },
      "execution_count": null,
      "outputs": []
    },
    {
      "cell_type": "code",
      "source": [
        "1. %%time\n",
        "2. # 간단한 for 루프를 사용한 계산\n",
        "3. sum = 0\n",
        "4. for i in range(100000):\n",
        "5. sum += i\n",
        "6. print(sum)\n",
        "7."
      ],
      "metadata": {
        "colab": {
          "base_uri": "https://localhost:8080/",
          "height": 110
        },
        "id": "1xx9hIJzClsl",
        "outputId": "fe9a0302-7e70-43f4-f2eb-b6ffa34589f9"
      },
      "execution_count": null,
      "outputs": [
        {
          "output_type": "error",
          "ename": "SyntaxError",
          "evalue": "invalid syntax (<ipython-input-14-1b4de814eec6>, line 1)",
          "traceback": [
            "\u001b[0;36m  File \u001b[0;32m\"<ipython-input-14-1b4de814eec6>\"\u001b[0;36m, line \u001b[0;32m1\u001b[0m\n\u001b[0;31m    1 %%time\u001b[0m\n\u001b[0m       ^\u001b[0m\n\u001b[0;31mSyntaxError\u001b[0m\u001b[0;31m:\u001b[0m invalid syntax\n"
          ]
        }
      ]
    },
    {
      "cell_type": "code",
      "source": [
        "1 # 연산자\n",
        "2 a = 5\n",
        "3 b = 3\n",
        "4 c = b % a\n",
        "5 d = b // a\n",
        "6 e = b / a\n",
        "7 print(c)\n",
        "8 print(d)\n",
        "9 print(e)"
      ],
      "metadata": {
        "colab": {
          "base_uri": "https://localhost:8080/",
          "height": 111
        },
        "id": "K9NU5PVf_fVz",
        "outputId": "add7d0d6-a895-48eb-b769-3b109ebb6b4b"
      },
      "execution_count": 43,
      "outputs": [
        {
          "output_type": "error",
          "ename": "SyntaxError",
          "evalue": "invalid syntax (<ipython-input-43-94b272092584>, line 2)",
          "traceback": [
            "\u001b[0;36m  File \u001b[0;32m\"<ipython-input-43-94b272092584>\"\u001b[0;36m, line \u001b[0;32m2\u001b[0m\n\u001b[0;31m    2 a = 5\u001b[0m\n\u001b[0m      ^\u001b[0m\n\u001b[0;31mSyntaxError\u001b[0m\u001b[0;31m:\u001b[0m invalid syntax\n"
          ]
        }
      ]
    },
    {
      "cell_type": "code",
      "source": [
        "a = 1\n",
        "b = 2\n",
        "c = a + b\n",
        "print(c)"
      ],
      "metadata": {
        "colab": {
          "base_uri": "https://localhost:8080/"
        },
        "id": "r-qrzwxUzQnw",
        "outputId": "71b1032e-7635-4848-caf4-c3dab8b792bc"
      },
      "execution_count": null,
      "outputs": [
        {
          "output_type": "stream",
          "name": "stdout",
          "text": [
            "3\n"
          ]
        }
      ]
    },
    {
      "cell_type": "code",
      "source": [
        "a = 3\n",
        "b = 5\n",
        "\n",
        "if a > b :\n",
        "    print(a)"
      ],
      "metadata": {
        "id": "rz6S6vmOAPEz"
      },
      "execution_count": 57,
      "outputs": []
    },
    {
      "cell_type": "code",
      "source": [
        "\n"
      ],
      "metadata": {
        "colab": {
          "base_uri": "https://localhost:8080/",
          "height": 110
        },
        "id": "UowZaokR0EqE",
        "outputId": "4a886279-de6f-4945-9c2d-cccb2d727860"
      },
      "execution_count": null,
      "outputs": [
        {
          "output_type": "error",
          "ename": "SyntaxError",
          "evalue": "invalid syntax (<ipython-input-24-21cfad64f48e>, line 1)",
          "traceback": [
            "\u001b[0;36m  File \u001b[0;32m\"<ipython-input-24-21cfad64f48e>\"\u001b[0;36m, line \u001b[0;32m1\u001b[0m\n\u001b[0;31m    1 def calculate_area(radius):\u001b[0m\n\u001b[0m      ^\u001b[0m\n\u001b[0;31mSyntaxError\u001b[0m\u001b[0;31m:\u001b[0m invalid syntax\n"
          ]
        }
      ]
    },
    {
      "cell_type": "code",
      "source": [
        "1 # 변수 식별자\n",
        "2 count = 10\n",
        "3 user_name = \"Alice\"\n",
        "4 _is_Valid = True\n",
        "5\n",
        "6 # 함수 식별자\n",
        "7 def calculate_area(radius):\n",
        "8     return 3.14159 * radius * radius\n",
        "9\n",
        "10 # 클래스 식별자\n",
        "11 class Car:\n",
        "12    def _init_(self , model,year):\n",
        "13           self.midel = model\n",
        "14           self.year = year\n",
        "15\n",
        "16 # 모듈 식별자\n",
        "17 import mate as m\n",
        "18\n",
        "\n",
        "\n",
        "\n",
        "\n"
      ],
      "metadata": {
        "colab": {
          "base_uri": "https://localhost:8080/",
          "height": 110
        },
        "id": "r4JaikS2EI-A",
        "outputId": "f775cf88-699a-42a5-fc4a-67f46f4a8729"
      },
      "execution_count": null,
      "outputs": [
        {
          "output_type": "error",
          "ename": "SyntaxError",
          "evalue": "invalid syntax (<ipython-input-22-158002fc4ffa>, line 2)",
          "traceback": [
            "\u001b[0;36m  File \u001b[0;32m\"<ipython-input-22-158002fc4ffa>\"\u001b[0;36m, line \u001b[0;32m2\u001b[0m\n\u001b[0;31m    2 count = 10\u001b[0m\n\u001b[0m      ^\u001b[0m\n\u001b[0;31mSyntaxError\u001b[0m\u001b[0;31m:\u001b[0m invalid syntax\n"
          ]
        }
      ]
    },
    {
      "cell_type": "markdown",
      "source": [
        "Q. 주어진 문자열 리스트에서 유효한 Python 변수 이름만을 추출하여 반환하는 함수를\n",
        "작성하세요\n"
      ],
      "metadata": {
        "id": "VCevgTkHKUAl"
      }
    },
    {
      "cell_type": "code",
      "source": [
        "1 identifier = [\"var1\" , \"2things\" , \"variable_name\" , \"time!\"]"
      ],
      "metadata": {
        "colab": {
          "base_uri": "https://localhost:8080/",
          "height": 111
        },
        "id": "IQY_UOvh1830",
        "outputId": "297b42b0-f353-4a03-fbbc-beb3aaa41578"
      },
      "execution_count": 39,
      "outputs": [
        {
          "output_type": "error",
          "ename": "SyntaxError",
          "evalue": "invalid syntax (<ipython-input-39-73f681e2ae2e>, line 1)",
          "traceback": [
            "\u001b[0;36m  File \u001b[0;32m\"<ipython-input-39-73f681e2ae2e>\"\u001b[0;36m, line \u001b[0;32m1\u001b[0m\n\u001b[0;31m    1 identifier = [\"var1\" , \"2things\" , \"variable_name\" , \"time!\"]\u001b[0m\n\u001b[0m      ^\u001b[0m\n\u001b[0;31mSyntaxError\u001b[0m\u001b[0;31m:\u001b[0m invalid syntax\n"
          ]
        }
      ]
    },
    {
      "cell_type": "code",
      "source": [
        "1 # isidentifier()는 파이썬의 문자열 메서드로, 주어진 문자열이 유효한 식별자인지 확인\n",
        "2 # isidentifiers()는 예약어인지는 따로 체크하지 않음\n",
        "3 import keyword\n",
        "4 def valid_identifiers(identifiers):\n",
        "5    valid = []\n",
        "6    for identifiers in identifiers:\n",
        "7        if identifiers .is identifiers() and not keyword. iskeyword(identifiers):\n",
        "8            valid.append(identifier)\n",
        "9    return valid\n",
        "10\n",
        "11 # 예제 실행\n",
        "12 identifiers = [ \"var1\" , \"2things\" , \"variable_name\" , \"time!\" , \"True\"]\n",
        "13 print(valid_identifiers(identifiers))"
      ],
      "metadata": {
        "id": "51KLXgeM2YR7",
        "colab": {
          "base_uri": "https://localhost:8080/",
          "height": 111
        },
        "outputId": "9dc5087c-c5bf-41e0-b678-aff371e1ae46"
      },
      "execution_count": 41,
      "outputs": [
        {
          "output_type": "error",
          "ename": "SyntaxError",
          "evalue": "invalid syntax (<ipython-input-41-a7ed5a1a2e4e>, line 3)",
          "traceback": [
            "\u001b[0;36m  File \u001b[0;32m\"<ipython-input-41-a7ed5a1a2e4e>\"\u001b[0;36m, line \u001b[0;32m3\u001b[0m\n\u001b[0;31m    3 import keyword\u001b[0m\n\u001b[0m      ^\u001b[0m\n\u001b[0;31mSyntaxError\u001b[0m\u001b[0;31m:\u001b[0m invalid syntax\n"
          ]
        }
      ]
    },
    {
      "cell_type": "markdown",
      "source": [
        "Task1_0425. 주어진 숫자 리스트에서 최소값과 최대값을 찾아 출력하세요.\n",
        "\n",
        "numbers = [58, 45, 69, 19, 4, 87, 29, 13, 39, 15]"
      ],
      "metadata": {
        "id": "LIbF_i6vH2IX"
      }
    },
    {
      "cell_type": "code",
      "source": [
        "numbers = [58, 45, 69, 19, 4, 87, 29, 13, 39, 15]\n",
        "\n",
        "max_num = max(numbers)\n",
        "print(max_num)\n",
        "\n",
        "min_num = min(numbers)\n",
        "print(min_num)"
      ],
      "metadata": {
        "colab": {
          "base_uri": "https://localhost:8080/"
        },
        "id": "AI7hHkCeV73h",
        "outputId": "4f13fafa-d928-414f-df0b-7e6dc412c4a8"
      },
      "execution_count": 367,
      "outputs": [
        {
          "output_type": "stream",
          "name": "stdout",
          "text": [
            "87\n",
            "4\n"
          ]
        }
      ]
    },
    {
      "cell_type": "markdown",
      "source": [
        "Task2_0425. 주어진 숫자 리스트의 모든 요소의 합계와 평균을 계산하고 출력하세요\n",
        "\n",
        "numbers = [58, 45, 69, 19, 4, 87, 29, 13, 39, 15]"
      ],
      "metadata": {
        "id": "l2k2dY9GH3XX"
      }
    },
    {
      "cell_type": "code",
      "source": [
        "numbers = [58, 45, 69, 19, 4, 87, 29, 13, 39, 15]\n",
        "\n",
        "total = sum(numbers)\n",
        "print(total)"
      ],
      "metadata": {
        "colab": {
          "base_uri": "https://localhost:8080/"
        },
        "id": "4Cts79CXWOoO",
        "outputId": "66eba3e3-0df6-4f64-ee8c-27cd74bcc923"
      },
      "execution_count": 368,
      "outputs": [
        {
          "output_type": "stream",
          "name": "stdout",
          "text": [
            "378\n"
          ]
        }
      ]
    },
    {
      "cell_type": "markdown",
      "source": [
        "Task3_0425. 주어진 리스트에서 특정 요소가 등장하는 모든 인덱스를 리스트로 만들어 출력하세요.\n",
        "\n",
        "items = ['apple', 'banana', 'cherry', 'apple', 'cherry', 'apple']\n",
        "\n",
        "target = 'apple'"
      ],
      "metadata": {
        "id": "thbWYRFWH58K"
      }
    },
    {
      "cell_type": "markdown",
      "source": [
        "Task4_0425. 주어진 리스트에서 연속해서 반복되는 요소만 제거하고, 결과 리스트를 반환하세요. 단, 처음 등장하는 요소는 유지해야 합니다.\n",
        "\n",
        "예를 들어, ['a', 'a', 'b', 'c', 'c', 'c', 'd', 'e', 'e']가 입력되면, ['a', 'b', 'c', 'd', 'e']를 출력해야 합니다."
      ],
      "metadata": {
        "id": "Qs-laDlqH9jt"
      }
    },
    {
      "cell_type": "markdown",
      "source": [
        "Task5_0425 주어진 정수 리스트와 회전 횟수 k에 대해 리스트를 오른쪽으로 k만큼 회전시킨 결과를 반환하세요. k가 리스트의 길이보다 클 수 있으며, 이 경우 k를 리스트 길이로 나눈 나머지만큼 실제 회전시키면 됩니다.\n",
        "\n",
        "예를 들어, [1, 2, 3, 4, 5]와 k=2가 주어지면, 결과는 [4, 5, 1, 2, 3]이 되어야 합니다."
      ],
      "metadata": {
        "id": "-IsZmBLlH_2A"
      }
    }
  ]
}