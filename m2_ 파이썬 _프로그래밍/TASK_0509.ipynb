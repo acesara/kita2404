{
  "nbformat": 4,
  "nbformat_minor": 0,
  "metadata": {
    "colab": {
      "provenance": []
    },
    "kernelspec": {
      "name": "python3",
      "display_name": "Python 3"
    },
    "language_info": {
      "name": "python"
    }
  },
  "cells": [
    {
      "cell_type": "markdown",
      "source": [
        "Task1_0509. 주어진 텍스트에서 문자 빈도를 아래와 같이 출력하세요.(사용자 함수 사용)\n",
        "\n",
        "가장 많이 나온 문자 5개를 뽑아 봤습니다.\n",
        "[e] -> [97]회 나타남\n",
        "[t] -> [85]회 나타남\n",
        "[a] -> [78]회 나타남\n",
        "[o] -> [73]회 나타남\n",
        "[s] -> [60]회 나타남"
      ],
      "metadata": {
        "id": "p1tCbBBqXCuq"
      }
    },
    {
      "cell_type": "code",
      "source": [
        "import re\n",
        "with open('mydata.txt','r') as f:\n",
        "    text = f.read()\n",
        "\n",
        "char_list = re.sub(r'[ ,.!\\n\\']','',text)\n",
        "word_list = re.sub(r'[,.!\\n\\']','',text).lower().split()\n",
        "\n",
        "print(len(text))\n",
        "print(len(char_list))\n",
        "print(len(word_list))"
      ],
      "metadata": {
        "id": "CilZIBahXDTw"
      },
      "execution_count": null,
      "outputs": []
    },
    {
      "cell_type": "markdown",
      "source": [
        "Task2_0509. 람다함수와 적합한 내장함수를 사용하여 아래와 같이 출력하세요.\n",
        "\n",
        "[1,2,3,4,5] -> [1,4,9,16,25]\n",
        "[1,2,3,4,5] -> [1,2]"
      ],
      "metadata": {
        "id": "H5uqhZnKXSuF"
      }
    },
    {
      "cell_type": "code",
      "source": [
        "numbers = [1,2,3,4,5]\n",
        "multiply = lambda x : x * x\n",
        "result = list(map(multiply , numbers))\n",
        "\n",
        "print(result)"
      ],
      "metadata": {
        "id": "Z4fga2CbXUPq"
      },
      "execution_count": null,
      "outputs": []
    },
    {
      "cell_type": "code",
      "source": [
        "num = []\n",
        "\n",
        "for i in range(1,6):\n",
        "    num.append(i)\n",
        "print([i*i for i in range(1,6)])"
      ],
      "metadata": {
        "id": "e-tt29VVXW5a"
      },
      "execution_count": null,
      "outputs": []
    },
    {
      "cell_type": "code",
      "source": [
        "numbers = [1,2,3,4,5]\n",
        "\n",
        "print(numbers[:2])\n",
        "print(numbers[:-3])"
      ],
      "metadata": {
        "id": "seIULy1uXZP8"
      },
      "execution_count": null,
      "outputs": []
    },
    {
      "cell_type": "code",
      "source": [
        "# 문제 해결\n",
        "\n",
        "numbers = [1,2,3,4,5]\n",
        "\n",
        "result1 = list(map(lambda x  : x**2 , numbers))\n",
        "print(result1)\n",
        "result2 = list(filter(lambda x : x < 3 , numbers))\n",
        "print(result2)"
      ],
      "metadata": {
        "id": "PKM4vjYMXbIZ"
      },
      "execution_count": null,
      "outputs": []
    },
    {
      "cell_type": "markdown",
      "source": [
        "Task3_0509. [1,-3,2,0,-5,6] 에서 양수만 필터링해서 출력하세요(내장함수, 사용자함수 각각 이용)"
      ],
      "metadata": {
        "id": "MEMLk4xBXmDC"
      }
    },
    {
      "cell_type": "code",
      "source": [
        "numbers = [1,-3,2,0,-5,6]\n",
        "list1 = []\n",
        "\n",
        "for i in numbers:\n",
        "    if i > 0:\n",
        "        list1.append(i)\n",
        "print(list1)"
      ],
      "metadata": {
        "id": "D8t4yHMnXnsQ"
      },
      "execution_count": null,
      "outputs": []
    },
    {
      "cell_type": "code",
      "source": [
        "# [1,-3,2,0,-5,6] 에서 양수만 필터링해서 출력하세요(내장함수, 사용자함수 각각 이용)\n",
        "# 내장함수\n",
        "\n",
        "list2 = [1,-3,2,0,-5,6]\n",
        "result = filter(lambda x : x > 0 , list2)\n",
        "print(list(result))\n",
        "\n",
        "# 간편한 for문\n",
        "\n",
        "sample6 = [1,-3,2,0,-5,6]\n",
        "ans6_2 = [i for i in sample6 if i > 0]\n",
        "print(ans6_2)"
      ],
      "metadata": {
        "id": "AxLuGtW4XpH-"
      },
      "execution_count": null,
      "outputs": []
    },
    {
      "cell_type": "markdown",
      "source": [
        "Task4_0509. **args를 이용하여 아래와 같이 출력할 수 있는 사용자 함수 func2를 작성하세요.\n",
        "\n",
        "Width: 100\n",
        "Height: 200\n",
        "Other arguments: {'color': 'red', 'thickness': 5}\n",
        "\n",
        "Width: 100\n",
        "Height: 200\n",
        "Other arguments: {'color': 'red', 'thickness': 5, 'type': 'large'}"
      ],
      "metadata": {
        "id": "gImm-adPXq_b"
      }
    },
    {
      "cell_type": "code",
      "source": [
        "# 4번 문제 해결\n",
        "\n",
        "def func2 (Width , Height , **kwargs):\n",
        "    print(f'Width: {Width}')\n",
        "    print(f'Height: {Height}')\n",
        "    print(f'Other arguments: {kwargs}')\n",
        "\n",
        "func2(100,200,color = 'red' , thickness = 5)\n",
        "func2(100,200,color = 'red' , thickness = 5 , type = 'large')\n"
      ],
      "metadata": {
        "id": "ziAH3pgLXtua"
      },
      "execution_count": null,
      "outputs": []
    },
    {
      "cell_type": "markdown",
      "source": [
        "Task5_0509. 아래와 같은 결과를 얻을 수 있도록 사용자 함수 func3를 작성하세요.\n",
        "\n",
        "Width: 100, Height: 200, Color: blue, Thickness: 1\n",
        "Width: 100, Height: 200, Color: red, Thickness: 15"
      ],
      "metadata": {
        "id": "nsa2C7WbXvmj"
      }
    },
    {
      "cell_type": "code",
      "source": [
        "def func3(Width , Height , Color , Thickness):\n",
        "    print(f\"Width:{Width} , Height:{Height} , Color:{Color} , Thickness:{Thickness}\")\n",
        "\n",
        "func3(100 , 200, 'blue' , 1)\n",
        "func3(100 , 200, 'red' , 15)"
      ],
      "metadata": {
        "id": "ns4NFUzdXwty"
      },
      "execution_count": null,
      "outputs": []
    },
    {
      "cell_type": "markdown",
      "source": [
        "Task6_0509. 입력으로 들어오는 모든 수의 평균 값을 계산해 주는 함수를 작성한 후 1,2,3을 입력한 결과를 출력하세요."
      ],
      "metadata": {
        "id": "h6pI62G0XyKA"
      }
    },
    {
      "cell_type": "code",
      "source": [
        "def average(*args):\n",
        "    return sum(args) / len(args)\n",
        "\n",
        "print(average(1,2,3))\n",
        "print(average(10,20,30))"
      ],
      "metadata": {
        "id": "ClaLIeJxXzbI"
      },
      "execution_count": null,
      "outputs": []
    },
    {
      "cell_type": "markdown",
      "source": [
        "Task7_0509. 원의 면적과 둘레의 길이를 구하는 사용자 함수를 작성하여 반지름이 5와 10일때 면적과 둘레를 구하세요(반올림:round())"
      ],
      "metadata": {
        "id": "6qT17qRUX1NC"
      }
    },
    {
      "cell_type": "code",
      "source": [
        "import math\n",
        "\n",
        "def area_circumference(r):\n",
        "    area = math.pi*r*r\n",
        "    circumference = 2*math.pi*r\n",
        "    print(f\"면적: {round(area,2)}, 둘레: {round(circumference,2)}\")\n",
        "\n",
        "area_circumference(5)\n",
        "area_circumference(10)"
      ],
      "metadata": {
        "id": "tQGiLHx9X2fk"
      },
      "execution_count": null,
      "outputs": []
    },
    {
      "cell_type": "markdown",
      "source": [
        "Task8_0509. 게시물의 총 건수와 한 페이지에 보여 줄 게시물 수를 입력시 총 페이지 수를 출력하는 프로그램을 작성하세요."
      ],
      "metadata": {
        "id": "7rV0FsW4X8wX"
      }
    },
    {
      "cell_type": "code",
      "source": [
        "import math\n",
        "total = int(input(\"총 게시물 수: \"))\n",
        "show = int((input(\"한페이지 보여줄 게시물 수: \")))\n",
        "\n",
        "result = math.ceil(total/show)\n",
        "print(f'총 페이지 수는 {result} 입니다.')"
      ],
      "metadata": {
        "id": "r5U-K8b4X9yA"
      },
      "execution_count": null,
      "outputs": []
    },
    {
      "cell_type": "markdown",
      "source": [
        "Task9_0509. 위의 문제를 *args를 사용한 사용자 함수 bignum을 작성하여 bignum(20,1,30)과 bignum(20,10,50,70, 100)의 결과를 출력하세요."
      ],
      "metadata": {
        "id": "a_SA-4NLYDWd"
      }
    },
    {
      "cell_type": "markdown",
      "source": [
        "Task10_0509. 위의 계산을 연산자를 choice로 가변적인 숫자들을 *args로 사용한 사용자 함수 cal을 이용하여 다음을 수행하세요.\n",
        "\n",
        "cal('*',1,2,3,4,5)\n",
        "cal('+',1,2,3,4,5,6,7)\n",
        "cal('-',1,2,3,4,5,6,7)\n",
        "cal('/',10,3)"
      ],
      "metadata": {
        "id": "XpbDoMTCYKlj"
      }
    }
  ]
}