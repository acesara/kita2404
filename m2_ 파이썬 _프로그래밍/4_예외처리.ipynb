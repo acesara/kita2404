{
  "nbformat": 4,
  "nbformat_minor": 0,
  "metadata": {
    "colab": {
      "provenance": []
    },
    "kernelspec": {
      "name": "python3",
      "display_name": "Python 3"
    },
    "language_info": {
      "name": "python"
    }
  },
  "cells": [
    {
      "cell_type": "markdown",
      "source": [
        "#### 에러(Error) vs. 예외(Exception).\n",
        "\n",
        "에러(Error):\n",
        "- 에러는 주로 프로그램 실행 전에 발생하는, 프로그램의 잘못된 구문이나 절차 등에 의해 발생하는 문제를 말한다.\n",
        "- 대표적인 에러로는 구문 에러(SyntaxError)가 있다. 예를 들어, 올바르지 않은 들여쓰기나 잘못된 코드 구조로 인해 파이썬 인터프리터가 코드를 실행하기 전에 에러를 발생시킨다.\n",
        "- 에러는 대체로 프로그램의 수정 없이는 복구될 수 없는 심각한 문제들이다.\n",
        "\n",
        "예외(Exception):\n",
        "- 예외는 실행 중인 프로그램에 영향을 주는 이벤트로, 일반적인 프로그램 흐름을 방해한다.\n",
        "- 예외는 프로그램의 정상적인 흐름을 방해하지만, 적절한 예외 처리를 통해 프로그램의 중단 없이 예외를 '잡아내고(catch)' 처리할 수 있다. 예를 들어, 파일을 열 때 파일이 존재하지 않는 경우 FileNotFoundError 예외가 발생할 수 있다. 이 경우 적절한 except 블록으로 예외를 처리하여 사용자에게 메시지를 표시하고 대안적인 행동을 취할 수 있다.\n",
        "- 예외는 try-except 블록을 통해 프로그램에서 처리할 수 있으며, 이를 통해 프로그램이 예외 상황에서도 안정적으로 동작하도록 만들 수 있다.\n",
        "\n",
        "요약하자면, 에러는 대개 코드 수정이 필요한 문제들을 가리키며, 예외는 프로그램 실행 중에 발생하지만 적절히 처리할 수 있는 예상 가능한 '예외적' 상황들을 말한다.\n",
        "\n",
        "#### 파이썬에서 발생할 수 있는 에러와 예외의 유형:\n",
        "에러 : 프로그램이 실행되기 전에 발생하는 문제\n",
        "- SyntaxError: 코드의 구문이 잘못되었을 때 생긴다.<br>\n",
        "\n",
        "예외 : 실행 시간(runtime) 중에 발생하고 처리 가능\n",
        "- NameError: 정의되지 않은 변수를 호출할 때 생긴다.\n",
        "- TypeError: 연산이나 함수가 부적절한 유형의 객체에 적용될 때 발생한다.\n",
        "- ValueError: 연산이나 함수가 적절하지 않은 값을 객체에 적용할 때 발생한다.\n",
        "- IndexError: 리스트 등의 시퀀스에서 존재하지 않는 인덱스를 사용할 때 생긴다.\n",
        "- KeyError: 딕셔너리에서 존재하지 않는 키를 사용할 때 발생한다.\n",
        "- AttributeError: 존재하지 않는 속성이나 메서드를 호출할 때 생긴다.\n",
        "- IOError 또는 OSError: 파일 입출력 과정에서 에러가 생길 때 발생한다.\n",
        "- ZeroDivisionError: 0으로 나눌 때 생긴다.\n",
        "- ImportError: 모듈을 임포트할 수 없을 때 발생한다.\n",
        "- StopIteration: 이터레이터에 더 이상의 아이템이 없을 때 next()를 호출하면 발생한다.\n",
        "- MemoryError: 메모리 할당이 실패할 때 생긴다.\n",
        "- RecursionError: 재귀 호출이 너무 깊어질 때 발생한다."
      ],
      "metadata": {
        "id": "GWibUahMFCoI"
      }
    },
    {
      "cell_type": "code",
      "source": [
        "# 구문 오류 : 프로그램 실행전에 발생하는 오류\n",
        "# 예외 또는 런타임 오류 : 프로그램 실행중에 발생하는 오류\n",
        "\n",
        "print('예외를 강제로 발생!)"
      ],
      "metadata": {
        "colab": {
          "base_uri": "https://localhost:8080/",
          "height": 110
        },
        "id": "RVqhriITFFip",
        "outputId": "8c076a6f-4a45-4e0e-aee6-b46dd7826499"
      },
      "execution_count": null,
      "outputs": [
        {
          "output_type": "error",
          "ename": "SyntaxError",
          "evalue": "unterminated string literal (detected at line 4) (<ipython-input-1-97e69b1f8d4a>, line 4)",
          "traceback": [
            "\u001b[0;36m  File \u001b[0;32m\"<ipython-input-1-97e69b1f8d4a>\"\u001b[0;36m, line \u001b[0;32m4\u001b[0m\n\u001b[0;31m    print('예외를 강제로 발생!)\u001b[0m\n\u001b[0m          ^\u001b[0m\n\u001b[0;31mSyntaxError\u001b[0m\u001b[0;31m:\u001b[0m unterminated string literal (detected at line 4)\n"
          ]
        }
      ]
    },
    {
      "cell_type": "code",
      "source": [
        "# SyntaxError : 잘못된 구문\n",
        "for i in range(10)\n",
        "    print(i)"
      ],
      "metadata": {
        "colab": {
          "base_uri": "https://localhost:8080/",
          "height": 110
        },
        "id": "EXTHeAOuHO7I",
        "outputId": "73eb5215-e4fd-4bc0-e81d-63e9d86886af"
      },
      "execution_count": null,
      "outputs": [
        {
          "output_type": "error",
          "ename": "SyntaxError",
          "evalue": "expected ':' (<ipython-input-2-279369d2c06e>, line 2)",
          "traceback": [
            "\u001b[0;36m  File \u001b[0;32m\"<ipython-input-2-279369d2c06e>\"\u001b[0;36m, line \u001b[0;32m2\u001b[0m\n\u001b[0;31m    for i in range(10)\u001b[0m\n\u001b[0m                      ^\u001b[0m\n\u001b[0;31mSyntaxError\u001b[0m\u001b[0;31m:\u001b[0m expected ':'\n"
          ]
        }
      ]
    },
    {
      "cell_type": "code",
      "source": [
        "# NameError : 정의되지 않은 변수 사용\n",
        "# unknown_var = 42\n",
        "print(unknown_var)"
      ],
      "metadata": {
        "colab": {
          "base_uri": "https://localhost:8080/",
          "height": 183
        },
        "id": "XjEcJ146Hfoe",
        "outputId": "57480b2f-e460-47ca-9682-98185bf10d1b"
      },
      "execution_count": null,
      "outputs": [
        {
          "output_type": "error",
          "ename": "NameError",
          "evalue": "name 'unknown_var' is not defined",
          "traceback": [
            "\u001b[0;31m---------------------------------------------------------------------------\u001b[0m",
            "\u001b[0;31mNameError\u001b[0m                                 Traceback (most recent call last)",
            "\u001b[0;32m<ipython-input-3-3a8038e7cf44>\u001b[0m in \u001b[0;36m<cell line: 3>\u001b[0;34m()\u001b[0m\n\u001b[1;32m      1\u001b[0m \u001b[0;31m# NameError : 정의되지 않은 변수 사용\u001b[0m\u001b[0;34m\u001b[0m\u001b[0;34m\u001b[0m\u001b[0m\n\u001b[1;32m      2\u001b[0m \u001b[0;31m# unknown_var = 42\u001b[0m\u001b[0;34m\u001b[0m\u001b[0;34m\u001b[0m\u001b[0m\n\u001b[0;32m----> 3\u001b[0;31m \u001b[0mprint\u001b[0m\u001b[0;34m(\u001b[0m\u001b[0munknown_var\u001b[0m\u001b[0;34m)\u001b[0m\u001b[0;34m\u001b[0m\u001b[0;34m\u001b[0m\u001b[0m\n\u001b[0m",
            "\u001b[0;31mNameError\u001b[0m: name 'unknown_var' is not defined"
          ]
        }
      ]
    },
    {
      "cell_type": "code",
      "source": [
        "# 정수를 입력하지 않은 경우 예외 발생\n",
        "num_input = int(input('정수 입력'))\n",
        "print('원의 반지름: ', num_input )"
      ],
      "metadata": {
        "colab": {
          "base_uri": "https://localhost:8080/",
          "height": 201
        },
        "id": "6IcvSCRrFr7k",
        "outputId": "c3b79bbd-a45c-47c7-e09d-9f008bd5a4ab"
      },
      "execution_count": null,
      "outputs": [
        {
          "name": "stdout",
          "output_type": "stream",
          "text": [
            "정수 입력t\n"
          ]
        },
        {
          "output_type": "error",
          "ename": "ValueError",
          "evalue": "invalid literal for int() with base 10: 't'",
          "traceback": [
            "\u001b[0;31m---------------------------------------------------------------------------\u001b[0m",
            "\u001b[0;31mValueError\u001b[0m                                Traceback (most recent call last)",
            "\u001b[0;32m<ipython-input-1-dcd68244b0fa>\u001b[0m in \u001b[0;36m<cell line: 2>\u001b[0;34m()\u001b[0m\n\u001b[1;32m      1\u001b[0m \u001b[0;31m# 정수를 입력하지 않은 경우 예외 발생\u001b[0m\u001b[0;34m\u001b[0m\u001b[0;34m\u001b[0m\u001b[0m\n\u001b[0;32m----> 2\u001b[0;31m \u001b[0mnum_input\u001b[0m \u001b[0;34m=\u001b[0m \u001b[0mint\u001b[0m\u001b[0;34m(\u001b[0m\u001b[0minput\u001b[0m\u001b[0;34m(\u001b[0m\u001b[0;34m'정수 입력'\u001b[0m\u001b[0;34m)\u001b[0m\u001b[0;34m)\u001b[0m\u001b[0;34m\u001b[0m\u001b[0;34m\u001b[0m\u001b[0m\n\u001b[0m\u001b[1;32m      3\u001b[0m \u001b[0mprint\u001b[0m\u001b[0;34m(\u001b[0m\u001b[0;34m'원의 반지름: '\u001b[0m\u001b[0;34m,\u001b[0m \u001b[0mnum_input\u001b[0m \u001b[0;34m)\u001b[0m\u001b[0;34m\u001b[0m\u001b[0;34m\u001b[0m\u001b[0m\n",
            "\u001b[0;31mValueError\u001b[0m: invalid literal for int() with base 10: 't'"
          ]
        }
      ]
    },
    {
      "cell_type": "code",
      "source": [
        "# TypeError : 부적절한 유형의 객체 연산\n",
        "'2' + 2"
      ],
      "metadata": {
        "colab": {
          "base_uri": "https://localhost:8080/",
          "height": 165
        },
        "id": "SCrkXf4cGB-P",
        "outputId": "55c318c7-b2e5-4bee-8f70-eadd598002c7"
      },
      "execution_count": null,
      "outputs": [
        {
          "output_type": "error",
          "ename": "TypeError",
          "evalue": "can only concatenate str (not \"int\") to str",
          "traceback": [
            "\u001b[0;31m---------------------------------------------------------------------------\u001b[0m",
            "\u001b[0;31mTypeError\u001b[0m                                 Traceback (most recent call last)",
            "\u001b[0;32m<ipython-input-2-a1016f891471>\u001b[0m in \u001b[0;36m<cell line: 2>\u001b[0;34m()\u001b[0m\n\u001b[1;32m      1\u001b[0m \u001b[0;31m# TypeError : 부적절한 유형의 객체 연산\u001b[0m\u001b[0;34m\u001b[0m\u001b[0;34m\u001b[0m\u001b[0m\n\u001b[0;32m----> 2\u001b[0;31m \u001b[0;34m'2'\u001b[0m \u001b[0;34m+\u001b[0m \u001b[0;36m2\u001b[0m\u001b[0;34m\u001b[0m\u001b[0;34m\u001b[0m\u001b[0m\n\u001b[0m",
            "\u001b[0;31mTypeError\u001b[0m: can only concatenate str (not \"int\") to str"
          ]
        }
      ]
    },
    {
      "cell_type": "code",
      "source": [
        "# ValueError : 적절하지 않은 값 사용\n",
        "int('abc')"
      ],
      "metadata": {
        "colab": {
          "base_uri": "https://localhost:8080/",
          "height": 165
        },
        "id": "-BhIs1cdGS-7",
        "outputId": "5e6d78ad-f418-4a95-def8-9b7338418cb9"
      },
      "execution_count": null,
      "outputs": [
        {
          "output_type": "error",
          "ename": "ValueError",
          "evalue": "invalid literal for int() with base 10: 'abc'",
          "traceback": [
            "\u001b[0;31m---------------------------------------------------------------------------\u001b[0m",
            "\u001b[0;31mValueError\u001b[0m                                Traceback (most recent call last)",
            "\u001b[0;32m<ipython-input-3-f55536014fc4>\u001b[0m in \u001b[0;36m<cell line: 2>\u001b[0;34m()\u001b[0m\n\u001b[1;32m      1\u001b[0m \u001b[0;31m# ValueError : 적절하지 않은 값 사용\u001b[0m\u001b[0;34m\u001b[0m\u001b[0;34m\u001b[0m\u001b[0m\n\u001b[0;32m----> 2\u001b[0;31m \u001b[0mint\u001b[0m\u001b[0;34m(\u001b[0m\u001b[0;34m'abc'\u001b[0m\u001b[0;34m)\u001b[0m\u001b[0;34m\u001b[0m\u001b[0;34m\u001b[0m\u001b[0m\n\u001b[0m",
            "\u001b[0;31mValueError\u001b[0m: invalid literal for int() with base 10: 'abc'"
          ]
        }
      ]
    },
    {
      "cell_type": "code",
      "source": [
        "# indexError : 존재하지 않는 인덱스 사용\n",
        "my_list = [1,2,3]\n",
        "print(my_list[3])"
      ],
      "metadata": {
        "colab": {
          "base_uri": "https://localhost:8080/",
          "height": 183
        },
        "id": "2bOX7YoJGb8w",
        "outputId": "5570fb1a-ecc7-49d7-b3f1-0af72d9c7b31"
      },
      "execution_count": null,
      "outputs": [
        {
          "output_type": "error",
          "ename": "IndexError",
          "evalue": "list index out of range",
          "traceback": [
            "\u001b[0;31m---------------------------------------------------------------------------\u001b[0m",
            "\u001b[0;31mIndexError\u001b[0m                                Traceback (most recent call last)",
            "\u001b[0;32m<ipython-input-4-b81ffdedbf56>\u001b[0m in \u001b[0;36m<cell line: 3>\u001b[0;34m()\u001b[0m\n\u001b[1;32m      1\u001b[0m \u001b[0;31m# indexError : 존재하지 않는 인덱스 사용\u001b[0m\u001b[0;34m\u001b[0m\u001b[0;34m\u001b[0m\u001b[0m\n\u001b[1;32m      2\u001b[0m \u001b[0mmy_list\u001b[0m \u001b[0;34m=\u001b[0m \u001b[0;34m[\u001b[0m\u001b[0;36m1\u001b[0m\u001b[0;34m,\u001b[0m\u001b[0;36m2\u001b[0m\u001b[0;34m,\u001b[0m\u001b[0;36m3\u001b[0m\u001b[0;34m]\u001b[0m\u001b[0;34m\u001b[0m\u001b[0;34m\u001b[0m\u001b[0m\n\u001b[0;32m----> 3\u001b[0;31m \u001b[0mprint\u001b[0m\u001b[0;34m(\u001b[0m\u001b[0mmy_list\u001b[0m\u001b[0;34m[\u001b[0m\u001b[0;36m3\u001b[0m\u001b[0;34m]\u001b[0m\u001b[0;34m)\u001b[0m\u001b[0;34m\u001b[0m\u001b[0;34m\u001b[0m\u001b[0m\n\u001b[0m",
            "\u001b[0;31mIndexError\u001b[0m: list index out of range"
          ]
        }
      ]
    },
    {
      "cell_type": "code",
      "source": [
        "# KeyError : 딕셔너리에서 존재하지 않는 키 사용\n",
        "my_dict = {'a':1, 'b': 2}\n",
        "print(my_dict['c'])"
      ],
      "metadata": {
        "colab": {
          "base_uri": "https://localhost:8080/",
          "height": 183
        },
        "id": "wWEH3l1HGrpk",
        "outputId": "d4afdb16-24d2-4f9a-fe11-b714d9e8a61c"
      },
      "execution_count": null,
      "outputs": [
        {
          "output_type": "error",
          "ename": "KeyError",
          "evalue": "'c'",
          "traceback": [
            "\u001b[0;31m---------------------------------------------------------------------------\u001b[0m",
            "\u001b[0;31mKeyError\u001b[0m                                  Traceback (most recent call last)",
            "\u001b[0;32m<ipython-input-7-1187f41d8c81>\u001b[0m in \u001b[0;36m<cell line: 3>\u001b[0;34m()\u001b[0m\n\u001b[1;32m      1\u001b[0m \u001b[0;31m# KeyError : 딕셔너리에서 존재하지 않는 키 사용\u001b[0m\u001b[0;34m\u001b[0m\u001b[0;34m\u001b[0m\u001b[0m\n\u001b[1;32m      2\u001b[0m \u001b[0mmy_dict\u001b[0m \u001b[0;34m=\u001b[0m \u001b[0;34m{\u001b[0m\u001b[0;34m'a'\u001b[0m\u001b[0;34m:\u001b[0m\u001b[0;36m1\u001b[0m\u001b[0;34m,\u001b[0m \u001b[0;34m'b'\u001b[0m\u001b[0;34m:\u001b[0m \u001b[0;36m2\u001b[0m\u001b[0;34m}\u001b[0m\u001b[0;34m\u001b[0m\u001b[0;34m\u001b[0m\u001b[0m\n\u001b[0;32m----> 3\u001b[0;31m \u001b[0mprint\u001b[0m\u001b[0;34m(\u001b[0m\u001b[0mmy_dict\u001b[0m\u001b[0;34m[\u001b[0m\u001b[0;34m'c'\u001b[0m\u001b[0;34m]\u001b[0m\u001b[0;34m)\u001b[0m\u001b[0;34m\u001b[0m\u001b[0;34m\u001b[0m\u001b[0m\n\u001b[0m",
            "\u001b[0;31mKeyError\u001b[0m: 'c'"
          ]
        }
      ]
    },
    {
      "cell_type": "code",
      "source": [
        "# AttributeError : 존재하지 않는 속성이나 매서드 호출. 리스트에는 push라는 매서드가 없어 AttributeError 가 발생\n",
        "my_list = [1,2,3]\n",
        "my_list.push"
      ],
      "metadata": {
        "colab": {
          "base_uri": "https://localhost:8080/",
          "height": 183
        },
        "id": "74xpLheSG85a",
        "outputId": "6d2f293c-8090-4ad8-afd9-287082052417"
      },
      "execution_count": null,
      "outputs": [
        {
          "output_type": "error",
          "ename": "AttributeError",
          "evalue": "'list' object has no attribute 'push'",
          "traceback": [
            "\u001b[0;31m---------------------------------------------------------------------------\u001b[0m",
            "\u001b[0;31mAttributeError\u001b[0m                            Traceback (most recent call last)",
            "\u001b[0;32m<ipython-input-9-c31efd82b46e>\u001b[0m in \u001b[0;36m<cell line: 3>\u001b[0;34m()\u001b[0m\n\u001b[1;32m      1\u001b[0m \u001b[0;31m# AttributeError : 존재하지 않는 속성이나 매서드 호출. 리스트에는 push라는 매서드가 없어 AttributeError 가 발생\u001b[0m\u001b[0;34m\u001b[0m\u001b[0;34m\u001b[0m\u001b[0m\n\u001b[1;32m      2\u001b[0m \u001b[0mmy_list\u001b[0m \u001b[0;34m=\u001b[0m \u001b[0;34m[\u001b[0m\u001b[0;36m1\u001b[0m\u001b[0;34m,\u001b[0m\u001b[0;36m2\u001b[0m\u001b[0;34m,\u001b[0m\u001b[0;36m3\u001b[0m\u001b[0;34m]\u001b[0m\u001b[0;34m\u001b[0m\u001b[0;34m\u001b[0m\u001b[0m\n\u001b[0;32m----> 3\u001b[0;31m \u001b[0mmy_list\u001b[0m\u001b[0;34m.\u001b[0m\u001b[0mpush\u001b[0m\u001b[0;34m\u001b[0m\u001b[0;34m\u001b[0m\u001b[0m\n\u001b[0m",
            "\u001b[0;31mAttributeError\u001b[0m: 'list' object has no attribute 'push'"
          ]
        }
      ]
    },
    {
      "cell_type": "code",
      "source": [
        "# lOError/OSError : 존재하지 않는 파일 열기 시도. 파일이 존재하지 않아  lOError 또는 OSError 가 발생\n",
        "\n",
        "with oprn('non')"
      ],
      "metadata": {
        "id": "g4eHTeiGHPnH"
      },
      "execution_count": null,
      "outputs": []
    },
    {
      "cell_type": "code",
      "source": [
        "division = 10 / 0"
      ],
      "metadata": {
        "colab": {
          "base_uri": "https://localhost:8080/",
          "height": 147
        },
        "id": "OUwCNpbZHtNa",
        "outputId": "e552639a-b949-41f7-a96c-17147eff3314"
      },
      "execution_count": null,
      "outputs": [
        {
          "output_type": "error",
          "ename": "ZeroDivisionError",
          "evalue": "division by zero",
          "traceback": [
            "\u001b[0;31m---------------------------------------------------------------------------\u001b[0m",
            "\u001b[0;31mZeroDivisionError\u001b[0m                         Traceback (most recent call last)",
            "\u001b[0;32m<ipython-input-10-9ee126e2d311>\u001b[0m in \u001b[0;36m<cell line: 1>\u001b[0;34m()\u001b[0m\n\u001b[0;32m----> 1\u001b[0;31m \u001b[0mdivision\u001b[0m \u001b[0;34m=\u001b[0m \u001b[0;36m10\u001b[0m \u001b[0;34m/\u001b[0m \u001b[0;36m0\u001b[0m\u001b[0;34m\u001b[0m\u001b[0;34m\u001b[0m\u001b[0m\n\u001b[0m",
            "\u001b[0;31mZeroDivisionError\u001b[0m: division by zero"
          ]
        }
      ]
    },
    {
      "cell_type": "code",
      "source": [
        "import non_existent_module"
      ],
      "metadata": {
        "colab": {
          "base_uri": "https://localhost:8080/",
          "height": 329
        },
        "id": "gf11pgtHH1Cu",
        "outputId": "5fce3a38-1334-47a8-97a5-56b18b796480"
      },
      "execution_count": null,
      "outputs": [
        {
          "output_type": "error",
          "ename": "ModuleNotFoundError",
          "evalue": "No module named 'non_existent_module'",
          "traceback": [
            "\u001b[0;31m---------------------------------------------------------------------------\u001b[0m",
            "\u001b[0;31mModuleNotFoundError\u001b[0m                       Traceback (most recent call last)",
            "\u001b[0;32m<ipython-input-11-187f3de191a9>\u001b[0m in \u001b[0;36m<cell line: 1>\u001b[0;34m()\u001b[0m\n\u001b[0;32m----> 1\u001b[0;31m \u001b[0;32mimport\u001b[0m \u001b[0mnon_existent_module\u001b[0m\u001b[0;34m\u001b[0m\u001b[0;34m\u001b[0m\u001b[0m\n\u001b[0m",
            "\u001b[0;31mModuleNotFoundError\u001b[0m: No module named 'non_existent_module'",
            "",
            "\u001b[0;31m---------------------------------------------------------------------------\u001b[0;32m\nNOTE: If your import is failing due to a missing package, you can\nmanually install dependencies using either !pip or !apt.\n\nTo view examples of installing some common dependencies, click the\n\"Open Examples\" button below.\n\u001b[0;31m---------------------------------------------------------------------------\u001b[0m\n"
          ],
          "errorDetails": {
            "actions": [
              {
                "action": "open_url",
                "actionText": "Open Examples",
                "url": "/notebooks/snippets/importing_libraries.ipynb"
              }
            ]
          }
        }
      ]
    },
    {
      "cell_type": "code",
      "source": [
        "# stopiterator :이터레이터가 더이상 값을 제공하지 않음 . 모든값을 이미 소진한 이터레이터에 대해 next를 호출하면\n",
        "my_iterator = iter([1,2,3])\n",
        "\n",
        "next(my_iterator)\n",
        "next(my_iterator)\n",
        "next(my_iterator)\n",
        "next(my_iterator)"
      ],
      "metadata": {
        "colab": {
          "base_uri": "https://localhost:8080/",
          "height": 183
        },
        "id": "8uJYCewbH99N",
        "outputId": "a50d68f4-a99f-48e4-9592-b62111a8db67"
      },
      "execution_count": null,
      "outputs": [
        {
          "output_type": "error",
          "ename": "StopIteration",
          "evalue": "",
          "traceback": [
            "\u001b[0;31m---------------------------------------------------------------------------\u001b[0m",
            "\u001b[0;31mStopIteration\u001b[0m                             Traceback (most recent call last)",
            "\u001b[0;32m<ipython-input-12-71e35a0d647f>\u001b[0m in \u001b[0;36m<cell line: 6>\u001b[0;34m()\u001b[0m\n\u001b[1;32m      4\u001b[0m \u001b[0mnext\u001b[0m\u001b[0;34m(\u001b[0m\u001b[0mmy_iterator\u001b[0m\u001b[0;34m)\u001b[0m\u001b[0;34m\u001b[0m\u001b[0;34m\u001b[0m\u001b[0m\n\u001b[1;32m      5\u001b[0m \u001b[0mnext\u001b[0m\u001b[0;34m(\u001b[0m\u001b[0mmy_iterator\u001b[0m\u001b[0;34m)\u001b[0m\u001b[0;34m\u001b[0m\u001b[0;34m\u001b[0m\u001b[0m\n\u001b[0;32m----> 6\u001b[0;31m \u001b[0mnext\u001b[0m\u001b[0;34m(\u001b[0m\u001b[0mmy_iterator\u001b[0m\u001b[0;34m)\u001b[0m\u001b[0;34m\u001b[0m\u001b[0;34m\u001b[0m\u001b[0m\n\u001b[0m",
            "\u001b[0;31mStopIteration\u001b[0m: "
          ]
        }
      ]
    },
    {
      "cell_type": "code",
      "source": [
        "memoryError: 매우 큰 메모리 할당 시도 . 시스템에서 제공하는 메모리 용량을 초과하려고 하면 memoryError가 발생\n",
        "very_large_list = [0] * (10**10)"
      ],
      "metadata": {
        "id": "M1jJPWnJIYfs"
      },
      "execution_count": null,
      "outputs": []
    },
    {
      "cell_type": "code",
      "source": [
        "# RecursionError: 너무 깊은 재귀 호출\n",
        "# 아무런 종료 조건 없이 자기 자신을 계속해서 호출하므로 파이썬의 최대 재귀 깊이에 도달할때 까지 실행\n",
        "# 이 한계에 도달하면 RecursionError 예외가 발생\n",
        "\n",
        "def recursive_function():\n",
        "    recursive_function()\n",
        "recursive_function\n"
      ],
      "metadata": {
        "colab": {
          "base_uri": "https://localhost:8080/",
          "height": 104
        },
        "id": "afd1Mi6yIuAM",
        "outputId": "a4976377-ad6c-4c63-d136-e37c56b17ace"
      },
      "execution_count": null,
      "outputs": [
        {
          "output_type": "execute_result",
          "data": {
            "text/plain": [
              "<function __main__.recursive_function()>"
            ],
            "text/html": [
              "<div style=\"max-width:800px; border: 1px solid var(--colab-border-color);\"><style>\n",
              "      pre.function-repr-contents {\n",
              "        overflow-x: auto;\n",
              "        padding: 8px 12px;\n",
              "        max-height: 500px;\n",
              "      }\n",
              "\n",
              "      pre.function-repr-contents.function-repr-contents-collapsed {\n",
              "        cursor: pointer;\n",
              "        max-height: 100px;\n",
              "      }\n",
              "    </style>\n",
              "    <pre style=\"white-space: initial; background:\n",
              "         var(--colab-secondary-surface-color); padding: 8px 12px;\n",
              "         border-bottom: 1px solid var(--colab-border-color);\"><b>recursive_function</b><br/>def recursive_function()</pre><pre class=\"function-repr-contents function-repr-contents-collapsed\" style=\"\"><a class=\"filepath\" style=\"display:none\" href=\"#\">/content/&lt;ipython-input-13-f1afb6557ea9&gt;</a>&lt;no docstring&gt;</pre></div>"
            ]
          },
          "metadata": {},
          "execution_count": 13
        }
      ]
    },
    {
      "cell_type": "code",
      "source": [
        "# 조건문으로 예외 처리\n",
        "\n",
        "user_input = input('정수 입력 >')\n",
        "if user_input.isdigit():\n",
        "    num_input = int(user_input)\n",
        "    print('원의 반지름: ' , num_input)\n",
        "\n",
        "else:\n",
        "    print('정수를 입력해주세요 !')"
      ],
      "metadata": {
        "colab": {
          "base_uri": "https://localhost:8080/"
        },
        "id": "A-_eF4lbJGnX",
        "outputId": "6c22379b-d7b3-4a9e-e14e-ace5dba10051"
      },
      "execution_count": null,
      "outputs": [
        {
          "output_type": "stream",
          "name": "stdout",
          "text": [
            "정수 입력 >5\n",
            "원의 반지름:  5\n"
          ]
        }
      ]
    },
    {
      "cell_type": "markdown",
      "source": [
        "- 프로그램이 실행되는 동안 오류가 발생하면 프로그램이 더 이상 진행될 수 없는 상태가 되는데 이를 예외라고 함\n",
        "- 예외가 발생해도 프로그램을 중단하지 않고 예외에 대한 적절한 처리를 하여 프로그램을 계속 진행하도록 하는 구문이 try ~ except"
      ],
      "metadata": {
        "id": "189rlyZ6Juc4"
      }
    },
    {
      "cell_type": "markdown",
      "source": [
        "#### 파이썬에서 예외 처리\n",
        "프로그램 실행 중 발생할 수 있는 오류를 예상하고 관리할 수 있게 하는 강력한 기능이다. 이는 try, except, else, finally 블록을 사용해 수행된다. 각 구성 요소에 대해 간략히 설명하자면:\n",
        "\n",
        "- try: 이 코드 블록은 예외를 발생시킬 수 있는 연산을 포함한다. 코드가 오류를 일으킬 수 있다는 것을 \"시도\"하는 곳이다.\n",
        "\n",
        "- except: try 블록 내에서 오류가 발생하면, 파이썬은 그 블록의 실행을 멈추고 except 블록으로 점프한다. except 블록에서는 예외를 처리한다, 즉 오류에 대응하는 코드가 들어간다. 특정 예외를 이름으로 잡거나 모든 예외를 잡을 수 있다.\n",
        "\n",
        "- else: 이 블록은 선택적이며 try-except 블록 뒤에 올 수 있다. else 블록의 코드는 try 블록에서 예외가 발생하지 않았을 때만 실행된다. try 블록이 성공적으로 실행됐을 때만 실행되어야 하는 코드를 넣기에 적합하다.\n",
        "\n",
        "- finally: 이 블록은 선택적이지만, 존재한다면 예외 발생 여부와 관계없이 실행된다. 파일을 닫거나 리소스를 해제하는 등의 정리 작업을 위해 자주 사용된다. 이 작업들은 오류 발생 여부와 관계없이 수행되어야 한다.\n",
        "#### 예외 처리 방법\n",
        "- try + except<br>\n",
        "  try : 에러가 발생할 것 같은, 예외처리를 하고 싶은 곳을 찾아서 try 구문에 코드를 작성합니다.<br>\n",
        "  except : 에러가 발생했을 때 처리할 코드를 작성합니다.\n",
        "- try + except + else<br>\n",
        "  else 는 에러가 발생하지 않았을때 거치는 구문입니다. else만 단독으로 try + else 는 불가능합니다. except 가 있어야 합니다.\n",
        "- try + finally<br>\n",
        "  finally 는 에러가 발생해도, 발생하지 않아도 무조건 거치는 구문입니다.except. 없이 try + finally 만 사용한다면 에러가 발생한 후에 finally 구문까지만 실행이 되고 프로그램이 중간에 죽게 됩니다.\n",
        "- try + except + finally\n",
        "  <br> except 구문을 추가하고 finally 구문도 있음\n",
        "- try + except + else + finally\n",
        "  <br> try (해당 구문 안에서 에러 발생 시 처리 가능 - 필수)\n",
        "  <br> except (에러 발생시 수행 - 선택이지만 에러를 처리하려면 필수)\n",
        "  <br> else (에러 없을 때 수행 - 선택이지만 except 없이는 올 수 없음)\n",
        "  <br> finally (에러가 있거나 없거나 상관없이 항상 수행 - 선택)"
      ],
      "metadata": {
        "id": "wciBNvBIKDEP"
      }
    },
    {
      "cell_type": "code",
      "source": [
        "try:\n",
        "    print(unknown_var)\n",
        "except NameError as e:\n",
        "    print(f\" An error occurred: {e}\")"
      ],
      "metadata": {
        "colab": {
          "base_uri": "https://localhost:8080/"
        },
        "id": "wMb28jUOKGmw",
        "outputId": "d4c4805f-ccd7-4c1c-b104-26bd2626651f"
      },
      "execution_count": null,
      "outputs": [
        {
          "output_type": "stream",
          "name": "stdout",
          "text": [
            " An error occurred: name 'unknown_var' is not defined\n"
          ]
        }
      ]
    },
    {
      "cell_type": "code",
      "source": [
        "try:\n",
        "    '2' + 2\n",
        "except TypeError as e:\n",
        "    print(f\"An error occurred: {e}\") # e는 예외 객체를 참조하는 변수"
      ],
      "metadata": {
        "colab": {
          "base_uri": "https://localhost:8080/"
        },
        "id": "CS5GyDpML1dB",
        "outputId": "c8688526-86c3-479e-b50c-fe7da1425900"
      },
      "execution_count": null,
      "outputs": [
        {
          "output_type": "stream",
          "name": "stdout",
          "text": [
            "An error occurred: can only concatenate str (not \"int\") to str\n"
          ]
        }
      ]
    },
    {
      "cell_type": "code",
      "source": [
        "try:\n",
        "    int('abc')\n",
        "except ValueError as e:\n",
        "    print(f\"An error occurred: {e}\")\n"
      ],
      "metadata": {
        "colab": {
          "base_uri": "https://localhost:8080/"
        },
        "id": "LxNQ2e32MIib",
        "outputId": "99967d05-3f3f-4f6f-d9b9-34d521dec8e5"
      },
      "execution_count": null,
      "outputs": [
        {
          "output_type": "stream",
          "name": "stdout",
          "text": [
            "An error occurred: invalid literal for int() with base 10: 'abc'\n"
          ]
        }
      ]
    },
    {
      "cell_type": "code",
      "source": [
        "my_list = [1,2,3]\n",
        "\n",
        "try:\n",
        "    print(my_list[3])\n",
        "except IndexError as e:\n",
        "    print(f\"An error occurred : {e}\")\n"
      ],
      "metadata": {
        "colab": {
          "base_uri": "https://localhost:8080/"
        },
        "id": "2u3qZQpzMe_G",
        "outputId": "416c4d5b-82b3-4726-b66a-904172a79d75"
      },
      "execution_count": null,
      "outputs": [
        {
          "output_type": "stream",
          "name": "stdout",
          "text": [
            "An error occurred : list index out of range\n"
          ]
        }
      ]
    },
    {
      "cell_type": "code",
      "source": [
        "my_dict = {'a': 1 , 'b': 2}\n",
        "\n",
        "try:\n",
        "    print(my_dict['c'])\n",
        "except KeyError as e:\n",
        "    print(f\"The key wasn't found: {e}\")"
      ],
      "metadata": {
        "colab": {
          "base_uri": "https://localhost:8080/"
        },
        "id": "wLUbXXksP1lA",
        "outputId": "ae6f4dce-0c00-4cfa-a862-fbc49bbe290f"
      },
      "execution_count": null,
      "outputs": [
        {
          "output_type": "stream",
          "name": "stdout",
          "text": [
            "The key wasn't found: 'c'\n"
          ]
        }
      ]
    },
    {
      "cell_type": "code",
      "source": [
        "# e: 는 AttributeError 만을 잡아내어 처리하고 e를 통해 오류에 대한 자세한 정보를 얻을 수 있게 한다\n",
        "\n",
        "my_list = [1,2,3]\n",
        "try:\n",
        "    my_list.push(4)\n",
        "except AttributeError as e:\n",
        "    print(f\"An error occurred: {e}\")"
      ],
      "metadata": {
        "colab": {
          "base_uri": "https://localhost:8080/"
        },
        "id": "C_NOao0aQONU",
        "outputId": "73447bbb-4566-4c7a-9177-fd8f31a99b80"
      },
      "execution_count": null,
      "outputs": [
        {
          "output_type": "stream",
          "name": "stdout",
          "text": [
            "An error occurred: 'list' object has no attribute 'push'\n"
          ]
        }
      ]
    },
    {
      "cell_type": "code",
      "source": [
        "try:\n",
        "    with open('non_existent_file.txt') as f:\n",
        "        read_data = f.read()\n",
        "\n",
        "except OSError as e:\n",
        "    print(f\"File error: {e}\")\n",
        "\n"
      ],
      "metadata": {
        "colab": {
          "base_uri": "https://localhost:8080/"
        },
        "id": "k9GCGKcVQzW-",
        "outputId": "067092c1-e37e-4537-d874-f2187fbdfb31"
      },
      "execution_count": null,
      "outputs": [
        {
          "output_type": "stream",
          "name": "stdout",
          "text": [
            "File error: [Errno 2] No such file or directory: 'non_existent_file.txt'\n"
          ]
        }
      ]
    },
    {
      "cell_type": "code",
      "source": [
        "try:\n",
        "    division = 10 / 0\n",
        "except ZeroDivisionError as e:\n",
        "    print(f\"Math error: {e}\")"
      ],
      "metadata": {
        "colab": {
          "base_uri": "https://localhost:8080/"
        },
        "id": "ju86B1OSRI9s",
        "outputId": "577a8f9c-3806-49ec-8f1a-d793353385a1"
      },
      "execution_count": null,
      "outputs": [
        {
          "output_type": "stream",
          "name": "stdout",
          "text": [
            "Math error: division by zero\n"
          ]
        }
      ]
    },
    {
      "cell_type": "code",
      "source": [
        "try:\n",
        "    import non_existent_module\n",
        "except ImportError as e:\n",
        "    print(f\"Import error: {e}\")"
      ],
      "metadata": {
        "colab": {
          "base_uri": "https://localhost:8080/"
        },
        "id": "3R0xUAEnRi7e",
        "outputId": "e29c6f9f-58e8-4adf-c647-bc3e2ea03145"
      },
      "execution_count": null,
      "outputs": [
        {
          "output_type": "stream",
          "name": "stdout",
          "text": [
            "Import error: No module named 'non_existent_module'\n"
          ]
        }
      ]
    },
    {
      "cell_type": "code",
      "source": [
        "my_iterator = iter([1,2,3])\n",
        "try:\n",
        "    while True:\n",
        "        item = next(my_iterator)\n",
        "        print(item)\n",
        "except StopIteration:\n",
        "    print('Reached the end of the iterator')"
      ],
      "metadata": {
        "colab": {
          "base_uri": "https://localhost:8080/"
        },
        "id": "aarZ0HiARzmu",
        "outputId": "b3973d99-a648-4081-9ca9-c45dfef90562"
      },
      "execution_count": null,
      "outputs": [
        {
          "output_type": "stream",
          "name": "stdout",
          "text": [
            "1\n",
            "2\n",
            "3\n",
            "Reached the end of the iterator\n"
          ]
        }
      ]
    },
    {
      "cell_type": "code",
      "source": [
        "try:\n",
        "    print('안녕하세요')\n",
        "    print(param)\n",
        "except NameError as e:\n",
        "    print(f'예외가 발생했습니다.{e}')"
      ],
      "metadata": {
        "colab": {
          "base_uri": "https://localhost:8080/"
        },
        "id": "797Yi7HuSOfG",
        "outputId": "c73efe35-0dc5-46b9-8c8a-b551ab30bd2c"
      },
      "execution_count": null,
      "outputs": [
        {
          "output_type": "stream",
          "name": "stdout",
          "text": [
            "안녕하세요\n",
            "예외가 발생했습니다.name 'param' is not defined\n"
          ]
        }
      ]
    },
    {
      "cell_type": "code",
      "source": [
        "# Q. 예외처리를 수행하세요\n",
        "\n",
        "arr = ['b', 'I','o', 'g']\n",
        "print(arr[8]) # error\n",
        "print(\"==Mid\")\n"
      ],
      "metadata": {
        "colab": {
          "base_uri": "https://localhost:8080/",
          "height": 201
        },
        "id": "C6hudWtqSrRX",
        "outputId": "6bd8817d-1108-4ac2-f6d8-2d053044882f"
      },
      "execution_count": null,
      "outputs": [
        {
          "output_type": "error",
          "ename": "IndexError",
          "evalue": "list index out of range",
          "traceback": [
            "\u001b[0;31m---------------------------------------------------------------------------\u001b[0m",
            "\u001b[0;31mIndexError\u001b[0m                                Traceback (most recent call last)",
            "\u001b[0;32m<ipython-input-36-676d4135c14b>\u001b[0m in \u001b[0;36m<cell line: 4>\u001b[0;34m()\u001b[0m\n\u001b[1;32m      2\u001b[0m \u001b[0;34m\u001b[0m\u001b[0m\n\u001b[1;32m      3\u001b[0m \u001b[0marr\u001b[0m \u001b[0;34m=\u001b[0m \u001b[0;34m[\u001b[0m\u001b[0;34m'b'\u001b[0m\u001b[0;34m,\u001b[0m \u001b[0;34m'I'\u001b[0m\u001b[0;34m,\u001b[0m\u001b[0;34m'o'\u001b[0m\u001b[0;34m,\u001b[0m \u001b[0;34m'g'\u001b[0m\u001b[0;34m]\u001b[0m\u001b[0;34m\u001b[0m\u001b[0;34m\u001b[0m\u001b[0m\n\u001b[0;32m----> 4\u001b[0;31m \u001b[0mprint\u001b[0m\u001b[0;34m(\u001b[0m\u001b[0marr\u001b[0m\u001b[0;34m[\u001b[0m\u001b[0;36m8\u001b[0m\u001b[0;34m]\u001b[0m\u001b[0;34m)\u001b[0m \u001b[0;31m# error\u001b[0m\u001b[0;34m\u001b[0m\u001b[0;34m\u001b[0m\u001b[0m\n\u001b[0m\u001b[1;32m      5\u001b[0m \u001b[0mprint\u001b[0m\u001b[0;34m(\u001b[0m\u001b[0;34m\"==Mid\"\u001b[0m\u001b[0;34m)\u001b[0m\u001b[0;34m\u001b[0m\u001b[0;34m\u001b[0m\u001b[0m\n",
            "\u001b[0;31mIndexError\u001b[0m: list index out of range"
          ]
        }
      ]
    },
    {
      "cell_type": "code",
      "source": [
        "arr = ['b', 'I','o', 'g']\n",
        "try:\n",
        "    print(arr[8])\n",
        "except IndexError as e:\n",
        "    print(f'{e}')"
      ],
      "metadata": {
        "colab": {
          "base_uri": "https://localhost:8080/"
        },
        "id": "QXxc9_gGTLvy",
        "outputId": "25a987df-be08-429e-ac5a-24fda094cccd"
      },
      "execution_count": null,
      "outputs": [
        {
          "output_type": "stream",
          "name": "stdout",
          "text": [
            "list index out of range\n"
          ]
        }
      ]
    },
    {
      "cell_type": "code",
      "source": [
        "try:\n",
        "    arr = ['b', 'I','o', 'g']\n",
        "    print(arr[3])\n",
        "except:\n",
        "    print('예외가 발생했습니다')\n",
        "else:\n",
        "    print('예외가 발생하지 않았습니다')\n"
      ],
      "metadata": {
        "colab": {
          "base_uri": "https://localhost:8080/"
        },
        "id": "l2X-vjvfTrRm",
        "outputId": "8a13241a-8bbc-4f6e-ce45-8502aa945228"
      },
      "execution_count": null,
      "outputs": [
        {
          "output_type": "stream",
          "name": "stdout",
          "text": [
            "g\n",
            "예외가 발생하지 않았습니다\n"
          ]
        }
      ]
    },
    {
      "cell_type": "code",
      "source": [
        "try:\n",
        "    arr = ['b', 'I','o', 'g']\n",
        "    print(arr[8]) # error\n",
        "    print(\"== Mid\")\n",
        "except:\n",
        "    print('예외가 발생했습니다')\n",
        "finally:\n",
        "    print('무조건 실행하는 코드')"
      ],
      "metadata": {
        "colab": {
          "base_uri": "https://localhost:8080/"
        },
        "id": "ENpsqI4SUDr9",
        "outputId": "bf040ac0-c18c-438f-d577-28fbeb1b6f7e"
      },
      "execution_count": null,
      "outputs": [
        {
          "output_type": "stream",
          "name": "stdout",
          "text": [
            "예외가 발생했습니다\n",
            "무조건 실행하는 코드\n"
          ]
        }
      ]
    },
    {
      "cell_type": "code",
      "source": [
        "# Q. 위 코드에서 else를 추가하고 예외 발생 경우와 발생 하지 않는 경우를 각각 만들어서 출력하세요\n",
        "\n",
        "try:\n",
        "    arr = ['b', 'I','o', 'g']\n",
        "    print(arr[2]) # error\n",
        "    print(\"== Mid\")\n",
        "except:\n",
        "    print('예외가 발생했습니다')\n",
        "else:\n",
        "    print('예외가 발생하지 않았습니다')\n",
        "finally:\n",
        "    print('무조건 실행하는 코드')\n"
      ],
      "metadata": {
        "colab": {
          "base_uri": "https://localhost:8080/"
        },
        "id": "aIW6RdP8Uv0g",
        "outputId": "1cdbda0c-aa35-4930-c96d-ae6162215e20"
      },
      "execution_count": null,
      "outputs": [
        {
          "output_type": "stream",
          "name": "stdout",
          "text": [
            "o\n",
            "== Mid\n",
            "예외가 발생하지 않았습니다\n",
            "무조건 실행하는 코드\n"
          ]
        }
      ]
    },
    {
      "cell_type": "markdown",
      "source": [
        "Task1_0510. try ~ except, try ~ except ~ finally, try ~ except ~else, try ~ except ~else ~finally 4가지 예외 처리가 필요한 경우에 대해서 코딩을 수행하세요."
      ],
      "metadata": {
        "id": "FOhUSNasVqrp"
      }
    },
    {
      "cell_type": "code",
      "source": [
        "# 1-1\n",
        "\n",
        "try:\n",
        "    ans = int(input('정수값을 입력하세요'))\n",
        "except:\n",
        "    print('잘못 입력하셨습니다. 다음에 다시 이용해 주세요')\n",
        "\n"
      ],
      "metadata": {
        "colab": {
          "base_uri": "https://localhost:8080/"
        },
        "id": "jglW--JFRSS2",
        "outputId": "b032ed84-f91c-4731-9421-38c815ea9826"
      },
      "execution_count": null,
      "outputs": [
        {
          "name": "stdout",
          "output_type": "stream",
          "text": [
            "정수값을 입력하세요7\n"
          ]
        }
      ]
    },
    {
      "cell_type": "code",
      "source": [
        "# 1-2\n",
        "\n",
        "try:\n",
        "    ans = int(input('정수값을 입력하세요: '))\n",
        "except:\n",
        "    print('잘못 입력하셨습니다. 다음에 다시 이용해주세요')\n",
        "finally:\n",
        "    print('프로그램을 종료합니다')"
      ],
      "metadata": {
        "colab": {
          "base_uri": "https://localhost:8080/"
        },
        "id": "WFjZYi5wSJat",
        "outputId": "a0375ed6-4b4e-4f22-818b-ab241a9ccabc"
      },
      "execution_count": null,
      "outputs": [
        {
          "output_type": "stream",
          "name": "stdout",
          "text": [
            "정수값을 입력하세요8\n",
            "프로그램을 종료합니다\n"
          ]
        }
      ]
    },
    {
      "cell_type": "code",
      "source": [
        "# 1-3\n",
        "\n",
        "try:\n",
        "    ans = int(input('정수값을 입력해 주세요'))\n",
        "except:\n",
        "    print('잘못 입력하셨습니다. 다음에 다시 이용해 주세요.')\n",
        "else:\n",
        "    print(f'오늘의 행운의 숫자는 {ans} 입니다')\n"
      ],
      "metadata": {
        "id": "KoYI0c53R-5X"
      },
      "execution_count": null,
      "outputs": []
    },
    {
      "cell_type": "code",
      "source": [
        "# 1-4\n",
        "\n",
        "try:\n",
        "    ans = int(input('정수값을 입력하세요: '))\n",
        "except:\n",
        "    print('잘못 입력하셨습니다. 다음에 다시 이용해주세요.')\n",
        "else:\n",
        "    print(f'오늘의 행운의 숫자는 {ans}입니다.')\n",
        "finally:\n",
        "    print('프로그램을 종료합니다')\n"
      ],
      "metadata": {
        "colab": {
          "base_uri": "https://localhost:8080/"
        },
        "id": "q_76wSc9SfI_",
        "outputId": "a0dc5b9b-f489-41b3-9a40-4d382f91d2bd"
      },
      "execution_count": null,
      "outputs": [
        {
          "output_type": "stream",
          "name": "stdout",
          "text": [
            "정수값을 입력하세요: 정수\n",
            "잘못 입력하셨습니다. 다음에 다시 이용해주세요.\n",
            "프로그램을 종료합니다\n"
          ]
        }
      ]
    },
    {
      "cell_type": "markdown",
      "source": [
        "Task2_0510. 리스트 ['52','273','32','문자','103']에서 숫자 부분만 출력하세요(예외 처리 수행)"
      ],
      "metadata": {
        "id": "EPq-7QG-V4h4"
      }
    },
    {
      "cell_type": "code",
      "source": [
        "list1 = ['52','273','32','문자','103']\n",
        "result = []\n",
        "\n",
        "for i in list1:\n",
        "    try:\n",
        "        result.append(int(i))\n",
        "    except:\n",
        "        pass\n",
        "print(result)"
      ],
      "metadata": {
        "colab": {
          "base_uri": "https://localhost:8080/"
        },
        "id": "5Q7J7gxTTN_N",
        "outputId": "b0dd92b4-c7a5-4c72-b3a5-5374cfb5d5e0"
      },
      "execution_count": null,
      "outputs": [
        {
          "output_type": "stream",
          "name": "stdout",
          "text": [
            "[52, 273, 32, 103]\n"
          ]
        }
      ]
    },
    {
      "cell_type": "code",
      "source": [
        "list1 = ['52','273','32','문자','103']\n",
        "\n",
        "result = []\n"
      ],
      "metadata": {
        "colab": {
          "base_uri": "https://localhost:8080/"
        },
        "id": "MA-S1_JMTvdd",
        "outputId": "89623605-da50-4604-d475-a1f6d72dd2c4"
      },
      "execution_count": null,
      "outputs": [
        {
          "output_type": "stream",
          "name": "stdout",
          "text": [
            "[52, 273, 32, 103]\n"
          ]
        }
      ]
    },
    {
      "cell_type": "markdown",
      "source": [
        "Task3_0510. 두가지 시나리오를 예외처리를 하여 코드 작업을 수행하세요\n",
        "- 정수를 입력하면 > '예외 발생하지 않음' > '프로그램 종료'\n",
        "- 정수를 입력하지 않으면 > '정수 아님' > '프로그램 종료'"
      ],
      "metadata": {
        "id": "pMGMvEebV6jC"
      }
    },
    {
      "cell_type": "code",
      "source": [
        "try:\n",
        "    n = int(input('정수입력 > '))\n",
        "except:\n",
        "    ptint('정수 아님')\n",
        "else:\n",
        "    print(n)\n",
        "    print('예외 발생하지 않음')\n",
        "finally:\n",
        "    print('프로그램 종료')"
      ],
      "metadata": {
        "id": "Ik7-gkBSWFI6",
        "colab": {
          "base_uri": "https://localhost:8080/"
        },
        "outputId": "9859db28-3276-4e54-e11f-fa3c97863434"
      },
      "execution_count": null,
      "outputs": [
        {
          "output_type": "stream",
          "name": "stdout",
          "text": [
            "정수입력 > 5\n",
            "5\n",
            "예외 발생하지 않음\n",
            "프로그램 종료\n"
          ]
        }
      ]
    }
  ]
}