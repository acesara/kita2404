{
  "nbformat": 4,
  "nbformat_minor": 0,
  "metadata": {
    "colab": {
      "provenance": []
    },
    "kernelspec": {
      "name": "python3",
      "display_name": "Python 3"
    },
    "language_info": {
      "name": "python"
    }
  },
  "cells": [
    {
      "cell_type": "markdown",
      "source": [
        "Task1_0507. 튜플 형태인 strings를 다양한 문자가 포함된 순서로 정렬하세요\n",
        "\n",
        "strings = ('a','ca', 'bar', 'aaaa', 'ababa')"
      ],
      "metadata": {
        "id": "9oqhSk8MT4Oq"
      }
    },
    {
      "cell_type": "code",
      "source": [
        "strings = ('a','ca', 'bar', 'aaaa', 'ababa')\n",
        "\n",
        "sorted_strings = sorted(strings , key = lambda x : len(set(x)) , reverse = True)\n",
        "print(sorted_strings)"
      ],
      "metadata": {
        "id": "VJuYDqWrT4uZ"
      },
      "execution_count": null,
      "outputs": []
    },
    {
      "cell_type": "code",
      "source": [
        "# 문제 해결 2\n",
        "\n",
        "strings = ('a','ca', 'bar', 'aaaa', 'ababa')\n",
        "\n",
        "strings = list(strings)\n",
        "strings.sort(key = lambda x : len(set(x)) , reverse = True)\n",
        "print(list(strings))"
      ],
      "metadata": {
        "id": "7DzYxIzTT6IU"
      },
      "execution_count": null,
      "outputs": []
    },
    {
      "cell_type": "markdown",
      "source": [
        "task2_0507. eval 함수를 활용하여 a,b 변수와 연산자를 입력하면 사칙연산을 수행하는 코드를 작성하세요"
      ],
      "metadata": {
        "id": "1IT-LWAvT-qJ"
      }
    },
    {
      "cell_type": "code",
      "source": [
        "a = 3\n",
        "b = 5\n",
        "\n",
        "print(eval(input(\"사칙연산을 입력하세요\")))"
      ],
      "metadata": {
        "id": "34wesKGYT_MG"
      },
      "execution_count": null,
      "outputs": []
    },
    {
      "cell_type": "code",
      "source": [
        "# eval 을 사용하는 경우\n",
        "\n",
        "num = input()\n",
        "print(type(num))\n",
        "result = eval(num)\n",
        "print(result)\n"
      ],
      "metadata": {
        "id": "848TovC0UDzf"
      },
      "execution_count": null,
      "outputs": []
    },
    {
      "cell_type": "code",
      "source": [
        "# eval 을 사용하지 않는 경우\n",
        "\n",
        "num = input(\"연산 : \")\n",
        "maths = ['+' , '-' , '/' , '*']\n",
        "math = {'+': lambda a,b : a+b , '-': lambda a,b : a-b , '/': lambda a,b : a/b , '*': lambda a,b : a*b}\n",
        "\n",
        "num_list = list(num)\n",
        "for i in num_list:\n",
        "    if i in maths:\n",
        "        num = num.split(i)\n",
        "        print(math[i](int(num[0]), int(num[1])))"
      ],
      "metadata": {
        "id": "fVVm2gIAUFTH"
      },
      "execution_count": null,
      "outputs": []
    },
    {
      "cell_type": "markdown",
      "source": [
        "Task3_0507. list1에 대해서 아래와 같이 출력하는 코드를 작성하세요.\n",
        "\n",
        "인사평가 1번째 해당자는 김부장입니다. 회의실A로 오시기 바랍니다.\n",
        "인사평가 2번째 해당자는 이차장입니다. 회의실A로 오시기 바랍니다.\n",
        "인사평가 3번째 해당자는 김과장입니다. 회의실A로 오시기 바랍니다.\n",
        "인사평가 4번째 해당자는 이대리입니다. 회의실A로 오시기 바랍니다.\n",
        "인사평가 5번째 해당자는 오사원입니다. 회의실A로 오시기 바랍니다.\n",
        "인사평가 6번째 해당자는 김인턴입니다. 회의실A로 오시기 바랍니다."
      ],
      "metadata": {
        "id": "lFMlQfFOUIM7"
      }
    },
    {
      "cell_type": "code",
      "source": [
        "list1 = ['김부장','이차장', '김과장','이대리', '오사원', '김인턴']\n",
        "\n",
        "for i , j in enumerate(list1):\n",
        "    print(f'인사평가{i+1}번째 해당자는 {j}입니다.회의실A로 오시기 바랍니다.')"
      ],
      "metadata": {
        "id": "vDaEr7CIUItH"
      },
      "execution_count": null,
      "outputs": []
    },
    {
      "cell_type": "code",
      "source": [
        "list1 = ['김부장','이차장', '김과장','이대리', '오사원', '김인턴']\n",
        "\n",
        "for index , name in enumerate(list1):\n",
        "    print(f\"인사평가 {index+1}번째 해당자는 {name}입니다. 회의실A로 오시기 바랍니다.\")"
      ],
      "metadata": {
        "id": "BByWuGWbUMJ3"
      },
      "execution_count": null,
      "outputs": []
    },
    {
      "cell_type": "markdown",
      "source": [
        "Task4_0507. 주어진 문자열 리스트의 요소들을 대문자로 변환하세요. words = [\"hello\", \"world\", \"python\", \"map\"]"
      ],
      "metadata": {
        "id": "k9wN3OhGUPi3"
      }
    },
    {
      "cell_type": "code",
      "source": [
        "# 요소를 이용\n",
        "\n",
        "words = [\"hello\", \"world\", \"python\", \"map\"]\n",
        "upper_words = []\n",
        "\n",
        "for i in words:\n",
        "    upper_words.append(i .upper())\n",
        "print(upper_words)"
      ],
      "metadata": {
        "id": "dLY3iVDRURlN"
      },
      "execution_count": null,
      "outputs": []
    },
    {
      "cell_type": "code",
      "source": [
        "# 요소를 이용\n",
        "words = [\"hello\", \"world\", \"python\", \"map\"]\n",
        "result = []\n",
        "\n",
        "for word in words:\n",
        "    result.append(word.upper())\n",
        "print(result)\n"
      ],
      "metadata": {
        "id": "a67xJOP2US7T"
      },
      "execution_count": null,
      "outputs": []
    },
    {
      "cell_type": "code",
      "source": [
        "# 인덱스를 이용\n",
        "words = [\"hello\", \"world\", \"python\", \"map\"]\n",
        "\n",
        "for i in range(len(words)):\n",
        "    words[i] = words[i].upper()\n",
        "print(words)"
      ],
      "metadata": {
        "id": "7bp0S6oOUUsx"
      },
      "execution_count": null,
      "outputs": []
    },
    {
      "cell_type": "code",
      "source": [
        "words = [\"hello\", \"world\", \"python\", \"map\"]\n",
        "\n",
        "print([i.upper() for i in words])\n",
        "print(list(i.upper() for i in words))"
      ],
      "metadata": {
        "id": "fY9b78hWUXLX"
      },
      "execution_count": null,
      "outputs": []
    },
    {
      "cell_type": "code",
      "source": [
        "# str.upper는 문자열의 모든 문자를 대문자로 변환하는 메서드\n",
        "\n",
        "words = [\"hello\", \"world\", \"python\", \"map\"]\n",
        "upper_words = list(map(str.upper , words))\n",
        "print(upper_words)"
      ],
      "metadata": {
        "id": "Kxknsjl2UZHZ"
      },
      "execution_count": null,
      "outputs": []
    },
    {
      "cell_type": "markdown",
      "source": [
        "Task5_0507. 주어진 리스트에서 'p'로 시작하는 단어만 필터링하세요.\n",
        "\n",
        "words = [\"python\", \"is\", \"powerful\", \"programming\", \"language\", \"pandas\"]"
      ],
      "metadata": {
        "id": "yRElp-dcU2jw"
      }
    },
    {
      "cell_type": "code",
      "source": [
        "words = [\"python\", \"is\", \"powerful\", \"programming\", \"language\", \"pandas\"]\n",
        "filtered_words = (filter(lambda x : x[0] == 'p' , words ))\n",
        "print([i for i in filtered_words])\n"
      ],
      "metadata": {
        "id": "XZAQoJn_U4E6"
      },
      "execution_count": null,
      "outputs": []
    },
    {
      "cell_type": "code",
      "source": [
        "words = [\"python\", \"is\", \"powerful\", \"programming\", \"language\", \"pandas\"]\n",
        "\n",
        "print([w for w in words if w.startswith('p')])"
      ],
      "metadata": {
        "id": "u5HbU0pmU6mf"
      },
      "execution_count": null,
      "outputs": []
    },
    {
      "cell_type": "code",
      "source": [
        "words = [\"python\", \"is\", \"powerful\", \"programming\", \"language\", \"pandas\"]\n",
        "\n",
        "p_words = list(filter(lambda x: x.startswith('p') , words))\n",
        "print(p_words)"
      ],
      "metadata": {
        "id": "QW9-HCebU8Ld"
      },
      "execution_count": null,
      "outputs": []
    },
    {
      "cell_type": "markdown",
      "source": [
        "Task6_0507. 내장함수를 이용해서 list = [0,1,2,3,4,5,6]에서 2를 삭제 후 출력하세요.(2가지 방법)"
      ],
      "metadata": {
        "id": "GKeUxcYJVAQC"
      }
    },
    {
      "cell_type": "code",
      "source": [
        "list = [0,1,3,4,5,6]\n",
        "\n",
        "list.pop(2) # 인덱스\n",
        "print(list)"
      ],
      "metadata": {
        "id": "XbiT5Y9MVAk1"
      },
      "execution_count": null,
      "outputs": []
    },
    {
      "cell_type": "code",
      "source": [
        "list = [0,1,2,3,4,5,6]\n",
        "\n",
        "list.remove(2) # 값\n",
        "print(list)"
      ],
      "metadata": {
        "id": "UUTUZjgYVE6T"
      },
      "execution_count": null,
      "outputs": []
    },
    {
      "cell_type": "code",
      "source": [
        "list = [0,1,2,3,4,5,6]\n",
        "\n",
        "del list[2]\n",
        "print(list)"
      ],
      "metadata": {
        "id": "AF2Z3DB8VGP7"
      },
      "execution_count": null,
      "outputs": []
    },
    {
      "cell_type": "markdown",
      "source": [
        "Task7_0507. 내장함수를 이용하여 동일한 개수로 이루어진 자료형을 화살표 좌측에서 우측으로 변환하세요.\n",
        "\n",
        "[1,2,3],[4,5,6] -> [(1,4),(2,5),(3,6)]\n",
        "[1,2,3],[4,5,6] [7,8,9] -> [(1,4,7),(2,5,8),(3,6,9)]\n",
        "('abc','def') -> [('a','d'),('b','e'),('c','f')]"
      ],
      "metadata": {
        "id": "IgQ3f3PnVJBX"
      }
    },
    {
      "cell_type": "code",
      "source": [
        "list1 = [1,2,3]\n",
        "list2 = [4,5,6]\n",
        "list3 = [7,8,9]\n",
        "tuple4 = ('abc','def')\n",
        "\n",
        "print([i for i in zip(list1, list2)])\n",
        "print([i for i in zip(list1, list2, list3)])\n",
        "print([i for i in zip(tuple4[0],tuple4[1])])"
      ],
      "metadata": {
        "id": "IgE4H8AUVKjN"
      },
      "execution_count": null,
      "outputs": []
    },
    {
      "cell_type": "markdown",
      "source": [
        "Task8_0507. url에서 호스트 도메인(news.naver.com)을 추출하여 출력하세요.\n",
        "\n",
        "url = 'http://news.naver.com/main/read.nhn?mode=LSD&mid=shm&sid1=105&oid=028&aid=0002334601'"
      ],
      "metadata": {
        "id": "cRNVy5zMVN2x"
      }
    },
    {
      "cell_type": "code",
      "source": [
        "url = 'http://news.naver.com/main/read.nhn?mode=LSD&mid=shm&sid1=105&oid=028&aid=0002334601'\n",
        "\n",
        "print(url.split('/')[2])"
      ],
      "metadata": {
        "id": "0ric11OeVPnI"
      },
      "execution_count": null,
      "outputs": []
    }
  ]
}