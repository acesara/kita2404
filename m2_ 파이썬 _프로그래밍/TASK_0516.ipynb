{
  "nbformat": 4,
  "nbformat_minor": 0,
  "metadata": {
    "colab": {
      "provenance": []
    },
    "kernelspec": {
      "name": "python3",
      "display_name": "Python 3"
    },
    "language_info": {
      "name": "python"
    }
  },
  "cells": [
    {
      "cell_type": "markdown",
      "source": [
        "Task1_0516. '199305, 1923A, a93247'에서 '199305'만 출력하세요."
      ],
      "metadata": {
        "id": "Y4OdCyjld934"
      }
    },
    {
      "cell_type": "code",
      "source": [
        "import re\n",
        "\n",
        "regex = re.compile(r'^\\d+')\n",
        "mo = regex.findall('199305, 1923A, a93247')\n",
        "mo"
      ],
      "metadata": {
        "id": "xewKmr75eBe8"
      },
      "execution_count": null,
      "outputs": []
    },
    {
      "cell_type": "markdown",
      "source": [
        "Task2_0516. '99food234, a93456\\n, a9356ba '에서 '99food234'만 출력하세요."
      ],
      "metadata": {
        "id": "9XP8zKDZeEfX"
      }
    },
    {
      "cell_type": "code",
      "source": [
        "import re\n",
        "# \\w+ : 하나 이상의 영문자나 숫자 ( 단어문자) \\w: 숫자,문자,언더바 포함\n",
        "# \\d : 숫자 한 개\n",
        "regex = re.compile(r'^\\w+\\d')\n",
        "regex.findall('99food234, a93456\\n, a9356ba ')"
      ],
      "metadata": {
        "id": "OK0uqv6YeFgj"
      },
      "execution_count": null,
      "outputs": []
    },
    {
      "cell_type": "markdown",
      "source": [
        "Task3_0516. 주어진 문자열이 유효한 이메일 주소인지 확인 \"example@example.com\""
      ],
      "metadata": {
        "id": "yFs7vPKFeMXG"
      }
    },
    {
      "cell_type": "code",
      "source": [
        "import re\n",
        "\n",
        "def is_valid_email(email):\n",
        "    pattern = r'^[a-zA-Z0-9._%+-]+@[a-zA-Z0-9.-]+\\.[a-zA-Z]{2,}$'\n",
        "    return bool(re.match(pattern,email))\n",
        "\n",
        "# 예시 사용\n",
        "is_valid_email(\"example@example.com\")"
      ],
      "metadata": {
        "id": "_ImiVUmYeOgU"
      },
      "execution_count": null,
      "outputs": []
    },
    {
      "cell_type": "code",
      "source": [
        "import re\n",
        "\n",
        "def is_valid_email(email):\n",
        "    pattern = r'^[a-zA-Z0-9._%+-]+@[a-zA-Z0-9.-]+\\.[a-zA-Z]{2,}$'\n",
        "    return bool(re.match('^[a-zA-Z0-9._%+-]+@[a-zA-Z0-9.-]+\\.[a-zA-Z]{2,}$',email))\n",
        "\n",
        "# 예시 사용\n",
        "is_valid_email(\"example@example.com\")"
      ],
      "metadata": {
        "id": "QxZS5efAeP7L"
      },
      "execution_count": null,
      "outputs": []
    },
    {
      "cell_type": "markdown",
      "source": [
        "Task4_0516. 주어진 문자열이 올바른 전화번호 형식(010-0000-0000)인지 확인하세요. \"010-1234-5678\""
      ],
      "metadata": {
        "id": "T_VdjB4FeRx1"
      }
    },
    {
      "cell_type": "code",
      "source": [
        "def is_valid_phone(phone):\n",
        "    pattern = r'^010-\\d{4}-\\d{4}$'\n",
        "    return bool(re.match(pattern, phone))\n",
        "\n",
        "# 예시 사용\n",
        "is_valid_phone(\"010-1234-5678\") # True"
      ],
      "metadata": {
        "id": "5wTMtSFPeTKf"
      },
      "execution_count": null,
      "outputs": []
    },
    {
      "cell_type": "markdown",
      "source": [
        "Task5_0516. 문자열에서 모든 HTML 태그를 찾아 리스트로 반환하세요. \"\""
      ],
      "metadata": {
        "id": "EDxdtepqeUwx"
      }
    },
    {
      "cell_type": "code",
      "source": [
        "def find_html_tags(html):\n",
        "    pattern = r'<[^>]+>'\n",
        "    return re.findall(pattern, html)\n",
        "\n",
        "# 예시 사용\n",
        "find_html_tags(\"<html><head></head><body></body></html>\")"
      ],
      "metadata": {
        "id": "7WWsvzVBeWGp"
      },
      "execution_count": null,
      "outputs": []
    },
    {
      "cell_type": "markdown",
      "source": [
        "Task6_0516. 주어진 비밀번호가 최소 8자, 대문자, 소문자, 숫자, 특수문자를 포함하는지 확인하세요. \"Aa1!aaaa\""
      ],
      "metadata": {
        "id": "vacW2c7neXvH"
      }
    },
    {
      "cell_type": "code",
      "source": [
        "def is_strong_password(password):\n",
        "    #pattern = r'^(?=.*[a-z])(?=.*[A-Z])(?=.*\\d)(?=.*[@$!%*?&])(A-Za-z\\d@$!%*?&){8,}$'\n",
        "    pattern = r'[(a-z)+(A-Z)+\\d+(\\D\\W\\S)+]{8,}'\n",
        "    return bool(re.match(pattern, password))\n",
        "\n",
        "# 예시 사용\n",
        "is_strong_password(\"Aa1!aaaa\")"
      ],
      "metadata": {
        "id": "IPkMwreLeY41"
      },
      "execution_count": null,
      "outputs": []
    },
    {
      "cell_type": "markdown",
      "source": [
        "Task7_0516. 주어진 문자열이 유효한 URL인지 확인하세요. \"https://www.example.com\""
      ],
      "metadata": {
        "id": "LSPyyWLXea5S"
      }
    },
    {
      "cell_type": "code",
      "source": [
        "def is_valid_url(url):\n",
        "    pattern = r'^(https?|ftp):\\/\\/[^\\s/$.?#].[^\\s]*$'\n",
        "    return bool(re.match(pattern,url))\n",
        "\n",
        "is_valid_url(\"https://www.example.com\")"
      ],
      "metadata": {
        "id": "HjAo_bbcedbQ"
      },
      "execution_count": null,
      "outputs": []
    },
    {
      "cell_type": "markdown",
      "source": [
        "Task8_0516. 주어진 문자열이 유효한 주민등록번호(######-#######) 형식인지 확인하세요. \"900101-1234567\""
      ],
      "metadata": {
        "id": "v6rQpjtbegsV"
      }
    },
    {
      "cell_type": "code",
      "source": [
        "# 월별 예외적인 일의 경우는 별도 조건문으로 처리\n",
        "def is_valid_ssn(ssn):\n",
        "    #pattern = '\\d{2}(0[1-9]|1[0-2])(0[1-9]|[12]\\d|3[01])-[1234]\\d{6}'\n",
        "    pattern = r'\\d{2}((0[13578]|1[02])(0[1-9]|[12]\\d|3[01])|(0[469]|11)(0[1-9]|[12]\\d|30)|02(0[1-9]|1\\d|2[0-8]))-[1234]\\d{6}'\n",
        "    return bool(re.pattern, ssn)\n",
        "# 예시 사용 년 00~99 , 월 01 ~ 12 , 일 01 ~31\n",
        "is_valid_ssn(\"\")"
      ],
      "metadata": {
        "id": "XdOmnrsXeij_"
      },
      "execution_count": null,
      "outputs": []
    },
    {
      "cell_type": "markdown",
      "source": [
        "Task9_0516. 주어진 문자열이 유효한 IPv4 주소인지 확인하세요. \"192.168.1.1\""
      ],
      "metadata": {
        "id": "famd9EOHelAP"
      }
    },
    {
      "cell_type": "code",
      "source": [
        "def is_valid_ip(ip):\n",
        "    pattern = re.compile(r'^((25[0-5]|2[0-4][0-9]|[01]?[0-9][0-9]?)\\.){3}(25[0-5]|2[0-4][0-9]|[01]?[0-9][0-9]?)$')\n",
        "    return bool(re.match(pattern,ip))\n",
        "\n",
        "test_ips = [\n",
        "    \"192.168.0.1\",\n",
        "    \"255.255.255.255\",\n",
        "    \"256.256.256.256\",\n",
        "    \"192.168.1\",\n",
        "    \"192.168.1.300\",\n",
        "    \"abc.def.ghi.jki\"\n",
        "]\n",
        "\n",
        "for ip in test_ips:\n",
        "    if is_valid_ip(ip):\n",
        "        print(f\"{ip} is a valid ip address.\")\n",
        "    else:\n",
        "        print(f\"{ip} is not valid ip adress\")"
      ],
      "metadata": {
        "id": "JdWdyWFaemOL"
      },
      "execution_count": null,
      "outputs": []
    },
    {
      "cell_type": "markdown",
      "source": [
        "Task10_0516. 주어진 파일 이름에서 확장자가 .jpg, .jpeg, 또는 .png인지 확인하세요. \"image.jpg\""
      ],
      "metadata": {
        "id": "AbOqlBOCenoh"
      }
    },
    {
      "cell_type": "code",
      "source": [
        "def is_image_file(filename):\n",
        "    pattern = r'.*\\.(jpg|jpeg|png)$'\n",
        "    return bool(re.match(pattern, filename))\n",
        "\n",
        "is_image_file(\"image.jpg\")"
      ],
      "metadata": {
        "id": "IG4e-g4oeow-"
      },
      "execution_count": null,
      "outputs": []
    },
    {
      "cell_type": "markdown",
      "source": [
        "Task11_0516. 문자열에서 Python 주석을 제거하세요. code_with_comments = \"\"\""
      ],
      "metadata": {
        "id": "PgH8Z1CReqfx"
      }
    },
    {
      "cell_type": "code",
      "source": [
        "def remove_comments(code):\n",
        "    pattern = r'#.*' # #으로 시작하고 그 뒤에 어떤 문자든 0개 이상 (*) 올 수 있는 문자열\n",
        "    return re.sub(pattern, '' , code, flags=re.MULTILINE)\n",
        "\n",
        "# 예시 사용\n",
        "\n",
        "code_with_comments = \"\"\"\n",
        "This is a whole line comment\n",
        "print(\"Hello, world!\") # This is a side comment\n",
        "\n",
        "Another comment\n",
        "print(\"Python is fun!\") # Another side comment\n",
        "\"\"\"\n",
        "\n",
        "clean_code = remove_comments(code_with_comments)\n",
        "print(clean_code)"
      ],
      "metadata": {
        "id": "b6r_Wqmier_3"
      },
      "execution_count": null,
      "outputs": []
    },
    {
      "cell_type": "markdown",
      "source": [
        "Task12_0516. 지정된 HTML 문자열 내에서 이메일 주소를 찾아서 그 결과를 출력 html = \"\"\"\n",
        "\n",
        "Email: example@example.com\n",
        "Contact: contact@sample.org\n",
        "\"\"\""
      ],
      "metadata": {
        "id": "kyNHPyQyewGr"
      }
    },
    {
      "cell_type": "code",
      "source": [
        "import re\n",
        "\n",
        "def find_emails(content):\n",
        "\n",
        "    \"\"\"윕 페이지 내용에서 이메일 주소를 찾습니다.\"\"\"\n",
        "    pattern = r'[a-zA-Z0-9._%+-]+@[a-zA-Z0-9.-]+\\.[a-zA-Z]{2,}'\n",
        "    emails = re.findall(pattern , content)\n",
        "    return emails\n",
        "\n",
        "html = \"\"\"\n",
        "<ul>\n",
        "  <li>Email: example@example.com</li>\n",
        "  <li>Contact: contact@sample.org</li>\n",
        "</ul>\n",
        "\"\"\"\n",
        "emails = find_emails(html)\n",
        "print(\"찾은 이메일 주소:\", emails)"
      ],
      "metadata": {
        "id": "chZCQkljexE8"
      },
      "execution_count": null,
      "outputs": []
    }
  ]
}