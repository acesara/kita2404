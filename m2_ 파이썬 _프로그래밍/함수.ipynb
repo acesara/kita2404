{
  "nbformat": 4,
  "nbformat_minor": 0,
  "metadata": {
    "colab": {
      "provenance": []
    },
    "kernelspec": {
      "name": "python3",
      "display_name": "Python 3"
    },
    "language_info": {
      "name": "python"
    }
  },
  "cells": [
    {
      "cell_type": "markdown",
      "source": [],
      "metadata": {
        "id": "saJqH3LmEKS3"
      }
    },
    {
      "cell_type": "markdown",
      "source": [
        "파이썬에서 함수는 크게 내장 함수(Built-in Functions)와 외장 함수(External Functions)로 나뉩니다.\n",
        "\n",
        "1. 내장 함수 (Built-in Functions):\n",
        "- 내장 함수는 파이썬 인터프리터에 포함되어 있어, 별도의 모듈을 임포트(import)하지 않고도 사용 예를 들어, print(), len(), type(), range(), zip() 등이 내장 함수입니다.\n",
        "- 이러한 함수들은 기본적인 작업을 수행하며, 파이썬 프로그래밍의 기본적인 빌딩 블록(building blocks)으로 작동\n",
        "\n",
        "2. 외장 함수 (External Functions):\n",
        "- 표준 라이브러리에 포함된 모듈과 함수를 가리키는 것으로 모듈을 임포트하여 사용\n",
        "- 파이썬 표준 라이브러리의 os, sys, math, random, datetime 등의 모듈에는 다양한 외장 함수가 포함\n",
        "\n",
        "3. 외부 라이브러리나 패키지\n",
        "- 표준 라이브러리에 포함되지 않아 기본 설치에는 포함되지 않는다.\n",
        "- 이를 사용하려면 먼저 해당 라이브러리나 패키지를 설치\n",
        "- 외부 라이브러리는 통상적으로 파이썬의 패키지 관리자인 pip를 사용하여 설치\n",
        "- 설치 후에는 외장 함수와 마찬가지로 필요한 모듈을 임포트하여 사용\n",
        "- 예: numpy, pandas, requests 등의 외부 라이브러리에 포함된 함수들.\n",
        "\n",
        "3. 사용자 정의 함수(User-Defined Functions):\n",
        "- 사용자가 직접 정의하여 사용하는 함수\n",
        "- def 키워드를 사용하여 함수를 정의하며, 필요에 따라 매개변수와 반환 값을 지정\n",
        "\n",
        "4. 람다 함수(Lambda Functions):\n",
        "- 이름 없는 간단한 함수를 정의할 때 사용하는 익명 함수\n",
        "- lambda 키워드를 사용하여 한 줄로 함수를 정의하며, 주로 간단한 연산이 필요할 때 사용"
      ],
      "metadata": {
        "id": "CJUjSNJ6ENRe"
      }
    },
    {
      "cell_type": "code",
      "source": [
        "# 내장 함수 예제\n",
        "print(\"Hello\" , \"World!\") # 출력함수\n",
        "print(len([1,2,3,4])) # 길이 계산 함수\n",
        "print(type(10)) # 타입 확인 함수"
      ],
      "metadata": {
        "colab": {
          "base_uri": "https://localhost:8080/"
        },
        "id": "l4zcFz7CEOTU",
        "outputId": "d190b12e-9499-43a7-96c3-6e3776afb8e9"
      },
      "execution_count": null,
      "outputs": [
        {
          "output_type": "stream",
          "name": "stdout",
          "text": [
            "Hello World!\n",
            "4\n",
            "<class 'int'>\n"
          ]
        }
      ]
    },
    {
      "cell_type": "code",
      "source": [
        "# Q . 내장함수로 다음을 수행하세요.\n",
        "a = [1,2,3,4,5]\n",
        "print(sum(a))\n",
        "print(max(a))\n",
        "print(min(a))\n",
        "print(sorted(a))\n",
        "print(list(reversed(a)))"
      ],
      "metadata": {
        "colab": {
          "base_uri": "https://localhost:8080/"
        },
        "id": "_UYI_n3IHBca",
        "outputId": "7e577830-8180-45a5-e0be-ea612788802d"
      },
      "execution_count": null,
      "outputs": [
        {
          "output_type": "stream",
          "name": "stdout",
          "text": [
            "15\n",
            "5\n",
            "1\n",
            "[1, 2, 3, 4, 5]\n",
            "[5, 4, 3, 2, 1]\n"
          ]
        }
      ]
    },
    {
      "cell_type": "code",
      "source": [
        "print(type(42))\n",
        "print(abs(-5)) # 절대갑\n",
        "print(round(3.14159 , 2)) # 반올림\n",
        "print(pow(2,3)) # 2의 3승"
      ],
      "metadata": {
        "colab": {
          "base_uri": "https://localhost:8080/"
        },
        "id": "Ehtmp1_6HhLh",
        "outputId": "b9b8d98f-c0cb-4096-eac7-8207c162d8c0"
      },
      "execution_count": null,
      "outputs": [
        {
          "output_type": "stream",
          "name": "stdout",
          "text": [
            "<class 'int'>\n",
            "5\n",
            "3.14\n",
            "8\n"
          ]
        }
      ]
    },
    {
      "cell_type": "code",
      "source": [
        "# 외장 함수 예제\n",
        "\n",
        "import math # 수학 모듈 임포트\n",
        "print(math.sqrt(16)) # 제곱근 계산 함수 (루트)\n",
        "\n",
        "import random # 랜덤 모듈 임포트\n",
        "print(random.randint(1,10)) # 랜덤 정수 생성 함수. 양끝 포함\n",
        "\n",
        "import datetime # 날짜와 시간 모듈 임포트\n",
        "print(datetime.datetime.now()) # 현재 날짜와 시간 출력 함수"
      ],
      "metadata": {
        "colab": {
          "base_uri": "https://localhost:8080/"
        },
        "id": "WdwD7u5-H1gZ",
        "outputId": "46b4d8df-ac5a-4048-fbcc-6b58f3eee41a"
      },
      "execution_count": null,
      "outputs": [
        {
          "output_type": "stream",
          "name": "stdout",
          "text": [
            "4.0\n",
            "6\n",
            "2024-05-03 06:27:39.639814\n"
          ]
        }
      ]
    },
    {
      "cell_type": "code",
      "source": [
        "# Q . datetime.datetime.now() 에서 연도 ,월, 일, 시, 분, 초, 마이크로초를 각각 출력하세요\n",
        "\n",
        "from datetime import datetime # datetime 모듈로부터 datetime클래스를 가져옴\n",
        "\n",
        "now = datetime.now()\n",
        "print(now.year)\n",
        "print(now.month)\n",
        "print(now.day)\n",
        "print(now.hour)\n",
        "print(now.minute)\n",
        "print(now.second)\n",
        "print(now.microsecond)\n",
        "\n"
      ],
      "metadata": {
        "colab": {
          "base_uri": "https://localhost:8080/"
        },
        "id": "jLtwj9geI7Br",
        "outputId": "cc95a59a-f292-475a-f0a0-9ef623757fde"
      },
      "execution_count": null,
      "outputs": [
        {
          "output_type": "stream",
          "name": "stdout",
          "text": [
            "2024\n",
            "5\n",
            "3\n",
            "6\n",
            "31\n",
            "50\n",
            "210602\n"
          ]
        }
      ]
    },
    {
      "cell_type": "code",
      "source": [
        "import os\n",
        "print(os.getcwd())\n",
        "print(os.listdir()) # 잘 안씀"
      ],
      "metadata": {
        "colab": {
          "base_uri": "https://localhost:8080/"
        },
        "id": "pFPWAKG0J4JU",
        "outputId": "6a7bec90-37eb-443e-e6e8-37e7d4a7326f"
      },
      "execution_count": null,
      "outputs": [
        {
          "output_type": "stream",
          "name": "stdout",
          "text": [
            "/content\n",
            "['.config', 'new_folder', 'sample_data']\n"
          ]
        }
      ]
    },
    {
      "cell_type": "code",
      "source": [
        "os.mkdir('new_folder') # make directory"
      ],
      "metadata": {
        "id": "JMRIdY1oKvDf"
      },
      "execution_count": null,
      "outputs": []
    },
    {
      "cell_type": "code",
      "source": [
        "os.removedirs('new_folder')"
      ],
      "metadata": {
        "id": "qq8pMH6QLufp"
      },
      "execution_count": null,
      "outputs": []
    },
    {
      "cell_type": "code",
      "source": [
        "!ls"
      ],
      "metadata": {
        "colab": {
          "base_uri": "https://localhost:8080/"
        },
        "id": "W3O6SWMALNXZ",
        "outputId": "fa359c95-cdbe-483e-a610-955b18ab0d2c"
      },
      "execution_count": null,
      "outputs": [
        {
          "output_type": "stream",
          "name": "stdout",
          "text": [
            "sample_data\n"
          ]
        }
      ]
    },
    {
      "cell_type": "code",
      "source": [
        "# 외부 라이브러리 예제\n",
        "# 먼저 pip를 사용하여 pandas 라이브러리를 설치합니다\n",
        "# pip install pandas\n",
        "\n",
        "import pandas as pd\n",
        "\n",
        "# pandas 의 DataFrame 객체 생성\n",
        "data = {'Name': ['Alice' , 'Bob' , 'Charlie'] , 'Age': [25, 30, 35]}\n",
        "df = pd.DataFrame(data)\n",
        "\n",
        "# pandas 의 head() 함수 사용하여 DataFrame의 처음 5행 출력 (여기서는 3행만 존재)\n",
        "print(df.head)"
      ],
      "metadata": {
        "colab": {
          "base_uri": "https://localhost:8080/"
        },
        "id": "4s9S8XgLMAVZ",
        "outputId": "17186186-423b-4239-9e1c-4a35c6415274"
      },
      "execution_count": null,
      "outputs": [
        {
          "output_type": "stream",
          "name": "stdout",
          "text": [
            "<bound method NDFrame.head of       Name  Age\n",
            "0    Alice   25\n",
            "1      Bob   30\n",
            "2  Charlie   35>\n"
          ]
        }
      ]
    },
    {
      "cell_type": "code",
      "source": [
        "import pandas as pd\n",
        "\n",
        "data = {'Name': ['Alice' , 'Bob' , 'Charlie'] , 'Age': [25, 30, 35]}\n",
        "df = pd.DataFrame(data)\n",
        "print(df.head)"
      ],
      "metadata": {
        "colab": {
          "base_uri": "https://localhost:8080/"
        },
        "id": "Jk54Rom_Ydbs",
        "outputId": "d2ec9be5-c99d-43b9-ddfe-5abb3b6f24b5"
      },
      "execution_count": null,
      "outputs": [
        {
          "output_type": "stream",
          "name": "stdout",
          "text": [
            "<bound method NDFrame.head of       Name  Age\n",
            "0    Alice   25\n",
            "1      Bob   30\n",
            "2  Charlie   35>\n"
          ]
        }
      ]
    },
    {
      "cell_type": "code",
      "source": [
        "import numpy as np\n",
        "data = [1,2,3,4]\n",
        "arr = np.array(data)\n",
        "print(arr,type(arr))"
      ],
      "metadata": {
        "colab": {
          "base_uri": "https://localhost:8080/"
        },
        "id": "YkcBb00MRFQC",
        "outputId": "2a87e9f5-17ea-4131-8bfb-c881dd7bb01d"
      },
      "execution_count": null,
      "outputs": [
        {
          "output_type": "stream",
          "name": "stdout",
          "text": [
            "[1 2 3 4] <class 'numpy.ndarray'>\n"
          ]
        }
      ]
    },
    {
      "cell_type": "code",
      "source": [
        "import numpy as np\n",
        "arr = np.array(data)\n",
        "print(arr)"
      ],
      "metadata": {
        "colab": {
          "base_uri": "https://localhost:8080/"
        },
        "id": "yfJ-WUq8b5Xj",
        "outputId": "9a68eacb-f393-4879-d57c-2a43fc04a75f"
      },
      "execution_count": null,
      "outputs": [
        {
          "output_type": "stream",
          "name": "stdout",
          "text": [
            "[1 2 3 4]\n"
          ]
        }
      ]
    },
    {
      "cell_type": "code",
      "source": [
        "# 사용자 함수 예제\n",
        "def greet(name):\n",
        "    return f\"Hello,{name}!\"\n",
        "print(greet(\"홍길동\"))"
      ],
      "metadata": {
        "colab": {
          "base_uri": "https://localhost:8080/"
        },
        "id": "7z-HXrakSSGC",
        "outputId": "d3d3e361-7eb9-4a1d-f29d-e651500b8c72"
      },
      "execution_count": null,
      "outputs": [
        {
          "output_type": "stream",
          "name": "stdout",
          "text": [
            "Hello,홍길동!\n"
          ]
        }
      ]
    },
    {
      "cell_type": "code",
      "source": [
        "# 람다 함수는 간단한 한 줄의 함수를 작성할 때 유용\n",
        "multiply = lambda x , y : x * y\n",
        "print(multiply(3,4)) # 출력 :12"
      ],
      "metadata": {
        "colab": {
          "base_uri": "https://localhost:8080/"
        },
        "id": "-j0exTQhS1l6",
        "outputId": "ab300763-b8a8-4379-ed58-21af868cd29e"
      },
      "execution_count": null,
      "outputs": [
        {
          "output_type": "stream",
          "name": "stdout",
          "text": [
            "12\n"
          ]
        }
      ]
    },
    {
      "cell_type": "code",
      "source": [
        "# 조건 사용:\n",
        "is_even = lambda x : True if x % 2 == 0 else False\n",
        "print(is_even(4)) # 출력 : True\n",
        "print(is_even(5)) # 출력 : False"
      ],
      "metadata": {
        "colab": {
          "base_uri": "https://localhost:8080/"
        },
        "id": "JJq9FyBQTdwQ",
        "outputId": "1b12b379-c4ab-4e70-bcce-39d61df5c90a"
      },
      "execution_count": null,
      "outputs": [
        {
          "output_type": "stream",
          "name": "stdout",
          "text": [
            "True\n",
            "False\n"
          ]
        }
      ]
    },
    {
      "cell_type": "markdown",
      "source": [
        "Task2_0503. 내장함수 5개를 활용해서 사용자 함수로 간단한 프로그램을 만드세요.\n",
        "\n",
        "[예시] 문서관리 프로그램\n",
        "\n",
        "len() - 문자열의 길이를 계산합니다.\\\n",
        "input() - 사용자로부터 입력을 받습니다.\\\n",
        "print() - 결과를 출력합니다.\\\n",
        "sum() - 주어진 조건에 따라 특정 개수를 계산합니다.\\\n",
        "Counter (from collections) - 문자의 빈도수를 계산합니다.\\"
      ],
      "metadata": {
        "id": "WXcM8QR4UhGh"
      }
    },
    {
      "cell_type": "code",
      "source": [
        "num = (1,2,3,4,5,6,7,8,9,10)\n",
        "print(len(num))\n",
        "print(input(\"숫자를 입력하세요\"))\n",
        "print(sum(num))\n",
        "\n"
      ],
      "metadata": {
        "colab": {
          "base_uri": "https://localhost:8080/"
        },
        "id": "JiVJUkk9nY5G",
        "outputId": "05aedb1c-1403-4b66-dd97-9bf64041adbd"
      },
      "execution_count": null,
      "outputs": [
        {
          "output_type": "stream",
          "name": "stdout",
          "text": [
            "10\n",
            "숫자를 입력하세요2\n",
            "2\n",
            "55\n"
          ]
        }
      ]
    },
    {
      "cell_type": "markdown",
      "source": [
        "Task3_0503. 외장함수 3개 이상 활용해서 간단한 프로그램을 만드세요"
      ],
      "metadata": {
        "id": "i6nHV1zhWOTQ"
      }
    },
    {
      "cell_type": "markdown",
      "source": [
        "Task4_0503. 리스트를 작성하고 람다 함수를 이용해서 한번에 함수를 적용하여 결과값을 출력하세요."
      ],
      "metadata": {
        "id": "9h1MQm2jWP1w"
      }
    },
    {
      "cell_type": "code",
      "source": [
        "numbers = [1,2,3,4,5,6,7,8,9,10]\n",
        "\n",
        "multiply_list = lambda x : x * 2\n",
        "\n",
        "result = list(map(multiply_list , numbers))\n",
        "\n",
        "print(result)"
      ],
      "metadata": {
        "colab": {
          "base_uri": "https://localhost:8080/"
        },
        "id": "qv6O03E0gYzj",
        "outputId": "2ccca43d-7970-4cde-e3a7-b199b2d691fc"
      },
      "execution_count": null,
      "outputs": [
        {
          "output_type": "stream",
          "name": "stdout",
          "text": [
            "[2, 4, 6, 8, 10, 12, 14, 16, 18, 20]\n"
          ]
        }
      ]
    },
    {
      "cell_type": "code",
      "source": [
        "numbers = [1,2,3,4,5]\n",
        "squared_numbers = map(lambda x : x * x , numbers)\n",
        "print(list(squared_numbers))"
      ],
      "metadata": {
        "colab": {
          "base_uri": "https://localhost:8080/"
        },
        "id": "hElw9cyvZEpZ",
        "outputId": "44b4a68c-1f90-4ab2-d68a-4ed8902c79c2"
      },
      "execution_count": null,
      "outputs": [
        {
          "output_type": "stream",
          "name": "stdout",
          "text": [
            "[1, 4, 9, 16, 25]\n"
          ]
        }
      ]
    },
    {
      "cell_type": "markdown",
      "source": [
        "Task5_0503. 외부 라이브러리를 임포트해서 간단한 프로그램을 만드세요.\n"
      ],
      "metadata": {
        "id": "XF8NjUZoWSB9"
      }
    },
    {
      "cell_type": "code",
      "source": [
        "from bs4 import BeautifulSoup\n",
        "html_doc = \"<html><head><title>Hello World</title></head></html>\"\n",
        "soup = BeautifulSoup(html_doc, 'html.parser')\n",
        "print(soup.title.text)"
      ],
      "metadata": {
        "colab": {
          "base_uri": "https://localhost:8080/"
        },
        "id": "xvDGloUcWVdJ",
        "outputId": "da6ae04f-cd93-40d2-eb95-82908ee73d8e"
      },
      "execution_count": null,
      "outputs": [
        {
          "output_type": "stream",
          "name": "stdout",
          "text": [
            "Hello World\n"
          ]
        }
      ]
    }
  ]
}