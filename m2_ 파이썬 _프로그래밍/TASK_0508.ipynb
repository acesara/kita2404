{
  "nbformat": 4,
  "nbformat_minor": 0,
  "metadata": {
    "colab": {
      "provenance": []
    },
    "kernelspec": {
      "name": "python3",
      "display_name": "Python 3"
    },
    "language_info": {
      "name": "python"
    }
  },
  "cells": [
    {
      "cell_type": "markdown",
      "source": [
        "task1_0508. tilte()함수를 사용하지 않고 동일한 결과를 출력하세요"
      ],
      "metadata": {
        "id": "GgWA1YjJVl30"
      }
    },
    {
      "cell_type": "code",
      "source": [
        "name = input('이름을 영어로 입력하세요 : ')\n",
        "name = name.strip().split()\n",
        "result = []\n",
        "\n",
        "for i in name:\n",
        "    result.append(i.capitalize())\n",
        "print(' '.join(result))"
      ],
      "metadata": {
        "id": "1sG-YJjgVmPz"
      },
      "execution_count": null,
      "outputs": []
    },
    {
      "cell_type": "markdown",
      "source": [
        "Task2_0508. join 함수를 이용해서 ['a','b','c']을 아래와 같이 출력하세요.\n",
        "\n",
        "a::b::c"
      ],
      "metadata": {
        "id": "VmQavtXdVpq8"
      }
    },
    {
      "cell_type": "code",
      "source": [
        "list = ['a','b','c']\n",
        "\n",
        "result = '::'.join(list)\n",
        "\n",
        "print(result)\n"
      ],
      "metadata": {
        "id": "x37xSUoGVruu"
      },
      "execution_count": null,
      "outputs": []
    },
    {
      "cell_type": "markdown",
      "source": [
        "Task3_0508. 다음을 수행하세요.\n",
        "\n",
        "사용자로부터 문자열을 입력받습니다.\n",
        "입력받은 문자열이 숫자로만 이루어져 있는지 확인합니다.\n",
        "만약 숫자로만 이루어져 있다면, 그 숫자를 정수로 변환하여 100을 더한 결과를 출력합니다.\n",
        "숫자가 아닌 문자가 포함되어 있다면, 사용자에게 숫자만 입력하라는 메시지를 출력합니다.\n",
        "연산이 수행이 완료될 때까지 반복하고 수행이 완료되면 break 합니다."
      ],
      "metadata": {
        "id": "p3wYuZXHVtDv"
      }
    },
    {
      "cell_type": "code",
      "source": [
        "while 1:\n",
        "    string_number = input(\"문자열을 입력하세요\")\n",
        "    if string_number.isdigit():\n",
        "        result = int(string_number) + 100\n",
        "        print(result)\n",
        "        break\n",
        "    else:\n",
        "        print(\"숫자만 입력해주세요\")"
      ],
      "metadata": {
        "id": "6Lqp9q2RV3Tf"
      },
      "execution_count": null,
      "outputs": []
    },
    {
      "cell_type": "code",
      "source": [
        "while True:\n",
        "    user_input = input(\"문자열을 입력하세요: \")\n",
        "\n",
        "    # 입력된 문자열이 숫자로만 이루어져 있는지 확인\n",
        "    if user_input.isdigit():\n",
        "        # 숫자로만 이루어져 있으면 정수로 변환하여 100을 더한 결과 출력\n",
        "        result = int(user_input) + 100\n",
        "        print(\"결과:\", result)\n",
        "        break\n",
        "    else:\n",
        "        # 숫자가 아닌 문자가 포함되어 있으면 메시지 출력 후 반복\n",
        "        print(\"숫자만 입력하세요.\")"
      ],
      "metadata": {
        "id": "lPeHmWfyV6LG"
      },
      "execution_count": null,
      "outputs": []
    },
    {
      "cell_type": "markdown",
      "source": [
        "Task4_0508. 문자와 숫자로만 구성된 아이디만 유효한 규칙을 만들려고 한다. 아래 사항을 참조하여 프로그램을 작성하세요.\n",
        "\n",
        "사용자로부터 문자열을 입력받습니다.\n",
        "입력받은 문자열이 알파벳과 숫자로만 이루어져 있는지 확인합니다.\n",
        "만약 조건을 만족한다면 \"유효한 아이디입니다\"라고 출력합니다.\n",
        "그렇지 않다면, \"아이디는 알파벳과 숫자만 포함할 수 있습니다\"라고 메시지를 출력하고 다시 입력하도록 한다"
      ],
      "metadata": {
        "id": "IJVzVTQcV77M"
      }
    },
    {
      "cell_type": "code",
      "source": [
        "while 1:\n",
        "    string_number = input(\"문자열을 입력해 주세요\")\n",
        "    if string_number.isalnum():\n",
        "        print(\"유효한 아이디입니다.\")\n",
        "        break\n",
        "    else:\n",
        "        print(\"아이디는 알파벳과 숫자만 포함할수 있습니다\")"
      ],
      "metadata": {
        "id": "D4wPNO5HV9f6"
      },
      "execution_count": null,
      "outputs": []
    },
    {
      "cell_type": "markdown",
      "source": [
        "Task5_0508. 코딩을 한줄로 작성해서 동일한 결과를 출력하세요."
      ],
      "metadata": {
        "id": "9RzoYHYHWB9L"
      }
    },
    {
      "cell_type": "code",
      "source": [
        "list = []\n",
        "for i in range(0,20,2): # 0부터 19까지 2씩 간격\n",
        "     list.append(i*i)\n",
        "print(list)"
      ],
      "metadata": {
        "id": "NYF_CSYwWE6K"
      },
      "execution_count": null,
      "outputs": []
    },
    {
      "cell_type": "code",
      "source": [
        "print([i*i for i in range(0,20,2)])"
      ],
      "metadata": {
        "id": "h6BE0FXyWGRw"
      },
      "execution_count": null,
      "outputs": []
    },
    {
      "cell_type": "markdown",
      "source": [
        "Task6_0508. 유닉스 타임스탬프를 받아서 해당 시간을 datetime.datetime 객체로 변환하고, 그 결과를 출력하는 사용자 함수를 작성하여 임의의 타임스탬프를 입력하여 결과를 출력하세요."
      ],
      "metadata": {
        "id": "yJdW-xaFWN2v"
      }
    },
    {
      "cell_type": "code",
      "source": [
        "# datetime -> str\n",
        "\n",
        "from datetime import datetime\n",
        "\n",
        "s = datetime.now()\n",
        "print(s, type(s))\n",
        "\n",
        "s1 = s.strftime(\"%Y-%m-%d %H:%M:%S\")\n",
        "print(s1 , type(s1))"
      ],
      "metadata": {
        "id": "PqlKvkpgWPoK"
      },
      "execution_count": null,
      "outputs": []
    },
    {
      "cell_type": "markdown",
      "source": [
        "Task7_0508. datetime 객체를 문자열로 변환하는 사용자 함수를 작성하여 datetime 객체를 \"YYYY-MM-DD HH:MM:SS\" 형식의 문자열로 변환하고 출력하세요."
      ],
      "metadata": {
        "id": "GXijbhDEWRsc"
      }
    },
    {
      "cell_type": "code",
      "source": [
        "from datetime import datetime\n",
        "\n",
        "def str_date (date) :\n",
        "  return date.strftime('%Y-%m-%d %H:%M:%S')\n",
        "\n",
        "result = str_date(datetime.now())\n",
        "\n",
        "print(result , type(result))"
      ],
      "metadata": {
        "id": "sUPMZV4hWTp6"
      },
      "execution_count": null,
      "outputs": []
    },
    {
      "cell_type": "code",
      "source": [
        "# Task7번 타임존을 한국 기준으로 바꾸어 출력되게 하는 코드 아래와 같습니다.\n",
        "from datetime import datetime\n",
        "\n",
        "# def str_date (date) :\n",
        "#   return date.strftime('%Y-%m-%d %H:%M:%S')\n",
        "\n",
        "def datetime_to_string(dt):\n",
        "    soeul_timezone = pytz.timezone('Asia/Seoul')\n",
        "    dt_korea = dt.astimezone(soeul_timezone)\n",
        "    return dt_korea.strftime('%Y-%m-%d %H:%M:%S')\n",
        "\n",
        "# result = str_date(datetime.now())\n",
        "result = datetime_to_string(datetime.now())\n",
        "print(result , type(result))"
      ],
      "metadata": {
        "id": "HKQXMeD2WXQ6"
      },
      "execution_count": null,
      "outputs": []
    },
    {
      "cell_type": "markdown",
      "source": [
        "Task8_0508. 올해 경과된 날짜수 계산하세요."
      ],
      "metadata": {
        "id": "cV0OSdjPWc_O"
      }
    },
    {
      "cell_type": "code",
      "source": [
        "import datetime\n",
        "\n",
        "date1 = datetime.date(2024,1,1)\n",
        "date2 = datetime.date(2024,5,9)\n",
        "diff = date2 - date1\n",
        "print(\"올해 경과된 날짜 수 :\",diff.days,\"일\")"
      ],
      "metadata": {
        "id": "Nw_Uk6DhWeWW"
      },
      "execution_count": null,
      "outputs": []
    },
    {
      "cell_type": "code",
      "source": [
        "import datetime\n",
        "\n",
        "today = datetime.date.today()\n",
        "print(today)\n",
        "\n",
        "started_day = datetime.date(2024,1,1)\n",
        "print(started_day)\n",
        "\n",
        "diff = today - started_day\n",
        "print(diff.days,\"일\")"
      ],
      "metadata": {
        "id": "28yz8iQHWfus"
      },
      "execution_count": null,
      "outputs": []
    },
    {
      "cell_type": "markdown",
      "source": [
        "Task9_0508. 현재 요일을 \"2021-6-26 오늘은 토요일입니다.\"와 같은 형식으로 출력하세요."
      ],
      "metadata": {
        "id": "AyIP2uvqWiQC"
      }
    },
    {
      "cell_type": "code",
      "source": [
        "import datetime\n",
        "\n",
        "today = datetime.date.today()\n",
        "print(today)\n",
        "\n",
        "result = today.strftime(\"%Y-%m-%d 오늘은 %A 입니다\")\n",
        "print(result)"
      ],
      "metadata": {
        "id": "cgZ4IqKZWjxE"
      },
      "execution_count": null,
      "outputs": []
    },
    {
      "cell_type": "code",
      "source": [
        "import time\n",
        "from datetime import datetime\n",
        "\n",
        "wdays = {'Mon':'월요일', 'Tue':'화요일', 'Wed':'수요일', 'Thu':'목요일', 'Fri':'금요일', 'Sat':'토요일', 'Sun': '일요일'}\n",
        "\n",
        "now  = datetime.now()\n",
        "date = now.date()\n",
        "wday = now.strftime(\"%a\")\n",
        "\n",
        "print(f'{date} 오늘은 {wdays[wday]}입니다.')"
      ],
      "metadata": {
        "id": "Pf1P_froWk7e"
      },
      "execution_count": null,
      "outputs": []
    },
    {
      "cell_type": "code",
      "source": [
        "import time\n",
        "\n",
        "weekdays = ['월요일','화요일','수요일','목요일','금요일','토요일','일요일']\n",
        "t = time.localtime()\n",
        "today = f'{t.tm_year}-{t.tm_mon}-{t.tm_mday}'\n",
        "week = weekdays[t.tm_wday]\n",
        "# print('%s 오늘은 %s입니다' %(today, week))\n",
        "print(f'{today} 오늘은 {week}입니다.')"
      ],
      "metadata": {
        "id": "DGDlci2hWmd3"
      },
      "execution_count": null,
      "outputs": []
    },
    {
      "cell_type": "markdown",
      "source": [
        "Task10_0508. 1에서 백만까지 더하는데 걸리는 프로그램 실행 시간을 밀리초(ms) 단위로 구하세요.(1ms=0.001초)"
      ],
      "metadata": {
        "id": "far9qi0EWoVO"
      }
    },
    {
      "cell_type": "code",
      "source": [
        "# 1\n",
        "import time\n",
        "\n",
        "start = time.time()\n",
        "sn = sum(range(1, 1000001))\n",
        "end = time.time()\n",
        "print(f\"1에서 백만까지 더하는데 걸린 시간 : {(end - start):.3f}초\")\n",
        "\n",
        "minute, second = divmod((end-start), 60)\n",
        "h, m = divmod(minute, 60)\n",
        "print(f'{int(h)}시간 {int(minute)}분 {second:.3f}초')"
      ],
      "metadata": {
        "id": "QUAt50aFWpb-"
      },
      "execution_count": null,
      "outputs": []
    },
    {
      "cell_type": "code",
      "source": [
        "# 2\n",
        "import time\n",
        "\n",
        "t1 = time.time()\n",
        "t2 = 0\n",
        "result = 0\n",
        "\n",
        "for i in range(1000000):\n",
        "    result += i+1\n",
        "else:\n",
        "    t2 = time.time()\n",
        "\n",
        "print(f'백만까지 더한 값: {result}\\n걸린 시간: {round((t2-t1)*1000)} (ms)')"
      ],
      "metadata": {
        "id": "BuqgmCeQWqtn"
      },
      "execution_count": null,
      "outputs": []
    }
  ]
}