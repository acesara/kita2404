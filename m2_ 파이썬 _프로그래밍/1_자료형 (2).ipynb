{
  "nbformat": 4,
  "nbformat_minor": 0,
  "metadata": {
    "colab": {
      "provenance": []
    },
    "kernelspec": {
      "name": "python3",
      "display_name": "Python 3"
    },
    "language_info": {
      "name": "python"
    }
  },
  "cells": [
    {
      "cell_type": "markdown",
      "source": [],
      "metadata": {
        "id": "l3LSbiML7Vrh"
      }
    },
    {
      "cell_type": "code",
      "source": [],
      "metadata": {
        "id": "yZxmGKFrBeS6"
      },
      "execution_count": null,
      "outputs": []
    },
    {
      "cell_type": "markdown",
      "source": [
        "#### 파이썬 이란\n",
        "- 1990년 암스테르담의 귀도 반 로섬(Guido Van Rossum)이 개발한 인터프리터 언어\n",
        "- 컴퓨터 프로그래밍 교육을 위해 많이 사용하지만, 기업의 실무를 위해서도 많이 사용하는 언어. 구글에서 만든 소프트웨어의 50%이상이 파이썬으로 작성\n",
        "\n",
        "#### 파이썬의 특징\n",
        "- 파이썬은 인간다운 언어이다\n",
        "- 파이썬은 문법이 쉬워 빠르게 배울 수 있다\n",
        "- 파이썬은 무료이지만 강력하다\n",
        "- 파이썬은 간결하다\n",
        "- 파이썬은 프로그래밍을 즐기게 해준다\n",
        "- 파이썬은 개발 속도가 빠르다\n",
        "#### 파이썬으로 할 수 있는 일\n",
        "- 웹 개발: Django, Flask 등의 프레임워크를 사용하여 웹 애플리케이션을 개발할 수 있습니다.\n",
        "- 데이터 분석: Pandas, NumPy, SciPy와 같은 라이브러리를 사용하여 데이터를 분석하고 처리할 수 있습니다.\n",
        "- 머신 러닝과 인공지능: TensorFlow, PyTorch, Scikit-learn 등의 라이브러리를 활용하여 머신 러닝 모델을 구축하고 훈련시킬 수 있습니다.\n",
        "- 자동화: 파이썬 스크립트를 작성하여 일상적인 작업을 자동화하고, 시스템 관리 작업을 수행할 수 있습니다.\n",
        "- 게임 개발: Pygame과 같은 라이브러리를 사용하여 간단한 게임을 개발할 수 있습니다.\n",
        "- 모바일 애플리케이션 개발: Kivy 또는 BeeWare와 같은 라이브러리를 사용하여 모바일 애플리케이션을 개발할 수 있습니다.\n",
        "- 데스크탑 애플리케이션 개발: PyQt, Tkinter 등의 라이브러리를 활용하여 데스크탑 애플리케이션을 개발할 수 있습니다.\n",
        "- 시스템 스크립팅과 네트워킹: 시스템 유틸리티를 개발하거나 네트워크 프로토콜을 구현할 수 있습니다.\n",
        "- 임베디드 시스템과 하드웨어 제어: 라즈베리 파이와 같은 임베디드 시스템을 제어하고 하드웨어를 프로그래밍할 수 있습니다.\n",
        "- 사이언티픽 컴퓨팅: 과학적 연산과 시뮬레이션을 위해 파이썬을 활용할 수 있습니다.\n",
        "- 교육: 파이썬은 초보자에게 프로그래밍을 가르치는 데 이상적인 언어로 평가받고 있습니다.\n",
        "- 파이썬의 다양한 라이브러리와 프레임워크 덕분에, 이러한 분야에서의 작업이 더욱 쉽고 효율적으로 수행될 수 있습니다."
      ],
      "metadata": {
        "id": "RNoml1hr71gw"
      }
    },
    {
      "cell_type": "code",
      "source": [
        "1 # ! 기호는  colab 셀에서 Unix/Linux 셀에서 실행\n",
        "!Python -- version"
      ],
      "metadata": {
        "colab": {
          "base_uri": "https://localhost:8080/"
        },
        "id": "whsMHI2jr7xD",
        "outputId": "03709931-0f94-48ef-d369-0dcfefe09dd9"
      },
      "execution_count": null,
      "outputs": [
        {
          "output_type": "stream",
          "name": "stdout",
          "text": [
            "/bin/bash: line 1: Python: command not found\n"
          ]
        }
      ]
    },
    {
      "cell_type": "markdown",
      "source": [
        "#### 용어\n",
        "- 식별자 : 프로그램밍 언어에서 이름을 붙일 때 사용하는 단어. 주로 변수 또는 함수 이름 등으로 사용\n",
        "- 주석 : 프로그램을 설명하기 위해 사용. # 기호로 주석 처리\n",
        "- 연산자 : 스스로 값이 되는 것이 아니고 값과 값 사이에 무언가 기능을 적용할 때 사용\n",
        "- 자료 : 리터럴이라고 하는데 숫자이든 문자이든 어떠한 값 자체를 의미. 1, 10, \"Hello\"\n",
        "- 키워드 : 파이썬이 만들어질 때 이미 사용하겠다고 예약해 놓는 것. False, None, True, ...\n",
        "- 프로그램밍 언어에서 사용자가 이름을 정할 때 키워드는 사용할 수 없음\n",
        "#### 식별자\n",
        "count, user_name, _is_valid, calculate_area, Car, model, year, math 및 m 모두 유효한 식별자. 각각의 식별자는 특정한 데이터 또는 기능에 이름을 부여하여 코드 내에서 해당 데이터나 기능을 참조할 수 있게하며 코드의 가독성과 유지 보수성을 높이는 데 중요한 역할"
      ],
      "metadata": {
        "id": "i2RLii-cDZso"
      }
    },
    {
      "cell_type": "markdown",
      "source": [
        "##식별자 기본 규칙\n",
        "- 키워드를 사용하면 안된다\n",
        "- 특수문자는 언더바(_)만 사용\n",
        "- 숫자로 시작하면 안된다\n",
        "- 공백을 포함 할 수 없다"
      ],
      "metadata": {
        "id": "WwRJwzTfIQBf"
      }
    },
    {
      "cell_type": "markdown",
      "source": [
        "#### 자료형\n",
        "- 자료형 또는 데이터 타입이란 숫자, 문자 등과 같이 여러 종류의 데이터를 구분하기 위한 분류\n",
        "- 파이썬의 자료형은 크게 숫자(numbers), 시퀀스(sequence), 매핑(mapping) 등으로 나눌 수 있다.\n",
        "- 파이썬의 기본 자료형\n",
        "  - 수치형\n",
        "    - 정수형 : int는 정수(integer)를 나타낸다. 양의 정수와 음의 정수, 숫자 0\n",
        "    - 실수형 : float는 원래 부동소수점수(floating-point number)를 가리키는데, 지금은 단순히 소수점 이하를 표현할 수 있는 수이다.\n",
        "    - 복소수형 : 복소수를 complex로 나타내고 제곱하면 -1이 되는 수 i를 ‘허수(imaginary number)’라고 하는데 허수 i를 j로 표현\n",
        "  - 시퀀스 : 문자열(str), 리스트(list), 튜플(tuple), 사용자 정의 클래스가 시퀀스에 속한다. for 문에서 사용할 수 있는 것들이 바로 시퀀스\n",
        "    - 문자열 : 문자를 한 줄로 표현하며 문자열 인덱스를 이용해 문자열의 일부를 복사\n",
        "    - 리스트 : 대괄호([ ])로 감싸 주고 각 요솟값은 쉼표(,)로 구분\n",
        "    - 튜플 : 튜플은 ( )으로 둘러싸고 각 요솟값은 쉼표(,)로 구분\n",
        "  - 매핑\n",
        "    - 사전 : 딕셔너리(dict)는 키(key)와 값(value)의 짝으로 이뤄지는데 이런 것을 매핑\n",
        "  - 집합 : 집합을 표현하는 세트(set)\n",
        "  - 블린 : 참, 거짓을 표현"
      ],
      "metadata": {
        "id": "IASl7aAHA8wp"
      }
    },
    {
      "cell_type": "markdown",
      "source": [
        "#### sort 와 sorted 차이점\n",
        "\n",
        "1. 메서드 vs 함수:\n",
        "- sort(): 리스트 객체의 내장 메서드입니다. 즉, 리스트에서만 사용할 수 있습니다.\n",
        "- sorted(): 내장 함수로, 어떤 반복 가능한(iterable) 객체에도 사용될 수 있습니다. 예를 들면 리스트, 튜플, 딕셔너리, 문자열 등에 사용할 수 있습니다.\n",
        "\n",
        "2. 반환 값:\n",
        "- sort(): 리스트를 원 위치에서(in-place) 정렬하고 None을 반환합니다. 따라서 원래의 리스트 자체가 변경됩니다.\n",
        "- sorted(): 정렬된 새로운 리스트를 반환합니다. 원래의 객체는 변경되지 않습니다.\n",
        "\n",
        "3. 유용성:\n",
        "- sort(): 리스트에서만 작동하기 때문에 리스트만 정렬할 수 있습니다.\n",
        "- sorted(): 다양한 객체를 정렬할 수 있으며 결과는 항상 리스트로 반환됩니다."
      ],
      "metadata": {
        "id": "dmmHv16n9yZ1"
      }
    },
    {
      "cell_type": "code",
      "source": [
        "# 정수형 , 실수형\n",
        "i1 = 3\n",
        "f1 = 3.5\n",
        "print(i1)\n",
        "print(f1)"
      ],
      "metadata": {
        "colab": {
          "base_uri": "https://localhost:8080/"
        },
        "id": "SCVCUQYzCgES",
        "outputId": "419ad594-93e9-4bf5-924d-5a94bdbcfe31"
      },
      "execution_count": null,
      "outputs": [
        {
          "output_type": "stream",
          "name": "stdout",
          "text": [
            "3\n",
            "3.5\n"
          ]
        }
      ]
    },
    {
      "cell_type": "code",
      "source": [
        "# 정수\n",
        "print(int(True))\n",
        "print(int(False))\n",
        "print(int(\"100\"))\n",
        "print(int(3.14))"
      ],
      "metadata": {
        "colab": {
          "base_uri": "https://localhost:8080/"
        },
        "id": "6DggK_bdC9Ki",
        "outputId": "e8771a90-3583-48b9-9c94-2bc027893730"
      },
      "execution_count": null,
      "outputs": [
        {
          "output_type": "stream",
          "name": "stdout",
          "text": [
            "1\n",
            "0\n",
            "100\n",
            "3\n"
          ]
        }
      ]
    },
    {
      "cell_type": "code",
      "source": [
        "# 실수\n",
        "print(float(True))\n",
        "print(float(False))\n",
        "print(float(\"100\"))\n",
        "print(float(3.14))"
      ],
      "metadata": {
        "colab": {
          "base_uri": "https://localhost:8080/"
        },
        "id": "x-R07XVXDaVn",
        "outputId": "d2330031-a44d-42a5-e84a-35ba057ad7dc"
      },
      "execution_count": null,
      "outputs": [
        {
          "output_type": "stream",
          "name": "stdout",
          "text": [
            "1.0\n",
            "0.0\n",
            "100.0\n",
            "3.14\n"
          ]
        }
      ]
    },
    {
      "cell_type": "code",
      "source": [
        "print(int(True))\n",
        "print(int(False))\n",
        "print(int(\"100\"))\n",
        "print(int(3.14))\n",
        "\n",
        "print(float(True))\n",
        "print(float(False))\n",
        "print(float(\"100\"))\n",
        "print(float(3.14))"
      ],
      "metadata": {
        "colab": {
          "base_uri": "https://localhost:8080/"
        },
        "id": "v2QGzPi_anlF",
        "outputId": "8ec5083c-ae24-4af1-bbe2-6bd367d8120f"
      },
      "execution_count": null,
      "outputs": [
        {
          "output_type": "stream",
          "name": "stdout",
          "text": [
            "1\n",
            "0\n",
            "100\n",
            "3\n",
            "1.0\n",
            "0.0\n",
            "100.0\n",
            "3.14\n"
          ]
        }
      ]
    },
    {
      "cell_type": "code",
      "source": [
        "# 사칙연산 : + , * , / , // , % , **\n",
        "\n",
        "a = 10\n",
        "b = 2.3\n",
        "print(a + b)\n",
        "print(a*b)\n",
        "print(a / b)\n",
        "print(a // b)\n",
        "print(a % b)\n",
        "print(a ** b)"
      ],
      "metadata": {
        "colab": {
          "base_uri": "https://localhost:8080/"
        },
        "id": "D2OdwKW_E5Ps",
        "outputId": "b1503e75-a3db-4f1c-eac2-1c923fa0a5af"
      },
      "execution_count": null,
      "outputs": [
        {
          "output_type": "stream",
          "name": "stdout",
          "text": [
            "12.3\n",
            "23.0\n",
            "4.347826086956522\n",
            "4.0\n",
            "0.8000000000000007\n",
            "199.52623149688787\n"
          ]
        }
      ]
    },
    {
      "cell_type": "code",
      "source": [
        "# 문자열\n",
        "string = '문자열'\n",
        "a = \"100\"\n",
        "\n",
        "print(string)\n",
        "print(a)"
      ],
      "metadata": {
        "colab": {
          "base_uri": "https://localhost:8080/"
        },
        "id": "rDdCd4YfFtzE",
        "outputId": "108e6da1-8c6a-4e5e-c991-b036b00cd829"
      },
      "execution_count": null,
      "outputs": [
        {
          "output_type": "stream",
          "name": "stdout",
          "text": [
            "문자열\n",
            "100\n"
          ]
        }
      ]
    },
    {
      "cell_type": "code",
      "source": [
        "a = 100\n",
        "b = 50\n",
        "print(a + b)\n",
        "a = \"100\"\n",
        "b = \"50\"\n",
        "print(a + b)"
      ],
      "metadata": {
        "colab": {
          "base_uri": "https://localhost:8080/"
        },
        "id": "mNTH2T2dGS5D",
        "outputId": "07baee60-47e1-4842-e84b-fab6da33335d"
      },
      "execution_count": null,
      "outputs": [
        {
          "output_type": "stream",
          "name": "stdout",
          "text": [
            "150\n",
            "10050\n"
          ]
        }
      ]
    },
    {
      "cell_type": "code",
      "source": [
        "a = \"100\"\n",
        "b = \"50\"\n",
        "print(int(a + b))\n",
        "print(float(a + b))"
      ],
      "metadata": {
        "colab": {
          "base_uri": "https://localhost:8080/"
        },
        "id": "QQ5iODPVG3ys",
        "outputId": "f3f0ce1f-b9ef-4e9f-ca60-e37b8ead6a2e"
      },
      "execution_count": null,
      "outputs": [
        {
          "output_type": "stream",
          "name": "stdout",
          "text": [
            "10050\n",
            "10050.0\n"
          ]
        }
      ]
    },
    {
      "cell_type": "code",
      "source": [
        "a = 40\n",
        "b = 50\n",
        "print(a + b)\n",
        "a = \"40\"\n",
        "b = \"50\"\n",
        "print(a + b)"
      ],
      "metadata": {
        "colab": {
          "base_uri": "https://localhost:8080/"
        },
        "id": "J0XuBij3cAeB",
        "outputId": "4f96df44-1631-44d0-a44c-209850c3e6fa"
      },
      "execution_count": null,
      "outputs": [
        {
          "output_type": "stream",
          "name": "stdout",
          "text": [
            "90\n",
            "4050\n"
          ]
        }
      ]
    },
    {
      "cell_type": "code",
      "source": [
        "a = \"100\"\n",
        "b = \"50\"\n",
        "print(int(a))\n",
        "print(int(b))\n",
        "print(a)\n",
        "print(b)\n",
        "print(int(a+b))"
      ],
      "metadata": {
        "colab": {
          "base_uri": "https://localhost:8080/"
        },
        "id": "4Ucu4FSYM4Tk",
        "outputId": "81d4e5e9-fe91-4e8e-aae3-ad1f2e2e3847"
      },
      "execution_count": null,
      "outputs": [
        {
          "output_type": "stream",
          "name": "stdout",
          "text": [
            "100\n",
            "50\n",
            "100\n",
            "50\n",
            "10050\n"
          ]
        }
      ]
    },
    {
      "cell_type": "code",
      "source": [
        "a = \"1000\"\n",
        "b = \"500\"\n",
        "print(int(a))\n",
        "print(int(b))\n",
        "print(int(a + b))"
      ],
      "metadata": {
        "colab": {
          "base_uri": "https://localhost:8080/"
        },
        "id": "Oo8VCsJNdA3M",
        "outputId": "dc7d2551-c709-4f0c-f4d2-b11fa9d55b4d"
      },
      "execution_count": null,
      "outputs": [
        {
          "output_type": "stream",
          "name": "stdout",
          "text": [
            "1000\n",
            "500\n",
            "1000500\n"
          ]
        }
      ]
    },
    {
      "cell_type": "code",
      "source": [
        "input(\"인사말을 입력하세요\")"
      ],
      "metadata": {
        "colab": {
          "base_uri": "https://localhost:8080/",
          "height": 300
        },
        "id": "8LTf0ecHH16h",
        "outputId": "fd91ee0d-5eb8-42a7-8f98-dfeaf7a3222f"
      },
      "execution_count": null,
      "outputs": [
        {
          "output_type": "error",
          "ename": "KeyboardInterrupt",
          "evalue": "Interrupted by user",
          "traceback": [
            "\u001b[0;31m---------------------------------------------------------------------------\u001b[0m",
            "\u001b[0;31mKeyboardInterrupt\u001b[0m                         Traceback (most recent call last)",
            "\u001b[0;32m<ipython-input-154-223247d5aa89>\u001b[0m in \u001b[0;36m<cell line: 1>\u001b[0;34m()\u001b[0m\n\u001b[0;32m----> 1\u001b[0;31m \u001b[0minput\u001b[0m\u001b[0;34m(\u001b[0m\u001b[0;34m\"인사말을 입력하세요\"\u001b[0m\u001b[0;34m)\u001b[0m\u001b[0;34m\u001b[0m\u001b[0;34m\u001b[0m\u001b[0m\n\u001b[0m",
            "\u001b[0;32m/usr/local/lib/python3.10/dist-packages/ipykernel/kernelbase.py\u001b[0m in \u001b[0;36mraw_input\u001b[0;34m(self, prompt)\u001b[0m\n\u001b[1;32m    849\u001b[0m                 \u001b[0;34m\"raw_input was called, but this frontend does not support input requests.\"\u001b[0m\u001b[0;34m\u001b[0m\u001b[0;34m\u001b[0m\u001b[0m\n\u001b[1;32m    850\u001b[0m             )\n\u001b[0;32m--> 851\u001b[0;31m         return self._input_request(str(prompt),\n\u001b[0m\u001b[1;32m    852\u001b[0m             \u001b[0mself\u001b[0m\u001b[0;34m.\u001b[0m\u001b[0m_parent_ident\u001b[0m\u001b[0;34m,\u001b[0m\u001b[0;34m\u001b[0m\u001b[0;34m\u001b[0m\u001b[0m\n\u001b[1;32m    853\u001b[0m             \u001b[0mself\u001b[0m\u001b[0;34m.\u001b[0m\u001b[0m_parent_header\u001b[0m\u001b[0;34m,\u001b[0m\u001b[0;34m\u001b[0m\u001b[0;34m\u001b[0m\u001b[0m\n",
            "\u001b[0;32m/usr/local/lib/python3.10/dist-packages/ipykernel/kernelbase.py\u001b[0m in \u001b[0;36m_input_request\u001b[0;34m(self, prompt, ident, parent, password)\u001b[0m\n\u001b[1;32m    893\u001b[0m             \u001b[0;32mexcept\u001b[0m \u001b[0mKeyboardInterrupt\u001b[0m\u001b[0;34m:\u001b[0m\u001b[0;34m\u001b[0m\u001b[0;34m\u001b[0m\u001b[0m\n\u001b[1;32m    894\u001b[0m                 \u001b[0;31m# re-raise KeyboardInterrupt, to truncate traceback\u001b[0m\u001b[0;34m\u001b[0m\u001b[0;34m\u001b[0m\u001b[0m\n\u001b[0;32m--> 895\u001b[0;31m                 \u001b[0;32mraise\u001b[0m \u001b[0mKeyboardInterrupt\u001b[0m\u001b[0;34m(\u001b[0m\u001b[0;34m\"Interrupted by user\"\u001b[0m\u001b[0;34m)\u001b[0m \u001b[0;32mfrom\u001b[0m \u001b[0;32mNone\u001b[0m\u001b[0;34m\u001b[0m\u001b[0;34m\u001b[0m\u001b[0m\n\u001b[0m\u001b[1;32m    896\u001b[0m             \u001b[0;32mexcept\u001b[0m \u001b[0mException\u001b[0m \u001b[0;32mas\u001b[0m \u001b[0me\u001b[0m\u001b[0;34m:\u001b[0m\u001b[0;34m\u001b[0m\u001b[0;34m\u001b[0m\u001b[0m\n\u001b[1;32m    897\u001b[0m                 \u001b[0mself\u001b[0m\u001b[0;34m.\u001b[0m\u001b[0mlog\u001b[0m\u001b[0;34m.\u001b[0m\u001b[0mwarning\u001b[0m\u001b[0;34m(\u001b[0m\u001b[0;34m\"Invalid Message:\"\u001b[0m\u001b[0;34m,\u001b[0m \u001b[0mexc_info\u001b[0m\u001b[0;34m=\u001b[0m\u001b[0;32mTrue\u001b[0m\u001b[0;34m)\u001b[0m\u001b[0;34m\u001b[0m\u001b[0;34m\u001b[0m\u001b[0m\n",
            "\u001b[0;31mKeyboardInterrupt\u001b[0m: Interrupted by user"
          ]
        }
      ]
    },
    {
      "cell_type": "code",
      "source": [
        "print(input())"
      ],
      "metadata": {
        "id": "1uuhq8odeF5u"
      },
      "execution_count": null,
      "outputs": []
    },
    {
      "cell_type": "code",
      "source": [
        "# input() 함수는 입력받은 데이터를 string으로 처리한다\n",
        "a = input()\n",
        "b = input()\n",
        "print(a + b)"
      ],
      "metadata": {
        "id": "uXAYG-Q5H9Lk"
      },
      "execution_count": null,
      "outputs": []
    },
    {
      "cell_type": "code",
      "source": [],
      "metadata": {
        "id": "M_3PUsMffDmt"
      },
      "execution_count": null,
      "outputs": []
    },
    {
      "cell_type": "code",
      "source": [
        "num1 = int(input(\"첫 번째 숫자\"))\n",
        "num2 = int(input(\"두 번째 숫자\"))\n",
        "\n",
        "print(num1 + num2)"
      ],
      "metadata": {
        "id": "V2t-srOEIQIs"
      },
      "execution_count": null,
      "outputs": []
    },
    {
      "cell_type": "code",
      "source": [
        "num1 = int(input())\n",
        "num2 = int(input())\n",
        "print( num1 + num2)"
      ],
      "metadata": {
        "id": "omwyE5P7oCIH"
      },
      "execution_count": null,
      "outputs": []
    },
    {
      "cell_type": "code",
      "source": [
        "n1 = int(input())\n",
        "n2 = int(input())\n",
        "print(int(n1 + n2))"
      ],
      "metadata": {
        "id": "1ykfu5YkftOU"
      },
      "execution_count": null,
      "outputs": []
    },
    {
      "cell_type": "code",
      "source": [
        "num1 = float(input())\n",
        "num2 = float(input())\n",
        "print( num1 + num2)"
      ],
      "metadata": {
        "id": "C3hUHrdeOX52"
      },
      "execution_count": null,
      "outputs": []
    },
    {
      "cell_type": "code",
      "source": [
        "num1 = float(input())\n",
        "num2 = float(input())\n",
        "\n",
        "print(num1 + num2)"
      ],
      "metadata": {
        "id": "LYi9xZUrojNu"
      },
      "execution_count": null,
      "outputs": []
    },
    {
      "cell_type": "code",
      "source": [
        "n1 = float(input())\n",
        "n2 = float(input())\n",
        "print(float(n1 + n2))"
      ],
      "metadata": {
        "id": "RMjQPZCygAw_"
      },
      "execution_count": null,
      "outputs": []
    },
    {
      "cell_type": "code",
      "source": [
        "# 실수 + 실수 -> 실수\n",
        "#3과 3.3을 입력하고 숫자 연산을 수행하여 6.3을 출력하세요\n",
        "\n",
        "a = 3\n",
        "b = 3.3\n",
        "\n",
        "print(float(a))\n",
        "print(float(b))\n",
        "print(a + b)\n"
      ],
      "metadata": {
        "id": "zV6FBeM8JBXw"
      },
      "execution_count": null,
      "outputs": []
    },
    {
      "cell_type": "code",
      "source": [
        "a1 = 3\n",
        "b1 = 3.3\n",
        "print(float(a1))\n",
        "print(float(b1))\n",
        "print(a1 +b1)"
      ],
      "metadata": {
        "id": "zMSjLIdygSI7"
      },
      "execution_count": null,
      "outputs": []
    },
    {
      "cell_type": "code",
      "source": [
        "a = float(input())\n",
        "b = float(input())\n",
        "print(a + b)"
      ],
      "metadata": {
        "id": "XX8KMftbKwpQ"
      },
      "execution_count": null,
      "outputs": []
    },
    {
      "cell_type": "code",
      "source": [
        "a = float(input())\n",
        "b = float(input())\n",
        "print(a +b)\n",
        "\n",
        "a = 3\n",
        "b = 3.3\n",
        "print(float(a))\n",
        "print(float(b))\n",
        "print(a+b)"
      ],
      "metadata": {
        "id": "uNQPJHBKb28q"
      },
      "execution_count": null,
      "outputs": []
    },
    {
      "cell_type": "code",
      "source": [
        "a = float(input())\n",
        "b = float(input())\n",
        "print(a + b)"
      ],
      "metadata": {
        "id": "6LaK2EQ3q_RN"
      },
      "execution_count": null,
      "outputs": []
    },
    {
      "cell_type": "code",
      "source": [
        "#   Q. a = 52와 b = 52.273일때 a + b 는 5252.273으로 출력되도록 a 와 b 를 문자열 자료형으로 변환하세요.\n",
        "\n",
        "a = 52\n",
        "b = 5252.273\n",
        "a = str(a)\n",
        "b= str(b)\n",
        "print(a + b)"
      ],
      "metadata": {
        "id": "1U2s39KYNeOw"
      },
      "execution_count": null,
      "outputs": []
    },
    {
      "cell_type": "code",
      "source": [
        "# 문자열 : \"\" , '' , \"\"\" \"\"\" , ''' '''\n",
        "# p1 = 'python's value is great'\n",
        "p1 = \"python's value is great\"\n",
        "print(p1)"
      ],
      "metadata": {
        "id": "5f54EhelOtXj"
      },
      "execution_count": null,
      "outputs": []
    },
    {
      "cell_type": "code",
      "source": [
        "# 백슬래시 (w) 는 문자열 안에서 작은따옴표(')를 문자열의 끝을 의미하지 않는 일반 문자로 포함시키기 위해 사용\n",
        "# 이 기술을 이스케이프라고 한다\n",
        "p1 = 'python\\'s value is great'\n",
        "print(p1)"
      ],
      "metadata": {
        "id": "lVZc-ePKPswq"
      },
      "execution_count": null,
      "outputs": []
    },
    {
      "cell_type": "code",
      "source": [
        "# \\n 행 바꿈\n",
        "# y1 = \"Once you study date analysis you Python\"\n",
        "y1 =  \"Once you study date analysis\\nyou Python\"\n",
        "print(y1)"
      ],
      "metadata": {
        "id": "I7WAp-FLRF-O"
      },
      "execution_count": null,
      "outputs": []
    },
    {
      "cell_type": "code",
      "source": [
        "y2 = '''\n",
        "Once you study data analysis\n",
        "you need Python\n",
        "'''\n",
        "\n",
        "y3 = \"\"\"\n",
        "Once you study data analysis\n",
        "you need Python\n",
        "\"\"\"\n",
        "print(y2)\n",
        "print(y3)"
      ],
      "metadata": {
        "id": "6hY_Rpq_SFy6"
      },
      "execution_count": null,
      "outputs": []
    },
    {
      "cell_type": "code",
      "source": [
        "a1 = 'Python'\n",
        "a2 = ' is easy to learn'\n",
        "print( a1 + a2)\n",
        "print(\"=\" * 23)\n",
        "\n"
      ],
      "metadata": {
        "id": "VLCD7DFUTagY"
      },
      "execution_count": null,
      "outputs": []
    },
    {
      "cell_type": "code",
      "source": [
        "# Q. 아래와 같이 출력할 수 있는 string을 만드세요\n",
        "\n",
        "\"what a wonderful world!\"\n",
        "\n",
        "a1 = \"what\"\n",
        "a2 = \" a wonderful world!\"\n",
        "print(a1 + a2)\n",
        "\n",
        "string = '''\n",
        "\"what a wonderful world!\"\n",
        "he said loudly\n",
        "'''\n",
        "print(string)\n",
        "\n"
      ],
      "metadata": {
        "id": "A1Of6jpBUMSK"
      },
      "execution_count": null,
      "outputs": []
    },
    {
      "cell_type": "code",
      "source": [
        "# Q. 아래와 같이 출력할 수 있는 string을 만드세요\n",
        "\n",
        "# \"he said loudly\"\n",
        "\n",
        "string = '''\n",
        "he said loudly\n",
        "'''\n",
        "print(string)"
      ],
      "metadata": {
        "id": "uv3YX-eniTjs"
      },
      "execution_count": null,
      "outputs": []
    },
    {
      "cell_type": "code",
      "source": [
        "# Q. 다른 타입의 숫자 2개를 입력받아 큰 수를 출력하세요\n",
        "\n",
        "n1 = int(input())\n",
        "n2 = int(input())\n",
        "\n",
        "if n1 > n2:\n",
        "    print(n1)\n",
        "\n",
        "elif n1 < n2:\n",
        "    print(n2)\n",
        "\n",
        "else:\n",
        "\n",
        "    print(\"큰수가 없습니다.\")"
      ],
      "metadata": {
        "id": "Qd0P-NHVVRRy"
      },
      "execution_count": null,
      "outputs": []
    },
    {
      "cell_type": "markdown",
      "source": [
        "# 자료형 - List\n",
        "- 리스트는"
      ],
      "metadata": {
        "id": "LuSJwWxtJ1nt"
      }
    },
    {
      "cell_type": "code",
      "source": [
        "\n",
        "list1 = [1,2,3,4,5]\n",
        "list2 = ['a' , 'b' , 'c' , 'd']\n",
        "list3 = [1, 'a' , 'abc' , [1,2,3,4,5], ['a' , 'b' , 'c']]\n",
        "print(list1)\n",
        "print(list2)\n",
        "print(list3)"
      ],
      "metadata": {
        "id": "nrPm0FtKW9Tz"
      },
      "execution_count": null,
      "outputs": []
    },
    {
      "cell_type": "code",
      "source": [
        "# 인덱싱\n",
        "\n",
        "list1 = [1,2,3,4,5]\n",
        "\n",
        "print(list1[2])\n",
        "print(list1[0:2])\n",
        "print(list1[:4])"
      ],
      "metadata": {
        "id": "J6yHUK8SpfW1"
      },
      "execution_count": null,
      "outputs": []
    },
    {
      "cell_type": "code",
      "source": [
        "list3 = [1, 'a', 'abc', [1, 2, 3, 4, 5], ['a', 'b', 'c']]\n",
        "\n",
        "print(list3[3][2])\n",
        "print(list3[4][0])"
      ],
      "metadata": {
        "id": "6M6VFd1xquKe"
      },
      "execution_count": null,
      "outputs": []
    },
    {
      "cell_type": "code",
      "source": [
        "# 리스트 수정 , 삭제\n",
        "\n",
        "a = [0,1,2,3,4,5,6,7,8,9,]\n",
        "b = ['a' , 'b' , 'c']\n",
        "a[0] = 1\n",
        "print(a)\n",
        "b[1] = 'a'\n",
        "print(b)\n",
        "del a[0]\n",
        "print(a)\n",
        "del b[1]\n",
        "print(b)"
      ],
      "metadata": {
        "id": "aVXxQzYZrhgz"
      },
      "execution_count": null,
      "outputs": []
    },
    {
      "cell_type": "code",
      "source": [
        "# 끝에서 부터 인덱싱 : -1\n",
        "\n",
        "a = [0,1,2,3,4,5,6,7,8,9]\n",
        "b = ['a' , 'b' , 'c']\n",
        "print(a[-2])\n",
        "print(a[-4:])\n",
        "print(a[-10:-1])\n",
        "print(a[-9:])"
      ],
      "metadata": {
        "id": "BlK2jYwHsuLS"
      },
      "execution_count": null,
      "outputs": []
    },
    {
      "cell_type": "code",
      "source": [
        "# 리스트 확장\n",
        "\n",
        "h = [1,2,3]\n",
        "h.extend([4,5]) # 반복 가능한 객체의 모든 요소를 리스트에 추가\n",
        "print(h)\n",
        "h.append(6) # 단일 객체를 추가\n",
        "print(h)\n",
        "h.insert(0,5)\n",
        "print(h)"
      ],
      "metadata": {
        "id": "KdZif1FKt2vS"
      },
      "execution_count": null,
      "outputs": []
    },
    {
      "cell_type": "markdown",
      "source": [
        "Q. list1에서 다음을 수행하세요\n",
        "- 33을 출력\n",
        "- 82를 리스트에 추가\n",
        "- 87의 인덱스 구하기 - 도전\n",
        "- 인덱스 3에서 10까지의 값을 출력하고 list2에 저장한 후 내림차순 정렬하기 - 도전\n",
        "- 39를 11로 변경\n",
        "- [69,45,58] 출력\n",
        "- 짝수 인덱스의 값으로 구성된 리스트 출력하기\n",
        "- 인덱스가 가장 큰수를 삭제하기\n",
        "- 인덱스 3, 5인 값으로 4칙 연산하기\n",
        "\n",
        "list1 = [58, 45, 69, 19,  4, 87, 29, 13, 39, 15, 54, [8, 33, 11], 27, 49, 63, 98, 22, 82]"
      ],
      "metadata": {
        "id": "75Q9e6ssv8G_"
      }
    },
    {
      "cell_type": "code",
      "source": [
        "list1 = [58, 45, 69, 19, 4, 87, 29, 13, 39, 15, 54, [8, 33, 11], 27, 49, 63, 98, 22, 82]\n",
        "\n",
        "print(list1[11][1])\n",
        "list1.append(82)"
      ],
      "metadata": {
        "id": "KIePyVx_v9Nc"
      },
      "execution_count": null,
      "outputs": []
    },
    {
      "cell_type": "code",
      "source": [
        "#=======================================================================================\n",
        "list1 = [58, 45, 69, 19, 4, 87, 29, 13, 39, 15, 54, [8, 33, 11], 27, 49, 63, 98, 22, 82]\n",
        "\n",
        "print(list1[11][1],'\\n')\n",
        "list1.append(82)\n",
        "print(list1.index(87),'\\n')\n",
        "list2 = list1[3:11]\n",
        "list2.sort(reverse=True)\n",
        "print(list2,'\\n')\n",
        "list1[8] = 11\n",
        "print(list1[2::-1],'\\n')\n",
        "print(list1[0::2],'\\n')\n",
        "del list1[-1]\n",
        "print(list1,'\\n')"
      ],
      "metadata": {
        "id": "ebdLuN5-5bf4"
      },
      "execution_count": null,
      "outputs": []
    },
    {
      "cell_type": "code",
      "source": [
        "list1 = [58, 45, 69, 19, 4, 87, 29, 13, 39, 15, 54, [8, 33, 11], 27, 49, 63, 98, 22, 82]\n",
        "\n",
        "print(list1,'\\n')\n",
        "print(list1[6::-1])\n",
        "print(list1[6::2])\n",
        "print(list1[6::-2])\n",
        "print(list1[::-1])\n",
        "print(list1[:3])"
      ],
      "metadata": {
        "id": "QQnlkQNx3mhl"
      },
      "execution_count": null,
      "outputs": []
    },
    {
      "cell_type": "code",
      "source": [
        "# sort()\n",
        "\n",
        "my_list = [3,1,2]\n",
        "my_list.sort()\n",
        "print(my_list)\n",
        "\n",
        "# sorted\n",
        "\n",
        "my_tuple = (3,1,2)\n",
        "new_list = sorted(my_tuple)\n",
        "print(my_tuple)\n",
        "print(new_list)"
      ],
      "metadata": {
        "id": "KBZnJ1ikA512"
      },
      "execution_count": null,
      "outputs": []
    },
    {
      "cell_type": "code",
      "source": [
        "my_list = [6,8,1,5,3,4]\n",
        "my_list.sort()\n",
        "print(my_list)"
      ],
      "metadata": {
        "id": "d6VXeXoPS1R0"
      },
      "execution_count": null,
      "outputs": []
    },
    {
      "cell_type": "code",
      "source": [
        "my_list = [3,1,2]\n",
        "my_list.sort()\n",
        "print(my_list)\n",
        "\n",
        "my_tuple = [3,1,2]\n",
        "new_list = sorted(my_tuple)\n",
        "print(my_tuple)\n",
        "print(new_list)"
      ],
      "metadata": {
        "id": "hLLGCgLzBgmt"
      },
      "execution_count": null,
      "outputs": []
    },
    {
      "cell_type": "code",
      "source": [
        "my_list = [3,1,2]\n",
        "my_list.sort()\n",
        "print(my_list)"
      ],
      "metadata": {
        "id": "ypfAJLZ4T1yH"
      },
      "execution_count": null,
      "outputs": []
    },
    {
      "cell_type": "code",
      "source": [
        "list = [5,6,9,7,8]\n",
        "new_list = list.sort()\n",
        "print(list)\n",
        "print(new_list)\n",
        "\n",
        "list = [4,3,6,7,1]\n",
        "new_list = list.sort()\n",
        "print(list)\n",
        "print(new_list)\n",
        "\n",
        "list = [8,4,6,2,5]\n",
        "new_list = list.sort()\n",
        "print(list)\n",
        "print(new_list)"
      ],
      "metadata": {
        "id": "N3U2vW9G9s7q"
      },
      "execution_count": null,
      "outputs": []
    },
    {
      "cell_type": "code",
      "source": [
        "my_tuple = [5,3,1,7,9]\n",
        "new_list = sorted(my_tuple)\n",
        "print(my_tuple)\n",
        "print(new_list)"
      ],
      "metadata": {
        "id": "TpTdr_NEVHx6"
      },
      "execution_count": null,
      "outputs": []
    },
    {
      "cell_type": "code",
      "source": [
        "list = [5,6,9,7,8]\n",
        "new_list = sorted(list)\n",
        "print(list)\n",
        "print(new_list)\n",
        "\n",
        "list = [1,4,2,6]\n",
        "new_list = sorted(list)\n",
        "print(list)\n",
        "print(new_list)\n",
        "\n",
        "list = [5,6,9,7,8]\n",
        "new_list = sorted(list)\n",
        "print(new_list)"
      ],
      "metadata": {
        "id": "O0MK-ObsE7bO"
      },
      "execution_count": null,
      "outputs": []
    },
    {
      "cell_type": "code",
      "source": [
        "list1 = [58, 45, 69, 19, 4, 87, 29, 13, 39, 15, 54, [8, 33, 11], 27, 49, 63, 98, 22, 82]\n",
        "list2 = list[3:11]\n",
        "list_sort = sorted(list2,reverse = True)\n",
        "list_sort\n",
        "\n"
      ],
      "metadata": {
        "id": "KZEMLAPuF8lj"
      },
      "execution_count": null,
      "outputs": []
    },
    {
      "cell_type": "code",
      "source": [
        "list3 = list1[3:11]\n",
        "list3.sort(reverse = True)\n",
        "print(list3)"
      ],
      "metadata": {
        "id": "4dPDHj1dGx7i"
      },
      "execution_count": null,
      "outputs": []
    },
    {
      "cell_type": "code",
      "source": [],
      "metadata": {
        "id": "FpwOwA3xHHPI"
      },
      "execution_count": null,
      "outputs": []
    },
    {
      "cell_type": "code",
      "source": [
        "import keyword\n",
        "print(keyword.kwlist, 'wn')\n",
        "len(keyword.kwlist)/"
      ],
      "metadata": {
        "id": "MA8iiCgAJAXO"
      },
      "execution_count": null,
      "outputs": []
    },
    {
      "cell_type": "markdown",
      "source": [
        "파이썬은 snake_case 와 CamelCase를 모두 사용\n",
        "\n",
        "- itemlist: item_list itemList\n",
        "- loginstatus : login_status loginStatus\n",
        "- 캐멀 케이스(대문자로 시작)클래스\n",
        "- 스네이크 케이스(소문자로 시작)뒤에 ()가 있다 - 함수\n",
        "- 스네이크 케이스(소문자로 시작)뒤에 ()가 없다 - 변수"
      ],
      "metadata": {
        "id": "PshNJk9I7Ndf"
      }
    },
    {
      "cell_type": "code",
      "source": [
        "1 alpha\n",
        "2 break # 키워드\n",
        "3 alpha10\n",
        "4 _alpha\n",
        "5 273alpha # 숫자\n",
        "6 Alpha\n",
        "7 ALPHA\n",
        "8 has space # 공백"
      ],
      "metadata": {
        "id": "pbG9GLl-Jb0P"
      },
      "execution_count": null,
      "outputs": []
    },
    {
      "cell_type": "code",
      "source": [
        "1 # !기호는 Colab 셀에서 Unix / Linux 셀 명령어를 실행\n",
        "!python --version\n"
      ],
      "metadata": {
        "id": "aP5wPXNkBS09"
      },
      "execution_count": null,
      "outputs": []
    },
    {
      "cell_type": "code",
      "source": [
        "1 # % 기호는 IPyhon 환경( 즉 , Colab이 포함된 Jupyter 환경) 에서 제공하는 매직명령어를 사용\n",
        "2 # 현재폴더 확인"
      ],
      "metadata": {
        "id": "uTA8Pyj6CeEr"
      },
      "execution_count": null,
      "outputs": []
    },
    {
      "cell_type": "code",
      "source": [
        "1. %%time\n",
        "2. # 간단한 for 루프를 사용한 계산\n",
        "3. sum = 0\n",
        "4. for i in range(100000):\n",
        "5. sum += i\n",
        "6. print(sum)\n",
        "7."
      ],
      "metadata": {
        "id": "1xx9hIJzClsl"
      },
      "execution_count": null,
      "outputs": []
    },
    {
      "cell_type": "code",
      "source": [
        "1 # 연산자\n",
        "2 a = 5\n",
        "3 b = 3\n",
        "4 c = b % a\n",
        "5 d = b // a\n",
        "6 e = b / a\n",
        "7 print(c)\n",
        "8 print(d)\n",
        "9 print(e)"
      ],
      "metadata": {
        "id": "K9NU5PVf_fVz"
      },
      "execution_count": null,
      "outputs": []
    },
    {
      "cell_type": "code",
      "source": [
        "a = 1\n",
        "b = 2\n",
        "c = a + b\n",
        "print(c)"
      ],
      "metadata": {
        "id": "r-qrzwxUzQnw"
      },
      "execution_count": null,
      "outputs": []
    },
    {
      "cell_type": "code",
      "source": [
        "a = 3\n",
        "b = 5\n",
        "\n",
        "if a > b :\n",
        "    print(a)"
      ],
      "metadata": {
        "id": "rz6S6vmOAPEz"
      },
      "execution_count": null,
      "outputs": []
    },
    {
      "cell_type": "code",
      "source": [
        "\n"
      ],
      "metadata": {
        "id": "UowZaokR0EqE"
      },
      "execution_count": null,
      "outputs": []
    },
    {
      "cell_type": "code",
      "source": [
        "1 # 변수 식별자\n",
        "2 count = 10\n",
        "3 user_name = \"Alice\"\n",
        "4 _is_Valid = True\n",
        "5\n",
        "6 # 함수 식별자\n",
        "7 def calculate_area(radius):\n",
        "8     return 3.14159 * radius * radius\n",
        "9\n",
        "10 # 클래스 식별자\n",
        "11 class Car:\n",
        "12    def _init_(self , model,year):\n",
        "13           self.midel = model\n",
        "14           self.year = year\n",
        "15\n",
        "16 # 모듈 식별자\n",
        "17 import mate as m\n",
        "18\n",
        "\n",
        "\n",
        "\n",
        "\n"
      ],
      "metadata": {
        "id": "r4JaikS2EI-A"
      },
      "execution_count": null,
      "outputs": []
    },
    {
      "cell_type": "markdown",
      "source": [
        "Q. 주어진 문자열 리스트에서 유효한 Python 변수 이름만을 추출하여 반환하는 함수를\n",
        "작성하세요\n"
      ],
      "metadata": {
        "id": "VCevgTkHKUAl"
      }
    },
    {
      "cell_type": "code",
      "source": [
        "1 identifier = [\"var1\" , \"2things\" , \"variable_name\" , \"time!\"]"
      ],
      "metadata": {
        "id": "IQY_UOvh1830"
      },
      "execution_count": null,
      "outputs": []
    },
    {
      "cell_type": "code",
      "source": [
        "1 # isidentifier()는 파이썬의 문자열 메서드로, 주어진 문자열이 유효한 식별자인지 확인\n",
        "2 # isidentifiers()는 예약어인지는 따로 체크하지 않음\n",
        "3 import keyword\n",
        "4 def valid_identifiers(identifiers):\n",
        "5    valid = []\n",
        "6    for identifiers in identifiers:\n",
        "7        if identifiers .is identifiers() and not keyword. iskeyword(identifiers):\n",
        "8            valid.append(identifier)\n",
        "9    return valid\n",
        "10\n",
        "11 # 예제 실행\n",
        "12 identifiers = [ \"var1\" , \"2things\" , \"variable_name\" , \"time!\" , \"True\"]\n",
        "13 print(valid_identifiers(identifiers))"
      ],
      "metadata": {
        "id": "51KLXgeM2YR7"
      },
      "execution_count": null,
      "outputs": []
    },
    {
      "cell_type": "markdown",
      "source": [
        "Task1_0425. 주어진 숫자 리스트에서 최소값과 최대값을 찾아 출력하세요.\n",
        "\n",
        "numbers = [58, 45, 69, 19, 4, 87, 29, 13, 39, 15]"
      ],
      "metadata": {
        "id": "LIbF_i6vH2IX"
      }
    },
    {
      "cell_type": "code",
      "source": [
        "numbers = [58, 45, 69, 19, 4, 87, 29, 13, 39, 15]\n",
        "\n",
        "max_num = max(numbers)\n",
        "print(max_num)\n",
        "\n",
        "min_num = min(numbers)\n",
        "print(min_num)"
      ],
      "metadata": {
        "id": "AI7hHkCeV73h"
      },
      "execution_count": null,
      "outputs": []
    },
    {
      "cell_type": "code",
      "source": [
        "print(f\"최대값 : {max_num} , 최소값 : {min_num}\")\n"
      ],
      "metadata": {
        "id": "vb0Ai_AMvo32"
      },
      "execution_count": null,
      "outputs": []
    },
    {
      "cell_type": "code",
      "source": [
        "numbers = [58, 45, 69, 19, 4, 87, 29, 13, 39, 15]\n",
        "\n",
        "# 최대값과 최소값을 첫 번째 요소로 초기화 합니다\n",
        "\n",
        "max_num = numbers[0]\n",
        "min_num = numbers[0]\n",
        "\n",
        "# 리스트의 모든 요소를 순회합니다\n",
        "\n",
        "for i in numbers:\n",
        "    # 현재 요소가 현재 최대값보다 크면 최대값을 갱신합니다\n",
        "    if i > max_num:\n",
        "      max_num = i\n",
        "    # 현재 요소가 현자 최소값보다 작으면 최소값을 갱신한다\n",
        "for i in numbers:\n",
        "    if i < min_num:\n",
        "      min_num = i\n",
        "print(f\"최대값:{max_num} , 최소값:{min_num}\")\n",
        "\n"
      ],
      "metadata": {
        "id": "yFHQK4zLwm1t"
      },
      "execution_count": null,
      "outputs": []
    },
    {
      "cell_type": "markdown",
      "source": [
        "Task2_0425. 주어진 숫자 리스트의 모든 요소의 합계와 평균을 계산하고 출력하세요\n",
        "\n",
        "numbers = [58, 45, 69, 19, 4, 87, 29, 13, 39, 15]"
      ],
      "metadata": {
        "id": "l2k2dY9GH3XX"
      }
    },
    {
      "cell_type": "code",
      "source": [
        "numbers = [58, 45, 69, 19, 4, 87, 29, 13, 39, 15]\n",
        "\n",
        "total = sum(numbers)\n",
        "print(total)"
      ],
      "metadata": {
        "id": "4Cts79CXWOoO"
      },
      "execution_count": null,
      "outputs": []
    },
    {
      "cell_type": "code",
      "source": [
        "# 리스트 정의\n",
        "numbers = [58, 45, 69, 19, 4, 87, 29, 13, 39, 15]\n",
        "\n",
        "# 합계 계산\n",
        "total = sum(numbers)\n",
        "\n",
        "# 평균계산\n",
        "average = total / len(numbers)\n",
        "\n",
        "# 결과 출력\n",
        "print(f\"합계: {total} , 평균: {average}\")"
      ],
      "metadata": {
        "id": "jigk36Snz8lq"
      },
      "execution_count": null,
      "outputs": []
    },
    {
      "cell_type": "code",
      "source": [
        "# 파이썬에서 평균을 구하는 내장함수는 없음\n",
        "import numpy as np\n",
        "numbers = [58, 45, 69, 19, 4, 87, 29, 13, 39, 15]\n",
        "print(f\"합계:{sum(numbers)}, 평균:{np.mean(numbers)}\")"
      ],
      "metadata": {
        "id": "_xDerGPe1TOb"
      },
      "execution_count": null,
      "outputs": []
    },
    {
      "cell_type": "code",
      "source": [
        "import statistics\n",
        "numbers = [58, 45, 69, 19, 4, 87, 29, 13, 39, 15]\n",
        "average = statistics.mean(numbers)\n",
        "print(f\"평균:{average}\")"
      ],
      "metadata": {
        "id": "7PXBsdsD17bS"
      },
      "execution_count": null,
      "outputs": []
    },
    {
      "cell_type": "markdown",
      "source": [
        "Task3_0425. 주어진 리스트에서 특정 요소가 등장하는 모든 인덱스를 리스트로 만들어 출력하세요.\n",
        "\n",
        "items = ['apple', 'banana', 'cherry', 'apple', 'cherry', 'apple']\n",
        "\n",
        "target = 'apple'"
      ],
      "metadata": {
        "id": "thbWYRFWH58K"
      }
    },
    {
      "cell_type": "code",
      "source": [
        "# 리스트 정의\n",
        "items = ['apple', 'banana', 'cherry', 'apple', 'cherry', 'apple']\n",
        "\n",
        "# 찾을 요소\n",
        "target = 'apple'\n",
        "\n",
        "# 인덱스 찾기\n",
        "index = [index for index , value in enumerate(items) if value == target]\n",
        "\n",
        "# 결과 출력\n",
        "print(f\"'{target}'의 모든 인덱스:{index}\")"
      ],
      "metadata": {
        "id": "kLcy7F-l2uBH"
      },
      "execution_count": null,
      "outputs": []
    },
    {
      "cell_type": "markdown",
      "source": [
        "Task4_0425. 주어진 리스트에서 연속해서 반복되는 요소만 제거하고, 결과 리스트를 반환하세요. 단, 처음 등장하는 요소는 유지해야 합니다.\n",
        "\n",
        "예를 들어, ['a', 'a', 'b', 'c', 'c', 'c', 'd', 'e', 'e']가 입력되면, ['a', 'b', 'c', 'd', 'e']를 출력해야 합니다."
      ],
      "metadata": {
        "id": "Qs-laDlqH9jt"
      }
    },
    {
      "cell_type": "code",
      "source": [
        " li = ['a', 'a', 'b', 'c', 'c', 'c', 'd', 'e', 'e']\n",
        " result = [li[0]]\n",
        " for i in li[1:]:\n",
        "     if i != result[-1]:\n",
        "         result.append(i)\n",
        "print(result)"
      ],
      "metadata": {
        "id": "-mNEeM0Z77vN"
      },
      "execution_count": null,
      "outputs": []
    },
    {
      "cell_type": "markdown",
      "source": [
        "Task5_0425 주어진 정수 리스트와 회전 횟수 k에 대해 리스트를 오른쪽으로 k만큼 회전시킨 결과를 반환하세요. k가 리스트의 길이보다 클 수 있으며, 이 경우 k를 리스트 길이로 나눈 나머지만큼 실제 회전시키면 됩니다.\n",
        "\n",
        "예를 들어, [1, 2, 3, 4, 5]와 k=2가 주어지면, 결과는 [4, 5, 1, 2, 3]이 되어야 합니다."
      ],
      "metadata": {
        "id": "-IsZmBLlH_2A"
      }
    },
    {
      "cell_type": "code",
      "source": [
        "def rotate_list(nums, k):\n",
        "    if not nums:\n",
        "        return nums\n",
        "    # 회전 홧수를 리스트 길이로 나눈 나머지로 계산\n",
        "    k = k % len(nums)\n",
        "    # 리스트의 끝부분을 앞으로, 앞부분을 끝으로 옮김\n",
        "    rotated = nums[-k:] + nums[:-k]\n",
        "    return rotated\n",
        "\n",
        "    # 리스트 정의\n",
        "nums = [1,2,3,4,5]\n",
        "k = 2\n",
        "\n",
        "    # 결과 출력\n",
        "print(rotate_list(nums , k))\n",
        "\n"
      ],
      "metadata": {
        "id": "LsiUEXWPBDil"
      },
      "execution_count": null,
      "outputs": []
    },
    {
      "cell_type": "markdown",
      "source": [
        "자료형 - Tuple\n",
        "\n",
        "- 튜플은 변경할 수 없는(immutable) 순서가 있는 컬렉션\n",
        "- 프로그램에서 그 값이 항상 변하지 않아야되는 경우 사용"
      ],
      "metadata": {
        "id": "gZpyt_olJJv6"
      }
    },
    {
      "cell_type": "code",
      "source": [
        "tuple1 = (1,2,3,4,5)\n",
        "tulpe2 = ('a' 'b' 'c')\n",
        "tuple3 = (1,'a' , 'abc' , [1,2,3,4,5] , ['a' , 'b' , 'c'])\n",
        "\n",
        "print(tuple1[:])\n",
        "print(tuple1[2])\n",
        "tuple3[3][2]"
      ],
      "metadata": {
        "id": "i-OVCNSFJcir"
      },
      "execution_count": null,
      "outputs": []
    },
    {
      "cell_type": "code",
      "source": [
        "list = [1,2,3,4,5]\n",
        "list[0] = 0\n",
        "list"
      ],
      "metadata": {
        "id": "bMtpge6dLBej"
      },
      "execution_count": null,
      "outputs": []
    },
    {
      "cell_type": "code",
      "source": [
        "# 튜플의 요소 값은 변경할 수 없음\n",
        "tuple = (1,2,3,4,5)\n",
        "tuple[0] = 0\n",
        "tuple"
      ],
      "metadata": {
        "id": "17JvaOORLHMP"
      },
      "execution_count": null,
      "outputs": []
    },
    {
      "cell_type": "code",
      "source": [
        "t1 = (1,) # 1개의 요소만 가질 때는 요소 뒤에 콤마를 붙여야함\n",
        "print(t1)\n",
        "type(t1)"
      ],
      "metadata": {
        "id": "1xScibd-LvhE"
      },
      "execution_count": null,
      "outputs": []
    },
    {
      "cell_type": "code",
      "source": [
        "t1 = (1)\n",
        "print(t1)\n",
        "type(t1)"
      ],
      "metadata": {
        "id": "umrHb4JvMQlY"
      },
      "execution_count": null,
      "outputs": []
    },
    {
      "cell_type": "code",
      "source": [
        "t2 = 1,2,3\n",
        "print(t2)\n",
        "type(t2)"
      ],
      "metadata": {
        "id": "WhwW6LSBMoEj"
      },
      "execution_count": null,
      "outputs": []
    },
    {
      "cell_type": "code",
      "source": [
        "print(t2 * 3)\n",
        "t1 + t2"
      ],
      "metadata": {
        "id": "em3I3jb3M8jA"
      },
      "execution_count": null,
      "outputs": []
    },
    {
      "cell_type": "markdown",
      "source": [
        "Q . 'red' , 'green' , 'blue' 값을 갖는 튜플에서 각 값을 각각  r,g.b 변수에 할당하고 출력하세요"
      ],
      "metadata": {
        "id": "MaBF7W19Oijf"
      }
    },
    {
      "cell_type": "code",
      "source": [
        "colors = ('red' , 'green' , 'blue')\n",
        "r , g , b = colors\n",
        "print(r)\n",
        "print(g)\n",
        "print(b)"
      ],
      "metadata": {
        "id": "BmNAig6yOy9U"
      },
      "execution_count": null,
      "outputs": []
    },
    {
      "cell_type": "code",
      "source": [
        "colors = ('red' , 'green' ,'blue')\n",
        "r,g,b = colors\n",
        "print(r)\n",
        "print(g)\n",
        "print(b)\n",
        "print(r,g,b)"
      ],
      "metadata": {
        "id": "NkuLSKYwcHr1"
      },
      "execution_count": null,
      "outputs": []
    },
    {
      "cell_type": "markdown",
      "source": [
        "- 함수에서 여러 값을 반환할 때 튜플을 사용하는 것이 일반적입니다.\n",
        "Q . 주어진 리스트의 총합과 평균을 동시에 반환하는 함수를 작성하세요.\n",
        "numbers = [10,20,30,40,50]"
      ],
      "metadata": {
        "id": "MZVLqEt8PDS3"
      }
    },
    {
      "cell_type": "code",
      "source": [
        "def calculate_sum_and_average(numbers):\n",
        "\n",
        "    total = sum(numbers)\n",
        "    average = total / len(numbers)\n",
        "    return(total , average) # 튜플로 총합과 평균 반환\n",
        "\n",
        "numbers = [10,20,30,40,50]\n",
        "total , average = calculate_sum_and_average(numbers)\n",
        "# print(\"총합:\" , total, \"평균:\" , average)\n",
        "print(f\"총합:{total} , 평균:{average}\")"
      ],
      "metadata": {
        "id": "w5vIKgFOPVbd"
      },
      "execution_count": null,
      "outputs": []
    },
    {
      "cell_type": "code",
      "source": [
        "numbers = [10,20,30,40,50]\n",
        "total = sum(numbers)\n",
        "average = total / len(numbers)\n",
        "print(f\"총합:{total}, 평균:{average}\")"
      ],
      "metadata": {
        "id": "Zq5ddZZmcv1a"
      },
      "execution_count": null,
      "outputs": []
    },
    {
      "cell_type": "markdown",
      "source": [
        "## 자료형 - 사전\n",
        "- 키와 값을 하나의 요소로 하는 순서가 없는 집합"
      ],
      "metadata": {
        "id": "z1ID1RFdRSRV"
      }
    },
    {
      "cell_type": "code",
      "source": [
        "d1 = {'a':1 , 'b':2 , 'c':3}\n",
        "print(d1['a'])"
      ],
      "metadata": {
        "id": "WcSrQZoNR4DP"
      },
      "execution_count": null,
      "outputs": []
    },
    {
      "cell_type": "code",
      "source": [
        "d1.keys()"
      ],
      "metadata": {
        "id": "HrJ24JW9SCps"
      },
      "execution_count": null,
      "outputs": []
    },
    {
      "cell_type": "code",
      "source": [
        "d1.values()"
      ],
      "metadata": {
        "id": "NxDFe6O6SJjA"
      },
      "execution_count": null,
      "outputs": []
    },
    {
      "cell_type": "code",
      "source": [
        "d1.items()"
      ],
      "metadata": {
        "id": "XsZ2KW_MSP6u"
      },
      "execution_count": null,
      "outputs": []
    },
    {
      "cell_type": "code",
      "source": [
        "d1['d'] = 4\n",
        "d1"
      ],
      "metadata": {
        "id": "ebuWfzXpSb4X"
      },
      "execution_count": null,
      "outputs": []
    },
    {
      "cell_type": "code",
      "source": [
        "d1['b'] = 7\n",
        "d1"
      ],
      "metadata": {
        "id": "eCgtR5UpTI8F"
      },
      "execution_count": null,
      "outputs": []
    },
    {
      "cell_type": "code",
      "source": [
        "del d1['b']\n",
        "d1"
      ],
      "metadata": {
        "id": "IMG-URBHTkiU"
      },
      "execution_count": null,
      "outputs": []
    },
    {
      "cell_type": "code",
      "source": [
        "s1 = ('a': 1 , 'b': 2 , 'c': 3 , 'd': 4)\n"
      ],
      "metadata": {
        "id": "ZcidXpbreYpV"
      },
      "execution_count": null,
      "outputs": []
    },
    {
      "cell_type": "markdown",
      "source": [
        "Q . 딕셔너리 d에서 'b'의 값을 확인하면서 그 값을 삭제하세요"
      ],
      "metadata": {
        "id": "VTdf6pPnWKY6"
      }
    },
    {
      "cell_type": "code",
      "source": [
        "# pop 함수는\n",
        "d = {'a': 1 , 'b': 7 , 'c' : 3 , 'd': 4}\n",
        "value = d.pop('b')\n",
        "print(\"삭제 값: \", value)\n",
        "print(d)"
      ],
      "metadata": {
        "id": "kXUk-QO4WSnF"
      },
      "execution_count": null,
      "outputs": []
    },
    {
      "cell_type": "markdown",
      "source": [
        "Q . 다음과 같이 학생의 이름과 점수를 튜플로 묶은 리스트가 있습니다 : [(\"Tom\",85),(\"Jane\",90),(\"Bob\",75)] 이 리스트를 사용해 학생 이름을 키로, 점수를 값으로 하는 딕셔너리를 생성하고 출력하세요"
      ],
      "metadata": {
        "id": "ZJT2E7mRXB0a"
      }
    },
    {
      "cell_type": "code",
      "source": [
        "students = [(\"Tom\",85),(\"Jane\",90),(\"Bob\",75)]\n",
        "student_dict = dict(students)\n",
        "print(student_dict)"
      ],
      "metadata": {
        "id": "rqqNFhrJgdfV"
      },
      "execution_count": null,
      "outputs": []
    },
    {
      "cell_type": "markdown",
      "source": [
        "Q . 튜플의 불변성 때문에 튜플은 딕셔너리의 키로 사용될수 있습니다. 주어진 위치 좌표 리스트에서 각 위치가 몇 번 나타나는지 딕셔너리를 만드세요,"
      ],
      "metadata": {
        "id": "xNGvTuI5XeqY"
      }
    },
    {
      "cell_type": "code",
      "source": [],
      "metadata": {
        "id": "yOXQoj-6y5Ju"
      },
      "execution_count": null,
      "outputs": []
    },
    {
      "cell_type": "markdown",
      "source": [
        " # 지료형 - 집합 , set\n",
        "\n",
        " - 중복을 허용하지 않으며 순서가 없다"
      ],
      "metadata": {
        "id": "w5MZA5hEy4lD"
      }
    },
    {
      "cell_type": "code",
      "source": [
        "s1 = set([1,2,5,4,3])\n",
        "s2 = set('Hello')\n",
        "print(s1)\n",
        "print(s2)"
      ],
      "metadata": {
        "id": "TJAE7QM9zCfe",
        "colab": {
          "base_uri": "https://localhost:8080/"
        },
        "outputId": "262dbe79-5442-4fee-af37-e8eab9c764bc"
      },
      "execution_count": 1,
      "outputs": [
        {
          "output_type": "stream",
          "name": "stdout",
          "text": [
            "{1, 2, 3, 4, 5}\n",
            "{'H', 'o', 'e', 'l'}\n"
          ]
        }
      ]
    },
    {
      "cell_type": "code",
      "source": [
        "l1 = list(s1)\n",
        "print(l1)\n",
        "print(l1[1])"
      ],
      "metadata": {
        "colab": {
          "base_uri": "https://localhost:8080/"
        },
        "id": "ho9GPkcs0166",
        "outputId": "013807d8-3d07-407e-d1eb-39a842dd8f4b"
      },
      "execution_count": 2,
      "outputs": [
        {
          "output_type": "stream",
          "name": "stdout",
          "text": [
            "[1, 2, 3, 4, 5]\n",
            "2\n"
          ]
        }
      ]
    },
    {
      "cell_type": "code",
      "source": [
        "l2 = list(s2)\n",
        "print(l2)\n",
        "print(l2[2])"
      ],
      "metadata": {
        "colab": {
          "base_uri": "https://localhost:8080/"
        },
        "id": "fT83iL360_Xp",
        "outputId": "336ccec5-b032-41fc-b7cc-a853e1fed3f7"
      },
      "execution_count": 3,
      "outputs": [
        {
          "output_type": "stream",
          "name": "stdout",
          "text": [
            "['H', 'o', 'e', 'l']\n",
            "e\n"
          ]
        }
      ]
    },
    {
      "cell_type": "markdown",
      "source": [
        "Q . 주어진 리스트에서 중복 요소를 제거하고 결과를 출력하세요\n",
        "- nums = [1,2,2,3,4,4,4,5]"
      ],
      "metadata": {
        "id": "tytLwoaD1ldN"
      }
    },
    {
      "cell_type": "code",
      "source": [
        "nums = [1,2,2,3,4,4,4,5]\n",
        "m1 = set(nums)\n",
        "print(m1)"
      ],
      "metadata": {
        "colab": {
          "base_uri": "https://localhost:8080/"
        },
        "id": "vpOeZVM81vsT",
        "outputId": "721e28fe-f7b0-4eb9-8448-6372c39c285e"
      },
      "execution_count": null,
      "outputs": [
        {
          "output_type": "stream",
          "name": "stdout",
          "text": [
            "{1, 2, 3, 4, 5}\n"
          ]
        }
      ]
    },
    {
      "cell_type": "markdown",
      "source": [
        "Q . s1 , s2 의 합집합과 교집합을 각각 리스트로 출력하세요\n",
        "- s1 = set[1,2,3,4,5,6]\n",
        "- s2 = set[4,5,6,7,8,9]"
      ],
      "metadata": {
        "id": "5FzEOtxY2kYR"
      }
    },
    {
      "cell_type": "code",
      "source": [
        "s1 = set([1,2,3,4,5,6])\n",
        "s2 = set([4,5,6,7,8,9])\n",
        "print(list(s1 | s2)) # 합집합\n",
        "print(list(s1 & s2)) # 교집합"
      ],
      "metadata": {
        "colab": {
          "base_uri": "https://localhost:8080/"
        },
        "id": "VrCKbJYJ2y0n",
        "outputId": "73f2a9ad-2f06-48d6-eb44-86d01bec2b50"
      },
      "execution_count": 4,
      "outputs": [
        {
          "output_type": "stream",
          "name": "stdout",
          "text": [
            "[1, 2, 3, 4, 5, 6, 7, 8, 9]\n",
            "[4, 5, 6]\n"
          ]
        }
      ]
    },
    {
      "cell_type": "code",
      "source": [
        "a = 1,4,5,6,7\n",
        "b = 2,5,6,7,8\n",
        "a1 = set(a)\n",
        "b1 = set(b)\n",
        "print(list(a1 | b1))\n",
        "print(list(a1 & b1))"
      ],
      "metadata": {
        "colab": {
          "base_uri": "https://localhost:8080/"
        },
        "id": "NpUBNTGfgiME",
        "outputId": "38c089dd-300d-44ef-8d3b-f1748e1fc438"
      },
      "execution_count": 12,
      "outputs": [
        {
          "output_type": "stream",
          "name": "stdout",
          "text": [
            "[1, 2, 4, 5, 6, 7, 8]\n",
            "[5, 6, 7]\n"
          ]
        }
      ]
    },
    {
      "cell_type": "code",
      "source": [
        "a = 1,2,3,4,5\n",
        "b = 4,5,6,7,8\n",
        "a1 = (set(a))\n",
        "b1 = (set(b))\n",
        "print(list(a1 | b1))\n",
        "print(list(a1 & b1))"
      ],
      "metadata": {
        "id": "e-qFHyXD_-vn"
      },
      "execution_count": null,
      "outputs": []
    },
    {
      "cell_type": "markdown",
      "source": [
        "Q . 첫번째 집합에서 두번째 집합의 요소를 제외한 차집합을 구하고  출력하세요\n",
        "- set1 = {1,2,3,4,5}\n",
        "- set2 = {4,5,6,7}"
      ],
      "metadata": {
        "id": "Ec_D5IG35INd"
      }
    },
    {
      "cell_type": "code",
      "source": [
        "set1 = {1,2,3,4,5}\n",
        "set2 = {4,5,6,7}\n",
        "print(list(set1 - set2))"
      ],
      "metadata": {
        "colab": {
          "base_uri": "https://localhost:8080/"
        },
        "id": "tJjHAoXZg-qU",
        "outputId": "160474ee-008c-4c69-88e8-38d3cd1ee190"
      },
      "execution_count": 14,
      "outputs": [
        {
          "output_type": "stream",
          "name": "stdout",
          "text": [
            "[1, 2, 3]\n"
          ]
        }
      ]
    },
    {
      "cell_type": "markdown",
      "source": [
        "Task1_0426. 주어진 리스트에서 중복된 요소를 제외하고 고유한 요소의 개수를 세는 프로그램을 작성하세요\n",
        "\n",
        "- data = [1,2,2,3,4,4,4,5]\n"
      ],
      "metadata": {
        "id": "0Fy86X7_5sO1"
      }
    },
    {
      "cell_type": "code",
      "source": [
        "data = [1,2,2,3,4,4,4,5]\n",
        "data1 = set(data)\n",
        "print(data1)\n",
        "print(len(data1))"
      ],
      "metadata": {
        "id": "_NXdvAnL6aFi",
        "colab": {
          "base_uri": "https://localhost:8080/"
        },
        "outputId": "5ab67350-249a-47cf-8f7b-163675e275cf"
      },
      "execution_count": 15,
      "outputs": [
        {
          "output_type": "stream",
          "name": "stdout",
          "text": [
            "{1, 2, 3, 4, 5}\n",
            "5\n"
          ]
        }
      ]
    },
    {
      "cell_type": "markdown",
      "source": [
        "Task2_0426. 두 개의 리스트에서 공통으로 나타나는 요소들을 찾아 리스트로 반환하는 프로그램을 작성하세요.\n",
        "\n",
        "예시 입력: list1 = [1, 2, 3, 4, 5], list2 = [4, 5, 6, 7, 8]\n",
        "\n",
        "예시 출력: [4, 5]"
      ],
      "metadata": {
        "id": "-7V98Iv06taI"
      }
    },
    {
      "cell_type": "code",
      "source": [
        "list1 = [1, 2, 3, 4, 5]\n",
        "list2 = [4, 5, 6, 7, 8]\n",
        "l1 = set(list1)\n",
        "l2 = set(list2)\n",
        "print(list(l1 & l2))"
      ],
      "metadata": {
        "colab": {
          "base_uri": "https://localhost:8080/"
        },
        "id": "8VznY9gjiEBk",
        "outputId": "15cbba92-1f37-4332-f3e1-8a0131d74fd1"
      },
      "execution_count": 33,
      "outputs": [
        {
          "output_type": "stream",
          "name": "stdout",
          "text": [
            "[4, 5]\n"
          ]
        }
      ]
    },
    {
      "cell_type": "markdown",
      "source": [
        "Task3_0426. 주어진 숫자 리스트에서 특정 값보다 큰 요소가 하나라도 존재하는지 검사하고, 그 결과를 불 값으로 반환하는 함수를 작성하세요.\n",
        "\n",
        "- numbers = [1, 2, 3, 10, 20]\n",
        "- threshold = 15"
      ],
      "metadata": {
        "id": "zBkd1ZZ1Br6h"
      }
    },
    {
      "cell_type": "code",
      "source": [
        "numbers = [1, 2, 3, 10, 20]\n",
        "threshold = 15\n"
      ],
      "metadata": {
        "id": "hvrLw8KRjwGb"
      },
      "execution_count": null,
      "outputs": []
    },
    {
      "cell_type": "markdown",
      "source": [
        "Task4_0426. 주어진 문자열이 특정 문자열을 포함하는지 확인하고 결과를 불 값으로 반환하는 함수를 작성하세요.\n",
        "\n",
        "- text = \"hello world\"\n",
        "- substring = \"world\""
      ],
      "metadata": {
        "id": "9C7ZzvgzBvCT"
      }
    },
    {
      "cell_type": "markdown",
      "source": [
        "Task5_0426. 주어진 연도가 윤년인지 판별하는 함수를 작성하세요. 윤년은 다음의 조건을 만족해야 합니다:\n",
        "- 4로 나누어 떨어진다.\n",
        "- 100으로 나누어 떨어지지 않거나, 400으로 나누어 떨어지면 윤년이다.\n",
        "\n",
        "year = 2020\n",
        "\n",
        "True"
      ],
      "metadata": {
        "id": "nSWp8p_EB4Yu"
      }
    },
    {
      "cell_type": "markdown",
      "source": [
        "Task6_0426. Calculator 클래스를 작성하고 4칙연산을 수행하는 객체 4개를 작성하여 결과를 출력하세요."
      ],
      "metadata": {
        "id": "326RlrzZMJc9"
      }
    },
    {
      "cell_type": "markdown",
      "source": [
        "Task7_0426. 다음 과제를 수행하세요.\n",
        "- 사용자로 부터 텍스트를 입력 받는다.\n",
        "- 문자을 단어 단위로 분리 : split()\n",
        "- 단어의 빈도수를 저장할 딕셔너리를 생성\n",
        "- 각 단어의 빈도 수를 계산(for 문 / if else문) : word = word.lower()\n",
        "- 결과 출력\n",
        "\n",
        "[ 예시 ]\n",
        "\n",
        "문장을 입력하세요: I love apple. I love orange. Apple is tasty\n",
        "\n",
        "{'i': 2, 'love': 2, 'apple.': 1, 'orange.': 1, 'apple': 1, 'is': 1, 'tasty': 1}"
      ],
      "metadata": {
        "id": "3Oa-EXnlML-S"
      }
    },
    {
      "cell_type": "markdown",
      "source": [
        "# 자료형 - 논리(Bool) True 와 False\n",
        "\n",
        "- 파이썬에서 참과 거짓을 나타내는 상수. True는 1 , False는 0의 값을 가짐\n",
        "- 조건을 판단해서 그 조건이 참이면 True , 거짓이면 False를 return\n"
      ],
      "metadata": {
        "id": "Zugarjte7Fnj"
      }
    },
    {
      "cell_type": "code",
      "source": [
        "print(bool(0))\n",
        "print(bool(''))\n",
        "print(bool([]))\n",
        "print(bool(1))\n",
        "print(bool(100))"
      ],
      "metadata": {
        "id": "mB4gNv7d7fwO"
      },
      "execution_count": null,
      "outputs": []
    },
    {
      "cell_type": "markdown",
      "source": [
        "#  아스키 코드\n",
        "- ASCII 값에서 'a' 는 97이고 'p'는 112입니다. 'a'는 'p'보다 작으므로 str1 < str2 는 True를 반환"
      ],
      "metadata": {
        "id": "tf8nh2OW9VsM"
      }
    },
    {
      "cell_type": "code",
      "source": [
        "# 관계 연산자\n",
        "x = 1 ; y = 2\n",
        "str1 = 'abc' ; str2 = 'python'\n",
        "print(x == y)\n",
        "print(x != y)\n",
        "print(str1 == str2)\n",
        "print(str2 == 'python')\n",
        "print(str1 < str2)"
      ],
      "metadata": {
        "id": "SKCb5q7n7vsd"
      },
      "execution_count": null,
      "outputs": []
    },
    {
      "cell_type": "code",
      "source": [
        "# 논리 연산자\n",
        "\n",
        "bool1 = True ; bool2 = False ; bool3 = True ; bool4 = False\n",
        "print(bool1 and bool2)\n",
        "print(bool1 or bool2)\n",
        "print(not bool3)\n",
        "print(not bool4)\n",
        "print()"
      ],
      "metadata": {
        "id": "S2YoH7O4Al8a"
      },
      "execution_count": null,
      "outputs": []
    },
    {
      "cell_type": "markdown",
      "source": [
        "# 파이썬에서 들여쓰기\n",
        "- 파이썬에는 실행 코드 부분을 묶어주는 {} 괄호가 없다.\n",
        "- 대신 들여쓰기(indentation)로 {}를 대신한다.\n",
        "- 제어문이나 함수이름, 클래스 이름 뒤에 콜론(':')으로 제어문, 함수이름, 클래스\n",
        "이름의 끝을 표시하며 ':' 다음에 실행 코드를 작성"
      ],
      "metadata": {
        "id": "02XeH7xyCw2i"
      }
    },
    {
      "cell_type": "code",
      "source": [
        "list = ['a' ,'b' , 'c']\n",
        "if 'a' in list:\n",
        "    print('a 가 list에 있습니다')\n",
        "else:\n",
        "    print('a 가 list에 없습니다')"
      ],
      "metadata": {
        "id": "Em4S2T9nDCh0"
      },
      "execution_count": null,
      "outputs": []
    },
    {
      "cell_type": "code",
      "source": [
        "list = [1,2,3,4,5]\n",
        "if 6 in list:\n",
        "    print('리스트에 있습니다')\n",
        "else:\n",
        "    print('리스트에 없습니다')"
      ],
      "metadata": {
        "id": "QJ_aemy7PMvo"
      },
      "execution_count": null,
      "outputs": []
    },
    {
      "cell_type": "markdown",
      "source": [
        "# 사용자 함수"
      ],
      "metadata": {
        "id": "lJyVN3BLFhuV"
      }
    },
    {
      "cell_type": "code",
      "source": [
        "numbers = [1,2,3]\n",
        "sum(numbers) # 파이썬 내장함수"
      ],
      "metadata": {
        "id": "NB_5O68mFi26"
      },
      "execution_count": null,
      "outputs": []
    },
    {
      "cell_type": "code",
      "source": [
        "# 사용자 함수\n",
        "\n",
        "def add(a,b,c):\n",
        "    return a + b + c\n",
        "\n",
        "add(1,2,3)"
      ],
      "metadata": {
        "id": "zRaX1ofVGHCk"
      },
      "execution_count": null,
      "outputs": []
    },
    {
      "cell_type": "code",
      "source": [
        "def mul(a,b,c):\n",
        "    return a * b * c\n",
        "\n",
        "mul(4,7,9)"
      ],
      "metadata": {
        "id": "PcsLj_idGgyb"
      },
      "execution_count": null,
      "outputs": []
    },
    {
      "cell_type": "markdown",
      "source": [
        "Q . 뺄셈, 나눗셈을 수행하는 사용자 함수를 작성하세요"
      ],
      "metadata": {
        "id": "z7uJZhBaHaxF"
      }
    },
    {
      "cell_type": "code",
      "source": [
        "def subtrack(a,b,c):\n",
        "    return a - b - c\n",
        "\n",
        "subtrack(9,5,2)"
      ],
      "metadata": {
        "id": "u-0_lLgrHeMK"
      },
      "execution_count": null,
      "outputs": []
    },
    {
      "cell_type": "code",
      "source": [
        "def divide(a,b,c):\n",
        "    if b == 0 or c == 0:\n",
        "        return \"Error : Division by zero\"\n",
        "    else:\n",
        "        return a / b / c\n",
        "\n",
        "round(divide(1,2,3),2)   # round : 올림  ,2 소수점 둘째 자리"
      ],
      "metadata": {
        "id": "7V_4zWWiICB3"
      },
      "execution_count": null,
      "outputs": []
    },
    {
      "cell_type": "markdown",
      "source": [
        "# 클래스"
      ],
      "metadata": {
        "id": "fhlEtGWNJXBe"
      }
    },
    {
      "cell_type": "code",
      "source": [
        "def divide(a,b,c):\n",
        "    if b == 3 or c == 1:\n",
        "        return \"Error\"\n",
        "    else:\n",
        "        return a / b / c\n",
        "round(divide(8,6,2),3)"
      ],
      "metadata": {
        "id": "7otk7552TohF"
      },
      "execution_count": null,
      "outputs": []
    },
    {
      "cell_type": "code",
      "source": [
        "class AddMul:\n",
        "    def add(self,n1,n2):\n",
        "        return n1 + n2\n",
        "    def mul(self,n1,n2):\n",
        "        return n1 * n2\n",
        "\n",
        "obj1 = AddMul() # 객체\n",
        "print(obj1.add(1,1))\n",
        "\n",
        "obj2 = AddMul()\n",
        "print(obj2.mul(2,3))"
      ],
      "metadata": {
        "id": "mq149n7TJX4l"
      },
      "execution_count": null,
      "outputs": []
    },
    {
      "cell_type": "code",
      "source": [
        "class AddMul:\n",
        "    def add(self,n1,n2):\n",
        "        return n1 + n2\n",
        "\n",
        "    def mul(self,n1,n2):\n",
        "        return n1 * n2\n",
        "\n",
        "obj1 = AddMul()\n",
        "print(obj1.add(1,1))\n",
        "\n",
        "obj2 = AddMul()\n",
        "print(obj2.add(3,1))"
      ],
      "metadata": {
        "id": "qTQLhbBAVWxm"
      },
      "execution_count": null,
      "outputs": []
    }
  ]
}