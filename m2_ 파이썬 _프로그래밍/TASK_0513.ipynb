{
  "nbformat": 4,
  "nbformat_minor": 0,
  "metadata": {
    "colab": {
      "provenance": []
    },
    "kernelspec": {
      "name": "python3",
      "display_name": "Python 3"
    },
    "language_info": {
      "name": "python"
    }
  },
  "cells": [
    {
      "cell_type": "markdown",
      "source": [
        "Task1_5013. 클래스 구성 요소와 관련 아래 사항에 대한 사례를 작성하세요.\n",
        "\n",
        "클래스 선언\n",
        "생성자\n",
        "속성(attributes)\n",
        "메서드\n",
        "상속\n",
        "인스턴스화(객체 만들기)\n",
        "클래스 변수\n",
        "매직 메서드(특수 메서드)"
      ],
      "metadata": {
        "id": "_jZx04B0cMBe"
      }
    },
    {
      "cell_type": "code",
      "source": [
        "class Company:\n",
        "    def __init__(self,name , place):\n",
        "        self.name = name\n",
        "        self.place = place\n",
        "        print(f'{self.name}는 {self.place}에 위치해 있습니다')\n",
        "\n",
        "n = Company('naver' , '서울')\n",
        "s = Company('samsumg' , '인천')\n",
        "l = Company('lg' , '대구')\n",
        "\n",
        "print(n.name)"
      ],
      "metadata": {
        "id": "2Zjwbmk3cOP7"
      },
      "execution_count": null,
      "outputs": []
    },
    {
      "cell_type": "code",
      "source": [
        "class Book:\n",
        "    def __init__(self,title,author):\n",
        "        self.title = title\n",
        "        self.author = author\n",
        "    def __str__(self):\n",
        "        return f\"{self.title} by {self.author}\"\n",
        "\n",
        "class MyBook(Book):\n",
        "    location = 'MyHome'\n",
        "    def __init__(self,title,author,price):\n",
        "        super().__init__(title,author)\n",
        "        self.price = price\n",
        "    def how_much(self):\n",
        "        return f\"나는 {self.title}을 {self.price}원 주고 샀다\"\n",
        "\n",
        "b1 = MyBook(\"오발탄\",\"이범선\",\"8500\")\n",
        "\n",
        "print(b1.location)\n",
        "print(b1.price)\n",
        "print(b1.how_much())\n",
        "print(b1) # 자동으로 __str__ 메서드가 호출되어 출력"
      ],
      "metadata": {
        "id": "qfKXsLbzcSXD"
      },
      "execution_count": null,
      "outputs": []
    },
    {
      "cell_type": "code",
      "source": [
        "# 클래스 변수는 모든 인스턴스에서 공유되며, 인스턴스 변수는 각 개체마다 독립적입니다\n",
        "# 인스턴스 메서드는 해당 인스턴스의 데이터에 접근하고 조작할 수 있는 기능을 제공\n",
        "\n",
        "class MyClass:\n",
        "    var = '안녕하세요' # 클래스 변수\n",
        "    def __init__(self): # 생성자는 객체 만들때 자동으로 호출\n",
        "        self.name = 'kita' # 지역변수 , 인스턴스 변수\n",
        "        print(f'{self.name} 과정입니다')\n",
        "    def sayHello(self): # 인스턴스 매소드\n",
        "        return self.var\n",
        "\n",
        "# MyClass 클래스의 인스턴스인 obj를 생성 . 이 과정에서 __init__ 생성자가 호출되고 , \"kita 과정입니다\" 가 출력\n",
        "obj = MyClass()\n",
        "# obj 인스턴스를 통해 클래스 변수 var에 접근하여 그 값을 출력\n",
        "print(obj.var)\n",
        "# obj 인스턴스의 sayHello 매서드를 호출. 이 매서드는 클래스 변수 var를 반환하므로 결과적으로 '안녕하세요'가 출력\n",
        "print(obj.sayHello())"
      ],
      "metadata": {
        "id": "PIAGV2l8cgEW"
      },
      "execution_count": null,
      "outputs": []
    },
    {
      "cell_type": "code",
      "source": [
        "class AutoEmail:\n",
        "    def __init__(self, name , time):\n",
        "        self.name = name\n",
        "        self.time = time\n",
        "    def send(self):\n",
        "        return f\"안녕하세요 {self.name}님, 업무미팅은 {self.time}시 입니다\"\n",
        "\n",
        "run1 = AutoEmail(\"Kevin\",2)\n",
        "run2 = AutoEmail(\"James\",5)\n",
        "print(run1.send())\n",
        "print(run2.send())"
      ],
      "metadata": {
        "id": "dSoFctmyciLB"
      },
      "execution_count": null,
      "outputs": []
    },
    {
      "cell_type": "code",
      "source": [
        "# 생성자\n",
        "\n",
        "class PlusPrice2:\n",
        "    def __init__(self,plus):\n",
        "        self.price1 = 1000+plus\n",
        "        self.price2 = (1000+plus)*0.9\n",
        "\n",
        "a = int(input(\"추가 가격을 입력 > \"))\n",
        "\n",
        "result = PlusPrice2(a)\n",
        "print(f\"- price1 : {result.price1}\\n- price2 : {result.price2 :.0f}\")"
      ],
      "metadata": {
        "id": "cvK4qwKTcj1v"
      },
      "execution_count": null,
      "outputs": []
    },
    {
      "cell_type": "code",
      "source": [
        "# 매소드\n",
        "\n",
        "class Price:\n",
        "    p = int(input('추가가격 > '))\n",
        "    #def setprice(self,p):\n",
        "     #   self.p = p\n",
        "    def sum(self):\n",
        "        b = 1000\n",
        "        b += self.p\n",
        "        return b\n",
        "    def discount(self):\n",
        "        b = 1000\n",
        "        b += self.p\n",
        "        b * 0.9\n",
        "        return b\n",
        "\n",
        "price1 = Price()\n",
        "print(f'price1 : {price1.sum()}')\n",
        "price2 = Price()\n",
        "print(f'price2 : {price2.discount() :0f}')\n"
      ],
      "metadata": {
        "id": "2sV3wwYpcleV"
      },
      "execution_count": null,
      "outputs": []
    },
    {
      "cell_type": "markdown",
      "source": [
        "Task2_0513. 두개의 수를 입력한 후 두개의 수에 대한 사칙연산을 수행하세요.(0을 입력한 경우 다시 입력하도록 조치)"
      ],
      "metadata": {
        "id": "DjJQQP0Gcndn"
      }
    },
    {
      "cell_type": "code",
      "source": [
        "class Cal4:\n",
        "    def __init__(self,first,second):\n",
        "        self.first = first\n",
        "        self.seconf = second\n",
        "\n",
        "    def sum(self):\n",
        "        result = self.first + self.second\n",
        "        return result\n",
        "    def sub(self):\n",
        "        result = self.first - self.second\n",
        "        return result\n",
        "    def mul(self):\n",
        "        result = self.first * self.second\n",
        "        return result\n",
        "    def div(self):\n",
        "        result = round(self.first / self.second)\n",
        "        return result\n",
        "\n",
        "while 1:\n",
        "    first = int(input(\"입력 1 > \"))\n",
        "    seconf = int(input(\"입력 2 >\"))\n",
        "    if first == 0 or second == 0:\n",
        "        print(\"0이 아닌 수를 입력하세요\")\n",
        "\n",
        "    else:\n",
        "        cal = Cal4(first,second)\n",
        "        print(f'덧셈: {cal.sum()}, 뺄셈: {cal.sub()} , 곱셈: {cal.mul()}, 나눗셈: {cal.div}}')\n",
        "        break"
      ],
      "metadata": {
        "id": "KWYHfUUKcxoW"
      },
      "execution_count": null,
      "outputs": []
    },
    {
      "cell_type": "markdown",
      "source": [
        "Task3_0513. 파이썬 오버라이딩, 오버로딩, 다형성의 사례를 만들어 보세요."
      ],
      "metadata": {
        "id": "_u87DKwIc0gM"
      }
    },
    {
      "cell_type": "code",
      "source": [
        "class Robot:\n",
        "    def __init__(self,name):\n",
        "        self.name = name\n",
        "        print(f\"안녕 나는 {self.name}이야\")\n",
        "\n",
        "    def helping(self):\n",
        "        print(\"도움을 드릴 수 있습니다\")\n",
        "class ServingRobot(Robot):\n",
        "    # 오버라이딩\n",
        "    def helping(self):\n",
        "        print(\"음식을 가져다 다를 수 있습니다\")\n",
        "\n",
        "    def move(self,table):\n",
        "        print(f\"{table}번 테이블로 음식을 가져다 드렸습니다\")\n",
        "\n",
        "class CleaningRobot(Robot):\n",
        "    # 유사 오버로딩\n",
        "    def helping(self, how = \"청소기\"):\n",
        "        print(f\"{how}로 청소를 합니다\")\n",
        "\n",
        "    # 다형성\n",
        "def robot_mode(robot):\n",
        "    robot.helping()\n",
        "# 객체 생성\n",
        "\n",
        "robobo = ServingRobot(\"robobo\")\n",
        "roboti = CleaningRobot(\"roboti\")\n",
        "\n",
        "# 오버라이딩 사용\n",
        "robobo.helping()\n",
        "# 오버로딩 사용\n",
        "roboti.helping('물걸레')\n",
        "# 다향성을 통한 메서드 호출\n",
        "robot_mode(robobo)\n",
        "robot_mode(roboti)\n"
      ],
      "metadata": {
        "id": "zG3gFfRsc1yO"
      },
      "execution_count": null,
      "outputs": []
    }
  ]
}