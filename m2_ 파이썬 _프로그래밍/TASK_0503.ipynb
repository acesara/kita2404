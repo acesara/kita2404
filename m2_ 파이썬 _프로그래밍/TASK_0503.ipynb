{
  "nbformat": 4,
  "nbformat_minor": 0,
  "metadata": {
    "colab": {
      "provenance": []
    },
    "kernelspec": {
      "name": "python3",
      "display_name": "Python 3"
    },
    "language_info": {
      "name": "python"
    }
  },
  "cells": [
    {
      "cell_type": "markdown",
      "source": [
        "Task2_0503. 내장함수 5개를 활용해서 사용자 함수로 간단한 프로그램을 만드세요.\n",
        "\n",
        "[예시] 문서관리 프로그램\n",
        "\n",
        "len() - 문자열의 길이를 계산합니다.\n",
        "input() - 사용자로부터 입력을 받습니다.\n",
        "print() - 결과를 출력합니다.\n",
        "sum() - 주어진 조건에 따라 특정 개수를 계산합니다.\n",
        "Counter (from collections) - 문자의 빈도수를 계산합니다.\\"
      ],
      "metadata": {
        "id": "pxUMKF4hTKRd"
      }
    },
    {
      "cell_type": "code",
      "source": [
        "num = (1,2,3,4,5,6,7,8,9,10)\n",
        "print(len(num))\n",
        "print(input(\"숫자를 입력하세요\"))\n",
        "print(sum(num))"
      ],
      "metadata": {
        "id": "pbODfFppTL0j"
      },
      "execution_count": null,
      "outputs": []
    },
    {
      "cell_type": "markdown",
      "source": [
        "Task3_0503. 외장함수 3개 이상 활용해서 간단한 프로그램을 만드세요"
      ],
      "metadata": {
        "id": "k2Wcv52rTPnd"
      }
    },
    {
      "cell_type": "code",
      "source": [
        "import os\n",
        "import datetime\n",
        "import shutil\n",
        "\n",
        "def daily_scheduler():\n",
        "    # 현재 날짜와 시간을 가져옵니다\n",
        "    today = datetime.datetime.now()\n",
        "    date_string = today.strftime(\"%Ya-%m-%d %H:%M:%S\")\n",
        "    print(f\"오늘의 날짜와 시간: {date_string}\")\n",
        "    # 작업 파일의 이름을 정합니다\n",
        "    filename = f\"task_{today.strftime('%Y%m%d')}.txt\"\n",
        "    # 파일이 이미 존재하는지 확인합니다\n",
        "    if os.path.exists(filename):\n",
        "        print(f\"'{filename}' 파일이 이미 존재합니다. 백업을 생성합니다\")\n",
        "        # 백업 파일 생성\n",
        "        shutil.copy(filename, filename + \".bak\")\n",
        "    else:\n",
        "        print(f\"'{filename}' 파일이 존재하지 않습니다. 새로운 파일을 생성합니다\")\n",
        "    # 사용자로부터 오늘의 주요 작업을 입력 받습니다.\n",
        "    task = input(\"오늘의 주요 작업을 입력하세요: \")\n",
        "    # 작업 내용을 파일에 저장합니다\n",
        "    with open(filename, 'a') as file:\n",
        "        file.write(f\"{date_string}: {task}\\n\")\n",
        "    print(f\"'{filename}' 파일에 작업이 저장되었습니다\")\n",
        "if __name__== \"__main__\":\n",
        "    daily_scheduler()"
      ],
      "metadata": {
        "id": "TAh2O5LPTQM9"
      },
      "execution_count": null,
      "outputs": []
    },
    {
      "cell_type": "markdown",
      "source": [
        "Task4_0503. 리스트를 작성하고 람다 함수를 이용해서 한번에 함수를 적용하여 결과값을 출력하세요."
      ],
      "metadata": {
        "id": "L-avTWp8TSwP"
      }
    },
    {
      "cell_type": "code",
      "source": [
        "numbers = [1,2,3,4,5,6,7,8,9,10]\n",
        "\n",
        "multiply_list = lambda x : x * 2\n",
        "\n",
        "result = list(map(multiply_list , numbers))\n",
        "\n",
        "print(result)"
      ],
      "metadata": {
        "id": "892b4lgiTUhl"
      },
      "execution_count": null,
      "outputs": []
    },
    {
      "cell_type": "code",
      "source": [
        "numbers = [1,2,3,4,5]\n",
        "squared_numbers = map(lambda x : x * x , numbers)\n",
        "print(list(squared_numbers))"
      ],
      "metadata": {
        "id": "UnpVENE4TaeK"
      },
      "execution_count": null,
      "outputs": []
    },
    {
      "cell_type": "markdown",
      "source": [
        "Task5_0503. 외부 라이브러리를 임포트해서 간단한 프로그램을 만드세요."
      ],
      "metadata": {
        "id": "7rHQTo5NTa7d"
      }
    },
    {
      "cell_type": "code",
      "source": [
        "from bs4 import BeautifulSoup\n",
        "html_doc = \"<html><head><title>Hello World</title></head></html>\"\n",
        "soup = BeautifulSoup(html_doc, 'html.parser')\n",
        "print(soup.title.text)"
      ],
      "metadata": {
        "id": "9Cn267_lTcx_"
      },
      "execution_count": null,
      "outputs": []
    },
    {
      "cell_type": "code",
      "source": [
        "!pip install requests -q\n",
        "\n",
        "import requests\n",
        "from bs4 import BeautifulSoup\n",
        "\n",
        "def fetch_website_content(url):\n",
        "    response = requests.get(url)\n",
        "    if response.status_code == 200:\n",
        "        # HTML 내용을 BeautifulSoup 객체로 파싱합니다\n",
        "        soup = BeautifulSoup(response.text, 'html.parser')\n",
        "\n",
        "        # 예제:페이지 타이틀을 출력합니다\n",
        "        print(\"page Title:\" , soup.title.string if soup.title else \"No title found\")\n",
        "\n",
        "    else:\n",
        "        print(\"Failed to retrieve the weppage\")\n",
        "        print(\"Status code:\" , response.status_code)\n",
        "\n",
        "if __name__ == \"__main__\":\n",
        "    url = input(\"저장하고 싶은 웹사이트의 URL을 입력하세요: \")\n",
        "    fetch_website_content(url)\n"
      ],
      "metadata": {
        "id": "2WcGwn8ATflV"
      },
      "execution_count": null,
      "outputs": []
    }
  ]
}