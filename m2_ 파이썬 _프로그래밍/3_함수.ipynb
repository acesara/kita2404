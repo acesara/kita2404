{
  "nbformat": 4,
  "nbformat_minor": 0,
  "metadata": {
    "colab": {
      "provenance": []
    },
    "kernelspec": {
      "name": "python3",
      "display_name": "Python 3"
    },
    "language_info": {
      "name": "python"
    }
  },
  "cells": [
    {
      "cell_type": "markdown",
      "source": [],
      "metadata": {
        "id": "saJqH3LmEKS3"
      }
    },
    {
      "cell_type": "markdown",
      "source": [
        "파이썬에서 함수는 크게 내장 함수(Built-in Functions)와 외장 함수(External Functions)로 나뉩니다.\n",
        "\n",
        "파이썬 표준 라이브러리\n",
        "https://docs.python.org/ko/3.10/library/index.html\n",
        "1. 내장 함수 (Built-in Functions):\n",
        "- 내장 함수는 파이썬 인터프리터에 포함되어 있어, 별도의 모듈을 임포트(import)하지 않고도 사용 예를 들어, print(), len(), type(), range(), zip() 등이 내장 함수입니다.\n",
        "- 이러한 함수들은 기본적인 작업을 수행하며, 파이썬 프로그래밍의 기본적인 빌딩 블록(building blocks)으로 작동\n",
        "\n",
        "2. 외장 함수 (External Functions):\n",
        "- 표준 라이브러리에 포함된 모듈과 함수를 가리키는 것으로 모듈을 임포트하여 사용\n",
        "- 파이썬 표준 라이브러리의 os, sys, math, random, datetime 등의 모듈에는 다양한 외장 함수가 포함\n",
        "\n",
        "3. 외부 라이브러리나 패키지\n",
        "- 표준 라이브러리에 포함되지 않아 기본 설치에는 포함되지 않는다.\n",
        "- 이를 사용하려면 먼저 해당 라이브러리나 패키지를 설치\n",
        "- 외부 라이브러리는 통상적으로 파이썬의 패키지 관리자인 pip를 사용하여 설치\n",
        "- 설치 후에는 외장 함수와 마찬가지로 필요한 모듈을 임포트하여 사용\n",
        "- 예: numpy, pandas, requests 등의 외부 라이브러리에 포함된 함수들.\n",
        "\n",
        "3. 사용자 정의 함수(User-Defined Functions):\n",
        "- 사용자가 직접 정의하여 사용하는 함수\n",
        "- def 키워드를 사용하여 함수를 정의하며, 필요에 따라 매개변수와 반환 값을 지정\n",
        "\n",
        "4. 람다 함수(Lambda Functions):\n",
        "- 이름 없는 간단한 함수를 정의할 때 사용하는 익명 함수\n",
        "- lambda 키워드를 사용하여 한 줄로 함수를 정의하며, 주로 간단한 연산이 필요할 때 사용"
      ],
      "metadata": {
        "id": "CJUjSNJ6ENRe"
      }
    },
    {
      "cell_type": "markdown",
      "source": [
        "- 함수의 종류 및 예제\n",
        "- 패키지, 모듈, 함수, 클래스\n",
        "- 함수 vs 메소드\n",
        "- 내장함수 연습\n",
        "- 외장함수 연습 : 날짜 함수, os\n",
        "- 외부 라이브러리 연습\n",
        "- 람다함수 연습\n",
        "- 사용자 함수 연습\n",
        "- 함수 유형 : 입력 인자와 리턴값에 따른 4가지 형태\n",
        "- 지역변수와 전역변수\n",
        "- 프로그램 작성"
      ],
      "metadata": {
        "id": "rMhKaF1gipcO"
      }
    },
    {
      "cell_type": "code",
      "source": [
        "# 내장 함수 예제\n",
        "print(\"Hello\" , \"World!\") # 출력함수\n",
        "print(len([1,2,3,4])) # 길이 계산 함수\n",
        "print(type(10)) # 타입 확인 함수"
      ],
      "metadata": {
        "colab": {
          "base_uri": "https://localhost:8080/"
        },
        "id": "l4zcFz7CEOTU",
        "outputId": "d190b12e-9499-43a7-96c3-6e3776afb8e9"
      },
      "execution_count": null,
      "outputs": [
        {
          "output_type": "stream",
          "name": "stdout",
          "text": [
            "Hello World!\n",
            "4\n",
            "<class 'int'>\n"
          ]
        }
      ]
    },
    {
      "cell_type": "code",
      "source": [
        "# Q . 내장함수로 다음을 수행하세요.\n",
        "a = [1,2,3,4,5]\n",
        "print(sum(a))\n",
        "print(max(a))\n",
        "print(min(a))\n",
        "print(sorted(a))\n",
        "print(list(reversed(a)))"
      ],
      "metadata": {
        "colab": {
          "base_uri": "https://localhost:8080/"
        },
        "id": "_UYI_n3IHBca",
        "outputId": "7e577830-8180-45a5-e0be-ea612788802d"
      },
      "execution_count": null,
      "outputs": [
        {
          "output_type": "stream",
          "name": "stdout",
          "text": [
            "15\n",
            "5\n",
            "1\n",
            "[1, 2, 3, 4, 5]\n",
            "[5, 4, 3, 2, 1]\n"
          ]
        }
      ]
    },
    {
      "cell_type": "code",
      "source": [
        "print(type(42))\n",
        "print(abs(-5)) # 절대값\n",
        "print(round(3.14159 , 2)) # 반올림\n",
        "print(pow(2,3)) # 2의 3승"
      ],
      "metadata": {
        "colab": {
          "base_uri": "https://localhost:8080/"
        },
        "id": "Ehtmp1_6HhLh",
        "outputId": "b9b8d98f-c0cb-4096-eac7-8207c162d8c0"
      },
      "execution_count": null,
      "outputs": [
        {
          "output_type": "stream",
          "name": "stdout",
          "text": [
            "<class 'int'>\n",
            "5\n",
            "3.14\n",
            "8\n"
          ]
        }
      ]
    },
    {
      "cell_type": "code",
      "source": [
        "# 외장 함수 예제\n",
        "\n",
        "import math # 수학 모듈 임포트\n",
        "print(math.sqrt(16)) # 제곱근 계산 함수 (루트)\n",
        "\n",
        "import random # 랜덤 모듈 임포트\n",
        "print(random.randint(1,10)) # 랜덤 정수 생성 함수. 양끝 포함\n",
        "\n",
        "import datetime # 날짜와 시간 모듈 임포트\n",
        "print(datetime.datetime.now()) # 현재 날짜와 시간 출력 함수"
      ],
      "metadata": {
        "colab": {
          "base_uri": "https://localhost:8080/"
        },
        "id": "WdwD7u5-H1gZ",
        "outputId": "46b4d8df-ac5a-4048-fbcc-6b58f3eee41a"
      },
      "execution_count": null,
      "outputs": [
        {
          "output_type": "stream",
          "name": "stdout",
          "text": [
            "4.0\n",
            "6\n",
            "2024-05-03 06:27:39.639814\n"
          ]
        }
      ]
    },
    {
      "cell_type": "code",
      "source": [
        "# Q . datetime.datetime.now() 에서 연도 ,월, 일, 시, 분, 초, 마이크로초를 각각 출력하세요\n",
        "\n",
        "from datetime import datetime # datetime 모듈로부터 datetime클래스를 가져옴\n",
        "\n",
        "now = datetime.now()\n",
        "print(now.year)\n",
        "print(now.month)\n",
        "print(now.day)\n",
        "print(now.hour)\n",
        "print(now.minute)\n",
        "print(now.second)\n",
        "print(now.microsecond)\n",
        "\n"
      ],
      "metadata": {
        "colab": {
          "base_uri": "https://localhost:8080/"
        },
        "id": "jLtwj9geI7Br",
        "outputId": "cc95a59a-f292-475a-f0a0-9ef623757fde"
      },
      "execution_count": null,
      "outputs": [
        {
          "output_type": "stream",
          "name": "stdout",
          "text": [
            "2024\n",
            "5\n",
            "3\n",
            "6\n",
            "31\n",
            "50\n",
            "210602\n"
          ]
        }
      ]
    },
    {
      "cell_type": "code",
      "source": [
        "import os\n",
        "print(os.getcwd())\n",
        "print(os.listdir()) # 잘 안씀"
      ],
      "metadata": {
        "colab": {
          "base_uri": "https://localhost:8080/"
        },
        "id": "pFPWAKG0J4JU",
        "outputId": "6a7bec90-37eb-443e-e6e8-37e7d4a7326f"
      },
      "execution_count": null,
      "outputs": [
        {
          "output_type": "stream",
          "name": "stdout",
          "text": [
            "/content\n",
            "['.config', 'new_folder', 'sample_data']\n"
          ]
        }
      ]
    },
    {
      "cell_type": "code",
      "source": [
        "os.mkdir('new_folder') # make directory"
      ],
      "metadata": {
        "id": "JMRIdY1oKvDf"
      },
      "execution_count": null,
      "outputs": []
    },
    {
      "cell_type": "code",
      "source": [
        "os.removedirs('new_folder')"
      ],
      "metadata": {
        "id": "qq8pMH6QLufp"
      },
      "execution_count": null,
      "outputs": []
    },
    {
      "cell_type": "code",
      "source": [
        "!ls"
      ],
      "metadata": {
        "colab": {
          "base_uri": "https://localhost:8080/"
        },
        "id": "W3O6SWMALNXZ",
        "outputId": "fa359c95-cdbe-483e-a610-955b18ab0d2c"
      },
      "execution_count": null,
      "outputs": [
        {
          "output_type": "stream",
          "name": "stdout",
          "text": [
            "sample_data\n"
          ]
        }
      ]
    },
    {
      "cell_type": "code",
      "source": [
        "# 외부 라이브러리 예제\n",
        "# 먼저 pip를 사용하여 pandas 라이브러리를 설치합니다\n",
        "# pip install pandas\n",
        "\n",
        "import pandas as pd\n",
        "\n",
        "# pandas 의 DataFrame 객체 생성\n",
        "data = {'Name': ['Alice' , 'Bob' , 'Charlie'] , 'Age': [25, 30, 35]}\n",
        "df = pd.DataFrame(data)\n",
        "\n",
        "# pandas 의 head() 함수 사용하여 DataFrame의 처음 5행 출력 (여기서는 3행만 존재)\n",
        "print(df.head)"
      ],
      "metadata": {
        "colab": {
          "base_uri": "https://localhost:8080/"
        },
        "id": "4s9S8XgLMAVZ",
        "outputId": "17186186-423b-4239-9e1c-4a35c6415274"
      },
      "execution_count": null,
      "outputs": [
        {
          "output_type": "stream",
          "name": "stdout",
          "text": [
            "<bound method NDFrame.head of       Name  Age\n",
            "0    Alice   25\n",
            "1      Bob   30\n",
            "2  Charlie   35>\n"
          ]
        }
      ]
    },
    {
      "cell_type": "code",
      "source": [
        "import pandas as pd\n",
        "\n",
        "data = {'Name': ['Alice' , 'Bob' , 'Charlie'] , 'Age': [25, 30, 35]}\n",
        "df = pd.DataFrame(data)\n",
        "print(df.head)"
      ],
      "metadata": {
        "colab": {
          "base_uri": "https://localhost:8080/"
        },
        "id": "Jk54Rom_Ydbs",
        "outputId": "d2ec9be5-c99d-43b9-ddfe-5abb3b6f24b5"
      },
      "execution_count": null,
      "outputs": [
        {
          "output_type": "stream",
          "name": "stdout",
          "text": [
            "<bound method NDFrame.head of       Name  Age\n",
            "0    Alice   25\n",
            "1      Bob   30\n",
            "2  Charlie   35>\n"
          ]
        }
      ]
    },
    {
      "cell_type": "code",
      "source": [
        "import numpy as np\n",
        "data = [1,2,3,4]\n",
        "arr = np.array(data)\n",
        "print(arr,type(arr))"
      ],
      "metadata": {
        "colab": {
          "base_uri": "https://localhost:8080/"
        },
        "id": "YkcBb00MRFQC",
        "outputId": "2a87e9f5-17ea-4131-8bfb-c881dd7bb01d"
      },
      "execution_count": null,
      "outputs": [
        {
          "output_type": "stream",
          "name": "stdout",
          "text": [
            "[1 2 3 4] <class 'numpy.ndarray'>\n"
          ]
        }
      ]
    },
    {
      "cell_type": "code",
      "source": [
        "import numpy as np\n",
        "arr = np.array(data)\n",
        "print(arr)"
      ],
      "metadata": {
        "colab": {
          "base_uri": "https://localhost:8080/"
        },
        "id": "yfJ-WUq8b5Xj",
        "outputId": "9a68eacb-f393-4879-d57c-2a43fc04a75f"
      },
      "execution_count": null,
      "outputs": [
        {
          "output_type": "stream",
          "name": "stdout",
          "text": [
            "[1 2 3 4]\n"
          ]
        }
      ]
    },
    {
      "cell_type": "code",
      "source": [
        "# 사용자 함수 예제\n",
        "def greet(name):\n",
        "    return f\"Hello,{name}!\"\n",
        "print(greet(\"홍길동\"))"
      ],
      "metadata": {
        "colab": {
          "base_uri": "https://localhost:8080/"
        },
        "id": "7z-HXrakSSGC",
        "outputId": "d3d3e361-7eb9-4a1d-f29d-e651500b8c72"
      },
      "execution_count": null,
      "outputs": [
        {
          "output_type": "stream",
          "name": "stdout",
          "text": [
            "Hello,홍길동!\n"
          ]
        }
      ]
    },
    {
      "cell_type": "code",
      "source": [
        "# 람다 함수는 간단한 한 줄의 함수를 작성할 때 유용\n",
        "multiply = lambda x , y : x * y\n",
        "print(multiply(3,4)) # 출력 :12"
      ],
      "metadata": {
        "colab": {
          "base_uri": "https://localhost:8080/"
        },
        "id": "-j0exTQhS1l6",
        "outputId": "ab300763-b8a8-4379-ed58-21af868cd29e"
      },
      "execution_count": null,
      "outputs": [
        {
          "output_type": "stream",
          "name": "stdout",
          "text": [
            "12\n"
          ]
        }
      ]
    },
    {
      "cell_type": "code",
      "source": [
        "# 조건 사용:\n",
        "is_even = lambda x : True if x % 2 == 0 else False\n",
        "print(is_even(4)) # 출력 : True\n",
        "print(is_even(5)) # 출력 : False"
      ],
      "metadata": {
        "colab": {
          "base_uri": "https://localhost:8080/"
        },
        "id": "JJq9FyBQTdwQ",
        "outputId": "1b12b379-c4ab-4e70-bcce-39d61df5c90a"
      },
      "execution_count": null,
      "outputs": [
        {
          "output_type": "stream",
          "name": "stdout",
          "text": [
            "True\n",
            "False\n"
          ]
        }
      ]
    },
    {
      "cell_type": "markdown",
      "source": [
        "Task2_0503. 내장함수 5개를 활용해서 사용자 함수로 간단한 프로그램을 만드세요.\n",
        "\n",
        "[예시] 문서관리 프로그램\n",
        "\n",
        "len() - 문자열의 길이를 계산합니다.\\\n",
        "input() - 사용자로부터 입력을 받습니다.\\\n",
        "print() - 결과를 출력합니다.\\\n",
        "sum() - 주어진 조건에 따라 특정 개수를 계산합니다.\\\n",
        "Counter (from collections) - 문자의 빈도수를 계산합니다.\\"
      ],
      "metadata": {
        "id": "WXcM8QR4UhGh"
      }
    },
    {
      "cell_type": "code",
      "source": [
        "num = (1,2,3,4,5,6,7,8,9,10)\n",
        "print(len(num))\n",
        "print(input(\"숫자를 입력하세요\"))\n",
        "print(sum(num))\n",
        "\n"
      ],
      "metadata": {
        "colab": {
          "base_uri": "https://localhost:8080/"
        },
        "id": "JiVJUkk9nY5G",
        "outputId": "05aedb1c-1403-4b66-dd97-9bf64041adbd"
      },
      "execution_count": null,
      "outputs": [
        {
          "output_type": "stream",
          "name": "stdout",
          "text": [
            "10\n",
            "숫자를 입력하세요2\n",
            "2\n",
            "55\n"
          ]
        }
      ]
    },
    {
      "cell_type": "code",
      "source": [
        "# 문제 해결\n",
        "\n",
        "# 내장함수\n",
        "print(dir(__builtins__))\n",
        "print(len(dir(__builtins__)))"
      ],
      "metadata": {
        "colab": {
          "base_uri": "https://localhost:8080/"
        },
        "id": "R1-4rXCn_7zF",
        "outputId": "ece94842-b834-4091-809b-7b4c07ee3cfa"
      },
      "execution_count": null,
      "outputs": [
        {
          "output_type": "stream",
          "name": "stdout",
          "text": [
            "['ArithmeticError', 'AssertionError', 'AttributeError', 'BaseException', 'BlockingIOError', 'BrokenPipeError', 'BufferError', 'BytesWarning', 'ChildProcessError', 'ConnectionAbortedError', 'ConnectionError', 'ConnectionRefusedError', 'ConnectionResetError', 'DeprecationWarning', 'EOFError', 'Ellipsis', 'EncodingWarning', 'EnvironmentError', 'Exception', 'False', 'FileExistsError', 'FileNotFoundError', 'FloatingPointError', 'FutureWarning', 'GeneratorExit', 'IOError', 'ImportError', 'ImportWarning', 'IndentationError', 'IndexError', 'InterruptedError', 'IsADirectoryError', 'KeyError', 'KeyboardInterrupt', 'LookupError', 'MemoryError', 'ModuleNotFoundError', 'NameError', 'None', 'NotADirectoryError', 'NotImplemented', 'NotImplementedError', 'OSError', 'OverflowError', 'PendingDeprecationWarning', 'PermissionError', 'ProcessLookupError', 'RecursionError', 'ReferenceError', 'ResourceWarning', 'RuntimeError', 'RuntimeWarning', 'StopAsyncIteration', 'StopIteration', 'SyntaxError', 'SyntaxWarning', 'SystemError', 'SystemExit', 'TabError', 'TimeoutError', 'True', 'TypeError', 'UnboundLocalError', 'UnicodeDecodeError', 'UnicodeEncodeError', 'UnicodeError', 'UnicodeTranslateError', 'UnicodeWarning', 'UserWarning', 'ValueError', 'Warning', 'ZeroDivisionError', '__IPYTHON__', '__build_class__', '__debug__', '__doc__', '__import__', '__loader__', '__name__', '__package__', '__spec__', 'abs', 'aiter', 'all', 'anext', 'any', 'ascii', 'bin', 'bool', 'breakpoint', 'bytearray', 'bytes', 'callable', 'chr', 'classmethod', 'compile', 'complex', 'copyright', 'credits', 'delattr', 'dict', 'dir', 'display', 'divmod', 'enumerate', 'eval', 'exec', 'execfile', 'filter', 'float', 'format', 'frozenset', 'get_ipython', 'getattr', 'globals', 'hasattr', 'hash', 'help', 'hex', 'id', 'input', 'int', 'isinstance', 'issubclass', 'iter', 'len', 'license', 'list', 'locals', 'map', 'max', 'memoryview', 'min', 'next', 'object', 'oct', 'open', 'ord', 'pow', 'print', 'property', 'range', 'repr', 'reversed', 'round', 'runfile', 'set', 'setattr', 'slice', 'sorted', 'staticmethod', 'str', 'sum', 'super', 'tuple', 'type', 'vars', 'zip']\n",
            "158\n"
          ]
        }
      ]
    },
    {
      "cell_type": "code",
      "source": [
        "def string_statistics(user_input):\n",
        "    # 문자열 길이 반환\n",
        "    lenght = len(user_input)\n",
        "    # 가장 자주 등장하는 문자 찾기\n",
        "    from collections import Counter\n",
        "    frequency = Counter(user_input)\n",
        "    most_common = frequency.most_common(1)[0][0]\n",
        "    # 숫자 개수 세기\n",
        "    num_count = sum(c.isdigit() for c in user_input)\n",
        "    # 대문자 개수 세기\n",
        "    uppercase_count = sum(c.isupper() for c in user_input)\n",
        "    # 소문자 개수 세기\n",
        "    lowercase_count = sum(c.islower() for c in user_input)\n",
        "    # 결과 출력\n",
        "    print(f\"입력된 문자열의 길이: {length}\")\n",
        "    print(f\"가장 자주 등장하는 문자: {most_common}\")\n",
        "    print(f\"숫자의 개수: {num_count}\")\n",
        "    print(f\"대문자의 개수: {uppercase_count}\")\n",
        "    print(f\"소문자의 개수: {lowercase_count}\")\n",
        "# 사용자 입력 받기\n",
        "user_input = input(\"문자열을 입력하세요\")\n",
        "string_statistics(user_input)"
      ],
      "metadata": {
        "colab": {
          "base_uri": "https://localhost:8080/",
          "height": 349
        },
        "id": "EZLHMPoZASdD",
        "outputId": "2617583d-a248-4ef9-afa0-0104bab13f96"
      },
      "execution_count": null,
      "outputs": [
        {
          "name": "stdout",
          "output_type": "stream",
          "text": [
            "문자열을 입력하세요윤석열 대통령은 사정 기관 장악을 포함한 역기능을 우려해 역대 청와대가 유지했던 민정수석실을 정부 출범과 함께 폐지했지만, 지난 4·10 총선 패배 이후 민심 파악을 위한 민정 기능 부활을 검토해온 끝에 이날 공식화했다.\n"
          ]
        },
        {
          "output_type": "error",
          "ename": "NameError",
          "evalue": "name 'length' is not defined",
          "traceback": [
            "\u001b[0;31m---------------------------------------------------------------------------\u001b[0m",
            "\u001b[0;31mNameError\u001b[0m                                 Traceback (most recent call last)",
            "\u001b[0;32m<ipython-input-5-9988a55f3dc4>\u001b[0m in \u001b[0;36m<cell line: 22>\u001b[0;34m()\u001b[0m\n\u001b[1;32m     20\u001b[0m \u001b[0;31m# 사용자 입력 받기\u001b[0m\u001b[0;34m\u001b[0m\u001b[0;34m\u001b[0m\u001b[0m\n\u001b[1;32m     21\u001b[0m \u001b[0muser_input\u001b[0m \u001b[0;34m=\u001b[0m \u001b[0minput\u001b[0m\u001b[0;34m(\u001b[0m\u001b[0;34m\"문자열을 입력하세요\"\u001b[0m\u001b[0;34m)\u001b[0m\u001b[0;34m\u001b[0m\u001b[0;34m\u001b[0m\u001b[0m\n\u001b[0;32m---> 22\u001b[0;31m \u001b[0mstring_statistics\u001b[0m\u001b[0;34m(\u001b[0m\u001b[0muser_input\u001b[0m\u001b[0;34m)\u001b[0m\u001b[0;34m\u001b[0m\u001b[0;34m\u001b[0m\u001b[0m\n\u001b[0m",
            "\u001b[0;32m<ipython-input-5-9988a55f3dc4>\u001b[0m in \u001b[0;36mstring_statistics\u001b[0;34m(user_input)\u001b[0m\n\u001b[1;32m     13\u001b[0m     \u001b[0mlowercase_count\u001b[0m \u001b[0;34m=\u001b[0m \u001b[0msum\u001b[0m\u001b[0;34m(\u001b[0m\u001b[0mc\u001b[0m\u001b[0;34m.\u001b[0m\u001b[0mislower\u001b[0m\u001b[0;34m(\u001b[0m\u001b[0;34m)\u001b[0m \u001b[0;32mfor\u001b[0m \u001b[0mc\u001b[0m \u001b[0;32min\u001b[0m \u001b[0muser_input\u001b[0m\u001b[0;34m)\u001b[0m\u001b[0;34m\u001b[0m\u001b[0;34m\u001b[0m\u001b[0m\n\u001b[1;32m     14\u001b[0m     \u001b[0;31m# 결과 출력\u001b[0m\u001b[0;34m\u001b[0m\u001b[0;34m\u001b[0m\u001b[0m\n\u001b[0;32m---> 15\u001b[0;31m     \u001b[0mprint\u001b[0m\u001b[0;34m(\u001b[0m\u001b[0;34mf\"입력된 문자열의 길이: {length}\"\u001b[0m\u001b[0;34m)\u001b[0m\u001b[0;34m\u001b[0m\u001b[0;34m\u001b[0m\u001b[0m\n\u001b[0m\u001b[1;32m     16\u001b[0m     \u001b[0mprint\u001b[0m\u001b[0;34m(\u001b[0m\u001b[0;34mf\"가장 자주 등장하는 문자: {most_common}\"\u001b[0m\u001b[0;34m)\u001b[0m\u001b[0;34m\u001b[0m\u001b[0;34m\u001b[0m\u001b[0m\n\u001b[1;32m     17\u001b[0m     \u001b[0mprint\u001b[0m\u001b[0;34m(\u001b[0m\u001b[0;34mf\"숫자의 개수: {num_count}\"\u001b[0m\u001b[0;34m)\u001b[0m\u001b[0;34m\u001b[0m\u001b[0;34m\u001b[0m\u001b[0m\n",
            "\u001b[0;31mNameError\u001b[0m: name 'length' is not defined"
          ]
        }
      ]
    },
    {
      "cell_type": "markdown",
      "source": [
        "Task3_0503. 외장함수 3개 이상 활용해서 간단한 프로그램을 만드세요"
      ],
      "metadata": {
        "id": "i6nHV1zhWOTQ"
      }
    },
    {
      "cell_type": "code",
      "source": [
        "import os\n",
        "import datetime\n",
        "import shutil\n",
        "\n",
        "def daily_scheduler():\n",
        "    # 현재 날짜와 시간을 가져옵니다\n",
        "    today = datetime.datetime.now()\n",
        "    date_string = today.strftime(\"%Ya-%m-%d %H:%M:%S\")\n",
        "    print(f\"오늘의 날짜와 시간: {date_string}\")\n",
        "    # 작업 파일의 이름을 정합니다\n",
        "    filename = f\"task_{today.strftime('%Y%m%d')}.txt\"\n",
        "    # 파일이 이미 존재하는지 확인합니다\n",
        "    if os.path.exists(filename):\n",
        "        print(f\"'{filename}' 파일이 이미 존재합니다. 백업을 생성합니다\")\n",
        "        # 백업 파일 생성\n",
        "        shutil.copy(filename, filename + \".bak\")\n",
        "    else:\n",
        "        print(f\"'{filename}' 파일이 존재하지 않습니다. 새로운 파일을 생성합니다\")\n",
        "    # 사용자로부터 오늘의 주요 작업을 입력 받습니다.\n",
        "    task = input(\"오늘의 주요 작업을 입력하세요: \")\n",
        "    # 작업 내용을 파일에 저장합니다\n",
        "    with open(filename, 'a') as file:\n",
        "        file.write(f\"{date_string}: {task}\\n\")\n",
        "    print(f\"'{filename}' 파일에 작업이 저장되었습니다\")\n",
        "if __name__== \"__main__\":\n",
        "    daily_scheduler()"
      ],
      "metadata": {
        "id": "68O53r41JE9K"
      },
      "execution_count": null,
      "outputs": []
    },
    {
      "cell_type": "markdown",
      "source": [
        "Task4_0503. 리스트를 작성하고 람다 함수를 이용해서 한번에 함수를 적용하여 결과값을 출력하세요."
      ],
      "metadata": {
        "id": "9h1MQm2jWP1w"
      }
    },
    {
      "cell_type": "code",
      "source": [
        "numbers = [1,2,3,4,5,6,7,8,9,10]\n",
        "\n",
        "multiply_list = lambda x : x * 2\n",
        "\n",
        "result = list(map(multiply_list , numbers))\n",
        "\n",
        "print(result)"
      ],
      "metadata": {
        "colab": {
          "base_uri": "https://localhost:8080/"
        },
        "id": "qv6O03E0gYzj",
        "outputId": "2ccca43d-7970-4cde-e3a7-b199b2d691fc"
      },
      "execution_count": null,
      "outputs": [
        {
          "output_type": "stream",
          "name": "stdout",
          "text": [
            "[2, 4, 6, 8, 10, 12, 14, 16, 18, 20]\n"
          ]
        }
      ]
    },
    {
      "cell_type": "code",
      "source": [
        "numbers = [1,2,3,4,5]\n",
        "squared_numbers = map(lambda x : x * x , numbers)\n",
        "print(list(squared_numbers))"
      ],
      "metadata": {
        "colab": {
          "base_uri": "https://localhost:8080/"
        },
        "id": "hElw9cyvZEpZ",
        "outputId": "44b4a68c-1f90-4ab2-d68a-4ed8902c79c2"
      },
      "execution_count": null,
      "outputs": [
        {
          "output_type": "stream",
          "name": "stdout",
          "text": [
            "[1, 4, 9, 16, 25]\n"
          ]
        }
      ]
    },
    {
      "cell_type": "code",
      "source": [
        "# 짝수\n",
        "\n",
        "numbers = [1,2,3,4,5]\n",
        "filtered_numbers = filter(lambda x : x % 2 == 0 , numbers)\n",
        "print(list(filtered_numbers))"
      ],
      "metadata": {
        "colab": {
          "base_uri": "https://localhost:8080/"
        },
        "id": "G-pvxL5nJhis",
        "outputId": "cfc550b3-1ac0-445e-b929-c2ab32d7537a"
      },
      "execution_count": null,
      "outputs": [
        {
          "output_type": "stream",
          "name": "stdout",
          "text": [
            "[2, 4]\n"
          ]
        }
      ]
    },
    {
      "cell_type": "markdown",
      "source": [
        "Task5_0503. 외부 라이브러리를 임포트해서 간단한 프로그램을 만드세요.\n"
      ],
      "metadata": {
        "id": "XF8NjUZoWSB9"
      }
    },
    {
      "cell_type": "code",
      "source": [
        "from bs4 import BeautifulSoup\n",
        "html_doc = \"<html><head><title>Hello World</title></head></html>\"\n",
        "soup = BeautifulSoup(html_doc, 'html.parser')\n",
        "print(soup.title.text)"
      ],
      "metadata": {
        "colab": {
          "base_uri": "https://localhost:8080/"
        },
        "id": "xvDGloUcWVdJ",
        "outputId": "da6ae04f-cd93-40d2-eb95-82908ee73d8e"
      },
      "execution_count": null,
      "outputs": [
        {
          "output_type": "stream",
          "name": "stdout",
          "text": [
            "Hello World\n"
          ]
        }
      ]
    },
    {
      "cell_type": "code",
      "source": [
        "!pip install requests -q\n",
        "\n",
        "import requests\n",
        "from bs4 import BeautifulSoup\n",
        "\n",
        "def fetch_website_content(url):\n",
        "    response = requests.get(url)\n",
        "    if response.status_code == 200:\n",
        "        # HTML 내용을 BeautifulSoup 객체로 파싱합니다\n",
        "        soup = BeautifulSoup(response.text, 'html.parser')\n",
        "\n",
        "        # 예제:페이지 타이틀을 출력합니다\n",
        "        print(\"page Title:\" , soup.title.string if soup.title else \"No title found\")\n",
        "\n",
        "    else:\n",
        "        print(\"Failed to retrieve the weppage\")\n",
        "        print(\"Status code:\" , response.status_code)\n",
        "\n",
        "if __name__ == \"__main__\":\n",
        "    url = input(\"저장하고 싶은 웹사이트의 URL을 입력하세요: \")\n",
        "    fetch_website_content(url)\n"
      ],
      "metadata": {
        "colab": {
          "base_uri": "https://localhost:8080/"
        },
        "id": "HKogFXHnKkcD",
        "outputId": "2ca0de24-e05d-4850-85f1-b0c6c6351efb"
      },
      "execution_count": null,
      "outputs": [
        {
          "output_type": "stream",
          "name": "stdout",
          "text": [
            "저장하고 싶은 웹사이트의 URL을 입력하세요: https://www.python.org/\n",
            "page Title: Welcome to Python.org\n"
          ]
        }
      ]
    },
    {
      "cell_type": "markdown",
      "source": [
        "#### 파이썬 패키지,  모듈, 함수, 클래스\n",
        "- 코드 작성 시 이미 만들어져 있는 함수들을 활용하면 보다 효율적이고 빠르게 개발 가능\n",
        "- 이미 만들어져 있고 안정성이 검증된 함수들을 성격에 맞게 하나의 파이썬 파일에 묶어 만들어 놓을 것을 모듈이라 함\n",
        "- 외부 모듈에 있는 함수들을 활용하려면 이 모듈을 먼저 가져와서 사용해야 하는데 이것을 모듈을 임포트한다고 한다.\n",
        "- 파이썬 모듈이 하나의 파이썬 파일이라면 패키지는 디렉토리로 볼 수 있다.\n",
        "\n",
        "패키지\n",
        "1. 라이브러리라고도 부름\n",
        "2. 특정 기능과 관련된 여러 모듈을 한 그룹으로 묶은 것\n",
        "3. 패키지 안에 서브패키지가 있을 수도 있다.\n",
        "4. import 패키지/모듈, from 패키지/모듈 import 서브패키지/모듈\n",
        "  \n",
        "   \n",
        "모듈\n",
        "1. 여러 기능들이 뭉쳐진 하나의. py파일\n",
        "2. 함수, 클래스, 변수 등 포함\n",
        "3. import 모듈\n",
        "\n",
        "함수\n",
        "1. 하나의 기능을 가진 코드의 집합\n",
        "2. 함수를 사용한다 = 함수를 호출한다\n",
        "3. 함수 사용 형태: 함수( )\n",
        "   - 필요한 경우 () 안에 매개변수 또는 옵션\n",
        "4. 종류\n",
        "   - 내장 함수(built in function)\n",
        "   - 외장 함수: import 해주어야 함\n",
        "   \n",
        "클래스   \n",
        "- 파이썬은 객체 지향 언어로클래스를 기반으로 객체를 만들어 사용한다.\n",
        "- 한 파이썬 파일(. py) 내에서 \"class class명():\"을 통해 클래스 선언\n",
        "\n",
        "\n",
        "#### 함수 vs 메소드\n",
        "- 함수 (Function)\n",
        "    - 함수는 특정 작업을 수행하거나 값을 계산하기 위해 정의된 코드의 블록\n",
        "    - 함수는 def 키워드를 사용하여 정의\n",
        "    - 함수는 전역적으로 호출할 수 있거나 다른 함수 내부에서 호출할 수 있다.    \n",
        "- 메소드 (Method)\n",
        "    - 메소드는 객체에 속한 함수, 메소드는 특정 객체의 기능으로 정의\n",
        "    - 메소드는 객체와 연결되어 있으며, . (점) 표기법을 사용하여 해당 객체에 대한 메소드를 호출\n",
        "    - 메소드는 첫 번째 매개변수로 self를 사용하여 객체 자체를 참조 (클래스 내부에서 메소드를 정의할 때)\n",
        "- 주요 차이점\n",
        "    - 정의: 함수는 독립적으로 정의되지만, 메소드는 클래스 내부에서 정의\n",
        "    - 호출: 함수는 이름만으로 호출될 수 있지만, 메소드는 객체를 통해 호출\n",
        "    - 참조: 메소드는 첫 번째 매개변수로 객체 자신을 참조(self), 반면 함수는 이런 자체 참조 매개변수를 갖지 않는다.\n"
      ],
      "metadata": {
        "id": "WJ2FeVyqd4KH"
      }
    },
    {
      "cell_type": "code",
      "source": [
        "# 함수 호출\n",
        "def my_function():\n",
        "    print(\"Hello from a function\")\n",
        "\n",
        "my_function()\n"
      ],
      "metadata": {
        "colab": {
          "base_uri": "https://localhost:8080/"
        },
        "id": "poghPn1PeECZ",
        "outputId": "d95944be-925a-4663-d7ed-4479af44b6b6"
      },
      "execution_count": null,
      "outputs": [
        {
          "output_type": "stream",
          "name": "stdout",
          "text": [
            "Hello from a function\n"
          ]
        }
      ]
    },
    {
      "cell_type": "code",
      "source": [
        "# 메소드 호출\n",
        "\n",
        "class MyClass:\n",
        "    def my_method(self):\n",
        "        print(\"Hello from a method\")\n",
        "\n",
        "obj = MyClass()\n",
        "obj.my_method()"
      ],
      "metadata": {
        "colab": {
          "base_uri": "https://localhost:8080/"
        },
        "id": "noERa7n5hfNS",
        "outputId": "0a38bc45-625e-4801-8ef3-d7b1a0b7937c"
      },
      "execution_count": null,
      "outputs": [
        {
          "output_type": "stream",
          "name": "stdout",
          "text": [
            "Hello from a method\n"
          ]
        }
      ]
    },
    {
      "cell_type": "markdown",
      "source": [
        "# 내장함수 연습"
      ],
      "metadata": {
        "id": "919JpsGUieIe"
      }
    },
    {
      "cell_type": "code",
      "source": [
        "print(abs(-3))\n",
        "print(all([1,2,3,4])) # x가 모두 참이면 True, 거짓이 하나라도 있으면 False\n",
        "print(any([1,2,3,0])) # x가 하나라도 참이면 True, 모두 거짓이면 False\n",
        "print(chr(65)) # 아스키 코드\n",
        "print(float(3))\n",
        "print(int(3.9))\n",
        "print(max(1,10))\n",
        "print(min(1,10))\n",
        "print(pow(10,2)) # 거듭제곱\n",
        "print(round(2.675,2))"
      ],
      "metadata": {
        "colab": {
          "base_uri": "https://localhost:8080/"
        },
        "id": "8ZI8GrXEifoX",
        "outputId": "cabcadb9-3405-4d7c-ed20-5c8725308cd1"
      },
      "execution_count": null,
      "outputs": [
        {
          "output_type": "stream",
          "name": "stdout",
          "text": [
            "3\n",
            "True\n",
            "True\n",
            "A\n",
            "3.0\n",
            "3\n",
            "10\n",
            "1\n",
            "100\n",
            "2.67\n"
          ]
        }
      ]
    },
    {
      "cell_type": "code",
      "source": [
        "type(pow)"
      ],
      "metadata": {
        "colab": {
          "base_uri": "https://localhost:8080/"
        },
        "id": "LFw9x81pkSun",
        "outputId": "1bca6985-ab84-4974-db68-d85ed0cf17cc"
      },
      "execution_count": null,
      "outputs": [
        {
          "output_type": "execute_result",
          "data": {
            "text/plain": [
              "builtin_function_or_method"
            ]
          },
          "metadata": {},
          "execution_count": 32
        }
      ]
    },
    {
      "cell_type": "code",
      "source": [
        "# 함수가 다른 객체와 마찬가지로 변수에 할당되거나 , 다른 함수로 전달되거나 다른 함수로부터 반환될수 있음\n",
        "# pow를 다른 변수에 할당\n",
        "my_pow = pow\n",
        "result = my_pow\n",
        "print(result)\n",
        "\n",
        "# 함수를 인자로 전달\n",
        "\n",
        "def apply_func(func, x ,y):\n",
        "    return func(x , y)\n",
        "result = apply_func(pow, 3,4) # pow(3,4)\n",
        "print(result)"
      ],
      "metadata": {
        "colab": {
          "base_uri": "https://localhost:8080/"
        },
        "id": "y_AneP77kX3G",
        "outputId": "f3bc0aab-93f9-4d28-f8e0-de5c80a52dfa"
      },
      "execution_count": null,
      "outputs": [
        {
          "output_type": "stream",
          "name": "stdout",
          "text": [
            "<built-in function pow>\n",
            "81\n"
          ]
        }
      ]
    },
    {
      "cell_type": "code",
      "source": [
        "age = 30\n",
        "print(\"I am \" + str(age) + \" years old.\")"
      ],
      "metadata": {
        "colab": {
          "base_uri": "https://localhost:8080/"
        },
        "id": "plfWDVM1lgLA",
        "outputId": "ae33147b-424c-415a-a3fd-857b282304f3"
      },
      "execution_count": null,
      "outputs": [
        {
          "output_type": "stream",
          "name": "stdout",
          "text": [
            "I am 30 years old.\n"
          ]
        }
      ]
    },
    {
      "cell_type": "markdown",
      "source": [
        "# sort, sorted 모두 key,reverse 매개변수를 갖고 있다\n",
        "- reverse : 기본값은 reverse= False(오름차순) , reverse = True를 매개변수로 입력하면 내림차순으로 정렬\n",
        "- key : 정렬을 목적으로 하는 함수를 값으로 넣는다. lambda를 이용할 수있고 key값을 기준으로 정렬되고 기본값은 오름차순"
      ],
      "metadata": {
        "id": "jqb90Yq3mfBN"
      }
    },
    {
      "cell_type": "code",
      "source": [
        "my_list = [3,1,4,2]\n",
        "print(sorted(my_list))\n",
        "my_list"
      ],
      "metadata": {
        "colab": {
          "base_uri": "https://localhost:8080/"
        },
        "id": "8_1PMhAFmF6c",
        "outputId": "faa2d763-b32c-4613-b0e9-5d5bc162c4d0"
      },
      "execution_count": null,
      "outputs": [
        {
          "output_type": "stream",
          "name": "stdout",
          "text": [
            "[1, 2, 3, 4]\n"
          ]
        },
        {
          "output_type": "execute_result",
          "data": {
            "text/plain": [
              "[3, 1, 4, 2]"
            ]
          },
          "metadata": {},
          "execution_count": 38
        }
      ]
    },
    {
      "cell_type": "code",
      "source": [
        "my_string = 'Python'\n",
        "print(type(my_string))"
      ],
      "metadata": {
        "colab": {
          "base_uri": "https://localhost:8080/"
        },
        "id": "6VNu3wHArDZU",
        "outputId": "cb94e9c7-c290-4a63-9fda-e9c5c067e2e5"
      },
      "execution_count": null,
      "outputs": [
        {
          "output_type": "stream",
          "name": "stdout",
          "text": [
            "<class 'str'>\n"
          ]
        }
      ]
    },
    {
      "cell_type": "markdown",
      "source": [
        " Q . student = [('Alice',90) , ('Bob',85) , ('Charlie',88)]를 기준으로 정렬하세요"
      ],
      "metadata": {
        "id": "s1919CTAm9oN"
      }
    },
    {
      "cell_type": "code",
      "source": [
        "\n",
        "# sorted() 함수와 함께 사용:\n",
        "students = [('Alice',90) , ('Bob',85) , ('Charlie',88)]\n",
        "\n",
        "sorted_students = sorted(students , key = lambda x : x[1] , reverse = True)\n",
        "print(sorted_students)"
      ],
      "metadata": {
        "colab": {
          "base_uri": "https://localhost:8080/"
        },
        "id": "wXbsb4_ynR-Y",
        "outputId": "923747d9-44ca-4776-d0fe-21be4bea5d6e"
      },
      "execution_count": null,
      "outputs": [
        {
          "output_type": "stream",
          "name": "stdout",
          "text": [
            "[('Alice', 90), ('Charlie', 88), ('Bob', 85)]\n"
          ]
        }
      ]
    },
    {
      "cell_type": "code",
      "source": [
        "print(list(range(5)))\n",
        "print(list(range(1,6)))\n",
        "print(list(range(1,10,2)))\n",
        "print(list(range(0,-10,-1)))"
      ],
      "metadata": {
        "colab": {
          "base_uri": "https://localhost:8080/"
        },
        "id": "MHixbprftpqB",
        "outputId": "cbc43719-0838-4b1e-f85a-a8aa1785d4c6"
      },
      "execution_count": null,
      "outputs": [
        {
          "output_type": "stream",
          "name": "stdout",
          "text": [
            "[0, 1, 2, 3, 4]\n",
            "[1, 2, 3, 4, 5]\n",
            "[1, 3, 5, 7, 9]\n",
            "[0, -1, -2, -3, -4, -5, -6, -7, -8, -9]\n"
          ]
        }
      ]
    },
    {
      "cell_type": "code",
      "source": [
        "# Q . 실행 가능한 숫자를 문자열('5+5')입력으로 받아 문자열을 숫자 연산으로 실행한 결과값을 출력하세요\n",
        "\n",
        "print(eval(input('연산을 입력하세요.: ')))"
      ],
      "metadata": {
        "colab": {
          "base_uri": "https://localhost:8080/"
        },
        "id": "i2juy5dcuYUg",
        "outputId": "52062efd-9cd2-4c16-9928-5fb80620c09b"
      },
      "execution_count": null,
      "outputs": [
        {
          "output_type": "stream",
          "name": "stdout",
          "text": [
            "연산을 입력하세요.: 5+5\n",
            "10\n"
          ]
        }
      ]
    },
    {
      "cell_type": "code",
      "source": [
        "for idx, element in enumerate(['ele1' ,'ele2', 'ele3']):\n",
        "    print(idx+1,element)"
      ],
      "metadata": {
        "colab": {
          "base_uri": "https://localhost:8080/"
        },
        "id": "G3XmyQPsxCfQ",
        "outputId": "c529edc0-0456-4280-aedf-2aeb56df4f9d"
      },
      "execution_count": null,
      "outputs": [
        {
          "output_type": "stream",
          "name": "stdout",
          "text": [
            "1 ele1\n",
            "2 ele2\n",
            "3 ele3\n"
          ]
        }
      ]
    },
    {
      "cell_type": "code",
      "source": [
        "expression = input(\"계산할 수식을 입력하세요: \")\n",
        "result = eval(expression)\n",
        "print(f\"계산 결과: {result}\")\n"
      ],
      "metadata": {
        "colab": {
          "base_uri": "https://localhost:8080/"
        },
        "id": "9EalAb52u__N",
        "outputId": "2e54baaf-200e-4b07-ac2d-b51832faa425"
      },
      "execution_count": null,
      "outputs": [
        {
          "output_type": "stream",
          "name": "stdout",
          "text": [
            "계산할 수식을 입력하세요: 3 * 3\n",
            "계산 결과: 9\n"
          ]
        }
      ]
    },
    {
      "cell_type": "code",
      "source": [
        "data = [1,2,3,4,5]\n",
        "operation = input(\"실행할 리스트 연산을 입력하세요 (예 : data.append(6), 'data.pop()):  \")\n",
        "eval(operation)\n",
        "print(f'수정된 데이터: {data}')"
      ],
      "metadata": {
        "colab": {
          "base_uri": "https://localhost:8080/"
        },
        "id": "8SYm7RVVvVOp",
        "outputId": "68f7b5c8-222f-4d9f-f5c8-79ff4fbc4051"
      },
      "execution_count": null,
      "outputs": [
        {
          "output_type": "stream",
          "name": "stdout",
          "text": [
            "실행할 리스트 연산을 입력하세요 (예 : data.append(6), 'data.pop()):  data.pop(3)\n",
            "수정된 데이터: [1, 2, 3, 5]\n"
          ]
        }
      ]
    },
    {
      "cell_type": "code",
      "source": [
        "# Q. enumerate 와 f-string을 사용해서 특정 리스트에서 원하는 형태로 출력을 하세요. (인덱스와 내용을 믹스하여)\n",
        "#과일의 종류\n",
        "#0. 사과\n",
        "#1. 키위\n",
        "#2. 딸기\n",
        "#3. 참외\n",
        "#4. 수박\n",
        "\n",
        "list02 = ['사과', '키위' , '딸기' , '참외' , '수박']\n",
        "#print(\"과일의 종류\")\n",
        "\n",
        "for idx , element in enumerate(list02):\n",
        "    print(idx , element)\n",
        "\n",
        "\n"
      ],
      "metadata": {
        "colab": {
          "base_uri": "https://localhost:8080/"
        },
        "id": "iQ6v0C0-xgbT",
        "outputId": "fe6e6f9f-7f2f-4e93-b504-ab8bb72326ae"
      },
      "execution_count": null,
      "outputs": [
        {
          "output_type": "stream",
          "name": "stdout",
          "text": [
            "0 사과\n",
            "1 키위\n",
            "2 딸기\n",
            "3 참외\n",
            "4 수박\n"
          ]
        }
      ]
    },
    {
      "cell_type": "markdown",
      "source": [
        "Task1_0507. 튜플 형태인 strings를 다양한 문자가 포함된 순서로 정렬하세요\n",
        "- strings = ('a','ca', 'bar', 'aaaa', 'ababa')"
      ],
      "metadata": {
        "id": "JLqYYd6oqyzs"
      }
    },
    {
      "cell_type": "code",
      "source": [
        "strings = ('a','ca', 'bar', 'aaaa', 'ababa')\n",
        "\n",
        "sorted_strings = sorted(strings , key = lambda x : len(set(x)) , reverse = True)\n",
        "print(sorted_strings)"
      ],
      "metadata": {
        "colab": {
          "base_uri": "https://localhost:8080/"
        },
        "id": "qvxWjjTG2u30",
        "outputId": "5a8cbc05-c046-4de7-9a6b-34ebfa737580"
      },
      "execution_count": null,
      "outputs": [
        {
          "output_type": "stream",
          "name": "stdout",
          "text": [
            "['bar', 'ca', 'ababa', 'a', 'aaaa']\n"
          ]
        }
      ]
    },
    {
      "cell_type": "code",
      "source": [
        "# 문제 해결 2\n",
        "\n",
        "strings = ('a','ca', 'bar', 'aaaa', 'ababa')\n",
        "\n",
        "strings = list(strings)\n",
        "strings.sort(key = lambda x : len(set(x)) , reverse = True)\n",
        "print(list(strings))"
      ],
      "metadata": {
        "colab": {
          "base_uri": "https://localhost:8080/"
        },
        "id": "w441kBUMlu-A",
        "outputId": "41c46e87-f037-4410-c229-aa91f77872b9"
      },
      "execution_count": null,
      "outputs": [
        {
          "output_type": "stream",
          "name": "stdout",
          "text": [
            "['bar', 'ca', 'ababa', 'a', 'aaaa']\n"
          ]
        }
      ]
    },
    {
      "cell_type": "markdown",
      "source": [
        "task2_0507. eval 함수를 활용하여 a,b 변수와 연산자를 입력하면 사칙연산을 수행하는 코드를 작성하세요"
      ],
      "metadata": {
        "id": "hFAZPrw9wZot"
      }
    },
    {
      "cell_type": "code",
      "source": [
        "a = 3\n",
        "b = 5\n",
        "\n",
        "print(eval(input(\"사칙연산을 입력하세요\")))"
      ],
      "metadata": {
        "colab": {
          "base_uri": "https://localhost:8080/"
        },
        "id": "FAkP5xTiwqf7",
        "outputId": "b017b54c-a06d-4a94-913b-ad2c0385283b"
      },
      "execution_count": null,
      "outputs": [
        {
          "output_type": "stream",
          "name": "stdout",
          "text": [
            "사칙연산을 입력하세요a + b\n",
            "8\n"
          ]
        }
      ]
    },
    {
      "cell_type": "code",
      "source": [
        "# eval 을 사용하는 경우\n",
        "\n",
        "num = input()\n",
        "print(type(num))\n",
        "result = eval(num)\n",
        "print(result)\n"
      ],
      "metadata": {
        "colab": {
          "base_uri": "https://localhost:8080/"
        },
        "id": "G1xpouzYnS5P",
        "outputId": "552371a6-3e06-4e7b-bc0b-45799b34574d"
      },
      "execution_count": null,
      "outputs": [
        {
          "output_type": "stream",
          "name": "stdout",
          "text": [
            "5*5\n",
            "<class 'str'>\n",
            "25\n"
          ]
        }
      ]
    },
    {
      "cell_type": "code",
      "source": [
        "# eval 을 사용하지 않는 경우\n",
        "\n",
        "num = input(\"연산 : \")\n",
        "maths = ['+' , '-' , '/' , '*']\n",
        "math = {'+': lambda a,b : a+b , '-': lambda a,b : a-b , '/': lambda a,b : a/b , '*': lambda a,b : a*b}\n",
        "\n",
        "num_list = list(num)\n",
        "for i in num_list:\n",
        "    if i in maths:\n",
        "        num = num.split(i)\n",
        "        print(math[i](int(num[0]), int(num[1])))"
      ],
      "metadata": {
        "colab": {
          "base_uri": "https://localhost:8080/"
        },
        "id": "K8RIhm-cnsai",
        "outputId": "f9b4d9d3-27dc-4094-eb49-9a92bc63bc90"
      },
      "execution_count": null,
      "outputs": [
        {
          "output_type": "stream",
          "name": "stdout",
          "text": [
            "연산 : 4*4\n",
            "16\n"
          ]
        }
      ]
    },
    {
      "cell_type": "markdown",
      "source": [
        "Task3_0507. list1에 대해서 아래와 같이 출력하는 코드를 작성하세요.\n",
        "\n",
        "인사평가 1번째 해당자는 김부장입니다. 회의실A로 오시기 바랍니다.\\\n",
        "인사평가 2번째 해당자는 이차장입니다. 회의실A로 오시기 바랍니다.\\\n",
        "인사평가 3번째 해당자는 김과장입니다. 회의실A로 오시기 바랍니다.\\\n",
        "인사평가 4번째 해당자는 이대리입니다. 회의실A로 오시기 바랍니다.\\\n",
        "인사평가 5번째 해당자는 오사원입니다. 회의실A로 오시기 바랍니다.\\\n",
        "인사평가 6번째 해당자는 김인턴입니다. 회의실A로 오시기 바랍니다."
      ],
      "metadata": {
        "id": "kn6KNE-_zmKi"
      }
    },
    {
      "cell_type": "code",
      "source": [
        "list1 = ['김부장','이차장', '김과장','이대리', '오사원', '김인턴']\n",
        "\n",
        "for i , j in enumerate(list1):\n",
        "    print(f'인사평가{i+1}번째 해당자는 {j}입니다.회의실A로 오시기 바랍니다.')"
      ],
      "metadata": {
        "colab": {
          "base_uri": "https://localhost:8080/"
        },
        "id": "2HOb5NsGzm4n",
        "outputId": "cbd1bb99-8bc4-4b38-89ae-705649960695"
      },
      "execution_count": null,
      "outputs": [
        {
          "output_type": "stream",
          "name": "stdout",
          "text": [
            "인사평가1번째 해당자는 김부장입니다.회의실A로 오시기 바랍니다.\n",
            "인사평가2번째 해당자는 이차장입니다.회의실A로 오시기 바랍니다.\n",
            "인사평가3번째 해당자는 김과장입니다.회의실A로 오시기 바랍니다.\n",
            "인사평가4번째 해당자는 이대리입니다.회의실A로 오시기 바랍니다.\n",
            "인사평가5번째 해당자는 오사원입니다.회의실A로 오시기 바랍니다.\n",
            "인사평가6번째 해당자는 김인턴입니다.회의실A로 오시기 바랍니다.\n"
          ]
        }
      ]
    },
    {
      "cell_type": "code",
      "source": [
        "list1 = ['김부장','이차장', '김과장','이대리', '오사원', '김인턴']\n",
        "\n",
        "for index , name in enumerate(list1):\n",
        "    print(f\"인사평가 {index+1}번째 해당자는 {name}입니다. 회의실A로 오시기 바랍니다.\")"
      ],
      "metadata": {
        "colab": {
          "base_uri": "https://localhost:8080/"
        },
        "id": "P_jn0QqTqY2G",
        "outputId": "4cfc0c87-561f-4fd2-d968-f65dc571f706"
      },
      "execution_count": null,
      "outputs": [
        {
          "output_type": "stream",
          "name": "stdout",
          "text": [
            "인사평가 1번째 해당자는 김부장입니다. 회의실A로 오시기 바랍니다.\n",
            "인사평가 2번째 해당자는 이차장입니다. 회의실A로 오시기 바랍니다.\n",
            "인사평가 3번째 해당자는 김과장입니다. 회의실A로 오시기 바랍니다.\n",
            "인사평가 4번째 해당자는 이대리입니다. 회의실A로 오시기 바랍니다.\n",
            "인사평가 5번째 해당자는 오사원입니다. 회의실A로 오시기 바랍니다.\n",
            "인사평가 6번째 해당자는 김인턴입니다. 회의실A로 오시기 바랍니다.\n"
          ]
        }
      ]
    },
    {
      "cell_type": "markdown",
      "source": [
        "Task4_0507. 주어진 문자열 리스트의 요소들을 대문자로 변환하세요.\n",
        "words = [\"hello\", \"world\", \"python\", \"map\"]"
      ],
      "metadata": {
        "id": "34o2ePi4z7kv"
      }
    },
    {
      "cell_type": "code",
      "source": [
        "# 요소를 이용\n",
        "\n",
        "words = [\"hello\", \"world\", \"python\", \"map\"]\n",
        "upper_words = []\n",
        "\n",
        "for i in words:\n",
        "    upper_words.append(i .upper())\n",
        "print(upper_words)"
      ],
      "metadata": {
        "colab": {
          "base_uri": "https://localhost:8080/"
        },
        "id": "qy9JJNwC68X6",
        "outputId": "978f4ee6-d020-4e7f-f317-a1fb09221f5a"
      },
      "execution_count": null,
      "outputs": [
        {
          "output_type": "stream",
          "name": "stdout",
          "text": [
            "['HELLO', 'WORLD', 'PYTHON', 'MAP']\n"
          ]
        }
      ]
    },
    {
      "cell_type": "code",
      "source": [
        "# 요소를 이용\n",
        "words = [\"hello\", \"world\", \"python\", \"map\"]\n",
        "result = []\n",
        "\n",
        "for word in words:\n",
        "    result.append(word.upper())\n",
        "print(result)\n"
      ],
      "metadata": {
        "colab": {
          "base_uri": "https://localhost:8080/"
        },
        "id": "Ofu2LHEfuMrP",
        "outputId": "bcd3b371-8d01-4584-fa53-80fd3104e98d"
      },
      "execution_count": null,
      "outputs": [
        {
          "output_type": "stream",
          "name": "stdout",
          "text": [
            "['HELLO', 'WORLD', 'PYTHON', 'MAP']\n"
          ]
        }
      ]
    },
    {
      "cell_type": "code",
      "source": [
        "# 인덱스를 이용\n",
        "words = [\"hello\", \"world\", \"python\", \"map\"]\n",
        "\n",
        "for i in range(len(words)):\n",
        "    words[i] = words[i].upper()\n",
        "print(words)"
      ],
      "metadata": {
        "colab": {
          "base_uri": "https://localhost:8080/"
        },
        "id": "OQu18Z9QrFkD",
        "outputId": "f0718a44-f692-4bfb-e178-43988c6abc09"
      },
      "execution_count": null,
      "outputs": [
        {
          "output_type": "stream",
          "name": "stdout",
          "text": [
            "['HELLO', 'WORLD', 'PYTHON', 'MAP']\n"
          ]
        }
      ]
    },
    {
      "cell_type": "code",
      "source": [
        "words = [\"hello\", \"world\", \"python\", \"map\"]\n",
        "\n",
        "print([i.upper() for i in words])\n",
        "print(list(i.upper() for i in words))"
      ],
      "metadata": {
        "colab": {
          "base_uri": "https://localhost:8080/"
        },
        "id": "fBzjKvqwqxYM",
        "outputId": "de18b973-3ace-4c8b-a80b-8f19115178aa"
      },
      "execution_count": null,
      "outputs": [
        {
          "output_type": "stream",
          "name": "stdout",
          "text": [
            "['HELLO', 'WORLD', 'PYTHON', 'MAP']\n",
            "['HELLO', 'WORLD', 'PYTHON', 'MAP']\n"
          ]
        }
      ]
    },
    {
      "cell_type": "code",
      "source": [
        "# str.upper는 문자열의 모든 문자를 대문자로 변환하는 메서드\n",
        "\n",
        "words = [\"hello\", \"world\", \"python\", \"map\"]\n",
        "upper_words = list(map(str.upper , words))\n",
        "print(upper_words)"
      ],
      "metadata": {
        "colab": {
          "base_uri": "https://localhost:8080/"
        },
        "id": "l6GjI71Qvo85",
        "outputId": "664e827a-77c9-45ab-d124-5708a967b352"
      },
      "execution_count": null,
      "outputs": [
        {
          "output_type": "stream",
          "name": "stdout",
          "text": [
            "['HELLO', 'WORLD', 'PYTHON', 'MAP']\n"
          ]
        }
      ]
    },
    {
      "cell_type": "markdown",
      "source": [
        "Task5_0507. 주어진 리스트에서 'p'로 시작하는 단어만 필터링하세요.\n",
        "\n",
        "words = [\"python\", \"is\", \"powerful\", \"programming\", \"language\", \"pandas\"]"
      ],
      "metadata": {
        "id": "NzzD8ynC0MY9"
      }
    },
    {
      "cell_type": "code",
      "source": [
        "words = [\"python\", \"is\", \"powerful\", \"programming\", \"language\", \"pandas\"]\n",
        "filtered_words = (filter(lambda x : x[0] == 'p' , words ))\n",
        "print([i for i in filtered_words])\n"
      ],
      "metadata": {
        "colab": {
          "base_uri": "https://localhost:8080/"
        },
        "id": "PTbyjXmm_63W",
        "outputId": "c5ed72e7-2dbe-455f-d387-9b8c1cc5d7bf"
      },
      "execution_count": null,
      "outputs": [
        {
          "output_type": "stream",
          "name": "stdout",
          "text": [
            "['python', 'powerful', 'programming', 'pandas']\n"
          ]
        }
      ]
    },
    {
      "cell_type": "code",
      "source": [
        "words = [\"python\", \"is\", \"powerful\", \"programming\", \"language\", \"pandas\"]\n",
        "\n",
        "print([w for w in words if w.startswith('p')])"
      ],
      "metadata": {
        "colab": {
          "base_uri": "https://localhost:8080/"
        },
        "id": "uetgDHdZM0kv",
        "outputId": "36d3a6b9-f11e-4768-bb95-34792ec2a2a1"
      },
      "execution_count": null,
      "outputs": [
        {
          "output_type": "stream",
          "name": "stdout",
          "text": [
            "['python', 'powerful', 'programming', 'pandas']\n"
          ]
        }
      ]
    },
    {
      "cell_type": "code",
      "source": [
        "words = [\"python\", \"is\", \"powerful\", \"programming\", \"language\", \"pandas\"]\n",
        "\n",
        "p_words = list(filter(lambda x: x.startswith('p') , words))\n",
        "print(p_words)"
      ],
      "metadata": {
        "colab": {
          "base_uri": "https://localhost:8080/"
        },
        "id": "-D2eRwGixnY3",
        "outputId": "093f1f07-ad85-4738-cce4-4b175164154e"
      },
      "execution_count": null,
      "outputs": [
        {
          "output_type": "stream",
          "name": "stdout",
          "text": [
            "['python', 'powerful', 'programming', 'pandas']\n"
          ]
        }
      ]
    },
    {
      "cell_type": "markdown",
      "source": [
        "Task6_0507. 내장함수를 이용해서 list = [0,1,2,3,4,5,6]에서 2를 삭제 후 출력하세요.(2가지 방법)"
      ],
      "metadata": {
        "id": "i0dHgkr70hoQ"
      }
    },
    {
      "cell_type": "code",
      "source": [
        "list = [0,1,3,4,5,6]\n",
        "\n",
        "list.pop(2) # 인덱스\n",
        "print(list)"
      ],
      "metadata": {
        "colab": {
          "base_uri": "https://localhost:8080/"
        },
        "id": "TOjYZrro_8zD",
        "outputId": "83e7eb50-6446-46c6-d4f8-64727b6a07f7"
      },
      "execution_count": null,
      "outputs": [
        {
          "output_type": "stream",
          "name": "stdout",
          "text": [
            "[0, 1, 4, 5, 6]\n"
          ]
        }
      ]
    },
    {
      "cell_type": "code",
      "source": [
        "list = [0,1,2,3,4,5,6]\n",
        "\n",
        "list.remove(2) # 값\n",
        "print(list)"
      ],
      "metadata": {
        "colab": {
          "base_uri": "https://localhost:8080/"
        },
        "id": "ate1q3qbynid",
        "outputId": "450c1d63-3646-4d80-b255-04b268df46a3"
      },
      "execution_count": null,
      "outputs": [
        {
          "output_type": "stream",
          "name": "stdout",
          "text": [
            "[0, 1, 3, 4, 5, 6]\n"
          ]
        }
      ]
    },
    {
      "cell_type": "code",
      "source": [
        "list = [0,1,2,3,4,5,6]\n",
        "\n",
        "del list[2]\n",
        "print(list)"
      ],
      "metadata": {
        "colab": {
          "base_uri": "https://localhost:8080/"
        },
        "id": "Qm9opJWVAo4B",
        "outputId": "ac1d5304-dbc1-4199-a9d5-769ef25f1fee"
      },
      "execution_count": null,
      "outputs": [
        {
          "output_type": "stream",
          "name": "stdout",
          "text": [
            "[0, 1, 3, 4, 5, 6]\n"
          ]
        }
      ]
    },
    {
      "cell_type": "markdown",
      "source": [
        "Task7_0507. 내장함수를 이용하여 동일한 개수로 이루어진 자료형을 화살표 좌측에서 우측으로 변환하세요.\n",
        "\n",
        "[1,2,3],[4,5,6] -> [(1,4),(2,5),(3,6)]\\\n",
        "[1,2,3],[4,5,6] [7,8,9] -> [(1,4,7),(2,5,8),(3,6,9)]\\\n",
        "('abc','def') -> [('a','d'),('b','e'),('c','f')]"
      ],
      "metadata": {
        "id": "KC90Lvim0y05"
      }
    },
    {
      "cell_type": "code",
      "source": [
        "list1 = [1,2,3]\n",
        "list2 = [4,5,6]\n",
        "list3 = [7,8,9]\n",
        "tuple4 = ('abc','def')\n",
        "\n",
        "print([i for i in zip(list1, list2)])\n",
        "print([i for i in zip(list1, list2, list3)])\n",
        "print([i for i in zip(tuple4[0],tuple4[1])])\n",
        "\n"
      ],
      "metadata": {
        "colab": {
          "base_uri": "https://localhost:8080/"
        },
        "id": "4U6AIOMXDFQ4",
        "outputId": "04f0d997-33ab-4b14-ca31-36e35ac88f67"
      },
      "execution_count": null,
      "outputs": [
        {
          "output_type": "stream",
          "name": "stdout",
          "text": [
            "[(1, 4), (2, 5), (3, 6)]\n",
            "[(1, 4, 7), (2, 5, 8), (3, 6, 9)]\n",
            "[('a', 'd'), ('b', 'e'), ('c', 'f')]\n"
          ]
        }
      ]
    },
    {
      "cell_type": "markdown",
      "source": [
        "Task8_0507. url에서 호스트 도메인(news.naver.com)을 추출하여 출력하세요.\n",
        "\n",
        "url = 'http://news.naver.com/main/read.nhn?mode=LSD&mid=shm&sid1=105&oid=028&aid=0002334601'"
      ],
      "metadata": {
        "id": "loRIgB3-2ckr"
      }
    },
    {
      "cell_type": "code",
      "source": [
        "url = 'http://news.naver.com/main/read.nhn?mode=LSD&mid=shm&sid1=105&oid=028&aid=0002334601'\n",
        "\n",
        "print(url.split('/')[2])"
      ],
      "metadata": {
        "id": "sJzbyejf2edQ",
        "colab": {
          "base_uri": "https://localhost:8080/"
        },
        "outputId": "a8e2f839-9c80-4bdf-a4bb-06fbf2cd1f12"
      },
      "execution_count": null,
      "outputs": [
        {
          "output_type": "stream",
          "name": "stdout",
          "text": [
            "news.naver.com\n"
          ]
        }
      ]
    },
    {
      "cell_type": "code",
      "source": [
        "print(range(10) , type(range(10)))\n",
        "print([i for i in range(10)])\n",
        "print(type([i for i in range(10)]))"
      ],
      "metadata": {
        "colab": {
          "base_uri": "https://localhost:8080/"
        },
        "id": "V7WNXjJ1103p",
        "outputId": "149324db-de45-4180-c286-d4a1547034c0"
      },
      "execution_count": null,
      "outputs": [
        {
          "output_type": "stream",
          "name": "stdout",
          "text": [
            "range(0, 10) <class 'range'>\n",
            "[0, 1, 2, 3, 4, 5, 6, 7, 8, 9]\n",
            "<class 'list'>\n"
          ]
        }
      ]
    },
    {
      "cell_type": "code",
      "source": [
        "print(list(range(10)))\n",
        "print(type(list(range(10))))\n"
      ],
      "metadata": {
        "colab": {
          "base_uri": "https://localhost:8080/"
        },
        "id": "2Ee_fKE22Tpc",
        "outputId": "57994923-40f8-4b8f-ebdf-57a877a93634"
      },
      "execution_count": null,
      "outputs": [
        {
          "output_type": "stream",
          "name": "stdout",
          "text": [
            "[0, 1, 2, 3, 4, 5, 6, 7, 8, 9]\n",
            "<class 'list'>\n"
          ]
        }
      ]
    },
    {
      "cell_type": "code",
      "source": [
        "# 몫과 나머지\n",
        "\n",
        "print(divmod(7,3))"
      ],
      "metadata": {
        "colab": {
          "base_uri": "https://localhost:8080/"
        },
        "id": "YcdP0pBC20if",
        "outputId": "9f67a156-6694-4b20-fc67-2f714ecfb25b"
      },
      "execution_count": null,
      "outputs": [
        {
          "output_type": "stream",
          "name": "stdout",
          "text": [
            "(2, 1)\n"
          ]
        }
      ]
    },
    {
      "cell_type": "code",
      "source": [
        "# Q. 150분을 시간과 분으로 변환해서 출력하세요\n",
        "\n",
        "def convert_time(minutes):\n",
        "    hours , minutes = divmod(minutes , 60)\n",
        "    return hours,minutes\n",
        "\n",
        "minutes = 150\n",
        "hours, minutes = convert_time(minutes)\n",
        "print(f\"{hours}시간 {minutes}분\")"
      ],
      "metadata": {
        "colab": {
          "base_uri": "https://localhost:8080/"
        },
        "id": "MQserM7R3TT8",
        "outputId": "f32a044d-664b-4bca-d2a2-cde23f31db7e"
      },
      "execution_count": null,
      "outputs": [
        {
          "output_type": "stream",
          "name": "stdout",
          "text": [
            "2시간 30분\n"
          ]
        }
      ]
    },
    {
      "cell_type": "code",
      "source": [
        "# Q. 내장함수를 이용해서 list = [0,1,2,3,4,5,6,]에서 모든 원소를 삭제 후 출력하세요\n",
        "\n",
        "list = [0,1,2,3,4,5,6,]\n",
        "\n",
        "\n",
        "\n"
      ],
      "metadata": {
        "id": "v_n_YTKf3FAC"
      },
      "execution_count": null,
      "outputs": []
    },
    {
      "cell_type": "code",
      "source": [
        "# Q. url에서 쿼리문을 추출하여 출력하세요\n",
        "# url에서 '?'뒤에 표시 되는 문자열을 쿼리 문자열이라고 하며 변수 = 값 사이 &로 구분되어 나열된다\n",
        "url = url = 'http://news.naver.com/main/read.nhn?mode=LSD&mid=shm&sid1=105&oid=028&aid=0002334601'\n",
        "\n",
        "tmp1 = url.split('/')\n",
        "tmp2 = tmp1[-1].split('?')\n",
        "result = tmp2[-1].split('&')\n",
        "\n",
        "print(result)\n",
        "print(\"\")\n",
        "\n",
        "for i in result:\n",
        "    print(i)"
      ],
      "metadata": {
        "colab": {
          "base_uri": "https://localhost:8080/"
        },
        "id": "rpxy_-nR5Ypu",
        "outputId": "8c7717f1-c9cd-4f07-f8d6-23f6e4db914a"
      },
      "execution_count": null,
      "outputs": [
        {
          "output_type": "stream",
          "name": "stdout",
          "text": [
            "['mode=LSD', 'mid=shm', 'sid1=105', 'oid=028', 'aid=0002334601']\n",
            "\n",
            "mode=LSD\n",
            "mid=shm\n",
            "sid1=105\n",
            "oid=028\n",
            "aid=0002334601\n"
          ]
        }
      ]
    },
    {
      "cell_type": "code",
      "source": [
        "# Q . List 안의 단어가 있으면 해당 제목을 출력\n",
        "\n",
        "x = input(\"제목을 입력해 주세요.: \")\n",
        "tlist = ['Hello word!' , 'Nice Day' , 'HappyBin' , 'enDing_Story']\n",
        "\n",
        "n_tlist = []\n",
        "x = x.lower()\n",
        "\n",
        "for i in range(len(tlist)):\n",
        "    n_tlist.append(tlist[i].lower())\n",
        "    if x in n_tlist[i]:\n",
        "        print(tlist[i])"
      ],
      "metadata": {
        "colab": {
          "base_uri": "https://localhost:8080/"
        },
        "id": "B5AmgOxw-IAe",
        "outputId": "9bcccfb9-050e-4158-864d-b498e1e3ed31"
      },
      "execution_count": null,
      "outputs": [
        {
          "output_type": "stream",
          "name": "stdout",
          "text": [
            "제목을 입력해 주세요.: n\n",
            "Nice Day\n",
            "HappyBin\n",
            "enDing_Story\n"
          ]
        }
      ]
    },
    {
      "cell_type": "code",
      "source": [
        "# Q. 영어 이름을 적으면 앞에 글자를 대문자로 바꾸어 주는 프로그램\n",
        "# (단 중간에 한칸씩 띄어주어야 함 ex) hwang kang min -> Hwang Kang Min\n",
        "\n",
        "wiyname = input('이름을 영어로 입력하세요 : ')\n",
        "txt = wiyname.title()\n",
        "print(f\"당신의 이름을 바꾸면 {txt}입니다.\")\n"
      ],
      "metadata": {
        "colab": {
          "base_uri": "https://localhost:8080/"
        },
        "id": "iKvjj4kGAhaH",
        "outputId": "78ebca03-254c-4af4-afdd-86c86c9fba6e"
      },
      "execution_count": null,
      "outputs": [
        {
          "output_type": "stream",
          "name": "stdout",
          "text": [
            "이름을 영어로 입력하세요 : kang min hwang\n",
            "당신의 이름을 바꾸면 Kang Min Hwang입니다.\n"
          ]
        }
      ]
    },
    {
      "cell_type": "markdown",
      "source": [
        "task1_0508. tilte()함수를 사용하지 않고 동일한 결과를 출력하세요"
      ],
      "metadata": {
        "id": "mazj_Nm3C-Fo"
      }
    },
    {
      "cell_type": "code",
      "source": [
        "name = input('이름을 영어로 입력하세요 : ')\n",
        "name = name.strip().split()\n",
        "result = []\n",
        "\n",
        "for i in name:\n",
        "    result.append(i.capitalize())\n",
        "print(' '.join(result))"
      ],
      "metadata": {
        "colab": {
          "base_uri": "https://localhost:8080/"
        },
        "id": "k2P7B-LsAZfU",
        "outputId": "062843d8-c9b3-4f6d-bfec-028d4f00bb9e"
      },
      "execution_count": null,
      "outputs": [
        {
          "output_type": "stream",
          "name": "stdout",
          "text": [
            "이름을 영어로 입력하세요 : kang min hwang\n",
            "Kang Min Hwang\n"
          ]
        }
      ]
    },
    {
      "cell_type": "code",
      "source": [],
      "metadata": {
        "id": "jmQqke2DtkjW"
      },
      "execution_count": null,
      "outputs": []
    },
    {
      "cell_type": "code",
      "source": [
        "# 문자열에서 좌우 공백 제거\n",
        "\n",
        "txt = '   양쪽에 공백이 있는 문자열입니다.   '\n",
        "ret1 = txt.lstrip()\n",
        "ret2 = txt.rstrip()\n",
        "ret3 = txt.strip()\n",
        "\n",
        "print('<' + ret1 + '>')\n",
        "print('<' + ret2 + '>')\n",
        "print('<' + ret3 + '>')"
      ],
      "metadata": {
        "colab": {
          "base_uri": "https://localhost:8080/"
        },
        "id": "grJkHxhJDWd7",
        "outputId": "a295df22-c109-4dcb-d14f-cc6db57bb452"
      },
      "execution_count": null,
      "outputs": [
        {
          "output_type": "stream",
          "name": "stdout",
          "text": [
            "<양쪽에 공백이 있는 문자열입니다.   >\n",
            "<   양쪽에 공백이 있는 문자열입니다.>\n",
            "<양쪽에 공백이 있는 문자열입니다.>\n"
          ]
        }
      ]
    },
    {
      "cell_type": "code",
      "source": [
        "# join : 특정 문자로 결합\n",
        "\n",
        "loglist = ['2016/0826 10:12:11' , '200' , 'ok' , '이 또한 지나가리라']\n",
        "bond = ':'\n",
        "log = bond.join(loglist)\n",
        "print(log)"
      ],
      "metadata": {
        "colab": {
          "base_uri": "https://localhost:8080/"
        },
        "id": "q225kb0YEOqX",
        "outputId": "c6eb277b-ae46-4068-80cc-6e5cd75dbf08"
      },
      "execution_count": null,
      "outputs": [
        {
          "output_type": "stream",
          "name": "stdout",
          "text": [
            "2016/0826 10:12:11:200:ok:이 또한 지나가리라\n"
          ]
        }
      ]
    },
    {
      "cell_type": "markdown",
      "source": [
        "Task2_0508. join 함수를 이용해서 ['a','b','c']을 아래와 같이 출력하세요.\n",
        "\n",
        "a::b::c"
      ],
      "metadata": {
        "id": "5L2F23FpJlVh"
      }
    },
    {
      "cell_type": "code",
      "source": [
        "list = ['a','b','c']\n",
        "\n",
        "result = '::'.join(list)\n",
        "\n",
        "print(result)\n",
        "\n",
        "\n",
        "\n"
      ],
      "metadata": {
        "colab": {
          "base_uri": "https://localhost:8080/"
        },
        "id": "Ff9XvfczkyeR",
        "outputId": "14188228-683a-44e4-e029-75301ae2b09f"
      },
      "execution_count": null,
      "outputs": [
        {
          "output_type": "stream",
          "name": "stdout",
          "text": [
            "a::b::c\n"
          ]
        }
      ]
    },
    {
      "cell_type": "code",
      "source": [
        "# replace : 특정 문자(열)을 다른 문자(열)로 바꾸기\n",
        "\n",
        "txt = 'My password is 1234'\n",
        "ret1 = txt.replace('1','0')\n",
        "ret2 = txt.replace('1', 'python')\n",
        "\n",
        "print(ret1)\n",
        "print(ret2)\n",
        "\n",
        "txt = '매일 많은 일들이 일어납니다.'\n",
        "\n",
        "ret3 = txt.replace(\"많은 일들이\", \"아침 일찍\")\n",
        "print(ret3)"
      ],
      "metadata": {
        "colab": {
          "base_uri": "https://localhost:8080/"
        },
        "id": "RoVRYSgfFKg7",
        "outputId": "fb5895ca-12a9-4e8e-db1f-247461d56953"
      },
      "execution_count": null,
      "outputs": [
        {
          "output_type": "stream",
          "name": "stdout",
          "text": [
            "My password is 0234\n",
            "My password is python234\n",
            "매일 아침 일찍 일어납니다.\n"
          ]
        }
      ]
    },
    {
      "cell_type": "code",
      "source": [
        "# Q . 입력한 문장에서 'bad'를 'good'으로 교체해서 출력하세요 (입력 예시: This is a bad example)\n",
        "\n",
        "sentence = input(\"문장을 입력하세요 : \")\n",
        "print(sentence.replace('bad' , 'good'))"
      ],
      "metadata": {
        "colab": {
          "base_uri": "https://localhost:8080/"
        },
        "id": "dfsu4CVKGe0j",
        "outputId": "bb3bd5df-6438-4549-dbc4-ee4f1fe95b4b"
      },
      "execution_count": null,
      "outputs": [
        {
          "output_type": "stream",
          "name": "stdout",
          "text": [
            "문장을 입력하세요 : This is a bad example\n",
            "This is a good example\n"
          ]
        }
      ]
    },
    {
      "cell_type": "code",
      "source": [
        "# 코드값에 대응하는 문자 얻기\n",
        "\n",
        "val = int(input('문자 코드값을 입력하세요: '))\n",
        "ch = chr(val)\n",
        "print('코드값: %d  문자: %s' %(val , ch))"
      ],
      "metadata": {
        "colab": {
          "base_uri": "https://localhost:8080/"
        },
        "id": "fC7T_I08Jo4g",
        "outputId": "c59232d9-e151-45d1-a47e-9d2326f3239b"
      },
      "execution_count": null,
      "outputs": [
        {
          "output_type": "stream",
          "name": "stdout",
          "text": [
            "문자 코드값을 입력하세요: 65\n",
            "코드값: 65  문자: A\n"
          ]
        }
      ]
    },
    {
      "cell_type": "code",
      "source": [
        "while True:\n",
        "    val = int(input('문자 코드 값을 입력하세요 (0을 입력하면 종료)'))\n",
        "\n",
        "    if val == 0:\n",
        "        print(\"프로그램을 종료합니다\")\n",
        "        break\n",
        "\n",
        "    val2 = chr(val)\n",
        "    print(f'코드값 : {val} , 문자 : {val2} ')"
      ],
      "metadata": {
        "colab": {
          "base_uri": "https://localhost:8080/"
        },
        "id": "qEvqqNFGKkTC",
        "outputId": "f1e14948-d98c-4936-d466-0f19ac54a450"
      },
      "execution_count": null,
      "outputs": [
        {
          "output_type": "stream",
          "name": "stdout",
          "text": [
            "문자 코드 값을 입력하세요 (0을 입력하면 종료)65\n",
            "코드값 : 65 , 문자 : A \n",
            "문자 코드 값을 입력하세요 (0을 입력하면 종료)65\n",
            "코드값 : 65 , 문자 : A \n",
            "문자 코드 값을 입력하세요 (0을 입력하면 종료)0\n",
            "프로그램을 종료합니다\n"
          ]
        }
      ]
    },
    {
      "cell_type": "code",
      "source": [
        "# 문자열이 문자인지 검사\n",
        "\n",
        "txt1 = 'A'\n",
        "txt2 = '안녕'\n",
        "txt3 = 'Warcraft Three'\n",
        "txt4 = '3po'\n",
        "ret1 = txt1.isalpha()\n",
        "ret2 = txt2.isalpha()\n",
        "ret3 = txt3.isalpha()\n",
        "ret4 = txt4.isalpha()\n",
        "\n",
        "print(ret1)\n",
        "print(ret2)\n",
        "print(ret3)\n",
        "print(ret4)\n",
        "\n"
      ],
      "metadata": {
        "colab": {
          "base_uri": "https://localhost:8080/"
        },
        "id": "ABP6UsVLL01o",
        "outputId": "8fb70697-cc18-47ef-96da-1279dcc76d0e"
      },
      "execution_count": null,
      "outputs": [
        {
          "output_type": "stream",
          "name": "stdout",
          "text": [
            "True\n",
            "True\n",
            "False\n",
            "False\n"
          ]
        }
      ]
    },
    {
      "cell_type": "code",
      "source": [
        "# isdigit() : 문자열이 숫자인지 검사\n",
        "\n",
        "txt1 = '010-1234-5678'\n",
        "txt2 = 'R2D2'\n",
        "txt3 = '1212'\n",
        "\n",
        "ret1 = txt1.isdigit()\n",
        "ret2 = txt2.isdigit()\n",
        "ret3 = txt3.isdigit()\n",
        "\n",
        "print(ret1)\n",
        "print(ret2)\n",
        "print(ret3)\n"
      ],
      "metadata": {
        "colab": {
          "base_uri": "https://localhost:8080/"
        },
        "id": "1I8b0FwGMp6p",
        "outputId": "f6d6f987-dd23-4da9-8b06-97edb5d29580"
      },
      "execution_count": null,
      "outputs": [
        {
          "output_type": "stream",
          "name": "stdout",
          "text": [
            "False\n",
            "False\n",
            "True\n"
          ]
        }
      ]
    },
    {
      "cell_type": "code",
      "source": [
        "# isalnum문자열이 문자 또는 숫자인지 검사 : 문자열이 영어, 한글 혹은 숫자로 되어있으면 참 리턴, 아니면 거짓 리턴\n",
        "\n",
        "txt1 = '안녕하세요?'\n",
        "txt2 = '1.Title-제목을 넣으세요'\n",
        "txt3 = '3피오R2D2'\n",
        "\n",
        "ret1 = txt1.isalnum()\n",
        "ret2 = txt2.isalnum()\n",
        "ret3 = txt3.isalnum()\n",
        "\n",
        "print(ret1 , ret2 , ret3)"
      ],
      "metadata": {
        "colab": {
          "base_uri": "https://localhost:8080/"
        },
        "id": "quwPVLqAOFNZ",
        "outputId": "a23c88a6-d572-4ad8-f67b-611388d3dc15"
      },
      "execution_count": null,
      "outputs": [
        {
          "output_type": "stream",
          "name": "stdout",
          "text": [
            "False False True\n"
          ]
        }
      ]
    },
    {
      "cell_type": "code",
      "source": [
        "txt = 'A lot of Things occur day.'\n",
        "ret1 = txt.upper()\n",
        "ret2 = txt.lower()\n",
        "ret3 = txt.title()\n",
        "ret4 = txt.capitalize() # 문자열의 첫번째 문자를 대문자, 나머지는 소문자로 변환\n",
        "\n",
        "print(ret1)\n",
        "print(ret2)\n",
        "print(ret3)\n",
        "print(ret4)"
      ],
      "metadata": {
        "colab": {
          "base_uri": "https://localhost:8080/"
        },
        "id": "QbcIkcseQr-a",
        "outputId": "8479ca15-2ac5-482d-ba2f-7057c21dc7af"
      },
      "execution_count": null,
      "outputs": [
        {
          "output_type": "stream",
          "name": "stdout",
          "text": [
            "A LOT OF THINGS OCCUR DAY.\n",
            "a lot of things occur day.\n",
            "A Lot Of Things Occur Day.\n",
            "A lot of things occur day.\n"
          ]
        }
      ]
    },
    {
      "cell_type": "code",
      "source": [
        "# Q . numbers 내부에 들어 있는 숫자가 몇번 등장하는지를 출력하는 코드를 작성하세요\n",
        "\n",
        "numbers = [3,6,3,5,8,2,9,7,4,3,6,3,5,8,2,9,7,4]\n",
        "\n",
        "count = {}\n",
        "for i in numbers:\n",
        "    if i in count:\n",
        "        count[i] += 1\n",
        "    else:\n",
        "        count[i] = 1\n",
        "\n",
        "print(count)\n",
        "\n",
        "\n"
      ],
      "metadata": {
        "colab": {
          "base_uri": "https://localhost:8080/"
        },
        "id": "Zu-pSatlRYrT",
        "outputId": "e43a3551-666a-48c1-9af2-6b3bfedf25aa"
      },
      "execution_count": null,
      "outputs": [
        {
          "output_type": "stream",
          "name": "stdout",
          "text": [
            "{3: 4, 6: 2, 5: 2, 8: 2, 2: 2, 9: 2, 7: 2, 4: 2}\n"
          ]
        }
      ]
    },
    {
      "cell_type": "markdown",
      "source": [
        "Task3_0508. 다음을 수행하세요.\n",
        "- 사용자로부터 문자열을 입력받습니다.\n",
        "- 입력받은 문자열이 숫자로만 이루어져 있는지 확인합니다.\n",
        "- 만약 숫자로만 이루어져 있다면, 그 숫자를 정수로 변환하여 100을 더한 결과를 출력합니다.\n",
        "- 숫자가 아닌 문자가 포함되어 있다면, 사용자에게 숫자만 입력하라는 메시지를 출력합니다.\n",
        "- 연산이 수행이 완료될 때까지 반복하고 수행이 완료되면 break 합니다."
      ],
      "metadata": {
        "id": "tV3uLB_HOvXj"
      }
    },
    {
      "cell_type": "code",
      "source": [
        "while 1:\n",
        "    string_number = input(\"문자열을 입력하세요\")\n",
        "    if string_number.isdigit():\n",
        "        result = int(string_number) + 100\n",
        "        print(result)\n",
        "        break\n",
        "    else:\n",
        "        print(\"숫자만 입력해주세요\")"
      ],
      "metadata": {
        "id": "1tpILnxkQhmf",
        "colab": {
          "base_uri": "https://localhost:8080/"
        },
        "outputId": "4d2a5379-5751-4c2d-82ff-841516013fb4"
      },
      "execution_count": null,
      "outputs": [
        {
          "output_type": "stream",
          "name": "stdout",
          "text": [
            "문자열을 입력하세요hello\n",
            "숫자만 입력해주세요\n",
            "문자열을 입력하세요123\n",
            "223\n"
          ]
        }
      ]
    },
    {
      "cell_type": "code",
      "source": [
        "while True:\n",
        "    user_input = input(\"문자열을 입력하세요: \")\n",
        "\n",
        "    # 입력된 문자열이 숫자로만 이루어져 있는지 확인\n",
        "    if user_input.isdigit():\n",
        "        # 숫자로만 이루어져 있으면 정수로 변환하여 100을 더한 결과 출력\n",
        "        result = int(user_input) + 100\n",
        "        print(\"결과:\", result)\n",
        "        break\n",
        "    else:\n",
        "        # 숫자가 아닌 문자가 포함되어 있으면 메시지 출력 후 반복\n",
        "        print(\"숫자만 입력하세요.\")"
      ],
      "metadata": {
        "colab": {
          "base_uri": "https://localhost:8080/"
        },
        "id": "ij1hA85TGwMP",
        "outputId": "7eee2ec0-d10e-44aa-dab0-3361aaf7abd9"
      },
      "execution_count": null,
      "outputs": [
        {
          "output_type": "stream",
          "name": "stdout",
          "text": [
            "문자열을 입력하세요: 100\n",
            "결과: 200\n"
          ]
        }
      ]
    },
    {
      "cell_type": "markdown",
      "source": [
        "Task4_0508. 문자와 숫자로만 구성된 아이디만 유효한 규칙을 만들려고 한다. 아래 사항을 참조하여 프로그램을 작성하세요.\n",
        "- 사용자로부터 문자열을 입력받습니다.\n",
        "- 입력받은 문자열이 알파벳과 숫자로만 이루어져 있는지 확인합니다.\n",
        "- 만약 조건을 만족한다면 \"유효한 아이디입니다\"라고 출력합니다.\n",
        "- 그렇지 않다면, \"아이디는 알파벳과 숫자만 포함할 수 있습니다\"라고 메시지를 출력하고 다시 입력하도록 한다"
      ],
      "metadata": {
        "id": "z9TTq3yVQOMJ"
      }
    },
    {
      "cell_type": "code",
      "source": [
        "while 1:\n",
        "    string_number = input(\"문자열을 입력해 주세요\")\n",
        "    if string_number.isalnum():\n",
        "        print(\"유효한 아이디입니다.\")\n",
        "        break\n",
        "    else:\n",
        "        print(\"아이디는 알파벳과 숫자만 포함할수 있습니다\")"
      ],
      "metadata": {
        "colab": {
          "base_uri": "https://localhost:8080/"
        },
        "id": "qaLkeu8vLIGK",
        "outputId": "6ea24909-b08c-4ae2-c161-15ea0a01d3fd"
      },
      "execution_count": null,
      "outputs": [
        {
          "output_type": "stream",
          "name": "stdout",
          "text": [
            "문자열을 입력해 주세요안녕 !\n",
            "아이디는 알파벳과 숫자만 포함할수 있습니다\n",
            "문자열을 입력해 주세요안녕abc\n",
            "유효한 아이디입니다.\n"
          ]
        }
      ]
    },
    {
      "cell_type": "markdown",
      "source": [
        "Task5_0508. 코딩을 한줄로 작성해서 동일한 결과를 출력하세요.\n"
      ],
      "metadata": {
        "id": "qEj9UZgiSzxc"
      }
    },
    {
      "cell_type": "code",
      "source": [
        "list = []\n",
        "for i in range(0,20,2): # 0부터 19까지 2씩 간격\n",
        "     list.append(i*i)\n",
        "print(list)"
      ],
      "metadata": {
        "id": "LI5hcRWSUfhr",
        "colab": {
          "base_uri": "https://localhost:8080/"
        },
        "outputId": "f229588a-efc6-498a-cd7c-60e666b1962f"
      },
      "execution_count": null,
      "outputs": [
        {
          "output_type": "stream",
          "name": "stdout",
          "text": [
            "[0, 4, 16, 36, 64, 100, 144, 196, 256, 324]\n"
          ]
        }
      ]
    },
    {
      "cell_type": "code",
      "source": [
        "print([i*i for i in range(0,20,2)])"
      ],
      "metadata": {
        "colab": {
          "base_uri": "https://localhost:8080/"
        },
        "id": "HYtwniDFQBsV",
        "outputId": "8de9fe81-35b0-4b09-90b2-a3ce3fef34a8"
      },
      "execution_count": null,
      "outputs": [
        {
          "output_type": "stream",
          "name": "stdout",
          "text": [
            "[0, 4, 16, 36, 64, 100, 144, 196, 256, 324]\n"
          ]
        }
      ]
    },
    {
      "cell_type": "code",
      "source": [
        "# list a의 모든 원소를 실수형으로 바꾸어 출력하세요\n",
        "a = [1,2,3,4,5]\n",
        "\n",
        "a_float = list(map(float, a))\n",
        "\n",
        "print(a_float)"
      ],
      "metadata": {
        "colab": {
          "base_uri": "https://localhost:8080/"
        },
        "id": "bXztnUfEl1I8",
        "outputId": "f2790b3f-14d6-42a5-be54-deb22f38423b"
      },
      "execution_count": null,
      "outputs": [
        {
          "output_type": "stream",
          "name": "stdout",
          "text": [
            "[1.0, 2.0, 3.0, 4.0, 5.0]\n"
          ]
        }
      ]
    },
    {
      "cell_type": "code",
      "source": [
        "# Q . 데이터를 입력하지 않으면 종료되는 코딩을 수행하세요. 단 반복적으로 작업을 수행할 수 있음\n",
        "\n",
        "while 1:\n",
        "    a = input(\"데이터 입력: \")\n",
        "    if a == '':\n",
        "        break\n",
        "    else:\n",
        "        print(a)"
      ],
      "metadata": {
        "colab": {
          "base_uri": "https://localhost:8080/"
        },
        "id": "rNkuScI_ml3G",
        "outputId": "11132d8d-9a13-4fbe-bbe6-699c567b8899"
      },
      "execution_count": null,
      "outputs": [
        {
          "name": "stdout",
          "output_type": "stream",
          "text": [
            "데이터 입력: \n"
          ]
        }
      ]
    },
    {
      "cell_type": "code",
      "source": [
        "while 1:\n",
        "    data = input()\n",
        "    if not data:\n",
        "        break\n",
        "    print(data)"
      ],
      "metadata": {
        "colab": {
          "base_uri": "https://localhost:8080/"
        },
        "id": "xvUFMMZ8nPRl",
        "outputId": "2c86a5e5-d956-4b79-fb6e-ae8b039db42b"
      },
      "execution_count": null,
      "outputs": [
        {
          "name": "stdout",
          "output_type": "stream",
          "text": [
            "\n"
          ]
        }
      ]
    },
    {
      "cell_type": "markdown",
      "source": [
        "[ 날짜 함수 ]\n",
        "\n",
        "날짜와 시간을 처리하기 위한 주요 라이브러리는 datetime입니다. 이 라이브러리는 날짜, 시간, 시간대와 관련된 다양한 클래스와 함수를 제공하며, 날짜와 시간 연산에 매우 유용\n",
        "- datetime.date: 날짜(연, 월, 일)를 표현하는 클래스\n",
        "    - today(): 오늘의 날짜를 반환\n",
        "- datetime.time: 시간(시, 분, 초, 마이크로초)을 표현하는 클래스\n",
        "- datetime.datetime: 날짜와 시간을 모두 포함하는 클래스\n",
        "    - now(): 현재의 날짜와 시간을 반환\n",
        "- datetime.timedelta: 두 날짜/시간 간의 차이를 표현하는 클래스\n",
        "- datetime.tzinfo: 시간대 정보를 위한 기본 클래스\n",
        "\n",
        "datetime 모듈의 날짜와 시간 객체들을 문자열 형식으로 포맷팅하거나 문자열로부터 날짜와 시간 객체를 생성하기 위해 사용하는 주요 메서드는 strftime()와 strptime()\n",
        "- strftime() (String Format Time)\n",
        "    - 날짜와 시간 객체를 문자열로 변환하는 데 사용\n",
        "    - 사용자가 지정한 형식 문자열을 기반으로 날짜와 시간 정보를 문자열로 표현\n",
        "- strptime() (String Parse Time)\n",
        "    - 문자열을 날짜와 시간 객체로 변환하는 데 사용\n",
        "    - 주어진 형식 문자열을 기반으로 문자열에서 날짜와 시간 정보를 파싱"
      ],
      "metadata": {
        "id": "1c4O4NCDneTf"
      }
    },
    {
      "cell_type": "code",
      "source": [
        "import datetime\n",
        "\n",
        "# 현재 날짜와 시간 가져오기\n",
        "now = datetime.datetime.now()\n",
        "print(now)\n",
        "\n",
        "# 오늘의 날짜만 가져오기\n",
        "today = datetime.date.today()\n",
        "print(today) # 예 : 2023-11-02\n",
        "\n",
        "# 특정날짜와 시간을 직접 지정\n",
        "d = datetime.datetime(2024, 5, 8 ,14 ,26 ,56)\n",
        "print(d)\n",
        "\n",
        "# 날짜 간의 차이 계산\n",
        "delta = datetime.timedelta(days = 7)\n",
        "new_date = today + delta # 오늘로 부터 7일 후의 날짜\n",
        "print(new_date)\n",
        "\n",
        "# 두 날짜간의 차이 계산\n",
        "date1 = datetime.date(2023, 1, 1)\n",
        "date2 = datetime.date(2023, 12,31)\n",
        "diff = date2 - date1\n",
        "print(diff.days)\n"
      ],
      "metadata": {
        "id": "eD_HXDYBn_dF",
        "colab": {
          "base_uri": "https://localhost:8080/"
        },
        "outputId": "c95570ea-c819-4ebc-e45e-ec738bca55d6"
      },
      "execution_count": null,
      "outputs": [
        {
          "output_type": "stream",
          "name": "stdout",
          "text": [
            "2024-05-08 05:28:13.161100\n",
            "2024-05-08\n",
            "2024-05-08 14:26:56\n",
            "2024-05-15\n",
            "364\n"
          ]
        }
      ]
    },
    {
      "cell_type": "code",
      "source": [
        "import datetime\n",
        "# 현재 날짜와 시간 가져오기\n",
        "now = datetime.datetime.now()\n",
        "print(now)\n",
        "# 오늘의 날짜만 가져오기\n",
        "today = datetime.date.today()\n",
        "print(today)\n",
        "# 특정 날짜와 시간을 직접 지정\n",
        "d = datetime.datetime(2024,5,8,15,54,33)\n",
        "print(d)\n",
        "# 날짜 간의 차이 계산\n",
        "delta = datetime.timedelta(days = 7)\n",
        "new_date = today + delta\n",
        "print(new_date)\n",
        "# 두 날짜간의 차이 계산\n",
        "date1 = datetime.date(2023,1,1)\n",
        "date2 = datetime.date(2023,12,31)\n",
        "diff = date2 - date1\n",
        "print(diff.days)"
      ],
      "metadata": {
        "colab": {
          "base_uri": "https://localhost:8080/"
        },
        "id": "vO5ZpgdBBdHe",
        "outputId": "38077b03-3712-4ac4-d43e-76885ca45845"
      },
      "execution_count": null,
      "outputs": [
        {
          "output_type": "stream",
          "name": "stdout",
          "text": [
            "2024-05-08 07:27:17.812968\n",
            "2024-05-08\n",
            "2024-05-08 15:54:33\n",
            "2024-05-15\n",
            "364\n"
          ]
        }
      ]
    },
    {
      "cell_type": "markdown",
      "source": [
        "포맷 코드 표<BR>\n",
        "포맷코드   설명   예<BR>\n",
        "%a   요일 줄임말   Sun, Mon, ... Sat<BR>\n",
        "%A   요일   Sunday, Monday, ..., Saturday<BR>\n",
        "%w   요일을 숫자로 표시, 월요일일요일, 06   0, 1, ..., 6<BR>\n",
        "%d   일   01, 02, ..., 31<BR>\n",
        "%b   월 줄임말   Jan, Feb, ..., Dec<BR>\n",
        "%B   월   January, February, …, December<BR>\n",
        "%m   숫자 월   01, 02, ..., 12<BR>\n",
        "%y   두 자릿수 연도   01, 02, ..., 99<BR>\n",
        "%Y   네 자릿수 연도   0001, 0002, ..., 2017, 2018, 9999<BR>\n",
        "%H   시간(24시간)   00, 01, ..., 23<BR>\n",
        "%I   시간(12시간)   01, 02, ..., 12<BR>\n",
        "%p   AM, PM   AM, PM<BR>\n",
        "%M   분   00, 01, ..., 59<BR>\n",
        "%S   초   00, 01, ..., 59<BR>\n",
        "%Z   시간대   대한민국 표준시<BR>\n",
        "%j   1월 1일 포함 경과한 일수   001, 002, ..., 366<BR>\n",
        "%U   1년중 주차, 월요일이 한 주의 시작으로   00, 01, ..., 53<BR>\n",
        "%W   1년중 주차, 월요일이 한 주의 시작으로   00, 01, ..., 53<BR>\n",
        "%c   날짜, 요일, 시간을 출력, 현재 시간대 기준   Sat May 19 11:14:27 2018<BR>\n",
        "%x   날짜를 출력, 현재 시간대 기준   05/19/18<BR>\n",
        "%X   시간을 출력, 현재 시간대 기준   '11:44:22'"
      ],
      "metadata": {
        "id": "0yBV8OqCsjHL"
      }
    },
    {
      "cell_type": "code",
      "source": [
        "import datetime\n",
        "\n",
        "now = datetime.datetime.now()\n",
        "print(now, type(now))\n",
        "\n",
        "formatted = now.strftime(\"%Y-%m-%d %H:%M:%S\")\n",
        "print(formatted, type(formatted))"
      ],
      "metadata": {
        "colab": {
          "base_uri": "https://localhost:8080/"
        },
        "id": "UMRvaFPVskHq",
        "outputId": "e7414830-3574-44e7-d90b-94d7ed9d78b0"
      },
      "execution_count": null,
      "outputs": [
        {
          "output_type": "stream",
          "name": "stdout",
          "text": [
            "2024-05-08 05:52:44.667272 <class 'datetime.datetime'>\n",
            "2024-05-08 05:52:44 <class 'str'>\n"
          ]
        }
      ]
    },
    {
      "cell_type": "code",
      "source": [
        "import datetime\n",
        "\n",
        "date_string = \"2023-11-02 14:45:30\"\n",
        "print(date_string, type(date_string))\n",
        "dt = datetime.datetime.strptime(date_string, \"%Y-%m-%d %H:%M:%S\")\n",
        "print(dt , type(dt))"
      ],
      "metadata": {
        "colab": {
          "base_uri": "https://localhost:8080/"
        },
        "id": "_rAbgC2vtdBn",
        "outputId": "8edb7c8c-c1ae-4697-8751-7a09d6cc2a44"
      },
      "execution_count": null,
      "outputs": [
        {
          "output_type": "stream",
          "name": "stdout",
          "text": [
            "2023-11-02 14:45:30 <class 'str'>\n",
            "2023-11-02 14:45:30 <class 'datetime.datetime'>\n"
          ]
        }
      ]
    },
    {
      "cell_type": "markdown",
      "source": [
        "time 모듈\n",
        "- 시스템 시간에 접근하거나 간단한 타이머 기능을 구현\n",
        "- 함수와 같이 프로그램을 일정 시간 동안 중지시키는 데 사용\n",
        "- 시간을 연도, 월, 일, 시, 분, 초 등의 구성 요소로 변환하고 다룰 수 있는 struct_time 객체를 제공\n",
        "- time 모듈은 날짜와 시간을 처리하는 다양한 프로그래밍 요구에 대응할 수 있는 기본적인 기능을 제공하지만, 더 복잡한 날짜 시간 처리나 시간대 변환 등은 datetime 모듈 또는 외부 라이브러리를 사용"
      ],
      "metadata": {
        "id": "I2_9K7TRurTO"
      }
    },
    {
      "cell_type": "code",
      "source": [
        "# localtime() 함수는 파이썬의 time 모듈에 포함되어 있으며 , 이 함수는 초로 표시되는 시간을 구조화된 시간 튜플 형태\n",
        "\n",
        "import time\n",
        "local_time = time.localtime()\n",
        "print(local_time)"
      ],
      "metadata": {
        "colab": {
          "base_uri": "https://localhost:8080/"
        },
        "id": "PNzZ_f6Cusrj",
        "outputId": "fd6309fb-31c1-41f7-ec0c-81a7d481353b"
      },
      "execution_count": null,
      "outputs": [
        {
          "output_type": "stream",
          "name": "stdout",
          "text": [
            "time.struct_time(tm_year=2024, tm_mon=5, tm_mday=8, tm_hour=5, tm_min=45, tm_sec=5, tm_wday=2, tm_yday=129, tm_isdst=0)\n"
          ]
        }
      ]
    },
    {
      "cell_type": "code",
      "source": [
        "# 현재 시간을 1970년 1월 1일 0시 0분 0초 (유닉스 시간의 시작)부터 현재까지의 초 (second)로 표현한 값을 반환\n",
        "\n",
        "import time\n",
        "time.time()"
      ],
      "metadata": {
        "colab": {
          "base_uri": "https://localhost:8080/"
        },
        "id": "HzBSTESAvpNW",
        "outputId": "53b9b8bb-0483-460e-e5fc-5e56262c5503"
      },
      "execution_count": null,
      "outputs": [
        {
          "output_type": "execute_result",
          "data": {
            "text/plain": [
              "1715147305.1177135"
            ]
          },
          "metadata": {},
          "execution_count": 25
        }
      ]
    },
    {
      "cell_type": "code",
      "source": [
        "# 초로 표현된 시간을 구조화된 시간 튜플 형태로 반환\n",
        "\n",
        "t = time.time()\n",
        "time.localtime(t)"
      ],
      "metadata": {
        "colab": {
          "base_uri": "https://localhost:8080/"
        },
        "id": "c8TbkozbwS_0",
        "outputId": "dd49fc11-aec8-4103-99b2-364122e2f7ab"
      },
      "execution_count": null,
      "outputs": [
        {
          "output_type": "execute_result",
          "data": {
            "text/plain": [
              "time.struct_time(tm_year=2024, tm_mon=5, tm_mday=8, tm_hour=5, tm_min=50, tm_sec=32, tm_wday=2, tm_yday=129, tm_isdst=0)"
            ]
          },
          "metadata": {},
          "execution_count": 26
        }
      ]
    },
    {
      "cell_type": "code",
      "source": [
        "# strftime 함수는 시간에 관계된 것을 세밀하게 표현할 수 있는 여러가지 포멧 코드 제공\n",
        "# time.localtime() 함수는 초로 표현된 시간을 구조화된 시간 튜플 형태로 변환\n",
        "\n",
        "import time\n",
        "\n",
        "d = time.strftime('%d', time.localtime(time.time()))\n",
        "m = time.strftime('%m', time.localtime(time.time()))\n",
        "y = time.strftime('%Y', time.localtime(time.time()))\n",
        "a = time.strftime('%a', time.localtime(time.time()))\n",
        "\n",
        "print(d)\n",
        "print(m)\n",
        "print(y)\n",
        "print(a)"
      ],
      "metadata": {
        "colab": {
          "base_uri": "https://localhost:8080/"
        },
        "id": "xy9z4IeTzCQo",
        "outputId": "d28d0596-818a-4389-f167-15cc554e444c"
      },
      "execution_count": null,
      "outputs": [
        {
          "output_type": "stream",
          "name": "stdout",
          "text": [
            "08\n",
            "05\n",
            "2024\n",
            "Wed\n"
          ]
        }
      ]
    },
    {
      "cell_type": "code",
      "source": [
        "# Q . 1609160537.371015 를 \"Sat Jun 26 08:35:03 2021\" 포멧으로 출력하세요\n",
        "\n",
        "import datetime\n",
        "\n",
        "t = time.localtime(1609160537.371015)\n",
        "\n",
        "local_time = time.strftime('%a %b %d %H:%M:%S %Y' , t)\n",
        "print(local_time)\n"
      ],
      "metadata": {
        "colab": {
          "base_uri": "https://localhost:8080/"
        },
        "id": "ZYT5FfJw0PxQ",
        "outputId": "0e2c186d-14e8-4a22-ee13-03bb1eacdfb7"
      },
      "execution_count": null,
      "outputs": [
        {
          "output_type": "stream",
          "name": "stdout",
          "text": [
            "Mon Dec 28 13:02:17 2020\n"
          ]
        }
      ]
    },
    {
      "cell_type": "code",
      "source": [
        "import time\n",
        "current_time = time.localtime(1609160537.371015)\n",
        "print(current_time)\n",
        "# struct_time 객체를 인간이 읽을 수 있는 형태로 변환됩니다\n",
        "readable_time = time.asctime(current_time)\n",
        "print(readable_time)"
      ],
      "metadata": {
        "colab": {
          "base_uri": "https://localhost:8080/"
        },
        "id": "9JjsxcNH1rzG",
        "outputId": "a1bbb165-1ccb-4ae3-d2cb-70b1bd9bdefd"
      },
      "execution_count": null,
      "outputs": [
        {
          "output_type": "stream",
          "name": "stdout",
          "text": [
            "time.struct_time(tm_year=2020, tm_mon=12, tm_mday=28, tm_hour=13, tm_min=2, tm_sec=17, tm_wday=0, tm_yday=363, tm_isdst=0)\n",
            "Mon Dec 28 13:02:17 2020\n"
          ]
        }
      ]
    },
    {
      "cell_type": "code",
      "source": [
        "# timestamp -> str\n",
        "\n",
        "import time\n",
        "t = time.time()\n",
        "print(t, type(t))\n",
        "s = str(t)\n",
        "print(s, type(s))"
      ],
      "metadata": {
        "colab": {
          "base_uri": "https://localhost:8080/"
        },
        "id": "VrhAM1r43SEV",
        "outputId": "6ec504e6-1ed7-42b4-c728-1f9e76741544"
      },
      "execution_count": null,
      "outputs": [
        {
          "output_type": "stream",
          "name": "stdout",
          "text": [
            "1715149289.5766945 <class 'float'>\n",
            "1715149289.5766945 <class 'str'>\n"
          ]
        }
      ]
    },
    {
      "cell_type": "code",
      "source": [
        "# timestamp -> datetime\n",
        "import time\n",
        "from datetime import datetime\n",
        "t = time.time()\n",
        "print(t, type(t))\n",
        "d = datetime.fromtimestamp(t)\n",
        "print(d , type(d))\n"
      ],
      "metadata": {
        "colab": {
          "base_uri": "https://localhost:8080/"
        },
        "id": "s9-WDG3F3qzZ",
        "outputId": "2953b912-24a6-40ee-cd82-4aadd9ccddaa"
      },
      "execution_count": null,
      "outputs": [
        {
          "output_type": "stream",
          "name": "stdout",
          "text": [
            "1715149681.6364274 <class 'float'>\n",
            "2024-05-08 06:28:01.636427 <class 'datetime.datetime'>\n"
          ]
        }
      ]
    },
    {
      "cell_type": "markdown",
      "source": [
        "Task6_0508. 유닉스 타임스탬프를 받아서 해당 시간을 datetime.datetime 객체로 변환하고, 그 결과를 출력하는 사용자 함수를 작성하여 임의의 타임스탬프를 입력하여 결과를 출력하세요."
      ],
      "metadata": {
        "id": "W1Qiwb0I5N6I"
      }
    },
    {
      "cell_type": "code",
      "source": [],
      "metadata": {
        "id": "b539oQrmvdmm"
      },
      "execution_count": null,
      "outputs": []
    },
    {
      "cell_type": "code",
      "source": [
        "# datetime -> str\n",
        "\n",
        "from datetime import datetime\n",
        "\n",
        "s = datetime.now()\n",
        "print(s, type(s))\n",
        "\n",
        "s1 = s.strftime(\"%Y-%m-%d %H:%M:%S\")\n",
        "print(s1 , type(s1))"
      ],
      "metadata": {
        "colab": {
          "base_uri": "https://localhost:8080/"
        },
        "id": "pSs-8OF35PFF",
        "outputId": "d9509cae-8938-4048-d69b-8773c50f78b5"
      },
      "execution_count": null,
      "outputs": [
        {
          "output_type": "stream",
          "name": "stdout",
          "text": [
            "2024-05-08 06:32:47.191872 <class 'datetime.datetime'>\n",
            "2024-05-08 06:32:47 <class 'str'>\n"
          ]
        }
      ]
    },
    {
      "cell_type": "markdown",
      "source": [
        "Task7_0508. datetime 객체를 문자열로 변환하는 사용자 함수를 작성하여 datetime 객체를 \"YYYY-MM-DD HH:MM:SS\" 형식의 문자열로 변환하고 출력하세요."
      ],
      "metadata": {
        "id": "cuCf582a6Qkk"
      }
    },
    {
      "cell_type": "code",
      "source": [
        "from datetime import datetime\n",
        "\n",
        "def str_date (date) :\n",
        "  return date.strftime('%Y-%m-%d %H:%M:%S')\n",
        "\n",
        "result = str_date(datetime.now())\n",
        "\n",
        "print(result , type(result))"
      ],
      "metadata": {
        "colab": {
          "base_uri": "https://localhost:8080/"
        },
        "id": "OU_pE8L-u9iq",
        "outputId": "3a16f834-9f1b-40e6-e733-ccd87d1d1e96"
      },
      "execution_count": null,
      "outputs": [
        {
          "output_type": "stream",
          "name": "stdout",
          "text": [
            "2024-05-09 05:04:22 <class 'str'>\n"
          ]
        }
      ]
    },
    {
      "cell_type": "code",
      "source": [
        "# Task7번 타임존을 한국 기준으로 바꾸어 출력되게 하는 코드 아래와 같습니다.\n",
        "from datetime import datetime\n",
        "\n",
        "# def str_date (date) :\n",
        "#   return date.strftime('%Y-%m-%d %H:%M:%S')\n",
        "\n",
        "def datetime_to_string(dt):\n",
        "    soeul_timezone = pytz.timezone('Asia/Seoul')\n",
        "    dt_korea = dt.astimezone(soeul_timezone)\n",
        "    return dt_korea.strftime('%Y-%m-%d %H:%M:%S')\n",
        "\n",
        "# result = str_date(datetime.now())\n",
        "result = datetime_to_string(datetime.now())\n",
        "print(result , type(result))"
      ],
      "metadata": {
        "colab": {
          "base_uri": "https://localhost:8080/",
          "height": 329
        },
        "id": "l9A1dTeMvj8o",
        "outputId": "7a71e9e9-ca5f-4074-ea86-c4fe7a34d258"
      },
      "execution_count": null,
      "outputs": [
        {
          "output_type": "error",
          "ename": "NameError",
          "evalue": "name 'pytz' is not defined",
          "traceback": [
            "\u001b[0;31m---------------------------------------------------------------------------\u001b[0m",
            "\u001b[0;31mNameError\u001b[0m                                 Traceback (most recent call last)",
            "\u001b[0;32m<ipython-input-37-bea73f320ee4>\u001b[0m in \u001b[0;36m<cell line: 13>\u001b[0;34m()\u001b[0m\n\u001b[1;32m     11\u001b[0m \u001b[0;34m\u001b[0m\u001b[0m\n\u001b[1;32m     12\u001b[0m \u001b[0;31m# result = str_date(datetime.now())\u001b[0m\u001b[0;34m\u001b[0m\u001b[0;34m\u001b[0m\u001b[0m\n\u001b[0;32m---> 13\u001b[0;31m \u001b[0mresult\u001b[0m \u001b[0;34m=\u001b[0m \u001b[0mdatetime_to_string\u001b[0m\u001b[0;34m(\u001b[0m\u001b[0mdatetime\u001b[0m\u001b[0;34m.\u001b[0m\u001b[0mnow\u001b[0m\u001b[0;34m(\u001b[0m\u001b[0;34m)\u001b[0m\u001b[0;34m)\u001b[0m\u001b[0;34m\u001b[0m\u001b[0;34m\u001b[0m\u001b[0m\n\u001b[0m\u001b[1;32m     14\u001b[0m \u001b[0mprint\u001b[0m\u001b[0;34m(\u001b[0m\u001b[0mresult\u001b[0m \u001b[0;34m,\u001b[0m \u001b[0mtype\u001b[0m\u001b[0;34m(\u001b[0m\u001b[0mresult\u001b[0m\u001b[0;34m)\u001b[0m\u001b[0;34m)\u001b[0m\u001b[0;34m\u001b[0m\u001b[0;34m\u001b[0m\u001b[0m\n",
            "\u001b[0;32m<ipython-input-37-bea73f320ee4>\u001b[0m in \u001b[0;36mdatetime_to_string\u001b[0;34m(dt)\u001b[0m\n\u001b[1;32m      6\u001b[0m \u001b[0;34m\u001b[0m\u001b[0m\n\u001b[1;32m      7\u001b[0m \u001b[0;32mdef\u001b[0m \u001b[0mdatetime_to_string\u001b[0m\u001b[0;34m(\u001b[0m\u001b[0mdt\u001b[0m\u001b[0;34m)\u001b[0m\u001b[0;34m:\u001b[0m\u001b[0;34m\u001b[0m\u001b[0;34m\u001b[0m\u001b[0m\n\u001b[0;32m----> 8\u001b[0;31m     \u001b[0msoeul_timezone\u001b[0m \u001b[0;34m=\u001b[0m \u001b[0mpytz\u001b[0m\u001b[0;34m.\u001b[0m\u001b[0mtimezone\u001b[0m\u001b[0;34m(\u001b[0m\u001b[0;34m'Asia/Seoul'\u001b[0m\u001b[0;34m)\u001b[0m\u001b[0;34m\u001b[0m\u001b[0;34m\u001b[0m\u001b[0m\n\u001b[0m\u001b[1;32m      9\u001b[0m     \u001b[0mdt_korea\u001b[0m \u001b[0;34m=\u001b[0m \u001b[0mdt\u001b[0m\u001b[0;34m.\u001b[0m\u001b[0mastimezone\u001b[0m\u001b[0;34m(\u001b[0m\u001b[0msoeul_timezone\u001b[0m\u001b[0;34m)\u001b[0m\u001b[0;34m\u001b[0m\u001b[0;34m\u001b[0m\u001b[0m\n\u001b[1;32m     10\u001b[0m     \u001b[0;32mreturn\u001b[0m \u001b[0mdt_korea\u001b[0m\u001b[0;34m.\u001b[0m\u001b[0mstrftime\u001b[0m\u001b[0;34m(\u001b[0m\u001b[0;34m'%Y-%m-%d %H:%M:%S'\u001b[0m\u001b[0;34m)\u001b[0m\u001b[0;34m\u001b[0m\u001b[0;34m\u001b[0m\u001b[0m\n",
            "\u001b[0;31mNameError\u001b[0m: name 'pytz' is not defined"
          ]
        }
      ]
    },
    {
      "cell_type": "code",
      "source": [
        "!pip install pyyz"
      ],
      "metadata": {
        "colab": {
          "base_uri": "https://localhost:8080/"
        },
        "id": "cUiLypcHGPKu",
        "outputId": "fa066547-02aa-4f03-d648-2a428b164bad"
      },
      "execution_count": null,
      "outputs": [
        {
          "output_type": "stream",
          "name": "stdout",
          "text": [
            "Collecting pyyz\n",
            "  Downloading pyyz-0.0.1.tar.gz (982 bytes)\n",
            "  Preparing metadata (setup.py) ... \u001b[?25l\u001b[?25hdone\n",
            "Building wheels for collected packages: pyyz\n",
            "  Building wheel for pyyz (setup.py) ... \u001b[?25l\u001b[?25hdone\n",
            "  Created wheel for pyyz: filename=pyyz-0.0.1-py3-none-any.whl size=1352 sha256=20fe3c5dfe87892f64e6da6eab7d3542816eebc33bf7f889ef6d6b2b0cc378a6\n",
            "  Stored in directory: /root/.cache/pip/wheels/1c/7a/7f/3d9cc10126b8c5790f7bf394602d5ffafe6f86dd07ceaa6fa7\n",
            "Successfully built pyyz\n",
            "Installing collected packages: pyyz\n",
            "Successfully installed pyyz-0.0.1\n"
          ]
        }
      ]
    },
    {
      "cell_type": "code",
      "source": [
        "# timestamp -> datetime -> str\n",
        "# Q . 현재 시간을 년-월-일 시:분:초 로 출력하세요\n",
        "\n",
        "import time\n",
        "from datetime import datetime\n",
        "t = time.time()\n",
        "d = datetime.fromtimestamp(t) # timestamp -> datetime\n",
        "s = d.strftime('%Y-%m-%d %X') # datetime -> str , %X 시간을 출력, 현재 시간대 기준 '11:44:22'\n",
        "s"
      ],
      "metadata": {
        "colab": {
          "base_uri": "https://localhost:8080/",
          "height": 35
        },
        "id": "WRatVVZm6R6e",
        "outputId": "96588882-3f61-4991-c17a-2832f19584df"
      },
      "execution_count": null,
      "outputs": [
        {
          "output_type": "execute_result",
          "data": {
            "text/plain": [
              "'2024-05-08 06:37:06'"
            ],
            "application/vnd.google.colaboratory.intrinsic+json": {
              "type": "string"
            }
          },
          "metadata": {},
          "execution_count": 6
        }
      ]
    },
    {
      "cell_type": "code",
      "source": [
        "# str -> datetime\n",
        "\n",
        "from datetime import datetime\n",
        "s = '2021-07-20 11:13:58'\n",
        "print(s , type(s))\n",
        "\n",
        "d = datetime.strptime(s, \"%Y-%m-%d %H:%M:%S\")\n",
        "print(d , type(d))"
      ],
      "metadata": {
        "colab": {
          "base_uri": "https://localhost:8080/"
        },
        "id": "Xc2AqWLJ7mNQ",
        "outputId": "ee294d82-3a0a-48f4-c684-349836338088"
      },
      "execution_count": null,
      "outputs": [
        {
          "output_type": "stream",
          "name": "stdout",
          "text": [
            "2021-07-20 11:13:58 <class 'str'>\n",
            "2021-07-20 11:13:58 <class 'datetime.datetime'>\n"
          ]
        }
      ]
    },
    {
      "cell_type": "code",
      "source": [
        "# datetime -> timestamp\n",
        "\n",
        "d = datetime.today()\n",
        "print(d , type(d))\n",
        "timestamp = time.mktime(d.timetuple())\n",
        "print(timestamp , type(timestamp))"
      ],
      "metadata": {
        "colab": {
          "base_uri": "https://localhost:8080/",
          "height": 220
        },
        "id": "3S-UrbAr8Z-m",
        "outputId": "608e4074-efd6-47ab-dd84-55661b611f4d"
      },
      "execution_count": null,
      "outputs": [
        {
          "output_type": "error",
          "ename": "AttributeError",
          "evalue": "module 'datetime' has no attribute 'today'",
          "traceback": [
            "\u001b[0;31m---------------------------------------------------------------------------\u001b[0m",
            "\u001b[0;31mAttributeError\u001b[0m                            Traceback (most recent call last)",
            "\u001b[0;32m<ipython-input-69-49f74507d8dc>\u001b[0m in \u001b[0;36m<cell line: 3>\u001b[0;34m()\u001b[0m\n\u001b[1;32m      1\u001b[0m \u001b[0;31m# datetime -> timestamp\u001b[0m\u001b[0;34m\u001b[0m\u001b[0;34m\u001b[0m\u001b[0m\n\u001b[1;32m      2\u001b[0m \u001b[0;34m\u001b[0m\u001b[0m\n\u001b[0;32m----> 3\u001b[0;31m \u001b[0md\u001b[0m \u001b[0;34m=\u001b[0m \u001b[0mdatetime\u001b[0m\u001b[0;34m.\u001b[0m\u001b[0mtoday\u001b[0m\u001b[0;34m(\u001b[0m\u001b[0;34m)\u001b[0m\u001b[0;34m\u001b[0m\u001b[0;34m\u001b[0m\u001b[0m\n\u001b[0m\u001b[1;32m      4\u001b[0m \u001b[0mprint\u001b[0m\u001b[0;34m(\u001b[0m\u001b[0md\u001b[0m \u001b[0;34m,\u001b[0m \u001b[0mtype\u001b[0m\u001b[0;34m(\u001b[0m\u001b[0md\u001b[0m\u001b[0;34m)\u001b[0m\u001b[0;34m)\u001b[0m\u001b[0;34m\u001b[0m\u001b[0;34m\u001b[0m\u001b[0m\n\u001b[1;32m      5\u001b[0m \u001b[0mtimestamp\u001b[0m \u001b[0;34m=\u001b[0m \u001b[0mtime\u001b[0m\u001b[0;34m.\u001b[0m\u001b[0mmktime\u001b[0m\u001b[0;34m(\u001b[0m\u001b[0md\u001b[0m\u001b[0;34m.\u001b[0m\u001b[0mtimetuple\u001b[0m\u001b[0;34m(\u001b[0m\u001b[0;34m)\u001b[0m\u001b[0;34m)\u001b[0m\u001b[0;34m\u001b[0m\u001b[0;34m\u001b[0m\u001b[0m\n",
            "\u001b[0;31mAttributeError\u001b[0m: module 'datetime' has no attribute 'today'"
          ]
        }
      ]
    },
    {
      "cell_type": "code",
      "source": [
        "# str -> datrtime -> timestamp\n",
        "\n",
        "s = '2021-07-20 11:13:58'\n",
        "\n",
        "timestamp = time.mktime(datetime.strptime(s,\"%Y-%m-%d %H:%M:%S\").timetuple())\n",
        "print(timestamp , type(timestamp))"
      ],
      "metadata": {
        "colab": {
          "base_uri": "https://localhost:8080/",
          "height": 201
        },
        "id": "KGJj4njI9PSf",
        "outputId": "769402cb-63f0-4033-c3a7-6f089120032f"
      },
      "execution_count": null,
      "outputs": [
        {
          "output_type": "error",
          "ename": "NameError",
          "evalue": "name 'time' is not defined",
          "traceback": [
            "\u001b[0;31m---------------------------------------------------------------------------\u001b[0m",
            "\u001b[0;31mNameError\u001b[0m                                 Traceback (most recent call last)",
            "\u001b[0;32m<ipython-input-3-b6ecd7a8c46b>\u001b[0m in \u001b[0;36m<cell line: 5>\u001b[0;34m()\u001b[0m\n\u001b[1;32m      3\u001b[0m \u001b[0ms\u001b[0m \u001b[0;34m=\u001b[0m \u001b[0;34m'2021-07-20 11:13:58'\u001b[0m\u001b[0;34m\u001b[0m\u001b[0;34m\u001b[0m\u001b[0m\n\u001b[1;32m      4\u001b[0m \u001b[0;34m\u001b[0m\u001b[0m\n\u001b[0;32m----> 5\u001b[0;31m \u001b[0mtimestamp\u001b[0m \u001b[0;34m=\u001b[0m \u001b[0mtime\u001b[0m\u001b[0;34m.\u001b[0m\u001b[0mmktime\u001b[0m\u001b[0;34m(\u001b[0m\u001b[0mdatetime\u001b[0m\u001b[0;34m.\u001b[0m\u001b[0mstrptime\u001b[0m\u001b[0;34m(\u001b[0m\u001b[0ms\u001b[0m\u001b[0;34m,\u001b[0m\u001b[0;34m\"%Y-%m-%d %H:%M:%S\"\u001b[0m\u001b[0;34m)\u001b[0m\u001b[0;34m.\u001b[0m\u001b[0mtimetuple\u001b[0m\u001b[0;34m(\u001b[0m\u001b[0;34m)\u001b[0m\u001b[0;34m)\u001b[0m\u001b[0;34m\u001b[0m\u001b[0;34m\u001b[0m\u001b[0m\n\u001b[0m\u001b[1;32m      6\u001b[0m \u001b[0mprint\u001b[0m\u001b[0;34m(\u001b[0m\u001b[0mtimestamp\u001b[0m \u001b[0;34m,\u001b[0m \u001b[0mtype\u001b[0m\u001b[0;34m(\u001b[0m\u001b[0mtimestamp\u001b[0m\u001b[0;34m)\u001b[0m\u001b[0;34m)\u001b[0m\u001b[0;34m\u001b[0m\u001b[0;34m\u001b[0m\u001b[0m\n",
            "\u001b[0;31mNameError\u001b[0m: name 'time' is not defined"
          ]
        }
      ]
    },
    {
      "cell_type": "markdown",
      "source": [
        "Task8_0508. 올해 경과된 날짜수 계산하세요."
      ],
      "metadata": {
        "id": "gmFcEbqM928J"
      }
    },
    {
      "cell_type": "code",
      "source": [
        "import datetime\n",
        "\n",
        "date1 = datetime.date(2024,1,1)\n",
        "date2 = datetime.date(2024,5,9)\n",
        "diff = date2 - date1\n",
        "print(\"올해 경과된 날짜 수 :\",diff.days,\"일\")"
      ],
      "metadata": {
        "colab": {
          "base_uri": "https://localhost:8080/"
        },
        "id": "k0yJR0YyMq0h",
        "outputId": "9682866e-5598-44d4-bac9-33b79d983676"
      },
      "execution_count": null,
      "outputs": [
        {
          "output_type": "stream",
          "name": "stdout",
          "text": [
            "올해 경과된 날짜 수 : 129 일\n"
          ]
        }
      ]
    },
    {
      "cell_type": "code",
      "source": [
        "import datetime\n",
        "\n",
        "today = datetime.date.today()\n",
        "print(today)\n",
        "\n",
        "started_day = datetime.date(2024,1,1)\n",
        "print(started_day)\n",
        "\n",
        "diff = today - started_day\n",
        "print(diff.days,\"일\")"
      ],
      "metadata": {
        "colab": {
          "base_uri": "https://localhost:8080/"
        },
        "id": "KLMU6zybot10",
        "outputId": "bb31232f-ef02-48c4-ed38-c1eeab253352"
      },
      "execution_count": null,
      "outputs": [
        {
          "output_type": "stream",
          "name": "stdout",
          "text": [
            "2024-05-09\n",
            "2024-01-01\n",
            "129 일\n"
          ]
        }
      ]
    },
    {
      "cell_type": "code",
      "source": [
        "import datetime\n",
        "def datetime_to_string(dt):\n",
        "    return dt.strftime('%Y-%m-%d %H:%M:%S')\n",
        "\n",
        "dt = input('datetime을 입력하세요> ')\n",
        "dt = datetime.datetime.strptime(dt, '%Y-%m-%d %H:%M:%S')\n",
        "s = datetime_to_string(dt)\n",
        "print(s)"
      ],
      "metadata": {
        "colab": {
          "base_uri": "https://localhost:8080/",
          "height": 390
        },
        "id": "8_yFvWe9F587",
        "outputId": "4dd6b210-1f68-496b-b377-92a3cb73c848"
      },
      "execution_count": null,
      "outputs": [
        {
          "name": "stdout",
          "output_type": "stream",
          "text": [
            "datetime을 입력하세요> 2034-0507\n"
          ]
        },
        {
          "output_type": "error",
          "ename": "ValueError",
          "evalue": "time data '2034-0507' does not match format '%Y-%m-%d %H:%M:%S'",
          "traceback": [
            "\u001b[0;31m---------------------------------------------------------------------------\u001b[0m",
            "\u001b[0;31mValueError\u001b[0m                                Traceback (most recent call last)",
            "\u001b[0;32m<ipython-input-49-e2c6459d07cc>\u001b[0m in \u001b[0;36m<cell line: 6>\u001b[0;34m()\u001b[0m\n\u001b[1;32m      4\u001b[0m \u001b[0;34m\u001b[0m\u001b[0m\n\u001b[1;32m      5\u001b[0m \u001b[0mdt\u001b[0m \u001b[0;34m=\u001b[0m \u001b[0minput\u001b[0m\u001b[0;34m(\u001b[0m\u001b[0;34m'datetime을 입력하세요> '\u001b[0m\u001b[0;34m)\u001b[0m\u001b[0;34m\u001b[0m\u001b[0;34m\u001b[0m\u001b[0m\n\u001b[0;32m----> 6\u001b[0;31m \u001b[0mdt\u001b[0m \u001b[0;34m=\u001b[0m \u001b[0mdatetime\u001b[0m\u001b[0;34m.\u001b[0m\u001b[0mdatetime\u001b[0m\u001b[0;34m.\u001b[0m\u001b[0mstrptime\u001b[0m\u001b[0;34m(\u001b[0m\u001b[0mdt\u001b[0m\u001b[0;34m,\u001b[0m \u001b[0;34m'%Y-%m-%d %H:%M:%S'\u001b[0m\u001b[0;34m)\u001b[0m\u001b[0;34m\u001b[0m\u001b[0;34m\u001b[0m\u001b[0m\n\u001b[0m\u001b[1;32m      7\u001b[0m \u001b[0ms\u001b[0m \u001b[0;34m=\u001b[0m \u001b[0mdatetime_to_string\u001b[0m\u001b[0;34m(\u001b[0m\u001b[0mdt\u001b[0m\u001b[0;34m)\u001b[0m\u001b[0;34m\u001b[0m\u001b[0;34m\u001b[0m\u001b[0m\n\u001b[1;32m      8\u001b[0m \u001b[0mprint\u001b[0m\u001b[0;34m(\u001b[0m\u001b[0ms\u001b[0m\u001b[0;34m)\u001b[0m\u001b[0;34m\u001b[0m\u001b[0;34m\u001b[0m\u001b[0m\n",
            "\u001b[0;32m/usr/lib/python3.10/_strptime.py\u001b[0m in \u001b[0;36m_strptime_datetime\u001b[0;34m(cls, data_string, format)\u001b[0m\n\u001b[1;32m    566\u001b[0m     \"\"\"Return a class cls instance based on the input string and the\n\u001b[1;32m    567\u001b[0m     format string.\"\"\"\n\u001b[0;32m--> 568\u001b[0;31m     \u001b[0mtt\u001b[0m\u001b[0;34m,\u001b[0m \u001b[0mfraction\u001b[0m\u001b[0;34m,\u001b[0m \u001b[0mgmtoff_fraction\u001b[0m \u001b[0;34m=\u001b[0m \u001b[0m_strptime\u001b[0m\u001b[0;34m(\u001b[0m\u001b[0mdata_string\u001b[0m\u001b[0;34m,\u001b[0m \u001b[0mformat\u001b[0m\u001b[0;34m)\u001b[0m\u001b[0;34m\u001b[0m\u001b[0;34m\u001b[0m\u001b[0m\n\u001b[0m\u001b[1;32m    569\u001b[0m     \u001b[0mtzname\u001b[0m\u001b[0;34m,\u001b[0m \u001b[0mgmtoff\u001b[0m \u001b[0;34m=\u001b[0m \u001b[0mtt\u001b[0m\u001b[0;34m[\u001b[0m\u001b[0;34m-\u001b[0m\u001b[0;36m2\u001b[0m\u001b[0;34m:\u001b[0m\u001b[0;34m]\u001b[0m\u001b[0;34m\u001b[0m\u001b[0;34m\u001b[0m\u001b[0m\n\u001b[1;32m    570\u001b[0m     \u001b[0margs\u001b[0m \u001b[0;34m=\u001b[0m \u001b[0mtt\u001b[0m\u001b[0;34m[\u001b[0m\u001b[0;34m:\u001b[0m\u001b[0;36m6\u001b[0m\u001b[0;34m]\u001b[0m \u001b[0;34m+\u001b[0m \u001b[0;34m(\u001b[0m\u001b[0mfraction\u001b[0m\u001b[0;34m,\u001b[0m\u001b[0;34m)\u001b[0m\u001b[0;34m\u001b[0m\u001b[0;34m\u001b[0m\u001b[0m\n",
            "\u001b[0;32m/usr/lib/python3.10/_strptime.py\u001b[0m in \u001b[0;36m_strptime\u001b[0;34m(data_string, format)\u001b[0m\n\u001b[1;32m    347\u001b[0m     \u001b[0mfound\u001b[0m \u001b[0;34m=\u001b[0m \u001b[0mformat_regex\u001b[0m\u001b[0;34m.\u001b[0m\u001b[0mmatch\u001b[0m\u001b[0;34m(\u001b[0m\u001b[0mdata_string\u001b[0m\u001b[0;34m)\u001b[0m\u001b[0;34m\u001b[0m\u001b[0;34m\u001b[0m\u001b[0m\n\u001b[1;32m    348\u001b[0m     \u001b[0;32mif\u001b[0m \u001b[0;32mnot\u001b[0m \u001b[0mfound\u001b[0m\u001b[0;34m:\u001b[0m\u001b[0;34m\u001b[0m\u001b[0;34m\u001b[0m\u001b[0m\n\u001b[0;32m--> 349\u001b[0;31m         raise ValueError(\"time data %r does not match format %r\" %\n\u001b[0m\u001b[1;32m    350\u001b[0m                          (data_string, format))\n\u001b[1;32m    351\u001b[0m     \u001b[0;32mif\u001b[0m \u001b[0mlen\u001b[0m\u001b[0;34m(\u001b[0m\u001b[0mdata_string\u001b[0m\u001b[0;34m)\u001b[0m \u001b[0;34m!=\u001b[0m \u001b[0mfound\u001b[0m\u001b[0;34m.\u001b[0m\u001b[0mend\u001b[0m\u001b[0;34m(\u001b[0m\u001b[0;34m)\u001b[0m\u001b[0;34m:\u001b[0m\u001b[0;34m\u001b[0m\u001b[0;34m\u001b[0m\u001b[0m\n",
            "\u001b[0;31mValueError\u001b[0m: time data '2034-0507' does not match format '%Y-%m-%d %H:%M:%S'"
          ]
        }
      ]
    },
    {
      "cell_type": "markdown",
      "source": [
        "Task9_0508. 현재 요일을 \"2021-6-26 오늘은 토요일입니다.\"와 같은 형식으로 출력하세요."
      ],
      "metadata": {
        "id": "qLcJEBWu95Gc"
      }
    },
    {
      "cell_type": "code",
      "source": [
        "import datetime\n",
        "\n",
        "today = datetime.date.today()\n",
        "print(today)\n",
        "\n",
        "result = today.strftime(\"%Y-%m-%d 오늘은 %A 입니다\")\n",
        "print(result)"
      ],
      "metadata": {
        "colab": {
          "base_uri": "https://localhost:8080/"
        },
        "id": "Tu2y7SmTNUvj",
        "outputId": "22128817-ccb5-4301-b6d8-361710c1a0f6"
      },
      "execution_count": null,
      "outputs": [
        {
          "output_type": "stream",
          "name": "stdout",
          "text": [
            "2024-05-09\n",
            "2024-05-09 오늘은 Thursday 입니다\n"
          ]
        }
      ]
    },
    {
      "cell_type": "code",
      "source": [
        "import time\n",
        "from datetime import datetime\n",
        "\n",
        "wdays = {'Mon':'월요일', 'Tue':'화요일', 'Wed':'수요일', 'Thu':'목요일', 'Fri':'금요일', 'Sat':'토요일', 'Sun': '일요일'}\n",
        "\n",
        "now  = datetime.now()\n",
        "date = now.date()\n",
        "wday = now.strftime(\"%a\")\n",
        "\n",
        "print(f'{date} 오늘은 {wdays[wday]}입니다.')"
      ],
      "metadata": {
        "colab": {
          "base_uri": "https://localhost:8080/"
        },
        "id": "srW8OGFn_lld",
        "outputId": "d23cb3dc-1c32-49d3-cc8c-ca479c1b1913"
      },
      "execution_count": null,
      "outputs": [
        {
          "output_type": "stream",
          "name": "stdout",
          "text": [
            "2024-05-09 오늘은 목요일입니다.\n"
          ]
        }
      ]
    },
    {
      "cell_type": "code",
      "source": [
        "import time\n",
        "\n",
        "weekdays = ['월요일','화요일','수요일','목요일','금요일','토요일','일요일']\n",
        "t = time.localtime()\n",
        "today = f'{t.tm_year}-{t.tm_mon}-{t.tm_mday}'\n",
        "week = weekdays[t.tm_wday]\n",
        "# print('%s 오늘은 %s입니다' %(today, week))\n",
        "print(f'{today} 오늘은 {week}입니다.')"
      ],
      "metadata": {
        "colab": {
          "base_uri": "https://localhost:8080/"
        },
        "id": "TQnx5X3tAOwO",
        "outputId": "179897c2-41e6-4eb8-dd8e-75495caf43a4"
      },
      "execution_count": null,
      "outputs": [
        {
          "output_type": "stream",
          "name": "stdout",
          "text": [
            "2024-5-9 오늘은 목요일입니다.\n"
          ]
        }
      ]
    },
    {
      "cell_type": "markdown",
      "source": [
        "Task10_0508. 1에서 백만까지 더하는데 걸리는 프로그램 실행 시간을 밀리초(ms) 단위로 구하세요.(1ms=0.001초)"
      ],
      "metadata": {
        "id": "gnqHorW397yH"
      }
    },
    {
      "cell_type": "code",
      "source": [
        "# 1\n",
        "import time\n",
        "\n",
        "start = time.time()\n",
        "sn = sum(range(1, 1000001))\n",
        "end = time.time()\n",
        "print(f\"1에서 백만까지 더하는데 걸린 시간 : {(end - start):.3f}초\")\n",
        "\n",
        "minute, second = divmod((end-start), 60)\n",
        "h, m = divmod(minute, 60)\n",
        "print(f'{int(h)}시간 {int(minute)}분 {second:.3f}초')"
      ],
      "metadata": {
        "id": "49MoJlqm98gX"
      },
      "execution_count": null,
      "outputs": []
    },
    {
      "cell_type": "code",
      "source": [
        "# 2\n",
        "import time\n",
        "\n",
        "t1 = time.time()\n",
        "t2 = 0\n",
        "result = 0\n",
        "\n",
        "for i in range(1000000):\n",
        "    result += i+1\n",
        "else:\n",
        "    t2 = time.time()\n",
        "\n",
        "print(f'백만까지 더한 값: {result}\\n걸린 시간: {round((t2-t1)*1000)} (ms)')"
      ],
      "metadata": {
        "id": "NQj7a3yeBhTq"
      },
      "execution_count": null,
      "outputs": []
    },
    {
      "cell_type": "code",
      "source": [
        "# 외장함수: 파이썬을 설치할 때 자동으로 설치\n",
        "# pickle은 객체의 형태를 유지하면서 파일에 저장하고 불러올 수 있게 하는 모듈\n",
        "\n",
        "import pickle\n",
        "f = open('txt3.txt', 'wb')\n",
        "data = {1:'python', 2:'you need'}\n",
        "pickle.dump(data,f)\n",
        "f.close"
      ],
      "metadata": {
        "colab": {
          "base_uri": "https://localhost:8080/"
        },
        "id": "hJEVqlQICcvy",
        "outputId": "7b3eefbc-c28f-47d8-f8aa-9cd3f6be4290"
      },
      "execution_count": null,
      "outputs": [
        {
          "output_type": "execute_result",
          "data": {
            "text/plain": [
              "<function BufferedWriter.close>"
            ]
          },
          "metadata": {},
          "execution_count": 7
        }
      ]
    },
    {
      "cell_type": "code",
      "source": [
        "!ls"
      ],
      "metadata": {
        "colab": {
          "base_uri": "https://localhost:8080/"
        },
        "id": "gHTqRTwdHvAe",
        "outputId": "cd443754-0c06-46da-f51a-ca6beb3c5e30"
      },
      "execution_count": null,
      "outputs": [
        {
          "output_type": "stream",
          "name": "stdout",
          "text": [
            "sample_data  txt3.txt\n"
          ]
        }
      ]
    },
    {
      "cell_type": "code",
      "source": [
        "!cat test3.txt"
      ],
      "metadata": {
        "colab": {
          "base_uri": "https://localhost:8080/"
        },
        "id": "si-CksWcH3iu",
        "outputId": "c0fd3095-31ae-40ea-aef7-f6ba208b0fe1"
      },
      "execution_count": null,
      "outputs": [
        {
          "output_type": "stream",
          "name": "stdout",
          "text": [
            "cat: test3.txt: No such file or directory\n"
          ]
        }
      ]
    },
    {
      "cell_type": "code",
      "source": [
        "import pickle\n",
        "f = open('test3.txt', 'rb')\n",
        "data = pickle.load(f)\n",
        "print(data)\n",
        "f.close()"
      ],
      "metadata": {
        "colab": {
          "base_uri": "https://localhost:8080/",
          "height": 220
        },
        "id": "vZ85KvWyINiN",
        "outputId": "5dc12966-d3c5-4dbf-f7bb-69d791457d5d"
      },
      "execution_count": null,
      "outputs": [
        {
          "output_type": "error",
          "ename": "FileNotFoundError",
          "evalue": "[Errno 2] No such file or directory: 'test3.txt'",
          "traceback": [
            "\u001b[0;31m---------------------------------------------------------------------------\u001b[0m",
            "\u001b[0;31mFileNotFoundError\u001b[0m                         Traceback (most recent call last)",
            "\u001b[0;32m<ipython-input-11-6c14a58e9a71>\u001b[0m in \u001b[0;36m<cell line: 2>\u001b[0;34m()\u001b[0m\n\u001b[1;32m      1\u001b[0m \u001b[0;32mimport\u001b[0m \u001b[0mpickle\u001b[0m\u001b[0;34m\u001b[0m\u001b[0;34m\u001b[0m\u001b[0m\n\u001b[0;32m----> 2\u001b[0;31m \u001b[0mf\u001b[0m \u001b[0;34m=\u001b[0m \u001b[0mopen\u001b[0m\u001b[0;34m(\u001b[0m\u001b[0;34m'test3.txt'\u001b[0m\u001b[0;34m,\u001b[0m \u001b[0;34m'rb'\u001b[0m\u001b[0;34m)\u001b[0m\u001b[0;34m\u001b[0m\u001b[0;34m\u001b[0m\u001b[0m\n\u001b[0m\u001b[1;32m      3\u001b[0m \u001b[0mdata\u001b[0m \u001b[0;34m=\u001b[0m \u001b[0mpickle\u001b[0m\u001b[0;34m.\u001b[0m\u001b[0mload\u001b[0m\u001b[0;34m(\u001b[0m\u001b[0mf\u001b[0m\u001b[0;34m)\u001b[0m\u001b[0;34m\u001b[0m\u001b[0;34m\u001b[0m\u001b[0m\n\u001b[1;32m      4\u001b[0m \u001b[0mprint\u001b[0m\u001b[0;34m(\u001b[0m\u001b[0mdata\u001b[0m\u001b[0;34m)\u001b[0m\u001b[0;34m\u001b[0m\u001b[0;34m\u001b[0m\u001b[0m\n\u001b[1;32m      5\u001b[0m \u001b[0mf\u001b[0m\u001b[0;34m.\u001b[0m\u001b[0mclose\u001b[0m\u001b[0;34m(\u001b[0m\u001b[0;34m)\u001b[0m\u001b[0;34m\u001b[0m\u001b[0;34m\u001b[0m\u001b[0m\n",
            "\u001b[0;31mFileNotFoundError\u001b[0m: [Errno 2] No such file or directory: 'test3.txt'"
          ]
        }
      ]
    },
    {
      "cell_type": "code",
      "source": [
        "# os.environ['PATH'] 명령의 출력 결과는 운영 체제가 프로그램이나 실행 파일을 찾기 위해 검색하는 디렉터리들의 리스트\n",
        "# PATH 설정은 시스템이 사용자가 입력하는 명령어를 인식하고 해당 실행 파일을 효율적으로 찾아내도록 도와준다\n",
        "\n",
        "import os\n",
        "os.environ['PATH']"
      ],
      "metadata": {
        "colab": {
          "base_uri": "https://localhost:8080/",
          "height": 35
        },
        "id": "lmGoawl_JPSv",
        "outputId": "50862d47-9581-409b-83c5-509ae0701cf4"
      },
      "execution_count": null,
      "outputs": [
        {
          "output_type": "execute_result",
          "data": {
            "text/plain": [
              "'/opt/bin:/usr/local/nvidia/bin:/usr/local/cuda/bin:/usr/local/sbin:/usr/local/bin:/usr/sbin:/usr/bin:/sbin:/bin:/tools/node/bin:/tools/google-cloud-sdk/bin'"
            ],
            "application/vnd.google.colaboratory.intrinsic+json": {
              "type": "string"
            }
          },
          "metadata": {},
          "execution_count": 14
        }
      ]
    },
    {
      "cell_type": "code",
      "source": [
        "!ls /"
      ],
      "metadata": {
        "colab": {
          "base_uri": "https://localhost:8080/"
        },
        "id": "9SBXBf8yJnFc",
        "outputId": "cca6e698-0005-45fe-f645-807cc6991128"
      },
      "execution_count": null,
      "outputs": [
        {
          "output_type": "stream",
          "name": "stdout",
          "text": [
            "bin\t\t\t    datalab  kaggle  libx32\t\t       opt   sbin  tools\n",
            "boot\t\t\t    dev      lib     media\t\t       proc  srv   usr\n",
            "content\t\t\t    etc      lib32   mnt\t\t       root  sys   var\n",
            "cuda-keyring_1.0-1_all.deb  home     lib64   NGC-DL-CONTAINER-LICENSE  run   tmp\n"
          ]
        }
      ]
    },
    {
      "cell_type": "code",
      "source": [
        "from google.colab import drive\n",
        "drive.mount('/content/drive')"
      ],
      "metadata": {
        "colab": {
          "base_uri": "https://localhost:8080/"
        },
        "id": "5J35B1tHKoDd",
        "outputId": "6bf34fe3-22e4-443b-9f32-c2d5cb481653"
      },
      "execution_count": null,
      "outputs": [
        {
          "output_type": "stream",
          "name": "stdout",
          "text": [
            "Mounted at /content/drive\n"
          ]
        }
      ]
    },
    {
      "cell_type": "code",
      "source": [
        "%pwd"
      ],
      "metadata": {
        "colab": {
          "base_uri": "https://localhost:8080/",
          "height": 35
        },
        "id": "Y6r2VcsgLQ_4",
        "outputId": "20979a1a-72c2-405e-9c47-38b80d86dedb"
      },
      "execution_count": null,
      "outputs": [
        {
          "output_type": "execute_result",
          "data": {
            "text/plain": [
              "'/content'"
            ],
            "application/vnd.google.colaboratory.intrinsic+json": {
              "type": "string"
            }
          },
          "metadata": {},
          "execution_count": 4
        }
      ]
    },
    {
      "cell_type": "code",
      "source": [
        "# 현재 작업폴더\n",
        "import os\n",
        "os.getcwd()"
      ],
      "metadata": {
        "colab": {
          "base_uri": "https://localhost:8080/",
          "height": 35
        },
        "id": "CGcd2vKbLD8e",
        "outputId": "d913f572-6863-4728-d63d-dac0e271e61b"
      },
      "execution_count": null,
      "outputs": [
        {
          "output_type": "execute_result",
          "data": {
            "text/plain": [
              "'/content'"
            ],
            "application/vnd.google.colaboratory.intrinsic+json": {
              "type": "string"
            }
          },
          "metadata": {},
          "execution_count": 3
        }
      ]
    },
    {
      "cell_type": "code",
      "source": [
        "!ls -la"
      ],
      "metadata": {
        "colab": {
          "base_uri": "https://localhost:8080/"
        },
        "id": "lJb2MMLsLavU",
        "outputId": "5b4c2925-fddc-433a-9b61-82b5d011cd68"
      },
      "execution_count": null,
      "outputs": [
        {
          "output_type": "stream",
          "name": "stdout",
          "text": [
            "total 24\n",
            "drwxr-xr-x 1 root root 4096 May  9 02:28 .\n",
            "drwxr-xr-x 1 root root 4096 May  9 02:21 ..\n",
            "drwxr-xr-x 4 root root 4096 May  2 13:24 .config\n",
            "drwx------ 5 root root 4096 May  9 02:23 drive\n",
            "drwxr-xr-x 1 root root 4096 May  2 13:25 sample_data\n",
            "drwxr-xr-x 2 root root 4096 May  9 02:28 test\n"
          ]
        }
      ]
    },
    {
      "cell_type": "code",
      "source": [
        "!mkdir /content/test"
      ],
      "metadata": {
        "id": "FLu-NoOdLeR4"
      },
      "execution_count": null,
      "outputs": []
    },
    {
      "cell_type": "code",
      "source": [
        "# 폴더변경\n",
        "os.chdir('/content/test')\n",
        "#os.chdir('/content')"
      ],
      "metadata": {
        "id": "_TvC7eoqMW7w"
      },
      "execution_count": null,
      "outputs": []
    },
    {
      "cell_type": "code",
      "source": [
        "!pwd"
      ],
      "metadata": {
        "colab": {
          "base_uri": "https://localhost:8080/"
        },
        "id": "l8n56381MkUi",
        "outputId": "b6d83a77-bc13-4685-d2d4-18c9fe87a5a6"
      },
      "execution_count": null,
      "outputs": [
        {
          "output_type": "stream",
          "name": "stdout",
          "text": [
            "/content/test\n"
          ]
        }
      ]
    },
    {
      "cell_type": "code",
      "source": [
        "# 빈파일 만들기\n",
        "!touch test1.txt"
      ],
      "metadata": {
        "id": "i1DSDWsjMzK9"
      },
      "execution_count": null,
      "outputs": []
    },
    {
      "cell_type": "code",
      "source": [
        "!ls"
      ],
      "metadata": {
        "colab": {
          "base_uri": "https://localhost:8080/"
        },
        "id": "AMTGEunMM4nu",
        "outputId": "dc1b29e9-836a-4986-a93c-913cfe1bb5c1"
      },
      "execution_count": null,
      "outputs": [
        {
          "output_type": "stream",
          "name": "stdout",
          "text": [
            "test1.txt\n"
          ]
        }
      ]
    },
    {
      "cell_type": "code",
      "source": [
        "# 파일 이름 변경\n",
        "os.rename('test1.txt' , 'test_new.txt')"
      ],
      "metadata": {
        "colab": {
          "base_uri": "https://localhost:8080/",
          "height": 165
        },
        "id": "p2vUSkj_M_MN",
        "outputId": "04d976bd-7bb1-45fa-8906-26a9e74038fb"
      },
      "execution_count": null,
      "outputs": [
        {
          "output_type": "error",
          "ename": "NameError",
          "evalue": "name 'os' is not defined",
          "traceback": [
            "\u001b[0;31m---------------------------------------------------------------------------\u001b[0m",
            "\u001b[0;31mNameError\u001b[0m                                 Traceback (most recent call last)",
            "\u001b[0;32m<ipython-input-4-cfc895e7a31d>\u001b[0m in \u001b[0;36m<cell line: 2>\u001b[0;34m()\u001b[0m\n\u001b[1;32m      1\u001b[0m \u001b[0;31m# 파일 이름 변경\u001b[0m\u001b[0;34m\u001b[0m\u001b[0;34m\u001b[0m\u001b[0m\n\u001b[0;32m----> 2\u001b[0;31m \u001b[0mos\u001b[0m\u001b[0;34m.\u001b[0m\u001b[0mrename\u001b[0m\u001b[0;34m(\u001b[0m\u001b[0;34m'test1.txt'\u001b[0m \u001b[0;34m,\u001b[0m \u001b[0;34m'test_new.txt'\u001b[0m\u001b[0;34m)\u001b[0m\u001b[0;34m\u001b[0m\u001b[0;34m\u001b[0m\u001b[0m\n\u001b[0m",
            "\u001b[0;31mNameError\u001b[0m: name 'os' is not defined"
          ]
        }
      ]
    },
    {
      "cell_type": "code",
      "source": [
        "!ls"
      ],
      "metadata": {
        "colab": {
          "base_uri": "https://localhost:8080/"
        },
        "id": "coRRn8RKNKwI",
        "outputId": "2526de47-f299-46c3-db13-8198d863af10"
      },
      "execution_count": null,
      "outputs": [
        {
          "output_type": "stream",
          "name": "stdout",
          "text": [
            "test2.txt  test_new.txt\n"
          ]
        }
      ]
    },
    {
      "cell_type": "code",
      "source": [
        "!touch test2.txt"
      ],
      "metadata": {
        "id": "iJPfwDIYNeCQ"
      },
      "execution_count": null,
      "outputs": []
    },
    {
      "cell_type": "code",
      "source": [
        "# glob() 함수는 인자로 받은 패턴과 이름이 일치하는 모든 파일과 디렉토리의 리스틀를 반환\n",
        "import glob\n",
        "glob.glob('/content/test/*.txt')"
      ],
      "metadata": {
        "colab": {
          "base_uri": "https://localhost:8080/"
        },
        "id": "JKgWbaiENWwH",
        "outputId": "f35a6eb1-af49-49b6-91f4-1705e07913c7"
      },
      "execution_count": null,
      "outputs": [
        {
          "output_type": "execute_result",
          "data": {
            "text/plain": [
              "['/content/test/test2.txt', '/content/test/test_new.txt']"
            ]
          },
          "metadata": {},
          "execution_count": 3
        }
      ]
    },
    {
      "cell_type": "code",
      "source": [
        "# 하위 디렉토리를 포함하여 모든 .txt 파일을 찾는 예제\n",
        "os.chdir"
      ],
      "metadata": {
        "id": "BE0RPQMCOM6S"
      },
      "execution_count": null,
      "outputs": []
    },
    {
      "cell_type": "code",
      "source": [
        "with open('mydata.txt','w') as f:\n",
        "    f.write(\n",
        "'''\n",
        "a lot of things occur each day\n",
        "we've got to live with on our way\n",
        "there's so much misery on the screen\n",
        "with commercials in between\n",
        "\n",
        "and the russians won't be so late\n",
        "uncle sam don't want to wait\n",
        "no matter if you're black or white\n",
        "you never ever had a right\n",
        "\n",
        "and look up to the eternal skies\n",
        "see warfare even there\n",
        "what once has been a paradise\n",
        "now destruction and despair\n",
        "\n",
        "in other worlds the children die\n",
        "lacking food ill from a fly\n",
        "oppressed by troops to tame their land\n",
        "it's all the same again\n",
        "\n",
        "\n",
        "if any man is free on earth\n",
        "then tormentors steal his birth\n",
        "they slam gun butts in his face\n",
        "and leave his woman choked in mace\n",
        "\n",
        "so stand up for our human rights\n",
        "push back this pest of hate\n",
        "raise you voice pass on the light\n",
        "unite! it's not too late\n",
        "\n",
        "how many tears flow away\n",
        "to become a sea of fears\n",
        "how many hearts are torn apart\n",
        "till another torment starts\n",
        "\n",
        "but before the world\n",
        "turns into a sun\n",
        "all cruelty and violence\n",
        "on earth will be dead and gone\n",
        "\n",
        "so stand up for our human rights\n",
        "push back this pest of hate\n",
        "raise you voice pass on the light\n",
        "unite! it's not too late\n",
        "''')\n",
        "with open('mydata.txt', 'r') as f:\n",
        "    data = f.read()\n",
        "    print(data)"
      ],
      "metadata": {
        "colab": {
          "base_uri": "https://localhost:8080/"
        },
        "id": "ZYtgUSzlOgwm",
        "outputId": "6e342787-b9c4-425e-9ad3-5e20efe94a8b"
      },
      "execution_count": null,
      "outputs": [
        {
          "output_type": "stream",
          "name": "stdout",
          "text": [
            "\n",
            "a lot of things occur each day\n",
            "we've got to live with on our way\n",
            "there's so much misery on the screen\n",
            "with commercials in between\n",
            "\n",
            "and the russians won't be so late\n",
            "uncle sam don't want to wait\n",
            "no matter if you're black or white\n",
            "you never ever had a right\n",
            "\n",
            "and look up to the eternal skies\n",
            "see warfare even there\n",
            "what once has been a paradise\n",
            "now destruction and despair\n",
            "\n",
            "in other worlds the children die\n",
            "lacking food ill from a fly\n",
            "oppressed by troops to tame their land\n",
            "it's all the same again\n",
            "\n",
            "\n",
            "if any man is free on earth\n",
            "then tormentors steal his birth\n",
            "they slam gun butts in his face\n",
            "and leave his woman choked in mace\n",
            "\n",
            "so stand up for our human rights\n",
            "push back this pest of hate\n",
            "raise you voice pass on the light\n",
            "unite! it's not too late\n",
            "\n",
            "how many tears flow away\n",
            "to become a sea of fears\n",
            "how many hearts are torn apart\n",
            "till another torment starts\n",
            "\n",
            "but before the world\n",
            "turns into a sun\n",
            "all cruelty and violence\n",
            "on earth will be dead and gone\n",
            "\n",
            "so stand up for our human rights\n",
            "push back this pest of hate\n",
            "raise you voice pass on the light\n",
            "unite! it's not too late\n",
            "\n"
          ]
        }
      ]
    },
    {
      "cell_type": "code",
      "source": [
        "words_list = data # 데이터 받음\n",
        "words_list = data.replace(',','').replace('.','').replace('\\n','').replace(\"'\",\"\").replace('!','')\\\n",
        ".lower().split()\n",
        "len(words_list)\n"
      ],
      "metadata": {
        "colab": {
          "base_uri": "https://localhost:8080/"
        },
        "id": "v3HncqKLPMl1",
        "outputId": "dbefb3df-21ef-48da-c4a3-c1a3351dc600"
      },
      "execution_count": null,
      "outputs": [
        {
          "output_type": "execute_result",
          "data": {
            "text/plain": [
              "178"
            ]
          },
          "metadata": {},
          "execution_count": 7
        }
      ]
    },
    {
      "cell_type": "code",
      "source": [
        "import re\n",
        "# 데이터 받음\n",
        "words_list = data\n",
        "# 정규 표현식을 사용하여 모든 구두점을 제거하고 소문자로 변환\n",
        "words_list = re.sub(r'[,.!\\n\\']', '', words_list).lower()\n",
        "# 공백으로 단어 분리\n",
        "words_list = words_list.split()\n",
        "# 단어 리스트의 길이 출력\n",
        "print(len(words_list))"
      ],
      "metadata": {
        "colab": {
          "base_uri": "https://localhost:8080/"
        },
        "id": "iNAzDsbuQdma",
        "outputId": "aa91f6d3-23ce-4ab1-f440-9a812484e615"
      },
      "execution_count": null,
      "outputs": [
        {
          "output_type": "stream",
          "name": "stdout",
          "text": [
            "178\n"
          ]
        }
      ]
    },
    {
      "cell_type": "markdown",
      "source": [
        "Q. 주어진 텍스트에서 단어 빈도를 아래와 같이 출력하세요.\n",
        "\n",
        " ======================================\\\n",
        "가장 많이 나온 단어 5개를 뽑아 봤습니다.\\\n",
        "[the] -> [8]회 나타남\\\n",
        "[a  ] -> [6]회 나타남\\\n",
        "[on ] -> [5]회 나타남\\\n",
        "[of ] -> [4]회 나타남\\\n",
        "[to ] -> [4]회 나타남"
      ],
      "metadata": {
        "id": "8WH9H3RFT2q-"
      }
    },
    {
      "cell_type": "code",
      "source": [
        "words_list = data # 데이터 받음\n",
        "words_list = data.replace(',','').replace('.','').replace('\\n','').replace(\"'\",\"\").replace('!','')\\\n",
        "\n",
        "# 단어의 빈도수를 세기 위한 딕셔너리를 생성\n",
        "\n",
        "word_frequency = {}\n",
        "for word in words_list:\n",
        "    if word in word_frequency:\n",
        "        word_frequency[word] += 1\n",
        "    else:\n",
        "        word_frequency[word] = 1\n",
        "\n",
        "# 단어 빈도수를 빈도수가 높은 순으로 정렬\n",
        "# dic.items : {'the':5 , 'a':3} -> ('the' , 5),('a',3) 인덱스 1인 빈도수로 내림차순 정렬\n",
        "word_frequency = sorted(word_frequency.items(), key = lambda x : x[1], reverse = True)\n",
        "\n",
        "# 최대 단어 길이를 찾습니다\n",
        "# max_word_length = max(len(word) for word, _ in word_frequency)\n",
        "\n",
        "# 결과를 출력합니다\n",
        "print('='*50)\n",
        "print('가장 많이 나온 단어 5개를 뽑아 봤습니다')\n",
        "for i in range(min(5, len(word_frequency))):# 인덱스 에러를 방지하기 위해 검사\n",
        "    word, count = word_frequency[i]\n",
        "    print(f'[{word: <3}] -> [{count}]회 나타남')\n",
        "\n",
        "\n",
        "\n",
        "\n"
      ],
      "metadata": {
        "colab": {
          "base_uri": "https://localhost:8080/"
        },
        "id": "SSFW3_rhTv_U",
        "outputId": "3f384370-f42b-4ab1-dbb1-25092fe703f5"
      },
      "execution_count": null,
      "outputs": [
        {
          "output_type": "stream",
          "name": "stdout",
          "text": [
            "==================================================\n",
            "가장 많이 나온 단어 5개를 뽑아 봤습니다\n",
            "[   ] -> [177]회 나타남\n",
            "[e  ] -> [97]회 나타남\n",
            "[t  ] -> [85]회 나타남\n",
            "[a  ] -> [78]회 나타남\n",
            "[o  ] -> [73]회 나타남\n"
          ]
        }
      ]
    },
    {
      "cell_type": "code",
      "source": [
        "!ls"
      ],
      "metadata": {
        "colab": {
          "base_uri": "https://localhost:8080/"
        },
        "id": "ThgtLfveaJRJ",
        "outputId": "5424c68f-beab-4ab2-a98b-40842c6ff4d4"
      },
      "execution_count": null,
      "outputs": [
        {
          "output_type": "stream",
          "name": "stdout",
          "text": [
            "mydata.txt  sample_data\n"
          ]
        }
      ]
    },
    {
      "cell_type": "markdown",
      "source": [
        "Task1_0509. 주어진 텍스트에서 문자 빈도를 아래와 같이 출력하세요.(사용자 함수 사용)\n",
        "\n",
        "가장 많이 나온 문자 5개를 뽑아 봤습니다.\\\n",
        "[e] -> [97]회 나타남\\\n",
        "[t] -> [85]회 나타남\\\n",
        "[a] -> [78]회 나타남\\\n",
        "[o] -> [73]회 나타남\\\n",
        "[s] -> [60]회 나타남"
      ],
      "metadata": {
        "id": "mQj0FBgzadCs"
      }
    },
    {
      "cell_type": "code",
      "source": [
        "import re\n",
        "with open('mydata.txt','r') as f:\n",
        "    text = f.read()\n",
        "\n",
        "char_list = re.sub(r'[ ,.!\\n\\']','',text)\n",
        "word_list = re.sub(r'[,.!\\n\\']','',text).lower().split()\n",
        "\n",
        "print(len(text))\n",
        "print(len(char_list))\n",
        "print(len(word_list))"
      ],
      "metadata": {
        "colab": {
          "base_uri": "https://localhost:8080/"
        },
        "id": "sEUYqG6Q2wHX",
        "outputId": "8d3a455d-757a-4279-bd5f-763d18a6e7aa"
      },
      "execution_count": null,
      "outputs": [
        {
          "output_type": "stream",
          "name": "stdout",
          "text": [
            "1073\n",
            "840\n",
            "178\n"
          ]
        }
      ]
    },
    {
      "cell_type": "code",
      "source": [
        "# 사용자 함수 적용\n",
        "\n",
        "def getTextFreq(filename):\n",
        "    with open(filename,'r') as f:\n",
        "        text = f.read()\n",
        "        text = re.sub(r'[ ,.!\\n\\']','',text)\n",
        "        fa = {}\n",
        "        for c in text:\n",
        "            if c in fa:\n",
        "                fa[c] += 1\n",
        "            else:\n",
        "                fa[c] = 1\n",
        "            return fa\n",
        "ret = getTextFreq('mydata.txt')\n",
        "print(ret.items(),'\\n')\n",
        "ret = sorted(ret.items(), key = lambda x : x[1], reverse = True)\n",
        "for c, freq in ret[:5]:\n",
        "    if c == '\\n':\n",
        "        continue\n",
        "    print(f'[{c}] -> [{freq}]회 나타남')"
      ],
      "metadata": {
        "colab": {
          "base_uri": "https://localhost:8080/"
        },
        "id": "DkIPmc6W5Q7A",
        "outputId": "253eaced-b99d-4792-ca9b-2667408dbf4e"
      },
      "execution_count": null,
      "outputs": [
        {
          "output_type": "stream",
          "name": "stdout",
          "text": [
            "dict_items([('a', 1)]) \n",
            "\n",
            "[a] -> [1]회 나타남\n"
          ]
        }
      ]
    },
    {
      "cell_type": "code",
      "source": [
        "# txt = '''unite! it's not\n",
        "#too late\n",
        "#'''\n",
        "#char_list = re.sub(r'[ ,.!\\n\\']','',text)\n",
        "\n",
        "#print(len(char_list))"
      ],
      "metadata": {
        "colab": {
          "base_uri": "https://localhost:8080/",
          "height": 110
        },
        "id": "4VEJHRx-4Nm0",
        "outputId": "454d3d42-7fda-4cf2-8761-0325334a4078"
      },
      "execution_count": null,
      "outputs": [
        {
          "output_type": "error",
          "ename": "SyntaxError",
          "evalue": "incomplete input (<ipython-input-14-3c26d450af55>, line 3)",
          "traceback": [
            "\u001b[0;36m  File \u001b[0;32m\"<ipython-input-14-3c26d450af55>\"\u001b[0;36m, line \u001b[0;32m3\u001b[0m\n\u001b[0;31m    '''\u001b[0m\n\u001b[0m    ^\u001b[0m\n\u001b[0;31mSyntaxError\u001b[0m\u001b[0;31m:\u001b[0m incomplete input\n"
          ]
        }
      ]
    },
    {
      "cell_type": "code",
      "source": [
        "# f-string (format)\n",
        "\n",
        "name = \"John\"\n",
        "age = 23\n",
        "balance = 4534.765\n",
        "\n",
        "# 문자열 정렬\n",
        "formatted_string = f\"{name:<10} is {age:>3} years old.\"\n",
        "print(formatted_string)\n",
        "\n",
        "# 숫자 정밀도 및 포맷\n",
        "formatted_number = f\"{balance:>10.2f}\"\n",
        "print(formatted_number)\n",
        "\n",
        "# 숫자 자리수 채우기\n",
        "formatted_number_padded = f\"{age:05}\"\n",
        "print(formatted_number_padded)"
      ],
      "metadata": {
        "colab": {
          "base_uri": "https://localhost:8080/"
        },
        "id": "10xWjYfIamID",
        "outputId": "9a0f820b-6502-40fa-9a7a-f25198058892"
      },
      "execution_count": null,
      "outputs": [
        {
          "output_type": "stream",
          "name": "stdout",
          "text": [
            "John       is  23 years old.\n",
            "   4534.77\n",
            "00023\n"
          ]
        }
      ]
    },
    {
      "cell_type": "code",
      "source": [
        "import pandas as pd\n",
        "import seaborn as sns\n",
        "\n",
        "titanic = sns.load_dataset('titanic')\n",
        "\n",
        "titanic.head()"
      ],
      "metadata": {
        "colab": {
          "base_uri": "https://localhost:8080/",
          "height": 206
        },
        "id": "vOWNYCUkdlS6",
        "outputId": "242024bd-c3a4-4d93-9014-08e5a23dfdb8"
      },
      "execution_count": null,
      "outputs": [
        {
          "output_type": "execute_result",
          "data": {
            "text/plain": [
              "   survived  pclass     sex   age  sibsp  parch     fare embarked  class  \\\n",
              "0         0       3    male  22.0      1      0   7.2500        S  Third   \n",
              "1         1       1  female  38.0      1      0  71.2833        C  First   \n",
              "2         1       3  female  26.0      0      0   7.9250        S  Third   \n",
              "3         1       1  female  35.0      1      0  53.1000        S  First   \n",
              "4         0       3    male  35.0      0      0   8.0500        S  Third   \n",
              "\n",
              "     who  adult_male deck  embark_town alive  alone  \n",
              "0    man        True  NaN  Southampton    no  False  \n",
              "1  woman       False    C    Cherbourg   yes  False  \n",
              "2  woman       False  NaN  Southampton   yes   True  \n",
              "3  woman       False    C  Southampton   yes  False  \n",
              "4    man        True  NaN  Southampton    no   True  "
            ],
            "text/html": [
              "\n",
              "  <div id=\"df-c25005b2-504b-4847-9c6a-c5bfa4dd5569\" class=\"colab-df-container\">\n",
              "    <div>\n",
              "<style scoped>\n",
              "    .dataframe tbody tr th:only-of-type {\n",
              "        vertical-align: middle;\n",
              "    }\n",
              "\n",
              "    .dataframe tbody tr th {\n",
              "        vertical-align: top;\n",
              "    }\n",
              "\n",
              "    .dataframe thead th {\n",
              "        text-align: right;\n",
              "    }\n",
              "</style>\n",
              "<table border=\"1\" class=\"dataframe\">\n",
              "  <thead>\n",
              "    <tr style=\"text-align: right;\">\n",
              "      <th></th>\n",
              "      <th>survived</th>\n",
              "      <th>pclass</th>\n",
              "      <th>sex</th>\n",
              "      <th>age</th>\n",
              "      <th>sibsp</th>\n",
              "      <th>parch</th>\n",
              "      <th>fare</th>\n",
              "      <th>embarked</th>\n",
              "      <th>class</th>\n",
              "      <th>who</th>\n",
              "      <th>adult_male</th>\n",
              "      <th>deck</th>\n",
              "      <th>embark_town</th>\n",
              "      <th>alive</th>\n",
              "      <th>alone</th>\n",
              "    </tr>\n",
              "  </thead>\n",
              "  <tbody>\n",
              "    <tr>\n",
              "      <th>0</th>\n",
              "      <td>0</td>\n",
              "      <td>3</td>\n",
              "      <td>male</td>\n",
              "      <td>22.0</td>\n",
              "      <td>1</td>\n",
              "      <td>0</td>\n",
              "      <td>7.2500</td>\n",
              "      <td>S</td>\n",
              "      <td>Third</td>\n",
              "      <td>man</td>\n",
              "      <td>True</td>\n",
              "      <td>NaN</td>\n",
              "      <td>Southampton</td>\n",
              "      <td>no</td>\n",
              "      <td>False</td>\n",
              "    </tr>\n",
              "    <tr>\n",
              "      <th>1</th>\n",
              "      <td>1</td>\n",
              "      <td>1</td>\n",
              "      <td>female</td>\n",
              "      <td>38.0</td>\n",
              "      <td>1</td>\n",
              "      <td>0</td>\n",
              "      <td>71.2833</td>\n",
              "      <td>C</td>\n",
              "      <td>First</td>\n",
              "      <td>woman</td>\n",
              "      <td>False</td>\n",
              "      <td>C</td>\n",
              "      <td>Cherbourg</td>\n",
              "      <td>yes</td>\n",
              "      <td>False</td>\n",
              "    </tr>\n",
              "    <tr>\n",
              "      <th>2</th>\n",
              "      <td>1</td>\n",
              "      <td>3</td>\n",
              "      <td>female</td>\n",
              "      <td>26.0</td>\n",
              "      <td>0</td>\n",
              "      <td>0</td>\n",
              "      <td>7.9250</td>\n",
              "      <td>S</td>\n",
              "      <td>Third</td>\n",
              "      <td>woman</td>\n",
              "      <td>False</td>\n",
              "      <td>NaN</td>\n",
              "      <td>Southampton</td>\n",
              "      <td>yes</td>\n",
              "      <td>True</td>\n",
              "    </tr>\n",
              "    <tr>\n",
              "      <th>3</th>\n",
              "      <td>1</td>\n",
              "      <td>1</td>\n",
              "      <td>female</td>\n",
              "      <td>35.0</td>\n",
              "      <td>1</td>\n",
              "      <td>0</td>\n",
              "      <td>53.1000</td>\n",
              "      <td>S</td>\n",
              "      <td>First</td>\n",
              "      <td>woman</td>\n",
              "      <td>False</td>\n",
              "      <td>C</td>\n",
              "      <td>Southampton</td>\n",
              "      <td>yes</td>\n",
              "      <td>False</td>\n",
              "    </tr>\n",
              "    <tr>\n",
              "      <th>4</th>\n",
              "      <td>0</td>\n",
              "      <td>3</td>\n",
              "      <td>male</td>\n",
              "      <td>35.0</td>\n",
              "      <td>0</td>\n",
              "      <td>0</td>\n",
              "      <td>8.0500</td>\n",
              "      <td>S</td>\n",
              "      <td>Third</td>\n",
              "      <td>man</td>\n",
              "      <td>True</td>\n",
              "      <td>NaN</td>\n",
              "      <td>Southampton</td>\n",
              "      <td>no</td>\n",
              "      <td>True</td>\n",
              "    </tr>\n",
              "  </tbody>\n",
              "</table>\n",
              "</div>\n",
              "    <div class=\"colab-df-buttons\">\n",
              "\n",
              "  <div class=\"colab-df-container\">\n",
              "    <button class=\"colab-df-convert\" onclick=\"convertToInteractive('df-c25005b2-504b-4847-9c6a-c5bfa4dd5569')\"\n",
              "            title=\"Convert this dataframe to an interactive table.\"\n",
              "            style=\"display:none;\">\n",
              "\n",
              "  <svg xmlns=\"http://www.w3.org/2000/svg\" height=\"24px\" viewBox=\"0 -960 960 960\">\n",
              "    <path d=\"M120-120v-720h720v720H120Zm60-500h600v-160H180v160Zm220 220h160v-160H400v160Zm0 220h160v-160H400v160ZM180-400h160v-160H180v160Zm440 0h160v-160H620v160ZM180-180h160v-160H180v160Zm440 0h160v-160H620v160Z\"/>\n",
              "  </svg>\n",
              "    </button>\n",
              "\n",
              "  <style>\n",
              "    .colab-df-container {\n",
              "      display:flex;\n",
              "      gap: 12px;\n",
              "    }\n",
              "\n",
              "    .colab-df-convert {\n",
              "      background-color: #E8F0FE;\n",
              "      border: none;\n",
              "      border-radius: 50%;\n",
              "      cursor: pointer;\n",
              "      display: none;\n",
              "      fill: #1967D2;\n",
              "      height: 32px;\n",
              "      padding: 0 0 0 0;\n",
              "      width: 32px;\n",
              "    }\n",
              "\n",
              "    .colab-df-convert:hover {\n",
              "      background-color: #E2EBFA;\n",
              "      box-shadow: 0px 1px 2px rgba(60, 64, 67, 0.3), 0px 1px 3px 1px rgba(60, 64, 67, 0.15);\n",
              "      fill: #174EA6;\n",
              "    }\n",
              "\n",
              "    .colab-df-buttons div {\n",
              "      margin-bottom: 4px;\n",
              "    }\n",
              "\n",
              "    [theme=dark] .colab-df-convert {\n",
              "      background-color: #3B4455;\n",
              "      fill: #D2E3FC;\n",
              "    }\n",
              "\n",
              "    [theme=dark] .colab-df-convert:hover {\n",
              "      background-color: #434B5C;\n",
              "      box-shadow: 0px 1px 3px 1px rgba(0, 0, 0, 0.15);\n",
              "      filter: drop-shadow(0px 1px 2px rgba(0, 0, 0, 0.3));\n",
              "      fill: #FFFFFF;\n",
              "    }\n",
              "  </style>\n",
              "\n",
              "    <script>\n",
              "      const buttonEl =\n",
              "        document.querySelector('#df-c25005b2-504b-4847-9c6a-c5bfa4dd5569 button.colab-df-convert');\n",
              "      buttonEl.style.display =\n",
              "        google.colab.kernel.accessAllowed ? 'block' : 'none';\n",
              "\n",
              "      async function convertToInteractive(key) {\n",
              "        const element = document.querySelector('#df-c25005b2-504b-4847-9c6a-c5bfa4dd5569');\n",
              "        const dataTable =\n",
              "          await google.colab.kernel.invokeFunction('convertToInteractive',\n",
              "                                                    [key], {});\n",
              "        if (!dataTable) return;\n",
              "\n",
              "        const docLinkHtml = 'Like what you see? Visit the ' +\n",
              "          '<a target=\"_blank\" href=https://colab.research.google.com/notebooks/data_table.ipynb>data table notebook</a>'\n",
              "          + ' to learn more about interactive tables.';\n",
              "        element.innerHTML = '';\n",
              "        dataTable['output_type'] = 'display_data';\n",
              "        await google.colab.output.renderOutput(dataTable, element);\n",
              "        const docLink = document.createElement('div');\n",
              "        docLink.innerHTML = docLinkHtml;\n",
              "        element.appendChild(docLink);\n",
              "      }\n",
              "    </script>\n",
              "  </div>\n",
              "\n",
              "\n",
              "<div id=\"df-a3a9915d-0bda-4be2-9448-527b6b080633\">\n",
              "  <button class=\"colab-df-quickchart\" onclick=\"quickchart('df-a3a9915d-0bda-4be2-9448-527b6b080633')\"\n",
              "            title=\"Suggest charts\"\n",
              "            style=\"display:none;\">\n",
              "\n",
              "<svg xmlns=\"http://www.w3.org/2000/svg\" height=\"24px\"viewBox=\"0 0 24 24\"\n",
              "     width=\"24px\">\n",
              "    <g>\n",
              "        <path d=\"M19 3H5c-1.1 0-2 .9-2 2v14c0 1.1.9 2 2 2h14c1.1 0 2-.9 2-2V5c0-1.1-.9-2-2-2zM9 17H7v-7h2v7zm4 0h-2V7h2v10zm4 0h-2v-4h2v4z\"/>\n",
              "    </g>\n",
              "</svg>\n",
              "  </button>\n",
              "\n",
              "<style>\n",
              "  .colab-df-quickchart {\n",
              "      --bg-color: #E8F0FE;\n",
              "      --fill-color: #1967D2;\n",
              "      --hover-bg-color: #E2EBFA;\n",
              "      --hover-fill-color: #174EA6;\n",
              "      --disabled-fill-color: #AAA;\n",
              "      --disabled-bg-color: #DDD;\n",
              "  }\n",
              "\n",
              "  [theme=dark] .colab-df-quickchart {\n",
              "      --bg-color: #3B4455;\n",
              "      --fill-color: #D2E3FC;\n",
              "      --hover-bg-color: #434B5C;\n",
              "      --hover-fill-color: #FFFFFF;\n",
              "      --disabled-bg-color: #3B4455;\n",
              "      --disabled-fill-color: #666;\n",
              "  }\n",
              "\n",
              "  .colab-df-quickchart {\n",
              "    background-color: var(--bg-color);\n",
              "    border: none;\n",
              "    border-radius: 50%;\n",
              "    cursor: pointer;\n",
              "    display: none;\n",
              "    fill: var(--fill-color);\n",
              "    height: 32px;\n",
              "    padding: 0;\n",
              "    width: 32px;\n",
              "  }\n",
              "\n",
              "  .colab-df-quickchart:hover {\n",
              "    background-color: var(--hover-bg-color);\n",
              "    box-shadow: 0 1px 2px rgba(60, 64, 67, 0.3), 0 1px 3px 1px rgba(60, 64, 67, 0.15);\n",
              "    fill: var(--button-hover-fill-color);\n",
              "  }\n",
              "\n",
              "  .colab-df-quickchart-complete:disabled,\n",
              "  .colab-df-quickchart-complete:disabled:hover {\n",
              "    background-color: var(--disabled-bg-color);\n",
              "    fill: var(--disabled-fill-color);\n",
              "    box-shadow: none;\n",
              "  }\n",
              "\n",
              "  .colab-df-spinner {\n",
              "    border: 2px solid var(--fill-color);\n",
              "    border-color: transparent;\n",
              "    border-bottom-color: var(--fill-color);\n",
              "    animation:\n",
              "      spin 1s steps(1) infinite;\n",
              "  }\n",
              "\n",
              "  @keyframes spin {\n",
              "    0% {\n",
              "      border-color: transparent;\n",
              "      border-bottom-color: var(--fill-color);\n",
              "      border-left-color: var(--fill-color);\n",
              "    }\n",
              "    20% {\n",
              "      border-color: transparent;\n",
              "      border-left-color: var(--fill-color);\n",
              "      border-top-color: var(--fill-color);\n",
              "    }\n",
              "    30% {\n",
              "      border-color: transparent;\n",
              "      border-left-color: var(--fill-color);\n",
              "      border-top-color: var(--fill-color);\n",
              "      border-right-color: var(--fill-color);\n",
              "    }\n",
              "    40% {\n",
              "      border-color: transparent;\n",
              "      border-right-color: var(--fill-color);\n",
              "      border-top-color: var(--fill-color);\n",
              "    }\n",
              "    60% {\n",
              "      border-color: transparent;\n",
              "      border-right-color: var(--fill-color);\n",
              "    }\n",
              "    80% {\n",
              "      border-color: transparent;\n",
              "      border-right-color: var(--fill-color);\n",
              "      border-bottom-color: var(--fill-color);\n",
              "    }\n",
              "    90% {\n",
              "      border-color: transparent;\n",
              "      border-bottom-color: var(--fill-color);\n",
              "    }\n",
              "  }\n",
              "</style>\n",
              "\n",
              "  <script>\n",
              "    async function quickchart(key) {\n",
              "      const quickchartButtonEl =\n",
              "        document.querySelector('#' + key + ' button');\n",
              "      quickchartButtonEl.disabled = true;  // To prevent multiple clicks.\n",
              "      quickchartButtonEl.classList.add('colab-df-spinner');\n",
              "      try {\n",
              "        const charts = await google.colab.kernel.invokeFunction(\n",
              "            'suggestCharts', [key], {});\n",
              "      } catch (error) {\n",
              "        console.error('Error during call to suggestCharts:', error);\n",
              "      }\n",
              "      quickchartButtonEl.classList.remove('colab-df-spinner');\n",
              "      quickchartButtonEl.classList.add('colab-df-quickchart-complete');\n",
              "    }\n",
              "    (() => {\n",
              "      let quickchartButtonEl =\n",
              "        document.querySelector('#df-a3a9915d-0bda-4be2-9448-527b6b080633 button');\n",
              "      quickchartButtonEl.style.display =\n",
              "        google.colab.kernel.accessAllowed ? 'block' : 'none';\n",
              "    })();\n",
              "  </script>\n",
              "</div>\n",
              "\n",
              "    </div>\n",
              "  </div>\n"
            ],
            "application/vnd.google.colaboratory.intrinsic+json": {
              "type": "dataframe",
              "variable_name": "titanic",
              "summary": "{\n  \"name\": \"titanic\",\n  \"rows\": 891,\n  \"fields\": [\n    {\n      \"column\": \"survived\",\n      \"properties\": {\n        \"dtype\": \"number\",\n        \"std\": 0,\n        \"min\": 0,\n        \"max\": 1,\n        \"num_unique_values\": 2,\n        \"samples\": [\n          1,\n          0\n        ],\n        \"semantic_type\": \"\",\n        \"description\": \"\"\n      }\n    },\n    {\n      \"column\": \"pclass\",\n      \"properties\": {\n        \"dtype\": \"number\",\n        \"std\": 0,\n        \"min\": 1,\n        \"max\": 3,\n        \"num_unique_values\": 3,\n        \"samples\": [\n          3,\n          1\n        ],\n        \"semantic_type\": \"\",\n        \"description\": \"\"\n      }\n    },\n    {\n      \"column\": \"sex\",\n      \"properties\": {\n        \"dtype\": \"category\",\n        \"num_unique_values\": 2,\n        \"samples\": [\n          \"female\",\n          \"male\"\n        ],\n        \"semantic_type\": \"\",\n        \"description\": \"\"\n      }\n    },\n    {\n      \"column\": \"age\",\n      \"properties\": {\n        \"dtype\": \"number\",\n        \"std\": 14.526497332334042,\n        \"min\": 0.42,\n        \"max\": 80.0,\n        \"num_unique_values\": 88,\n        \"samples\": [\n          0.75,\n          22.0\n        ],\n        \"semantic_type\": \"\",\n        \"description\": \"\"\n      }\n    },\n    {\n      \"column\": \"sibsp\",\n      \"properties\": {\n        \"dtype\": \"number\",\n        \"std\": 1,\n        \"min\": 0,\n        \"max\": 8,\n        \"num_unique_values\": 7,\n        \"samples\": [\n          1,\n          0\n        ],\n        \"semantic_type\": \"\",\n        \"description\": \"\"\n      }\n    },\n    {\n      \"column\": \"parch\",\n      \"properties\": {\n        \"dtype\": \"number\",\n        \"std\": 0,\n        \"min\": 0,\n        \"max\": 6,\n        \"num_unique_values\": 7,\n        \"samples\": [\n          0,\n          1\n        ],\n        \"semantic_type\": \"\",\n        \"description\": \"\"\n      }\n    },\n    {\n      \"column\": \"fare\",\n      \"properties\": {\n        \"dtype\": \"number\",\n        \"std\": 49.6934285971809,\n        \"min\": 0.0,\n        \"max\": 512.3292,\n        \"num_unique_values\": 248,\n        \"samples\": [\n          11.2417,\n          51.8625\n        ],\n        \"semantic_type\": \"\",\n        \"description\": \"\"\n      }\n    },\n    {\n      \"column\": \"embarked\",\n      \"properties\": {\n        \"dtype\": \"category\",\n        \"num_unique_values\": 3,\n        \"samples\": [\n          \"S\",\n          \"C\"\n        ],\n        \"semantic_type\": \"\",\n        \"description\": \"\"\n      }\n    },\n    {\n      \"column\": \"class\",\n      \"properties\": {\n        \"dtype\": \"category\",\n        \"num_unique_values\": 3,\n        \"samples\": [\n          \"Third\",\n          \"First\"\n        ],\n        \"semantic_type\": \"\",\n        \"description\": \"\"\n      }\n    },\n    {\n      \"column\": \"who\",\n      \"properties\": {\n        \"dtype\": \"category\",\n        \"num_unique_values\": 3,\n        \"samples\": [\n          \"man\",\n          \"woman\"\n        ],\n        \"semantic_type\": \"\",\n        \"description\": \"\"\n      }\n    },\n    {\n      \"column\": \"adult_male\",\n      \"properties\": {\n        \"dtype\": \"boolean\",\n        \"num_unique_values\": 2,\n        \"samples\": [\n          false,\n          true\n        ],\n        \"semantic_type\": \"\",\n        \"description\": \"\"\n      }\n    },\n    {\n      \"column\": \"deck\",\n      \"properties\": {\n        \"dtype\": \"category\",\n        \"num_unique_values\": 7,\n        \"samples\": [\n          \"C\",\n          \"E\"\n        ],\n        \"semantic_type\": \"\",\n        \"description\": \"\"\n      }\n    },\n    {\n      \"column\": \"embark_town\",\n      \"properties\": {\n        \"dtype\": \"category\",\n        \"num_unique_values\": 3,\n        \"samples\": [\n          \"Southampton\",\n          \"Cherbourg\"\n        ],\n        \"semantic_type\": \"\",\n        \"description\": \"\"\n      }\n    },\n    {\n      \"column\": \"alive\",\n      \"properties\": {\n        \"dtype\": \"category\",\n        \"num_unique_values\": 2,\n        \"samples\": [\n          \"yes\",\n          \"no\"\n        ],\n        \"semantic_type\": \"\",\n        \"description\": \"\"\n      }\n    },\n    {\n      \"column\": \"alone\",\n      \"properties\": {\n        \"dtype\": \"boolean\",\n        \"num_unique_values\": 2,\n        \"samples\": [\n          true,\n          false\n        ],\n        \"semantic_type\": \"\",\n        \"description\": \"\"\n      }\n    }\n  ]\n}"
            }
          },
          "metadata": {},
          "execution_count": 34
        }
      ]
    },
    {
      "cell_type": "code",
      "source": [
        "import numpy as np\n",
        "\n",
        "ar = np.arange(200,301)\n",
        "print(ar, type(ar))"
      ],
      "metadata": {
        "colab": {
          "base_uri": "https://localhost:8080/"
        },
        "id": "FvXY7rU5vqdm",
        "outputId": "d3decd32-bb94-47e6-ccf9-dd27a218d187"
      },
      "execution_count": null,
      "outputs": [
        {
          "output_type": "stream",
          "name": "stdout",
          "text": [
            "[200 201 202 203 204 205 206 207 208 209 210 211 212 213 214 215 216 217\n",
            " 218 219 220 221 222 223 224 225 226 227 228 229 230 231 232 233 234 235\n",
            " 236 237 238 239 240 241 242 243 244 245 246 247 248 249 250 251 252 253\n",
            " 254 255 256 257 258 259 260 261 262 263 264 265 266 267 268 269 270 271\n",
            " 272 273 274 275 276 277 278 279 280 281 282 283 284 285 286 287 288 289\n",
            " 290 291 292 293 294 295 296 297 298 299 300] <class 'numpy.ndarray'>\n"
          ]
        }
      ]
    },
    {
      "cell_type": "code",
      "source": [],
      "metadata": {
        "id": "P3tn3yV_xS2m"
      },
      "execution_count": null,
      "outputs": []
    },
    {
      "cell_type": "code",
      "source": [
        "# 가변적인 인자\n",
        "\n",
        "import numpy as np\n",
        "\n",
        "def sum(*args):\n",
        "    sum = 0\n",
        "    for i in args:\n",
        "        sum += i\n",
        "    return sum\n",
        "\n",
        "sum(200, 201, 202, 203, 204, 205, 206, 207, 208, 209, 210, 211, 212,\n",
        "       213, 214, 215, 216, 217, 218, 219, 220, 221, 222, 223, 224, 225,\n",
        "       226, 227, 228, 229, 230, 231, 232, 233, 234, 235, 236, 237, 238,\n",
        "       239, 240, 241, 242, 243, 244, 245, 246, 247, 248, 249, 250, 251,\n",
        "       252, 253, 254, 255, 256, 257, 258, 259, 260, 261, 262, 263, 264,\n",
        "       265, 266, 267, 268, 269, 270, 271, 272, 273, 274, 275, 276, 277,\n",
        "       278, 279, 280, 281, 282, 283, 284, 285, 286, 287, 288, 289, 290,\n",
        "       291, 292, 293, 294, 295, 296, 297, 298, 299, 300)\n",
        "\n"
      ],
      "metadata": {
        "colab": {
          "base_uri": "https://localhost:8080/"
        },
        "id": "6K2C4mfWwTSs",
        "outputId": "768adceb-068b-4296-c66a-fe8fce27909b"
      },
      "execution_count": null,
      "outputs": [
        {
          "output_type": "execute_result",
          "data": {
            "text/plain": [
              "25250"
            ]
          },
          "metadata": {},
          "execution_count": 43
        }
      ]
    },
    {
      "cell_type": "markdown",
      "source": [
        "# 람다 함수 연습"
      ],
      "metadata": {
        "id": "Bs-A4EQsxkp8"
      }
    },
    {
      "cell_type": "code",
      "source": [
        "sum = lambda a,b : a + b\n",
        "sum(3,5)"
      ],
      "metadata": {
        "colab": {
          "base_uri": "https://localhost:8080/"
        },
        "id": "ZuCeypk8xFS9",
        "outputId": "c4edc6d6-7c9d-47fe-e408-81b4d9f9bf89"
      },
      "execution_count": null,
      "outputs": [
        {
          "output_type": "execute_result",
          "data": {
            "text/plain": [
              "8"
            ]
          },
          "metadata": {},
          "execution_count": 45
        }
      ]
    },
    {
      "cell_type": "code",
      "source": [
        "def sum(a,b):\n",
        "    return a + b\n",
        "\n",
        "print(sum(3,5))"
      ],
      "metadata": {
        "colab": {
          "base_uri": "https://localhost:8080/"
        },
        "id": "as70vFdVxrvN",
        "outputId": "6ea69fee-a75a-4f3c-c549-fe326c40a8be"
      },
      "execution_count": null,
      "outputs": [
        {
          "output_type": "stream",
          "name": "stdout",
          "text": [
            "8\n"
          ]
        }
      ]
    },
    {
      "cell_type": "code",
      "source": [
        "myList = [lambda a,b : a + b , lambda a,b : a*b]\n",
        "\n",
        "print(myList[0](3,5))\n",
        "print(myList[1](3,5))\n"
      ],
      "metadata": {
        "colab": {
          "base_uri": "https://localhost:8080/"
        },
        "id": "yyicprdaxyJV",
        "outputId": "1b3eaf62-abaa-40ef-a0bd-f1fd775df208"
      },
      "execution_count": null,
      "outputs": [
        {
          "output_type": "stream",
          "name": "stdout",
          "text": [
            "8\n",
            "15\n"
          ]
        }
      ]
    },
    {
      "cell_type": "code",
      "source": [
        "myList = [lambda a,b : a + b , lambda a,b : a - b , lambda a,b : a*b , lambda a,b : a/b]\n",
        "\n",
        "for i in myList:\n",
        "    print(i(1,2))"
      ],
      "metadata": {
        "colab": {
          "base_uri": "https://localhost:8080/"
        },
        "id": "o_TealevyXs-",
        "outputId": "9e116695-3040-4745-c445-149fbad4c42d"
      },
      "execution_count": null,
      "outputs": [
        {
          "output_type": "stream",
          "name": "stdout",
          "text": [
            "3\n",
            "-1\n",
            "2\n",
            "0.5\n"
          ]
        }
      ]
    },
    {
      "cell_type": "markdown",
      "source": [
        "Task2_0509.  람다함수와 적합한 내장함수를 사용하여 아래와 같이 출력하세요.\n",
        "\n",
        "[1,2,3,4,5] -> [1,4,9,16,25]\\\n",
        "[1,2,3,4,5] -> [1,2]"
      ],
      "metadata": {
        "id": "OytxHLdFzTZU"
      }
    },
    {
      "cell_type": "code",
      "source": [
        "numbers = [1,2,3,4,5]\n",
        "multiply = lambda x : x * x\n",
        "result = list(map(multiply , numbers))\n",
        "\n",
        "print(result)"
      ],
      "metadata": {
        "colab": {
          "base_uri": "https://localhost:8080/"
        },
        "id": "m21SmFYNMARI",
        "outputId": "65f6aaa3-983a-437e-a125-f965e959db27"
      },
      "execution_count": null,
      "outputs": [
        {
          "output_type": "stream",
          "name": "stdout",
          "text": [
            "[1, 4, 9, 16, 25]\n"
          ]
        }
      ]
    },
    {
      "cell_type": "code",
      "source": [
        "num = []\n",
        "\n",
        "for i in range(1,6):\n",
        "    num.append(i)\n",
        "print([i*i for i in range(1,6)])"
      ],
      "metadata": {
        "colab": {
          "base_uri": "https://localhost:8080/"
        },
        "id": "CtWngKeiYTvR",
        "outputId": "027ef0cf-dfe8-4a38-ee30-ede11c8d90ec"
      },
      "execution_count": null,
      "outputs": [
        {
          "output_type": "stream",
          "name": "stdout",
          "text": [
            "[1, 4, 9, 16, 25]\n"
          ]
        }
      ]
    },
    {
      "cell_type": "code",
      "source": [
        "numbers = [1,2,3,4,5]\n",
        "\n",
        "print(numbers[:2])\n",
        "print(numbers[:-3])"
      ],
      "metadata": {
        "colab": {
          "base_uri": "https://localhost:8080/"
        },
        "id": "8PcMpMKfQc6f",
        "outputId": "f01110fe-ef4c-4e6d-e502-8b2c35634d2c"
      },
      "execution_count": null,
      "outputs": [
        {
          "output_type": "stream",
          "name": "stdout",
          "text": [
            "[1, 2]\n",
            "[1, 2]\n"
          ]
        }
      ]
    },
    {
      "cell_type": "code",
      "source": [
        "# 문제 해결\n",
        "\n",
        "numbers = [1,2,3,4,5]\n",
        "\n",
        "result1 = list(map(lambda x  : x**2 , numbers))\n",
        "print(result1)\n",
        "result2 = list(filter(lambda x : x < 3 , numbers))\n",
        "print(result2)"
      ],
      "metadata": {
        "colab": {
          "base_uri": "https://localhost:8080/"
        },
        "id": "asg_gkxz7Tsd",
        "outputId": "82850f23-2f4f-492b-cc2e-9bec55d177e1"
      },
      "execution_count": null,
      "outputs": [
        {
          "output_type": "stream",
          "name": "stdout",
          "text": [
            "[1, 4, 9, 16, 25]\n",
            "[1, 2]\n"
          ]
        }
      ]
    },
    {
      "cell_type": "markdown",
      "source": [
        "Task3_0509. [1,-3,2,0,-5,6] 에서 양수만 필터링해서 출력하세요(내장함수, 사용자함수 각각 이용)"
      ],
      "metadata": {
        "id": "zPgOgFAHzUFw"
      }
    },
    {
      "cell_type": "code",
      "source": [
        "numbers = [1,-3,2,0,-5,6]\n",
        "list1 = []\n",
        "\n",
        "for i in numbers:\n",
        "    if i > 0:\n",
        "        list1.append(i)\n",
        "print(list1)"
      ],
      "metadata": {
        "colab": {
          "base_uri": "https://localhost:8080/"
        },
        "id": "jDsXRzr2Spyf",
        "outputId": "e6db0597-e6c2-4062-e9cb-730c775481bd"
      },
      "execution_count": null,
      "outputs": [
        {
          "output_type": "stream",
          "name": "stdout",
          "text": [
            "[1, 2, 6]\n"
          ]
        }
      ]
    },
    {
      "cell_type": "code",
      "source": [
        "# [1,-3,2,0,-5,6] 에서 양수만 필터링해서 출력하세요(내장함수, 사용자함수 각각 이용)\n",
        "# 내장함수\n",
        "\n",
        "list2 = [1,-3,2,0,-5,6]\n",
        "result = filter(lambda x : x > 0 , list2)\n",
        "print(list(result))\n",
        "\n",
        "# 간편한 for문\n",
        "\n",
        "sample6 = [1,-3,2,0,-5,6]\n",
        "ans6_2 = [i for i in sample6 if i > 0]\n",
        "print(ans6_2)"
      ],
      "metadata": {
        "colab": {
          "base_uri": "https://localhost:8080/"
        },
        "id": "4l3T1QY174Za",
        "outputId": "79e0bc5b-ae6a-4ad6-9fb4-11b34a9bc46b"
      },
      "execution_count": null,
      "outputs": [
        {
          "output_type": "stream",
          "name": "stdout",
          "text": [
            "[1, 2, 6]\n",
            "[1, 2, 6]\n"
          ]
        }
      ]
    },
    {
      "cell_type": "markdown",
      "source": [
        "Task4_0509. **args를 이용하여 아래와 같이 출력할 수 있는 사용자 함수 func2를 작성하세요.\n",
        "\n",
        "Width: 100\\\n",
        "Height: 200\\\n",
        "Other arguments: {'color': 'red', 'thickness': 5}\n",
        "\n",
        "Width: 100\\\n",
        "Height: 200\\\n",
        "Other arguments: {'color': 'red', 'thickness': 5, 'type': 'large'}"
      ],
      "metadata": {
        "id": "wb4nR6XQ8LOR"
      }
    },
    {
      "cell_type": "code",
      "source": [
        "def func2(Width , Heigh , **kwargs):\n",
        "    print(f\"Width:{Width}\\nHeight:{Heigh}\\nOther arguments: {Other arguments}\")\n",
        "func2(100,200)\n",
        "func2(color = 'red' , thickness = 5)\n",
        "\n",
        "\n",
        "\n",
        "\n"
      ],
      "metadata": {
        "colab": {
          "base_uri": "https://localhost:8080/",
          "height": 110
        },
        "id": "2eZBwqBzVGfA",
        "outputId": "cf0efd30-7639-45ef-eef4-53b79f2886da"
      },
      "execution_count": null,
      "outputs": [
        {
          "output_type": "error",
          "ename": "SyntaxError",
          "evalue": "f-string: invalid syntax. Perhaps you forgot a comma? (<ipython-input-8-b12ef06f5ea4>, line 2)",
          "traceback": [
            "\u001b[0;36m  File \u001b[0;32m\"<ipython-input-8-b12ef06f5ea4>\"\u001b[0;36m, line \u001b[0;32m2\u001b[0m\n\u001b[0;31m    print(f\"Width:{Width}\\nHeight:{Heigh}\\nOther arguments: {Other arguments}\")\u001b[0m\n\u001b[0m    ^\u001b[0m\n\u001b[0;31mSyntaxError\u001b[0m\u001b[0;31m:\u001b[0m f-string: invalid syntax. Perhaps you forgot a comma?\n"
          ]
        }
      ]
    },
    {
      "cell_type": "code",
      "source": [
        "# 4번 문제 해결\n",
        "\n",
        "def func2 (Width , Height , **kwargs):\n",
        "    print(f'Width: {Width}')\n",
        "    print(f'Height: {Height}')\n",
        "    print(f'Other arguments: {kwargs}')\n",
        "\n",
        "func2(100,200,color = 'red' , thickness = 5)\n",
        "func2(100,200,color = 'red' , thickness = 5 , type = 'large')\n"
      ],
      "metadata": {
        "colab": {
          "base_uri": "https://localhost:8080/"
        },
        "id": "IuKNv_8382Ww",
        "outputId": "c3875495-2fb5-401c-af79-650847c8c02f"
      },
      "execution_count": null,
      "outputs": [
        {
          "output_type": "stream",
          "name": "stdout",
          "text": [
            "Width: 100\n",
            "Height: 200\n",
            "Other arguments: {'color': 'red', 'thickness': 5}\n",
            "Width: 100\n",
            "Height: 200\n",
            "Other arguments: {'color': 'red', 'thickness': 5, 'type': 'large'}\n"
          ]
        }
      ]
    },
    {
      "cell_type": "markdown",
      "source": [
        "Task5_0509. 아래와 같은 결과를 얻을 수 있도록 사용자 함수 func3를 작성하세요.\n",
        "\n",
        "Width: 100, Height: 200, Color: blue, Thickness: 1\\\n",
        "Width: 100, Height: 200, Color: red, Thickness: 15"
      ],
      "metadata": {
        "id": "P1F6s1m38OKV"
      }
    },
    {
      "cell_type": "code",
      "source": [
        "def func3(Width , Height , Color , Thickness):\n",
        "    print(f\"Width:{Width} , Height:{Height} , Color:{Color} , Thickness:{Thickness}\")\n",
        "\n",
        "func3(100 , 200, 'blue' , 1)\n",
        "func3(100 , 200, 'red' , 15)"
      ],
      "metadata": {
        "colab": {
          "base_uri": "https://localhost:8080/"
        },
        "id": "3mASQmkZaJVv",
        "outputId": "41ac5f86-b1d6-4ccd-c53a-d1b24711eb3e"
      },
      "execution_count": null,
      "outputs": [
        {
          "output_type": "stream",
          "name": "stdout",
          "text": [
            "Width:100 , Height:200 , Color:blue , Thickness:1\n",
            "Width:100 , Height:200 , Color:red , Thickness:15\n"
          ]
        }
      ]
    },
    {
      "cell_type": "markdown",
      "source": [
        "Task6_0509. 입력으로 들어오는 모든 수의 평균 값을 계산해 주는 함수를 작성한 후 1,2,3을 입력한 결과를 출력하세요."
      ],
      "metadata": {
        "id": "1Gl0HXwD8P6Q"
      }
    },
    {
      "cell_type": "code",
      "source": [
        "def average(*args):\n",
        "    return sum(args) / len(args)\n",
        "\n",
        "print(average(1,2,3))\n",
        "print(average(10,20,30))"
      ],
      "metadata": {
        "colab": {
          "base_uri": "https://localhost:8080/"
        },
        "id": "QEWVs8hg-tvX",
        "outputId": "9314e1e8-0a41-4e26-afa8-43210fbb6568"
      },
      "execution_count": null,
      "outputs": [
        {
          "output_type": "stream",
          "name": "stdout",
          "text": [
            "2.0\n",
            "20.0\n"
          ]
        }
      ]
    },
    {
      "cell_type": "markdown",
      "source": [
        "Task7_0509. 원의 면적과 둘레의 길이를 구하는 사용자 함수를 작성하여 반지름이 5와 10일때 면적과 둘레를 구하세요(반올림:round())"
      ],
      "metadata": {
        "id": "SbODUbnC8R7A"
      }
    },
    {
      "cell_type": "code",
      "source": [
        "import math\n",
        "\n",
        "def area_circumference(r):\n",
        "    area = math.pi*r*r\n",
        "    circumference = 2*math.pi*r\n",
        "    print(f\"면적: {round(area,2)}, 둘레: {round(circumference,2)}\")\n",
        "\n",
        "area_circumference(5)\n",
        "area_circumference(10)"
      ],
      "metadata": {
        "colab": {
          "base_uri": "https://localhost:8080/"
        },
        "id": "yIYNdT94BS4t",
        "outputId": "05bd741b-a493-40d6-ca18-d43b67294644"
      },
      "execution_count": null,
      "outputs": [
        {
          "output_type": "stream",
          "name": "stdout",
          "text": [
            "면적: 78.54, 둘레: 31.42\n",
            "면적: 314.16, 둘레: 62.83\n"
          ]
        }
      ]
    },
    {
      "cell_type": "markdown",
      "source": [
        "Task8_0509. 게시물의 총 건수와 한 페이지에 보여 줄 게시물 수를 입력시 총 페이지 수를 출력하는 프로그램을 작성하세요."
      ],
      "metadata": {
        "id": "PZzsiFwn8Ufr"
      }
    },
    {
      "cell_type": "code",
      "source": [
        "import math\n",
        "total = int(input(\"총 게시물 수: \"))\n",
        "show = int((input(\"한페이지 보여줄 게시물 수: \")))\n",
        "\n",
        "result = math.ceil(total/show)\n",
        "print(f'총 페이지 수는 {result} 입니다.')"
      ],
      "metadata": {
        "colab": {
          "base_uri": "https://localhost:8080/"
        },
        "id": "RHx2g27FCL7C",
        "outputId": "0878b8f1-3bdc-4477-92e0-0136b85c2c21"
      },
      "execution_count": null,
      "outputs": [
        {
          "output_type": "stream",
          "name": "stdout",
          "text": [
            "총 게시물 수: 100\n",
            "한페이지 보여줄 게시물 수: 7\n",
            "총 페이지 수는 15 입니다.\n"
          ]
        }
      ]
    },
    {
      "cell_type": "markdown",
      "source": [
        "# 사용자 함수 연습"
      ],
      "metadata": {
        "id": "uj65RPVUzhJG"
      }
    },
    {
      "cell_type": "code",
      "source": [
        "# 반복문으로 팩토리얼을 구하는 사용자\n",
        "\n",
        "import math\n",
        "\n",
        "def cal_factorial(x):\n",
        "    y = range(1,x+1)\n",
        "    return math.prod(y)\n",
        "\n",
        "print(cal_factorial(5))\n",
        "print(cal_factorial(10))"
      ],
      "metadata": {
        "colab": {
          "base_uri": "https://localhost:8080/"
        },
        "id": "u3TQUZSqzirm",
        "outputId": "93ffc411-f662-4b55-e64b-d0040488cdbd"
      },
      "execution_count": null,
      "outputs": [
        {
          "output_type": "stream",
          "name": "stdout",
          "text": [
            "120\n",
            "3628800\n"
          ]
        }
      ]
    },
    {
      "cell_type": "code",
      "source": [
        "def factorial(n):\n",
        "    result = 1\n",
        "    for i in range(1, n+1):\n",
        "        result *= i\n",
        "    return result\n",
        "\n",
        "print(factorial(5))\n",
        "print(factorial(10))"
      ],
      "metadata": {
        "colab": {
          "base_uri": "https://localhost:8080/"
        },
        "id": "Ltxm8GSq0PiK",
        "outputId": "331bba25-6ad9-4ceb-9d81-9ec15f4376c1"
      },
      "execution_count": null,
      "outputs": [
        {
          "output_type": "stream",
          "name": "stdout",
          "text": [
            "120\n",
            "3628800\n"
          ]
        }
      ]
    },
    {
      "cell_type": "code",
      "source": [
        "def add_number(n1,n2):\n",
        "    ret = n1 + n2\n",
        "    return ret\n",
        "\n",
        "def add_txt(t1,t2):\n",
        "    print(t1 + t2)\n",
        "\n",
        "ans1 =add_number(10,15)\n",
        "print(ans1)\n",
        "ans2 = add_number(20,25)\n",
        "print(ans2)\n",
        "text1 = '대한민국~'\n",
        "text2 = '만세!!'\n",
        "add_txt(text1 , text2)"
      ],
      "metadata": {
        "colab": {
          "base_uri": "https://localhost:8080/"
        },
        "id": "XnP8IaQa04jq",
        "outputId": "e1eccdcc-2cff-4c55-9b52-60d85c646763"
      },
      "execution_count": null,
      "outputs": [
        {
          "output_type": "stream",
          "name": "stdout",
          "text": [
            "25\n",
            "45\n",
            "대한민국~만세!!\n"
          ]
        }
      ]
    },
    {
      "cell_type": "code",
      "source": [
        "# 함수 인자: 기본적으로 인자 순서에 대응되는 값을 함수 코드에 대입\n",
        "\n",
        "def add_txt(t1 , t2 = '파이썬'): # t2 기본값을 대입한 기본 인자는 마지막에 위치해야함\n",
        "    print(t1+' : ' + t2)\n",
        "\n",
        "add_txt('베스트')                      # '베스트: 파이썬' 이 출력됨, t1은 베스트 , t2 는 기본값이 대입\n",
        "add_txt(t2  = '대한민국' , t1 = '1등')  # '1등 : 대한민국' 이 출력됨. 키워드 인자에 의한 값 전달. 인자의 순서는 무시"
      ],
      "metadata": {
        "colab": {
          "base_uri": "https://localhost:8080/"
        },
        "id": "zQgg4f7c16Nc",
        "outputId": "696c5f7e-c923-4058-ad75-a607cf0c6d62"
      },
      "execution_count": null,
      "outputs": [
        {
          "output_type": "stream",
          "name": "stdout",
          "text": [
            "베스트 : 파이썬\n",
            "1등 : 대한민국\n"
          ]
        }
      ]
    },
    {
      "cell_type": "code",
      "source": [
        "def func1(*args): # 인자의 개수가 불명확한 경우 가변 인자 사용. args는 함수 내부에서 튜플로 처리\n",
        "    print(args)\n",
        "\n",
        "def func2(width, heigh, **kwargs): # 킹워드 인자가 불명확한 경우 **kwargs를 사용. 함수 내부에서 사전으로 처리\n",
        "    print(width, heigh,kwargs)\n",
        "\n",
        "func1()                                    # 빈 튜플 ()이 출력됨\n",
        "func1(3,5,7)                               # (3,5,7)이 출력됨\n",
        "func2(10,20)                                # 빈 사전 {} 출력됨\n",
        "func2(10,20, depth = 50, color = 'blue')    # {'depth' : 50, 'color' : 'blue'} 이 출력됨"
      ],
      "metadata": {
        "colab": {
          "base_uri": "https://localhost:8080/"
        },
        "id": "r-yCluVl3Tkr",
        "outputId": "0aed9fc3-ebcd-4466-bf1a-6c1ef9f6b6d8"
      },
      "execution_count": null,
      "outputs": [
        {
          "output_type": "stream",
          "name": "stdout",
          "text": [
            "()\n",
            "(3, 5, 7)\n",
            "10 20 {}\n",
            "10 20 {'depth': 50, 'color': 'blue'}\n"
          ]
        }
      ]
    },
    {
      "cell_type": "code",
      "source": [
        "def func2(width, heigh, **kwargs):\n",
        "    return width, heigh, kwargs\n",
        "\n",
        "# func2(10,20)\n",
        "func2(10, 20, depth = 50, color = 'blue')\n"
      ],
      "metadata": {
        "colab": {
          "base_uri": "https://localhost:8080/"
        },
        "id": "TZE4T2Ng5Ctt",
        "outputId": "3d3d6239-d1ef-422e-e0dd-c32b1cfc1d18"
      },
      "execution_count": null,
      "outputs": [
        {
          "output_type": "execute_result",
          "data": {
            "text/plain": [
              "(10, 20, {'depth': 50, 'color': 'blue'})"
            ]
          },
          "metadata": {},
          "execution_count": 17
        }
      ]
    },
    {
      "cell_type": "code",
      "source": [
        "# 가변적인 인풋\n",
        "\n",
        "list1 = []\n",
        "\n",
        "def listchng(*args):\n",
        "    for i in args:\n",
        "        i = float(i)\n",
        "        list1.append(i)\n",
        "    return list1\n",
        "\n",
        "listchng(1,2,3,4,5)\n"
      ],
      "metadata": {
        "colab": {
          "base_uri": "https://localhost:8080/"
        },
        "id": "BMsPJZ4E5hO3",
        "outputId": "1ab6c466-fdfe-475b-b6bf-3f688a8f7367"
      },
      "execution_count": null,
      "outputs": [
        {
          "output_type": "execute_result",
          "data": {
            "text/plain": [
              "[1.0, 2.0, 3.0, 4.0, 5.0]"
            ]
          },
          "metadata": {},
          "execution_count": 13
        }
      ]
    },
    {
      "cell_type": "markdown",
      "source": [
        "# 함수 유형\n",
        "- 인자와 리턴값 여부에 따른 함수 유형"
      ],
      "metadata": {
        "id": "_MYfMW5p8poC"
      }
    },
    {
      "cell_type": "code",
      "source": [
        "# 입력값이 없고 결과값만 있는 함수\n",
        "\n",
        "def say():\n",
        "    return 'Hi'\n",
        "\n",
        "a  = say()\n",
        "print(a)"
      ],
      "metadata": {
        "colab": {
          "base_uri": "https://localhost:8080/"
        },
        "id": "X9trdeJ38ttU",
        "outputId": "ba7fc956-a2c7-48ed-819b-fabcb3f42230"
      },
      "execution_count": null,
      "outputs": [
        {
          "output_type": "stream",
          "name": "stdout",
          "text": [
            "Hi\n"
          ]
        }
      ]
    },
    {
      "cell_type": "code",
      "source": [
        "# 입력값은 있고 결과값이 없는 함수\n",
        "# 결과값은 오직 return 명령어로만 돌려 받을수 있음\n",
        "\n",
        "def add(a,b):\n",
        "    print('%d, %d의 합은 %d입니다' %(a,b,a+b))\n",
        "\n",
        "# add(3,4)\n",
        "a = add(3,4)\n",
        "print(a)"
      ],
      "metadata": {
        "colab": {
          "base_uri": "https://localhost:8080/"
        },
        "id": "sCf7R5vE9EaB",
        "outputId": "ed46edca-1a50-4f1a-bbc1-ad198355ff20"
      },
      "execution_count": null,
      "outputs": [
        {
          "output_type": "stream",
          "name": "stdout",
          "text": [
            "3, 4의 합은 7입니다\n",
            "None\n"
          ]
        }
      ]
    },
    {
      "cell_type": "code",
      "source": [
        "# 입력값도 결과값도 없는 함수\n",
        "\n",
        "def say():\n",
        "    print('Hi')\n",
        "\n",
        "a = say()\n",
        "print(a)"
      ],
      "metadata": {
        "colab": {
          "base_uri": "https://localhost:8080/"
        },
        "id": "dLTx87bs9lha",
        "outputId": "6dec913d-760e-4a67-a8c7-528770a46eac"
      },
      "execution_count": null,
      "outputs": [
        {
          "output_type": "stream",
          "name": "stdout",
          "text": [
            "Hi\n",
            "None\n"
          ]
        }
      ]
    },
    {
      "cell_type": "code",
      "source": [
        "# 입력값 , 결과값이 모두 있는 함수\n",
        "\n",
        "def add(a,b):\n",
        "    return a+b\n",
        "\n",
        "a = add(3,4)\n",
        "print(a)\n",
        "# add(3,4)"
      ],
      "metadata": {
        "colab": {
          "base_uri": "https://localhost:8080/"
        },
        "id": "kDoEdOeA91Wm",
        "outputId": "1c4d6536-666a-4e46-ddf7-75d2668bf1af"
      },
      "execution_count": null,
      "outputs": [
        {
          "output_type": "stream",
          "name": "stdout",
          "text": [
            "7\n"
          ]
        }
      ]
    },
    {
      "cell_type": "code",
      "source": [
        "def max(a,b,c):\n",
        "    if a > b:\n",
        "        if a > c:\n",
        "            return a\n",
        "        elif a < c:\n",
        "            return c\n",
        "    if a < b:\n",
        "        if b > c:\n",
        "            return b\n",
        "        else:\n",
        "            return c\n",
        "\n",
        "print(\"가장 큰 수는 %d입니다.\" %(max(20,1,30)))\n",
        "max(10,20,30)"
      ],
      "metadata": {
        "colab": {
          "base_uri": "https://localhost:8080/"
        },
        "id": "wLpL95FJ-OQJ",
        "outputId": "40f6a724-c4ef-4aa9-b6d3-4fa3ec10e1b9"
      },
      "execution_count": null,
      "outputs": [
        {
          "output_type": "stream",
          "name": "stdout",
          "text": [
            "가장 큰 수는 30입니다.\n"
          ]
        },
        {
          "output_type": "execute_result",
          "data": {
            "text/plain": [
              "30"
            ]
          },
          "metadata": {},
          "execution_count": 45
        }
      ]
    },
    {
      "cell_type": "markdown",
      "source": [
        "Task9_0509. 위의 문제를 *args를 사용한 사용자 함수 bignum을 작성하여 bignum(20,1,30)과 bignum(20,10,50,70, 100)의 결과를 출력하세요."
      ],
      "metadata": {
        "id": "b0HXf9tH_ZsA"
      }
    },
    {
      "cell_type": "code",
      "source": [
        "def bignum(*args):\n",
        "    return max(args)\n",
        "\n",
        "print(bignum(20,1,30))\n",
        "print(bignum(20,10,50,70,100))"
      ],
      "metadata": {
        "colab": {
          "base_uri": "https://localhost:8080/",
          "height": 329
        },
        "id": "pLJXYW-PDP1H",
        "outputId": "e32340de-e4b4-49dc-ecd7-e4ee40fcf02a"
      },
      "execution_count": null,
      "outputs": [
        {
          "output_type": "error",
          "ename": "TypeError",
          "evalue": "max() missing 2 required positional arguments: 'b' and 'c'",
          "traceback": [
            "\u001b[0;31m---------------------------------------------------------------------------\u001b[0m",
            "\u001b[0;31mTypeError\u001b[0m                                 Traceback (most recent call last)",
            "\u001b[0;32m<ipython-input-46-50337c1c3e2b>\u001b[0m in \u001b[0;36m<cell line: 4>\u001b[0;34m()\u001b[0m\n\u001b[1;32m      2\u001b[0m     \u001b[0;32mreturn\u001b[0m \u001b[0mmax\u001b[0m\u001b[0;34m(\u001b[0m\u001b[0margs\u001b[0m\u001b[0;34m)\u001b[0m\u001b[0;34m\u001b[0m\u001b[0;34m\u001b[0m\u001b[0m\n\u001b[1;32m      3\u001b[0m \u001b[0;34m\u001b[0m\u001b[0m\n\u001b[0;32m----> 4\u001b[0;31m \u001b[0mprint\u001b[0m\u001b[0;34m(\u001b[0m\u001b[0mbignum\u001b[0m\u001b[0;34m(\u001b[0m\u001b[0;36m20\u001b[0m\u001b[0;34m,\u001b[0m\u001b[0;36m1\u001b[0m\u001b[0;34m,\u001b[0m\u001b[0;36m30\u001b[0m\u001b[0;34m)\u001b[0m\u001b[0;34m)\u001b[0m\u001b[0;34m\u001b[0m\u001b[0;34m\u001b[0m\u001b[0m\n\u001b[0m\u001b[1;32m      5\u001b[0m \u001b[0mprint\u001b[0m\u001b[0;34m(\u001b[0m\u001b[0mbignum\u001b[0m\u001b[0;34m(\u001b[0m\u001b[0;36m20\u001b[0m\u001b[0;34m,\u001b[0m\u001b[0;36m10\u001b[0m\u001b[0;34m,\u001b[0m\u001b[0;36m50\u001b[0m\u001b[0;34m,\u001b[0m\u001b[0;36m70\u001b[0m\u001b[0;34m,\u001b[0m\u001b[0;36m100\u001b[0m\u001b[0;34m)\u001b[0m\u001b[0;34m)\u001b[0m\u001b[0;34m\u001b[0m\u001b[0;34m\u001b[0m\u001b[0m\n",
            "\u001b[0;32m<ipython-input-46-50337c1c3e2b>\u001b[0m in \u001b[0;36mbignum\u001b[0;34m(*args)\u001b[0m\n\u001b[1;32m      1\u001b[0m \u001b[0;32mdef\u001b[0m \u001b[0mbignum\u001b[0m\u001b[0;34m(\u001b[0m\u001b[0;34m*\u001b[0m\u001b[0margs\u001b[0m\u001b[0;34m)\u001b[0m\u001b[0;34m:\u001b[0m\u001b[0;34m\u001b[0m\u001b[0;34m\u001b[0m\u001b[0m\n\u001b[0;32m----> 2\u001b[0;31m     \u001b[0;32mreturn\u001b[0m \u001b[0mmax\u001b[0m\u001b[0;34m(\u001b[0m\u001b[0margs\u001b[0m\u001b[0;34m)\u001b[0m\u001b[0;34m\u001b[0m\u001b[0;34m\u001b[0m\u001b[0m\n\u001b[0m\u001b[1;32m      3\u001b[0m \u001b[0;34m\u001b[0m\u001b[0m\n\u001b[1;32m      4\u001b[0m \u001b[0mprint\u001b[0m\u001b[0;34m(\u001b[0m\u001b[0mbignum\u001b[0m\u001b[0;34m(\u001b[0m\u001b[0;36m20\u001b[0m\u001b[0;34m,\u001b[0m\u001b[0;36m1\u001b[0m\u001b[0;34m,\u001b[0m\u001b[0;36m30\u001b[0m\u001b[0;34m)\u001b[0m\u001b[0;34m)\u001b[0m\u001b[0;34m\u001b[0m\u001b[0;34m\u001b[0m\u001b[0m\n\u001b[1;32m      5\u001b[0m \u001b[0mprint\u001b[0m\u001b[0;34m(\u001b[0m\u001b[0mbignum\u001b[0m\u001b[0;34m(\u001b[0m\u001b[0;36m20\u001b[0m\u001b[0;34m,\u001b[0m\u001b[0;36m10\u001b[0m\u001b[0;34m,\u001b[0m\u001b[0;36m50\u001b[0m\u001b[0;34m,\u001b[0m\u001b[0;36m70\u001b[0m\u001b[0;34m,\u001b[0m\u001b[0;36m100\u001b[0m\u001b[0;34m)\u001b[0m\u001b[0;34m)\u001b[0m\u001b[0;34m\u001b[0m\u001b[0;34m\u001b[0m\u001b[0m\n",
            "\u001b[0;31mTypeError\u001b[0m: max() missing 2 required positional arguments: 'b' and 'c'"
          ]
        }
      ]
    },
    {
      "cell_type": "code",
      "source": [
        "def math(x , y , z):\n",
        "    if z == '*':\n",
        "        return x*y\n",
        "    elif z == '/':\n",
        "        return x/y\n",
        "    elif z == '+':\n",
        "        return x+y\n",
        "    elif z == '%':\n",
        "        return x%y\n",
        "    elif z == '^':\n",
        "        return x^y\n",
        "    elif z == '-':\n",
        "        return x-y\n",
        "    elif z == '//':\n",
        "        return x//y # 몫\n",
        "    else:\n",
        "        return\n",
        "\n",
        "\n",
        "print(math(int(input(\"숫자1: \")), int(input(\"숫자2: \")) , input(\"기호\")))\n",
        "# math(10,2,'//')"
      ],
      "metadata": {
        "colab": {
          "base_uri": "https://localhost:8080/"
        },
        "id": "9wvlwsFk_cxO",
        "outputId": "ce3bef50-51b8-46d6-a4aa-c3affa657ca8"
      },
      "execution_count": null,
      "outputs": [
        {
          "output_type": "stream",
          "name": "stdout",
          "text": [
            "숫자1: 20\n",
            "숫자2: 4\n",
            "기호5\n",
            "None\n"
          ]
        }
      ]
    },
    {
      "cell_type": "markdown",
      "source": [
        "Task10_0509. 위의 계산을 연산자를 choice로 가변적인 숫자들을 *args로 사용한 사용자 함수 cal을 이용하여 다음을 수행하세요.\n",
        "\n",
        "cal('*',1,2,3,4,5)\\\n",
        "cal('+',1,2,3,4,5,6,7)\\\n",
        "cal('-',1,2,3,4,5,6,7)\\\n",
        "cal('/',10,3)"
      ],
      "metadata": {
        "id": "KQ5pm_oOBmdA"
      }
    },
    {
      "cell_type": "code",
      "source": [
        "def cal(choice , *args):\n",
        "    result = args[0]\n",
        "    for i in args[1:]:\n",
        "        if choice == '+':\n",
        "            result += i\n",
        "        elif choice == '-':\n",
        "            result -= i\n",
        "        elif choice == '*':\n",
        "            result *= i\n",
        "        elif choice == '/':\n",
        "            if i == 0:\n",
        "                return print(\"오류\")\n",
        "            else:\n",
        "                result /= i\n",
        "        else:\n",
        "            return '계산 할 수 없는 기호'\n",
        "\n",
        "print(cal('*',1,2,3,4,5))\n",
        "print(cal('+',1,2,3,4,5,6,7))\n",
        "print(cal('-',1,2,3,4,5,6,7))\n",
        "print(cal('/',10,3))\n"
      ],
      "metadata": {
        "colab": {
          "base_uri": "https://localhost:8080/"
        },
        "id": "cf4xtiMODlhe",
        "outputId": "9175ef8e-ab88-4be8-9d5c-46edf08ef127"
      },
      "execution_count": null,
      "outputs": [
        {
          "output_type": "stream",
          "name": "stdout",
          "text": [
            "None\n",
            "None\n",
            "None\n",
            "None\n"
          ]
        }
      ]
    },
    {
      "cell_type": "code",
      "source": [
        "# 함수의 반환 값은 언제나 하나임 - 결과 값으로 튜플 값 하나를 갖게 됨\n",
        "\n",
        "def add_and_mul(a,b):\n",
        "    return a+b , a*b\n",
        "\n",
        "result = add_and_mul(3,4)\n",
        "print(result)"
      ],
      "metadata": {
        "colab": {
          "base_uri": "https://localhost:8080/"
        },
        "id": "S8pSb8coCLfb",
        "outputId": "2c280b8c-ff78-41fa-f8a4-c512d797daba"
      },
      "execution_count": null,
      "outputs": [
        {
          "output_type": "stream",
          "name": "stdout",
          "text": [
            "(7, 12)\n"
          ]
        }
      ]
    },
    {
      "cell_type": "markdown",
      "source": [
        "#### 지역변수와 전역변수\n",
        "- 지역변수는 함수 내부에서만 유효하고\n",
        "- 전역변수는 코드 전반에 걸쳐 유효\n",
        "- 함수의 인자는 지역변수"
      ],
      "metadata": {
        "id": "lgWIMLIQC6hK"
      }
    },
    {
      "cell_type": "code",
      "source": [
        "strdata = '전역변수'\n",
        "\n",
        "def func1():\n",
        "    strdata = '지역변수'\n",
        "    print(strdata)\n",
        "\n",
        "func1()          # '지역변수'가 출력됨"
      ],
      "metadata": {
        "colab": {
          "base_uri": "https://localhost:8080/"
        },
        "id": "3DUjhgwLC_8O",
        "outputId": "af0955bf-525c-41c2-f109-9db123c8b9df"
      },
      "execution_count": null,
      "outputs": [
        {
          "output_type": "stream",
          "name": "stdout",
          "text": [
            "지역변수\n"
          ]
        }
      ]
    },
    {
      "cell_type": "code",
      "source": [
        "print(strdata)  # '전역변수'가 출력됨"
      ],
      "metadata": {
        "colab": {
          "base_uri": "https://localhost:8080/"
        },
        "id": "zr9IMCd8DUXm",
        "outputId": "fed103b0-8168-430b-cf5e-87c65ecca822"
      },
      "execution_count": null,
      "outputs": [
        {
          "output_type": "stream",
          "name": "stdout",
          "text": [
            "전역변수\n"
          ]
        }
      ]
    },
    {
      "cell_type": "code",
      "source": [
        "param = 10\n",
        "def func2(param):\n",
        "    param = 1\n",
        "\n",
        "print(param)            # 전역변수 10이 출력됨"
      ],
      "metadata": {
        "colab": {
          "base_uri": "https://localhost:8080/"
        },
        "id": "BC_D4EXWD4yC",
        "outputId": "226a4502-22cf-43a8-a88e-94040526b305"
      },
      "execution_count": null,
      "outputs": [
        {
          "output_type": "stream",
          "name": "stdout",
          "text": [
            "10\n"
          ]
        }
      ]
    },
    {
      "cell_type": "code",
      "source": [
        "param = 10\n",
        "def func3():\n",
        "    global param    # 함수 내부에서 전역변수를 사용하려면 'global'키워드를 이용해 전역변수를 사용한다고 명시\n",
        "    param = 50\n",
        "func3()\n",
        "print(param)       # 50이 출력됨"
      ],
      "metadata": {
        "colab": {
          "base_uri": "https://localhost:8080/"
        },
        "id": "I8PjU5blETbt",
        "outputId": "be11389a-abda-4820-c999-8ba9e9a2def1"
      },
      "execution_count": null,
      "outputs": [
        {
          "output_type": "stream",
          "name": "stdout",
          "text": [
            "50\n"
          ]
        }
      ]
    },
    {
      "cell_type": "code",
      "source": [
        "\n",
        "num =\n",
        "print(num)"
      ],
      "metadata": {
        "colab": {
          "base_uri": "https://localhost:8080/",
          "height": 110
        },
        "id": "PdcQZuNiAufw",
        "outputId": "4257096e-7d05-45d9-d14f-85ca198193f0"
      },
      "execution_count": null,
      "outputs": [
        {
          "output_type": "error",
          "ename": "SyntaxError",
          "evalue": "invalid syntax (<ipython-input-6-2b1fbd5b16c2>, line 1)",
          "traceback": [
            "\u001b[0;36m  File \u001b[0;32m\"<ipython-input-6-2b1fbd5b16c2>\"\u001b[0;36m, line \u001b[0;32m1\u001b[0m\n\u001b[0;31m    num = (47 - 34)(/34)(* 100)\u001b[0m\n\u001b[0m                    ^\u001b[0m\n\u001b[0;31mSyntaxError\u001b[0m\u001b[0;31m:\u001b[0m invalid syntax\n"
          ]
        }
      ]
    },
    {
      "cell_type": "code",
      "source": [
        "if total_score >= 200:\n",
        "        print('혼잡도가 200% 이상이므로 따릉이를 적극 추천합니다.')\n",
        "    elif 160 <= total_score < 200:\n",
        "        print('혼잡도가 160% 이상이므로 지하철은 혼잡할 수 있으니 따릉이를 추천합니다')\n",
        "    elif 120 <= total_score < 160:\n",
        "        print('혼잡도가 120% 이상이므로 지하철을 이용하기에 보통입니다.')\n",
        "    elif 100 <= total_score < 120:\n",
        "        print('혼잡도가 120% 이하이므로 지하철을 이용하기에 적합합니다.')\n",
        "    else:\n",
        "        print('혼잡도가 100% 미만이므로 지하철을 이용하기에 매우 적합합니다.')"
      ],
      "metadata": {
        "id": "hlcxZyiyVCoH"
      },
      "execution_count": null,
      "outputs": []
    }
  ]
}