{
  "nbformat": 4,
  "nbformat_minor": 0,
  "metadata": {
    "colab": {
      "provenance": []
    },
    "kernelspec": {
      "name": "python3",
      "display_name": "Python 3"
    },
    "language_info": {
      "name": "python"
    }
  },
  "cells": [
    {
      "cell_type": "markdown",
      "source": [
        "제어문(control statement)은 프로그램의 흐름을 제어하는데 사용\n",
        "\n",
        "#### 조건문 (Conditional Statements):\n",
        "- if: 특정 조건이 참(True)일 때 코드 블록을 실행\n",
        "    - 조건은 비교 연산자(==, !=, <, >, <=, >=)와 논리 연산자(and, or, not)를 사용하여 표현할 수 있다\n",
        "- elif: 이전의 if 또는 elif 조건이 거짓(False)일 때 다른 조건을 검사\n",
        "    - elif는 'else if'의 축약형으로, 이전 if 또는 elif 문의 조건이 거짓(False)일 때 다른 조건을 검사\n",
        "    - 여러 elif 문을 사용하여 다양한 조건을 검사할 수 있다\n",
        "- else:\n",
        "    - 이전의 if 또는 elif 문의 조건이 모두 거짓일 때 실행할 코드 블록을 지정"
      ],
      "metadata": {
        "id": "VREaJUQT80OR"
      }
    },
    {
      "cell_type": "code",
      "source": [
        "x = 10\n",
        "if x > 5:\n",
        "    print(\"x는 5보다 큽니다\")\n",
        "elif x == 5:\n",
        "    print(\"x는 5입니다\")\n",
        "else:\n",
        "    print(\"x는 5보다 작습니다\")"
      ],
      "metadata": {
        "colab": {
          "base_uri": "https://localhost:8080/"
        },
        "id": "8lURBIv482fa",
        "outputId": "6ff2f2df-19cd-4267-9b6c-09a09615d6e8"
      },
      "execution_count": null,
      "outputs": [
        {
          "output_type": "stream",
          "name": "stdout",
          "text": [
            "x는 5보다 큽니다\n"
          ]
        }
      ]
    },
    {
      "cell_type": "code",
      "source": [
        "x = 10\n",
        "if x >=5:\n",
        "    print(\"x는 5보다 크거나 같습니다\")\n",
        "else:\n",
        "    print(\"x는 5보다 작습니다\")"
      ],
      "metadata": {
        "colab": {
          "base_uri": "https://localhost:8080/"
        },
        "id": "O2BHjhGeRwad",
        "outputId": "ab98cf78-4eb9-4462-dc19-caf50c87d1e6"
      },
      "execution_count": null,
      "outputs": [
        {
          "output_type": "stream",
          "name": "stdout",
          "text": [
            "x는 5보다 크거나 같습니다\n"
          ]
        }
      ]
    },
    {
      "cell_type": "code",
      "source": [
        "# 각 조건이 서로 독립적일때 if문을 연속해서 사용\n",
        "\n",
        "x = 10\n",
        "y = 5\n",
        "\n",
        "if x > 5:\n",
        "    print(\"x는 5보다 큽니다\")\n",
        "\n",
        "if y < 10:\n",
        "    print(\"y는 10보다 작습니다\")\n",
        "\n",
        "if x > y:\n",
        "    print(\"x는 y보다 큽니다\")"
      ],
      "metadata": {
        "colab": {
          "base_uri": "https://localhost:8080/"
        },
        "id": "imWaGxRYSHMY",
        "outputId": "c33d417b-76c8-436b-b483-dab4c9ea57e2"
      },
      "execution_count": null,
      "outputs": [
        {
          "output_type": "stream",
          "name": "stdout",
          "text": [
            "x는 5보다 큽니다\n",
            "y는 10보다 작습니다\n",
            "x는 y보다 큽니다\n"
          ]
        }
      ]
    },
    {
      "cell_type": "code",
      "source": [
        "x = 10\n",
        "y = 5\n",
        "\n",
        "if x > 5:\n",
        "    if y >= 3:\n",
        "        print(\"x는 5보다 크고 y는 3보다 크거나 같습니다\")\n",
        "    else:\n",
        "        print(\"x는 5보다 크고 y는 3보다 작습니다\")\n",
        "else:\n",
        "        print(\"x는 5보다 작거나 같습니다\")"
      ],
      "metadata": {
        "colab": {
          "base_uri": "https://localhost:8080/"
        },
        "id": "SoHmqd_yTCOU",
        "outputId": "a9e4c5da-a244-4eea-c6fd-eebbf55ed15c"
      },
      "execution_count": null,
      "outputs": [
        {
          "output_type": "stream",
          "name": "stdout",
          "text": [
            "x는 5보다 크고 y는 3보다 크거나 같습니다\n"
          ]
        }
      ]
    },
    {
      "cell_type": "code",
      "source": [
        "# Q . 이중 조건문을 사용하여 코드를 작성하세요 (조건 내용은 자유. 단, if문, if ~elif ~ else중첩하여 사용)\n",
        "\n",
        "x = 17\n",
        "y = 8\n",
        "\n",
        "if x > 17:\n",
        "    if y <= 8:\n",
        "        print(\"x는 17보다 크고 y는 8보다 작거나 같습니다\")\n",
        "elif x < 17:\n",
        "    if y >= 8:\n",
        "        print(\"x는 17보다 작고 y는 8보다 크거나 같습니다\")\n",
        "else:\n",
        "    print()"
      ],
      "metadata": {
        "colab": {
          "base_uri": "https://localhost:8080/"
        },
        "id": "b__2kpj5UVzj",
        "outputId": "eb96f3b0-d5eb-4e01-d321-c91831454210"
      },
      "execution_count": null,
      "outputs": [
        {
          "output_type": "stream",
          "name": "stdout",
          "text": [
            "\n"
          ]
        }
      ]
    },
    {
      "cell_type": "code",
      "source": [
        "# 70점 이상만 채점\n",
        "\n",
        "score = int(input(\"점수를 입력하세요: \"))\n",
        "\n",
        "if score < 70:\n",
        "    print(\"점수가 70점 미만입니다. 채점을 진행하지 않습니다.\")\n",
        "else:\n",
        "    if score >= 90:\n",
        "        print(\"A\")\n",
        "    elif score >= 80:\n",
        "        print(\"B\")\n",
        "    else:\n",
        "        print(\"C\")"
      ],
      "metadata": {
        "colab": {
          "base_uri": "https://localhost:8080/"
        },
        "id": "o4tJV7UyXwFN",
        "outputId": "66c47bb4-cf8e-4897-ead9-6cf0d30ed46b"
      },
      "execution_count": null,
      "outputs": [
        {
          "output_type": "stream",
          "name": "stdout",
          "text": [
            "점수를 입력하세요: 65\n",
            "점수가 70점 미만입니다. 채점을 진행하지 않습니다.\n"
          ]
        }
      ]
    },
    {
      "cell_type": "code",
      "source": [
        " # Q . listdata = ['a' , 'b' , 'c']\n",
        "\n",
        "listdata = ['a' , 'b' , 'c']\n",
        "\n",
        "if 'a' in listdata:\n",
        "    print('a 가 listdata에 있습니다')\n",
        "if 'b' in listdata:\n",
        "    print('b 가 listdata에 있습니다')\n",
        "if 'c' in listdata:\n",
        "    print('c 가 listdata에 있습니다')\n"
      ],
      "metadata": {
        "colab": {
          "base_uri": "https://localhost:8080/"
        },
        "id": "7iBhJF5WYYSd",
        "outputId": "501f25f9-23e3-468a-f833-fc482f2b0133"
      },
      "execution_count": null,
      "outputs": [
        {
          "output_type": "stream",
          "name": "stdout",
          "text": [
            "a 가 listdata에 있습니다\n",
            "b 가 listdata에 있습니다\n",
            "c 가 listdata에 있습니다\n"
          ]
        }
      ]
    },
    {
      "cell_type": "code",
      "source": [
        "listdata = ['a' , 'b' , 'c']\n",
        "\n",
        "for i in listdata:\n",
        "    if i in listdata:\n",
        "        print(f'{i}가 listdata에 있습니다')"
      ],
      "metadata": {
        "colab": {
          "base_uri": "https://localhost:8080/"
        },
        "id": "-szlg7R7ZFGm",
        "outputId": "b82514ce-0abd-48b6-c417-56ac152af65c"
      },
      "execution_count": null,
      "outputs": [
        {
          "output_type": "stream",
          "name": "stdout",
          "text": [
            "a가 listdata에 있습니다\n",
            "b가 listdata에 있습니다\n",
            "c가 listdata에 있습니다\n"
          ]
        }
      ]
    },
    {
      "cell_type": "code",
      "source": [
        "# Q . \"주머니에 돈이 만원이상 있으면 택시를 타고 , 돈이 없으면 걸어간다\" 를 만족하는 조건문을 사용하세요\n",
        "\n",
        "money = int(input(\"현재 가지고 있는 돈 : \"))\n",
        "\n",
        "if money >= 10000:\n",
        "    print(\"택시를 탄다\")\n",
        "\n",
        "else:\n",
        "    print(\"걸어간다\")\n"
      ],
      "metadata": {
        "colab": {
          "base_uri": "https://localhost:8080/"
        },
        "id": "nbMfCWxFaE-f",
        "outputId": "e6350e28-4f5f-42bf-b62a-1096609ac61b"
      },
      "execution_count": null,
      "outputs": [
        {
          "output_type": "stream",
          "name": "stdout",
          "text": [
            "현재 가지고 있는 돈 : 5000\n",
            "걸어간다\n"
          ]
        }
      ]
    },
    {
      "cell_type": "code",
      "source": [
        "# Q . 조건부 표현식을 한줄의 조건문으로 작성하세요.\n",
        "\n",
        "score = 70\n",
        "if score >=60:\n",
        "     massage = (\"success\")\n",
        "else:\n",
        "    message = \"failure\"\n",
        "\n",
        "print(massage)"
      ],
      "metadata": {
        "colab": {
          "base_uri": "https://localhost:8080/"
        },
        "id": "Zgtp3U0Cc9m5",
        "outputId": "f51a5330-14eb-4255-fe52-1f629ba7938c"
      },
      "execution_count": null,
      "outputs": [
        {
          "output_type": "stream",
          "name": "stdout",
          "text": [
            "success\n"
          ]
        }
      ]
    },
    {
      "cell_type": "code",
      "source": [
        "score = 70\n",
        "[\"succese\" if score >=60 else \"failure\"]"
      ],
      "metadata": {
        "colab": {
          "base_uri": "https://localhost:8080/"
        },
        "id": "0dJd46vQfWEx",
        "outputId": "3abacdb9-1a2c-4d03-d069-d1f511585791"
      },
      "execution_count": null,
      "outputs": [
        {
          "output_type": "execute_result",
          "data": {
            "text/plain": [
              "['succese']"
            ]
          },
          "metadata": {},
          "execution_count": 41
        }
      ]
    },
    {
      "cell_type": "code",
      "source": [
        "# Q . \"수입과 지출금액을 비교해서 수입이 많으면 저축증가, 반대이면 빚이 증가 , 같으면 현상유지\" 프로그램 작성\n",
        "\n",
        "income = int(input())\n",
        "spend = int(input())\n",
        "\n",
        "if income > spend:\n",
        "    print(\"저축 증가\")\n",
        "\n",
        "elif income < spend:\n",
        "    print(\"채무 증가\")\n",
        "\n",
        "else:\n",
        "    print(\"현상유지\")"
      ],
      "metadata": {
        "colab": {
          "base_uri": "https://localhost:8080/"
        },
        "id": "ZP2nz3IzgHWi",
        "outputId": "44542ec4-31af-467f-b0f5-71bca8fdf0ad"
      },
      "execution_count": null,
      "outputs": [
        {
          "output_type": "stream",
          "name": "stdout",
          "text": [
            "1000\n",
            "1000\n",
            "현상유지\n"
          ]
        }
      ]
    },
    {
      "cell_type": "markdown",
      "source": [
        "#### 반복문 (Loop Statements):\n",
        "- for: 시퀀스(리스트, 튜플, 문자열 등)의 아이템을 순회하면서 코드 블록을 실행\n",
        "- while: 특정 조건이 참인 동안 코드 블록을 반복하여 실행"
      ],
      "metadata": {
        "id": "ApHocojzhcD-"
      }
    },
    {
      "cell_type": "code",
      "source": [
        "# for 루프는 시퀀스(리스트, 튜플,문자열 등)나 반복 가능한 객체 (iterable)의 요소를 순회\n",
        "\n",
        "for i in range(5):\n",
        "    print(i, end=' ')\n",
        "print('\\n')\n",
        "count = 0\n",
        "while count < 5:\n",
        "    print(count)\n",
        "    count +=1"
      ],
      "metadata": {
        "colab": {
          "base_uri": "https://localhost:8080/"
        },
        "id": "nnP28UJbhd0r",
        "outputId": "e5599cb4-325a-4db7-9d98-8eff09c814ef"
      },
      "execution_count": null,
      "outputs": [
        {
          "output_type": "stream",
          "name": "stdout",
          "text": [
            "0 1 2 3 4 \n",
            "\n",
            "0\n",
            "1\n",
            "2\n",
            "3\n",
            "4\n"
          ]
        }
      ]
    },
    {
      "cell_type": "code",
      "source": [
        "# 리스트를 순회하는 예\n",
        "\n",
        "for i in [1,2,3,4,5]:\n",
        "    print(i, end = ' ')\n",
        "\n",
        "print('\\n')\n",
        "#문자열을 순회하는 예\n",
        "\n",
        "for char in \"hello\":\n",
        "    print(char , end = ' ')"
      ],
      "metadata": {
        "colab": {
          "base_uri": "https://localhost:8080/"
        },
        "id": "ybX1SSbIkz2Y",
        "outputId": "a1bf5784-4c53-46ce-8b2c-e10709c168ac"
      },
      "execution_count": null,
      "outputs": [
        {
          "output_type": "stream",
          "name": "stdout",
          "text": [
            "1 2 3 4 5 \n",
            "\n",
            "h e l l o "
          ]
        }
      ]
    },
    {
      "cell_type": "code",
      "source": [
        "# while 루프는 주어진 조건이 참(True)인 동안 코드 블록을 반복\n",
        "# 조건이 거짓(False)이 되면 루프가 종료\n",
        "\n",
        "count = 0\n",
        "sum = 0\n",
        "while count < 5:\n",
        "    sum += count\n",
        "    print(sum , end =' ')\n",
        "    count += 1"
      ],
      "metadata": {
        "colab": {
          "base_uri": "https://localhost:8080/"
        },
        "id": "0eAWMrdNlX8P",
        "outputId": "a4486791-896f-471e-9871-990a6785f5ba"
      },
      "execution_count": null,
      "outputs": [
        {
          "output_type": "stream",
          "name": "stdout",
          "text": [
            "0 1 3 6 10 "
          ]
        }
      ]
    },
    {
      "cell_type": "code",
      "source": [
        "# Q . d에서 반복문을 사용하여 97 98 99를 출력하시오\n",
        "\n",
        "d = {'a': 97 , 'b': 98 , 'c': 99}\n",
        "\n",
        "for key in d:\n",
        "    print(d[key], end = ' ')"
      ],
      "metadata": {
        "colab": {
          "base_uri": "https://localhost:8080/"
        },
        "id": "Bz2wvVYpmhtE",
        "outputId": "6fd11796-38d9-4a97-9e39-6ab4c3aeabb0"
      },
      "execution_count": null,
      "outputs": [
        {
          "output_type": "stream",
          "name": "stdout",
          "text": [
            "97 98 99 "
          ]
        }
      ]
    },
    {
      "cell_type": "code",
      "source": [
        "d = {'a': 97 , 'b': 98 , 'c': 99}\n",
        "\n",
        "for k ,v in d.items():\n",
        "    print(v , end = ' ')"
      ],
      "metadata": {
        "colab": {
          "base_uri": "https://localhost:8080/"
        },
        "id": "sYIv4fG3omx7",
        "outputId": "0e903525-9299-4b08-a590-7728ac198ec0"
      },
      "execution_count": null,
      "outputs": [
        {
          "output_type": "stream",
          "name": "stdout",
          "text": [
            "97 98 99 "
          ]
        }
      ]
    },
    {
      "cell_type": "markdown",
      "source": [
        "dict_values 클래스의 이해:\n",
        "- 클래스 정의: 파이썬에서 클래스는 객체를 생성하는 데 사용되는 템플릿. dict_values는 딕셔너리의 값을 보여주는 뷰 객체를 생성하는 특별한 내장 클래스.\n",
        "- 뷰 객체: dict_values 객체는 딕셔너리의 값에 대한 동적인 뷰를 제공. \"뷰(view)\"란 원본 딕셔너리 객체의 값이 변하면 그 변화가 dict_values 객체에도 반영되는, 원본 데이터의 실시간 반영본을 의미. 이는 딕셔너리의 값들이 수정, 추가, 삭제될 때 dict_values 객체가 자동으로 업데이트된다는 의미.\n",
        "- 객체 인스턴스: dict_values 객체는 dict_values 클래스의 인스턴스. 이 클래스는 파이썬의 다른 모든 클래스처럼 특정 데이터 구조와 메서드를 가진다. 예를 들어, dict_values 객체는 순회 가능하며 (iterable), 딕셔너리의 모든 값을 순차적으로 접근할 수 있는 메서드를 제공."
      ],
      "metadata": {
        "id": "uF6i-H38xr_w"
      }
    },
    {
      "cell_type": "code",
      "source": [
        "d['b'] = 100\n",
        "print(d)\n",
        "print(d.values())"
      ],
      "metadata": {
        "colab": {
          "base_uri": "https://localhost:8080/"
        },
        "id": "9XVodQfBxvTs",
        "outputId": "1cfa3519-dd90-4556-8c36-a3ad0bfd4db8"
      },
      "execution_count": null,
      "outputs": [
        {
          "output_type": "stream",
          "name": "stdout",
          "text": [
            "{'a': 97, 'b': 100, 'c': 99}\n",
            "dict_values([97, 100, 99])\n"
          ]
        }
      ]
    },
    {
      "cell_type": "markdown",
      "source": [
        "#### 제어문 관련 키워드:\n",
        "- break: 현재의 반복문을 중단하고, 반복문 바깥의 코드를 실행\n",
        "- continue: 반복문의 나머지 부분을 건너뛰고, 다음 반복을 시작"
      ],
      "metadata": {
        "id": "E94fRmvty6nq"
      }
    },
    {
      "cell_type": "code",
      "source": [
        "for i in range(5):\n",
        "    if i == 3:\n",
        "        break\n",
        "    print(i , end = ' ')\n",
        "print('\\n')\n",
        "\n",
        "for i in range(5):\n",
        "    if i == 3:\n",
        "        continue\n",
        "    print(i , end = ' ')"
      ],
      "metadata": {
        "colab": {
          "base_uri": "https://localhost:8080/"
        },
        "id": "_2o02yQNy76S",
        "outputId": "c4ed9d82-38c4-4570-eaae-3bfd9b5100a2"
      },
      "execution_count": null,
      "outputs": [
        {
          "output_type": "stream",
          "name": "stdout",
          "text": [
            "0 1 2 \n",
            "\n",
            "0 1 2 4 "
          ]
        }
      ]
    },
    {
      "cell_type": "code",
      "source": [
        "for i in range(10):\n",
        "    if i == 5:\n",
        "        break # i 가 5일때 루프를 종료한다\n",
        "        print(i , end = ' ')\n",
        "print('\\n')\n",
        "for i in range(10):\n",
        "    if i % 2 == 0:\n",
        "        continue # i가 짝수일 때 나머지 부분을 건너뛰고 다음 반복을 시작한다\n",
        "        print(i , end == ' ')"
      ],
      "metadata": {
        "colab": {
          "base_uri": "https://localhost:8080/"
        },
        "id": "YADVjTR00DEr",
        "outputId": "00fea962-b3b9-4ae7-c6cf-9d6c2ad7580b"
      },
      "execution_count": null,
      "outputs": [
        {
          "output_type": "stream",
          "name": "stdout",
          "text": [
            "\n",
            "\n"
          ]
        }
      ]
    },
    {
      "cell_type": "code",
      "source": [
        "# for 또는 while 루프에 else 절을 사용하면, 루프가 정상적으로 완료된 후에 실행할\n",
        "\n",
        "for i in range(5):\n",
        "    print(i , end = ' ')\n",
        "\n",
        "else:\n",
        "    print(\"루프가 완료되었습니다\" , '\\n')\n",
        "\n",
        "count = 0\n",
        "while count < 5:\n",
        "    print(count , end = ' ')\n",
        "    count += 1\n",
        "else:\n",
        "    print(\"루프가 완료되었습니다\")"
      ],
      "metadata": {
        "colab": {
          "base_uri": "https://localhost:8080/"
        },
        "id": "R0BaercT1z_R",
        "outputId": "490d86e6-e72c-425d-ff0f-8eeae251a61d"
      },
      "execution_count": null,
      "outputs": [
        {
          "output_type": "stream",
          "name": "stdout",
          "text": [
            "0 1 2 3 4 루프가 완료되었습니다 \n",
            "\n",
            "0 1 2 3 4 루프가 완료되었습니다\n"
          ]
        }
      ]
    },
    {
      "cell_type": "code",
      "source": [
        "# break 문을 사용하여 루프를 중단하면 else 절은 실행되지 않음\n",
        "\n",
        "for i in range(5):\n",
        "    if i == 3:\n",
        "        print(f'{i}에서 루프를 중단합니다')\n",
        "        break\n",
        "\n",
        "else:\n",
        "    print('루프가 정상적으로 완료되었습니다.')\n"
      ],
      "metadata": {
        "colab": {
          "base_uri": "https://localhost:8080/"
        },
        "id": "me25YFyD3MNe",
        "outputId": "f5bc8a06-5477-4c02-b747-819f23ab09b6"
      },
      "execution_count": null,
      "outputs": [
        {
          "output_type": "stream",
          "name": "stdout",
          "text": [
            "3에서 루프를 중단합니다\n"
          ]
        }
      ]
    },
    {
      "cell_type": "markdown",
      "source": [
        "# 조건과 반복을 결합"
      ],
      "metadata": {
        "id": "sr9fQncD4A6U"
      }
    },
    {
      "cell_type": "code",
      "source": [
        "# 10미만 홀수만 출력\n",
        "\n",
        "for i in range(10):\n",
        "    if i % 2 == 1:\n",
        "        print(i , end = ' ')"
      ],
      "metadata": {
        "colab": {
          "base_uri": "https://localhost:8080/"
        },
        "id": "8MnQ80yd4D-7",
        "outputId": "aa53c76a-d394-4d80-cd7b-2c662a91dfc3"
      },
      "execution_count": null,
      "outputs": [
        {
          "output_type": "stream",
          "name": "stdout",
          "text": [
            "1 3 5 7 9 "
          ]
        }
      ]
    },
    {
      "cell_type": "code",
      "source": [
        "# 10미만 홀수만 출력\n",
        "\n",
        "for i in range(10):\n",
        "    if i % 2 != 0:\n",
        "        print(i , end = ' ')"
      ],
      "metadata": {
        "colab": {
          "base_uri": "https://localhost:8080/"
        },
        "id": "e4jRprGz4ljL",
        "outputId": "94a941e5-3ca9-4ffe-cba3-6f67836a5ced"
      },
      "execution_count": null,
      "outputs": [
        {
          "output_type": "stream",
          "name": "stdout",
          "text": [
            "1 3 5 7 9 "
          ]
        }
      ]
    },
    {
      "cell_type": "code",
      "source": [
        "# Q . 1 ~ 10 범위의 정수에서 1부터 5까지만 출력하세요\n",
        "\n",
        "for i in range(1,11):\n",
        "    if i > 5:\n",
        "        break\n",
        "    print(i , end = ' ')"
      ],
      "metadata": {
        "colab": {
          "base_uri": "https://localhost:8080/"
        },
        "id": "zIfzqpf_4qXf",
        "outputId": "c64c3fd6-0177-46c6-894e-a38dca2ededf"
      },
      "execution_count": null,
      "outputs": [
        {
          "output_type": "stream",
          "name": "stdout",
          "text": [
            "1 2 3 4 5 "
          ]
        }
      ]
    },
    {
      "cell_type": "code",
      "source": [
        "# Q. numbers 리스트에서 15,20,25를 출력하세요 (for문과 if 조건 사용 필수)\n",
        "\n",
        "numbers = [5,15,6,20,7,25]\n",
        "\n",
        "for i in numbers[1:6]:\n",
        "    if i % 5 == 0:\n",
        "        print(i , end = ' ')"
      ],
      "metadata": {
        "colab": {
          "base_uri": "https://localhost:8080/"
        },
        "id": "g3NvCh_L5iYA",
        "outputId": "582f3196-331e-4ca4-f6cc-2e5ce17b1c23"
      },
      "execution_count": null,
      "outputs": [
        {
          "output_type": "stream",
          "name": "stdout",
          "text": [
            "15 20 25 "
          ]
        }
      ]
    },
    {
      "cell_type": "code",
      "source": [
        "numbers = [5,15,6,20,7,25]\n",
        "\n",
        "for i in numbers:\n",
        "    if i > 5 and i%5 == 0:\n",
        "    # if i >=15:\n",
        "        print(i , end = ' ')"
      ],
      "metadata": {
        "colab": {
          "base_uri": "https://localhost:8080/"
        },
        "id": "y4CHhz3k9fwo",
        "outputId": "82658a4f-f13a-42d1-bddb-2165634be2ac"
      },
      "execution_count": null,
      "outputs": [
        {
          "output_type": "stream",
          "name": "stdout",
          "text": [
            "15 20 25 "
          ]
        }
      ]
    },
    {
      "cell_type": "code",
      "source": [
        "# 특정 조건을 만족할 때까지  반복\n",
        "\n",
        "count = 0\n",
        "while 1:\n",
        "    count += 1\n",
        "    if count > 5:\n",
        "        break\n",
        "    print(count , end = ' ')\n",
        "print('루프가 종료됨')"
      ],
      "metadata": {
        "colab": {
          "base_uri": "https://localhost:8080/"
        },
        "id": "a1vbNlGk-Q54",
        "outputId": "30f06d19-0646-4c33-cfcd-afcca45d4506"
      },
      "execution_count": null,
      "outputs": [
        {
          "output_type": "stream",
          "name": "stdout",
          "text": [
            "1 2 3 4 5 루프가 종료됨\n"
          ]
        }
      ]
    },
    {
      "cell_type": "code",
      "source": [
        "# Q . 리스트에서 특정값 찾기\n",
        "\n",
        "numbers = [1,2,3,4,5]\n",
        "target = 3\n",
        "\n",
        "for i in numbers:\n",
        "    if int(input(\"target: \")):\n",
        "        print()\n",
        "        break\n",
        "    else:\n",
        "        print(\"no target\")\n"
      ],
      "metadata": {
        "colab": {
          "base_uri": "https://localhost:8080/"
        },
        "id": "b8rmndF5_UkA",
        "outputId": "beb9c48e-60ed-4408-858a-f15b5e99a652"
      },
      "execution_count": null,
      "outputs": [
        {
          "output_type": "stream",
          "name": "stdout",
          "text": [
            "target: 1\n",
            "\n"
          ]
        }
      ]
    },
    {
      "cell_type": "code",
      "source": [
        "# Q . 리스트에서 특정값 찾기\n",
        "\n",
        "numbers = [1,2,3,4,5]\n",
        "target = 6\n",
        "\n",
        "for num in numbers:\n",
        "    if num == target:\n",
        "        print(f\"{target}을 찾았습니다 !\")\n",
        "        break\n",
        "\n",
        "else:\n",
        "    print(f\"{target}을 찾지 못했습니다.\")\n",
        "# print(f\"{target}을 찾지 못했습니다)"
      ],
      "metadata": {
        "colab": {
          "base_uri": "https://localhost:8080/"
        },
        "id": "bvSEHrgMBiyW",
        "outputId": "61af0b9d-bdcf-47e2-b79c-8557b70426e9"
      },
      "execution_count": null,
      "outputs": [
        {
          "output_type": "stream",
          "name": "stdout",
          "text": [
            "6을 찾지 못했습니다.\n"
          ]
        }
      ]
    },
    {
      "cell_type": "code",
      "source": [
        "# Q . 1 ~ 20 사이의 정수에서 10보다 작은 홀수만 입력\n",
        "\n",
        "for i in range(1,21):\n",
        "    if i < 10:\n",
        "        if i % 2 != 0:\n",
        "            print(i , end = ' ')\n",
        "    else:\n",
        "        break"
      ],
      "metadata": {
        "colab": {
          "base_uri": "https://localhost:8080/"
        },
        "id": "WKS1CG1rDBkY",
        "outputId": "758cc137-5ef5-4234-d752-4585b7ab3d45"
      },
      "execution_count": null,
      "outputs": [
        {
          "output_type": "stream",
          "name": "stdout",
          "text": [
            "1 3 5 7 9 "
          ]
        }
      ]
    },
    {
      "cell_type": "code",
      "source": [
        "# while ~ continue ~ break\n",
        "# 20 보다 작은 정수에서 1 3 5 7 9 만을 출력\n",
        "\n",
        "a = 0\n",
        "\n",
        "while a < 20:\n",
        "    a += 1\n",
        "    if a % 2 == 0:\n",
        "        continue\n",
        "    if a >= 10:\n",
        "        break\n",
        "    print(a , end = ' ')"
      ],
      "metadata": {
        "colab": {
          "base_uri": "https://localhost:8080/"
        },
        "id": "9OaJM7DLET8B",
        "outputId": "25043976-d865-4b6f-e674-3b5a856a13ed"
      },
      "execution_count": null,
      "outputs": [
        {
          "output_type": "stream",
          "name": "stdout",
          "text": [
            "1 3 5 7 9 "
          ]
        }
      ]
    },
    {
      "cell_type": "code",
      "source": [
        "# Q . 정수 1부터 n까지 더할 때 그 합이 1000보다 커지게 되는 n값과 합을 구하세요 (while ~ break)\n",
        "\n",
        "x = 1\n",
        "sum = 0\n",
        "\n",
        "while 1:\n",
        "    sum = sum + x\n",
        "    if sum > 1000:\n",
        "        print(x)\n",
        "        print(sum)\n",
        "        break\n",
        "    x  = x + 1\n"
      ],
      "metadata": {
        "colab": {
          "base_uri": "https://localhost:8080/"
        },
        "id": "OKFmki-kF7ZS",
        "outputId": "0335fed6-8d0b-4b0e-ff4d-1550d3f3f95f"
      },
      "execution_count": null,
      "outputs": [
        {
          "output_type": "stream",
          "name": "stdout",
          "text": [
            "45\n",
            "1035\n"
          ]
        }
      ]
    },
    {
      "cell_type": "code",
      "source": [
        "x = 0\n",
        "sum = 0\n",
        "\n",
        "while sum < 1000:\n",
        "    x += 1\n",
        "    sum += x\n",
        "print(x)\n",
        "print(sum)"
      ],
      "metadata": {
        "colab": {
          "base_uri": "https://localhost:8080/"
        },
        "id": "nhRsn-2nbtnI",
        "outputId": "1cee8f8b-1a45-4538-cb14-13b9bdd27bd7"
      },
      "execution_count": null,
      "outputs": [
        {
          "output_type": "stream",
          "name": "stdout",
          "text": [
            "45\n",
            "1035\n"
          ]
        }
      ]
    },
    {
      "cell_type": "code",
      "source": [
        "sum = 0\n",
        "\n",
        "for i in range(1,46):\n",
        "    sum += i\n",
        "print(sum)"
      ],
      "metadata": {
        "colab": {
          "base_uri": "https://localhost:8080/"
        },
        "id": "Qj-SqQtweN4q",
        "outputId": "2387cd0e-ed5c-4ce7-adf7-ef830c1a00a4"
      },
      "execution_count": null,
      "outputs": [
        {
          "output_type": "stream",
          "name": "stdout",
          "text": [
            "1035\n"
          ]
        }
      ]
    },
    {
      "cell_type": "code",
      "source": [
        "# Q . while문을 사용해 1부터 1000까지의 정수 중 3의 배수의 합을 구하세요\n",
        "# 1\n",
        "count = 1\n",
        "multiple_sum = 0\n",
        "while count <= 1000:\n",
        "    if count % 3 == 0:\n",
        "        multiple_sum += count\n",
        "    count += 1\n",
        "print(multiple_sum)"
      ],
      "metadata": {
        "colab": {
          "base_uri": "https://localhost:8080/"
        },
        "id": "_sAJg07UGGlb",
        "outputId": "adff5eaf-cbf3-4903-88ee-0d4cbc809f8c"
      },
      "execution_count": null,
      "outputs": [
        {
          "output_type": "stream",
          "name": "stdout",
          "text": [
            "166833\n"
          ]
        }
      ]
    },
    {
      "cell_type": "code",
      "source": [
        "# 2\n",
        "n = 0\n",
        "sum = 0\n",
        "\n",
        "while n < 1000:\n",
        "    n += 1\n",
        "    if n % 3 == 0:\n",
        "        sum += n\n",
        "print(sum)"
      ],
      "metadata": {
        "colab": {
          "base_uri": "https://localhost:8080/"
        },
        "id": "KpeNrE2jewj2",
        "outputId": "f7ce0018-ac98-4461-e0e9-6593a0ef9007"
      },
      "execution_count": null,
      "outputs": [
        {
          "output_type": "stream",
          "name": "stdout",
          "text": [
            "166833\n"
          ]
        }
      ]
    },
    {
      "cell_type": "code",
      "source": [
        "# 3\n",
        "\n",
        "n = 3\n",
        "sum = 0\n",
        "while n <=1000:\n",
        "    sum += n\n",
        "    n += 3\n",
        "print(sum)"
      ],
      "metadata": {
        "colab": {
          "base_uri": "https://localhost:8080/"
        },
        "id": "Y6MaPus0fN97",
        "outputId": "97ed99b3-8c3b-4383-ddcc-8568c5226c7c"
      },
      "execution_count": null,
      "outputs": [
        {
          "output_type": "stream",
          "name": "stdout",
          "text": [
            "166833\n"
          ]
        }
      ]
    },
    {
      "cell_type": "code",
      "source": [
        "# Q . 정수를 입력하면 홀수 짝수를 판별하는 프로그램 작성\n",
        "\n",
        "number = int(input(\"정수를 입력하세요: \"))\n",
        "\n",
        "if number % 2 == 1:\n",
        "    print(f'입력한 숫자{number}는 홀수 입니다.')\n",
        "\n",
        "else:\n",
        "    print(f'입력한 숫자{number}는 짝수 입니다.')"
      ],
      "metadata": {
        "id": "fjp59sP7GPaa",
        "colab": {
          "base_uri": "https://localhost:8080/"
        },
        "outputId": "270464bd-112e-4d5a-dee3-5432b47a1d60"
      },
      "execution_count": null,
      "outputs": [
        {
          "output_type": "stream",
          "name": "stdout",
          "text": [
            "정수를 입력하세요: 3\n",
            "입력한 숫자3는 홀수 입니다.\n"
          ]
        }
      ]
    },
    {
      "cell_type": "code",
      "source": [
        "while True:\n",
        "    try:\n",
        "        number = int(input(\"정수를 입력하세요: \"))\n",
        "\n",
        "        if number % 2 == 1:\n",
        "            print(f'입력한 숫자 {number}는 홀수입니다.')\n",
        "        else:\n",
        "            print(f'입력한 숫자 {number}는 짝수입니다.')\n",
        "            break  # 정수 입력시 while 루프를 빠져나감\n",
        "    except ValueError:\n",
        "        print(\"정수가 아닌 값이 입력되었어요. 정수를 입력하세요\")\n"
      ],
      "metadata": {
        "colab": {
          "base_uri": "https://localhost:8080/",
          "height": 520
        },
        "id": "DeDwQrWchFo3",
        "outputId": "3563ae1b-2539-4a09-afc6-d791c85665f4"
      },
      "execution_count": null,
      "outputs": [
        {
          "output_type": "stream",
          "name": "stdout",
          "text": [
            "정수를 입력하세요: 4.5\n",
            "정수가 아닌 값이 입력되었어요. 정수를 입력하세요\n",
            "정수를 입력하세요: 3.6\n",
            "정수가 아닌 값이 입력되었어요. 정수를 입력하세요\n",
            "정수를 입력하세요: 3\n",
            "입력한 숫자 3는 홀수입니다.\n",
            "정수를 입력하세요: 3\n",
            "입력한 숫자 3는 홀수입니다.\n"
          ]
        },
        {
          "output_type": "error",
          "ename": "KeyboardInterrupt",
          "evalue": "Interrupted by user",
          "traceback": [
            "\u001b[0;31m---------------------------------------------------------------------------\u001b[0m",
            "\u001b[0;31mKeyboardInterrupt\u001b[0m                         Traceback (most recent call last)",
            "\u001b[0;32m<ipython-input-2-aa03798615e3>\u001b[0m in \u001b[0;36m<cell line: 1>\u001b[0;34m()\u001b[0m\n\u001b[1;32m      1\u001b[0m \u001b[0;32mwhile\u001b[0m \u001b[0;32mTrue\u001b[0m\u001b[0;34m:\u001b[0m\u001b[0;34m\u001b[0m\u001b[0;34m\u001b[0m\u001b[0m\n\u001b[1;32m      2\u001b[0m     \u001b[0;32mtry\u001b[0m\u001b[0;34m:\u001b[0m\u001b[0;34m\u001b[0m\u001b[0;34m\u001b[0m\u001b[0m\n\u001b[0;32m----> 3\u001b[0;31m         \u001b[0mnumber\u001b[0m \u001b[0;34m=\u001b[0m \u001b[0mint\u001b[0m\u001b[0;34m(\u001b[0m\u001b[0minput\u001b[0m\u001b[0;34m(\u001b[0m\u001b[0;34m\"정수를 입력하세요: \"\u001b[0m\u001b[0;34m)\u001b[0m\u001b[0;34m)\u001b[0m\u001b[0;34m\u001b[0m\u001b[0;34m\u001b[0m\u001b[0m\n\u001b[0m\u001b[1;32m      4\u001b[0m \u001b[0;34m\u001b[0m\u001b[0m\n\u001b[1;32m      5\u001b[0m         \u001b[0;32mif\u001b[0m \u001b[0mnumber\u001b[0m \u001b[0;34m%\u001b[0m \u001b[0;36m2\u001b[0m \u001b[0;34m==\u001b[0m \u001b[0;36m1\u001b[0m\u001b[0;34m:\u001b[0m\u001b[0;34m\u001b[0m\u001b[0;34m\u001b[0m\u001b[0m\n",
            "\u001b[0;32m/usr/local/lib/python3.10/dist-packages/ipykernel/kernelbase.py\u001b[0m in \u001b[0;36mraw_input\u001b[0;34m(self, prompt)\u001b[0m\n\u001b[1;32m    849\u001b[0m                 \u001b[0;34m\"raw_input was called, but this frontend does not support input requests.\"\u001b[0m\u001b[0;34m\u001b[0m\u001b[0;34m\u001b[0m\u001b[0m\n\u001b[1;32m    850\u001b[0m             )\n\u001b[0;32m--> 851\u001b[0;31m         return self._input_request(str(prompt),\n\u001b[0m\u001b[1;32m    852\u001b[0m             \u001b[0mself\u001b[0m\u001b[0;34m.\u001b[0m\u001b[0m_parent_ident\u001b[0m\u001b[0;34m,\u001b[0m\u001b[0;34m\u001b[0m\u001b[0;34m\u001b[0m\u001b[0m\n\u001b[1;32m    853\u001b[0m             \u001b[0mself\u001b[0m\u001b[0;34m.\u001b[0m\u001b[0m_parent_header\u001b[0m\u001b[0;34m,\u001b[0m\u001b[0;34m\u001b[0m\u001b[0;34m\u001b[0m\u001b[0m\n",
            "\u001b[0;32m/usr/local/lib/python3.10/dist-packages/ipykernel/kernelbase.py\u001b[0m in \u001b[0;36m_input_request\u001b[0;34m(self, prompt, ident, parent, password)\u001b[0m\n\u001b[1;32m    893\u001b[0m             \u001b[0;32mexcept\u001b[0m \u001b[0mKeyboardInterrupt\u001b[0m\u001b[0;34m:\u001b[0m\u001b[0;34m\u001b[0m\u001b[0;34m\u001b[0m\u001b[0m\n\u001b[1;32m    894\u001b[0m                 \u001b[0;31m# re-raise KeyboardInterrupt, to truncate traceback\u001b[0m\u001b[0;34m\u001b[0m\u001b[0;34m\u001b[0m\u001b[0m\n\u001b[0;32m--> 895\u001b[0;31m                 \u001b[0;32mraise\u001b[0m \u001b[0mKeyboardInterrupt\u001b[0m\u001b[0;34m(\u001b[0m\u001b[0;34m\"Interrupted by user\"\u001b[0m\u001b[0;34m)\u001b[0m \u001b[0;32mfrom\u001b[0m \u001b[0;32mNone\u001b[0m\u001b[0;34m\u001b[0m\u001b[0;34m\u001b[0m\u001b[0m\n\u001b[0m\u001b[1;32m    896\u001b[0m             \u001b[0;32mexcept\u001b[0m \u001b[0mException\u001b[0m \u001b[0;32mas\u001b[0m \u001b[0me\u001b[0m\u001b[0;34m:\u001b[0m\u001b[0;34m\u001b[0m\u001b[0;34m\u001b[0m\u001b[0m\n\u001b[1;32m    897\u001b[0m                 \u001b[0mself\u001b[0m\u001b[0;34m.\u001b[0m\u001b[0mlog\u001b[0m\u001b[0;34m.\u001b[0m\u001b[0mwarning\u001b[0m\u001b[0;34m(\u001b[0m\u001b[0;34m\"Invalid Message:\"\u001b[0m\u001b[0;34m,\u001b[0m \u001b[0mexc_info\u001b[0m\u001b[0;34m=\u001b[0m\u001b[0;32mTrue\u001b[0m\u001b[0;34m)\u001b[0m\u001b[0;34m\u001b[0m\u001b[0;34m\u001b[0m\u001b[0m\n",
            "\u001b[0;31mKeyboardInterrupt\u001b[0m: Interrupted by user"
          ]
        }
      ]
    },
    {
      "cell_type": "code",
      "source": [
        "# Q. 입력받은 문자열의 각 문자를 그 다음 문자로 변경하여 출력하세요 (ABC -> BCA)\n",
        "\n",
        "data = str(input('문자열을 입력: '))\n",
        "\n",
        "for i in range(len(data)):\n",
        "    if i == 0:\n",
        "        continue\n",
        "    print(data[i],end = '')\n",
        "\n",
        "else:\n",
        "    print(data[0])\n"
      ],
      "metadata": {
        "colab": {
          "base_uri": "https://localhost:8080/"
        },
        "id": "fcvVEpL1glF1",
        "outputId": "a10cc365-94cc-42d2-f0e5-df0b67ac1aed"
      },
      "execution_count": null,
      "outputs": [
        {
          "output_type": "stream",
          "name": "stdout",
          "text": [
            "문자열을 입력: ABC\n",
            "BCA\n"
          ]
        }
      ]
    },
    {
      "cell_type": "markdown",
      "source": [
        "zip() 함수\n",
        "- 여러 개의 이터러블(리스트, 튜플 등)을 인자로 받아, 동일한 인덱스에 있는 요소들을 하나의 튜플로 묶어서 이터레이터를 반환\n",
        "- 데이터를 병렬로 처리할 때 유용"
      ],
      "metadata": {
        "id": "baz8999hnMQv"
      }
    },
    {
      "cell_type": "code",
      "source": [
        "list1 = [1,2,3,4]\n",
        "list2 = ['a','b','c','d']\n",
        "zipped = zip(list1 , list2)\n",
        "print(list(zipped))"
      ],
      "metadata": {
        "colab": {
          "base_uri": "https://localhost:8080/"
        },
        "id": "8znAaG1fnOdL",
        "outputId": "be740ea6-957a-486b-ca04-3a834a47f790"
      },
      "execution_count": null,
      "outputs": [
        {
          "output_type": "stream",
          "name": "stdout",
          "text": [
            "[(1, 'a'), (2, 'b'), (3, 'c'), (4, 'd')]\n"
          ]
        }
      ]
    },
    {
      "cell_type": "code",
      "source": [
        "# Q . 두개의 리스트(이름과 성)을 사용하여 각 사람의 전체 이름을 생성하세요\n",
        "\n",
        "first_names = [\"John\" , \"Jane\" , \"Corey\" , \"Travis\"]\n",
        "last_names = [\"Doe\" , \"Smith\" , \"Turner\" , \"Williams\"]\n",
        "\n",
        "full_names = [first + \" \" + last for first, last in zip(first_names, last_names)]\n",
        "print(full_names)"
      ],
      "metadata": {
        "colab": {
          "base_uri": "https://localhost:8080/"
        },
        "id": "CR4_F0Xln8Ue",
        "outputId": "7c2f7475-abc4-4ca2-e152-88f22069ff58"
      },
      "execution_count": null,
      "outputs": [
        {
          "output_type": "stream",
          "name": "stdout",
          "text": [
            "['John Doe', 'Jane Smith', 'Corey Turner', 'Travis Williams']\n"
          ]
        }
      ]
    },
    {
      "cell_type": "code",
      "source": [
        "# Q. 학생들의 수학과 영어 점수를 각각의 리스트로 받아 평군 점수를 구하시오\n",
        "\n",
        "math_scores = [88, 92, 79, 93, 85]\n",
        "english_scores = [90, 91, 85, 88, 86]\n",
        "\n",
        "average_scores = [(math + english) / 2 for math , english in zip(math_scores, english_scores)]\n",
        "print(average_scores)"
      ],
      "metadata": {
        "colab": {
          "base_uri": "https://localhost:8080/"
        },
        "id": "cZydRRRrogYN",
        "outputId": "f5d8d615-65d5-4c75-bb37-e02de3f99bfe"
      },
      "execution_count": null,
      "outputs": [
        {
          "output_type": "stream",
          "name": "stdout",
          "text": [
            "[89.0, 91.5, 82.0, 90.5, 85.5]\n"
          ]
        }
      ]
    },
    {
      "cell_type": "code",
      "source": [
        "# Q . 상품 이름과 가격이 각각 다른 리스트에 저장되어 있을떄, 상품명과 가격을 튜플로 묶어 출력하시오\n",
        "\n",
        "products = [\"apple\" , \"banana\" , \"cherry\"]\n",
        "prices = [1.2 , 0.5 , 2.5]\n",
        "\n",
        "for product , price in zip(products,prices):\n",
        "    print(f'product: {product} , Price ${price}')\n"
      ],
      "metadata": {
        "colab": {
          "base_uri": "https://localhost:8080/"
        },
        "id": "WRzHqrZvo9Pf",
        "outputId": "371f926d-2c22-4063-b02d-e6862792dab7"
      },
      "execution_count": null,
      "outputs": [
        {
          "output_type": "stream",
          "name": "stdout",
          "text": [
            "product: apple , Price $1.2\n",
            "product: banana , Price $0.5\n",
            "product: cherry , Price $2.5\n"
          ]
        }
      ]
    },
    {
      "cell_type": "markdown",
      "source": [
        "#### 파이썬의 random 모듈\n",
        "난수를 생성하기 위한 다양한 함수를 제공\n",
        "- 기본 난수 생성:\n",
        "  - random.random(): 0과 1 사이의 무작위 부동소수점 숫자를 반환.\n",
        "- 범위 지정 난수 생성:\n",
        "  - random.randint(a, b): a와 b 사이의 무작위 정수를 반환(b 포함).\n",
        "  - random.randrange(start, stop[, step]): 지정된 범위에서 무작위 정수를 반환. step을 설정하여 수의 간격을 조정할 수 있다.\n",
        "- 시퀀스용 함수:\n",
        "  - random.choice(sequence): 주어진 시퀀스(리스트, 튜플 등)에서 무작위로 아이템을 선택하여 반환.\n",
        "  - random.shuffle(x[, random]): 리스트의 항목들을 무작위로 섞는다. random은 섞기를 위한 함수를 커스텀할 때 사용.\n",
        "  - random.sample(population, k): 주어진 시퀀스에서 무작위로 k개의 항목을 뽑아 새 리스트로 반환.\n",
        "- 분포 기반 난수 생성:\n",
        "  - random.uniform(a, b): a와 b 사이의 무작위 부동소수점 숫자를 균등 분포로 반환.\n",
        "  - random.gauss(mu, sigma): 평균 mu와 표준편차 sigma를 가지는 정규 분포에서 난수를 반환."
      ],
      "metadata": {
        "id": "mwrXiPRhrgpy"
      }
    },
    {
      "cell_type": "code",
      "source": [
        "import random\n",
        "\n",
        "# 0과 1 사이의 난수 생성\n",
        "print(random.random())\n",
        "\n",
        "# 1에서 10 사이의 정수 반환 (10 포함)\n",
        "print(random.randint(1,10))\n",
        "\n",
        "# 리스트에서 무작위로 하나의 원소 선택\n",
        "items = [1,2,3,4,5]\n",
        "print(random.choice(items))\n",
        "\n",
        "# 리스트의 원소를 무작위로 섞기\n",
        "random.shuffle(items)\n",
        "print(items)\n",
        "\n",
        "# 정규 분포 난수 생성\n",
        "mean = 0\n",
        "std_dev = 1\n",
        "print(random.gauss(mean, std_dev))"
      ],
      "metadata": {
        "colab": {
          "base_uri": "https://localhost:8080/"
        },
        "id": "nJj_UeLGrhdj",
        "outputId": "272bf2c9-f219-4f1a-e7d5-8e11b62d1fa3"
      },
      "execution_count": null,
      "outputs": [
        {
          "output_type": "stream",
          "name": "stdout",
          "text": [
            "0.6873011530387001\n",
            "9\n",
            "1\n",
            "[5, 2, 1, 4, 3]\n",
            "-0.5175710231825522\n"
          ]
        }
      ]
    },
    {
      "cell_type": "code",
      "source": [
        "import random\n",
        "male = ['철수' , '갑돌' , '로미오' , '이몽룡' , '온돌']\n",
        "random.shuffle(male)\n",
        "print(male)"
      ],
      "metadata": {
        "colab": {
          "base_uri": "https://localhost:8080/"
        },
        "id": "4vRs3mtVvrcC",
        "outputId": "492773ab-ba60-4367-eebd-71ac56f370d9"
      },
      "execution_count": null,
      "outputs": [
        {
          "output_type": "stream",
          "name": "stdout",
          "text": [
            "['철수', '갑돌', '이몽룡', '온돌', '로미오']\n"
          ]
        }
      ]
    },
    {
      "cell_type": "code",
      "source": [
        "from random import shuffle\n",
        "male = ['철수' , '갑돌' , '로미오' , '이몽룡' , '온돌']\n",
        "shuffle(male)\n",
        "print(male)"
      ],
      "metadata": {
        "colab": {
          "base_uri": "https://localhost:8080/"
        },
        "id": "kesXGAVXwUdX",
        "outputId": "3a20ecee-c82f-45da-a6c1-05867442a23e"
      },
      "execution_count": null,
      "outputs": [
        {
          "output_type": "stream",
          "name": "stdout",
          "text": [
            "['갑돌', '로미오', '온돌', '이몽룡', '철수']\n"
          ]
        }
      ]
    },
    {
      "cell_type": "markdown",
      "source": [
        "Task1_0430. 남녀 파트너 정해주기 프로그램(zip)\n",
        "\n",
        "같은 수의 남녀 모임에서 파트너를 랜덤하게 정해주는 프로그램을 만들어 보세요\n",
        "\n",
        "male = ['철수','갑돌','로미오','이몽룡','온돌']\n",
        "\n",
        "female = ['미미','갑순','줄리엣','성춘향','평강']"
      ],
      "metadata": {
        "id": "wFxgOXy7zsGX"
      }
    },
    {
      "cell_type": "code",
      "source": [
        "import random\n",
        "\n",
        "male = ['철수', '갑돌', '로미오', '이몽룡', '온돌']\n",
        "female = ['미미', '갑순', '줄리엣', '성춘향', '평강']\n",
        "\n",
        "# 두 리스트를 병합하여 한 쌍으로 이루어진 튜플의 리스트 생성\n",
        "pairs = list(zip(male, female))\n",
        "\n",
        "# 쌍을 무작위로 섞음\n",
        "random.shuffle(pairs)\n",
        "\n",
        "# 파트너를 출력\n",
        "for male, female in pairs:\n",
        "    print(f\"{male} - {female}\")\n"
      ],
      "metadata": {
        "colab": {
          "base_uri": "https://localhost:8080/"
        },
        "id": "maig12Wuy79q",
        "outputId": "79c912be-0410-41d4-f40c-7c6f23cdba46"
      },
      "execution_count": null,
      "outputs": [
        {
          "output_type": "stream",
          "name": "stdout",
          "text": [
            "철수 - 미미\n",
            "로미오 - 줄리엣\n",
            "온돌 - 평강\n",
            "이몽룡 - 성춘향\n",
            "갑돌 - 갑순\n"
          ]
        }
      ]
    },
    {
      "cell_type": "code",
      "source": [
        "\n",
        "import random\n",
        "\n",
        "male = ['철수','갑돌','로미오','이몽룡','온돌']\n",
        "\n",
        "female = ['미미','갑순','줄리엣','성춘향','평강']\n",
        "\n",
        "pairs = list(zip(male , female))\n",
        "print(pairs)\n",
        "\n",
        "random.shuffle(pairs)\n",
        "print(pairs)\n",
        "\n",
        "for male , female in (pairs):\n",
        "    print(f'{male} - {female}')\n",
        "\n",
        "\n"
      ],
      "metadata": {
        "colab": {
          "base_uri": "https://localhost:8080/"
        },
        "id": "SKa7VE770Wwo",
        "outputId": "aee37f87-edc7-4791-f304-dc30d034c055"
      },
      "execution_count": null,
      "outputs": [
        {
          "output_type": "stream",
          "name": "stdout",
          "text": [
            "[('철수', '미미'), ('갑돌', '갑순'), ('로미오', '줄리엣'), ('이몽룡', '성춘향'), ('온돌', '평강')]\n",
            "[('온돌', '평강'), ('갑돌', '갑순'), ('철수', '미미'), ('이몽룡', '성춘향'), ('로미오', '줄리엣')]\n",
            "온돌 - 평강\n",
            "갑돌 - 갑순\n",
            "철수 - 미미\n",
            "이몽룡 - 성춘향\n",
            "로미오 - 줄리엣\n"
          ]
        }
      ]
    },
    {
      "cell_type": "code",
      "source": [
        "import random\n",
        "# 문제 해결\n",
        "male = ['철수','갑돌','로미오','이몽룡','온돌']\n",
        "\n",
        "female = ['미미','갑순','줄리엣','성춘향','평강']\n",
        "\n",
        "random.shuffle(male)\n",
        "random.shuffle(female)\n",
        "\n",
        "pairs = zip(male , female)\n",
        "for male , female in (pairs):\n",
        "    print(f'{male} - {female}')\n"
      ],
      "metadata": {
        "colab": {
          "base_uri": "https://localhost:8080/"
        },
        "id": "ZMaCc1ecjVF8",
        "outputId": "d2b6b40e-0019-4b1d-e278-2c8825fdfe6d"
      },
      "execution_count": null,
      "outputs": [
        {
          "output_type": "stream",
          "name": "stdout",
          "text": [
            "갑돌 - 줄리엣\n",
            "이몽룡 - 미미\n",
            "로미오 - 성춘향\n",
            "철수 - 갑순\n",
            "온돌 - 평강\n"
          ]
        }
      ]
    },
    {
      "cell_type": "code",
      "source": [
        "import random\n",
        "# 문제 해결\n",
        "male = ['철수','갑돌','로미오','이몽룡','온돌']\n",
        "\n",
        "female = ['미미','갑순','줄리엣','성춘향','평강']\n",
        "\n",
        "random.shuffle(male)\n",
        "random.shuffle(female)\n",
        "\n",
        "couples = zip(male , female)\n",
        "#couples = list(zip(male , female))\n",
        "\n",
        "for i, couple in enumerate(couples):\n",
        "    print(f'커플{i+1}: {couple[0]}, {couple[1]}')"
      ],
      "metadata": {
        "colab": {
          "base_uri": "https://localhost:8080/"
        },
        "id": "iOfaVnIat1QD",
        "outputId": "d029fdd6-3a1c-41e0-a4f8-fd3c3ca5289d"
      },
      "execution_count": null,
      "outputs": [
        {
          "output_type": "stream",
          "name": "stdout",
          "text": [
            "커플1: 이몽룡, 성춘향\n",
            "커플2: 로미오, 갑순\n",
            "커플3: 철수, 평강\n",
            "커플4: 갑돌, 미미\n",
            "커플5: 온돌, 줄리엣\n"
          ]
        }
      ]
    },
    {
      "cell_type": "markdown",
      "source": [
        "Task2_0430. 대문자, 소문자, 숫자를 포함하는 8자리 랜덤 비밀번호를 생성하는 프로그램을 작성하세요."
      ],
      "metadata": {
        "id": "9LmYrFd1ztY6"
      }
    },
    {
      "cell_type": "code",
      "source": [
        "import random\n",
        "\n",
        "# 대문자, 소문자, 숫자 리스트 정의\n",
        "upper = ['A', 'B', 'C', 'D']\n",
        "lower = ['e', 'f', 'g', 'h']\n",
        "numbers = ['1', '2', '3', '4']\n",
        "\n",
        "# 대문자, 소문자, 숫자 중 무작위로 하나씩 선택하여 비밀번호 생성\n",
        "password = [\n",
        "    random.choice(upper),\n",
        "    random.choice(lower),\n",
        "    random.choice(numbers),\n",
        "    *[random.choice(upper + lower + numbers) for _ in range(5)]  # 나머지 5자리 무작위 선택\n",
        "]\n",
        "\n",
        "# 비밀번호 리스트를 문자열로 변환\n",
        "password_str = ''.join(password)\n",
        "\n",
        "# 생성된 비밀번호를 무작위로 섞음\n",
        "password_shuffled = ''.join(random.sample(password_str, len(password_str)))\n",
        "\n",
        "print(password_shuffled)\n"
      ],
      "metadata": {
        "colab": {
          "base_uri": "https://localhost:8080/"
        },
        "id": "NKcBMHGRyAIv",
        "outputId": "5f2a1381-1513-4e5a-a0d0-05061fcab394"
      },
      "execution_count": null,
      "outputs": [
        {
          "output_type": "stream",
          "name": "stdout",
          "text": [
            "fgC2gefA\n"
          ]
        }
      ]
    },
    {
      "cell_type": "code",
      "source": [
        "import random\n",
        "\n",
        "upper = ['A','B','C','D']\n",
        "lower = ['e','f','g','h']\n",
        "numbers = [1,2,3,4]\n",
        "\n",
        "password = list(zip(upper, lower, numbers))\n",
        "random.shuffle(password)\n",
        "\n",
        "print(password)\n",
        "\n"
      ],
      "metadata": {
        "colab": {
          "base_uri": "https://localhost:8080/"
        },
        "id": "FRZ7Y6dj0zb7",
        "outputId": "c3991c20-d101-4106-f800-102d75075498"
      },
      "execution_count": null,
      "outputs": [
        {
          "output_type": "stream",
          "name": "stdout",
          "text": [
            "[('A', 'e', 1), ('B', 'f', 2), ('C', 'g', 3), ('D', 'h', 4)]\n"
          ]
        }
      ]
    },
    {
      "cell_type": "code",
      "source": [
        "# Task2_0430. 대문자, 소문자, 숫자를 포함하는 8자리 랜덤 비밀번호를 생성하는 프로그램을 작성하세요.\n",
        "\n",
        "# 문제 해결 1\n",
        "\n",
        "import random\n",
        "import string # 문자열 상수를 제공하는 모듈로 , 여기서는 알파벳 문자와 숫자를 포함\n",
        "\n",
        "characters = string.ascii_letters + string.digits # 모든 소문자와 대문자 알파벳을 포함 (a-z , A-Z)\n",
        "\n",
        "password = ''.join(random.choice(characters) for i in range(8))\n",
        "print(\"랜덤 비밀번호: \", password)"
      ],
      "metadata": {
        "colab": {
          "base_uri": "https://localhost:8080/"
        },
        "id": "6mr3LRLkwjqW",
        "outputId": "e3172648-ddbb-4d59-8a1b-4a725a60e053"
      },
      "execution_count": null,
      "outputs": [
        {
          "output_type": "stream",
          "name": "stdout",
          "text": [
            "랜덤 비밀번호:  nXIiCKn8\n"
          ]
        }
      ]
    },
    {
      "cell_type": "code",
      "source": [
        "# Task2_0430. 대문자, 소문자, 숫자가 반드시 한번씩은 포함하는  8자리 랜덤 비밀번호를 생성하는 프로그램을 작성하세요.\n",
        "\n",
        "# 문제 해결 2\n",
        "\n",
        "import random\n",
        "import string # 문자열 상수를 제공하는 모듈로 , 여기서는 알파벳 문자와 숫자를 포함\n",
        "\n",
        "upper = random.choice(string.ascii_uppercase)\n",
        "lower = random.choice(string.ascii_lowercase)\n",
        "digit = random.choice(string.digits)\n",
        "\n",
        "characters = string.ascii_letters + string.digits # 모든 소문자와 대문자 알파벳을 포함 (a-z , A-Z)\n",
        "rest = ''.join(random.choice(characters) for i in range(5))\n",
        "# 모든 요소를 하나의 문자열로 합치기\n",
        "\n",
        "password = upper + lower + digit + rest\n",
        "\n",
        "# 비밀번호 임의로 섞기\n",
        "print(password)\n",
        "password = ''.join(random.sample(password, len(password))) # 선택할 시퀀스 , 선택할 요소\n",
        "print(\"랜덤 비밀번호:\" , password)\n"
      ],
      "metadata": {
        "colab": {
          "base_uri": "https://localhost:8080/"
        },
        "id": "dVFasHuj0n4T",
        "outputId": "03b3d2f4-26d0-4032-f141-39a1e8f1e8b9"
      },
      "execution_count": null,
      "outputs": [
        {
          "output_type": "stream",
          "name": "stdout",
          "text": [
            "Fg2lBM2s\n",
            "랜덤 비밀번호: sgF2MB2l\n"
          ]
        }
      ]
    },
    {
      "cell_type": "markdown",
      "source": [
        "Task3_0430. 발표자 수를 랜덤하게 출력하는 프로그램을 작성하세요.(발표자 수 입력)\n",
        "\n",
        "kita = ['김성현','황강민','윤호준','류윤선','이상협','박지환','최환욱','서보선','김한결','김도현','김하준',\n",
        "        '김도원','신현진','소지승','이범석','이현석','이명신','박윤경','이도헌','김홍준']"
      ],
      "metadata": {
        "id": "GVJngI8mzvKr"
      }
    },
    {
      "cell_type": "code",
      "source": [
        "import random\n",
        "\n",
        "kita = ['김성현', '황강민', '윤호준', '류윤선', '이상협', '박지환', '최환욱', '서보선', '김한결', '김도현', '김하준', '김도원', '신현진', '소지승', '이범석', '이현석', '이명신', '박윤경', '이도헌', '김홍준']\n",
        "\n",
        "# 발표자 수를 입력 받습니다.\n",
        "num_presenters = int(input(\"발표자 수를 입력하세요: \"))\n",
        "\n",
        "# 입력한 발표자 수가 리스트의 길이를 초과할 경우, 리스트의 길이로 설정합니다.\n",
        "num_presenters = min(num_presenters, len(kita))\n",
        "\n",
        "# 발표자 수만큼 무작위로 선택합니다.\n",
        "selected_presenters = random.choices(kita, k=num_presenters)\n",
        "\n",
        "# 선택된 발표자를 출력합니다.\n",
        "print(\"선택된 발표자:\")\n",
        "for presenter in selected_presenters:\n",
        "    print(presenter)\n"
      ],
      "metadata": {
        "id": "2bCyHBUx0z8J",
        "colab": {
          "base_uri": "https://localhost:8080/"
        },
        "outputId": "21210709-3cda-4528-dbb0-adfed07ee26f"
      },
      "execution_count": null,
      "outputs": [
        {
          "output_type": "stream",
          "name": "stdout",
          "text": [
            "발표자 수를 입력하세요: 10\n",
            "선택된 발표자:\n",
            "윤호준\n",
            "류윤선\n",
            "소지승\n",
            "김도원\n",
            "김홍준\n",
            "김도현\n",
            "박윤경\n",
            "박지환\n",
            "김한결\n",
            "이현석\n"
          ]
        }
      ]
    },
    {
      "cell_type": "markdown",
      "source": [
        "Task3_0430. 발표자 수를 랜덤하게 출력하는 프로그램을 작성하세요.(발표자 수 입력)\n",
        "\n",
        "kita = ['김성현','황강민','윤호준','류윤선','이상협','박지환','최환욱','서보선','김한결','김도현','김하준', '김도원','신현진','소지승','이범석','이현석','이명신','박윤경','이도헌','김홍준']"
      ],
      "metadata": {
        "id": "S8MFIuJO5bvg"
      }
    },
    {
      "cell_type": "code",
      "source": [
        "# 문제해결\n",
        "\n",
        "kita = ['김성현','황강민','윤호준','류윤선','이상협','박지환','최환욱','서보선','김한결','김도현','김하준', '김도원',\n",
        "        '신현진','소지승','이범석','이현석','이명신','박윤경','이도헌','김홍준']\n",
        "\n",
        "num = int(input('발표자 수 입력 >'))\n",
        "\n",
        "ans = random.sample(kita, num) # 중복 없이 요소를 선택\n",
        "print(ans)"
      ],
      "metadata": {
        "colab": {
          "base_uri": "https://localhost:8080/"
        },
        "id": "seuwA3GT5cgS",
        "outputId": "4b4fadc4-5046-4b48-dbc8-01204c66055c"
      },
      "execution_count": null,
      "outputs": [
        {
          "output_type": "stream",
          "name": "stdout",
          "text": [
            "발표자 수 입력 >5\n",
            "['박윤경', '황강민', '신현진', '서보선', '최환욱']\n"
          ]
        }
      ]
    },
    {
      "cell_type": "markdown",
      "source": [
        "Task4_0430. 사용자로부터 숫자를 입력받아 해당 숫자의 구구단을 출력하는 프로그램을 작성하세요."
      ],
      "metadata": {
        "id": "7jbaUpq_zx0D"
      }
    },
    {
      "cell_type": "code",
      "source": [
        "num = int(input('구구단을 출력할 숫자를 입력하세요: '))\n",
        "for i in range(1,10):\n",
        "    print(f'{num} x {i} = {num * i}')"
      ],
      "metadata": {
        "colab": {
          "base_uri": "https://localhost:8080/"
        },
        "id": "s9LqzOPC6ZLE",
        "outputId": "ce3c7a58-fee2-4771-feb8-dc31ba8949e3"
      },
      "execution_count": null,
      "outputs": [
        {
          "output_type": "stream",
          "name": "stdout",
          "text": [
            "구구단을 출력할 숫자를 입력하세요: 3\n",
            "3 x 1 = 3\n",
            "3 x 2 = 6\n",
            "3 x 3 = 9\n",
            "3 x 4 = 12\n",
            "3 x 5 = 15\n",
            "3 x 6 = 18\n",
            "3 x 7 = 21\n",
            "3 x 8 = 24\n",
            "3 x 9 = 27\n"
          ]
        }
      ]
    },
    {
      "cell_type": "code",
      "source": [
        "# 구구단을 전부 출력하기\n",
        "\n",
        "for j in range(1,10):\n",
        "    for i in range(2,10):\n",
        "        print(f'{i} * {j} = {i * j}\\t' , end = '')\n",
        "    print()\n"
      ],
      "metadata": {
        "colab": {
          "base_uri": "https://localhost:8080/"
        },
        "id": "W_8rLOIV7GWk",
        "outputId": "219b5e2d-5b66-4232-b6da-885fbdcd006d"
      },
      "execution_count": null,
      "outputs": [
        {
          "output_type": "stream",
          "name": "stdout",
          "text": [
            "2 * 1 = 2\t3 * 1 = 3\t4 * 1 = 4\t5 * 1 = 5\t6 * 1 = 6\t7 * 1 = 7\t8 * 1 = 8\t9 * 1 = 9\t\n",
            "2 * 2 = 4\t3 * 2 = 6\t4 * 2 = 8\t5 * 2 = 10\t6 * 2 = 12\t7 * 2 = 14\t8 * 2 = 16\t9 * 2 = 18\t\n",
            "2 * 3 = 6\t3 * 3 = 9\t4 * 3 = 12\t5 * 3 = 15\t6 * 3 = 18\t7 * 3 = 21\t8 * 3 = 24\t9 * 3 = 27\t\n",
            "2 * 4 = 8\t3 * 4 = 12\t4 * 4 = 16\t5 * 4 = 20\t6 * 4 = 24\t7 * 4 = 28\t8 * 4 = 32\t9 * 4 = 36\t\n",
            "2 * 5 = 10\t3 * 5 = 15\t4 * 5 = 20\t5 * 5 = 25\t6 * 5 = 30\t7 * 5 = 35\t8 * 5 = 40\t9 * 5 = 45\t\n",
            "2 * 6 = 12\t3 * 6 = 18\t4 * 6 = 24\t5 * 6 = 30\t6 * 6 = 36\t7 * 6 = 42\t8 * 6 = 48\t9 * 6 = 54\t\n",
            "2 * 7 = 14\t3 * 7 = 21\t4 * 7 = 28\t5 * 7 = 35\t6 * 7 = 42\t7 * 7 = 49\t8 * 7 = 56\t9 * 7 = 63\t\n",
            "2 * 8 = 16\t3 * 8 = 24\t4 * 8 = 32\t5 * 8 = 40\t6 * 8 = 48\t7 * 8 = 56\t8 * 8 = 64\t9 * 8 = 72\t\n",
            "2 * 9 = 18\t3 * 9 = 27\t4 * 9 = 36\t5 * 9 = 45\t6 * 9 = 54\t7 * 9 = 63\t8 * 9 = 72\t9 * 9 = 81\t\n"
          ]
        }
      ]
    },
    {
      "cell_type": "code",
      "source": [
        "  #for i in range(2,10):\n",
        "   #     print(f'{i} * 1 = {i * 1}\\t' , end = '')"
      ],
      "metadata": {
        "colab": {
          "base_uri": "https://localhost:8080/"
        },
        "id": "omRLWvASBQmI",
        "outputId": "5b666a64-ba5c-4ade-be1f-26140aa91a7d"
      },
      "execution_count": null,
      "outputs": [
        {
          "output_type": "stream",
          "name": "stdout",
          "text": [
            "2 * 1 = 2\t3 * 1 = 3\t4 * 1 = 4\t5 * 1 = 5\t6 * 1 = 6\t7 * 1 = 7\t8 * 1 = 8\t9 * 1 = 9\t"
          ]
        }
      ]
    },
    {
      "cell_type": "code",
      "source": [
        "# 구구단을 횡 방향으로 출력하기\n",
        "\n",
        "for j in range(1,10):\n",
        "    for i in range(2,10):\n",
        "        print(f'{i} * {j} = {i * j}\\t' , end = '')\n",
        "    print()"
      ],
      "metadata": {
        "colab": {
          "base_uri": "https://localhost:8080/"
        },
        "id": "M8wUhRVo-E3Q",
        "outputId": "f9d46bd3-d4b0-4bbd-c377-8e0801cde434"
      },
      "execution_count": null,
      "outputs": [
        {
          "output_type": "stream",
          "name": "stdout",
          "text": [
            "2 * 1 = 2\t3 * 1 = 3\t4 * 1 = 4\t5 * 1 = 5\t6 * 1 = 6\t7 * 1 = 7\t8 * 1 = 8\t9 * 1 = 9\t\n",
            "2 * 2 = 4\t3 * 2 = 6\t4 * 2 = 8\t5 * 2 = 10\t6 * 2 = 12\t7 * 2 = 14\t8 * 2 = 16\t9 * 2 = 18\t\n",
            "2 * 3 = 6\t3 * 3 = 9\t4 * 3 = 12\t5 * 3 = 15\t6 * 3 = 18\t7 * 3 = 21\t8 * 3 = 24\t9 * 3 = 27\t\n",
            "2 * 4 = 8\t3 * 4 = 12\t4 * 4 = 16\t5 * 4 = 20\t6 * 4 = 24\t7 * 4 = 28\t8 * 4 = 32\t9 * 4 = 36\t\n",
            "2 * 5 = 10\t3 * 5 = 15\t4 * 5 = 20\t5 * 5 = 25\t6 * 5 = 30\t7 * 5 = 35\t8 * 5 = 40\t9 * 5 = 45\t\n",
            "2 * 6 = 12\t3 * 6 = 18\t4 * 6 = 24\t5 * 6 = 30\t6 * 6 = 36\t7 * 6 = 42\t8 * 6 = 48\t9 * 6 = 54\t\n",
            "2 * 7 = 14\t3 * 7 = 21\t4 * 7 = 28\t5 * 7 = 35\t6 * 7 = 42\t7 * 7 = 49\t8 * 7 = 56\t9 * 7 = 63\t\n",
            "2 * 8 = 16\t3 * 8 = 24\t4 * 8 = 32\t5 * 8 = 40\t6 * 8 = 48\t7 * 8 = 56\t8 * 8 = 64\t9 * 8 = 72\t\n",
            "2 * 9 = 18\t3 * 9 = 27\t4 * 9 = 36\t5 * 9 = 45\t6 * 9 = 54\t7 * 9 = 63\t8 * 9 = 72\t9 * 9 = 81\t\n"
          ]
        }
      ]
    },
    {
      "cell_type": "markdown",
      "source": [
        "표현식(Expression)\n",
        "- 하나 이상의 값, 변수, 연산자, 함수 호출 등을 조합하여 평가(evaluate)될 때 값을 생성하거나 반환하는 코드\n",
        "- 표현식은 계산되어 값이 되는 모든 것을 의미\n",
        "\n",
        "표현식의 예시:\n",
        "- 수치 계산: 2 + 3는 5라는 값을 반환\n",
        "- 문자열 조합: \"Hello \" + \"World\"는 \"Hello World\"라는 문자열을 생성\n",
        "- 논리 연산: x > 5는 x의 값에 따라 True 또는 False를 반환\n",
        "- 함수 호출: sum([1, 2, 3])은 리스트의 합인 6을 반환\n",
        "- 조건식: x if x > 0 else -x는 x가 양수면 x를, 음수면 -x를 반환"
      ],
      "metadata": {
        "id": "KS-9XgofGgN1"
      }
    },
    {
      "cell_type": "code",
      "source": [
        "# 각 단의 구구단 결과를 옆으로 출력\n",
        "for i in range(2,10):# 2단부터 9단까지\n",
        "    #각 단의 이름 중간에 출력\n",
        "    print(f\"{' '*5}{i}단{' '*5}\", end = \"\\t\") # 중간에 각 단의 이름을 출력\n",
        "print() # 단의 이름 출력 후 줄바꿈\n",
        "\n",
        "# 구분선 추가\n",
        "\n",
        "for i in range(2,10):\n",
        "    print(\"=\"*12 , end = \"\\t\")# 각 단마다 구분선을 출력\n",
        "print()\n",
        "\n",
        "# 각 단의 구구단 결과를 출력\n",
        "for j in range(1,10): # 1단부터 9단까지 곱할 숫자\n",
        "    for i in range(2,10): # 1단부터 9단까지\n",
        "        print(f'{i} * {j} = {i * j}\\t' , end = '') # 각 결과를 탭으로 구분하며 옆으로 출력\n",
        "    print() # 각 행의 출력이 끝난 후에 줄바꿈을 하여 다음 숫자로 넘어감\n",
        "\n"
      ],
      "metadata": {
        "colab": {
          "base_uri": "https://localhost:8080/"
        },
        "id": "YHg_X5xYCnJW",
        "outputId": "70d18223-1abe-4c70-ec06-fd744a87818b"
      },
      "execution_count": null,
      "outputs": [
        {
          "output_type": "stream",
          "name": "stdout",
          "text": [
            "     2단     \t     3단     \t     4단     \t     5단     \t     6단     \t     7단     \t     8단     \t     9단     \t\n",
            "============\t============\t============\t============\t============\t============\t============\t============\t\n",
            "2 * 1 = 2\t3 * 1 = 3\t4 * 1 = 4\t5 * 1 = 5\t6 * 1 = 6\t7 * 1 = 7\t8 * 1 = 8\t9 * 1 = 9\t\n",
            "2 * 2 = 4\t3 * 2 = 6\t4 * 2 = 8\t5 * 2 = 10\t6 * 2 = 12\t7 * 2 = 14\t8 * 2 = 16\t9 * 2 = 18\t\n",
            "2 * 3 = 6\t3 * 3 = 9\t4 * 3 = 12\t5 * 3 = 15\t6 * 3 = 18\t7 * 3 = 21\t8 * 3 = 24\t9 * 3 = 27\t\n",
            "2 * 4 = 8\t3 * 4 = 12\t4 * 4 = 16\t5 * 4 = 20\t6 * 4 = 24\t7 * 4 = 28\t8 * 4 = 32\t9 * 4 = 36\t\n",
            "2 * 5 = 10\t3 * 5 = 15\t4 * 5 = 20\t5 * 5 = 25\t6 * 5 = 30\t7 * 5 = 35\t8 * 5 = 40\t9 * 5 = 45\t\n",
            "2 * 6 = 12\t3 * 6 = 18\t4 * 6 = 24\t5 * 6 = 30\t6 * 6 = 36\t7 * 6 = 42\t8 * 6 = 48\t9 * 6 = 54\t\n",
            "2 * 7 = 14\t3 * 7 = 21\t4 * 7 = 28\t5 * 7 = 35\t6 * 7 = 42\t7 * 7 = 49\t8 * 7 = 56\t9 * 7 = 63\t\n",
            "2 * 8 = 16\t3 * 8 = 24\t4 * 8 = 32\t5 * 8 = 40\t6 * 8 = 48\t7 * 8 = 56\t8 * 8 = 64\t9 * 8 = 72\t\n",
            "2 * 9 = 18\t3 * 9 = 27\t4 * 9 = 36\t5 * 9 = 45\t6 * 9 = 54\t7 * 9 = 63\t8 * 9 = 72\t9 * 9 = 81\t\n"
          ]
        }
      ]
    },
    {
      "cell_type": "markdown",
      "source": [
        "Task5_0430. 사용자로부터 숫자를 입력받아 해당 숫자의 팩토리얼을 계산하세요."
      ],
      "metadata": {
        "id": "nqOSK4QDz0vo"
      }
    },
    {
      "cell_type": "code",
      "source": [
        " # 5! = 5 x 4 x 3 x 2 x 1 =120\n",
        "\n",
        "num = int(input('팩토리얼을 계산할 숫자를 입력하세요: '))\n",
        "factorial = 1\n",
        "\n",
        "for i in range(1 , num + 1):\n",
        "    factorial *= i\n",
        "print(f\"{num} 의 팩토리얼은 {factorial} 입니다.\")"
      ],
      "metadata": {
        "colab": {
          "base_uri": "https://localhost:8080/"
        },
        "id": "RxTR41NYG0Tv",
        "outputId": "93650a47-63db-4fd7-a68a-6ccc151e8ab5"
      },
      "execution_count": null,
      "outputs": [
        {
          "output_type": "stream",
          "name": "stdout",
          "text": [
            "팩토리얼을 계산할 숫자를 입력하세요: 5\n",
            "5 의 팩토리얼은 120 입니다.\n"
          ]
        }
      ]
    },
    {
      "cell_type": "markdown",
      "source": [
        "Task6_0430. 0부터 20까지의 숫자 중에서 짝수와 홀수를 분리하여 두 개의 리스트에 저장하세요."
      ],
      "metadata": {
        "id": "xg9SNC3Iz2IW"
      }
    },
    {
      "cell_type": "code",
      "source": [
        "\n",
        "for i in range(1,21):\n",
        "    if i >= 1:\n",
        "        if i % 2 == 0:\n",
        "            print(i , end = ' ')\n",
        "\n",
        "\n",
        "\n"
      ],
      "metadata": {
        "colab": {
          "base_uri": "https://localhost:8080/"
        },
        "id": "x_9gP2t301bt",
        "outputId": "a6c29747-84fd-4c48-f301-55a7a21cf456"
      },
      "execution_count": null,
      "outputs": [
        {
          "output_type": "stream",
          "name": "stdout",
          "text": [
            "2 4 6 8 10 12 14 16 18 20 "
          ]
        }
      ]
    },
    {
      "cell_type": "code",
      "source": [
        "# 문제 해결\n",
        "\n",
        "num1 = []\n",
        "num2 = []\n",
        "\n",
        "for i in range(21):\n",
        "    if i % 2 == 0:\n",
        "        num1.append(i)\n",
        "    else:\n",
        "        num2.append(i)\n",
        "\n",
        "print(num1)\n",
        "print(num2)"
      ],
      "metadata": {
        "colab": {
          "base_uri": "https://localhost:8080/"
        },
        "id": "ifD8boQyH7uN",
        "outputId": "dcf4e978-16a3-4efc-8b4e-9eed9e2e105c"
      },
      "execution_count": null,
      "outputs": [
        {
          "output_type": "stream",
          "name": "stdout",
          "text": [
            "[0, 2, 4, 6, 8, 10, 12, 14, 16, 18, 20]\n",
            "[1, 3, 5, 7, 9, 11, 13, 15, 17, 19]\n"
          ]
        }
      ]
    },
    {
      "cell_type": "markdown",
      "source": [
        "Task7_0430. 주어진 리스트에서 최대값을 찾아 출력하세요.\n",
        "- numbers[34,78,2,45,99,23]"
      ],
      "metadata": {
        "id": "2dy2s6tUz3nX"
      }
    },
    {
      "cell_type": "code",
      "source": [
        "numbers = [34,78,2,45,99,23]\n",
        "\n",
        "max_num = max(numbers)\n",
        "print(max_num)\n"
      ],
      "metadata": {
        "colab": {
          "base_uri": "https://localhost:8080/"
        },
        "id": "afl2nHUN01_w",
        "outputId": "377a94ee-19ca-4b14-9eb1-50562e049f38"
      },
      "execution_count": null,
      "outputs": [
        {
          "output_type": "stream",
          "name": "stdout",
          "text": [
            "99\n"
          ]
        }
      ]
    },
    {
      "cell_type": "code",
      "source": [
        "# 문제 해결\n",
        "\n",
        "numbers = [34,78,2,45,99,23]\n",
        "\n",
        "max = 0\n",
        "\n",
        "for i in numbers:\n",
        "    if i > max:\n",
        "        max = i\n",
        "print(max)"
      ],
      "metadata": {
        "colab": {
          "base_uri": "https://localhost:8080/"
        },
        "id": "w1zo_48KIcRE",
        "outputId": "0b0619b3-5d9f-465e-fc1c-7f281ae46416"
      },
      "execution_count": null,
      "outputs": [
        {
          "output_type": "stream",
          "name": "stdout",
          "text": [
            "99\n"
          ]
        }
      ]
    },
    {
      "cell_type": "markdown",
      "source": [
        "Task8_0430.  1부터 10 사이의 임의의 숫자를 맞추는 게임을 만드세요. 사용자가 숫자를 맞출 때까지 입력을 계속 받으며, 정답을 맞추면 게임을 종료하세요.\n",
        "- 단, 입력숫자가 정답보다 큰지 작은지 힌트를 주는 방식으로 코드 작성"
      ],
      "metadata": {
        "id": "BKyqZls5z_pY"
      }
    },
    {
      "cell_type": "code",
      "source": [
        "# 숫자 맞추기 게임\n",
        "import random\n",
        "target_number = random.randint(1,10)\n",
        "while True:\n",
        "    guess = int(input(\"1부터 10 사이의 숫자를 맞춰보세요: \"))\n",
        "    if guess > target_number:\n",
        "        print(\"더 작은 숫자입니다 !\")\n",
        "    elif guess < target_number:\n",
        "        print(\"더 큰 숫자입니다!\")\n",
        "    else:\n",
        "        print(\"정답입니다\")\n",
        "        break\n"
      ],
      "metadata": {
        "id": "M3kw7efg02up",
        "colab": {
          "base_uri": "https://localhost:8080/"
        },
        "outputId": "7704c547-fe94-4f3f-94f6-766bb691f9b0"
      },
      "execution_count": null,
      "outputs": [
        {
          "output_type": "stream",
          "name": "stdout",
          "text": [
            "1부터 10 사이의 숫자를 맞춰보세요: 9\n",
            "더 작은 숫자입니다 !\n",
            "1부터 10 사이의 숫자를 맞춰보세요: 4\n",
            "더 작은 숫자입니다 !\n",
            "1부터 10 사이의 숫자를 맞춰보세요: 3\n",
            "정답입니다\n"
          ]
        }
      ]
    },
    {
      "cell_type": "markdown",
      "source": [
        "Task9_0430. 태어난 연도를 입력받아 띠를 출력하는 프로그램을 작성하세요."
      ],
      "metadata": {
        "id": "-XwV0CTq0CiG"
      }
    },
    {
      "cell_type": "code",
      "source": [
        "birth_year = int(input(\"태어난 연도를 입력하세요: \"))\n",
        "\n",
        "zodiacs = [\"쥐\", \"소\" , \" 호랑이\" , \"토끼\" , \"용\" , \"뱀\" , \"말\" , \"양\" , \"원숭이\" , \"닭\" , \"개\", \" 돼지\"]\n",
        "zodiac_index = (birth_year - 1924) % 12\n",
        "zodiac = zodiacs[zodiac_index]\n",
        "\n",
        "print(f\"{birth_year} 년은 {zodiac}띠 입니다\")\n",
        "\n",
        "# [\"원숭이\" , \"닭\" , \"개\", \" 돼지\" ,\"쥐\", \"소\" , \" 호랑이\" , \"토끼\" , \"용\" , \"뱀\" , \"말\" , \"양\"]"
      ],
      "metadata": {
        "colab": {
          "base_uri": "https://localhost:8080/"
        },
        "id": "rTSwkRjGKxc8",
        "outputId": "ecc7332b-9176-4480-a7c7-3c5cc997ebb3"
      },
      "execution_count": null,
      "outputs": [
        {
          "output_type": "stream",
          "name": "stdout",
          "text": [
            "태어난 연도를 입력하세요: 1996\n",
            "1996 년은 쥐띠 입니다\n"
          ]
        }
      ]
    },
    {
      "cell_type": "code",
      "source": [
        "y = [\"원숭이\" , \"닭\" , \"개\", \" 돼지\" ,\"쥐\", \"소\" , \" 호랑이\" , \"토끼\" , \"용\" , \"뱀\" , \"말\" , \"양\"]\n",
        "x = int(input(\"태어난 연도를 입력하세요: \"))\n",
        "print(f'{y[x%12]} 띠입니다')\n"
      ],
      "metadata": {
        "colab": {
          "base_uri": "https://localhost:8080/"
        },
        "id": "t4V55cv7NJAD",
        "outputId": "c608f443-a860-4585-9618-c0e1e8d0df90"
      },
      "execution_count": null,
      "outputs": [
        {
          "output_type": "stream",
          "name": "stdout",
          "text": [
            "태어난 연도를 입력하세요: 1996\n",
            "쥐 띠입니다\n"
          ]
        }
      ]
    },
    {
      "cell_type": "markdown",
      "source": [
        "Task10_0430. 아래 사항을 반영하여 커피 자판기 프로그램을 작성하세요.\n",
        "- 시나리오 : 자판기 커피 재고 5잔, 커피 1잔 가격 300원, 재고 범위내에서 300원 이상 돈을 넣으면 거스름돈과 커피를 주고 그렇지 않으면 반환하며 재고가 소진되면 안내멘트 출력\n",
        "- 각 Case별 멘트 출력은 상황에 맞게 창작\n",
        "- while, if ~ elif ~ else 제어문을 사용하여 작성"
      ],
      "metadata": {
        "id": "4khbZB-a0Giy"
      }
    },
    {
      "cell_type": "code",
      "source": [
        "coffee = 5\n",
        "\n",
        "while True:\n",
        "    money = int(input(\"돈을 주시면 커피를 드립니다\"))\n",
        "    if money == 300:\n",
        "        print(\"커피를 맛있게 드세요\")\n",
        "        coffee -= 1\n",
        "    elif money > 300:\n",
        "        print(\"거스름돈 %d원을 받으시고 커피를 맛있게 드세요.\" %(money-300))\n",
        "        coffee -= 1\n",
        "    else:\n",
        "        print(\"금액이 부족하여 %d원을 반환합니다.\" %(money))\n",
        "    if coffee3 == 0:\n",
        "        print(\"죄송합니다. 커피가 소진되었네요. 1시간 뒤에 준비해 놓을게요 !\")\n",
        "        break"
      ],
      "metadata": {
        "colab": {
          "base_uri": "https://localhost:8080/"
        },
        "id": "LcbsLV1aQVps",
        "outputId": "946ce901-72ea-42a0-8e2c-b245f029c564"
      },
      "execution_count": null,
      "outputs": [
        {
          "output_type": "stream",
          "name": "stdout",
          "text": [
            "돈을 주시면 커피를 드립니다500\n",
            "거스름돈 200원을 받으시고 커피를 맛있게 드세요.\n",
            "돈을 주시면 커피를 드립니다400\n",
            "거스름돈 100원을 받으시고 커피를 맛있게 드세요.\n",
            "돈을 주시면 커피를 드립니다100\n",
            "금액이 부족하여 100원을 반환합니다.\n",
            "돈을 주시면 커피를 드립니다500\n",
            "거스름돈 200원을 받으시고 커피를 맛있게 드세요.\n",
            "돈을 주시면 커피를 드립니다00\n",
            "금액이 부족하여 0원을 반환합니다.\n",
            "돈을 주시면 커피를 드립니다500\n",
            "거스름돈 200원을 받으시고 커피를 맛있게 드세요.\n",
            "돈을 주시면 커피를 드립니다500\n",
            "거스름돈 200원을 받으시고 커피를 맛있게 드세요.\n",
            "죄송합니다. 커피가 소진되었네요. 1시간 뒤에 준비해 놓을게요 !\n"
          ]
        }
      ]
    },
    {
      "cell_type": "code",
      "source": [
        "# Q . 로또 번호 6개를 6세트 출력하는 코드를 작성하세요(중복 안됨)\n",
        "\n",
        "import random\n",
        "\n",
        "r = list(range(1,46))\n",
        "print(r)\n",
        "for i in range(6):\n",
        "    lotto = random.sample(r,6)\n",
        "    print(lotto)\n"
      ],
      "metadata": {
        "colab": {
          "base_uri": "https://localhost:8080/"
        },
        "id": "r96_3t4WS70p",
        "outputId": "630ef388-5315-4310-ea52-9c68f3947dd8"
      },
      "execution_count": null,
      "outputs": [
        {
          "output_type": "stream",
          "name": "stdout",
          "text": [
            "[1, 2, 3, 4, 5, 6, 7, 8, 9, 10, 11, 12, 13, 14, 15, 16, 17, 18, 19, 20, 21, 22, 23, 24, 25, 26, 27, 28, 29, 30, 31, 32, 33, 34, 35, 36, 37, 38, 39, 40, 41, 42, 43, 44, 45]\n",
            "[23, 43, 39, 38, 1, 10]\n",
            "[13, 5, 33, 37, 30, 39]\n",
            "[37, 8, 38, 13, 20, 21]\n",
            "[37, 16, 33, 12, 28, 31]\n",
            "[4, 29, 43, 34, 36, 13]\n",
            "[37, 40, 15, 39, 27, 3]\n"
          ]
        }
      ]
    },
    {
      "cell_type": "code",
      "source": [
        "# Q . n개 그룹으로 분류하는 코드를 작성하세요.\n",
        "\n",
        "kita = ['김성현','황강민','윤호준','류윤선','이상협','박지환','최환욱','서보선','김한결',\n",
        "        '김도현','김하준', '김도원','신현진','소지승','이범석','이현석','이명신','박윤경','이도헌','김홍준']\n",
        "\n",
        "n = int(input(\"몇개의 그룹으로 나누시겠습니까?\"))\n",
        "random.shuffle(kita)\n",
        "print(kita)\n",
        "groups = [kita[i::n] for i in range(n)]\n",
        "print(groups)\n",
        "for idx , group in enumerate(groups):\n",
        "    print(f\"그룹{idx + 1}: {group}\")"
      ],
      "metadata": {
        "colab": {
          "base_uri": "https://localhost:8080/"
        },
        "id": "hSOf0pmbTj8f",
        "outputId": "9ecb75ea-d543-4a07-e36e-e4ca0d49ed47"
      },
      "execution_count": null,
      "outputs": [
        {
          "output_type": "stream",
          "name": "stdout",
          "text": [
            "몇개의 그룹으로 나누시겠습니까?5\n",
            "['서보선', '박지환', '김하준', '이범석', '김도원', '신현진', '황강민', '이상협', '이현석', '김한결', '김성현', '윤호준', '이명신', '김도현', '최환욱', '박윤경', '이도헌', '김홍준', '소지승', '류윤선']\n",
            "[['서보선', '신현진', '김성현', '박윤경'], ['박지환', '황강민', '윤호준', '이도헌'], ['김하준', '이상협', '이명신', '김홍준'], ['이범석', '이현석', '김도현', '소지승'], ['김도원', '김한결', '최환욱', '류윤선']]\n",
            "그룹1: ['서보선', '신현진', '김성현', '박윤경']\n",
            "그룹2: ['박지환', '황강민', '윤호준', '이도헌']\n",
            "그룹3: ['김하준', '이상협', '이명신', '김홍준']\n",
            "그룹4: ['이범석', '이현석', '김도현', '소지승']\n",
            "그룹5: ['김도원', '김한결', '최환욱', '류윤선']\n"
          ]
        }
      ]
    },
    {
      "cell_type": "code",
      "source": [
        "# Q . 1부터 100까지의 정수중 5에서 95까지의 합을 구하세요\n",
        "\n",
        "n = 5\n",
        "sum = 0\n",
        "\n",
        "for i in range(101):\n",
        "    if n <= 95:\n",
        "        sum += n\n",
        "        n += 1\n",
        "print(sum)"
      ],
      "metadata": {
        "colab": {
          "base_uri": "https://localhost:8080/"
        },
        "id": "KiwofZfbTrvh",
        "outputId": "a11650ff-7581-4394-ad73-9664c11e5198"
      },
      "execution_count": null,
      "outputs": [
        {
          "output_type": "stream",
          "name": "stdout",
          "text": [
            "4550\n"
          ]
        }
      ]
    },
    {
      "cell_type": "code",
      "source": [
        "# Q . 1부터 100까지의 정수중 5에서 95까지의 합을 구하세요\n",
        "\n",
        "# 문제 해결 2\n",
        "\n",
        "i = 1\n",
        "sum = 0\n",
        "\n",
        "while i <= 100:\n",
        "    if i >=5 and i <= 95:\n",
        "        sum += i\n",
        "    i += 1\n",
        "print(sum)"
      ],
      "metadata": {
        "colab": {
          "base_uri": "https://localhost:8080/"
        },
        "id": "ysNoJ80cvJJM",
        "outputId": "6a6b1507-88de-42f4-d6eb-58d2e6248cba"
      },
      "execution_count": null,
      "outputs": [
        {
          "output_type": "stream",
          "name": "stdout",
          "text": [
            "4550\n"
          ]
        }
      ]
    },
    {
      "cell_type": "code",
      "source": [
        "# Q . while문을 사용해 1부터 1000까지의 정수 중 3과 5의 공배수의 합을 구해 보세요.\n",
        "\n",
        "n = 1\n",
        "sum = 0\n",
        "\n",
        "while n <= 1000:\n",
        "    n += 1\n",
        "    if n % 3 == 0 and n % 5 == 0:\n",
        "        sum += n\n",
        "print(sum)"
      ],
      "metadata": {
        "colab": {
          "base_uri": "https://localhost:8080/"
        },
        "id": "4zQmNAA8T8j_",
        "outputId": "3ff212db-6b05-42ff-d20e-2bd6c38ae106"
      },
      "execution_count": null,
      "outputs": [
        {
          "output_type": "stream",
          "name": "stdout",
          "text": [
            "33165\n"
          ]
        }
      ]
    },
    {
      "cell_type": "code",
      "source": [
        "# 문제 해결\n",
        "\n",
        "i = 1\n",
        "sum = 0\n",
        "\n",
        "while i <= 1000:\n",
        "    if i % 3 == 0 and i % 5 == 0:\n",
        "        sum += i\n",
        "    i += 1\n",
        "print(sum)\n"
      ],
      "metadata": {
        "colab": {
          "base_uri": "https://localhost:8080/"
        },
        "id": "UGivpslow3iI",
        "outputId": "005d53c4-634d-49b0-ee4c-d9ee7f97790f"
      },
      "execution_count": null,
      "outputs": [
        {
          "output_type": "stream",
          "name": "stdout",
          "text": [
            "33165\n"
          ]
        }
      ]
    },
    {
      "cell_type": "code",
      "source": [
        "# Q . 현재 시각을 오전과 오후로 구분하는 프로그램을 작성하세요\n",
        "\n",
        "import datetime\n",
        "\n",
        "now = datetime.datetime.now()\n",
        "now_time = now.hour\n",
        "now_time"
      ],
      "metadata": {
        "colab": {
          "base_uri": "https://localhost:8080/"
        },
        "id": "4oG7NB-kUDli",
        "outputId": "c742520e-46b0-459a-aeeb-f39a78b3639b"
      },
      "execution_count": null,
      "outputs": [
        {
          "output_type": "execute_result",
          "data": {
            "text/plain": [
              "3"
            ]
          },
          "metadata": {},
          "execution_count": 209
        }
      ]
    },
    {
      "cell_type": "code",
      "source": [
        "# 문제 해결\n",
        "\n",
        "import datetime\n",
        "import pytz\n",
        "\n",
        "tz = pytz.timezone('Asia/Seoul')\n",
        "now = datetime.datetime.now(tz)\n",
        "now_time = now.hour\n",
        "now_time # 현재시각\n",
        "\n",
        "if now_time >= 12:\n",
        "    print(\"오후 입니다.\")\n",
        "\n",
        "else:\n",
        "    print(\"오전 입니다.\")"
      ],
      "metadata": {
        "colab": {
          "base_uri": "https://localhost:8080/"
        },
        "id": "NeRYlWFWxr0A",
        "outputId": "f90b3ddb-ac61-4733-823d-bd70620a7ec1"
      },
      "execution_count": null,
      "outputs": [
        {
          "output_type": "stream",
          "name": "stdout",
          "text": [
            "오후 입니다.\n"
          ]
        }
      ]
    },
    {
      "cell_type": "code",
      "source": [
        "# 다양한 오류 입력에 대한 해결 방안 추가 필요\n",
        "\n",
        "time = input(\"현재 시간을 입력하세요(ex. 15시 30분 , 15시): \")\n",
        "\n",
        "if '시' not in time:\n",
        "    print(\"형식에 맞춰 작성해 주세요.\")\n",
        "elif int(time.split('시')[0]) >= 0 and int(time.split('시')[0]) < 12:\n",
        "    print(\"오전 입니다.\")\n",
        "elif int(time.split('시')[0]) >= 12 and int(time.split('시')[0]) < 24:\n",
        "    print(\"오후 입니다.\")\n",
        "\n",
        "else:\n",
        "    print(\"시간을 다시 입력해 주세요\")"
      ],
      "metadata": {
        "colab": {
          "base_uri": "https://localhost:8080/"
        },
        "id": "WW-rnJkx0L6A",
        "outputId": "0a9e5d9a-cf5f-4bcf-860b-81199892dc2c"
      },
      "execution_count": null,
      "outputs": [
        {
          "output_type": "stream",
          "name": "stdout",
          "text": [
            "현재 시간을 입력하세요(ex. 15시 30분 , 15시): 15시 34분\n",
            "오후 입니다.\n"
          ]
        }
      ]
    },
    {
      "cell_type": "markdown",
      "source": [
        "Task1_0502. 짝수와 짝수를 입력하면 곱한 값을 출력하고 홀수와 홀수를 입력하면 덧셈 값을 출력하고 그외는 다시 입력하라는 메시지를 출력하세요."
      ],
      "metadata": {
        "id": "Oyc2ybFH2KAT"
      }
    },
    {
      "cell_type": "code",
      "source": [],
      "metadata": {
        "id": "WUSJtgQI3wwD"
      },
      "execution_count": null,
      "outputs": []
    },
    {
      "cell_type": "markdown",
      "source": [
        "# pop함수\n",
        "\n",
        "- 리스트와 같은 자료 구조에서 주로 사용되는 함수\n",
        "- 이 함수는 특정 인덱스에 위치한 요소를 리스트에서 제거하고 해당 요소를 반환"
      ],
      "metadata": {
        "id": "bW-Tc7-z3i10"
      }
    },
    {
      "cell_type": "code",
      "source": [
        "fruits = [\"apple\", \"banana\" , \"cherry\" , \"data\"]\n",
        "\n",
        "# 인덱스 2의 요소 (cherry)를 제거하고 반환\n",
        "\n",
        "removed_fruit = fruits.pop(2)\n",
        "print(removed_fruit)\n",
        "print(fruits)\n",
        "\n",
        "# 리스트의 마지막 요소 (data)를 제거하고 반환\n",
        "last_fruit = fruits.pop()\n",
        "print(last_fruit)\n",
        "print(fruits)"
      ],
      "metadata": {
        "colab": {
          "base_uri": "https://localhost:8080/"
        },
        "id": "8GLlpqMM2OpB",
        "outputId": "052ce3a5-6834-4dd3-d4a6-6f4d456ffc98"
      },
      "execution_count": null,
      "outputs": [
        {
          "output_type": "stream",
          "name": "stdout",
          "text": [
            "cherry\n",
            "['apple', 'banana', 'data']\n",
            "data\n",
            "['apple', 'banana']\n"
          ]
        }
      ]
    },
    {
      "cell_type": "markdown",
      "source": [
        "Task2_0502. 현재 계절 구분 프로그램\n",
        "- 시나리오 : 3 ~ 5월은 봄, 6 ~ 8월은 여름, 9 ~ 11월은 가을, 12 ~ 2월은 겨울로 구분. 지금 계절을 알려주는 프로그램\n",
        "- 각 계절별 출력 멘트는 계절에 맞게 창작\n",
        "- if 조건문으로 datetime 모듈을 import해서 datetime.now 함수를 사용해서 작성"
      ],
      "metadata": {
        "id": "sEBYjHUX5hg1"
      }
    },
    {
      "cell_type": "markdown",
      "source": [
        "Task3_0502. 1부터 99까지 아래와 같이 2개의 수를 곱해서 가장 큰 수를 구하세요.\n",
        "\n",
        "`1*99, 2*98 ...99*1`"
      ],
      "metadata": {
        "id": "gKz_B_yD5y9l"
      }
    },
    {
      "cell_type": "code",
      "source": [],
      "metadata": {
        "id": "HME4zvmzJxbz"
      },
      "execution_count": null,
      "outputs": []
    },
    {
      "cell_type": "markdown",
      "source": [
        "Task4_0502. [    ]을 채워서 아래의 출력과 같이 출력하세요.\n",
        "\n",
        "- numbers = [1,2,3,4,5,6,7,8,9]\n",
        "- output = [[], [], []]\n",
        "\n",
        "\n",
        "# [[1,4,7],[2,5,8],[3,6,9]]"
      ],
      "metadata": {
        "id": "Y-M-zWqz6FbT"
      }
    },
    {
      "cell_type": "code",
      "source": [
        "numbers = [1,2,3,4,5,6,7,8,9]\n",
        "\n",
        "\n"
      ],
      "metadata": {
        "colab": {
          "base_uri": "https://localhost:8080/",
          "height": 183
        },
        "id": "RqZX-U7jJ_LN",
        "outputId": "008a414d-6b60-4cbd-ee52-387163ddd007"
      },
      "execution_count": null,
      "outputs": [
        {
          "output_type": "error",
          "ename": "TypeError",
          "evalue": "list indices must be integers or slices, not tuple",
          "traceback": [
            "\u001b[0;31m---------------------------------------------------------------------------\u001b[0m",
            "\u001b[0;31mTypeError\u001b[0m                                 Traceback (most recent call last)",
            "\u001b[0;32m<ipython-input-342-056ada260c95>\u001b[0m in \u001b[0;36m<cell line: 3>\u001b[0;34m()\u001b[0m\n\u001b[1;32m      1\u001b[0m \u001b[0mnumbers\u001b[0m \u001b[0;34m=\u001b[0m \u001b[0;34m[\u001b[0m\u001b[0;36m1\u001b[0m\u001b[0;34m,\u001b[0m\u001b[0;36m2\u001b[0m\u001b[0;34m,\u001b[0m\u001b[0;36m3\u001b[0m\u001b[0;34m,\u001b[0m\u001b[0;36m4\u001b[0m\u001b[0;34m,\u001b[0m\u001b[0;36m5\u001b[0m\u001b[0;34m,\u001b[0m\u001b[0;36m6\u001b[0m\u001b[0;34m,\u001b[0m\u001b[0;36m7\u001b[0m\u001b[0;34m,\u001b[0m\u001b[0;36m8\u001b[0m\u001b[0;34m,\u001b[0m\u001b[0;36m9\u001b[0m\u001b[0;34m]\u001b[0m\u001b[0;34m\u001b[0m\u001b[0;34m\u001b[0m\u001b[0m\n\u001b[1;32m      2\u001b[0m \u001b[0;34m\u001b[0m\u001b[0m\n\u001b[0;32m----> 3\u001b[0;31m \u001b[0mprint\u001b[0m\u001b[0;34m(\u001b[0m\u001b[0mnumbers\u001b[0m\u001b[0;34m[\u001b[0m\u001b[0;36m0\u001b[0m\u001b[0;34m,\u001b[0m\u001b[0;36m4\u001b[0m\u001b[0;34m,\u001b[0m\u001b[0;36m6\u001b[0m\u001b[0;34m]\u001b[0m\u001b[0;34m)\u001b[0m\u001b[0;34m\u001b[0m\u001b[0;34m\u001b[0m\u001b[0m\n\u001b[0m",
            "\u001b[0;31mTypeError\u001b[0m: list indices must be integers or slices, not tuple"
          ]
        }
      ]
    },
    {
      "cell_type": "markdown",
      "source": [
        "Task5_0502. 주어진 리스트에서 중복된 요소를 제거하고, 남은 요소만을 포함하는 새 리스트를 반환합니다. 순서는 유지해야 합니다.\n",
        "\n",
        "- input_list = [1, 2, 2, 3, 4, 4, 4, 5, 6, 7, 7]\n"
      ],
      "metadata": {
        "id": "8icyjTuS6YtJ"
      }
    },
    {
      "cell_type": "code",
      "source": [
        "input_list = [1, 2, 2, 3, 4, 4, 4, 5, 6, 7, 7]\n",
        "\n",
        "result = [input_list[0]]\n",
        "\n",
        "for i in input_list[1:]:\n",
        "    if i != result[-1]:\n",
        "        result.append(i)\n",
        "print(result)\n"
      ],
      "metadata": {
        "colab": {
          "base_uri": "https://localhost:8080/"
        },
        "id": "ow_ROrejAMoQ",
        "outputId": "5a56233a-e20e-48e0-b908-ee827c149ac2"
      },
      "execution_count": null,
      "outputs": [
        {
          "output_type": "stream",
          "name": "stdout",
          "text": [
            "[1, 2, 3, 4, 5, 6, 7]\n"
          ]
        }
      ]
    },
    {
      "cell_type": "markdown",
      "source": [
        "Task6_0502. 주어진 문자열을 모스코드로 변환하는 함수를 작성하세요. 공백은 무시하고 알파벳만 변환하세요\n",
        "\n",
        "- input_text = \"Hello World\""
      ],
      "metadata": {
        "id": "SwQE1KLw7Jiq"
      }
    },
    {
      "cell_type": "code",
      "source": [
        "morse_code = {\n",
        "        'A': '.-', 'B': '-...', 'C': '-.-.', 'D': '-..', 'E': '.', 'F': '..-.',\n",
        "        'G': '--.', 'H': '....', 'I': '..', 'J': '.---', 'K': '-.-', 'L': '.-..',\n",
        "        'M': '--', 'N': '-.', 'O': '---', 'P': '.--.', 'Q': '--.-', 'R': '.-.',\n",
        "        'S': '...', 'T': '-', 'U': '..-', 'V': '...-', 'W': '.--', 'X': '-..-',\n",
        "        'Y': '-.--', 'Z': '--..'\n",
        "    }"
      ],
      "metadata": {
        "id": "8BpjzprT633v"
      },
      "execution_count": null,
      "outputs": []
    },
    {
      "cell_type": "markdown",
      "source": [
        "Task7_0502. 주어진 비대칭 m×n 매트릭스(2차원 리스트)에서, 모든 대각선 상의 합을 계산하는 함수를 작성하세요. 결과는 각 대각선의 합을 리스트로 반환해야 합니다."
      ],
      "metadata": {
        "id": "GcjwxHML7RPX"
      }
    },
    {
      "cell_type": "code",
      "source": [
        "input_matrix = [\n",
        "    [1, 2, 3],\n",
        "    [4, 5, 6],\n",
        "    [7, 8, 9],\n",
        "    [10, 11, 12]\n",
        "]\n",
        "\n",
        "[1,6,15,24,20,12]"
      ],
      "metadata": {
        "id": "Tqt6Wd_H7lMT"
      },
      "execution_count": null,
      "outputs": []
    },
    {
      "cell_type": "code",
      "source": [
        "#  Q . 가위 바위 보 게임을 프로그래밍하세요\n",
        "# player가 3승 할때 까지 계속 진행되는 가위바위보 게임 프로그램을 작성하세요\n",
        "\n",
        "import random\n",
        "\n",
        "com = ['가위', '바위', '보']\n",
        "\n",
        "win = [('가위' , '바위') , ('바위' , '보') , ('보' , '가위')]\n",
        "\n",
        "while 1:\n",
        "    com_select == random.choice(com)\n",
        "    player = input(\"무엇을 내시겠습니다?: \")\n",
        "\n",
        "    if\n"
      ],
      "metadata": {
        "colab": {
          "base_uri": "https://localhost:8080/",
          "height": 238
        },
        "id": "FQMO5SN_79xc",
        "outputId": "21e17f4f-6948-44aa-fcca-7b2d8c6660c8"
      },
      "execution_count": null,
      "outputs": [
        {
          "name": "stdout",
          "output_type": "stream",
          "text": [
            "가위/바위/보 입력: 가위\n"
          ]
        },
        {
          "output_type": "error",
          "ename": "NameError",
          "evalue": "name '가위' is not defined",
          "traceback": [
            "\u001b[0;31m---------------------------------------------------------------------------\u001b[0m",
            "\u001b[0;31mNameError\u001b[0m                                 Traceback (most recent call last)",
            "\u001b[0;32m<ipython-input-305-5fca92074a9d>\u001b[0m in \u001b[0;36m<cell line: 7>\u001b[0;34m()\u001b[0m\n\u001b[1;32m      5\u001b[0m \u001b[0mhand\u001b[0m \u001b[0;34m=\u001b[0m \u001b[0mstr\u001b[0m\u001b[0;34m(\u001b[0m\u001b[0minput\u001b[0m\u001b[0;34m(\u001b[0m\u001b[0;34m\"가위/바위/보 입력: \"\u001b[0m\u001b[0;34m)\u001b[0m\u001b[0;34m)\u001b[0m\u001b[0;34m\u001b[0m\u001b[0;34m\u001b[0m\u001b[0m\n\u001b[1;32m      6\u001b[0m \u001b[0mwin_case\u001b[0m \u001b[0;34m=\u001b[0m \u001b[0;34m(\u001b[0m\u001b[0;34m'가위:보'\u001b[0m \u001b[0;34m,\u001b[0m \u001b[0;34m'바위:가위'\u001b[0m\u001b[0;34m,\u001b[0m \u001b[0;34m'보:바위'\u001b[0m\u001b[0;34m)\u001b[0m\u001b[0;34m\u001b[0m\u001b[0;34m\u001b[0m\u001b[0m\n\u001b[0;32m----> 7\u001b[0;31m \u001b[0;32mif\u001b[0m \u001b[0mhand\u001b[0m \u001b[0;34m>\u001b[0m \u001b[0m가위\u001b[0m\u001b[0;34m:\u001b[0m\u001b[0;34m\u001b[0m\u001b[0;34m\u001b[0m\u001b[0m\n\u001b[0m\u001b[1;32m      8\u001b[0m     \u001b[0mprint\u001b[0m\u001b[0;34m(\u001b[0m\u001b[0;34mf'이겼습니다'\u001b[0m\u001b[0;34m)\u001b[0m\u001b[0;34m\u001b[0m\u001b[0;34m\u001b[0m\u001b[0m\n\u001b[1;32m      9\u001b[0m \u001b[0;34m\u001b[0m\u001b[0m\n",
            "\u001b[0;31mNameError\u001b[0m: name '가위' is not defined"
          ]
        }
      ]
    },
    {
      "cell_type": "code",
      "source": [
        "import random\n",
        "\n",
        "com_hand = ['가위' , '바위', '보']\n",
        "win_case = {'가위':'바위' , '바위':'보' , '보': '가위'}\n",
        "win_number = 0\n",
        "\n",
        "print('가위 바위 보 게임을 시작합나디.(3회 승리시 종료)')\n",
        "print('주의 : 오타는 패배로 간주됩니다')\n",
        "\n",
        "while 1:\n",
        "    com_select = com_hand[random.randint(0,2)]\n",
        "    you_select = input('가위/바위/보 입력:')\n",
        "    print(f'컴퓨터는 {com_select}입니다.')\n",
        "\n",
        "    if win_case[com_select] == you_select:\n",
        "        win_number += 1\n",
        "        print(f'이겼습니다. 현재 {win_number}승 입니다')\n",
        "\n",
        "    else:\n",
        "        if com_select == you_select:\n",
        "            print('비겼습니다')\n",
        "        else:\n",
        "            print('졌습니다')\n",
        "    if win_number == 3:\n",
        "        print('3승을 달성하여 게임이 종료됩니다')\n",
        "        break"
      ],
      "metadata": {
        "colab": {
          "base_uri": "https://localhost:8080/"
        },
        "id": "S53v6B0KDFYZ",
        "outputId": "e977f83d-ca9b-4ce9-e155-7cfb0f2e2b8a"
      },
      "execution_count": null,
      "outputs": [
        {
          "output_type": "stream",
          "name": "stdout",
          "text": [
            "가위 바위 보 게임을 시작합나디.(3회 승리시 종료)\n",
            "주의 : 오타는 패배로 간주됩니다\n",
            "가위/바위/보 입력:가위\n",
            "컴퓨터는 가위입니다.\n",
            "비겼습니다\n",
            "가위/바위/보 입력:가위\n",
            "컴퓨터는 보입니다.\n",
            "이겼습니다. 현재 1승 입니다\n",
            "가위/바위/보 입력:바위\n",
            "컴퓨터는 가위입니다.\n",
            "이겼습니다. 현재 2승 입니다\n",
            "가위/바위/보 입력:보\n",
            "컴퓨터는 보입니다.\n",
            "비겼습니다\n",
            "가위/바위/보 입력:가위\n",
            "컴퓨터는 바위입니다.\n",
            "졌습니다\n",
            "가위/바위/보 입력:가위\n",
            "컴퓨터는 보입니다.\n",
            "이겼습니다. 현재 3승 입니다\n",
            "3승을 달성하여 게임이 종료됩니다\n"
          ]
        }
      ]
    }
  ]
}