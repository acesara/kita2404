{
  "nbformat": 4,
  "nbformat_minor": 0,
  "metadata": {
    "colab": {
      "provenance": []
    },
    "kernelspec": {
      "name": "python3",
      "display_name": "Python 3"
    },
    "language_info": {
      "name": "python"
    }
  },
  "cells": [
    {
      "cell_type": "markdown",
      "source": [
        "#### 객체(object) 개념 정리 ( identity(신원)/타입/속성/메소드/클래스/OOP)\n",
        "- 파이썬 프로그램에서 모든 데이터는 객체(object)라는 개념을 사용하여 저장됩니다.\n",
        "- 가장 기본이 되는 데이터 타입인 숫자, 문자열, 리스트, 사전은 다 객체입니다.\n",
        "- 클래스를 사용해서 사용자 정의 객체를 생성할 수도 있습니다.\n",
        "- 또한 프로그램의 구조와 인터프리터의 내부 동작과 관련된 객체들도 있습니다\n",
        "- 객체(object) : 프로그램에서 저장되는 모든 데이터는 객체입니다. 각 객체는 신원(identity), 타입(클래스라고도 함)과 값을 가집니다.\n",
        "  - 객체의 신원(identity) : 객체가 메모리에 저장된 위치를 가리키는 포인터\n",
        "  - 객체의 타입(클래스) : 객체의 내부적인 표현 형태와 객체가 지원하는 메서드 및 연산들을 설명, 특정 타입의 객체가 생성되면 그 객체를 그 타입의 인스턴스(instance)라고 부른다.\n",
        "  - 객체의 속성(attribute)와 메서드(method) : 속성(attribute)은 객체에 연결된 값이고 메서드(method)는 호출될 때 객체에 대해 특정 연산을 수행하는 함수\n",
        "  \n",
        "https://happy-obok.tistory.com/22"
      ],
      "metadata": {
        "id": "kaWQ1lVJWfa2"
      }
    },
    {
      "cell_type": "markdown",
      "source": [
        "## 클래스\n",
        "\n",
        "클래스(class)란 똑같은 무엇인가를 계속해서 만들어 낼 수 있는 설계 도면이고(과자 틀),\n",
        "객체(object)란 클래스로 만든 피조물(과자 틀을 사용해 만든 과자)을 뜻한다.  \n",
        "과자 틀 → 클래스 (class)  \n",
        "과자 틀에 의해서 만들어진 과자 → 객체 (object)\n",
        "\n",
        "- class : 함수 + 변수 모아놓은 것\n",
        "- 오브젝트(object) : 클래스를 써서 만든 것\n",
        "- 오브젝트(object) == 인스턴스(instance)\n",
        "- 클래스를 정의한 후, 그 클래스를 사용해서 데이터 객체(인스턴스)를 만들 수 있다.\n",
        "- 동일한 클래스에 의해 만들어진 각 객체들은 유사한 특징을 공유한다.\n",
        "- 모든 인스턴스에서 메소드(=코드)는 동일하지만, 속성(데이터)는 다르다.\n",
        "  * 메소드 : 코드\n",
        "  * 속성 : 데이터\n",
        "  * 인스턴스 : 클래스에 의해 만들어진 데이터 객체\n",
        "  * a = 클래스() 이렇게 만든 a는 객체이다. 그리고 a 객체는 클래스의 인스턴스이다. 즉 인스턴스라는 말은 특정 객체(a)가 어떤 클래스의 객체인지를 관계 위주로 설명할 때 사용"
      ],
      "metadata": {
        "id": "eCitcsLwWkvT"
      }
    },
    {
      "cell_type": "code",
      "source": [
        "# 생성자 (Constructor) 란 객체가 생성될때 자동으로 호출되는 매서드를 의미\n",
        "# 파이썬 매서드 이름으로  __init__ 를 사용하면 이 메서드는 생성자가 된다\n",
        "# 클래스 생성자(인자가 없는 경우)\n",
        "\n",
        "class Kita:\n",
        "    def __init__(self):\n",
        "        self.var = \"Kita\" # 인스턴스 멤버\n",
        "        print(\"Kita 과정입니다\")\n",
        "\n",
        "obj = Kita()\n",
        "print(obj.var)"
      ],
      "metadata": {
        "colab": {
          "base_uri": "https://localhost:8080/"
        },
        "id": "ZxM19JCFWldN",
        "outputId": "be741a0f-4721-4ab7-bd2a-64b9d21ecf68"
      },
      "execution_count": null,
      "outputs": [
        {
          "output_type": "stream",
          "name": "stdout",
          "text": [
            "Kita 과정입니다\n",
            "Kita\n"
          ]
        }
      ]
    },
    {
      "cell_type": "markdown",
      "source": [
        "#### self\n",
        "- Python에서 클래스 정의 시 self 키워드는 인스턴스 메서드의 첫 번째 매개변수로 사용\n",
        "- self의 사용법\n",
        "    - 클래스의 인스턴스 메서드를 정의할 때, 첫 번째 매개변수로 self를 사용\n",
        "    - self를 사용하여 인스턴스 속성에 접근하거나 설정\n",
        "    - self를 통해 같은 객체의 다른 메서드를 호출\n",
        "    - 클래스로부터 객체를 생성할 때, Python은 자동으로 self를 첫 번째 매개변수로 전달\n",
        "    - self는 객체의 속성과 메서드를 해당 객체에 속한 네임스페이스에 바인딩\n",
        "    - self는 해당 서브클래스의 인스턴스를 가리키며, 이를 통해 부모 클래스의 메서드와 속성에 접근"
      ],
      "metadata": {
        "id": "7V6lFfRHc4l-"
      }
    },
    {
      "cell_type": "code",
      "source": [
        "# 인스턴스 매서드 정의\n",
        "\n",
        "class MyClass:\n",
        "    def method(self,arg1,arg2):\n",
        "        # 여기에서 self는 인스턴스 객체를 가리킨다\n",
        "        # arg1 과 arg2 는 전달된 인자"
      ],
      "metadata": {
        "colab": {
          "base_uri": "https://localhost:8080/",
          "height": 110
        },
        "id": "uoy7SZcDc9Ni",
        "outputId": "e689b81a-ab7a-4523-eb93-1489a6d92bbc"
      },
      "execution_count": null,
      "outputs": [
        {
          "output_type": "error",
          "ename": "SyntaxError",
          "evalue": "incomplete input (<ipython-input-2-6089f5e66778>, line 6)",
          "traceback": [
            "\u001b[0;36m  File \u001b[0;32m\"<ipython-input-2-6089f5e66778>\"\u001b[0;36m, line \u001b[0;32m6\u001b[0m\n\u001b[0;31m    # arg1 과 arg2 는 전달된 인자\u001b[0m\n\u001b[0m                          ^\u001b[0m\n\u001b[0;31mSyntaxError\u001b[0m\u001b[0;31m:\u001b[0m incomplete input\n"
          ]
        }
      ]
    },
    {
      "cell_type": "code",
      "source": [
        "class MyClass:\n",
        "    def __init__(self , value):\n",
        "        self.instance_variable = value # 인스턴스 변수 설정\n",
        "\n",
        "    def method(self):\n",
        "        return self.instance_variable # 이스턴스 변수 접근"
      ],
      "metadata": {
        "id": "OkPFHxnMe4Sb"
      },
      "execution_count": null,
      "outputs": []
    },
    {
      "cell_type": "code",
      "source": [
        "# 객체 생성시 자동 사용\n",
        "obj = MyClass(20) # MyClass의 인스턴스 생성\n",
        "# __init__ 매서드가 호출되며 self는 여기서  obj입니다\n",
        "obj.method()"
      ],
      "metadata": {
        "colab": {
          "base_uri": "https://localhost:8080/"
        },
        "id": "n4nBVOZbfcv7",
        "outputId": "ee65cc2f-30f2-49df-82b4-6ffc3fbfd562"
      },
      "execution_count": null,
      "outputs": [
        {
          "output_type": "execute_result",
          "data": {
            "text/plain": [
              "20"
            ]
          },
          "metadata": {},
          "execution_count": 13
        }
      ]
    },
    {
      "cell_type": "code",
      "source": [
        "# 클래스 생성자(인자가 있는 경우)\n",
        "\n",
        "class Kita:\n",
        "    def __init__(self,name,age,major):\n",
        "        self.name = name\n",
        "        self.age = age\n",
        "        self.major = major\n",
        "        print(f'{self.name}은 {self.age}세 이며 {self.major}을 전공했습니다')\n",
        "\n",
        "# a = Kita()\n",
        "\n",
        "a = Kita('홍길동', 24, 'computer')\n",
        "b = Kita('홍길TNS', 27, 'buisness')\n",
        "print(a.name)\n",
        "print(b.major)"
      ],
      "metadata": {
        "colab": {
          "base_uri": "https://localhost:8080/"
        },
        "id": "hpYXsGEyhHrr",
        "outputId": "6da8d44a-748b-4588-bb80-4397bcfb0589"
      },
      "execution_count": null,
      "outputs": [
        {
          "output_type": "stream",
          "name": "stdout",
          "text": [
            "홍길동은 24세 이며 computer을 전공했습니다\n",
            "홍길TNS은 27세 이며 buisness을 전공했습니다\n",
            "홍길동\n",
            "buisness\n"
          ]
        }
      ]
    },
    {
      "cell_type": "markdown",
      "source": [
        "Task4_0510. 생성자만으로 구성된 클래스를 작성하고 객체 3개를 만들어서 결과를 출력하세요."
      ],
      "metadata": {
        "id": "ayG3Buhjh6Kp"
      }
    },
    {
      "cell_type": "code",
      "source": [
        "class Tast:\n",
        "    def __init__(self,a,b):\n",
        "        self.a  = a\n",
        "        self.b = b\n",
        "        print(a + b)\n",
        "obj1 = Tast(1,2)\n",
        "obj2 = Tast(3,8)\n",
        "obj3 = Tast(10,21)"
      ],
      "metadata": {
        "colab": {
          "base_uri": "https://localhost:8080/"
        },
        "id": "8Nm0yRfJUr9M",
        "outputId": "fe5f3262-bb18-4ced-da85-16e0f50aac6e"
      },
      "execution_count": null,
      "outputs": [
        {
          "output_type": "stream",
          "name": "stdout",
          "text": [
            "3\n",
            "11\n",
            "31\n"
          ]
        }
      ]
    },
    {
      "cell_type": "code",
      "source": [
        "class Tast:\n",
        "    def __init__(self,a,b)\n",
        "    self.a = a\n",
        "    self.b = b\n"
      ],
      "metadata": {
        "id": "nFKX9QVBVcxc"
      },
      "execution_count": null,
      "outputs": []
    },
    {
      "cell_type": "markdown",
      "source": [
        "Task5_0510. 생성자, 메소드를 모두 포함하는 클래스를 작성하고 객체 3개를 만들어서 결과를 출력하세요"
      ],
      "metadata": {
        "id": "sPrEqNFdh8Zm"
      }
    },
    {
      "cell_type": "code",
      "source": [
        "class MyCar:\n",
        "    def __init__(self, name , color = 'white', price = 2000):\n",
        "        self.name = name\n",
        "        self.color = color\n",
        "        self.price = price\n",
        "\n",
        "    def car_sound(self):\n",
        "        if self.price > 15000:\n",
        "            print('부아아아앙')\n",
        "        elif self.price > 10000:\n",
        "            print('부우우웅')\n",
        "        else:\n",
        "            print('부릉부릉')\n",
        "\n",
        "a = MyCar('아반떼')\n",
        "b = MyCar('페라리 ', 'red' , 17000)\n",
        "c = MyCar('벤츠', 'black' , 12000)\n",
        "\n",
        "# 생성자 저장값 확인\n",
        "\n",
        "print(a.name)\n",
        "print(b.price)\n",
        "print(c.color)\n",
        "print()\n",
        "\n",
        "# 메소드 확인\n",
        "\n",
        "a.car_sound()\n",
        "b.car_sound()\n",
        "c.car_sound()\n",
        "\n",
        "print(a.name)\n",
        "print(a.color)\n",
        "print(a.price)\n",
        "a.car_sound()"
      ],
      "metadata": {
        "colab": {
          "base_uri": "https://localhost:8080/"
        },
        "id": "RESUNny7WBw5",
        "outputId": "6d6b8059-285f-4d0f-b4f1-f9f20942670b"
      },
      "execution_count": null,
      "outputs": [
        {
          "output_type": "stream",
          "name": "stdout",
          "text": [
            "아반떼\n",
            "17000\n",
            "black\n",
            "\n",
            "부릉부릉\n",
            "부아아아앙\n",
            "부우우웅\n",
            "아반떼\n",
            "white\n",
            "2000\n",
            "부릉부릉\n"
          ]
        }
      ]
    },
    {
      "cell_type": "markdown",
      "source": [
        "## 클래스를 구성하는 요소\n",
        "- 클래스 선언: class 키워드와 대문자로 시작하는 이름 사용.\n",
        "- 생성자: \\__init__ 메서드로 인스턴스 초기화, self를 첫 인자로 사용.\n",
        "- 속성(Attributes): self.변수명 형태의 인스턴스 변수로 각 객체의 상태 정의.\n",
        "- 메서드(Methods): 객체의 동작을 정의하는 함수, 첫 인자로 self를 사용.\n",
        "- 상속(Inheritance): 다른 클래스의 기능을 확장 또는 수정.\n",
        "- 인스턴스화: 클래스 이름에 괄호를 추가하여 객체 인스턴스 생성.\n",
        "- self: 메서드와 속성에서 객체 자신을 참조.\n",
        "- 클래스 변수: 클래스 내 정의되고 모든 인스턴스에 공유.\n",
        "- 인스턴스 변수: self로 접근, 각 인스턴스에 고유한 데이터 저장.\n",
        "- 매직 메서드(특수 메서드): __로 둘러싸인 메서드로 내장 연산/함수 커스터마이즈."
      ],
      "metadata": {
        "id": "BEjjJWMPiRQI"
      }
    },
    {
      "cell_type": "code",
      "source": [
        "# 상속: 기본 클래스 또는 부모 클래스\n",
        "\n",
        "class Animal:\n",
        "    def __init__(self,name):\n",
        "        self.name = name\n",
        "\n",
        "    def speak(self):\n",
        "\n",
        "# 자식 클래스에서 Animal 클래스 상속\n",
        "\n",
        "class Dog(Animal):\n",
        "    def speak(self):\n",
        "        return f\"{self.name} says Wal!\"\n",
        "\n",
        "class Cat(Animal):\n",
        "    def speak(self):\n",
        "        return f\"{self.name} says Meow!\"\n",
        "\n"
      ],
      "metadata": {
        "colab": {
          "base_uri": "https://localhost:8080/",
          "height": 110
        },
        "id": "lnmv0VFJiTpw",
        "outputId": "41163183-5cee-427a-c9c5-6153cc5d7c7c"
      },
      "execution_count": null,
      "outputs": [
        {
          "output_type": "error",
          "ename": "IndentationError",
          "evalue": "expected an indented block after function definition on line 7 (<ipython-input-19-455a0687ec6e>, line 11)",
          "traceback": [
            "\u001b[0;36m  File \u001b[0;32m\"<ipython-input-19-455a0687ec6e>\"\u001b[0;36m, line \u001b[0;32m11\u001b[0m\n\u001b[0;31m    class Dog(Animal):\u001b[0m\n\u001b[0m                      ^\u001b[0m\n\u001b[0;31mIndentationError\u001b[0m\u001b[0;31m:\u001b[0m expected an indented block after function definition on line 7\n"
          ]
        }
      ]
    },
    {
      "cell_type": "code",
      "source": [
        "dog = Dog('Puppy')\n",
        "dog.speak()"
      ],
      "metadata": {
        "colab": {
          "base_uri": "https://localhost:8080/",
          "height": 165
        },
        "id": "cFe3V_W3l-GR",
        "outputId": "47e6dd80-70d6-4290-f538-41bc796ac513"
      },
      "execution_count": null,
      "outputs": [
        {
          "output_type": "error",
          "ename": "NameError",
          "evalue": "name 'Dog' is not defined",
          "traceback": [
            "\u001b[0;31m---------------------------------------------------------------------------\u001b[0m",
            "\u001b[0;31mNameError\u001b[0m                                 Traceback (most recent call last)",
            "\u001b[0;32m<ipython-input-18-c5aec0c31adb>\u001b[0m in \u001b[0;36m<cell line: 1>\u001b[0;34m()\u001b[0m\n\u001b[0;32m----> 1\u001b[0;31m \u001b[0mdog\u001b[0m \u001b[0;34m=\u001b[0m \u001b[0mDog\u001b[0m\u001b[0;34m(\u001b[0m\u001b[0;34m'Puppy'\u001b[0m\u001b[0;34m)\u001b[0m\u001b[0;34m\u001b[0m\u001b[0;34m\u001b[0m\u001b[0m\n\u001b[0m\u001b[1;32m      2\u001b[0m \u001b[0mdog\u001b[0m\u001b[0;34m.\u001b[0m\u001b[0mspeak\u001b[0m\u001b[0;34m(\u001b[0m\u001b[0;34m)\u001b[0m\u001b[0;34m\u001b[0m\u001b[0;34m\u001b[0m\u001b[0m\n",
            "\u001b[0;31mNameError\u001b[0m: name 'Dog' is not defined"
          ]
        }
      ]
    },
    {
      "cell_type": "code",
      "source": [
        "# 클래스 변수 vs 인스턴스 변수\n",
        "# 클래서 변수 : 클래스의 모든 인스턴스에 공유 되는 변수. 클래스 정의 내부에서 선언되고, 클래스 이름을 사용하여 접근\n",
        "\n",
        "class Car:\n",
        "    wheels = 4  # 클래스변수\n",
        "\n",
        "    def __init__(self,brand,model):\n",
        "        self.brand = brand\n",
        "        self.model = model"
      ],
      "metadata": {
        "id": "AVdwcNMsnHgx"
      },
      "execution_count": null,
      "outputs": []
    },
    {
      "cell_type": "markdown",
      "source": [
        "매직 메서드(Magic Methods)\n",
        "- 파이썬에서 특별한 의미를 가지는 내장 메서드로, 더블 언더스코어(__)로 시작하고 끝나는 메서드 이름을 갖는다.\n",
        "- 파이썬의 데이터 모델을 구성하는 핵심적인 부분으로, 파이썬의 객체가 다양한 연산에서 어떻게 동작할지를 정의.\n",
        "- 사용자가 이러한 메서드를 직접 호출하기보다는, 파이썬의 내부적인 구조나 연산을 통해 자동으로 호출.\n",
        "\n",
        "[ 매직 메서드의 예 ]\n",
        "\n",
        "`__init__(self, [...])`: 객체가 생성될 때 초기화를 위해 호출. 생성자라고도 한다.\\\n",
        "`__str__(self)`: 객체를 인간이 읽을 수 있는 문자열 형태로 변환할 때 사용. print() 함수나 str() 내장 함수를 사용할 때 자동으로 호출.\\\n",
        "`__repr__(self)`: 객체의 공식적인 문자열 표현을 생성할 때 사용. 개발자가 이 객체를 어떻게 볼지를 정의. 보통 객체를 다시 해당 객체를 생성할 수 있는 코드 형태로 표현.\\\n",
        "`__eq__(self, other)`: 두 객체의 동등성을 비교할 때 사용 (== 연산자).\\\n",
        "`__add__(self, other)`: 두 객체를 더할 때 사용 (+ 연산자).\\\n",
        "`__len__(self)`: 객체의 길이를 반환할 때 사용, 예를 들어 len() 함수가 호출될 때 자동으로 이 메서드를 사용."
      ],
      "metadata": {
        "id": "HEgwrjtKnr18"
      }
    },
    {
      "cell_type": "code",
      "source": [
        "# 매직 매서드\n",
        "# __str__ 메서드는 객체의  \"공식적인\" 문자열 표현을 제공하는 표준 방법\n",
        "# 이를 통해 print() 함수나 str() 함수와 같은 내장 함수에서 객체를 자동으로 문자열로 변환할수 있다\n",
        "\n",
        "class Book:\n",
        "    def __init__(self,title,author):\n",
        "        self.title = title\n",
        "        self.author = author\n",
        "\n",
        "    def __str__(self): # 객체를 문자열로 표현할 때 사용\n",
        "        return f\"{self.title} by {self.author}\"\n",
        "\n",
        "obj = Book('삼국지','나관중')\n",
        "#obj.__str__()\n",
        "print(obj)"
      ],
      "metadata": {
        "id": "siSsumSqnti0",
        "colab": {
          "base_uri": "https://localhost:8080/"
        },
        "outputId": "f7a1bd06-0b29-41d1-cea3-030490d1709a"
      },
      "execution_count": null,
      "outputs": [
        {
          "output_type": "stream",
          "name": "stdout",
          "text": [
            "삼국지 by 나관중\n"
          ]
        }
      ]
    },
    {
      "cell_type": "code",
      "source": [
        "# 질문\n",
        "\n",
        "from cryptography.fernet import Fernet\n",
        "import difflib\n",
        "\n",
        "class File:\n",
        "    def __init__(self, filename):\n",
        "        self.filename = filename\n",
        "\n",
        "class Encrypt(File):\n",
        "    def __init__(self, filename):\n",
        "        pass\n",
        "\n",
        "class Key(File):\n",
        "    def __init__(self, filename):\n",
        "        super().__init__(filename)\n",
        "        print(self.filename)\n",
        "\n",
        "class Decrypt(File):\n",
        "    def __init__(self,filename):\n",
        "        pass\n",
        "\n",
        "filename = 'test.txt'\n",
        "dataKey = Key(filename)\n",
        "print(dataKey)\n",
        "encryptedFile = Encrypt(filename)\n",
        "print(encryptedFile)\n",
        "decryptedFile = Decrypt(filename)\n",
        "print(decryptedFile)\n",
        "\n"
      ],
      "metadata": {
        "colab": {
          "base_uri": "https://localhost:8080/"
        },
        "id": "j7AvgRI9a6w6",
        "outputId": "2516763b-baf2-41bf-8266-0787f8b93bed"
      },
      "execution_count": null,
      "outputs": [
        {
          "output_type": "stream",
          "name": "stdout",
          "text": [
            "test.txt\n",
            "<__main__.Key object at 0x795a4e299210>\n",
            "<__main__.Encrypt object at 0x795a4e299750>\n",
            "<__main__.Decrypt object at 0x795a4e29bb20>\n"
          ]
        }
      ]
    },
    {
      "cell_type": "markdown",
      "source": [
        "Task6_0510. 여러개의 음식을 주문할 수 있는 주문 시스템을 작성하세요.(클래스 활용 - 객체 지향)"
      ],
      "metadata": {
        "id": "pUIgSTnT4r_0"
      }
    },
    {
      "cell_type": "code",
      "source": [
        "class OrderSystem:\n",
        "    def __init__(self):\n",
        "        self.menu_items = {\n",
        "            '1': (\"불고기 비빔밥\", 12000),\n",
        "            '2': (\"야채 비빔밥\", 8000),\n",
        "            '3': (\"전주 비빔밥\", 10000)\n",
        "        }\n",
        "        self.set_price = 3000\n",
        "        self.orders = {}\n",
        "        self.price_total = 0\n",
        "\n",
        "    def display_menu(self):\n",
        "        print(\"\\n♣♣♣ KITA 식당에 오신 것을 환영합니다 ♣♣♣\")\n",
        "        print(\"========================================\")\n",
        "        print(\"           - 메뉴 -\")\n",
        "        for key, (name, price) in self.menu_items.items():\n",
        "            print(f\"  {key}. {name} : {price}원\")\n",
        "        print(\"\\n  세트 주문시 : 3000원 추가 (세트는 밥과 반찬이 추가됩니다.)\")\n",
        "        print(\"========================================\")\n",
        "\n",
        "    def display_order_summary(self):\n",
        "        print(\"\\n■장바구니\")\n",
        "        self.price_total = 0\n",
        "        for key, (name, price) in self.menu_items.items():\n",
        "            count = self.orders.get((key, False), 0)\n",
        "            count_set = self.orders.get((key, True), 0)\n",
        "            print(f\" {name} {count}개: {count * price}원\")\n",
        "            print(f\" {name} 세트 {count_set}개: {count_set * (price + self.set_price)}원\")\n",
        "            self.price_total += (count * price) + (count_set * (price + self.set_price))\n",
        "        print(f\" 총 금액 {self.price_total}원\\n\")\n",
        "\n",
        "    def add_order(self, menu_id, is_set):\n",
        "        item_name, item_price = self.menu_items[menu_id]\n",
        "        if is_set:\n",
        "            item_price += self.set_price\n",
        "        num = input(f\"\\n● {item_name}{' 세트' if is_set else ''} 몇 개 주문 하시겠습니까?\\n\")\n",
        "        if num.isdigit() and int(num) > 0:\n",
        "            self.orders[(menu_id, is_set)] = self.orders.get((menu_id, is_set), 0) + int(num)\n",
        "            print(f\"\\n{item_name}{' 세트' if is_set else ''} {num}개가 장바구니에 담겼습니다.\\n\")\n",
        "        else:\n",
        "            print('★양수만 입력하세요.★')\n",
        "\n",
        "    def process_order(self):\n",
        "        while True:\n",
        "            print('★비빔밥 주문 KIOSK★','\\n')\n",
        "            msg = input(\"● 주문을 하시겠습니까? (y 또는 n) >> \").strip().lower()\n",
        "            if msg == 'y':\n",
        "                while True:\n",
        "                    self.display_menu()\n",
        "                    self.display_order_summary()\n",
        "                    choice = input(\"● 주문할 메뉴를 골라주세요. (불고기 비빔밥:1, 야채 비빔밥:2, 전주 비빔밥:3, 전체 취소:0, 결제:5) >> \").strip().lower()\n",
        "                    if choice in self.menu_items:\n",
        "                        set_choice = input(\"\\n●3000원을 추가해 세트로 주문하시겠습니까? (일반주문시:n, 세트주문시:y)\\n\").strip().lower()\n",
        "                        if set_choice in ['y', 'n']:\n",
        "                            self.add_order(choice, set_choice == 'y')\n",
        "                        else:\n",
        "                            print('★올바른 선택을 입력하세요 (y 또는 n).★')\n",
        "\n",
        "                    elif choice == '0':\n",
        "                        self.orders.clear()\n",
        "                        print('\\n모든 주문이 취소되었습니다.')\n",
        "\n",
        "                    elif choice == '5':\n",
        "                        if self.price_total > 0:\n",
        "                            print(f'\\n●주문하려면 결제해주세요. 결제금액은 {self.price_total}원 입니다.\\n')\n",
        "                            input(\"결제를 완료하려면 아무 키나 누르세요...\")  # 사용자가 결제를 확인할 수 있도록 입력 대기\n",
        "                            print(f\"\\n총 금액은 {self.price_total}원이 결제 되었습니다. 감사합니다.\",'\\n')\n",
        "                            self.orders.clear()\n",
        "                            break\n",
        "                        else:\n",
        "                            print('★메뉴를 고르고 주문해주세요!★')\n",
        "\n",
        "                    else:\n",
        "                        print('★메뉴의 지정된 숫자로 입력하세요★')\n",
        "\n",
        "            else:\n",
        "                print('감사합니다.')\n",
        "                break\n",
        "\n",
        "if __name__ == \"__main__\":\n",
        "    order_system = OrderSystem()\n",
        "    order_system.process_order()\n"
      ],
      "metadata": {
        "id": "ruXaS6HyvPl7"
      },
      "execution_count": null,
      "outputs": []
    },
    {
      "cell_type": "markdown",
      "source": [
        "Task1_5013. 클래스 구성 요소와 관련 아래 사항에 대한 사례를 작성하세요.\n",
        "- 클래스 선언\n",
        "- 생성자\n",
        "- 속성(attributes)\n",
        "- 메서드\n",
        "- 상속\n",
        "- 인스턴스화(객체 만들기)\n",
        "- 클래스 변수\n",
        "- 매직 메서드(특수 메서드)"
      ],
      "metadata": {
        "id": "XHy4OaboflPo"
      }
    },
    {
      "cell_type": "markdown",
      "source": [
        "클래스 선언: class 키워드와 대문자로 시작하는 이름 사용.\n",
        "- 생성자: _init_ 메서드로 인스턴스 초기화, self를 첫 인자로 사용.\n",
        "- 속성(Attributes): self.변수명 형태의 인스턴스 변수로 각 객체의 상태 정의.\n",
        "- 메서드(Methods): 객체의 동작을 정의하는 함수, 첫 인자로 self를 사용.\n",
        "- 상속(Inheritance): 다른 클래스의 기능을 확장 또는 수정.\n",
        "- 인스턴스화: 클래스 이름에 괄호를 추가하여 객체 인스턴스 생성.\n",
        "- self: 메서드와 속성에서 객체 자신을 참조.\n",
        "- 클래스 변수: 클래스 내 정의되고 모든 인스턴스에 공유.\n",
        "- 인스턴스 변수: self로 접근, 각 인스턴스에 고유한 데이터 저장.\n",
        "- 매직 메서드(특수 메서드): __로 둘러싸인 메서드로 내장 연산/함수 커스터마이즈."
      ],
      "metadata": {
        "id": "RbRsyKlw7L14"
      }
    },
    {
      "cell_type": "code",
      "source": [
        "class Company:\n",
        "    def __init__(self,name , place):\n",
        "        self.name = name\n",
        "        self.place = place\n",
        "        print(f'{self.name}는 {self.place}에 위치해 있습니다')\n",
        "\n",
        "n = Company('naver' , '서울')\n",
        "s = Company('samsumg' , '인천')\n",
        "l = Company('lg' , '대구')\n",
        "\n",
        "print(n.name)"
      ],
      "metadata": {
        "colab": {
          "base_uri": "https://localhost:8080/"
        },
        "id": "zMF5tWLt50yp",
        "outputId": "76a2bd9e-84a2-42a6-8eb7-d9b24224f891"
      },
      "execution_count": null,
      "outputs": [
        {
          "output_type": "stream",
          "name": "stdout",
          "text": [
            "naver는 서울에 위치해 있습니다\n",
            "samsumg는 인천에 위치해 있습니다\n",
            "lg는 대구에 위치해 있습니다\n",
            "naver\n"
          ]
        }
      ]
    },
    {
      "cell_type": "code",
      "source": [
        "class Book:\n",
        "    def __init__(self,title,author):\n",
        "        self.title = title\n",
        "        self.author = author\n",
        "    def __str__(self):\n",
        "        return f\"{self.title} by {self.author}\"\n",
        "\n",
        "class MyBook(Book):\n",
        "    location = 'MyHome'\n",
        "    def __init__(self,title,author,price):\n",
        "        super().__init__(title,author)\n",
        "        self.price = price\n",
        "    def how_much(self):\n",
        "        return f\"나는 {self.title}을 {self.price}원 주고 샀다\"\n",
        "\n",
        "b1 = MyBook(\"오발탄\",\"이범선\",\"8500\")\n",
        "\n",
        "print(b1.location)\n",
        "print(b1.price)\n",
        "print(b1.how_much())\n",
        "print(b1) # 자동으로 __str__ 메서드가 호출되어 출력"
      ],
      "metadata": {
        "colab": {
          "base_uri": "https://localhost:8080/"
        },
        "id": "jVYzEBPHcPRN",
        "outputId": "f096dbaa-42eb-4ae7-d10d-92c1767fa80f"
      },
      "execution_count": null,
      "outputs": [
        {
          "output_type": "stream",
          "name": "stdout",
          "text": [
            "MyHome\n",
            "8500\n",
            "나는 오발탄을 8500원 주고 샀다\n",
            "오발탄 by 이범선\n"
          ]
        }
      ]
    },
    {
      "cell_type": "code",
      "source": [
        "# 클래스 변수는 모든 인스턴스에서 공유되며, 인스턴스 변수는 각 개체마다 독립적입니다\n",
        "# 인스턴스 메서드는 해당 인스턴스의 데이터에 접근하고 조작할 수 있는 기능을 제공\n",
        "\n",
        "class MyClass:\n",
        "    var = '안녕하세요' # 클래스 변수\n",
        "    def __init__(self): # 생성자는 객체 만들때 자동으로 호출\n",
        "        self.name = 'kita' # 지역변수 , 인스턴스 변수\n",
        "        print(f'{self.name} 과정입니다')\n",
        "    def sayHello(self): # 인스턴스 매소드\n",
        "        return self.var\n",
        "\n",
        "# MyClass 클래스의 인스턴스인 obj를 생성 . 이 과정에서 __init__ 생성자가 호출되고 , \"kita 과정입니다\" 가 출력\n",
        "obj = MyClass()\n",
        "# obj 인스턴스를 통해 클래스 변수 var에 접근하여 그 값을 출력\n",
        "print(obj.var)\n",
        "# obj 인스턴스의 sayHello 매서드를 호출. 이 매서드는 클래스 변수 var를 반환하므로 결과적으로 '안녕하세요'가 출력\n",
        "print(obj.sayHello())"
      ],
      "metadata": {
        "colab": {
          "base_uri": "https://localhost:8080/"
        },
        "id": "rGom9gdofsKG",
        "outputId": "5792da6b-a744-44b6-f3cb-c3fee2e93fc3"
      },
      "execution_count": null,
      "outputs": [
        {
          "output_type": "stream",
          "name": "stdout",
          "text": [
            "kita 과정입니다\n",
            "안녕하세요\n",
            "안녕하세요\n"
          ]
        }
      ]
    },
    {
      "cell_type": "code",
      "source": [
        "class AutoEmail:\n",
        "    def __init__(self, name , time):\n",
        "        self.name = name\n",
        "        self.time = time\n",
        "    def send(self):\n",
        "        return f\"안녕하세요 {self.name}님, 업무미팅은 {self.time}시 입니다\"\n",
        "\n",
        "run1 = AutoEmail(\"Kevin\",2)\n",
        "run2 = AutoEmail(\"James\",5)\n",
        "print(run1.send())\n",
        "print(run2.send())"
      ],
      "metadata": {
        "colab": {
          "base_uri": "https://localhost:8080/"
        },
        "id": "e-KkYvuUjKP0",
        "outputId": "e29471ec-a34e-4c66-dce4-fb20771e9ffa"
      },
      "execution_count": null,
      "outputs": [
        {
          "output_type": "stream",
          "name": "stdout",
          "text": [
            "안녕하세요 Kevin님, 업무미팅은 2시 입니다\n",
            "안녕하세요 James님, 업무미팅은 5시 입니다\n"
          ]
        }
      ]
    },
    {
      "cell_type": "markdown",
      "source": [
        "Q. 기본가격 1000원인 2개의 상품에 대하여 임의의 추가 가격을 입력시 아래 두개의 방식으로 산출하세요.(class 이용)\n",
        "- price1 : 기본가격 + 추가가격\n",
        "- price2 : (기본가격 + 추가가격) * 90%"
      ],
      "metadata": {
        "id": "7WZ47EWEkVtv"
      }
    },
    {
      "cell_type": "code",
      "source": [
        "# 생성자\n",
        "\n",
        "class PlusPrice2:\n",
        "    def __init__(self,plus):\n",
        "        self.price1 = 1000+plus\n",
        "        self.price2 = (1000+plus)*0.9\n",
        "\n",
        "a = int(input(\"추가 가격을 입력 > \"))\n",
        "\n",
        "result = PlusPrice2(a)\n",
        "print(f\"- price1 : {result.price1}\\n- price2 : {result.price2 :.0f}\")"
      ],
      "metadata": {
        "colab": {
          "base_uri": "https://localhost:8080/"
        },
        "id": "4-_d9bQEkWbv",
        "outputId": "11fc1cb3-d8dd-4b51-c2fd-b1f0e8086058"
      },
      "execution_count": null,
      "outputs": [
        {
          "output_type": "stream",
          "name": "stdout",
          "text": [
            "추가 가격을 입력 > 5000\n",
            "- price1 : 6000\n",
            "- price2 : 5400\n"
          ]
        }
      ]
    },
    {
      "cell_type": "code",
      "source": [
        "# 매소드\n",
        "\n",
        "class Price:\n",
        "    p = int(input('추가가격 > '))\n",
        "    #def setprice(self,p):\n",
        "     #   self.p = p\n",
        "    def sum(self):\n",
        "        b = 1000\n",
        "        b += self.p\n",
        "        return b\n",
        "    def discount(self):\n",
        "        b = 1000\n",
        "        b += self.p\n",
        "        b * 0.9\n",
        "        return b\n",
        "\n",
        "price1 = Price()\n",
        "print(f'price1 : {price1.sum()}')\n",
        "price2 = Price()\n",
        "print(f'price2 : {price2.discount() :0f}')\n"
      ],
      "metadata": {
        "colab": {
          "base_uri": "https://localhost:8080/"
        },
        "id": "cGqYwZGqmHpJ",
        "outputId": "ac135632-83b0-41f9-d9f5-6080860c049b"
      },
      "execution_count": null,
      "outputs": [
        {
          "output_type": "stream",
          "name": "stdout",
          "text": [
            "추가가격 > 500\n",
            "price1 : 1500\n",
            "price2 : 1500.000000\n"
          ]
        }
      ]
    },
    {
      "cell_type": "markdown",
      "source": [
        "Task2_0513. 두개의 수를 입력한 후 두개의 수에 대한 사칙연산을 수행하세요.(0을 입력한 경우 다시 입력하도록 조치)"
      ],
      "metadata": {
        "id": "nvUAps3VoVFT"
      }
    },
    {
      "cell_type": "code",
      "source": [
        "class Number:\n",
        "    n = int(input(\"숫자를 입력해 주세요: \"))\n",
        "    n1 = int(input(\"숫자를 입력해 주세요: \"))\n",
        "    def __init__(self , n , n1):\n",
        "        self.n = n\n",
        "        self.n1 = n1\n",
        "\n",
        "\n"
      ],
      "metadata": {
        "colab": {
          "base_uri": "https://localhost:8080/",
          "height": 220
        },
        "id": "fVxU3wGKB3uI",
        "outputId": "0e1388d2-f258-4209-8737-33830c1a5bf2"
      },
      "execution_count": null,
      "outputs": [
        {
          "name": "stdout",
          "output_type": "stream",
          "text": [
            "숫자를 입력해 주세요: 2\n",
            "숫자를 입력해 주세요: 2\n"
          ]
        },
        {
          "output_type": "error",
          "ename": "NameError",
          "evalue": "name 'n1' is not defined",
          "traceback": [
            "\u001b[0;31m---------------------------------------------------------------------------\u001b[0m",
            "\u001b[0;31mNameError\u001b[0m                                 Traceback (most recent call last)",
            "\u001b[0;32m<ipython-input-14-f30869ed5ede>\u001b[0m in \u001b[0;36m<cell line: 8>\u001b[0;34m()\u001b[0m\n\u001b[1;32m      6\u001b[0m         \u001b[0mself\u001b[0m\u001b[0;34m.\u001b[0m\u001b[0mn1\u001b[0m \u001b[0;34m=\u001b[0m \u001b[0mn1\u001b[0m\u001b[0;34m\u001b[0m\u001b[0;34m\u001b[0m\u001b[0m\n\u001b[1;32m      7\u001b[0m \u001b[0;34m\u001b[0m\u001b[0m\n\u001b[0;32m----> 8\u001b[0;31m \u001b[0mprint\u001b[0m\u001b[0;34m(\u001b[0m\u001b[0mNumber\u001b[0m\u001b[0;34m(\u001b[0m\u001b[0mn\u001b[0m \u001b[0;34m+\u001b[0m \u001b[0mn1\u001b[0m\u001b[0;34m)\u001b[0m\u001b[0;34m)\u001b[0m\u001b[0;34m\u001b[0m\u001b[0;34m\u001b[0m\u001b[0m\n\u001b[0m",
            "\u001b[0;31mNameError\u001b[0m: name 'n1' is not defined"
          ]
        }
      ]
    },
    {
      "cell_type": "code",
      "source": [
        "class Cal4:\n",
        "    def __init__(self,first,second):\n",
        "        self.first = first\n",
        "        self.seconf = second\n",
        "\n",
        "    def sum(self):\n",
        "        result = self.first + self.second\n",
        "        return result\n",
        "    def sub(self):\n",
        "        result = self.first - self.second\n",
        "        return result\n",
        "    def mul(self):\n",
        "        result = self.first * self.second\n",
        "        return result\n",
        "    def div(self):\n",
        "        result = round(self.first / self.second)\n",
        "        return result\n",
        "\n",
        "while 1:\n",
        "    first = int(input(\"입력 1 > \"))\n",
        "    seconf = int(input(\"입력 2 >\"))\n",
        "    if first == 0 or second == 0:\n",
        "        print(\"0이 아닌 수를 입력하세요\")\n",
        "\n",
        "    else:\n",
        "        cal = Cal4(first,second)\n",
        "        print(f'덧셈: {cal.sum()}, 뺄셈: {cal.sub()} , 곱셈: {cal.mul()}, 나눗셈: {cal.div}}')\n",
        "        break"
      ],
      "metadata": {
        "colab": {
          "base_uri": "https://localhost:8080/",
          "height": 110
        },
        "id": "70mhzzz_fuVI",
        "outputId": "0da8b3b9-1843-49a4-931b-9c13ca1ebcb8"
      },
      "execution_count": null,
      "outputs": [
        {
          "output_type": "error",
          "ename": "SyntaxError",
          "evalue": "f-string: single '}' is not allowed (<ipython-input-6-9a081db39177>, line 27)",
          "traceback": [
            "\u001b[0;36m  File \u001b[0;32m\"<ipython-input-6-9a081db39177>\"\u001b[0;36m, line \u001b[0;32m27\u001b[0m\n\u001b[0;31m    print(f'덧셈: {cal.sum()}, 뺄셈: {cal.sub()} , 곱셈: {cal.mul()}, 나눗셈: {cal.div}}')\u001b[0m\n\u001b[0m                                                                                ^\u001b[0m\n\u001b[0;31mSyntaxError\u001b[0m\u001b[0;31m:\u001b[0m f-string: single '}' is not allowed\n"
          ]
        }
      ]
    },
    {
      "cell_type": "markdown",
      "source": [
        "오버라이딩(Overriding)\n",
        "- 부모 클래스에 정의된 메서드를 자식 클래스에서 재정의\n",
        "\n",
        "오버로딩(Overloading)\n",
        "- 오버로딩(Overloading)은 하나의 클래스 내에서 메서드 이름은 같지만 매개변수의 타입이나 개수가 다른 여러 메서드를 정의하는 것을 의미. 이를 통해 동일한 메서드 호출에 다양한 매개변수를 사용할 수 있다.\n",
        "- 파이썬은 기본적으로 오버로딩을 직접 지원하지 않지만,  기본값 인자(default arguments), 가변 인자(variable arguments), 키워드 인자(keyword arguments) 등을 사용하여 유사한 기능을 구현\n",
        "\n",
        "다형성(Polymorphism)\n",
        "- 서로 다른 클래스의 객체가 동일한 인터페이스를 공유할 수 있게 하는 개념\n",
        "-  다형성은 하나의 인터페이스가 다양한 형태의 객체에 적용될 수 있음을 의미\n",
        "- 예를 들어, 여러 동물 클래스가 모두 speak 메서드를 갖고 있을 때, 이 메서드는 각 동물에 맞게 다르게 구현"
      ],
      "metadata": {
        "id": "8dorxeZcoi0_"
      }
    },
    {
      "cell_type": "code",
      "source": [
        "class Animal:\n",
        "    def speak(self):\n",
        "        return \"i'm an animal!\"\n",
        "\n",
        "# 오버라이딩 : Dog 과 Cat 클래스는 Animal 클래스의 speak 메서드를 오버라이딩\n",
        "\n",
        "class Dog(Animal):\n",
        "    def speak(self):\n",
        "        return \"Woof!\"\n",
        "\n",
        "class Cat(Animal):\n",
        "    def speak(self):\n",
        "        return \"Meow!\"\n",
        "\n",
        "dog = Dog()\n",
        "cat = Cat()\n",
        "print(dog.speak())\n",
        "print(cat.speak())"
      ],
      "metadata": {
        "colab": {
          "base_uri": "https://localhost:8080/"
        },
        "id": "03guhiW7oq9x",
        "outputId": "ffa18ad2-738c-48cc-8918-ad7f7a980ebb"
      },
      "execution_count": null,
      "outputs": [
        {
          "output_type": "stream",
          "name": "stdout",
          "text": [
            "Woof!\n",
            "Meow!\n"
          ]
        }
      ]
    },
    {
      "cell_type": "code",
      "source": [
        "# 오버로딩 : 하나의 클래스 내에서 메서드 이름은 같지만 매개변수의 타입이나 개수가 다른 여러 매서드를 정의\n",
        "# 오버로딩 유사 구현 : Bird 클래스는 기본값 인자를 사용하여 오버로딩과 유사한 기능을 구현\n",
        "\n",
        "class Bird(Animal):\n",
        "    def speak(self, mood = \"happy\"):\n",
        "        if mood == \"happy\":\n",
        "            return \"Tweet!\"\n",
        "        else:\n",
        "            return \"Squawk!\"\n",
        "\n",
        "bird = Bird()\n",
        "#오버로딩 유사 구현 사용\n",
        "\n",
        "print(bird.speak(\"angry\")) # Sqwawk"
      ],
      "metadata": {
        "colab": {
          "base_uri": "https://localhost:8080/"
        },
        "id": "-zjWGigrtaRI",
        "outputId": "947567b1-51f8-4fc0-ac8c-7d11864b487f"
      },
      "execution_count": null,
      "outputs": [
        {
          "output_type": "stream",
          "name": "stdout",
          "text": [
            "Squawk!\n"
          ]
        }
      ]
    },
    {
      "cell_type": "code",
      "source": [
        "# 다형성 : 하나의 인터페이스가 다양한 형태의 객체에 적용\n",
        "\n",
        "def animal_sound(animal):\n",
        "    print(animal.speak())\n",
        "\n",
        "# 다형성을 통한 매서드 호출\n",
        "\n",
        "animal_sound(dog)\n",
        "animal_sound(cat)\n",
        "animal_sound(bird)"
      ],
      "metadata": {
        "colab": {
          "base_uri": "https://localhost:8080/"
        },
        "id": "Rzeytkp3uVBX",
        "outputId": "eaa49672-43b7-4b14-ae62-6e68251dc55e"
      },
      "execution_count": null,
      "outputs": [
        {
          "output_type": "stream",
          "name": "stdout",
          "text": [
            "Woof!\n",
            "Meow!\n",
            "Tweet!\n"
          ]
        }
      ]
    },
    {
      "cell_type": "markdown",
      "source": [
        "Task3_0513. 파이썬 오버라이딩, 오버로딩, 다형성의 사례를 만들어 보세요."
      ],
      "metadata": {
        "id": "CXrO3i0evFNK"
      }
    },
    {
      "cell_type": "code",
      "source": [
        "class Robot:\n",
        "    def __init__(self,name):\n",
        "        self.name = name\n",
        "        print(f\"안녕 나는 {self.name}이야\")\n",
        "\n",
        "    def helping(self):\n",
        "        print(\"도움을 드릴 수 있습니다\")\n",
        "class ServingRobot(Robot):\n",
        "    # 오버라이딩\n",
        "    def helping(self):\n",
        "        print(\"음식을 가져다 다를 수 있습니다\")\n",
        "\n",
        "    def move(self,table):\n",
        "        print(f\"{table}번 테이블로 음식을 가져다 드렸습니다\")\n",
        "\n",
        "class CleaningRobot(Robot):\n",
        "    # 유사 오버로딩\n",
        "    def helping(self, how = \"청소기\"):\n",
        "        print(f\"{how}로 청소를 합니다\")\n",
        "\n",
        "    # 다형성\n",
        "def robot_mode(robot):\n",
        "    robot.helping()\n",
        "# 객체 생성\n",
        "\n",
        "robobo = ServingRobot(\"robobo\")\n",
        "roboti = CleaningRobot(\"roboti\")\n",
        "\n",
        "# 오버라이딩 사용\n",
        "robobo.helping()\n",
        "# 오버로딩 사용\n",
        "roboti.helping('물걸레')\n",
        "# 다향성을 통한 메서드 호출\n",
        "robot_mode(robobo)\n",
        "robot_mode(roboti)\n"
      ],
      "metadata": {
        "id": "yCFuawipvHlx",
        "colab": {
          "base_uri": "https://localhost:8080/"
        },
        "outputId": "1d493578-b72a-4084-d873-c0fac185061c"
      },
      "execution_count": null,
      "outputs": [
        {
          "output_type": "stream",
          "name": "stdout",
          "text": [
            "안녕 나는 robobo이야\n",
            "안녕 나는 roboti이야\n",
            "음식을 가져다 다를 수 있습니다\n",
            "물걸레로 청소를 합니다\n",
            "음식을 가져다 다를 수 있습니다\n",
            "청소기로 청소를 합니다\n"
          ]
        }
      ]
    }
  ]
}