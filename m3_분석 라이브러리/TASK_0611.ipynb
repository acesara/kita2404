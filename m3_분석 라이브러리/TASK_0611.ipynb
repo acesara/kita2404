{
  "nbformat": 4,
  "nbformat_minor": 0,
  "metadata": {
    "colab": {
      "provenance": []
    },
    "kernelspec": {
      "name": "python3",
      "display_name": "Python 3"
    },
    "language_info": {
      "name": "python"
    }
  },
  "cells": [
    {
      "cell_type": "markdown",
      "source": [
        "Task1_0611. 주어진 대각 행렬의 역행렬을 구하고, 역행렬이 맞는지 확인하세요.\n",
        "\n",
        "D = np.diag([1, 2, 3])"
      ],
      "metadata": {
        "id": "TncgipJUsyop"
      }
    },
    {
      "cell_type": "code",
      "source": [
        "import numpy as np\n",
        "\n",
        "D = np.diag([1, 2, 3])\n",
        "\n",
        "inv_mat = np.linalg.inv(D)\n",
        "print(inv_mat)"
      ],
      "metadata": {
        "colab": {
          "base_uri": "https://localhost:8080/"
        },
        "id": "PMBzc_BAJXDl",
        "outputId": "72881d65-cb5e-4a75-be35-3498aafec9c3"
      },
      "execution_count": null,
      "outputs": [
        {
          "output_type": "stream",
          "name": "stdout",
          "text": [
            "[[1.         0.         0.        ]\n",
            " [0.         0.5        0.        ]\n",
            " [0.         0.         0.33333333]]\n"
          ]
        }
      ]
    },
    {
      "cell_type": "code",
      "source": [
        "D = np.diag([1, 2, 3])\n",
        "\n",
        "inv_mat = np.linalg.inv(D)\n",
        "\n",
        "result = np.dot(D,inv_mat)\n",
        "print(result)"
      ],
      "metadata": {
        "colab": {
          "base_uri": "https://localhost:8080/"
        },
        "id": "_G7V-7gB3aRP",
        "outputId": "e33157e4-1b9d-4f4b-9131-3add523795bb"
      },
      "execution_count": null,
      "outputs": [
        {
          "output_type": "stream",
          "name": "stdout",
          "text": [
            "[[1. 0. 0.]\n",
            " [0. 1. 0.]\n",
            " [0. 0. 1.]]\n"
          ]
        }
      ]
    },
    {
      "cell_type": "markdown",
      "source": [
        "Task2_0611. 임의의 상삼각 행렬을 생성하고, 그 행렬로 부터 하삼각 행렬을 구하여 출력하세요."
      ],
      "metadata": {
        "id": "cH4ioQDUs0G7"
      }
    },
    {
      "cell_type": "code",
      "source": [
        "A = np.triu(np.ones((3,3)))\n",
        "print(A,'\\n')\n",
        "\n",
        "B = np.tril(np.ones((3,3)))\n",
        "print(B)"
      ],
      "metadata": {
        "colab": {
          "base_uri": "https://localhost:8080/"
        },
        "id": "2uYo4LWyJ-B6",
        "outputId": "599f963a-b243-4222-b485-9ed5beed8864"
      },
      "execution_count": null,
      "outputs": [
        {
          "output_type": "stream",
          "name": "stdout",
          "text": [
            "[[1. 1. 1.]\n",
            " [0. 1. 1.]\n",
            " [0. 0. 1.]] \n",
            "\n",
            "[[1. 0. 0.]\n",
            " [1. 1. 0.]\n",
            " [1. 1. 1.]]\n"
          ]
        }
      ]
    },
    {
      "cell_type": "code",
      "source": [
        "U = np.array([[1,2,3],[0,4,5],[0,0,6]])\n",
        "\n",
        "U_T = U.T\n",
        "print(U,'\\n')\n",
        "print(U_T)"
      ],
      "metadata": {
        "colab": {
          "base_uri": "https://localhost:8080/"
        },
        "id": "WoJBlaw63yUD",
        "outputId": "8d143b41-6f05-4d61-8b39-697f62725cd5"
      },
      "execution_count": null,
      "outputs": [
        {
          "output_type": "stream",
          "name": "stdout",
          "text": [
            "[[1 2 3]\n",
            " [0 4 5]\n",
            " [0 0 6]] \n",
            "\n",
            "[[1 0 0]\n",
            " [2 4 0]\n",
            " [3 5 6]]\n"
          ]
        }
      ]
    },
    {
      "cell_type": "markdown",
      "source": [
        "Task3_0611. 주어진 행렬의 역행렬을 구하고, 역행렬이 맞는지 확인하세요.\n",
        "\n",
        "A = np.array([[4, 7], [2, 6]])"
      ],
      "metadata": {
        "id": "SCmCuIU9s18d"
      }
    },
    {
      "cell_type": "code",
      "source": [
        "A = np.array([[4, 7], [2, 6]])\n",
        "\n",
        "inv_A = np.linalg.inv(A)\n",
        "print(inv_A,'\\n')\n",
        "result = np.dot(A,inv_A)\n",
        "\n",
        "# 단위행렬\n",
        "I = np.eye(2)\n",
        "print(np.allclose(result,I))"
      ],
      "metadata": {
        "colab": {
          "base_uri": "https://localhost:8080/"
        },
        "id": "ABXhZ28xKmVO",
        "outputId": "d6c10550-71da-44b9-dfa5-877a6bca2700"
      },
      "execution_count": null,
      "outputs": [
        {
          "output_type": "stream",
          "name": "stdout",
          "text": [
            "[[ 0.6 -0.7]\n",
            " [-0.2  0.4]] \n",
            "\n",
            "True\n"
          ]
        }
      ]
    },
    {
      "cell_type": "markdown",
      "source": [
        "Task4_0611. 주어진 데이터 포인트와 모델 파라미터를 사용하여 선형 회귀 모델의 예측값을 계산하세요. (행렬 곱)\n",
        "\n",
        "X = np.array([1, 2, 3])\n",
        "\n",
        "- 1단계 : 주어진 입력 데이터 포인트 X와 모델 파라미터 θ를 정의.\n",
        "- 2단계 : 행렬 곱을 사용하여 예측값 y를 계산."
      ],
      "metadata": {
        "id": "kghjRK-c-wdZ"
      }
    },
    {
      "cell_type": "code",
      "source": [
        "X = np.array([1, 2, 3])\n",
        "θ= np.array([4, 5, 6])\n",
        "\n",
        "y = np.dot(X,θ)\n",
        "print(y)"
      ],
      "metadata": {
        "colab": {
          "base_uri": "https://localhost:8080/"
        },
        "id": "_elEQFkzLD3M",
        "outputId": "9899a418-48b5-4ee8-e39b-825f762e2005"
      },
      "execution_count": null,
      "outputs": [
        {
          "output_type": "stream",
          "name": "stdout",
          "text": [
            "32\n"
          ]
        }
      ]
    },
    {
      "cell_type": "code",
      "source": [
        "import numpy as np\n",
        "\n",
        "# 입력 데이터 포인트\n",
        "X = np.array([1, 2, 3])\n",
        "\n",
        "# 모델 파라미터\n",
        "theta = np.array([0.5, 1.5, -2])\n",
        "\n",
        "# 선형 회귀 모델의 예측값 계산\n",
        "y_pred = np.dot(X, theta)\n",
        "\n",
        "print(X)\n",
        "print(theta)\n",
        "print(y_pred)"
      ],
      "metadata": {
        "colab": {
          "base_uri": "https://localhost:8080/"
        },
        "id": "LyRN_Qmb5OqY",
        "outputId": "f9b660d4-e061-4a47-8069-a4e00aeef7d8"
      },
      "execution_count": null,
      "outputs": [
        {
          "output_type": "stream",
          "name": "stdout",
          "text": [
            "[1 2 3]\n",
            "[ 0.5  1.5 -2. ]\n",
            "-2.5\n"
          ]
        }
      ]
    },
    {
      "cell_type": "markdown",
      "source": [
        "Task5_0611. 주어진 입력 벡터와 가중치 행렬을 사용하여 신경망의 단일 계층 출력을 계산하세요.\n",
        "\n",
        "- 1단계: 입력 벡터 X와 가중치 행렬 W를 정의.\n",
        "- 2단계: 행렬 곱을 사용하여 계층의 출력을 계산.\n",
        "- X = np.array([0.5, 1.0, -1.5])"
      ],
      "metadata": {
        "id": "-zPR80qG-yZk"
      }
    },
    {
      "cell_type": "code",
      "source": [
        "X = np.array([0.5, 1.0, -1.5])\n",
        "W = np.array([4, 5, 6])\n",
        "\n",
        "x_y = np.dot(X,W)\n",
        "print(x_y)"
      ],
      "metadata": {
        "colab": {
          "base_uri": "https://localhost:8080/"
        },
        "id": "HLp995kCMVyn",
        "outputId": "36b7cf28-8cac-489a-e8a7-bd65d4b19a49"
      },
      "execution_count": null,
      "outputs": [
        {
          "output_type": "stream",
          "name": "stdout",
          "text": [
            "-2.0\n"
          ]
        }
      ]
    },
    {
      "cell_type": "code",
      "source": [
        "# W는 가중치 행렬, X 는 입력 벡터이고 일반적인 표기 방식은 WX\n",
        "X = np.array([0.5, 1.0, -1.5])\n",
        "W = np.array([[0.2, -0.3, 0.5],\n",
        "             [0.4, 0.1, -0.2],\n",
        "             [-0.5, 0.4, 0.3]])\n",
        "\n",
        "output = np.dot(X,W)\n",
        "\n",
        "print(X,'\\n')\n",
        "print(W,'\\n')\n",
        "print(output)\n"
      ],
      "metadata": {
        "colab": {
          "base_uri": "https://localhost:8080/"
        },
        "id": "bpBy2kiY7fmG",
        "outputId": "f66bad79-5491-409f-c843-051088577527"
      },
      "execution_count": null,
      "outputs": [
        {
          "output_type": "stream",
          "name": "stdout",
          "text": [
            "[ 0.5  1.  -1.5] \n",
            "\n",
            "[[ 0.2 -0.3  0.5]\n",
            " [ 0.4  0.1 -0.2]\n",
            " [-0.5  0.4  0.3]] \n",
            "\n",
            "[-0.95  0.6  -0.3 ]\n"
          ]
        }
      ]
    },
    {
      "cell_type": "markdown",
      "source": [
        "Task6_0611. 주어진 입력 벡터에 대해 신경망의 활성화 함수(ReLU, 시그모이드)를 적용하여 출력을 계산하세요.\n",
        "\n",
        "X = np.array([1, -2, 3])\n",
        "\n",
        "- 1단계: 입력 벡터 X를 정의.\n",
        "- 2단계: 가중치 행렬 W와 편향 벡터 b를 정의.\n",
        "- 3단계: 활성화 함수(ReLU, 시그모이드)를 적용하여 출력을 계산<br>\n",
        "활성화 함수 적용<br>\n",
        "output_relu = relu(Z)<br>\n",
        "output_sigmoid = sigmoid(Z)"
      ],
      "metadata": {
        "id": "mSYPpkzX_Aia"
      }
    },
    {
      "cell_type": "code",
      "source": [
        "def relu(x):\n",
        "    return np.maximum(0,x)\n",
        "\n",
        "def sigmoid(x):\n",
        "    return 1 / (1 + np.exp(-x))\n",
        "\n",
        "# 입력 벡터 정의\n",
        "\n",
        "X = np.array([1, -2, 3])\n",
        "\n",
        "W = np.array([[0.2, -0.5, 0.3],\n",
        "             [0.4, 0.1, -0.2],\n",
        "             [-0.3, 0.4, 0.6]])\n",
        "b = np.array([0.1, -0.2, 0.3])\n",
        "\n",
        "Z = np.dot(X,W)\n",
        "\n",
        "output_relu = relu(Z)\n",
        "output_sigmoid = sigmoid(Z)\n",
        "\n",
        "print(X,'\\n')\n",
        "print(W,'\\n')\n",
        "print(b,'\\n')\n",
        "print(Z,'\\n')\n",
        "print(output_relu,'\\n')\n",
        "print(output_sigmoid)\n"
      ],
      "metadata": {
        "id": "xQTDh48yN3Iq",
        "colab": {
          "base_uri": "https://localhost:8080/"
        },
        "outputId": "605520f5-d74e-4dc3-eb3a-e7afa138613a"
      },
      "execution_count": null,
      "outputs": [
        {
          "output_type": "stream",
          "name": "stdout",
          "text": [
            "[ 1 -2  3] \n",
            "\n",
            "[[ 0.2 -0.5  0.3]\n",
            " [ 0.4  0.1 -0.2]\n",
            " [-0.3  0.4  0.6]] \n",
            "\n",
            "[ 0.1 -0.2  0.3] \n",
            "\n",
            "[ 2.1 -0.4  0.7] \n",
            "\n",
            "[2.1 0.  0.7] \n",
            "\n",
            "[0.89090318 0.40131234 0.66818777]\n"
          ]
        }
      ]
    },
    {
      "cell_type": "markdown",
      "source": [
        "Task7_0611. 주어진 선형 방정식을 행렬 형태로 나타내고, 역행렬을 사용하여\n",
        "x와 y를 구하세요.\n",
        "\n",
        "$\\begin{cases}\n",
        "3x + 4y = 10 \\\\\n",
        "2x + y = 5\n",
        "\\end{cases}$\n",
        "\n",
        "단계:\n",
        "1. 계수 행렬 A와 결과 벡터 b를 정의.\n",
        "2. 행렬 A의 역행렬을 구한다.\n",
        "3. 역행렬을 사용하여 변수 x를 구한다."
      ],
      "metadata": {
        "id": "_twruKQj_D9G"
      }
    },
    {
      "cell_type": "markdown",
      "source": [
        "[풀이]\n",
        "주어진 선형방정식을 행렬 형태로 나타내면 다음과 같다: \\\\\n",
        "$A\\mathbf{x} = \\mathbf{b}$ \\\\\n",
        "여기서 \\\\\n",
        "$A = \\begin{bmatrix}3 & 4 \\\\2 & 1\\end{bmatrix}$,\n",
        "\n",
        "$\\mathbf{x} = \\begin{bmatrix}x \\\\y\\end{bmatrix}$,\n",
        "\n",
        "$\\mathbf{b} = \\begin{bmatrix}10 \\\\5\\end{bmatrix}$\n",
        "\n",
        "$\\mathbf{x} = A^{-1} \\mathbf{b}$"
      ],
      "metadata": {
        "id": "BfgJtItIDV46"
      }
    },
    {
      "cell_type": "code",
      "source": [
        "A = np.array([[3,4],[2,1]])\n",
        "b = np.array([10,5])\n",
        "\n",
        "#역행렬 계산\n",
        "A_inv = np.linalg.inv(A)\n",
        "\n",
        "# 해 계산\n",
        "x = np.dot(A_inv , b)\n",
        "\n",
        "print(A)\n",
        "print(b)\n",
        "print(A_inv)\n",
        "print(x)"
      ],
      "metadata": {
        "colab": {
          "base_uri": "https://localhost:8080/"
        },
        "id": "-Sg1PbZ5CjR9",
        "outputId": "a665ff5d-91c2-42d8-f7f1-39d01980b21d"
      },
      "execution_count": null,
      "outputs": [
        {
          "output_type": "stream",
          "name": "stdout",
          "text": [
            "[[3 4]\n",
            " [2 1]]\n",
            "[10  5]\n",
            "[[-0.2  0.8]\n",
            " [ 0.4 -0.6]]\n",
            "[2. 1.]\n"
          ]
        }
      ]
    },
    {
      "cell_type": "markdown",
      "source": [
        "Task8_0611. 주어진 2D 평면의 점을 특정 변환 행렬을 사용하여 변환한 후, 변환된 좌표를 원래 좌표로 되돌리세요.\n",
        "\n",
        "원래 점의 좌표 p와 변환 행렬 T 정의<br>\n",
        "p = np.array([1, 2])<br>\n",
        "T = np.array([[2, 0], [0, 3]])\n",
        "\n",
        "단계\n",
        "1. 원래 점의 좌표 p와 변환 행렬 T를 정의.\n",
        "2. 변환 행렬 T를 사용하여 새로운 좌표 p`를 계산.\n",
        "3. 변환 행렬 T의 역행렬을 사용하여 새로운 좌표 p`에서 원래 좌표 p를 복원."
      ],
      "metadata": {
        "id": "AWZ9yDf0IA_W"
      }
    },
    {
      "cell_type": "code",
      "source": [
        "p = np.array([1, 2])\n",
        "T = np.array([[2, 0], [0, 3]])\n",
        "\n",
        "# 새로운 좌표 p` 계산\n",
        "p_prime = np.dot(p,T)\n",
        "\n",
        "# 변환 행렬 T의 역행렬 계산\n",
        "T_inv = np.linalg.inv(T)\n",
        "\n",
        "# 원래 좌표 P복원\n",
        "p_restored = np.dot(T_inv, p_prime)\n",
        "\n",
        "print(p_prime,'\\n')\n",
        "print(T_inv,'\\n')\n",
        "print(p_restored)\n"
      ],
      "metadata": {
        "colab": {
          "base_uri": "https://localhost:8080/"
        },
        "id": "MeoXF0BVEuHF",
        "outputId": "8555f1af-3154-42de-abe4-06ec8fc79b52"
      },
      "execution_count": null,
      "outputs": [
        {
          "output_type": "stream",
          "name": "stdout",
          "text": [
            "[2 6] \n",
            "\n",
            "[[0.5        0.        ]\n",
            " [0.         0.33333333]] \n",
            "\n",
            "[1. 2.]\n"
          ]
        }
      ]
    }
  ]
}