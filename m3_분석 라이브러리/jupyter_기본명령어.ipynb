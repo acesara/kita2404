{
 "cells": [
  {
   "cell_type": "code",
   "execution_count": 3,
   "id": "dfb533ac-bbde-4653-b86a-bfe39e6c5cfa",
   "metadata": {},
   "outputs": [
    {
     "name": "stdout",
     "output_type": "stream",
     "text": [
      "Python 3.10.14\n"
     ]
    }
   ],
   "source": [
    "!python --version"
   ]
  },
  {
   "cell_type": "code",
   "execution_count": 6,
   "id": "fa52322f-3b5a-4f96-8c0a-dc222f5ece26",
   "metadata": {},
   "outputs": [
    {
     "name": "stdout",
     "output_type": "stream",
     "text": [
      "C:\\Users\\Administrator\\anaconda3\\envs\\myenv\\python.exe\n",
      "C:\\Users\\Administrator\\anaconda3\\python.exe\n",
      "C:\\Users\\Administrator\\AppData\\Local\\Microsoft\\WindowsApps\\python.exe\n"
     ]
    }
   ],
   "source": [
    "!where python"
   ]
  },
  {
   "cell_type": "code",
   "execution_count": 8,
   "id": "d3576486-5ee6-437f-aa48-029e69d6d3c2",
   "metadata": {},
   "outputs": [
    {
     "data": {
      "text/plain": [
       "'C:\\\\Users\\\\Administrator\\\\kita'"
      ]
     },
     "execution_count": 8,
     "metadata": {},
     "output_type": "execute_result"
    }
   ],
   "source": [
    "%pwd"
   ]
  },
  {
   "cell_type": "code",
   "execution_count": 11,
   "id": "d8356618-b4b6-4f6a-a782-bbe3feddfe2a",
   "metadata": {},
   "outputs": [
    {
     "name": "stdout",
     "output_type": "stream",
     "text": [
      " C 드라이브의 볼륨에는 이름이 없습니다.\n",
      " 볼륨 일련 번호: C672-E692\n",
      "\n",
      " C:\\Users\\Administrator\\kita 디렉터리\n",
      "\n",
      "2024-05-24  오후 05:22    <DIR>          .\n",
      "2024-05-24  오후 05:22    <DIR>          ..\n",
      "2024-05-24  오후 05:18    <DIR>          .ipynb_checkpoints\n",
      "2024-05-24  오후 05:22             1,252 0524.ipynb\n",
      "2024-05-24  오후 05:16                 0 untitled.txt\n",
      "               2개 파일               1,252 바이트\n",
      "               3개 디렉터리  167,726,284,800 바이트 남음\n"
     ]
    }
   ],
   "source": [
    "%ls"
   ]
  },
  {
   "cell_type": "code",
   "execution_count": 12,
   "id": "7a9cdd12-515f-4409-9741-af39956b1e47",
   "metadata": {},
   "outputs": [
    {
     "name": "stdout",
     "output_type": "stream",
     "text": [
      " C 드라이브의 볼륨에는 이름이 없습니다.\n",
      " 볼륨 일련 번호: C672-E692\n",
      "\n",
      " C:\\Users\\Administrator\\kita 디렉터리\n",
      "\n",
      "2024-05-24  오후 05:22    <DIR>          .\n",
      "2024-05-24  오후 05:22    <DIR>          ..\n",
      "2024-05-24  오후 05:18    <DIR>          .ipynb_checkpoints\n",
      "2024-05-24  오후 05:22             1,252 0524.ipynb\n",
      "2024-05-24  오후 05:16                 0 untitled.txt\n",
      "               2개 파일               1,252 바이트\n",
      "               3개 디렉터리  167,726,202,880 바이트 남음\n"
     ]
    }
   ],
   "source": [
    "!dir"
   ]
  },
  {
   "cell_type": "markdown",
   "id": "36350677-57af-4ea1-8c87-6f8433b64364",
   "metadata": {},
   "source": [
    "#### !ls vs %ls\r\n",
    "- !ls는 UNIX 계열 시스템에서 셸 명령어 ls를 실행하여 현재 작업 디렉토리의 파일과 디렉토리를 나열\r\n",
    "- Windows에서는 ls 대신 dir 명령어를 사용 (!dir).\r\n",
    "- %ls는 IPython에서 제공하는 매직 명령어로, 파일 및 디렉토리 목록을 표시. 이는 운영 체제에 관계없이 동일한 방식으로 작동"
   ]
  },
  {
   "cell_type": "code",
   "execution_count": 14,
   "id": "3dec754e-5e29-4247-8ba0-eb75321a47c3",
   "metadata": {},
   "outputs": [
    {
     "name": "stdout",
     "output_type": "stream",
     "text": [
      " C 드라이브의 볼륨에는 이름이 없습니다.\n",
      " 볼륨 일련 번호: C672-E692\n",
      "\n",
      " C:\\Users\\Administrator\\kita 디렉터리\n",
      "\n",
      "2024-05-24  오후 05:28    <DIR>          .\n",
      "2024-05-24  오후 05:28    <DIR>          ..\n",
      "2024-05-24  오후 05:18    <DIR>          .ipynb_checkpoints\n",
      "2024-05-24  오후 05:28             4,530 0524.ipynb\n",
      "2024-05-24  오후 05:16                 0 untitled.txt\n",
      "               2개 파일               4,530 바이트\n",
      "               3개 디렉터리  167,726,256,128 바이트 남음\n"
     ]
    }
   ],
   "source": [
    "!dir C:\\Users\\Administrator\\kita"
   ]
  },
  {
   "cell_type": "code",
   "execution_count": 17,
   "id": "8db9c00c-8a02-4f8f-abcd-390895c86eff",
   "metadata": {},
   "outputs": [
    {
     "name": "stdout",
     "output_type": "stream",
     "text": [
      " C 드라이브의 볼륨에는 이름이 없습니다.\n",
      " 볼륨 일련 번호: C672-E692\n",
      "\n",
      " C:\\Users\\Administrator\\kita 디렉터리\n",
      "\n",
      "2024-05-24  오후 05:28    <DIR>          .\n",
      "2024-05-24  오후 05:28    <DIR>          ..\n",
      "2024-05-24  오후 05:18    <DIR>          .ipynb_checkpoints\n",
      "2024-05-24  오후 05:28             4,530 0524.ipynb\n",
      "2024-05-24  오후 05:16                 0 untitled.txt\n",
      "               2개 파일               4,530 바이트\n",
      "               3개 디렉터리  167,726,202,880 바이트 남음\n"
     ]
    }
   ],
   "source": [
    "%ls C:\\Users\\Administrator\\kita"
   ]
  },
  {
   "cell_type": "code",
   "execution_count": 20,
   "id": "18011ef1-0985-4840-987d-ce7b3b8f3cda",
   "metadata": {},
   "outputs": [],
   "source": [
    "# 새 파일 생성 및 쓰기\n",
    "with open('example.txt', 'w') as file:\n",
    "    file.write(\"This is an example file.\")"
   ]
  },
  {
   "cell_type": "code",
   "execution_count": 22,
   "id": "79bbe260-805a-4cdd-86aa-57133c55f2ca",
   "metadata": {},
   "outputs": [
    {
     "name": "stdout",
     "output_type": "stream",
     "text": [
      "This is an example file.\n"
     ]
    }
   ],
   "source": [
    "# 파일 읽기\n",
    "with open('example.txt', 'r') as file:\n",
    "    txt = file.read()\n",
    "    print(txt)"
   ]
  },
  {
   "cell_type": "code",
   "execution_count": 24,
   "id": "831afcf2-96ce-4841-aef9-6d4bdae13fd3",
   "metadata": {},
   "outputs": [
    {
     "name": "stderr",
     "output_type": "stream",
     "text": [
      "C:\\Users\\Administrator\\kita\\example.txt을(를) 찾을 수 없습니다.\n"
     ]
    }
   ],
   "source": [
    "# 파일 삭제\n",
    "!del example.txt"
   ]
  },
  {
   "cell_type": "code",
   "execution_count": 25,
   "id": "42d6c2e5-f192-4415-a485-9818920db2c7",
   "metadata": {},
   "outputs": [],
   "source": [
    "# 디렉토리 생성\n",
    "!mkdir test_dir"
   ]
  },
  {
   "cell_type": "code",
   "execution_count": 26,
   "id": "d53f7490-0667-4c8d-b01b-d6052fa21b9b",
   "metadata": {},
   "outputs": [
    {
     "name": "stdout",
     "output_type": "stream",
     "text": [
      "C:\\Users\\Administrator\\kita\\test_dir\n"
     ]
    },
    {
     "name": "stderr",
     "output_type": "stream",
     "text": [
      "C:\\Users\\Administrator\\anaconda3\\envs\\myenv\\lib\\site-packages\\IPython\\core\\magics\\osm.py:417: UserWarning: using dhist requires you to install the `pickleshare` library.\n",
      "  self.shell.db['dhist'] = compress_dhist(dhist)[-100:]\n"
     ]
    },
    {
     "data": {
      "text/plain": [
       "'C:\\\\Users\\\\Administrator\\\\kita\\\\test_dir'"
      ]
     },
     "execution_count": 26,
     "metadata": {},
     "output_type": "execute_result"
    }
   ],
   "source": [
    "# 디렉토리 이동\n",
    "%cd test_dir\n",
    "%pwd"
   ]
  },
  {
   "cell_type": "code",
   "execution_count": 28,
   "id": "acb3cee9-4747-49cb-8acf-99e8e0ff1a3f",
   "metadata": {},
   "outputs": [
    {
     "name": "stdout",
     "output_type": "stream",
     "text": [
      "Collecting pickleshare\n",
      "  Downloading pickleshare-0.7.5-py2.py3-none-any.whl.metadata (1.5 kB)\n",
      "Downloading pickleshare-0.7.5-py2.py3-none-any.whl (6.9 kB)\n",
      "Installing collected packages: pickleshare\n",
      "Successfully installed pickleshare-0.7.5\n"
     ]
    }
   ],
   "source": [
    "!pip install pickleshare"
   ]
  },
  {
   "cell_type": "code",
   "execution_count": 30,
   "id": "678f3f21-2da3-41d9-8c11-601f700c5da9",
   "metadata": {},
   "outputs": [],
   "source": [
    "with open('new_example.txt', 'w') as file:\n",
    "    file.write(\"This is an new example file.\")"
   ]
  },
  {
   "cell_type": "code",
   "execution_count": 32,
   "id": "2e933a96-af10-44ee-bc67-9a5a745d3b1b",
   "metadata": {},
   "outputs": [
    {
     "name": "stdout",
     "output_type": "stream",
     "text": [
      "This is an new example file.\n"
     ]
    }
   ],
   "source": [
    "with open('new_example.txt', 'r') as file:\n",
    "    txt = file.read()\n",
    "    print(txt)"
   ]
  },
  {
   "cell_type": "code",
   "execution_count": 34,
   "id": "9723ae92-2edf-46fc-8164-d5f4f9efd89c",
   "metadata": {},
   "outputs": [
    {
     "name": "stdout",
     "output_type": "stream",
     "text": [
      "C:\\Users\\Administrator\n"
     ]
    }
   ],
   "source": [
    "%cd .."
   ]
  },
  {
   "cell_type": "code",
   "execution_count": 35,
   "id": "a7130c71-3162-4b36-9ce9-0e51207a2f03",
   "metadata": {},
   "outputs": [
    {
     "data": {
      "text/plain": [
       "'C:\\\\Users\\\\Administrator'"
      ]
     },
     "execution_count": 35,
     "metadata": {},
     "output_type": "execute_result"
    }
   ],
   "source": [
    "%pwd"
   ]
  },
  {
   "cell_type": "code",
   "execution_count": 43,
   "id": "f01918b5-dd69-4abe-871b-03d7005f4356",
   "metadata": {},
   "outputs": [
    {
     "name": "stderr",
     "output_type": "stream",
     "text": [
      "지정된 파일을 찾을 수 없습니다.\n"
     ]
    }
   ],
   "source": [
    "# 디렉토리와 그 안의 모든 파일 삭제\n",
    "# /S 옵션: test_dir 안에 있는 모든 파일과 서브드렉토리를 삭제\n",
    "# /Q 옵션: 디렉토리 삭제하기 전에 사용자에게 확인 메세지를 묻지 않고 바로 삭제\n",
    "!rmdir /S /Q test_dir "
   ]
  },
  {
   "cell_type": "code",
   "execution_count": 44,
   "id": "055200f3-67b2-4eb6-b7d5-233103bf1df0",
   "metadata": {},
   "outputs": [],
   "source": [
    "with open('example.txt', 'w') as file:\n",
    "    file.write(\"This is an example file.\")"
   ]
  },
  {
   "cell_type": "code",
   "execution_count": 45,
   "id": "ef6652f8-cfff-4927-9b15-ae6ee27b29e7",
   "metadata": {},
   "outputs": [
    {
     "name": "stdout",
     "output_type": "stream",
     "text": [
      "        1개 파일을 이동했습니다.\n"
     ]
    }
   ],
   "source": [
    "# 파일 이름 변경\n",
    "!move example.txt new_example.txt"
   ]
  },
  {
   "cell_type": "code",
   "execution_count": 47,
   "id": "71e3b9ec-689d-455b-b40f-8cc958fca39f",
   "metadata": {},
   "outputs": [
    {
     "name": "stderr",
     "output_type": "stream",
     "text": [
      "하위 디렉터리 또는 파일 text_dir이(가) 이미 있습니다.\n"
     ]
    }
   ],
   "source": [
    "!mkdir text_dir"
   ]
  },
  {
   "cell_type": "code",
   "execution_count": 50,
   "id": "a89fc588-c901-4a1c-b958-97da766c9b39",
   "metadata": {},
   "outputs": [
    {
     "name": "stdout",
     "output_type": "stream",
     "text": [
      "        0개 파일이 복사되었습니다.\n"
     ]
    },
    {
     "name": "stderr",
     "output_type": "stream",
     "text": [
      "지정된 경로를 찾을 수 없습니다.\n"
     ]
    }
   ],
   "source": [
    "# 파일 복사\n",
    "!copy new_example.txt .\\test_dir\\copy_example.txt"
   ]
  },
  {
   "cell_type": "code",
   "execution_count": 53,
   "id": "d77f6d7d-a16e-4c34-a0cd-ebc86ce888dd",
   "metadata": {},
   "outputs": [
    {
     "name": "stderr",
     "output_type": "stream",
     "text": [
      "지정된 파일을 찾을 수 없습니다.\n",
      "지정된 파일을 찾을 수 없습니다.\n"
     ]
    }
   ],
   "source": [
    "!rmdir /S /Q test dir"
   ]
  }
 ],
 "metadata": {
  "kernelspec": {
   "display_name": "Python 3 (ipykernel)",
   "language": "python",
   "name": "python3"
  },
  "language_info": {
   "codemirror_mode": {
    "name": "ipython",
    "version": 3
   },
   "file_extension": ".py",
   "mimetype": "text/x-python",
   "name": "python",
   "nbconvert_exporter": "python",
   "pygments_lexer": "ipython3",
   "version": "3.10.14"
  }
 },
 "nbformat": 4,
 "nbformat_minor": 5
}
