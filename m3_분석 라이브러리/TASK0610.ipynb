{
  "nbformat": 4,
  "nbformat_minor": 0,
  "metadata": {
    "colab": {
      "provenance": []
    },
    "kernelspec": {
      "name": "python3",
      "display_name": "Python 3"
    },
    "language_info": {
      "name": "python"
    }
  },
  "cells": [
    {
      "cell_type": "markdown",
      "source": [
        "Task1_0610. 주어진 두 배열 arr1과 arr2에서, arr2의 요소가 10보다 큰 위치의 arr1 요소들을 선택하세요.\n",
        "\n",
        "arr1 = np.array([10, 20, 30, 40, 50])<br>\n",
        "arr2 = np.array([5, 15, 25, 10, 35])"
      ],
      "metadata": {
        "id": "PyNOPItd74Wh"
      }
    },
    {
      "cell_type": "code",
      "source": [
        "import numpy as np\n",
        "\n",
        "arr1 = np.array([10, 20, 30, 40, 50])\n",
        "arr2 = np.array([5, 15, 25, 10, 35])"
      ],
      "metadata": {
        "id": "PiaZCDVJHp65"
      },
      "execution_count": null,
      "outputs": []
    },
    {
      "cell_type": "code",
      "source": [
        "ar = np.where(arr2 > 10)\n",
        "ar\n",
        "\n",
        "arr = arr1[ar]\n",
        "arr\n"
      ],
      "metadata": {
        "colab": {
          "base_uri": "https://localhost:8080/"
        },
        "id": "zbXvl70jI--N",
        "outputId": "4b1ac449-eda0-40e0-d2ef-8340c391cc70"
      },
      "execution_count": null,
      "outputs": [
        {
          "output_type": "execute_result",
          "data": {
            "text/plain": [
              "array([20, 30, 50])"
            ]
          },
          "metadata": {},
          "execution_count": 2
        }
      ]
    },
    {
      "cell_type": "code",
      "source": [
        "import numpy as np\n",
        "\n",
        "arr1 = np.array([10, 20, 30, 40, 50])\n",
        "arr2 = np.array([5, 15, 25, 10, 35])\n",
        "\n",
        "print(([arr2 > 10]))\n",
        "result = arr1[arr2 > 10]\n",
        "result"
      ],
      "metadata": {
        "colab": {
          "base_uri": "https://localhost:8080/"
        },
        "id": "O9g0u4_ap6Xe",
        "outputId": "9a522bfc-0fbc-4db8-cdb2-a78079264072"
      },
      "execution_count": null,
      "outputs": [
        {
          "output_type": "stream",
          "name": "stdout",
          "text": [
            "[array([False,  True,  True, False,  True])]\n"
          ]
        },
        {
          "output_type": "execute_result",
          "data": {
            "text/plain": [
              "array([20, 30, 50])"
            ]
          },
          "metadata": {},
          "execution_count": 7
        }
      ]
    },
    {
      "cell_type": "markdown",
      "source": [
        "Task2_0610. 주어진 배열에서 짝수 인덱스에 있는 요소들을 선택하세요.\n",
        "\n",
        "arr = np.array([5, 10, 15, 20, 25, 30, 35, 40])"
      ],
      "metadata": {
        "id": "83C9eTA675f2"
      }
    },
    {
      "cell_type": "code",
      "source": [
        "# ex\n",
        "arr = np.array([5, 10, 15, 20, 25, 30, 35, 40])\n",
        "\n",
        "ar1 = arr[(arr % 2 == 0)]\n",
        "ar1\n"
      ],
      "metadata": {
        "colab": {
          "base_uri": "https://localhost:8080/"
        },
        "id": "mKI-Aw0CH4U6",
        "outputId": "6433e5b3-6f62-4606-d0c3-067cd444728a"
      },
      "execution_count": null,
      "outputs": [
        {
          "output_type": "execute_result",
          "data": {
            "text/plain": [
              "array([10, 20, 30, 40])"
            ]
          },
          "metadata": {},
          "execution_count": 8
        }
      ]
    },
    {
      "cell_type": "code",
      "source": [
        "# ex\n",
        "arr = np.array([5, 10, 15, 20, 25, 30, 35, 40])\n",
        "\n",
        "arr[::2]"
      ],
      "metadata": {
        "colab": {
          "base_uri": "https://localhost:8080/"
        },
        "id": "QyKvAJ9nqM_c",
        "outputId": "b7f458ea-1f6b-4793-976e-c65d8eb72232"
      },
      "execution_count": null,
      "outputs": [
        {
          "output_type": "execute_result",
          "data": {
            "text/plain": [
              "array([ 5, 15, 25, 35])"
            ]
          },
          "metadata": {},
          "execution_count": 9
        }
      ]
    },
    {
      "cell_type": "markdown",
      "source": [
        "Task3_0610. 주어진 배열에서 20보다 작은 요소들의 값을 0으로 변경하세요.\n",
        "\n",
        "arr = np.array([10, 25, 30, 15, 40, 5])"
      ],
      "metadata": {
        "id": "zP9uP4xT76yu"
      }
    },
    {
      "cell_type": "code",
      "source": [
        "arr = np.array([10, 25, 30, 15, 40, 5])\n",
        "\n",
        "ar1 = np.where(arr < 20,0 ,arr)\n",
        "ar1"
      ],
      "metadata": {
        "colab": {
          "base_uri": "https://localhost:8080/"
        },
        "id": "NtEyHvBKH6rL",
        "outputId": "579865d1-64d7-4f71-a844-367cba8473d0"
      },
      "execution_count": null,
      "outputs": [
        {
          "output_type": "execute_result",
          "data": {
            "text/plain": [
              "array([ 0, 25, 30,  0, 40,  0])"
            ]
          },
          "metadata": {},
          "execution_count": 4
        }
      ]
    },
    {
      "cell_type": "code",
      "source": [
        "# ex\n",
        "\n",
        "arr = np.array([10, 25, 30, 15, 40, 5])\n",
        "\n",
        "arr[arr < 20] = 0\n",
        "arr"
      ],
      "metadata": {
        "colab": {
          "base_uri": "https://localhost:8080/"
        },
        "id": "-pLkLJjqqmSG",
        "outputId": "4bf7071d-07ca-4ec1-8469-78df63653bd2"
      },
      "execution_count": null,
      "outputs": [
        {
          "output_type": "execute_result",
          "data": {
            "text/plain": [
              "array([ 0, 25, 30,  0, 40,  0])"
            ]
          },
          "metadata": {},
          "execution_count": 10
        }
      ]
    }
  ]
}