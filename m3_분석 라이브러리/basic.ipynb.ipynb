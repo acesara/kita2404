{
 "cells": [
  {
   "cell_type": "markdown",
   "metadata": {},
   "source": [
    "## 웹문서 구조 이해"
   ]
  },
  {
   "cell_type": "markdown",
   "metadata": {},
   "source": [
    "#### DOM (Document Object Model)\n",
    "\n",
    "- DOM은 HTML 문서의 구조를 트리 형태로 표현한 모델입니다. JavaScript와 같은 언어를 사용하여 DOM을 탐색하고 수정할 수 있습니다.\n",
    "- DOM 구조\n",
    "```\n",
    "<!DOCTYPE html>\n",
    "<html>\n",
    "<head>\n",
    "    <title>Example</title>\n",
    "</head>\n",
    "<body>\n",
    "    <h1>DOM Example</h1>\n",
    "    <p id=\"intro\">This is a simple DOM example.</p>\n",
    "</body>\n",
    "</html>\n",
    "```\n",
    "\n",
    "HTML 문서는 다음과 같은 DOM 트리로 표현\n",
    "```\n",
    "Document\n",
    "└── html\n",
    "    ├── head\n",
    "    │   ├── title\n",
    "    │   │   └── \"Example\"\n",
    "    └── body\n",
    "        ├── h1\n",
    "        │   └── \"DOM Example\"\n",
    "        └── p (id=\"intro\")\n",
    "            └── \"This is a simple DOM example.\"\n",
    "```"
   ]
  },
  {
   "cell_type": "markdown",
   "metadata": {},
   "source": [
    "#### HTML 태그\n",
    "\n",
    "```\n",
    "기본 구조 태그\n",
    "<!DOCTYPE html>: HTML 문서의 유형을 정의합니다. 최신 HTML5에서는 <!DOCTYPE html>을 사용합니다.\n",
    "<html>: HTML 문서의 루트 요소입니다. 모든 HTML 문서의 최상위 요소입니다.\n",
    "<head>: HTML 문서의 메타데이터를 포함합니다. 여기에는 문서 제목, 스타일 시트 링크, 스크립트 등이 포함됩니다.\n",
    "<title>: 웹 페이지의 제목을 정의합니다. 이 제목은 브라우저 탭에 표시됩니다.\n",
    "<meta>: 문서의 메타데이터를 정의합니다. 예를 들어, 문자 인코딩을 정의할 때 사용됩니다.\n",
    "<link>: 외부 리소스를 문서에 연결합니다. 주로 CSS 파일을 연결할 때 사용됩니다.\n",
    "<style>: 문서 내에 CSS 스타일을 정의합니다.\n",
    "<body>: 실제로 브라우저에 표시되는 콘텐츠를 포함합니다.\n",
    "```\n",
    "```\n",
    "콘텐츠 구조 태그\n",
    "<header>: 문서나 섹션의 헤더를 정의합니다.\n",
    "<nav>: 내비게이션 링크를 정의합니다.\n",
    "<section>: 문서의 섹션을 정의합니다.\n",
    "<article>: 독립적인 콘텐츠를 정의합니다.\n",
    "<aside>: 주요 콘텐츠 외의 추가적인 콘텐츠를 정의합니다.\n",
    "<footer>: 문서나 섹션의 푸터를 정의합니다.\n",
    "```\n",
    "```\n",
    "텍스트 관련 태그\n",
    "<h1> ~ <h6>: 제목을 정의합니다. <h1>은 가장 중요한 제목, <h6>은 가장 덜 중요한 제목입니다.\n",
    "<p>: 단락을 정의합니다.\n",
    "<a>: 하이퍼링크를 정의합니다. href 속성을 사용하여 링크 대상 URL을 지정합니다.\n",
    "<strong>: 중요한 텍스트를 정의합니다. 일반적으로 굵게 표시됩니다.\n",
    "<em>: 강조된 텍스트를 정의합니다. 일반적으로 기울임꼴로 표시됩니다.\n",
    "<br>: 줄 바꿈을 삽입합니다.\n",
    "<ul>: 순서 없는 목록을 정의합니다.\n",
    "<ol>: 순서 있는 목록을 정의합니다.\n",
    "<li>: 목록 항목을 정의합니다.\n",
    "```\n",
    "```\n",
    "멀티미디어 태그\n",
    "<img>: 이미지를 삽입합니다. src 속성을 사용하여 이미지 파일의 URL을 지정합니다.\n",
    "<audio>: 오디오 콘텐츠를 삽입합니다.\n",
    "<video>: 비디오 콘텐츠를 삽입합니다.\n",
    "<iframe>: 다른 HTML 페이지를 현재 페이지에 삽입합니다.\n",
    "```\n",
    "```\n",
    "테이블 태그\n",
    "<table>: 표를 정의합니다.\n",
    "<tr>: 표의 행을 정의합니다.\n",
    "<td>: 표의 셀을 정의합니다.\n",
    "<th>: 표의 헤더 셀을 정의합니다.\n",
    "<thead>: 표의 머리글 섹션을 정의합니다.\n",
    "<tbody>: 표의 본문 섹션을 정의합니다.\n",
    "<tfoot>: 표의 바닥글 섹션을 정의합니다.\n",
    "```\n",
    "```\n",
    "폼 태그\n",
    "<form>: 사용자 입력을 받는 폼을 정의합니다.\n",
    "<input>: 다양한 유형의 입력 필드를 정의합니다.\n",
    "<textarea>: 여러 줄의 텍스트 입력 필드를 정의합니다.\n",
    "<button>: 클릭 가능한 버튼을 정의합니다.\n",
    "<select>: 드롭다운 목록을 정의합니다.\n",
    "<option>: 드롭다운 목록의 항목을 정의합니다.\n",
    "```\n"
   ]
  },
  {
   "cell_type": "code",
   "execution_count": 47,
   "metadata": {},
   "outputs": [
    {
     "name": "stdout",
     "output_type": "stream",
     "text": [
      "<!doctype html>\n",
      "<html>\n",
      "<head>\n",
      "    <title>Example Domain</title>\n",
      "\n",
      "    <meta charset=\"utf-8\" />\n",
      "    <meta http-equiv=\"Content-type\" content=\"text/html; charset=utf-8\" />\n",
      "    <meta name=\"viewport\" content=\"width=device-width, initial-scale=1\" />\n",
      "    <style type=\"text/css\">\n",
      "    body {\n",
      "        background-color: #f0f0f2;\n",
      "        margin: 0;\n",
      "        padding: 0;\n",
      "        font-family: -apple-system, system-ui, BlinkMacSystemFont, \"Segoe UI\", \"Open Sans\", \"Helvetica Neue\", Helvetica, Arial, sans-serif;\n",
      "        \n",
      "    }\n",
      "    div {\n",
      "        width: 600px;\n",
      "        margin: 5em auto;\n",
      "        padding: 2em;\n",
      "        background-color: #fdfdff;\n",
      "        border-radius: 0.5em;\n",
      "        box-shadow: 2px 3px 7px 2px rgba(0,0,0,0.02);\n",
      "    }\n",
      "    a:link, a:visited {\n",
      "        color: #38488f;\n",
      "        text-decoration: none;\n",
      "    }\n",
      "    @media (max-width: 700px) {\n",
      "        div {\n",
      "            margin: 0 auto;\n",
      "            width: auto;\n",
      "        }\n",
      "    }\n",
      "    </style>    \n",
      "</head>\n",
      "\n",
      "<body>\n",
      "<div>\n",
      "    <h1>Example Domain</h1>\n",
      "    <p>This domain is for use in illustrative examples in documents. You may use this\n",
      "    domain in literature without prior coordination or asking for permission.</p>\n",
      "    <p><a href=\"https://www.iana.org/domains/example\">More information...</a></p>\n",
      "</div>\n",
      "</body>\n",
      "</html>\n",
      "\n"
     ]
    },
    {
     "data": {
      "text/plain": [
       "[<html>\n",
       " <head>\n",
       " <title>Example Domain</title>\n",
       " <meta charset=\"utf-8\"/>\n",
       " <meta content=\"text/html; charset=utf-8\" http-equiv=\"Content-type\"/>\n",
       " <meta content=\"width=device-width, initial-scale=1\" name=\"viewport\"/>\n",
       " <style type=\"text/css\">\n",
       "     body {\n",
       "         background-color: #f0f0f2;\n",
       "         margin: 0;\n",
       "         padding: 0;\n",
       "         font-family: -apple-system, system-ui, BlinkMacSystemFont, \"Segoe UI\", \"Open Sans\", \"Helvetica Neue\", Helvetica, Arial, sans-serif;\n",
       "         \n",
       "     }\n",
       "     div {\n",
       "         width: 600px;\n",
       "         margin: 5em auto;\n",
       "         padding: 2em;\n",
       "         background-color: #fdfdff;\n",
       "         border-radius: 0.5em;\n",
       "         box-shadow: 2px 3px 7px 2px rgba(0,0,0,0.02);\n",
       "     }\n",
       "     a:link, a:visited {\n",
       "         color: #38488f;\n",
       "         text-decoration: none;\n",
       "     }\n",
       "     @media (max-width: 700px) {\n",
       "         div {\n",
       "             margin: 0 auto;\n",
       "             width: auto;\n",
       "         }\n",
       "     }\n",
       "     </style>\n",
       " </head>\n",
       " <body>\n",
       " <div>\n",
       " <h1>Example Domain</h1>\n",
       " <p>This domain is for use in illustrative examples in documents. You may use this\n",
       "     domain in literature without prior coordination or asking for permission.</p>\n",
       " <p><a href=\"https://www.iana.org/domains/example\">More information...</a></p>\n",
       " </div>\n",
       " </body>\n",
       " </html>]"
      ]
     },
     "execution_count": 47,
     "metadata": {},
     "output_type": "execute_result"
    }
   ],
   "source": [
    "from bs4 import BeautifulSoup\n",
    "import requests\n",
    "\n",
    "url = 'http://example.com'\n",
    "response = requests.get(url)\n",
    "print(response.text)\n",
    "soup = BeautifulSoup(response.text, 'html.parser')\n",
    "soup.find_all('html')"
   ]
  },
  {
   "cell_type": "code",
   "execution_count": 48,
   "metadata": {},
   "outputs": [
    {
     "data": {
      "text/plain": [
       "<a href=\"https://www.iana.org/domains/example\">More information...</a>"
      ]
     },
     "execution_count": 48,
     "metadata": {},
     "output_type": "execute_result"
    }
   ],
   "source": [
    "soup.find('a')\n"
   ]
  },
  {
   "cell_type": "code",
   "execution_count": 49,
   "metadata": {},
   "outputs": [
    {
     "name": "stdout",
     "output_type": "stream",
     "text": [
      "https://www.iana.org/domains/example\n"
     ]
    }
   ],
   "source": [
    "# 모든 <a> 태그 추출\n",
    "\n",
    "links = soup.find_all('a')\n",
    "for link in links:\n",
    "    print(link.get('href'))"
   ]
  },
  {
   "cell_type": "code",
   "execution_count": 50,
   "metadata": {},
   "outputs": [
    {
     "name": "stdout",
     "output_type": "stream",
     "text": [
      "\n",
      "Example Domain\n",
      "This domain is for use in illustrative examples in documents. You may use this\n",
      "    domain in literature without prior coordination or asking for permission.\n",
      "More information...\n",
      "\n"
     ]
    }
   ],
   "source": [
    "# 모든 <div> 태그 추출\n",
    "\n",
    "divs = soup.find_all('div')\n",
    "for div in divs:\n",
    "    print(div.text)"
   ]
  },
  {
   "cell_type": "code",
   "execution_count": 51,
   "metadata": {},
   "outputs": [
    {
     "data": {
      "text/plain": [
       "[<h1>Example Domain</h1>]"
      ]
     },
     "execution_count": 51,
     "metadata": {},
     "output_type": "execute_result"
    }
   ],
   "source": [
    "soup.find_all('h1')"
   ]
  },
  {
   "cell_type": "code",
   "execution_count": 52,
   "metadata": {},
   "outputs": [
    {
     "name": "stdout",
     "output_type": "stream",
     "text": [
      "Example Domain\n"
     ]
    }
   ],
   "source": [
    "h1_tag = soup.find('h1')\n",
    "print(h1_tag.text)"
   ]
  },
  {
   "cell_type": "code",
   "execution_count": 53,
   "metadata": {},
   "outputs": [
    {
     "data": {
      "text/plain": [
       "[<meta charset=\"utf-8\"/>,\n",
       " <meta content=\"text/html; charset=utf-8\" http-equiv=\"Content-type\"/>,\n",
       " <meta content=\"width=device-width, initial-scale=1\" name=\"viewport\"/>]"
      ]
     },
     "execution_count": 53,
     "metadata": {},
     "output_type": "execute_result"
    }
   ],
   "source": [
    "meta_tags = soup.find_all('meta')\n",
    "meta_tags"
   ]
  },
  {
   "cell_type": "code",
   "execution_count": 54,
   "metadata": {},
   "outputs": [
    {
     "name": "stdout",
     "output_type": "stream",
     "text": [
      "{'charset': 'utf-8'}\n",
      "{'http-equiv': 'Content-type', 'content': 'text/html; charset=utf-8'}\n",
      "{'name': 'viewport', 'content': 'width=device-width, initial-scale=1'}\n"
     ]
    }
   ],
   "source": [
    "# 모든 <meta> 태그 추출\n",
    "\n",
    "for meta in meta_tags:\n",
    "    print(meta.attrs)"
   ]
  },
  {
   "cell_type": "markdown",
   "metadata": {},
   "source": [
    "#### HTML 속성\n",
    "- HTML 속성(Attribute)은 HTML 요소에 추가적인 정보를 제공하는 데 사용됩니다. \n",
    "- 속성은 시작 태그 내에 있으며, 이름-값 쌍으로 작성됩니다.<br>\n",
    "    ```<a href=\"https://example.com\" class=\"example-link\">Example</a>```\n",
    "- 각 속성은 요소의 특정 특성이나 동작을 정의합니다. \n",
    "    ```\n",
    "    - <a>: 앵커 태그로, 하이퍼링크를 만듭니다.\n",
    "    - href: 링크의 URL을 지정하는 속성입니다.\n",
    "    - class: CSS 클래스를 지정하는 속성입니다.\n",
    "    ```\n",
    "- 속성의 값은 일반적으로 따옴표로 감싸지만, 따옴표 없이 작성할 수도 있습니다.\n",
    "- HTML 속성의 기본 구조 :<br>\n",
    "    ```<a href=\"https://www.example.com\" target=\"_blank\">Example Link</a>```\n",
    "\n",
    "  여기서 a 태그는 두 개의 속성을 가집니다:\n",
    "    ```\n",
    "    href: 링크의 URL을 지정\n",
    "    target: 링크를 여는 방식 지정 (_blank는 새 탭에서 열기)\n",
    "    ```\n",
    "- 주요 HTML 속성\n",
    "\n",
    "    글로벌 속성 (Global Attributes): 거의 모든 HTML 요소에서 사용할 수 있는 속성들입니다.<br>    \n",
    "    ```<div id=\"header\" class=\"main-header\" style=\"color: blue;\" title=\"Header Section\">Welcome!</div>```\n",
    "    - id: 요소의 고유 식별자\n",
    "    - class: CSS 클래스 지정\n",
    "    - style: 인라인 CSS 스타일 지정\n",
    "    - title: 요소에 대한 추가 정보 제공 (마우스를 올렸을 때 표시)\n",
    "    - data-*: 페이지나 애플리케이션에 사용자 정의 데이터를 저장\n",
    "\n",
    "    폼 속성 (Form Attributes): 주로 폼 요소에서 사용되는 속성들입니다.\n",
    "    ```\n",
    "    <form action=\"/submit\" method=\"post\">\n",
    "      <input type=\"text\" name=\"username\" value=\"JohnDoe\" placeholder=\"Enter your username\">\n",
    "      <input type=\"submit\" value=\"Submit\"> # type=\"submit\": 이 입력 필드를 제출 버튼으로 정의\n",
    "    </form>\n",
    "    ```\n",
    "    - action: 폼 제출 시 데이터를 전송할 URL\n",
    "    - method: 폼 데이터 전송 방식 (GET, POST)\n",
    "    - name: 폼 요소의 이름\n",
    "    - value: 입력 요소의 초기 값\n",
    "    - placeholder: 입력 필드에 표시되는 힌트 텍스트\n",
    "\n",
    "    이미지 속성 (Image Attributes): 주로 이미지 요소에서 사용되는 속성들입니다.<br>\n",
    "    ```<img src=\"image.jpg\" alt=\"Example Image\" width=\"200\" height=\"100\">```\n",
    "    - src: 이미지 파일의 경로\n",
    "    - alt: 이미지가 표시되지 않을 때 대체 텍스트\n",
    "    - width와 height: 이미지의 크기 지정\n",
    "\n",
    "    링크 속성 (Link Attributes): 주로 앵커(a) 태그에서 사용되는 속성들입니다.<br>    \n",
    "    ```<a href=\"https://www.example.com\" target=\"_blank\" rel=\"noopener noreferrer\">Visit Example</a>```\n",
    "    - href: 링크의 URL\n",
    "    - target: 링크를 열 방법 (_blank, _self, _parent, _top)\n",
    "    - rel: 링크와 현재 문서 간의 관계\n",
    "\n",
    "    메타 데이터 속성 (Metadata Attributes): 주로 meta 태그에서 사용되는 속성들입니다.\n",
    "    ```\n",
    "    <meta name=\"description\" content=\"This is an example of a meta description.\">\n",
    "    <meta charset=\"UTF-8\">\n",
    "    ```\n",
    "    - name: 메타 데이터의 이름 (예: description, keywords)\n",
    "    - content: 메타 데이터의 내용\n",
    "    - charset: 문서의 문자 인코딩\n",
    "\n"
   ]
  },
  {
   "cell_type": "code",
   "execution_count": 55,
   "metadata": {},
   "outputs": [],
   "source": [
    "from bs4 import BeautifulSoup\n",
    "\n",
    "html_doc = \"\"\"\n",
    "<html><head><title>The Dormouse's story</title></head>\n",
    "<body>\n",
    "<p class=\"title\"><b>The Dormouse's story</b></p>\n",
    "<a href=\"http://example.com/elsie\" class=\"sister\" id=\"link1\">Elsie</a>\n",
    "<a href=\"http://example.com/lacie\" class=\"sister\" id=\"link2\">Lacie</a>\n",
    "<a href=\"http://example.com/tillie\" class=\"sister\" id=\"link3\">Tillie</a>\n",
    "</body></html>\n",
    "\"\"\""
   ]
  },
  {
   "cell_type": "markdown",
   "metadata": {},
   "source": [
    "Task6_0618. 주어진 HTML 문서에서 모든 $<a>$ 태그를 추출하세요."
   ]
  },
  {
   "cell_type": "code",
   "execution_count": 56,
   "metadata": {},
   "outputs": [
    {
     "name": "stdout",
     "output_type": "stream",
     "text": [
      "<a class=\"sister\" href=\"http://example.com/elsie\" id=\"link1\">Elsie</a>\n",
      "<a class=\"sister\" href=\"http://example.com/lacie\" id=\"link2\">Lacie</a>\n",
      "<a class=\"sister\" href=\"http://example.com/tillie\" id=\"link3\">Tillie</a>\n"
     ]
    }
   ],
   "source": [
    "soup = BeautifulSoup(html_doc, 'html.parser')\n",
    "a_tags = soup.find_all('a')\n",
    "for tag in a_tags:\n",
    "    print(tag)"
   ]
  },
  {
   "cell_type": "markdown",
   "metadata": {},
   "source": [
    "Task7_0618. 주어진 HTML 문서에서 첫 번째 $<p>$ 태그의 텍스트를 추출하세요."
   ]
  },
  {
   "cell_type": "code",
   "execution_count": 57,
   "metadata": {},
   "outputs": [
    {
     "name": "stdout",
     "output_type": "stream",
     "text": [
      "The Dormouse's story\n"
     ]
    }
   ],
   "source": [
    "p_tag = soup.find('p')\n",
    "print(p_tag.get_text())"
   ]
  },
  {
   "cell_type": "markdown",
   "metadata": {},
   "source": [
    "Task8_0618. 주어진 HTML 문서에서 모든 링크의 URL을 추출하세요."
   ]
  },
  {
   "cell_type": "code",
   "execution_count": 58,
   "metadata": {},
   "outputs": [
    {
     "name": "stdout",
     "output_type": "stream",
     "text": [
      "http://example.com/elsie\n",
      "http://example.com/lacie\n",
      "http://example.com/tillie\n"
     ]
    }
   ],
   "source": [
    "for tag in a_tags:\n",
    "    print(tag['href'])"
   ]
  },
  {
   "cell_type": "markdown",
   "metadata": {},
   "source": [
    "Task9_0618. 주어진 HTML 문서에서 클래스가 sister인 모든 태그를 추출하세요."
   ]
  },
  {
   "cell_type": "code",
   "execution_count": 59,
   "metadata": {},
   "outputs": [
    {
     "name": "stdout",
     "output_type": "stream",
     "text": [
      "<a class=\"sister\" href=\"http://example.com/elsie\" id=\"link1\">Elsie</a>\n",
      "<a class=\"sister\" href=\"http://example.com/lacie\" id=\"link2\">Lacie</a>\n",
      "<a class=\"sister\" href=\"http://example.com/tillie\" id=\"link3\">Tillie</a>\n"
     ]
    }
   ],
   "source": [
    "sister_tags = soup.find_all(class_ = 'sister')\n",
    "for tag in sister_tags:\n",
    "    print(tag)"
   ]
  },
  {
   "cell_type": "code",
   "execution_count": 60,
   "metadata": {},
   "outputs": [
    {
     "data": {
      "text/plain": [
       "<a class=\"sister\" href=\"http://example.com/elsie\" id=\"link1\">Elsie</a>"
      ]
     },
     "execution_count": 60,
     "metadata": {},
     "output_type": "execute_result"
    }
   ],
   "source": [
    "# 하나만 추출\n",
    "soup.find(class_ = 'sister')"
   ]
  },
  {
   "cell_type": "markdown",
   "metadata": {},
   "source": [
    "Task10_0618. 주어진 HTML 문서에서 ID가 link1인 태그를 추출하세요\n"
   ]
  },
  {
   "cell_type": "code",
   "execution_count": 61,
   "metadata": {},
   "outputs": [
    {
     "name": "stdout",
     "output_type": "stream",
     "text": [
      "<a class=\"sister\" href=\"http://example.com/elsie\" id=\"link1\">Elsie</a>\n"
     ]
    }
   ],
   "source": [
    "link1_tag = soup.find(id = 'link1')\n",
    "print(link1_tag)"
   ]
  },
  {
   "cell_type": "markdown",
   "metadata": {},
   "source": [
    "Task11_0618. 주어진 HTML 문서에서 모든 텍스트를 추출하세요."
   ]
  },
  {
   "cell_type": "code",
   "execution_count": 62,
   "metadata": {},
   "outputs": [
    {
     "name": "stdout",
     "output_type": "stream",
     "text": [
      "\n",
      "The Dormouse's story\n",
      "\n",
      "The Dormouse's story\n",
      "Elsie\n",
      "Lacie\n",
      "Tillie\n",
      "\n",
      "\n"
     ]
    }
   ],
   "source": [
    "all_text = soup.get_text()\n",
    "print(all_text)"
   ]
  },
  {
   "cell_type": "markdown",
   "metadata": {},
   "source": [
    "Task12_0618. 주어진 HTML 문서에서 href 속성이 http://example.com/lacie인 태그를 추출하세요."
   ]
  },
  {
   "cell_type": "code",
   "execution_count": 63,
   "metadata": {},
   "outputs": [
    {
     "name": "stdout",
     "output_type": "stream",
     "text": [
      "<a class=\"sister\" href=\"http://example.com/lacie\" id=\"link2\">Lacie</a>\n"
     ]
    }
   ],
   "source": [
    "lacie_tag = soup.find(href = 'http://example.com/lacie')\n",
    "print(lacie_tag)"
   ]
  },
  {
   "cell_type": "markdown",
   "metadata": {},
   "source": [
    "Task13_0618. 주어진 HTML 문서에서 ID가 link1인 태그의 부모 태그를 추출하세요."
   ]
  },
  {
   "cell_type": "code",
   "execution_count": 64,
   "metadata": {},
   "outputs": [
    {
     "name": "stdout",
     "output_type": "stream",
     "text": [
      "<body>\n",
      "<p class=\"title\"><b>The Dormouse's story</b></p>\n",
      "<a class=\"sister\" href=\"http://example.com/elsie\" id=\"link1\">Elsie</a>\n",
      "<a class=\"sister\" href=\"http://example.com/lacie\" id=\"link2\">Lacie</a>\n",
      "<a class=\"sister\" href=\"http://example.com/tillie\" id=\"link3\">Tillie</a>\n",
      "</body>\n"
     ]
    }
   ],
   "source": [
    "print(link1_tag.parent)"
   ]
  },
  {
   "cell_type": "markdown",
   "metadata": {},
   "source": [
    "Task14_0618. 주어진 HTML 문서에서 ID가 link1인 태그의 다음 형제 태그를 추출하세요."
   ]
  },
  {
   "cell_type": "code",
   "execution_count": 65,
   "metadata": {},
   "outputs": [
    {
     "name": "stdout",
     "output_type": "stream",
     "text": [
      "<a class=\"sister\" href=\"http://example.com/lacie\" id=\"link2\">Lacie</a>\n"
     ]
    }
   ],
   "source": [
    "print(link1_tag.find_next_sibling())"
   ]
  },
  {
   "cell_type": "code",
   "execution_count": 66,
   "metadata": {},
   "outputs": [
    {
     "name": "stdout",
     "output_type": "stream",
     "text": [
      "<p class=\"title\"><b>The Dormouse's story</b></p>\n"
     ]
    }
   ],
   "source": [
    "a_tag = soup.find('a')\n",
    "print(a_tag.find_previous_sibling())"
   ]
  },
  {
   "cell_type": "code",
   "execution_count": 67,
   "metadata": {},
   "outputs": [
    {
     "name": "stdout",
     "output_type": "stream",
     "text": [
      "<p> 태그의 부모 태그: body\n",
      "<a> 태그의 부모 태그: body\n",
      "<p>태그와 <a> 태그는 형제 태그인가요? 예\n"
     ]
    }
   ],
   "source": [
    "# <p> 태그와 <a> 태그의 부모 태그 확인\n",
    "\n",
    "p_tag = soup.find('p')\n",
    "a_tag = soup.find('a')\n",
    "\n",
    "parent_of_p = p_tag.parent.name\n",
    "parent_of_a = a_tag.parent.name\n",
    "\n",
    "# <p> 태그와 <a> 태그가 형제 태그인지 확인\n",
    "\n",
    "are_siblings = p_tag.find_next_sibling() == a_tag\n",
    "print(f\"<p> 태그의 부모 태그: {parent_of_p}\")\n",
    "print(f\"<a> 태그의 부모 태그: {parent_of_a}\")\n",
    "print(f\"<p>태그와 <a> 태그는 형제 태그인가요? {'예' if are_siblings else '아니오'}\")"
   ]
  },
  {
   "cell_type": "code",
   "execution_count": 68,
   "metadata": {},
   "outputs": [
    {
     "name": "stdout",
     "output_type": "stream",
     "text": [
      "<p class=\"title\"><b>The Dormouse's story</b></p>\n",
      "[<b>The Dormouse's story</b>]\n"
     ]
    }
   ],
   "source": [
    "# 자식 태그 확인\n",
    "p_tag = soup.find('p', class_ = 'title')\n",
    "print(p_tag)\n",
    "children_of_p = p_tag.findChildren()\n",
    "print(children_of_p)"
   ]
  },
  {
   "cell_type": "markdown",
   "metadata": {},
   "source": [
    "Task15_0618. 주어진 HTML 문서에서 ID가 link1인 태그의 href 속성 값을 추출하세요."
   ]
  },
  {
   "cell_type": "code",
   "execution_count": 69,
   "metadata": {},
   "outputs": [
    {
     "name": "stdout",
     "output_type": "stream",
     "text": [
      "http://example.com/elsie\n"
     ]
    }
   ],
   "source": [
    "print(link1_tag['href'])"
   ]
  },
  {
   "cell_type": "markdown",
   "metadata": {},
   "source": [
    "#### CSS 셀렉터\n",
    "\n",
    "CSS 셀렉터는 HTML 요소를 선택하기 위해 사용됩니다. 크롤링 시 특정 요소를 선택할 때 유용합니다. 예:\n",
    "```\n",
    "#id: 특정 id를 가진 요소를 선택합니다. 고유한 요소\n",
    ".class: 특정 클래스를 가진 요소를 선택합니다. \n",
    "tagname: 특정 태그명을 가진 요소를 선택합니다.\n",
    "```\n",
    "```\n",
    "[ CSS 셀렉터의 주요 유형과 그 사용법]\n",
    "\n",
    "1. 기본 셀렉터\n",
    "    요소 셀렉터\n",
    "    문법: element\n",
    "    설명: 지정된 태그 이름의 모든 HTML 요소를 선택합니다.\n",
    "    예시: p { color: blue; }는 모든 <p> 요소의 텍스트 색상을 파란색으로 설정합니다.\n",
    "    클래스 셀렉터\n",
    "    문법: .class\n",
    "    설명: 특정 클래스 이름을 가진 모든 요소를 선택합니다.\n",
    "    예시: .highlight { background-color: yellow; }는 클래스가 \"highlight\"인 모든 요소의 배경색을 노란색으로 설정합니다.\n",
    "    ID 셀렉터\n",
    "    문법: #id\n",
    "    설명: 특정 ID를 가진 요소를 선택합니다. HTML 문서에서 ID는 고유해야 합니다.\n",
    "    예시: #header { font-size: 24px; }는 ID가 \"header\"인 요소의 글꼴 크기를 24px로 설정합니다.\n",
    "\n",
    "2. 속성 셀렉터\n",
    "    속성 존재 셀렉터\n",
    "    문법: [attribute]\n",
    "    설명: 특정 속성이 있는 모든 요소를 선택합니다.\n",
    "    예시: [title] { border: 1px solid black; }는 \"title\" 속성이 있는 모든 요소에 테두리를 추가합니다.\n",
    "    특정 속성 값 셀렉터\n",
    "    문법: [attribute=value]\n",
    "    설명: 지정된 속성이 특정 값을 가진 모든 요소를 선택합니다.\n",
    "    예시: [type=\"text\"] { color: green; }는 type 속성이 \"text\"인 모든 입력 요소의 텍스트 색상을 초록색으로 설정합니다.\n",
    "\n",
    "3. 결합 셀렉터\n",
    "    자손 셀렉터\n",
    "    문법: ancestor descendant\n",
    "    설명: 특정 요소의 자손인 모든 요소를 선택합니다.\n",
    "    예시: div p { margin: 10px; }는 <div> 요소의 자손인 모든 <p> 요소에 10px의 마진을 설정합니다.\n",
    "    자식 셀렉터\n",
    "    문법: parent > child\n",
    "    설명: 특정 요소의 직계 자식인 모든 요소를 선택합니다.\n",
    "    예시: ul > li { list-style-type: none; }는 <ul> 요소의 직계 자식인 모든 <li> 요소의 리스트 스타일을 제거합니다.\n",
    "    인접 형제 셀렉터\n",
    "    문법: element + adjacent\n",
    "    설명: 특정 요소의 바로 다음 형제 요소를 선택합니다.\n",
    "    예시: h1 + p { margin-top: 0; }는 <h1> 요소 바로 다음에 오는 <p> 요소의 위쪽 마진을 제거합니다.\n",
    "    일반 형제 셀렉터\n",
    "    문법: element ~ siblings\n",
    "    설명: 특정 요소 이후의 모든 형제 요소를 선택합니다.\n",
    "    예시: h2 ~ p { color: grey; }는 <h2> 요소 이후의 모든 <p> 요소의 텍스트 색상을 회색으로 설정합니다.\n",
    "\n",
    "4. 가상 클래스 셀렉터\n",
    "    동적 가상 클래스 셀렉터\n",
    "    문법: :pseudo-class\n",
    "    설명: 요소의 특정 상태를 선택합니다.\n",
    "    예시: a:hover { color: red; }는 링크에 마우스를 올렸을 때 텍스트 색상을 빨간색으로 변경합니다.\n",
    "    구조적 가상 클래스 셀렉터\n",
    "    문법: :nth-child(n)\n",
    "    설명: 부모 요소의 자식 중 특정 위치에 있는 요소를 선택합니다.\n",
    "    예시: li:nth-child(odd) { background-color: #f2f2f2; }는 홀수 번째 <li> 요소의 배경색을 회색으로 설정합니다.\n",
    "\n",
    "5. 가상 요소 셀렉터\n",
    "    문법: ::pseudo-element\n",
    "    설명: 요소의 일부를 선택합니다.\n",
    "    예시: p::first-line { font-weight: bold; }는 단락의 첫 번째 줄을 굵게 만듭니다.\n",
    "\n",
    "6. 속성값 서브스트링 매칭 셀렉터\n",
    "    시작 문자열 매칭 셀렉터\n",
    "    문법: [attribute^=value]\n",
    "    설명: 특정 속성 값이 지정된 문자열로 시작하는 요소를 선택합니다.\n",
    "    예시: [class^=\"btn\"] { background-color: blue; }는 클래스 이름이 \"btn\"으로 시작하는 모든 요소의 배경색을 파란색으로 설정합니다.\n",
    "    끝 문자열 매칭 셀렉터\n",
    "    문법: [attribute$=value]\n",
    "    설명: 특정 속성 값이 지정된 문자열로 끝나는 요소를 선택합니다.\n",
    "    예시: [class$=\"danger\"] { color: red; }는 클래스 이름이 \"danger\"로 끝나는 모든 요소의 텍스트 색상을 빨간색으로 설정합니다.\n",
    "    포함 문자열 매칭 셀렉터\n",
    "    문법: [attribute*=value]\n",
    "    설명: 특정 속성 값이 지정된 문자열을 포함하는 요소를 선택합니다.\n",
    "    예시: [class*=\"nav\"] { font-size: 18px; }는 클래스 이름에 \"nav\"를 포함하는 모든 요소의 글꼴 크기를 18px로 설정합니다.\n",
    "\n",
    "```"
   ]
  },
  {
   "cell_type": "code",
   "execution_count": 70,
   "metadata": {},
   "outputs": [],
   "source": [
    "from bs4 import BeautifulSoup\n",
    "\n",
    "html_doc = \"\"\"\n",
    "<html>\n",
    "    <head>\n",
    "        <title>The Dormouse's story</title>\n",
    "    </head>\n",
    "    <body>\n",
    "        <p class=\"title\">\n",
    "            <b>The Dormouse's story</b>\n",
    "        </p>\n",
    "        <p class=\"story\">Once upon a time there were three little sisters; and their names were</p>\n",
    "        <p class=\"story\">...</p>\n",
    "    </body>\n",
    "</html>\n",
    "\"\"\""
   ]
  },
  {
   "cell_type": "code",
   "execution_count": 71,
   "metadata": {},
   "outputs": [],
   "source": [
    "soup = BeautifulSoup(html_doc, 'html.parser')"
   ]
  },
  {
   "cell_type": "code",
   "execution_count": 72,
   "metadata": {},
   "outputs": [
    {
     "name": "stdout",
     "output_type": "stream",
     "text": [
      "<p class=\"title\">\n",
      "<b>The Dormouse's story</b>\n",
      "</p>\n"
     ]
    }
   ],
   "source": [
    "# Q. 주어진 HTML 문서에서 첫번째 title 클래스를 가진 태그를 추출\n",
    "\n",
    "title_tag = soup.select_one('.title')\n",
    "print(title_tag)"
   ]
  },
  {
   "cell_type": "code",
   "execution_count": 73,
   "metadata": {},
   "outputs": [],
   "source": [
    "html_doc = \"\"\"\n",
    "<html><head><title>The Dormouse's story</title></head>\n",
    "<body>\n",
    "<p class=\"title\"><b>The Dormouse's story</b></p>\n",
    "<a href=\"http://example.com/elsie\" class=\"sister\" id=\"link1\">Elsie</a>\n",
    "<a href=\"http://example.com/lacie\" class=\"sister\" id=\"link2\">Lacie</a>\n",
    "<a href=\"http://example.com/tillie\" class=\"sister\" id=\"link3\">Tillie</a>\n",
    "</body></html>\n",
    "\"\"\""
   ]
  },
  {
   "cell_type": "code",
   "execution_count": 74,
   "metadata": {},
   "outputs": [
    {
     "name": "stdout",
     "output_type": "stream",
     "text": [
      "http://example.com/elsie\n",
      "http://example.com/lacie\n",
      "http://example.com/tillie\n"
     ]
    }
   ],
   "source": [
    "soup = BeautifulSoup(html_doc, 'html.parser')\n",
    "# a_tag = soup.find_all('a')\n",
    "a_tags = soup.select('.sister')\n",
    "for tag in a_tags:\n",
    "    print(tag['href'])"
   ]
  },
  {
   "cell_type": "code",
   "execution_count": 46,
   "metadata": {},
   "outputs": [
    {
     "name": "stdout",
     "output_type": "stream",
     "text": [
      "<a class=\"sister\" href=\"http://example.com/elsie\" id=\"link1\">Elsie</a>\n"
     ]
    }
   ],
   "source": [
    "# 주어진 HRML문서에서 ID가 link1인 태그를 추출\n",
    "\n",
    "link1_tag = soup.select_one('#link1')\n",
    "print(link1_tag)"
   ]
  },
  {
   "cell_type": "code",
   "execution_count": 76,
   "metadata": {},
   "outputs": [
    {
     "name": "stdout",
     "output_type": "stream",
     "text": [
      "<b>The Dormouse's story</b>\n"
     ]
    }
   ],
   "source": [
    "# 주어진 HTML 문서에서 <p>의 태그의 모든 자식태그를 추출\n",
    "\n",
    "p_tag =soup.select_one('p')\n",
    "children = p_tag.findChildren()\n",
    "for child in children:\n",
    "    print(child)"
   ]
  },
  {
   "cell_type": "code",
   "execution_count": 77,
   "metadata": {},
   "outputs": [
    {
     "name": "stdout",
     "output_type": "stream",
     "text": [
      "<body>\n",
      "<p class=\"title\"><b>The Dormouse's story</b></p>\n",
      "<a class=\"sister\" href=\"http://example.com/elsie\" id=\"link1\">Elsie</a>\n",
      "<a class=\"sister\" href=\"http://example.com/lacie\" id=\"link2\">Lacie</a>\n",
      "<a class=\"sister\" href=\"http://example.com/tillie\" id=\"link3\">Tillie</a>\n",
      "</body>\n"
     ]
    }
   ],
   "source": [
    "# 주어진 HTML 문서에서 ID가 link1인 태그의 부모태그를 추출\n",
    "\n",
    "link1_tag = soup.select_one('#link1')\n",
    "print(link1_tag.find_parent())"
   ]
  },
  {
   "cell_type": "code",
   "execution_count": 78,
   "metadata": {},
   "outputs": [
    {
     "name": "stdout",
     "output_type": "stream",
     "text": [
      "<a class=\"sister\" href=\"http://example.com/lacie\" id=\"link2\">Lacie</a>\n",
      "<p class=\"title\"><b>The Dormouse's story</b></p>\n"
     ]
    }
   ],
   "source": [
    "# 주어진 HTML 문서에서 ID가 link1인 태그의 다음 형제 태그를 추출\n",
    "\n",
    "link1_tag = soup.select_one('#link1')\n",
    "print(link1_tag.find_next_sibling())\n",
    "print(link1_tag.find_previous_sibling())\n"
   ]
  },
  {
   "cell_type": "markdown",
   "metadata": {},
   "source": [
    "#### XPath\n",
    "\n",
    "XPath는 XML 문서의 경로를 지정하기 위한 언어로, HTML 문서에서도 사용할 수 있습니다. 예:\n",
    "\n",
    "```\n",
    "//div[@id='main']: id가 'main'인 모든 <div> 요소를 선택합니다.\n",
    "//a/text():\n",
    "- //: 문서의 어디에서든 지정한 요소를 찾습니다. 즉, 루트 요소부터 시작해서 모든 자식 요소를 포함하여 탐색합니다.\n",
    "- a: 찾고자 하는 요소의 이름입니다. 여기서는 <a> 태그를 의미합니다.\n",
    "- /text(): 지정한 요소의 텍스트 노드를 선택합니다. <a> 태그 내부의 텍스트를 의미합니다.\n",
    "```"
   ]
  },
  {
   "cell_type": "code",
   "execution_count": 80,
   "metadata": {},
   "outputs": [],
   "source": [
    "from lxml import html\n",
    "\n",
    "html_doc = \"\"\"\n",
    "<html>\n",
    "  <head><title>The Dormouse's story</title></head>\n",
    "  <body>\n",
    "    <p class=\"title\"><b>The Dormouse's story</b></p>\n",
    "    <a href=\"http://example.com/elsie\" class=\"sister\" id=\"link1\">Elsie</a>\n",
    "    <a href=\"http://example.com/lacie\" class=\"sister\" id=\"link2\">Lacie</a>\n",
    "    <a href=\"http://example.com/tillie\" class=\"sister\" id=\"link3\">Tillie</a>\n",
    "  </body>\n",
    "</html>\n",
    "\"\"\""
   ]
  },
  {
   "cell_type": "code",
   "execution_count": 84,
   "metadata": {},
   "outputs": [
    {
     "name": "stdout",
     "output_type": "stream",
     "text": [
      "Elsie\n",
      "Lacie\n",
      "Tillie\n"
     ]
    }
   ],
   "source": [
    "tree = html.fromstring(html_doc) # HTML 문서를 XML 요소로 변환\n",
    "a_texts = tree.xpath('//a/text()')\n",
    "for text in a_texts:\n",
    "    print(text)"
   ]
  },
  {
   "cell_type": "code",
   "execution_count": 86,
   "metadata": {},
   "outputs": [
    {
     "name": "stdout",
     "output_type": "stream",
     "text": [
      "<a href=\"http://example.com/elsie\" class=\"sister\" id=\"link1\">Elsie</a>\n",
      "    \n"
     ]
    }
   ],
   "source": [
    "# 주어진 HTML 문서에서 ID가 link1인 태그를 추출\n",
    "\n",
    "link1_tag = tree.xpath('//*[@id=\"link1\"]')[0]\n",
    "print(html.tostring(link1_tag).decode('utf-8'))"
   ]
  },
  {
   "cell_type": "markdown",
   "metadata": {},
   "source": [
    "#### 웹페이지의 동적 로딩\n",
    "\n",
    "일부 웹페이지는 JavaScript를 통해 동적으로 콘텐츠를 로드합니다. 이러한 페이지는 단순히 HTML을 요청하는 것으로는 모든 콘텐츠를 얻을 수 없으며, Selenium과 같은 도구를 사용하여 JavaScript를 실행하는 것이 필요할 수 있습니다."
   ]
  },
  {
   "cell_type": "markdown",
   "metadata": {},
   "source": [
    "#### HTTP 요청과 응답\n",
    "\n",
    "웹 크롤링은 HTTP 프로토콜을 통해 웹페이지에 접근합니다. HTTP 요청과 응답의 기본 개념을 이해하는 것이 중요합니다.\n",
    "\n",
    "- HTTP 메서드 (GET, POST 등)\n",
    "- 상태 코드 (200, 404 등)"
   ]
  },
  {
   "cell_type": "markdown",
   "metadata": {},
   "source": [
    "#### 크롤링 도구와 라이브러리\n",
    "\n",
    "다양한 도구와 라이브러리가 크롤링을 도와줍니다.\n",
    "\n",
    "- BeautifulSoup: HTML과 XML 파일을 파싱하는 라이브러리입니다.\n",
    "- Requests: HTTP 요청을 보내기 위한 라이브러리입니다.\n",
    "- Selenium: 웹 브라우저를 자동화하고 동적 웹페이지를 크롤링하는 데 사용됩니다."
   ]
  },
  {
   "cell_type": "code",
   "execution_count": 87,
   "metadata": {},
   "outputs": [
    {
     "name": "stdout",
     "output_type": "stream",
     "text": [
      "200\n",
      "<div id=\"wrap\">\n",
      " <div id=\"header\" role=\"banner\">\n",
      "  <div class=\"header_inner\" id=\"topSearchWrap\">\n",
      "   <div class=\"search_special_bg\" id=\"special-logo\">\n",
      "   </div>\n",
      "   <div class=\"ad_area\" id=\"timeboard-ex\" style=\"min-width:1340px\">\n",
      "   </div>\n",
      "   <div class=\"search_area\" id=\"search_area\" style=\"border-color:#fff\">\n",
      "    <div class=\"search_group\">\n",
      "     <div class=\"search_group_inner\" id=\"search\">\n",
      "      <h1 class=\"search_logo\" id=\"special-input-logo\">\n",
      "      </h1>\n",
      "      <form action=\"https://search.naver.com/search.naver\" id=\"sform\" method=\"get\" name=\"search\" role=\"search\">\n",
      "       <fieldset>\n",
      "        <legend class=\"blind\">\n",
      "         검색\n",
      "        </legend>\n",
      "        <input name=\"where\" type=\"hidden\" value=\"nexearch\"/>\n",
      "        <input id=\"sm\" name=\"sm\" type=\"hidden\" value=\"top_hty\"/>\n",
      "        <input id=\"fbm\" name=\"fbm\" type=\"hidden\" value=\"0\"/>\n",
      "        <input disabled=\"disabled\" id=\"acr\" name=\"acr\" type=\"hidden\" value=\"\"/>\n",
      "        <input disabled=\"disabled\" id=\"acq\" name=\"acq\" type=\"hidden\" value=\"\"/>\n",
      "        <input disabled=\"disabled\" id=\"qdt\" name=\"qdt\" type=\"hidden\" value=\"\"/>\n",
      "        <input id=\"ie\" name=\"ie\" type=\"hidden\" value=\"utf8\"/>\n",
      "        <input disabled=\"disabled\" id=\"acir\" name=\"acir\" type=\"hidden\" value=\"\"/>\n",
      "        <input disabled=\"disabled\" id=\"os\" name=\"os\" type=\"hidden\" value=\"\"/>\n",
      "        <input disabled=\"disabled\" id=\"bid\" name=\"bid\" type=\"hidden\" value=\"\"/>\n",
      "        <input disabled=\"disabled\" id=\"pkid\" name=\"pkid\" type=\"hidden\" value=\"\"/>\n",
      "        <input disabled=\"disabled\" id=\"eid\" name=\"eid\" type=\"hidden\" value=\"\"/>\n",
      "        <input disabled=\"disabled\" id=\"mra\" name=\"mra\" type=\"hidden\" value=\"\"/>\n",
      "        <div class=\"search_input_box\">\n",
      "         <input autocomplete=\"off\" class=\"search_input\" data-atcmp-element=\"\" id=\"query\" maxlength=\"255\" name=\"query\" placeholder=\"검색어를 입력해 주세요.\" title=\"검색어를 입력해 주세요.\" type=\"search\"/>\n",
      "        </div>\n",
      "        <button class=\"btn_search\" onclick='window.nclk_v2(this,\"sch.action\")' type=\"submit\">\n",
      "         <span class=\"ico_btn_search_svg\">\n",
      "          <svg id=\"search-btn\" viewbox=\"0 0 50 50\" xmlns=\"http://www.w3.org/2000/svg\">\n",
      "           <path d=\"M22.13.5c11.378 0 20.632 9.256 20.632 20.63 0 4.699-1.566 9.155-4.439 12.782l10.164 10.165a2.41 2.41 0 0 1-1.706 4.115 2.412 2.412 0 0 1-1.706-.705L33.31 35.719a2.41 2.41 0 0 1 0-3.41 15.71 15.71 0 0 0 4.628-11.178c0-8.718-7.09-15.808-15.807-15.808-8.718 0-15.808 7.09-15.808 15.808 0 7.15 4.817 13.43 11.714 15.273a2.41 2.41 0 0 1 1.705 2.954 2.41 2.41 0 0 1-2.95 1.705C7.788 38.658 1.5 30.46 1.5 21.131 1.5 9.756 10.756.5 22.13.5zm4.716 34.746a3.483 3.483 0 1 1 0 6.966 3.483 3.483 0 0 1 0-6.966z\">\n",
      "           </path>\n",
      "          </svg>\n",
      "         </span>\n",
      "         <span class=\"blind\">\n",
      "          검색\n",
      "         </span>\n",
      "        </button>\n",
      "       </fieldset>\n",
      "      </form>\n",
      "      <div class=\"search_box\">\n",
      "       <button aria-pressed=\"false\" class=\"btn_keyboard\" id=\"ke_kbd_btn\" type=\"button\">\n",
      "        <span class=\"keybord_text\">\n",
      "         <span class=\"blind\">\n",
      "          입력도구\n",
      "         </span>\n",
      "        </span>\n",
      "       </button>\n",
      "       <div id=\"_nx_kbd\" style=\"display:none\">\n",
      "       </div>\n",
      "       <button class=\"btn_arrow\" data-atcmp-element=\"\" id=\"nautocomplete\" type=\"button\">\n",
      "        <span class=\"blind\">\n",
      "         자동완성/최근검색어펼치기\n",
      "        </span>\n",
      "       </button>\n",
      "      </div>\n",
      "      <div class=\"layer_atcmp\" id=\"autoFrame\" style=\"display:none\">\n",
      "       <div class=\"ly_atcmp\" data-atcmp-element=\"\">\n",
      "        <div class=\"api_atcmp_wrap\">\n",
      "         <div class=\"atcmp_fixer _recent_layer\" style=\"display:none\">\n",
      "          <div class=\"atcmp_header _recent_header\">\n",
      "           <strong class=\"tit\">\n",
      "            최근 검색어\n",
      "           </strong>\n",
      "           <div class=\"option\">\n",
      "            <a aria-pressed=\"false\" class=\"item _delAll\" href=\"#\" role=\"button\">\n",
      "             전체삭제\n",
      "            </a>\n",
      "           </div>\n",
      "          </div>\n",
      "          <div class=\"atcmp_container\">\n",
      "           <ul class=\"kwd_lst _recent\">\n",
      "           </ul>\n",
      "           <div class=\"kwd_info kwd_off _offMsg\" style=\"display:none\">\n",
      "            검색어 저장 기능이 꺼져 있습니다.\n",
      "            <br/>\n",
      "            <span class=\"kwd_dsc\">\n",
      "             설정이 초기화 된다면\n",
      "             <a class=\"kwd_help\" data-clk=\"sly.help\" href=\"https://help.naver.com/alias/search/word/word_35.naver\" target=\"_blank\">\n",
      "              도움말\n",
      "             </a>\n",
      "             을 확인해주세요.\n",
      "            </span>\n",
      "           </div>\n",
      "           <div class=\"kwd_info kwd_none _recentNone\" style=\"display:none\">\n",
      "            최근 검색어 내역이 없습니다.\n",
      "            <br/>\n",
      "            <span class=\"kwd_dsc\">\n",
      "             설정이 초기화 된다면\n",
      "             <a class=\"kwd_help\" data-clk=\"sly.help\" href=\"https://help.naver.com/alias/search/word/word_35.naver\" target=\"_blank\">\n",
      "              도움말\n",
      "             </a>\n",
      "             을 확인해주세요.\n",
      "            </span>\n",
      "           </div>\n",
      "          </div>\n",
      "          <div class=\"atcmp_footer\">\n",
      "           <span class=\"side_opt_area\">\n",
      "            <span class=\"opt_item\">\n",
      "             <a class=\"close _keywordOnOff\" href=\"#\">\n",
      "              자동저장 끄기\n",
      "             </a>\n",
      "            </span>\n",
      "            <span class=\"opt_item\">\n",
      "             <a data-clk=\"sly.help\" href=\"https://help.naver.com/alias/search/word/word_35.naver\" target=\"_blank\">\n",
      "              도움말\n",
      "             </a>\n",
      "            </span>\n",
      "           </span>\n",
      "           <span class=\"rside_opt_area\">\n",
      "            <span class=\"opt_item\">\n",
      "             <a class=\"close _close\" href=\"#\">\n",
      "              닫기\n",
      "             </a>\n",
      "            </span>\n",
      "           </span>\n",
      "          </div>\n",
      "         </div>\n",
      "         <div class=\"atcmp_fixer _atcmp_layer\" style=\"display:none\">\n",
      "          <div class=\"atcmp_container _words\">\n",
      "           <div class=\"atcmp_cue type_line _cue_root\">\n",
      "            <div class=\"cue_header\">\n",
      "             <i class=\"imgsvg ico_cue\">\n",
      "              CUE\n",
      "             </i>\n",
      "             대화하듯 질문해 보세요\n",
      "             <a aria-pressed=\"false\" class=\"btn_help _tg_btn\" href=\"#\" role=\"button\">\n",
      "              <i class=\"imgsvg ico_alert\">\n",
      "               이 정보가 표시된 이유\n",
      "              </i>\n",
      "             </a>\n",
      "             <div class=\"layer_plus\">\n",
      "              <p class=\"dsc\">\n",
      "               검색어와 포함된 키워드를 기반으로 AI 기술을 활용하여 연관된 추천 질문을 제공합니다.\n",
      "              </p>\n",
      "              <a class=\"btn_close _tg_btn\" href=\"#\" role=\"button\">\n",
      "               <i class=\"imgsvg ico_close\">\n",
      "                레이어 닫기\n",
      "               </i>\n",
      "              </a>\n",
      "             </div>\n",
      "            </div>\n",
      "            <div class=\"atcmp_pcpg_wrap cue_list\">\n",
      "             <ul class=\"atcmp_flicking_wrap _ul\">\n",
      "             </ul>\n",
      "             <div class=\"atcmp_btn_page\">\n",
      "              <div class=\"btn_prev _prev\">\n",
      "               <a class=\"btn\" href=\"#\" role=\"button\">\n",
      "                <i class=\"imgsvg ico_arr\">\n",
      "                 이전\n",
      "                </i>\n",
      "               </a>\n",
      "              </div>\n",
      "              <div class=\"btn_next _next\">\n",
      "               <a class=\"btn\" href=\"#\" role=\"button\">\n",
      "                <i class=\"imgsvg ico_arr\">\n",
      "                 다음\n",
      "                </i>\n",
      "               </a>\n",
      "              </div>\n",
      "             </div>\n",
      "            </div>\n",
      "           </div>\n",
      "           <ul class=\"kwd_lst _kwd_list\">\n",
      "           </ul>\n",
      "           <div class=\"atcmp_alert _alert\">\n",
      "            <div class=\"dsc_election\">\n",
      "             <p class=\"dsc\">\n",
      "              <i class=\"imgsvg ico_election\">\n",
      "              </i>\n",
      "              <span class=\"_alert_passage\">\n",
      "              </span>\n",
      "             </p>\n",
      "             <span class=\"dsc_inner\">\n",
      "              <span class=\"_alert_passage2\">\n",
      "              </span>\n",
      "              <a class=\"link _alert_link\" href=\"#\" target=\"_blank\">\n",
      "               자세히보기\n",
      "              </a>\n",
      "             </span>\n",
      "            </div>\n",
      "           </div>\n",
      "           <div class=\"atcmp_plus _plus\">\n",
      "            <div class=\"dsc_plus\">\n",
      "             <a class=\"link_dsc\" data-clk=\"sug.cxhelp\" href=\"https://help.naver.com/alias/search/word/word_16.naver\" target=\"_blank\">\n",
      "              관심사를 반영한 컨텍스트 자동완성\n",
      "              <i class=\"imgsvg ico_help\">\n",
      "               도움말\n",
      "              </i>\n",
      "             </a>\n",
      "            </div>\n",
      "            <div class=\"switch\">\n",
      "             <a aria-pressed=\"false\" class=\"bt_switch active _plus_btn\" href=\"#\" role=\"button\">\n",
      "              <i class=\"imgsvg ico_option\">\n",
      "               컨텍스트 자동완성\n",
      "              </i>\n",
      "             </a>\n",
      "            </div>\n",
      "            <div class=\"layer_plus _plus_layer\">\n",
      "             <strong class=\"tit\">\n",
      "              컨텍스트 자동완성\n",
      "             </strong>\n",
      "             <div class=\"_plus_layer_isloggedin\" style=\"display:none\">\n",
      "              <p class=\"dsc\">\n",
      "               ON/OFF 설정은 해당기기(브라우저)에 저장됩니다.\n",
      "              </p>\n",
      "              <div class=\"btn_area\">\n",
      "               <a class=\"link_view\" data-clk=\"sug.cxlink\" href=\"https://help.naver.com/alias/search/word/word_16.naver\" target=\"_blank\">\n",
      "                자세히 보기\n",
      "               </a>\n",
      "              </div>\n",
      "             </div>\n",
      "             <div class=\"_plus_layer_isnotloggedin\" style=\"display:none\">\n",
      "              <p class=\"dsc\">\n",
      "               동일한 시간대・연령대・남녀별 사용자 그룹의 관심사에 맞춰 자동완성을 제공합니다.\n",
      "               <a class=\"link_view\" data-clk=\"sug.cxlink\" href=\"https://help.naver.com/support/alias/search/word/word_16.naver\" target=\"_blank\">\n",
      "                자세히 보기\n",
      "               </a>\n",
      "              </p>\n",
      "              <div class=\"btn_area\">\n",
      "               <a class=\"btn btn_login\" data-clk=\"sug.cxlogin\" href=\"https://nid.naver.com/nidlogin.login\">\n",
      "                <i class=\"imgsvg ico_naver\">\n",
      "                 네이버\n",
      "                </i>\n",
      "                로그인\n",
      "               </a>\n",
      "              </div>\n",
      "             </div>\n",
      "             <a class=\"btn_close _plus_layer_close\" href=\"#\" role=\"button\">\n",
      "              <i class=\"imgsvg ico_close\">\n",
      "               컨텍스트 자동완성 레이어 닫기\n",
      "              </i>\n",
      "             </a>\n",
      "            </div>\n",
      "           </div>\n",
      "          </div>\n",
      "          <div class=\"atcmp_footer\">\n",
      "           <span class=\"side_opt_area\">\n",
      "            <span class=\"opt_item\">\n",
      "             <a class=\"close _suggestOnOff\" href=\"#\">\n",
      "              자동완성 끄기\n",
      "             </a>\n",
      "            </span>\n",
      "            <span class=\"opt_item\">\n",
      "             <a data-clk=\"sug.help\" href=\"https://help.naver.com/alias/search/word/word_17.naver\" target=\"_blank\">\n",
      "              도움말\n",
      "             </a>\n",
      "            </span>\n",
      "            <span class=\"opt_item\">\n",
      "             <a class=\"report\" data-clk=\"sug.report\" href=\"https://help.naver.com/alias/search/word/word_18.naver\" target=\"_blank\">\n",
      "              신고\n",
      "             </a>\n",
      "            </span>\n",
      "           </span>\n",
      "           <span class=\"rside_opt_area\">\n",
      "            <span class=\"opt_item\">\n",
      "             <a class=\"close _close\" href=\"#\">\n",
      "              닫기\n",
      "             </a>\n",
      "            </span>\n",
      "           </span>\n",
      "          </div>\n",
      "         </div>\n",
      "        </div>\n",
      "       </div>\n",
      "      </div>\n",
      "     </div>\n",
      "    </div>\n",
      "   </div>\n",
      "   <div id=\"search-right-first\">\n",
      "   </div>\n",
      "   <div id=\"search-right-second\">\n",
      "   </div>\n",
      "   <div aria-label=\"주요 서비스\" class=\"shortcut_area\" id=\"shortcutArea\" role=\"navigation\">\n",
      "   </div>\n",
      "   <div class=\"menu_area\" id=\"topAsideArea\">\n",
      "   </div>\n",
      "   <div class=\"pay_area\" id=\"topPayArea\">\n",
      "   </div>\n",
      "   <div class=\"talk_area\" id=\"topTalkArea\">\n",
      "   </div>\n",
      "   <div class=\"notify_area\" id=\"topNotiArea\">\n",
      "   </div>\n",
      "   <div class=\"shopping_area\" id=\"topShoppingArea\">\n",
      "   </div>\n",
      "  </div>\n",
      " </div>\n",
      " <div id=\"container\" role=\"main\">\n",
      "  <div id=\"root\">\n",
      "  </div>\n",
      " </div>\n",
      " <div id=\"footer\" role=\"contentinfo\">\n",
      " </div>\n",
      "</div>\n",
      "\n"
     ]
    }
   ],
   "source": [
    "import requests\n",
    "from bs4 import BeautifulSoup\n",
    "\n",
    "url = 'https://www.naver.com/'\n",
    "response = requests.get(url)\n",
    "print(response.status_code)\n",
    "\n",
    "soup = BeautifulSoup(response.text, 'html.parser')\n",
    "\n",
    "# ID를 사용하여 'wrap' 영역 크롤링\n",
    "\n",
    "wrap = soup.find(id = 'wrap')\n",
    "print(wrap.prettify())"
   ]
  },
  {
   "cell_type": "code",
   "execution_count": 104,
   "metadata": {},
   "outputs": [
    {
     "name": "stdout",
     "output_type": "stream",
     "text": [
      "상단영역 바로가기 #topAsideButton\n",
      "서비스 메뉴 바로가기 #shortcutArea\n",
      "새소식 블록 바로가기 #newsstand\n",
      "쇼핑 블록 바로가기 #shopping\n",
      "관심사 블록 바로가기 #feed\n",
      "MY 영역 바로가기 #account\n",
      "위젯 보드 바로가기 #widgetboard\n",
      "보기 설정 바로가기 #viewSetting\n",
      "전체삭제 #\n",
      "도움말 https://help.naver.com/alias/search/word/word_35.naver\n",
      "도움말 https://help.naver.com/alias/search/word/word_35.naver\n",
      "자동저장 끄기 #\n",
      "도움말 https://help.naver.com/alias/search/word/word_35.naver\n",
      "닫기 #\n",
      "이 정보가 표시된 이유 #\n",
      "레이어 닫기 #\n",
      "이전 #\n",
      "다음 #\n",
      "자세히보기 #\n",
      "관심사를 반영한 컨텍스트 자동완성도움말 https://help.naver.com/alias/search/word/word_16.naver\n",
      "컨텍스트 자동완성 #\n",
      "자세히 보기 https://help.naver.com/alias/search/word/word_16.naver\n",
      "자세히 보기 https://help.naver.com/support/alias/search/word/word_16.naver\n",
      "네이버로그인 https://nid.naver.com/nidlogin.login\n",
      "컨텍스트 자동완성 레이어 닫기 #\n",
      "자동완성 끄기 #\n",
      "도움말 https://help.naver.com/alias/search/word/word_17.naver\n",
      "신고 https://help.naver.com/alias/search/word/word_18.naver\n",
      "닫기 #\n"
     ]
    }
   ],
   "source": [
    "links = soup.find_all('a')\n",
    "for link in links:\n",
    "    print(link.text, link.get('href'))"
   ]
  },
  {
   "cell_type": "code",
   "execution_count": 110,
   "metadata": {},
   "outputs": [
    {
     "name": "stdout",
     "output_type": "stream",
     "text": [
      "<div class=\"search_area\" id=\"search_area\" style=\"border-color:#fff\">\n",
      " <div class=\"search_group\">\n",
      "  <div class=\"search_group_inner\" id=\"search\">\n",
      "   <h1 class=\"search_logo\" id=\"special-input-logo\">\n",
      "   </h1>\n",
      "   <form action=\"https://search.naver.com/search.naver\" id=\"sform\" method=\"get\" name=\"search\" role=\"search\">\n",
      "    <fieldset>\n",
      "     <legend class=\"blind\">\n",
      "      검색\n",
      "     </legend>\n",
      "     <input name=\"where\" type=\"hidden\" value=\"nexearch\"/>\n",
      "     <input id=\"sm\" name=\"sm\" type=\"hidden\" value=\"top_hty\"/>\n",
      "     <input id=\"fbm\" name=\"fbm\" type=\"hidden\" value=\"0\"/>\n",
      "     <input disabled=\"disabled\" id=\"acr\" name=\"acr\" type=\"hidden\" value=\"\"/>\n",
      "     <input disabled=\"disabled\" id=\"acq\" name=\"acq\" type=\"hidden\" value=\"\"/>\n",
      "     <input disabled=\"disabled\" id=\"qdt\" name=\"qdt\" type=\"hidden\" value=\"\"/>\n",
      "     <input id=\"ie\" name=\"ie\" type=\"hidden\" value=\"utf8\"/>\n",
      "     <input disabled=\"disabled\" id=\"acir\" name=\"acir\" type=\"hidden\" value=\"\"/>\n",
      "     <input disabled=\"disabled\" id=\"os\" name=\"os\" type=\"hidden\" value=\"\"/>\n",
      "     <input disabled=\"disabled\" id=\"bid\" name=\"bid\" type=\"hidden\" value=\"\"/>\n",
      "     <input disabled=\"disabled\" id=\"pkid\" name=\"pkid\" type=\"hidden\" value=\"\"/>\n",
      "     <input disabled=\"disabled\" id=\"eid\" name=\"eid\" type=\"hidden\" value=\"\"/>\n",
      "     <input disabled=\"disabled\" id=\"mra\" name=\"mra\" type=\"hidden\" value=\"\"/>\n",
      "     <div class=\"search_input_box\">\n",
      "      <input autocomplete=\"off\" class=\"search_input\" data-atcmp-element=\"\" id=\"query\" maxlength=\"255\" name=\"query\" placeholder=\"검색어를 입력해 주세요.\" title=\"검색어를 입력해 주세요.\" type=\"search\"/>\n",
      "     </div>\n",
      "     <button class=\"btn_search\" onclick='window.nclk_v2(this,\"sch.action\")' type=\"submit\">\n",
      "      <span class=\"ico_btn_search_svg\">\n",
      "       <svg id=\"search-btn\" viewbox=\"0 0 50 50\" xmlns=\"http://www.w3.org/2000/svg\">\n",
      "        <path d=\"M22.13.5c11.378 0 20.632 9.256 20.632 20.63 0 4.699-1.566 9.155-4.439 12.782l10.164 10.165a2.41 2.41 0 0 1-1.706 4.115 2.412 2.412 0 0 1-1.706-.705L33.31 35.719a2.41 2.41 0 0 1 0-3.41 15.71 15.71 0 0 0 4.628-11.178c0-8.718-7.09-15.808-15.807-15.808-8.718 0-15.808 7.09-15.808 15.808 0 7.15 4.817 13.43 11.714 15.273a2.41 2.41 0 0 1 1.705 2.954 2.41 2.41 0 0 1-2.95 1.705C7.788 38.658 1.5 30.46 1.5 21.131 1.5 9.756 10.756.5 22.13.5zm4.716 34.746a3.483 3.483 0 1 1 0 6.966 3.483 3.483 0 0 1 0-6.966z\">\n",
      "        </path>\n",
      "       </svg>\n",
      "      </span>\n",
      "      <span class=\"blind\">\n",
      "       검색\n",
      "      </span>\n",
      "     </button>\n",
      "    </fieldset>\n",
      "   </form>\n",
      "   <div class=\"search_box\">\n",
      "    <button aria-pressed=\"false\" class=\"btn_keyboard\" id=\"ke_kbd_btn\" type=\"button\">\n",
      "     <span class=\"keybord_text\">\n",
      "      <span class=\"blind\">\n",
      "       입력도구\n",
      "      </span>\n",
      "     </span>\n",
      "    </button>\n",
      "    <div id=\"_nx_kbd\" style=\"display:none\">\n",
      "    </div>\n",
      "    <button class=\"btn_arrow\" data-atcmp-element=\"\" id=\"nautocomplete\" type=\"button\">\n",
      "     <span class=\"blind\">\n",
      "      자동완성/최근검색어펼치기\n",
      "     </span>\n",
      "    </button>\n",
      "   </div>\n",
      "   <div class=\"layer_atcmp\" id=\"autoFrame\" style=\"display:none\">\n",
      "    <div class=\"ly_atcmp\" data-atcmp-element=\"\">\n",
      "     <div class=\"api_atcmp_wrap\">\n",
      "      <div class=\"atcmp_fixer _recent_layer\" style=\"display:none\">\n",
      "       <div class=\"atcmp_header _recent_header\">\n",
      "        <strong class=\"tit\">\n",
      "         최근 검색어\n",
      "        </strong>\n",
      "        <div class=\"option\">\n",
      "         <a aria-pressed=\"false\" class=\"item _delAll\" href=\"#\" role=\"button\">\n",
      "          전체삭제\n",
      "         </a>\n",
      "        </div>\n",
      "       </div>\n",
      "       <div class=\"atcmp_container\">\n",
      "        <ul class=\"kwd_lst _recent\">\n",
      "        </ul>\n",
      "        <div class=\"kwd_info kwd_off _offMsg\" style=\"display:none\">\n",
      "         검색어 저장 기능이 꺼져 있습니다.\n",
      "         <br/>\n",
      "         <span class=\"kwd_dsc\">\n",
      "          설정이 초기화 된다면\n",
      "          <a class=\"kwd_help\" data-clk=\"sly.help\" href=\"https://help.naver.com/alias/search/word/word_35.naver\" target=\"_blank\">\n",
      "           도움말\n",
      "          </a>\n",
      "          을 확인해주세요.\n",
      "         </span>\n",
      "        </div>\n",
      "        <div class=\"kwd_info kwd_none _recentNone\" style=\"display:none\">\n",
      "         최근 검색어 내역이 없습니다.\n",
      "         <br/>\n",
      "         <span class=\"kwd_dsc\">\n",
      "          설정이 초기화 된다면\n",
      "          <a class=\"kwd_help\" data-clk=\"sly.help\" href=\"https://help.naver.com/alias/search/word/word_35.naver\" target=\"_blank\">\n",
      "           도움말\n",
      "          </a>\n",
      "          을 확인해주세요.\n",
      "         </span>\n",
      "        </div>\n",
      "       </div>\n",
      "       <div class=\"atcmp_footer\">\n",
      "        <span class=\"side_opt_area\">\n",
      "         <span class=\"opt_item\">\n",
      "          <a class=\"close _keywordOnOff\" href=\"#\">\n",
      "           자동저장 끄기\n",
      "          </a>\n",
      "         </span>\n",
      "         <span class=\"opt_item\">\n",
      "          <a data-clk=\"sly.help\" href=\"https://help.naver.com/alias/search/word/word_35.naver\" target=\"_blank\">\n",
      "           도움말\n",
      "          </a>\n",
      "         </span>\n",
      "        </span>\n",
      "        <span class=\"rside_opt_area\">\n",
      "         <span class=\"opt_item\">\n",
      "          <a class=\"close _close\" href=\"#\">\n",
      "           닫기\n",
      "          </a>\n",
      "         </span>\n",
      "        </span>\n",
      "       </div>\n",
      "      </div>\n",
      "      <div class=\"atcmp_fixer _atcmp_layer\" style=\"display:none\">\n",
      "       <div class=\"atcmp_container _words\">\n",
      "        <div class=\"atcmp_cue type_line _cue_root\">\n",
      "         <div class=\"cue_header\">\n",
      "          <i class=\"imgsvg ico_cue\">\n",
      "           CUE\n",
      "          </i>\n",
      "          대화하듯 질문해 보세요\n",
      "          <a aria-pressed=\"false\" class=\"btn_help _tg_btn\" href=\"#\" role=\"button\">\n",
      "           <i class=\"imgsvg ico_alert\">\n",
      "            이 정보가 표시된 이유\n",
      "           </i>\n",
      "          </a>\n",
      "          <div class=\"layer_plus\">\n",
      "           <p class=\"dsc\">\n",
      "            검색어와 포함된 키워드를 기반으로 AI 기술을 활용하여 연관된 추천 질문을 제공합니다.\n",
      "           </p>\n",
      "           <a class=\"btn_close _tg_btn\" href=\"#\" role=\"button\">\n",
      "            <i class=\"imgsvg ico_close\">\n",
      "             레이어 닫기\n",
      "            </i>\n",
      "           </a>\n",
      "          </div>\n",
      "         </div>\n",
      "         <div class=\"atcmp_pcpg_wrap cue_list\">\n",
      "          <ul class=\"atcmp_flicking_wrap _ul\">\n",
      "          </ul>\n",
      "          <div class=\"atcmp_btn_page\">\n",
      "           <div class=\"btn_prev _prev\">\n",
      "            <a class=\"btn\" href=\"#\" role=\"button\">\n",
      "             <i class=\"imgsvg ico_arr\">\n",
      "              이전\n",
      "             </i>\n",
      "            </a>\n",
      "           </div>\n",
      "           <div class=\"btn_next _next\">\n",
      "            <a class=\"btn\" href=\"#\" role=\"button\">\n",
      "             <i class=\"imgsvg ico_arr\">\n",
      "              다음\n",
      "             </i>\n",
      "            </a>\n",
      "           </div>\n",
      "          </div>\n",
      "         </div>\n",
      "        </div>\n",
      "        <ul class=\"kwd_lst _kwd_list\">\n",
      "        </ul>\n",
      "        <div class=\"atcmp_alert _alert\">\n",
      "         <div class=\"dsc_election\">\n",
      "          <p class=\"dsc\">\n",
      "           <i class=\"imgsvg ico_election\">\n",
      "           </i>\n",
      "           <span class=\"_alert_passage\">\n",
      "           </span>\n",
      "          </p>\n",
      "          <span class=\"dsc_inner\">\n",
      "           <span class=\"_alert_passage2\">\n",
      "           </span>\n",
      "           <a class=\"link _alert_link\" href=\"#\" target=\"_blank\">\n",
      "            자세히보기\n",
      "           </a>\n",
      "          </span>\n",
      "         </div>\n",
      "        </div>\n",
      "        <div class=\"atcmp_plus _plus\">\n",
      "         <div class=\"dsc_plus\">\n",
      "          <a class=\"link_dsc\" data-clk=\"sug.cxhelp\" href=\"https://help.naver.com/alias/search/word/word_16.naver\" target=\"_blank\">\n",
      "           관심사를 반영한 컨텍스트 자동완성\n",
      "           <i class=\"imgsvg ico_help\">\n",
      "            도움말\n",
      "           </i>\n",
      "          </a>\n",
      "         </div>\n",
      "         <div class=\"switch\">\n",
      "          <a aria-pressed=\"false\" class=\"bt_switch active _plus_btn\" href=\"#\" role=\"button\">\n",
      "           <i class=\"imgsvg ico_option\">\n",
      "            컨텍스트 자동완성\n",
      "           </i>\n",
      "          </a>\n",
      "         </div>\n",
      "         <div class=\"layer_plus _plus_layer\">\n",
      "          <strong class=\"tit\">\n",
      "           컨텍스트 자동완성\n",
      "          </strong>\n",
      "          <div class=\"_plus_layer_isloggedin\" style=\"display:none\">\n",
      "           <p class=\"dsc\">\n",
      "            ON/OFF 설정은 해당기기(브라우저)에 저장됩니다.\n",
      "           </p>\n",
      "           <div class=\"btn_area\">\n",
      "            <a class=\"link_view\" data-clk=\"sug.cxlink\" href=\"https://help.naver.com/alias/search/word/word_16.naver\" target=\"_blank\">\n",
      "             자세히 보기\n",
      "            </a>\n",
      "           </div>\n",
      "          </div>\n",
      "          <div class=\"_plus_layer_isnotloggedin\" style=\"display:none\">\n",
      "           <p class=\"dsc\">\n",
      "            동일한 시간대・연령대・남녀별 사용자 그룹의 관심사에 맞춰 자동완성을 제공합니다.\n",
      "            <a class=\"link_view\" data-clk=\"sug.cxlink\" href=\"https://help.naver.com/support/alias/search/word/word_16.naver\" target=\"_blank\">\n",
      "             자세히 보기\n",
      "            </a>\n",
      "           </p>\n",
      "           <div class=\"btn_area\">\n",
      "            <a class=\"btn btn_login\" data-clk=\"sug.cxlogin\" href=\"https://nid.naver.com/nidlogin.login\">\n",
      "             <i class=\"imgsvg ico_naver\">\n",
      "              네이버\n",
      "             </i>\n",
      "             로그인\n",
      "            </a>\n",
      "           </div>\n",
      "          </div>\n",
      "          <a class=\"btn_close _plus_layer_close\" href=\"#\" role=\"button\">\n",
      "           <i class=\"imgsvg ico_close\">\n",
      "            컨텍스트 자동완성 레이어 닫기\n",
      "           </i>\n",
      "          </a>\n",
      "         </div>\n",
      "        </div>\n",
      "       </div>\n",
      "       <div class=\"atcmp_footer\">\n",
      "        <span class=\"side_opt_area\">\n",
      "         <span class=\"opt_item\">\n",
      "          <a class=\"close _suggestOnOff\" href=\"#\">\n",
      "           자동완성 끄기\n",
      "          </a>\n",
      "         </span>\n",
      "         <span class=\"opt_item\">\n",
      "          <a data-clk=\"sug.help\" href=\"https://help.naver.com/alias/search/word/word_17.naver\" target=\"_blank\">\n",
      "           도움말\n",
      "          </a>\n",
      "         </span>\n",
      "         <span class=\"opt_item\">\n",
      "          <a class=\"report\" data-clk=\"sug.report\" href=\"https://help.naver.com/alias/search/word/word_18.naver\" target=\"_blank\">\n",
      "           신고\n",
      "          </a>\n",
      "         </span>\n",
      "        </span>\n",
      "        <span class=\"rside_opt_area\">\n",
      "         <span class=\"opt_item\">\n",
      "          <a class=\"close _close\" href=\"#\">\n",
      "           닫기\n",
      "          </a>\n",
      "         </span>\n",
      "        </span>\n",
      "       </div>\n",
      "      </div>\n",
      "     </div>\n",
      "    </div>\n",
      "   </div>\n",
      "  </div>\n",
      " </div>\n",
      "</div>\n",
      "\n"
     ]
    }
   ],
   "source": [
    "# 클래스 이름을 사용하여 검색 영역 크롤링\n",
    "search_area = soup.find(class_ = 'search_area')\n",
    "print(search_area.prettify())"
   ]
  },
  {
   "cell_type": "code",
   "execution_count": 115,
   "metadata": {},
   "outputs": [
    {
     "name": "stdout",
     "output_type": "stream",
     "text": [
      "<script>window.gladsdk=window.gladsdk||{},window.gladsdk.cmd=window.gladsdk.cmd||[],window.ndpsdk=window.ndpsdk||{},window.ndpsdk.cmd=window.ndpsdk.cmd||[],window.ndpsdk.polyfill=window.ndpsdk.polyfill||{cmd:[]};var g_ssc=\"navertop.v5\";window.nsc=g_ssc,window.nmain=window.nmain||{},window.nmain.jsOrigin=\"www\"</script>\n",
      "<script async=\"\" src=\"https://ssl.pstatic.net/tveta/libs/ndpsdk/prod/ndp-loader.js\"></script>\n",
      "<script async=\"\" src=\"https://ssl.pstatic.net/tveta/libs/glad/prod/gfp-core.js\"></script>\n",
      "<script defer=\"defer\" src=\"https://ssl.pstatic.net/tveta/libs/assets/js/pc/main/min/pc.veta.core.min.js\"></script>\n",
      "<script>\n",
      "window[\"EAGER-DATA\"] = window[\"EAGER-DATA\"] || {};\n",
      "window[\"EAGER-DATA\"][\"PC-FEED-WRAPPER\"] = {\"@type\":\"BLOCK\",\"blocks\":[{\"@type\":\"BLOCK\",\"blocks\":[{\"@type\":\"BLOCK\",\"blocks\":[{\"@type\":\"PC-CAS-EDIT-CONTENTS-BLOCK\",\"blocks\":null,\"materials\":[{\"@type\":\"MATERIAL-PC-FEED-EDIT\",\"title\":\"고구마 롤 맛탕\",\"url\":\"https://blog.naver.com/mmmbap/223476364649\",\"image\":{\"url\":\"https://s.pstatic.net/static/www/mobile/edit/20240618_1095/upload_1718702325346SWP5S.jpg\"},\"highlight\":\"레시피 집중탐구\",\"desc\":\"세지 않은 불로 노릇하게 튀겨\",\"desc2\":\"설탕시럽에 빠르게 버무리면 끝!\",\"_id\":\"654ad80598c6dbca70ba6ce7\"},{\"@type\":\"MATERIAL-PC-FEED-EDIT\",\"title\":\"당신은 어떤 커피 취향을 가졌나요?\",\"url\":\"https://post.naver.com/viewer/postView.naver?volumeNo=37973131&memberNo=49067361\",\"image\":{\"url\":\"https://s.pstatic.net/static/www/mobile/edit/20240617_1095/upload_1718611988255YspjX.jpg\"},\"highlight\":\"푸드스토리\",\"desc\":\"커피를 사랑하는 마음 가득\",\"desc2\":\"취향 따라 즐기는 커피 트레일\",\"_id\":\"654ad80598c6dbca70ba6ce8\"},{\"@type\":\"MATERIAL-PC-FEED-EDIT\",\"title\":\"시원한 맛 폭발! 여름 밥상 얼갈이 열무김치\",\"url\":\"https://tv.naver.com/v/52214337\",\"image\":{\"url\":\"https://s.pstatic.net/static/www/mobile/edit/20240617_1095/upload_1718611995394TA4C4.jpg\"},\"highlight\":\"오늘의 푸드TV\",\"desc\":\"열을 내려주는 열무 & 얼갈이\",\"desc2\":\"어울리는 양념까지 제대로\",\"video\":{\"playTime\":\"08:01\"},\"_id\":\"654ad80598c6dbca70ba6ce9\"}],\"excludeInPaging\":false,\"positionForPaging\":0,\"realtime\":false,\"layout\":\"BIG-IMAGE-3\",\"orderRandom\":false,\"_id\":null,\"@type\":\"PC-CAS-EDIT-CONTENTS-BLOCK\",\"@code\":null,\"@template\":\"NONE\",\"@flowId\":null,\"@flowExecutionId\":null,\"@provider\":null,\"@lastModifiedAt\":null}],\"materials\":null,\"excludeInPaging\":false,\"positionForPaging\":0,\"realtime\":false,\"_id\":null,\"@type\":\"BLOCK\",\"@code\":\"PC-FEED-RECIPE-CAS-EDIT\",\"@template\":\"PC-FEED-CAS-EDIT\",\"@flowId\":null,\"@flowExecutionId\":null,\"@provider\":null,\"@lastModifiedAt\":null},{\"@type\":\"PC-FEED-BLOCK\",\"materials\":[{\"@type\":\"MATERIAL-PC-FEED\",\"title\":\"막걸리안주 추천 : 두부김치 만드는법 두부 김치볶음\",\"url\":\"https://in.naver.com/recipebook/contents/internal/705025333312864\",\"image\":{\"url\":\"https://s.pstatic.net/dthumb.phinf/?src=%22http%3A%2F%2Fblogfiles.naver.net%2FMjAyNDA2MTVfMjg5%2FMDAxNzE4NDIxMzk1NTk2.f9TjvzyW_MkFVn6QgF1JxZ_39FNK-CiqIJZTNAjPUbIg.o4zc5ieMZBuIcT6qllXs9tRXOsSodBQRAPcCiSWSDLkg.JPEG%2F%EB%91%90%EB%B6%80%EA%B9%80%EC%B9%98.jpg%22&type=nf308_200&service=navermain\"},\"source\":{\"url\":\"https://blog.naver.com/be2141st\",\"name\":\"초록스토리\",\"image\":{\"url\":\"https://s.pstatic.net/dthumb.phinf/?src=%22http%3A%2F%2Fblogpfthumb.phinf.naver.net%2FMjAxODA2MjhfMTAx%2FMDAxNTMwMTcxMjQyNzE2.b_8YylY9vSomtNPBwleEGNXAbcScP-jwOu5GUQw6ZHwg.MPVaz9zPGFRUDqOp5f745IQ1JVrHFtMxmKttvhExdXgg.PNG.be2141st%2F%25B9%25E8%25B3%25CA%25C0%25CC%25B9%25CC%25C1%25F6_%25C1%25A4%25BB%25E7%25B0%25A2%25C7%25FC.png%22&type=nf40_40&service=navermain\"}},\"showLiveBadge\":false,\"_id\":\"6441ca92c499cc07f334c56a\"},{\"@type\":\"MATERIAL-PC-FEED\",\"title\":\"여름 깍두기담그는법 설렁탕집 깍두기 레시피 국밥집 무우 석박지 담그기\",\"url\":\"https://in.naver.com/naipo000/contents/internal/704721686858816\",\"image\":{\"url\":\"https://s.pstatic.net/dthumb.phinf/?src=%22http%3A%2F%2Fblogfiles.naver.net%2FMjAyNDA2MTNfMTA0%2FMDAxNzE4Mjg2NzQ5NDMw.ZTLEUNTDLmXTXWDnDSsas9gi_E5sBfM3WmEKdYKKWxwg.frkM0cIbZRErPXDbq5Tcaq2vGdqniI1PrNcyNo1nLqYg.JPEG%2FSE-29293822-8811-42d3-8191-e9ff8a4a0541.jpg%22&type=nf308_200&service=navermain\"},\"source\":{\"url\":\"https://blog.naver.com/naipo000\",\"name\":\"산이맘\",\"image\":{\"url\":\"https://s.pstatic.net/dthumb.phinf/?src=%22http%3A%2F%2Fblogpfthumb.phinf.naver.net%2FMjAyMTAxMjZfMTMg%2FMDAxNjExNjM0MDIyOTk3.ijtNDmH5zt0u31wHzXvxTG1WjWJBLvyljYBGv-SX-IYg.VAwfyME3NrtREmTGKflyBZnfhgP_JAlxutxajh0u0rog.JPEG.naipo000%2FprofileImage.jpg%22&type=nf40_40&service=navermain\"}},\"showLiveBadge\":false,\"_id\":\"6441ca92c499cc07f334c56b\"},{\"@type\":\"MATERIAL-PC-FEED\",\"title\":\"초간단 소시지꽃유부초밥 만들기 소풍도시락 메뉴 비엔나소시지요리\",\"url\":\"https://in.naver.com/sweetbe/contents/internal/695058837101728\",\"image\":{\"url\":\"https://s.pstatic.net/dthumb.phinf/?src=%22http%3A%2F%2Fblogfiles.naver.net%2FMjAyNDA1MTdfMjcg%2FMDAxNzE1OTU0NTE1NTc4.C-3FRcB7FKUTGhfHNgMYeAef-DNISgAyZOUEurgsB-Eg.eXj4r43cdhlmZQHhS4FADmvc3zH6DOxlEJift6qRvScg.JPEG%2F%EC%86%8C%EC%8B%9C%EC%A7%80%EA%BD%83%EC%9C%A0%EB%B6%80%EC%B4%88%EB%B0%A5_%2814%29.JPG%22&type=nf308_200&service=navermain\"},\"source\":{\"url\":\"https://blog.naver.com/ghdtkaehddl\",\"name\":\"스위트비\",\"image\":{\"url\":\"https://s.pstatic.net/dthumb.phinf/?src=%22http%3A%2F%2Fblogpfthumb.phinf.naver.net%2FMjAyMjEwMTBfMTYw%2FMDAxNjY1NDAxMjI4Nzkw.xbrhVo1VWUi92Vz3ivvggIZZdY5h3lKtcvzZ7bA5F-kg.Y1SnTs4eCMgxiXMHvKJKZXbDhjH7jl9mEgQ4veHg1N4g.JPEG.ghdtkaehddl%2F55.JPG%2F55.JPG%22&type=nf40_40&service=navermain\"}},\"showLiveBadge\":false,\"_id\":\"6441ca92c499cc07f334c56c\"},{\"@type\":\"MATERIAL-PC-FEED\",\"title\":\"고추장 제육볶음 레시피 제육볶음 양념 만들기\",\"url\":\"https://in.naver.com/peace8012/contents/internal/687034724697888\",\"image\":{\"url\":\"https://s.pstatic.net/dthumb.phinf/?src=%22http%3A%2F%2Fblogfiles.naver.net%2FMjAyNDA0MjVfMzAg%2FMDAxNzE0MDMwMDIxNjY1.jXiD-Irb9Dw5VbCAuV-M8RUWIbUbCl-72U6pP_BVxcMg.o-WYKuwshYjT3w-OjD-EuaauEGyw7wIzESDqqlF4UOwg.JPEG%2FIMG_6785.JPG%22&type=nf308_200&service=navermain\"},\"source\":{\"url\":\"https://blog.naver.com/peace8012\",\"name\":\"레즐리\",\"image\":{\"url\":\"https://s.pstatic.net/dthumb.phinf/?src=%22http%3A%2F%2Fblogpfthumb.phinf.naver.net%2FMjAyMTA3MDFfMzAg%2FMDAxNjI1MTM5MDE5NTEy.251VgdvleOVztmbMivfEbKRCQoPfkNpcfFEYMVv6ciUg.bLtjCuOe0dCzsXBuoSYxpyMFVfc-wvIZ3rXVP_ht_Okg.JPEG.peace8012%2FprofileImage.jpg%22&type=nf40_40&service=navermain\"}},\"showLiveBadge\":false,\"_id\":\"6441ca92c499cc07f334c56d\"},{\"@type\":\"MATERIAL-PC-FEED\",\"title\":\"설렁탕집 깍두기 담그는법 여름깍두기 담그기 국밥집 백종원깍두기\",\"url\":\"https://in.naver.com/sukm83/contents/internal/703427451911296\",\"image\":{\"url\":\"https://s.pstatic.net/dthumb.phinf/?src=%22http%3A%2F%2Fblogfiles.naver.net%2FMjAyNDA2MTFfMzEg%2FMDAxNzE4MDM1MDcwMTUz.3antYZgIX6L28nOjh7sqEYOGjHhLBmwp-i_YliULXVEg.qKuis2r-ajeNgwcWgzKUO35XqT9wY4poeSFAxjOIs60g.JPEG%2Fju14.jpg%22&type=nf308_200&service=navermain\"},\"source\":{\"url\":\"https://blog.naver.com/sukm83\",\"name\":\"럭셜황후\",\"image\":{\"url\":\"https://s.pstatic.net/dthumb.phinf/?src=%22http%3A%2F%2Fblogpfthumb.phinf.naver.net%2FMjAxNjExMThfMjI0%2FMDAxNDc5NDcwOTg5ODY1.uHdMxSymXL5fJuYzg5pDIzdWu7bkxtjgx84iC3oJSXgg.hh-q50vEv6f_bJRth1zrDSvKL7fh9qbcuSKKZPhAncEg.JPEG.sukm83%2F%25BB%25E7%25C1%25F8%2B44780.jpg%22&type=nf40_40&service=navermain\"}},\"showLiveBadge\":false,\"_id\":\"6441ca92c499cc07f334c56e\"},{\"@type\":\"MATERIAL-PC-FEED\",\"title\":\"간단한 아침국 순두부 계란국 끓이는법 자취요리 계란탕 레시피 순두부요리\",\"url\":\"https://in.naver.com/love2020/contents/internal/705331621682304\",\"image\":{\"url\":\"https://s.pstatic.net/dthumb.phinf/?src=%22http%3A%2F%2Fblogfiles.naver.net%2FMjAyNDA2MTZfNCAg%2FMDAxNzE4NDkwNjM0ODgx.kh5z4hwNeitkFJ51f3I5R5w76JQBbj1Ux34VmRb99WYg.k5yEVqtNknKzRySot7jWI0kIhoRoo2acSEHTP7VkzSkg.JPEG%2F%EC%95%84%EC%B9%A8%EA%B5%AD%EC%88%9C%EB%91%90%EB%B6%80%EA%B3%84%EB%9E%80%ED%83%95%EB%A7%8C%EB%93%A4%EA%B8%B016.jpg%22&type=nf308_200&service=navermain\"},\"source\":{\"url\":\"https://blog.naver.com/uggang2\",\"name\":\"깡이맘\",\"image\":{\"url\":\"https://s.pstatic.net/dthumb.phinf/?src=%22http%3A%2F%2Fblogpfthumb.phinf.naver.net%2FMjAyMDA0MDdfMTU4%2FMDAxNTg2MjM0OTA1ODIw.GQTRUQQecjeQS9-oc8q5W1XLt-VM0EXSlJBGIdD6gaIg.E2qCgwP7N2X3iDIU9quiRIIyeveniXi_ZmYQWl3A6ugg.JPEG.uggang2%2F2.jpg%22&type=nf40_40&service=navermain\"}},\"showLiveBadge\":false,\"_id\":\"6441ca92c499cc07f334c56f\"},{\"@type\":\"MATERIAL-PC-FEED\",\"title\":\"두부김치 만드는법 김치제육볶음 돼지고기 두부 김치볶음 레시피 두부요리\",\"url\":\"https://in.naver.com/ruby/contents/internal/692203311242272\",\"image\":{\"url\":\"https://s.pstatic.net/dthumb.phinf/?src=%22https%3A%2F%2Fs.pstatic.net%2Ftvcast.phinf%2F20240509_285%2FdoV4e_17152500465858uhS1_JPEG%2F1715249857897.JPG%22&type=nf308_200&service=navermain\"},\"source\":{\"url\":\"https://tv.naver.com/soso7869\",\"name\":\"루비의식탁\",\"image\":{\"url\":\"https://s.pstatic.net/dthumb.phinf/?src=%22https%3A%2F%2Fs.pstatic.net%2Ftvcast.phinf%2F20181226_18%2FBzpCn_1545820417300a86CA_JPEG%2F1545820417231.JPG%22&type=nf40_40&service=navermain\"}},\"video\":{\"playTime\":\"02:12\"},\"showLiveBadge\":false,\"_id\":\"6441ca92c499cc07f334c570\"},{\"@type\":\"MATERIAL-PC-FEED\",\"title\":\"케찹 오므라이스 만드는법 오무라이스 소스 만들기\",\"url\":\"https://in.naver.com/kimhy004/contents/internal/704638440160160\",\"image\":{\"url\":\"https://s.pstatic.net/dthumb.phinf/?src=%22http%3A%2F%2Fblogfiles.naver.net%2FMjAyNDA2MTRfMjE4%2FMDAxNzE4MzI0NTAzNjk4.QpZfI_Zn32CzRfS6V1COP9T59DGMOymLgW92HJQEt70g.eZLbucpCU4ghQs649lx_gbr0d-pnsE3MMYrG0Vm1W1og.PNG%2FDSCF2975.png%22&type=nf308_200&service=navermain\"},\"source\":{\"url\":\"https://blog.naver.com/kimhy004\",\"name\":\"들꽃향기\",\"image\":{\"url\":\"https://s.pstatic.net/dthumb.phinf/?src=%22http%3A%2F%2Fblogpfthumb.phinf.naver.net%2FMjAyMTAyMjhfOTkg%2FMDAxNjE0NDk5NTcyNDk2._ES4AtEAN48PEwXn0Zb8GBiLOY9Npx3HG0cOTnxk3m0g.StPfXxcFKN_KsKLXu_FAYUIR3NY3rwjeanSckXHTcuQg.JPEG.kimhy004%2Fbeauty_16%252816%2529_6.jpg%22&type=nf40_40&service=navermain\"}},\"showLiveBadge\":false,\"_id\":\"6441ca92c499cc07f334c571\"}],\"excludeInPaging\":false,\"positionForPaging\":0,\"realtime\":false,\"needCologger\":false,\"ad\":false,\"@type\":\"PC-FEED-BLOCK\",\"@code\":\"PC-FEED-RECIPE-POPULAR-TAG\",\"@template\":\"TWO-COLUMNS\"},{\"@type\":\"PC-FEED-BLOCK\",\"materials\":[{\"@type\":\"MATERIAL-PC-FEED\",\"title\":\"초등아침메뉴 일주일식단 아이가 잘먹는 건강식단\",\"url\":\"https://in.naver.com/bakerystar/contents/internal/689209618781856\",\"image\":{\"url\":\"https://s.pstatic.net/dthumb.phinf/?src=%22http%3A%2F%2Fblogfiles.naver.net%2FMjAyNDA1MDFfMTM4%2FMDAxNzE0NTY0Njk1OTQ2.D116EciVrzchmI_qISsFoq4a5Jch4DpUKCEp8kXfgOYg.1y6pzgRr4sk6ao_8JVG-yQ3hnrQ0lcmNEfiKEBpEHXwg.JPEG%2FIMG_4577.jpg%22&type=nf365_240&service=navermain\"},\"source\":{\"url\":\"https://blog.naver.com/alsrudch\",\"name\":\"빵냄새나는별이네\",\"image\":{\"url\":\"https://s.pstatic.net/dthumb.phinf/?src=%22http%3A%2F%2Fblogpfthumb.phinf.naver.net%2FMjAyMjEwMTJfMjcx%2FMDAxNjY1NTYzNzQyNjc3.IVO_JILi83oM63NvXzv7ySk_VJn4PWKv6ejS7y2_6Ecg.rDo5mmxQLSIEuK1z3Bvcge3MpndfkkgkE1BJ0gQHG6sg.PNG.alsrudch%2Fnamecard_%25281%2529.png%2Fnamecard%2B%25281%2529.png%22&type=nf40_40&service=navermain\"}},\"tagList\":[\"#일주일식단\"],\"showLiveBadge\":false,\"_id\":\"6441ca92c499cc07f334c576\"},{\"@type\":\"MATERIAL-PC-FEED\",\"title\":\"와인안주 꽃보다~치즈 플레이트 어때? Cheeseboard\",\"url\":\"https://in.naver.com/pookybebe/contents/internal/703774951074784\",\"image\":{\"url\":\"https://s.pstatic.net/dthumb.phinf/?src=%22https%3A%2F%2Fs.pstatic.net%2Ftvcast.phinf%2F20240612_131%2FU3j9y_1718120828902IH6Ln_JPEG%2FWpTMvsoIZR_01.jpg%22&type=nf365_240&service=navermain\"},\"source\":{\"url\":\"https://tv.naver.com/pookybebe\",\"name\":\"푸키베베의스윗홈tv\",\"image\":{\"url\":\"https://s.pstatic.net/dthumb.phinf/?src=%22https%3A%2F%2Fs.pstatic.net%2Ftvcast.phinf%2F20180723_17%2FtU3yI_1532317358568IeBUf_JPEG%2F1532317358528.JPG%22&type=nf40_40&service=navermain\"}},\"video\":{\"playTime\":\"00:54\"},\"tagList\":[\"#와인안주\"],\"showLiveBadge\":false,\"_id\":\"6441ca92c499cc07f334c577\"},{\"@type\":\"MATERIAL-PC-FEED\",\"title\":\"편스토랑 류수영 설마간장비빔국수 간장 비빔국수 레시피\",\"url\":\"https://in.naver.com/mijinkim80/contents/internal/690154577836672\",\"image\":{\"url\":\"https://s.pstatic.net/dthumb.phinf/?src=%22http%3A%2F%2Fblogfiles.naver.net%2FMjAyNDA1MDRfMTk5%2FMDAxNzE0NzkzMzkxMDU5.nFvNET2vO7YH-wfLng1eF78zGCikYuB01OpUUUSbDPog.Kyf0JUT-kmzYxV8PzQ_twGQQbP2jtxOiNWBshRaCQEIg.JPEG%2F13.JPEG%22&type=nf365_240&service=navermain\"},\"source\":{\"url\":\"https://blog.naver.com/mj_hudadak\",\"name\":\"MJ의후다닥레시피\",\"image\":{\"url\":\"https://s.pstatic.net/dthumb.phinf/?src=%22http%3A%2F%2Fblogpfthumb.phinf.naver.net%2FMjAyNDAxMTNfMTY2%2FMDAxNzA1MTE5ODAxOTMy.R3pVYLAjzu1TjZnmNbTKWHsYmpF7ebnKbnkl2ddfHpIg.Y8MWK1lrhSpjMrVqIQyRlu2-5iwTFSp8l2ZoWsBiYScg.JPEG.mijinkim80%2FprofileImage.jpg%22&type=nf40_40&service=navermain\"}},\"tagList\":[\"#설마간장비빔국수\"],\"showLiveBadge\":false,\"_id\":\"6441ca92c499cc07f334c578\"},{\"@type\":\"MATERIAL-PC-FEED\",\"title\":\"에어프라이어 살구구이 와인 안주 살구 요리 제철 먹는법 후숙\",\"url\":\"https://in.naver.com/bbubbus_kitchen/contents/internal/703534374665184\",\"image\":{\"url\":\"https://s.pstatic.net/dthumb.phinf/?src=%22http%3A%2F%2Fblogfiles.naver.net%2FMjAyNDA2MTBfMjI4%2FMDAxNzE4MDA3ODg1OTQ0.ozbowIeJXxU0Rn6BEwN_BCgjshw0EvaC1htATiV4zPgg.-yFnKS_5R3OPuVd9CIDsG_FJemF0DwVX8KQ8YLngUqwg.JPEG%2FIMG_3946.jpg%22&type=nf365_240&service=navermain\"},\"source\":{\"url\":\"https://blog.naver.com/happy_hyunji\",\"name\":\"뿌뿌님\",\"image\":{\"url\":\"https://s.pstatic.net/dthumb.phinf/?src=%22http%3A%2F%2Fblogpfthumb.phinf.naver.net%2FMjAyMDEwMDlfMTYw%2FMDAxNjAyMjQ2OTk3NzA1.G7XYL1ElbRUXGkmsO-EvDCmFor2hbczZ_Xvx1FWhdIwg.gCbhFcZ2G1Wp29pj5s2TEEPfPITO6N8zAyC2yYyGeN4g.JPEG.happy_hyunji%2FprofileImage.jpg%22&type=nf40_40&service=navermain\"}},\"tagList\":[\"#와인안주\"],\"showLiveBadge\":false,\"_id\":\"6441ca92c499cc07f334c579\"},{\"@type\":\"MATERIAL-PC-FEED\",\"title\":\"바베큐 폭립 스모커리 캠핑고기 : 간단 캠핑요리\",\"url\":\"https://in.naver.com/recipebook/contents/internal/703572639755392\",\"image\":{\"url\":\"https://s.pstatic.net/dthumb.phinf/?src=%22http%3A%2F%2Fblogfiles.naver.net%2FMjAyNDA2MDZfMjYy%2FMDAxNzE3NjQwMzA2NzQ4.Fj82NeUUio_rvDvItOPYAdras7xYadMhKzQOsAiHYpAg.7uNPiG-YcM3NADVRecHEQBhQraslsZKgb5axCrElEYUg.JPEG%2F%EC%8A%A4%EB%AA%A8%EC%BB%A4%EB%A6%AC.jpg%22&type=nf365_240&service=navermain\"},\"source\":{\"url\":\"https://blog.naver.com/be2141st\",\"name\":\"초록스토리\",\"image\":{\"url\":\"https://s.pstatic.net/dthumb.phinf/?src=%22http%3A%2F%2Fblogpfthumb.phinf.naver.net%2FMjAxODA2MjhfMTAx%2FMDAxNTMwMTcxMjQyNzE2.b_8YylY9vSomtNPBwleEGNXAbcScP-jwOu5GUQw6ZHwg.MPVaz9zPGFRUDqOp5f745IQ1JVrHFtMxmKttvhExdXgg.PNG.be2141st%2F%25B9%25E8%25B3%25CA%25C0%25CC%25B9%25CC%25C1%25F6_%25C1%25A4%25BB%25E7%25B0%25A2%25C7%25FC.png%22&type=nf40_40&service=navermain\"}},\"tagList\":[\"#캠핑요리\"],\"showLiveBadge\":false,\"_id\":\"6441ca92c499cc07f334c57a\"},{\"@type\":\"MATERIAL-PC-FEED\",\"title\":\"캠핑음식 요리레시피 생골뱅이 삶는법 골뱅이탕 손질 방법\",\"url\":\"https://in.naver.com/danielland/contents/internal/685186894464416\",\"image\":{\"url\":\"https://s.pstatic.net/dthumb.phinf/?src=%22http%3A%2F%2Fblogfiles.naver.net%2FMjAyNDA0MTlfMTc5%2FMDAxNzEzNTM1MzgxNDU0.FoJQDdvnUqMJUwmMUzT0eZXV47IM0lTcVCa725Pl61wg.V1Dd_lMefW_cJarHRx9LiWGi0Tk-4LL5SGWWBDaVwEYg.JPEG%2FA0.JPG%22&type=nf365_240&service=navermain\"},\"source\":{\"url\":\"https://blog.naver.com/blogdanielland\",\"name\":\"메이플대니얼\",\"image\":{\"url\":\"https://s.pstatic.net/dthumb.phinf/?src=%22http%3A%2F%2Fblogpfthumb.phinf.naver.net%2FMjAyMjA2MjRfMzQg%2FMDAxNjU2MDA1MTY0ODQ2.dIW47qs_kKtMJIacIgMdPu4X3mHfGIILd7G8Y-jsowwg.3U4fPoaeYAVArezRtPhOHct846q4w5jLQvV9UjvqSMgg.PNG.blogdanielland%2FprofileImage.png%22&type=nf40_40&service=navermain\"}},\"tagList\":[\"#캠핑음식\"],\"showLiveBadge\":false,\"_id\":\"6441ca92c499cc07f334c57b\"},{\"@type\":\"MATERIAL-PC-FEED\",\"title\":\"꽃게찌는법 꽃게 찌는시간 꽃게찜 만들기\",\"url\":\"https://in.naver.com/kitchen/contents/internal/701832316493376\",\"image\":{\"url\":\"https://s.pstatic.net/dthumb.phinf/?src=%22http%3A%2F%2Fblogfiles.naver.net%2FMjAyNDA2MDZfMTMx%2FMDAxNzE3NjQ1Nzk2NzQw.WUHLypc9rc7ozV_-JJBnZ7eN3Wp4M7lSI6dm-yn8I0gg.cGPlgDafETLLpfuMdAl1Sx9-1IoYiQjDEYpkvxXniOAg.JPEG%2F8S1A3101.JPG%22&type=nf365_240&service=navermain\"},\"source\":{\"url\":\"https://blog.naver.com/ssuujin\",\"name\":\"라비키친\",\"image\":{\"url\":\"https://s.pstatic.net/dthumb.phinf/?src=%22http%3A%2F%2Fblogpfthumb.phinf.naver.net%2FMjAyMDAzMDFfMTcy%2FMDAxNTgzMDAwMjkxMjA2.3zNskLnnDZUMy88i3X0kqa4SiBC0wIQH8SwustCcOpog.UGsYHcjvyuGCN24OFQvHXevShLd11m8bQcjFZsK6OB0g.PNG.ssuujin%2F%25B6%25F3%25BA%25F1%25C5%25B0%25C4%25A3_1%2B%25281%2529.png%22&type=nf40_40&service=navermain\"}},\"tagList\":[\"#꽃게찌는법\"],\"showLiveBadge\":false,\"_id\":\"6441ca92c499cc07f334c57c\"},{\"@type\":\"MATERIAL-PC-FEED\",\"title\":\"참치 열무비빔밥 소스 만들기 간단한 점심메뉴 열무김치비빔밥 레시피\",\"url\":\"https://in.naver.com/three_choi/contents/internal/694339253365888\",\"image\":{\"url\":\"https://s.pstatic.net/dthumb.phinf/?src=%22http%3A%2F%2Fblogfiles.naver.net%2FMjAyNDA1MTZfMTM0%2FMDAxNzE1ODE1ODg5MzEx._TAdvU5ptyqOv0Nq2N4wdWXIl0lm4xEZHuIIKOk6_V0g.rSKllEgEFi-QfoM3BmIdcttxZtiyZkLH3KhCvYOUvdsg.JPEG%2F3.jpg%22&type=nf365_240&service=navermain\"},\"source\":{\"url\":\"https://blog.naver.com/ch-threeworld\",\"name\":\"최쓰리\",\"image\":{\"url\":\"https://s.pstatic.net/dthumb.phinf/?src=%22http%3A%2F%2Fblogpfthumb.phinf.naver.net%2FMjAyMjA0MTFfMjQg%2FMDAxNjQ5NjQ0Mjc1OTkz.ye18Bso8CvgZzVjeIpE0EuNPRvpe4iv_030G2VrC8gcg.GD3cuhzm5xmAapvU_jn7z53yuELGR9q7lgIxcE1KXcMg.JPEG.qkqh8480%2FprofileImage.jpg%22&type=nf40_40&service=navermain\"}},\"tagList\":[\"#간단한점심\"],\"showLiveBadge\":false,\"_id\":\"6441ca92c499cc07f334c57d\"},{\"@type\":\"MATERIAL-PC-FEED\",\"title\":\"마녀스프 레시피 일주일식단 다이어트 저칼로리 토마토양배추스프\",\"url\":\"https://in.naver.com/sukm83/contents/internal/704722743823264\",\"image\":{\"url\":\"https://s.pstatic.net/dthumb.phinf/?src=%22http%3A%2F%2Fblogfiles.naver.net%2FMjAyNDA2MTRfMTgz%2FMDAxNzE4MzUwMzY0NzYx._0aG-Ah8PkT_xbpsSsqnWY7O6fwFN11u20QxORjAibAg.TmbKREXmaeMhVDDjji0jrCWfK58nTVSUT6ZCNeAx1CAg.JPEG%2F1zv153.JPG%22&type=nf365_240&service=navermain\"},\"source\":{\"url\":\"https://blog.naver.com/sukm83\",\"name\":\"럭셜황후\",\"image\":{\"url\":\"https://s.pstatic.net/dthumb.phinf/?src=%22http%3A%2F%2Fblogpfthumb.phinf.naver.net%2FMjAxNjExMThfMjI0%2FMDAxNDc5NDcwOTg5ODY1.uHdMxSymXL5fJuYzg5pDIzdWu7bkxtjgx84iC3oJSXgg.hh-q50vEv6f_bJRth1zrDSvKL7fh9qbcuSKKZPhAncEg.JPEG.sukm83%2F%25BB%25E7%25C1%25F8%2B44780.jpg%22&type=nf40_40&service=navermain\"}},\"tagList\":[\"#일주일식단\"],\"showLiveBadge\":false,\"_id\":\"6441ca92c499cc07f334c57e\"},{\"@type\":\"MATERIAL-PC-FEED\",\"title\":\"꽃게찌는법 꽃게 찌는 시간 꽃게찜 레시피\",\"url\":\"https://in.naver.com/firehouse79/contents/internal/700807365852064\",\"image\":{\"url\":\"https://s.pstatic.net/dthumb.phinf/?src=%22http%3A%2F%2Fblogfiles.naver.net%2FMjAyNDA2MDNfMTUy%2FMDAxNzE3MzkzNTM4MTIx.-aBCguBL4QAk-5Ks4xgbqkVp7vF47hJcQGs7X_g2Hwsg.dsUVyCa6HG3tTXImL07bT7sqtiu5VKyp9r7SfIE9_oAg.JPEG%2FDSC03249.jpg%22&type=nf365_240&service=navermain\"},\"source\":{\"url\":\"https://blog.naver.com/firehouse79\",\"name\":\"반이짝이\",\"image\":{\"url\":\"https://s.pstatic.net/dthumb.phinf/?src=%22http%3A%2F%2Fblogpfthumb.phinf.naver.net%2FMjAyMTAzMTFfMjk3%2FMDAxNjE1NDQzMzYyMzk1.a9CHCEcjSxBY_NDq6Yq8PQ2Tenovb0WL0dFZF48Qwz0g.hSNxcky9oxjjqmhqtRQX4NpG7VjOjSj1F05EmpqYjREg.JPEG.firehouse79%2FprofileImage.jpg%22&type=nf40_40&service=navermain\"}},\"tagList\":[\"#꽃게찌는법\"],\"showLiveBadge\":false,\"_id\":\"6441ca92c499cc07f334c57f\"},{\"@type\":\"MATERIAL-PC-FEED\",\"title\":\"현미 누룽지 만드는법 찬밥요리 오븐 누룽지 만들기오븐 요리\",\"url\":\"https://in.naver.com/jh2y3/contents/internal/683941914756416\",\"image\":{\"url\":\"https://s.pstatic.net/dthumb.phinf/?src=%22http%3A%2F%2Fblogfiles.naver.net%2FMjAyNDA0MTZfNTgg%2FMDAxNzEzMjc2NzA2MTc1.tiMo4OGhHbOEBsxvXE8LswDRMsMyWbbNSP0bnLm1t80g.Iu0okYBp77MzmsC0Ao861dOhB0ZXh6IkCL5vS6pYwiog.JPEG%2F%EB%88%84%EB%A3%BD%EC%A7%80_%EB%A7%8C%EB%93%A4%EA%B8%B0_%2832%29.jpg%22&type=nf365_240&service=navermain\"},\"source\":{\"url\":\"https://blog.naver.com/jh2y3\",\"name\":\"팬이맘\",\"image\":{\"url\":\"https://s.pstatic.net/dthumb.phinf/?src=%22http%3A%2F%2Fblogpfthumb.phinf.naver.net%2F20211004_156%2Fjh2y3_1633296793402CwLCY_JPEG%2Fimage.jpg%22&type=nf40_40&service=navermain\"}},\"tagList\":[\"#오븐요리\"],\"showLiveBadge\":false,\"_id\":\"6441ca92c499cc07f334c580\"},{\"@type\":\"MATERIAL-PC-FEED\",\"title\":\"계란 오므라이스 만드는법 오므라이스 소스 오무라이스 레시피\",\"url\":\"https://in.naver.com/jh2y3/contents/internal/696169915563360\",\"image\":{\"url\":\"https://s.pstatic.net/dthumb.phinf/?src=%22http%3A%2F%2Fblogfiles.naver.net%2FMjAyNDA1MjFfMjI3%2FMDAxNzE2MjI4ODU3NjIy.GPuuzC4FXVK8gDeEi66_njygaqlKVzr3MTyd2aofS0Qg.sC1LVgkhusu5D_xhLZpXxfFUKS9yfuxkLYcefsEhWsgg.JPEG%2F%EC%98%A4%EB%AF%80%EB%9D%BC%EC%9D%B4%EC%8A%A4__%2828%29.jpg%22&type=nf365_240&service=navermain\"},\"source\":{\"url\":\"https://blog.naver.com/jh2y3\",\"name\":\"팬이맘\",\"image\":{\"url\":\"https://s.pstatic.net/dthumb.phinf/?src=%22http%3A%2F%2Fblogpfthumb.phinf.naver.net%2F20211004_156%2Fjh2y3_1633296793402CwLCY_JPEG%2Fimage.jpg%22&type=nf40_40&service=navermain\"}},\"tagList\":[\"#오므라이스레시피\"],\"showLiveBadge\":false,\"_id\":\"6441ca92c499cc07f334c581\"},{\"@type\":\"MATERIAL-PC-FEED\",\"title\":\"편식 해결 훈제오리 요리 훈제오리볶음 야채볶음 아이들 일주일 반찬 레시피\",\"url\":\"https://in.naver.com/wooamommy/contents/internal/706113497165728\",\"image\":{\"url\":\"https://s.pstatic.net/dthumb.phinf/?src=%22http%3A%2F%2Fblogfiles.naver.net%2FMjAyNDA2MThfOTYg%2FMDAxNzE4NjkwOTIyMTU0.PLh19-SPISn-DGFwz4xM3E6Tl1nFDbvt98Au_p-oLnAg.jJTJ2b6r8LD5DGPLhWAgAA2vHfJHmSXyXkY7lYmGOxsg.JPEG%2F4-20240618_101113.jpg%22&type=nf365_240&service=navermain\"},\"source\":{\"url\":\"https://blog.naver.com/kaze_92\",\"name\":\"찬란한우아\",\"image\":{\"url\":\"https://s.pstatic.net/dthumb.phinf/?src=%22http%3A%2F%2Fblogpfthumb.phinf.naver.net%2FMjAyMzA5MThfMTQ0%2FMDAxNjk0OTkzOTY1ODUy.stbqghMn80wfg0M6l7QyWXYkHAYQqGsFG0exsnBD5wIg.YO9GLL0IacQ5n5hXXOYAQxb2Y7oLbWm1y3BoDYj_9PAg.JPEG.kaze_92%2FprofileImage.jpg%22&type=nf40_40&service=navermain\"}},\"tagList\":[\"#아이반찬\"],\"showLiveBadge\":false,\"_id\":\"6441ca92c499cc07f334c582\"},{\"@type\":\"MATERIAL-PC-FEED\",\"title\":\"김치볶음밥 황금레시피 한그릇요리 김치볶음밥 만들기\",\"url\":\"https://in.naver.com/year0321/contents/internal/706072751807328\",\"image\":{\"url\":\"https://s.pstatic.net/dthumb.phinf/?src=%22http%3A%2F%2Fblogfiles.naver.net%2FMjAyNDA2MThfMjcg%2FMDAxNzE4Njc5MjAxNTE3.gOHrN7ZOjJv_ehAM3bzrcyX3Yur6We5tL53-8z89S10g.7tbbrE9F9X50F1wbd_uqrN09jc481DcL6-ErgF4yDF8g.JPEG%2F%ED%95%9C%EA%B7%B8%EB%A6%87%EC%9A%94%EB%A6%AC18.jpg%22&type=nf365_240&service=navermain\"},\"source\":{\"url\":\"https://blog.naver.com/year0321\",\"name\":\"일편단심\",\"image\":{\"url\":\"https://s.pstatic.net/dthumb.phinf/?src=%22http%3A%2F%2Fblogpfthumb.phinf.naver.net%2F20230222_266%2Fyear0321_1677039126858OmNk6_JPEG%2FprofileImage.jpg%22&type=nf40_40&service=navermain\"}},\"tagList\":[\"#한그릇요리\"],\"showLiveBadge\":false,\"_id\":\"6441ca92c499cc07f334c583\"},{\"@type\":\"MATERIAL-PC-FEED\",\"title\":\"김가연 중국식 오이탕탕이 레시피 오이무침 오이요리\",\"url\":\"https://in.naver.com/luckybag/contents/internal/704257932991808\",\"image\":{\"url\":\"https://s.pstatic.net/dthumb.phinf/?src=%22http%3A%2F%2Fblogfiles.naver.net%2FMjAyNDA2MTJfMjg0%2FMDAxNzE4MTU5NTMyODE2.VxDHx5zgMrwB10JwP2xeFEwYmQmt4OA1bVGl2QZqTx8g.1NDNNwXKux6M2GT4OyUh7UnLLpicDkmFn15SOM5ez9og.JPEG%2Fbatch_KakaoTalk_20240611_211024147_13.jpg%22&type=nf365_240&service=navermain\"},\"source\":{\"url\":\"https://blog.naver.com/wjdfla7929\",\"name\":\"요리주머니\",\"image\":{\"url\":\"https://s.pstatic.net/dthumb.phinf/?src=%22http%3A%2F%2Fblogpfthumb.phinf.naver.net%2FMjAyMjAyMTNfMTk3%2FMDAxNjQ0NzM0OTY2Nzc0.I2lvqVrbGfz_YnXIjtNFbsv-BrSMvL3DznS9p1qgQSkg._NWD2DulKxhyKf-lJ2f3OkT826Wf7h6SRtWbXaQ31hsg.JPEG.wjdfla7929%2Fprofile.jpg%2Fprofile.jpg%22&type=nf40_40&service=navermain\"}},\"tagList\":[\"#중국식오이탕탕이\"],\"showLiveBadge\":false,\"_id\":\"6441ca92c499cc07f334c584\"},{\"@type\":\"MATERIAL-PC-FEED\",\"title\":\"유아식 애호박볶음 애호박새우볶음 레시피 애호박반찬 요리\",\"url\":\"https://in.naver.com/yummymmmm/contents/internal/691671712472320\",\"image\":{\"url\":\"https://s.pstatic.net/dthumb.phinf/?src=%22http%3A%2F%2Fblogfiles.naver.net%2FMjAyNDA1MDhfNjEg%2FMDAxNzE1MTYzOTM4MDYz.vpOFtMIxh-rH8iFmpqKVGWzMiVPCYjU1MMdWQlZBBikg.yaeUijyI8usEUvDjkgrNoJMKmztmo_F8Tc6AUs3ciGUg.JPEG%2FIMG_4092.jpg%22&type=nf365_240&service=navermain\"},\"source\":{\"url\":\"https://blog.naver.com/yummymmmm\",\"name\":\"야미미자매\",\"image\":{\"url\":\"https://s.pstatic.net/dthumb.phinf/?src=%22http%3A%2F%2Fblogpfthumb.phinf.naver.net%2FMjAyMjAxMTZfMjE3%2FMDAxNjQyMzEzMjQ0NjA5.i1zIFVnaH5czvTGnd09Sew4ofpxXz3Vf7Yx3lufjccMg.Xz2E7P01HSwFJwsiSMWyZvVNfVs-p0sneRw6-GnDdvIg.PNG.yummymmmm%2FprofileImage.png%22&type=nf40_40&service=navermain\"}},\"tagList\":[\"#애호박반찬\"],\"showLiveBadge\":false,\"_id\":\"6441ca92c499cc07f334c585\"},{\"@type\":\"MATERIAL-PC-FEED\",\"title\":\"시래기만두 만드는 법 만두 만들기 시래기요리 시래기 만둣국 집밥\",\"url\":\"https://in.naver.com/hwa202/contents/internal/694695261567904\",\"image\":{\"url\":\"https://s.pstatic.net/dthumb.phinf/?src=%22http%3A%2F%2Fblogfiles.naver.net%2FMjAyNDA1MTdfMjE3%2FMDAxNzE1OTAyMzkwODk0.jZI5xUSTjBpK7p215OT56sUcvsPApF3y1-nVGiFt4GYg.c4x3s-W8zU2G4RO9fJR-Owhhkbu7hRF75ZtmH22iJEog.JPEG%2F%EC%8B%9C%EB%9E%98%EA%B8%B0%EB%A7%8C%EB%91%90%281%29.JPG%22&type=nf365_240&service=navermain\"},\"source\":{\"url\":\"https://blog.naver.com/hwa202\",\"name\":\"가시장미\",\"image\":{\"url\":\"https://s.pstatic.net/dthumb.phinf/?src=%22http%3A%2F%2Fblogpfthumb.phinf.naver.net%2F20150403_15%2Fhwa202_1428041653104nUVCQ_JPEG%2F150401_216046.jpg%22&type=nf40_40&service=navermain\"}},\"tagList\":[\"#집밥요리\"],\"showLiveBadge\":false,\"_id\":\"6441ca92c499cc07f334c586\"},{\"@type\":\"MATERIAL-PC-FEED\",\"title\":\"꽃게찌는법 꽃게 찌는 시간 꽃게찜 레시피 만들기\",\"url\":\"https://in.naver.com/mijinkim80/contents/internal/702893630942272\",\"image\":{\"url\":\"https://s.pstatic.net/dthumb.phinf/?src=%22http%3A%2F%2Fblogfiles.naver.net%2FMjAyNDA1MjZfMTk2%2FMDAxNzE2NzE1Njg5NDI5.5Up9fscYe85quMP-UUD8XJabYrkLbVBXh6TMONv5yDIg.OICQK0wpFj_oBOKDYPvIU__rXhf-TzpcNcOXtRq6M-Ug.JPEG%2FIMG_8125.JPEG%22&type=nf365_240&service=navermain\"},\"source\":{\"url\":\"https://blog.naver.com/mj_hudadak\",\"name\":\"MJ의후다닥레시피\",\"image\":{\"url\":\"https://s.pstatic.net/dthumb.phinf/?src=%22http%3A%2F%2Fblogpfthumb.phinf.naver.net%2FMjAyNDAxMTNfMTY2%2FMDAxNzA1MTE5ODAxOTMy.R3pVYLAjzu1TjZnmNbTKWHsYmpF7ebnKbnkl2ddfHpIg.Y8MWK1lrhSpjMrVqIQyRlu2-5iwTFSp8l2ZoWsBiYScg.JPEG.mijinkim80%2FprofileImage.jpg%22&type=nf40_40&service=navermain\"}},\"tagList\":[\"#꽃게찌는법\"],\"showLiveBadge\":false,\"_id\":\"6441ca92c499cc07f334c587\"},{\"@type\":\"MATERIAL-PC-FEED\",\"title\":\"캠핑요리추천 통삼겹 바베큐 레시피 웨버 바베큐그릴 & 훈연칩 활용 훈제바베큐 만들기\",\"url\":\"https://in.naver.com/sundoong2/contents/internal/676853003178784\",\"image\":{\"url\":\"https://s.pstatic.net/dthumb.phinf/?src=%22http%3A%2F%2Fblogfiles.naver.net%2FMjAyNDAzMjdfMjg1%2FMDAxNzExNTQ0Njc3OTk3.-dP9IiSaC57hJYH9JEBCLS5SnGlOByNkkG-6N7LdKqog.agtG8E70x9B6cgkLwUXa61jFXpLtTEUVXrrgROWLyDAg.JPEG%2FP20240323_181218305_505F0C62-73A8-4AA7-8027-8565349A49E3.JPG%22&type=nf365_240&service=navermain\"},\"source\":{\"url\":\"https://blog.naver.com/sundoong2\",\"name\":\"순둥작가\",\"image\":{\"url\":\"https://s.pstatic.net/dthumb.phinf/?src=%22http%3A%2F%2Fblogpfthumb.phinf.naver.net%2FMjAyMDA1MzBfMjQ4%2FMDAxNTkwODQ1MDY4MDYz.-T5InVJFfB9gP9Pjl4RCPIJdUGNy4yrGD55GOpVtHe8g.nYroPrGgcZFQ68mojXV0QCOv7Ep_xC8jsLkiaJ0rFgYg.JPEG.sundoong2%2F%25BC%25F8%25B5%25D5%25C0%25DB%25B0%25A1.jpg%22&type=nf40_40&service=navermain\"}},\"tagList\":[\"#캠핑음식\"],\"showLiveBadge\":false,\"_id\":\"6441ca92c499cc07f334c588\"},{\"@type\":\"MATERIAL-PC-FEED\",\"title\":\"간단한 점심 애호박요리, 애호박반찬 애호박참치조림\",\"url\":\"https://in.naver.com/annyeong/contents/internal/704229673208608\",\"image\":{\"url\":\"https://s.pstatic.net/dthumb.phinf/?src=%22http%3A%2F%2Fblogfiles.naver.net%2FMjAyNDA2MTNfMjEz%2FMDAxNzE4MjMwNDk2NzM1.W8DuD9TrguTq4UbIWgn_e9dnihlA-_BBQP9wFi3S3OQg.Z-RsZavhevRx9YBfLf3KQMIB6Jo-khOJYcGaMmojHu0g.JPEG%2F20240613%EF%BC%BF055907.jpg%22&type=nf365_240&service=navermain\"},\"source\":{\"url\":\"https://blog.naver.com/maroyang\",\"name\":\"안녕레시피\",\"image\":{\"url\":\"https://s.pstatic.net/dthumb.phinf/?src=%22http%3A%2F%2Fblogpfthumb.phinf.naver.net%2FMjAyMzAzMTlfMTY5%2FMDAxNjc5MjA5NTM3OTkx.GbIdvAyz-qhoD52UqppxdNn1U85SzeuuDa5-bKIYNK4g.IIygYgL_m5qC_Q5zZFxuIpkuPww8EDhBq-bcfWfg8Dwg.JPEG.maroyang%2FSE-b062b98e-68b6-11ed-9ccf-81dadd4877c9.jpg%2FSE-b062b98e-68b6-11ed-9ccf-81dadd4877c9.jpg%22&type=nf40_40&service=navermain\"}},\"tagList\":[\"#애호박반찬\"],\"showLiveBadge\":false,\"_id\":\"6441ca92c499cc07f334c589\"}],\"excludeInPaging\":false,\"positionForPaging\":0,\"realtime\":false,\"title\":\"테마별 레시피\",\"needCologger\":false,\"ad\":false,\"@type\":\"PC-FEED-BLOCK\",\"@code\":\"PC-FEED-RECIPE-THEME-TAG\",\"@template\":\"FOUR-COLUMNS\"},{\"@type\":\"BLOCK\",\"blocks\":null,\"materials\":[{\"@type\":\"MATERIAL-PC-FEED\",\"title\":\"딱 2가지 재료! 이렇게 먹으면 배 부르고 살도 빠져요! 고단백 당근라페 다이어트 김밥만들기\",\"url\":\"https://in.naver.com/ramblebubu/contents/internal/703544679759520\",\"image\":{\"url\":\"https://s.pstatic.net/dthumb.phinf/?src=%22http%3A%2F%2Fblogfiles.naver.net%2FMjAyNDA2MTBfMTUw%2FMDAxNzE4MDEwMjE5MzIz.iKnJJspT3rQq9nEHolFVYOSYRJy8OpxzKFREmyvuQSIg.y3pYQR2dlHJrnLJLGscfFGyKqmRzwQ-sDOsIhN4cZAAg.JPEG%2F01.jpg%22&type=nf308_200&service=navermain\"},\"source\":{\"url\":\"https://blog.naver.com/autolian\",\"name\":\"램블부부\",\"image\":{\"url\":\"https://s.pstatic.net/dthumb.phinf/?src=%22http%3A%2F%2Fblogpfthumb.phinf.naver.net%2FMjAxODExMDRfMTk0%2FMDAxNTQxMzIzMzYwNDAz.bPUALVe80_HoJr5Xq26PER5txm1G9hCZ10acHTDfCg4g.CqSganeAjbNpkkgn0UhiKODUqdnptGQnYcUBaWgCn2Eg.JPEG.autolian%2F2382_blog.jpg%22&type=nf40_40&service=navermain\"}},\"showLiveBadge\":false,\"_id\":\"6441ca92c499cc07f334c58e\"},{\"@type\":\"MATERIAL-PC-FEED\",\"title\":\"참외 1개 칼로리는 얼마나 될까?\",\"url\":\"https://in.naver.com/recipebook/contents/internal/700579023821664\",\"image\":{\"url\":\"https://s.pstatic.net/dthumb.phinf/?src=%22http%3A%2F%2Fblogfiles.naver.net%2FMjAyNDA2MDJfMTA2%2FMDAxNzE3MzE0ODU5MDY2.DKbr_2AGQ0LfbwY4MI_yC9zc8VJF6J_gzX7hzSJMvO0g.W5IQ1Nb2FQVSqnmvehpyQnwPslfcaHYMAdz3IMEYwoIg.JPEG%2F%EC%B4%88%EB%A1%9D_%EB%8C%80%ED%91%9C0409%EB%8C%80%EB%AC%B8%EC%A7%9D.jpg%22&type=nf308_200&service=navermain\"},\"source\":{\"url\":\"https://blog.naver.com/be2141st\",\"name\":\"초록스토리\",\"image\":{\"url\":\"https://s.pstatic.net/dthumb.phinf/?src=%22http%3A%2F%2Fblogpfthumb.phinf.naver.net%2FMjAxODA2MjhfMTAx%2FMDAxNTMwMTcxMjQyNzE2.b_8YylY9vSomtNPBwleEGNXAbcScP-jwOu5GUQw6ZHwg.MPVaz9zPGFRUDqOp5f745IQ1JVrHFtMxmKttvhExdXgg.PNG.be2141st%2F%25B9%25E8%25B3%25CA%25C0%25CC%25B9%25CC%25C1%25F6_%25C1%25A4%25BB%25E7%25B0%25A2%25C7%25FC.png%22&type=nf40_40&service=navermain\"}},\"showLiveBadge\":false,\"_id\":\"6441ca92c499cc07f334c58f\"},{\"@type\":\"MATERIAL-PC-FEED\",\"title\":\"상추겉절이 상추비빔밥 상추요리 남은상추 활용\",\"url\":\"https://in.naver.com/sjsmom/contents/internal/706087960891008\",\"image\":{\"url\":\"https://s.pstatic.net/dthumb.phinf/?src=%22http%3A%2F%2Fblogfiles.naver.net%2FMjAyNDA2MTdfMTcz%2FMDAxNzE4NjMzMjE2OTM5.zD5NYGyIc3lw-hlX896xPN-1am7-LbCafhGsNnr5mRgg.2La0BvHbxKeuUmRvJ2tfZ9E-xcwWRrhTgJQsL8pfv8Ig.JPEG%2FIMG_4647.JPG%22&type=nf308_200&service=navermain\"},\"source\":{\"url\":\"https://blog.naver.com/gtbaby35\",\"name\":\"소꽁\",\"image\":{\"url\":\"https://s.pstatic.net/dthumb.phinf/?src=%22http%3A%2F%2Fblogpfthumb.phinf.naver.net%2FMjAyMzEyMDZfMTQ5%2FMDAxNzAxODI5MDA1Mjk3.50f2rx0E9ShrEv_V84Cm2tvT5P4lM3V7Lwib63xSPNYg.i9qqhUM4odQRo4H0Zt-0O_kxH9NVbOKVwc1ufPbb8Gwg.JPEG.gtbaby35%2FIMG_4636.JPG%2FIMG_4636.JPG%22&type=nf40_40&service=navermain\"}},\"showLiveBadge\":false,\"_id\":\"6441ca92c499cc07f334c590\"},{\"@type\":\"MATERIAL-PC-FEED\",\"title\":\"나도했다 물없이오이지담그기 오이5개 오이지담그는법 레시피 5일만에 오이지무침 감동\",\"url\":\"https://in.naver.com/sundoong2/contents/internal/698008699260160\",\"image\":{\"url\":\"https://s.pstatic.net/dthumb.phinf/?src=%22http%3A%2F%2Fblogfiles.naver.net%2FMjAyNDA1MjZfMyAg%2FMDAxNzE2NzExMjg1OTg1.T67wq6zcY77IzMewfRJG6YfQVmIOMSy2wIkjIKfP3aMg.ZTiVagzOmVsdzDFtC3LcOd90F06gXuhlNm1pl_ZB_fsg.JPEG%2F%EC%88%9C%EB%91%A5%EC%9E%91%EA%B0%80_3894_%EB%AC%BC%EC%97%86%EC%9D%B4%EC%98%A4%EC%9D%B4%EC%A7%80%EB%A7%8C%EB%93%9C%EB%8A%94%EB%B2%95_%EC%98%A4%EC%9D%B45%EA%B0%9C_%EC%98%A4%EC%9D%B4%EC%A7%80%EB%8B%B4%EA%B7%B8%EA%B8%B0_%EC%98%A4%EC%9D%B4%EC%A7%80%EB%AC%B4%EC%B9%A8%EC%96%91%EB%85%90_%EB%A0%88%EC%8B%9C%ED%94%BC_%EC%98%A4%EC%9D%B4%EC%9A%94%EB%A6%AC.jpg%22&type=nf308_200&service=navermain\"},\"source\":{\"url\":\"https://blog.naver.com/sundoong2\",\"name\":\"순둥작가\",\"image\":{\"url\":\"https://s.pstatic.net/dthumb.phinf/?src=%22http%3A%2F%2Fblogpfthumb.phinf.naver.net%2FMjAyMDA1MzBfMjQ4%2FMDAxNTkwODQ1MDY4MDYz.-T5InVJFfB9gP9Pjl4RCPIJdUGNy4yrGD55GOpVtHe8g.nYroPrGgcZFQ68mojXV0QCOv7Ep_xC8jsLkiaJ0rFgYg.JPEG.sundoong2%2F%25BC%25F8%25B5%25D5%25C0%25DB%25B0%25A1.jpg%22&type=nf40_40&service=navermain\"}},\"showLiveBadge\":false,\"_id\":\"6441ca92c499cc07f334c591\"},{\"@type\":\"MATERIAL-PC-FEED\",\"title\":\"요즘 핫한 베이커리 리스트 ②\",\"url\":\"https://m.post.naver.com/viewer/postView.naver?volumeNo=37986984&memberNo=32549856&vType=VERTICAL\",\"image\":{\"url\":\"https://s.pstatic.net/dthumb.phinf/?src=%22https%3A%2F%2Fs.pstatic.net%2Fpost.phinf%2FMjAyNDA2MTNfMTU5%2FMDAxNzE4MjQxMjQ2NDAx.58o0xJ62U_OroFgyn0L8D0siVPNEZXjSVm8bKHEOX10g.uGHDyxF7w1uKTMI9FyhuRwotq30Mx9Ugtn-lc7MC4mgg.JPEG%2FIwmtxo38ED8gOzj3TtqagoGBkuOs.jpg%22&type=nf308_200&service=navermain\"},\"source\":{\"url\":\"https://m.post.naver.com/my.naver?memberNo=32549856\",\"name\":\"여성조선\",\"image\":{\"url\":\"https://s.pstatic.net/dthumb.phinf/?src=%22https%3A%2F%2Fs.pstatic.net%2Fpost.phinf%2FMjAyMjA4MjNfMTUw%2FMDAxNjYxMjI3NDg0NzM5.Pyzkk2-TFbxRUNuGOxtYgH9hR_d5r2y3cYsXpREjVfAg.0PHG1nqq6mni3rxZLHeEoLEAJA54oOZrU7CUm7ztlFgg.PNG%2Fpost_221768473864755104.png%3Ftype%3Df200_200%22&type=nf40_40&service=navermain\"}},\"showLiveBadge\":false,\"_id\":\"6441ca92c499cc07f334c592\"},{\"@type\":\"MATERIAL-PC-FEED\",\"title\":\"김치비빔국수 레시피 군침 도는 비빔국수 양념장 만들어 두고 먹어요\",\"url\":\"https://in.naver.com/theokh/contents/internal/702696357465024\",\"image\":{\"url\":\"https://s.pstatic.net/dthumb.phinf/?src=%22http%3A%2F%2Fblogfiles.naver.net%2FMjAyNDA2MDhfMTAy%2FMDAxNzE3NzczOTY5NjU3.rYrvXWLKFfC0MFtQihch7uSMz9teTlEqiwLR6uD4TfYg.kcUeKlKFzVXGoCbkBwdGqo6Usw4MX5pRI6z1Yb2cOgkg.JPEG%2Frlaql01.jpg%22&type=nf308_200&service=navermain\"},\"source\":{\"url\":\"https://blog.naver.com/theokh\",\"name\":\"소소쿡\",\"image\":{\"url\":\"https://s.pstatic.net/dthumb.phinf/?src=%22http%3A%2F%2Fblogpfthumb.phinf.naver.net%2FMjAyMzA2MjRfMjI2%2FMDAxNjg3NjEwMjc4MTE3.dyNvpCPNUIa12FK5uwduxyatelbmEy4uL1vEa_f5v9gg.78rXoW16H-eY3Q6cB6X-tdYP6fNgEknU4-jhgKaEJr4g.JPEG.theokh%2F4.JPEG%2F4.JPEG%22&type=nf40_40&service=navermain\"}},\"showLiveBadge\":false,\"_id\":\"6441ca92c499cc07f334c593\"},{\"@type\":\"MATERIAL-PC-FEED\",\"title\":\"감자삶는법 찌는 시간 온도 포슬포슬 단짠 간식\",\"url\":\"https://blog.naver.com/yjjujube/223477552228\",\"image\":{\"url\":\"https://s.pstatic.net/dthumb.phinf/?src=%22http%3A%2F%2Fblogfiles.naver.net%2FMjAyNDA2MTJfMTc0%2FMDAxNzE4MTg1MzQyODU1.NPvCAm2-eaIaxh1geyXbHT-Q7XcIwy9tg9rY4e6gDLwg.HzOpyaSKP457mbXlwWp6SaXs5tcrwGRIv2t9l-oDqAMg.JPEG%2F20240612_162340.jpg%22&type=nf308_200&service=navermain\"},\"source\":{\"url\":\"https://blog.naver.com/yjjujube\",\"name\":\"대추새댁\",\"image\":{\"url\":\"https://s.pstatic.net/dthumb.phinf/?src=%22http%3A%2F%2Fblogpfthumb.phinf.naver.net%2FMjAyMzEyMDZfMTYy%2FMDAxNzAxODUwODcwNTg2.Y2Un50gebDaXYsO689HfOf7Z0A23EgT64JBx0wSs7Owg.nhZUhZnOKXX9GXwADzvrY9QNho-obpsWeFzI5ha_ER4g.JPEG.yjjujube%2F20231024_161819.jpg%2F20231024_161819.jpg%22&type=nf40_40&service=navermain\"}},\"showLiveBadge\":false,\"_id\":\"6441ca92c499cc07f334c594\"},{\"@type\":\"MATERIAL-PC-FEED\",\"title\":\"입맛싹도는 홍쌍리 매실장아찌 만드는법 매실수확시기 만들기\",\"url\":\"https://blog.naver.com/chacha_404/223470979482\",\"image\":{\"url\":\"https://s.pstatic.net/dthumb.phinf/?src=%22http%3A%2F%2Fblogfiles.naver.net%2FMjAyNDA2MDZfNjUg%2FMDAxNzE3NjMwNzQ2NjAw.4yBGNvIJTGrqXPUJelkONCIiSDWAEI53qhYVZ1yKZYcg.Dxk01JrxJLuljWH4oTX1yzgbRl6Qghs9tx4IeACp5ucg.JPEG%2F139A8043.JPG%22&type=nf308_200&service=navermain\"},\"source\":{\"url\":\"https://blog.naver.com/chacha_404\",\"name\":\"듀꼰이\",\"image\":{\"url\":\"https://s.pstatic.net/dthumb.phinf/?src=%22http%3A%2F%2Fblogpfthumb.phinf.naver.net%2FMjAyNDAyMTNfODQg%2FMDAxNzA3ODI4NTg3ODA4.3T9h_GWup-alzD6Uyp_BF9nP365fDRGCmjVnTFoaUO4g.agdCoiGwDXbNnggApn5lZ4faRMBDBgFzjlSbA0uFjS4g.JPEG.jhhee1993%2F%25ED%2594%2584%25EB%25A1%259C%25ED%2595%2584_2.001.jpeg%2F%25E1%2584%2591%25E1%2585%25B3%25E1%2584%2585%25E1%2585%25A9%25E1%2584%2591%25E1%2585%25B5%25E1%2586%25AF%2B2.001.jpeg%22&type=nf40_40&service=navermain\"}},\"showLiveBadge\":false,\"_id\":\"6441ca92c499cc07f334c595\"}],\"excludeInPaging\":false,\"positionForPaging\":0,\"realtime\":false,\"_id\":null,\"@type\":\"BLOCK\",\"@code\":\"PC-FEED-RECIPE-AIRS-PERSONAL-RECOMMEND-1\",\"@template\":\"TWO-COLUMNS\",\"@flowId\":null,\"@flowExecutionId\":null,\"@provider\":null,\"@lastModifiedAt\":null},{\"@type\":\"PC-FEED-BLOCK\",\"materials\":[{\"@type\":\"MATERIAL-PC-FEED\",\"title\":\"밑반찬으로 딱! 맛있는 볶음요리\",\"url\":\"https://in.naver.com/pinkmay12/topic/704966169968672?cds=nm_pc_recipe\",\"image\":{\"url\":\"https://s.pstatic.net/dthumb.phinf/?src=%22https%3A%2F%2Finfluencer-phinf.pstatic.net%2FMjAyNDA2MDlfODkg%2FMDAxNzE3ODkzNTE4MTY4.IbNW9G7hJ0vzSp_ByHyuec5eZQK64syJWPTsLl9CDaAg._wRupxGDjGIaQRMLa67oWFmcZbXd2qIcurVQmV3dRO8g.PNG%2F3fc9.png%22&type=nf365_240&service=navermain\"},\"sourceCategory\":\"인플루언서\",\"source\":{\"name\":\"단호박\",\"image\":{\"url\":\"https://s.pstatic.net/dthumb.phinf/?src=%22https%3A%2F%2Finfluencer-phinf.pstatic.net%2FMjAyMDEwMDVfNDEg%2FMDAxNjAxODcxOTkxMDE3.BWVi4nL9fZhN9oNonOEpO69Z-gKeMWXYp7o8RBuAbU8g.BbvHMNbGQefU_H2ggWUQU27PlrrjfS0TGCJQH9lcCpQg.JPEG%2F20201005_131510.jpg%22&type=nf40_40&service=navermain\"}},\"labels\":[{\"type\":\"category\",\"text\":\"한식\"}],\"showLiveBadge\":false,\"_id\":\"6441ca92c499cc07f334c59a\"},{\"@type\":\"MATERIAL-PC-FEED\",\"title\":\"간단히 만들어 더 맛있게 먹는 주말요리 주말메뉴\",\"url\":\"https://in.naver.com/jeehsong/topic/705011181748288?cds=nm_pc_recipe\",\"image\":{\"url\":\"https://s.pstatic.net/dthumb.phinf/?src=%22https%3A%2F%2Finfluencer-phinf.pstatic.net%2FMjAyNDA2MTVfMjky%2FMDAxNzE4NDIxNjI3NTU0.PXSBgZADqTsPIayAy74oVYmrvuYYWU1oIWvpMhY-SP0g.ETfSQ788aA2P-5eqA0xHo3fJNuxfTXzfS-2bCFnCGRcg.PNG%2F8136.png%22&type=nf365_240&service=navermain\"},\"sourceCategory\":\"인플루언서\",\"source\":{\"name\":\"재미마미\",\"image\":{\"url\":\"https://s.pstatic.net/dthumb.phinf/?src=%22https%3A%2F%2Fblogpfthumb-phinf.pstatic.net%2F20121002_102%2Fjeehsong_1349146318195_9T1w96_jpg%2F11.jpg%22&type=nf40_40&service=navermain\"}},\"labels\":[{\"type\":\"category\",\"text\":\"한식\"}],\"showLiveBadge\":false,\"_id\":\"6441ca92c499cc07f334c59b\"},{\"@type\":\"MATERIAL-PC-FEED\",\"title\":\"다이어트 식단 건강하고 맛있게 챙겨요.\",\"url\":\"https://in.naver.com/misoo0612/topic/706196461777088?cds=nm_pc_recipe\",\"image\":{\"url\":\"https://s.pstatic.net/dthumb.phinf/?src=%22https%3A%2F%2Finfluencer-phinf.pstatic.net%2FMjAyNDA2MThfMjMx%2FMDAxNzE4NzExNTQyMjI5.Q2dI3X7WcNefp8TC4dtFXDVnV4fOCL16G-QA6MG3dNUg.9PmUipuqILxyIiNgIvkbAWnFBDmYdnN5-vp3SA7bm1kg.PNG%2Fc028.png%22&type=nf365_240&service=navermain\"},\"sourceCategory\":\"인플루언서\",\"source\":{\"name\":\"제이맘\",\"image\":{\"url\":\"https://s.pstatic.net/dthumb.phinf/?src=%22https%3A%2F%2Fphinf.pstatic.net%2Fcontact%2F20171017_256%2F1508233647630xw7AR_JPEG%2FIMG_9459.jpg%22&type=nf40_40&service=navermain\"}},\"labels\":[{\"type\":\"category\",\"text\":\"한식\"}],\"showLiveBadge\":false,\"_id\":\"6441ca92c499cc07f334c59c\"},{\"@type\":\"MATERIAL-PC-FEED\",\"title\":\"식감이 좋은 상추 활용 요리\",\"url\":\"https://in.naver.com/homehomestory/topic/705448778944608?cds=nm_pc_recipe\",\"image\":{\"url\":\"https://s.pstatic.net/dthumb.phinf/?src=%22https%3A%2F%2Finfluencer-phinf.pstatic.net%2FMjAyNDA2MTZfNjUg%2FMDAxNzE4NTI5MjU1Njkw.dZVPlZZbFbJdAMDU2RPIpm8YVFYYhNJpZEnp95yhUEcg.UzRXHkjQPUdOHYZilqYLcOLRqWp26AbUook1hDUfkO0g.PNG%2Fb7b6.png%22&type=nf365_240&service=navermain\"},\"sourceCategory\":\"인플루언서\",\"source\":{\"name\":\"홈홈스토리\",\"image\":{\"url\":\"https://s.pstatic.net/dthumb.phinf/?src=%22https%3A%2F%2Fphinf.pstatic.net%2Fcontact%2F20200707_70%2F1594098833069co7Kv_JPEG%2FprofileImage.jpg%22&type=nf40_40&service=navermain\"}},\"labels\":[{\"type\":\"category\",\"text\":\"한식\"}],\"showLiveBadge\":false,\"_id\":\"6441ca92c499cc07f334c59d\"},{\"@type\":\"MATERIAL-PC-FEED\",\"title\":\"담백한 식사대용 빵 만들기 3가지\",\"url\":\"https://in.naver.com/cookdase/topic/704356329840608?cds=nm_pc_recipe\",\"image\":{\"url\":\"https://s.pstatic.net/dthumb.phinf/?src=%22https%3A%2F%2Finfluencer-phinf.pstatic.net%2FMjAyNDA2MTNfMTI2%2FMDAxNzE4MjYyNzA5MDMw.9zK7Y9dflHcGXcm8G7ADbO6rzwH1eWq6b37uSqLw9yYg.g8rkzBPYUkkBM4vgWvy6nxIVpwUP4v3QBsXHQyjP4kcg.PNG%2Fb6e0.png%22&type=nf365_240&service=navermain\"},\"sourceCategory\":\"인플루언서\",\"source\":{\"name\":\"쿠크다스\",\"image\":{\"url\":\"https://s.pstatic.net/dthumb.phinf/?src=%22https%3A%2F%2Fhomebuilder-phinf.pstatic.net%2FMjAyMjEwMDdfMjk5%2FMDAxNjY1MTQ3MTU4OTM5.Gpb9R0XN5ay8uowi62jYmfo2GWTIY3O4F_GLaYWcci8g.bA5shpsc4-U5Fp-oYAL3Qx5aHFl0cKvzZrLUWgYNON4g.JPEG%2F1665147158918_KakaoTalk_20221007_173511176.jpg%22&type=nf40_40&service=navermain\"}},\"labels\":[{\"type\":\"category\",\"text\":\"안주/간식\"}],\"showLiveBadge\":false,\"_id\":\"6441ca92c499cc07f334c59e\"},{\"@type\":\"MATERIAL-PC-FEED\",\"title\":\"쯘득바삭! 감자전레시피 3가지\",\"url\":\"https://in.naver.com/dd1620/topic/706398441504960?cds=nm_pc_recipe\",\"image\":{\"url\":\"https://s.pstatic.net/dthumb.phinf/?src=%22https%3A%2F%2Finfluencer-phinf.pstatic.net%2FMjAyNDA2MTlfMjgx%2FMDAxNzE4NzYwNTYzMjE2.tL8oNqpYv-FKjHTcGQlvOfa_uozB-3PsGOTOAjf-RcAg.S54Km3Gt4dOHAcl9DTFE6Ou8PDSJEp0J5ufjsYePWUEg.PNG%2F1ded.png%22&type=nf365_240&service=navermain\"},\"sourceCategory\":\"인플루언서\",\"source\":{\"name\":\"달또네요리사\",\"image\":{\"url\":\"https://s.pstatic.net/dthumb.phinf/?src=%22https%3A%2F%2Fblogpfthumb-phinf.pstatic.net%2FMjAyMjA3MDhfNTMg%2FMDAxNjU3MjQyMDQxOTA0.ePUKGcfyY_w7iCf6qwy-bAtdhr0OPYzi6Txi0JAmfVUg.LKguSLGxq5237s2GOUqPKumeekVsbdCp1a_U7NcxU1kg.JPEG.dd1620%2FprofileImage.jpg%22&type=nf40_40&service=navermain\"}},\"labels\":[{\"type\":\"category\",\"text\":\"한식\"}],\"showLiveBadge\":false,\"_id\":\"6441ca92c499cc07f334c59f\"},{\"@type\":\"MATERIAL-PC-FEED\",\"title\":\"편스토랑 레시피 best 5\",\"url\":\"https://in.naver.com/manae86/topic/704358302490656?cds=nm_pc_recipe\",\"image\":{\"url\":\"https://s.pstatic.net/dthumb.phinf/?src=%22https%3A%2F%2Finfluencer-phinf.pstatic.net%2FMjAyNDA2MTNfNTAg%2FMDAxNzE4MjYyODU5MzUy.8Fz7uSo478dOH8qFP_GW5d7MmdvXcoEz_OrXd2rSHJEg.YP2w1qMDOhY746Xu1KU608wkKw4WJM1-TfThW-2LqH4g.PNG%2Fbb4a.png%22&type=nf365_240&service=navermain\"},\"sourceCategory\":\"인플루언서\",\"source\":{\"name\":\"동동마미\",\"image\":{\"url\":\"https://s.pstatic.net/dthumb.phinf/?src=%22https%3A%2F%2Fhomebuilder-phinf.pstatic.net%2FMjAyMjAzMjVfNzgg%2FMDAxNjQ4MTU0NTEzMzE4.hRR_DFhskbdbPcztFjh3jacslJpKcA9t-0ZBmX1S10Mg.pwC1J6xhoWWTSVjqdwYlNIFJsSRPr2tGPd8b9-bTRvcg.JPEG%2F1648154513297_KakaoTalk_20220325_053846127.jpg%22&type=nf40_40&service=navermain\"}},\"labels\":[{\"type\":\"category\",\"text\":\"한식\"}],\"showLiveBadge\":false,\"_id\":\"6441ca92c499cc07f334c5a0\"},{\"@type\":\"MATERIAL-PC-FEED\",\"title\":\"6월 제철반찬 best4\",\"url\":\"https://in.naver.com/kiyome24/topic/706409558208736?cds=nm_pc_recipe\",\"image\":{\"url\":\"https://s.pstatic.net/dthumb.phinf/?src=%22https%3A%2F%2Finfluencer-phinf.pstatic.net%2FMjAyNDA2MTlfMTEg%2FMDAxNzE4NzYzNjA1NzI5.zmfZUHxEIljjkyOPozNwzhKuCE4LHLovXFZYkIOTb0Eg.R5Uwi4wvivjsD2m8uGeYA8pO-vIaACK9OqsIOvDoi6sg.PNG%2Ff7cd.png%22&type=nf365_240&service=navermain\"},\"sourceCategory\":\"인플루언서\",\"source\":{\"name\":\"지율이\",\"image\":{\"url\":\"https://s.pstatic.net/dthumb.phinf/?src=%22https%3A%2F%2Fphinf.pstatic.net%2Fcontact%2F20190822_151%2F1566445451450EdlWd_JPEG%2F1495378689029.jpg%22&type=nf40_40&service=navermain\"}},\"labels\":[{\"type\":\"category\",\"text\":\"한식\"}],\"showLiveBadge\":false,\"_id\":\"6441ca92c499cc07f334c5a1\"},{\"@type\":\"MATERIAL-PC-FEED\",\"title\":\"갈비 좋아하세요? 비주얼부터 맛있는 소갈비찜 vs 소갈비수육\",\"url\":\"https://in.naver.com/elarpi/topic/706408887111840?cds=nm_pc_recipe\",\"image\":{\"url\":\"https://s.pstatic.net/dthumb.phinf/?src=%22https%3A%2F%2Finfluencer-phinf.pstatic.net%2FMjAyNDA2MTlfNDYg%2FMDAxNzE4NzYyNjI5NjY2.uEpNt7Z6AXOdD4xz10xB56p4MGlrpvsbE_RFx8_5jOIg.Dc_HQzcdD-qD3QvUEuPeLGSvo8rZSHU-o7zdRh54pr0g.PNG%2F1480.png%22&type=nf365_240&service=navermain\"},\"sourceCategory\":\"인플루언서\",\"source\":{\"name\":\"엘라피\",\"image\":{\"url\":\"https://s.pstatic.net/dthumb.phinf/?src=%22https%3A%2F%2Fblogpfthumb-phinf.pstatic.net%2FMjAyMjAxMDlfMTIw%2FMDAxNjQxNzI5NDU4MDkx.2X7LbSpodt5TFdfwJ2cxiA7wdryTJMpOoIAO7zQNrPQg.r5-NykWNgIEw-dDE8vnBLZeO_nqZkQi546A9figZ5h8g.JPEG.elarpi%2FprofileImage.jpg%22&type=nf40_40&service=navermain\"}},\"labels\":[{\"type\":\"category\",\"text\":\"한식\"}],\"showLiveBadge\":false,\"_id\":\"6441ca92c499cc07f334c5a2\"},{\"@type\":\"MATERIAL-PC-FEED\",\"title\":\"몸이 가벼워지는 다이어트 샐러드\",\"url\":\"https://in.naver.com/yoaram/topic/705511317815360?cds=nm_pc_recipe\",\"image\":{\"url\":\"https://s.pstatic.net/dthumb.phinf/?src=%22https%3A%2F%2Finfluencer-phinf.pstatic.net%2FMjAyNDA2MTZfMjIx%2FMDAxNzE4NTQzMzkzMzkx.uqE6EtzBGoY3-voTb3vwltfANL21K26R3csfuyrSs6Ag.4tx8HBRUeuOv-7ICn0-q8WgbcLTT6GAK2GGeIpfnkwsg.PNG%2F509d.png%22&type=nf365_240&service=navermain\"},\"sourceCategory\":\"인플루언서\",\"source\":{\"name\":\"아다미이모\",\"image\":{\"url\":\"https://s.pstatic.net/dthumb.phinf/?src=%22https%3A%2F%2Fhomebuilder-phinf.pstatic.net%2F%2FMjAyMTA5MThfMTMg%2FMDAxNjMxOTU0NDkyNTA5.EdHIKAxAi0fyeuE0lx5NwMkyeNELq1LP6jIPLCBlQ7Yg.kqZ2SWL_GBM619ym0nSIX0p6kqPZSgTTpA9-CN1tKrcg.JPEG%2F1631954492473_69BC9574-DEBD-4C1F-9B2F-53C62D357953.jpeg%22&type=nf40_40&service=navermain\"}},\"labels\":[{\"type\":\"category\",\"text\":\"이태리/양식\"}],\"showLiveBadge\":false,\"_id\":\"6441ca92c499cc07f334c5a3\"},{\"@type\":\"MATERIAL-PC-FEED\",\"title\":\"맛보장 배추 겉절이 김치 레시피 칼국수집 겉절이도 맛있어요\",\"url\":\"https://in.naver.com/sairapina63/topic/706400728576224?cds=nm_pc_recipe\",\"image\":{\"url\":\"https://s.pstatic.net/dthumb.phinf/?src=%22https%3A%2F%2Finfluencer-phinf.pstatic.net%2FMjAyNDA2MTlfMTg4%2FMDAxNzE4NzU4Mjk4MDI3.Tre_Mbkn49XyYSs8-NoJTdWKZcyO6v-H7aSz7wXGzOwg.OhKqewjhibflO1Sbv2WvRNc7u9kM1XWzGG2QvI1MwdQg.PNG%2Ff5c5.png%22&type=nf365_240&service=navermain\"},\"sourceCategory\":\"인플루언서\",\"source\":{\"name\":\"말똥엄마\",\"image\":{\"url\":\"https://s.pstatic.net/dthumb.phinf/?src=%22https%3A%2F%2Fblogpfthumb-phinf.pstatic.net%2FMjAyMDA3MThfNjAg%2FMDAxNTk1MDY1MTE1NDU4.7apk31EbWEc0abEB-0hka_MILD2MMyrs5K16Qca_p4og.3jd7kWm-qs4gtO7Lawl6SV-ccWW6iDeSiQzwT9AWuB4g.JPEG.sairapina63%2FIMG_9544.JPG%22&type=nf40_40&service=navermain\"}},\"labels\":[{\"type\":\"category\",\"text\":\"한식\"}],\"showLiveBadge\":false,\"_id\":\"6441ca92c499cc07f334c5a4\"},{\"@type\":\"MATERIAL-PC-FEED\",\"title\":\"한그릇 간단한 새우볶음밥 레시피\",\"url\":\"https://in.naver.com/happy4305/topic/704948006871136?cds=nm_pc_recipe\",\"image\":{\"url\":\"https://s.pstatic.net/dthumb.phinf/?src=%22https%3A%2F%2Finfluencer-phinf.pstatic.net%2FMjAyNDA2MTVfMjY0%2FMDAxNzE4NDA2OTg2MTE5.2U8akYGLriLIYuLcMYZJE_P0mmds8XSNFWmyufitHmYg.IPq6LogKAp6Xh74UXDfXwWisDPob8V1MfOUODWqiuusg.PNG%2F6e6f.png%22&type=nf365_240&service=navermain\"},\"sourceCategory\":\"인플루언서\",\"source\":{\"name\":\"쑨여사\",\"image\":{\"url\":\"https://s.pstatic.net/dthumb.phinf/?src=%22https%3A%2F%2Fblogpfthumb-phinf.pstatic.net%2FMjAyMjA5MTFfMjY0%2FMDAxNjYyODg5MTk3ODg0.WbAuaWZgP7FVdg8ntm3JGIuV9Ylf8Cvo_WU3BzL6qBIg.Z-L8J3MBwEgTfkfShbwEdR3J-xmIZL3rJ2ImqXK6OVQg.PNG.happy4305%2F%25EB%25AA%2585%25ED%2595%25A8.png%2F%25EB%25AA%2585%25ED%2595%25A8.png%22&type=nf40_40&service=navermain\"}},\"labels\":[{\"type\":\"category\",\"text\":\"한식\"}],\"showLiveBadge\":false,\"_id\":\"6441ca92c499cc07f334c5a5\"},{\"@type\":\"MATERIAL-PC-FEED\",\"title\":\"감자요리 감자채볶음 감자볶음 만드는법 감자샐러드 모닝빵\",\"url\":\"https://in.naver.com/kkury6825/topic/704768975622112?cds=nm_pc_recipe\",\"image\":{\"url\":\"https://s.pstatic.net/dthumb.phinf/?src=%22https%3A%2F%2Finfluencer-phinf.pstatic.net%2FMjAyNDA2MTRfMjMx%2FMDAxNzE4MzYzNDI2MDU1.415-pvfUHsspaQaCyOqm57ygfVv2-YXDSSut72ShaHkg.P6z5PnD58M3xVh9RoE6IYsCEhYkesGEQnB1p0-6jK44g.PNG%2Fd1c4.png%22&type=nf365_240&service=navermain\"},\"sourceCategory\":\"인플루언서\",\"source\":{\"name\":\"꾸리댁\",\"image\":{\"url\":\"https://s.pstatic.net/dthumb.phinf/?src=%22https%3A%2F%2Fblogpfthumb-phinf.pstatic.net%2FMjAyMDAyMTJfMTY1%2FMDAxNTgxNDk1MzUxODcy.m4vdD5pUp7E05fFavpO7XjiYBYxEglihTCQxSyDSBfkg.bULEwDzRyjiotEoBlIpMywWwVt5xkYz9zrnOLJYSMrkg.JPEG.kkury6825%2FprofileImage.jpg%22&type=nf40_40&service=navermain\"}},\"labels\":[{\"type\":\"category\",\"text\":\"한식\"}],\"showLiveBadge\":false,\"_id\":\"654ad80598c6dbca70ba6c5c\"},{\"@type\":\"MATERIAL-PC-FEED\",\"title\":\"누구나 좋아하는 스팸요리 레시피 TOP5\",\"url\":\"https://in.naver.com/kies84/topic/704823078502432?cds=nm_pc_recipe\",\"image\":{\"url\":\"https://s.pstatic.net/dthumb.phinf/?src=%22https%3A%2F%2Finfluencer-phinf.pstatic.net%2FMjAyNDA2MTRfMzcg%2FMDAxNzE4Mzc2NDEzMzIw.oGcsnQhWPbRDoGgT2dGX9Dh80er1deBqQmfj_X2KUN8g.nkv0abSfnCW6xZ-Xmbynswl-3KlP5Bwl1rEx0rPWcrcg.PNG%2Fe7b0.png%22&type=nf365_240&service=navermain\"},\"sourceCategory\":\"인플루언서\",\"source\":{\"name\":\"초대리\",\"image\":{\"url\":\"https://s.pstatic.net/dthumb.phinf/?src=%22https%3A%2F%2Fblogpfthumb-phinf.pstatic.net%2F20151118_91%2Fkies84_1447826769906Cp9pH_JPEG%2Fttt.jpg%22&type=nf40_40&service=navermain\"}},\"labels\":[{\"type\":\"category\",\"text\":\"한식\"}],\"showLiveBadge\":false,\"_id\":\"654ad80598c6dbca70ba6c5d\"},{\"@type\":\"MATERIAL-PC-FEED\",\"title\":\"간단요리 주먹밥 만들기\",\"url\":\"https://in.naver.com/year0321/topic/705436309569568?cds=nm_pc_recipe\",\"image\":{\"url\":\"https://s.pstatic.net/dthumb.phinf/?src=%22https%3A%2F%2Finfluencer-phinf.pstatic.net%2FMjAyNDA2MTZfMjY0%2FMDAxNzE4NTI2MTUyNjk1.Yh9G-0Al_im0oUfKdu6T2wFsFlAel06wzkuUbk7WYKcg.l4clAtBNwTFWsJH699qH0oAbAUVdIdDz_otu_avH9M4g.PNG%2F43a0.png%22&type=nf365_240&service=navermain\"},\"sourceCategory\":\"인플루언서\",\"source\":{\"name\":\"일편단심\",\"image\":{\"url\":\"https://s.pstatic.net/dthumb.phinf/?src=%22https%3A%2F%2Fhomebuilder-phinf.pstatic.net%2FMjAyMzAyMjJfMzUg%2FMDAxNjc3MDIzMDQ2NjIw.7DLjWZ1W1_VBsyOX7vVpWvs1lf-F93q_Y7F_zYd_tgsg.YO3UkoiK2IEwmbkjAzJyg9t3I5n7LgCUAQCWJ19dXm0g.JPEG%2F1677023046585_%25EA%25B3%25A0%25EB%259E%2598%25EB%25B6%2588%25EA%25B5%25AD%25EB%25AF%25BC%25EC%2595%25BC%25EC%2598%2581%25EC%259E%25A525.jpg%22&type=nf40_40&service=navermain\"}},\"labels\":[{\"type\":\"category\",\"text\":\"한식\"}],\"showLiveBadge\":false,\"_id\":\"654ad80598c6dbca70ba6c5e\"},{\"@type\":\"MATERIAL-PC-FEED\",\"title\":\"가정식 반찬 달걀말이 만들기 3\",\"url\":\"https://in.naver.com/firehouse79/topic/705697281232928?cds=nm_pc_recipe\",\"image\":{\"url\":\"https://s.pstatic.net/dthumb.phinf/?src=%22https%3A%2F%2Finfluencer-phinf.pstatic.net%2FMjAyNDA1MzFfMTUz%2FMDAxNzE3MTI0NTExNTk2.OD8DpDUbyHXGuWQcshX7EXwoFjv9fDl7XDwlopuXb_Eg.fOmXmp3tc-kJWbEHTrGgDNrF7b9CG93UYfrYES3fwNwg.PNG%2Fd9cd.png%22&type=nf365_240&service=navermain\"},\"sourceCategory\":\"인플루언서\",\"source\":{\"name\":\"반이짝이\",\"image\":{\"url\":\"https://s.pstatic.net/dthumb.phinf/?src=%22https%3A%2F%2Finfluencer-phinf.pstatic.net%2FMjAyMDA1MjFfMjU0%2FMDAxNTkwMDI5MjQwNjcw.c3N1uNIc1M2rWmRUIhn7rMWBrUv3Le45Wj14ALiIe1Ig.gA6Y2v92YuaSmkHpPfHj9bxYFANrWQ9t5QzWDa7zSVIg.JPEG%2F%25EC%25A3%25BC%25EC%2584%259D_2020-05-21_114636.jpg%22&type=nf40_40&service=navermain\"}},\"labels\":[{\"type\":\"category\",\"text\":\"한식\"}],\"showLiveBadge\":false,\"_id\":\"654ad80598c6dbca70ba6c5f\"},{\"@type\":\"MATERIAL-PC-FEED\",\"title\":\"지금 젤 맛있어!시원한 오이요리 레시피BEST\",\"url\":\"https://in.naver.com/heeri1212/topic/706098734301440?cds=nm_pc_recipe\",\"image\":{\"url\":\"https://s.pstatic.net/dthumb.phinf/?src=%22https%3A%2F%2Finfluencer-phinf.pstatic.net%2FMjAyNDA2MThfNTAg%2FMDAxNzE4Njg2ODE2NjY2.-GLZccJi6f7E6ZG-k_qWh2Q46ahv5gHBEE2iLefR99wg.4lZL_5boyT8dBsSxGJiL02l1rvi75IflpAdu3QTiYYcg.PNG%2F5d7d.png%22&type=nf365_240&service=navermain\"},\"sourceCategory\":\"인플루언서\",\"source\":{\"name\":\"직설언니\",\"image\":{\"url\":\"https://s.pstatic.net/dthumb.phinf/?src=%22https%3A%2F%2Fhomebuilder-phinf.pstatic.net%2FMjAyMzA4MjRfMjYx%2FMDAxNjkyODAzNzk0Njgz.MaK52oCuiN_gRhTLrhHTUsjuCeim_6VVDVYGZjiAlSsg.jz038FLj8xq7xbCkBwMbnvz9tHD_c2nyv2kFjvTAb0cg.JPEG%2F1692803794622_BeautyPlus_20230823214129263_save.jpg%22&type=nf40_40&service=navermain\"}},\"labels\":[{\"type\":\"category\",\"text\":\"한식\"}],\"showLiveBadge\":false,\"_id\":\"654ad80598c6dbca70ba6c60\"},{\"@type\":\"MATERIAL-PC-FEED\",\"title\":\"두반장 없어도 맛있는 마파두부덮밥! 저녁메뉴 추천!\",\"url\":\"https://in.naver.com/sundoong2/topic/706354520125632?cds=nm_pc_recipe\",\"image\":{\"url\":\"https://s.pstatic.net/dthumb.phinf/?src=%22https%3A%2F%2Finfluencer-phinf.pstatic.net%2FMjAyNDA2MTlfMTEx%2FMDAxNzE4NzUwNDUxNjYw.zoO_WAe9ys5JNdH1_Uvycy1i2TdSA6QUO_iJ4S81DDog.hseBwPbf5xIiIWrB6RC4MnlVaxlKTpyeG83O_akOG1Qg.PNG%2Ff8e2.png%22&type=nf365_240&service=navermain\"},\"sourceCategory\":\"인플루언서\",\"source\":{\"name\":\"순둥작가\",\"image\":{\"url\":\"https://s.pstatic.net/dthumb.phinf/?src=%22https%3A%2F%2Fblogpfthumb-phinf.pstatic.net%2FMjAyMDA1MzBfMjQ4%2FMDAxNTkwODQ1MDY4MDYz.-T5InVJFfB9gP9Pjl4RCPIJdUGNy4yrGD55GOpVtHe8g.nYroPrGgcZFQ68mojXV0QCOv7Ep_xC8jsLkiaJ0rFgYg.JPEG.sundoong2%2F%25BC%25F8%25B5%25D5%25C0%25DB%25B0%25A1.jpg%22&type=nf40_40&service=navermain\"}},\"labels\":[{\"type\":\"category\",\"text\":\"한식\"}],\"showLiveBadge\":false,\"_id\":\"654ad80598c6dbca70ba6c61\"},{\"@type\":\"MATERIAL-PC-FEED\",\"title\":\"여름철에 딱! 상큼한 초무침 반찬들\",\"url\":\"https://in.naver.com/yoaram/topic/705154944896992?cds=nm_pc_recipe\",\"image\":{\"url\":\"https://s.pstatic.net/dthumb.phinf/?src=%22https%3A%2F%2Finfluencer-phinf.pstatic.net%2FMjAyNDA2MTVfMzkg%2FMDAxNzE4NDU0MzExNDkx.odLLZBa1LEnrzENBj18iDy2Z3MufcmOJMUYhrhdCJEkg.pBLqkQd1DzsdSdZ57czzRe8H71D4Fzzz3LFgEnMUkeQg.PNG%2Fb6cd.png%22&type=nf365_240&service=navermain\"},\"sourceCategory\":\"인플루언서\",\"source\":{\"name\":\"아다미이모\",\"image\":{\"url\":\"https://s.pstatic.net/dthumb.phinf/?src=%22https%3A%2F%2Fhomebuilder-phinf.pstatic.net%2F%2FMjAyMTA5MThfMTMg%2FMDAxNjMxOTU0NDkyNTA5.EdHIKAxAi0fyeuE0lx5NwMkyeNELq1LP6jIPLCBlQ7Yg.kqZ2SWL_GBM619ym0nSIX0p6kqPZSgTTpA9-CN1tKrcg.JPEG%2F1631954492473_69BC9574-DEBD-4C1F-9B2F-53C62D357953.jpeg%22&type=nf40_40&service=navermain\"}},\"labels\":[{\"type\":\"category\",\"text\":\"한식\"}],\"showLiveBadge\":false,\"_id\":\"654ad80598c6dbca70ba6c62\"},{\"@type\":\"MATERIAL-PC-FEED\",\"title\":\"한그릇음식 영양밥짓기\",\"url\":\"https://in.naver.com/j-nliving/topic/705007251435584?cds=nm_pc_recipe\",\"image\":{\"url\":\"https://s.pstatic.net/dthumb.phinf/?src=%22https%3A%2F%2Finfluencer-phinf.pstatic.net%2FMjAyNDA2MTVfNDMg%2FMDAxNzE4NDIxMTQ2MTQx.8VNkZjjV6OSjTSyrwlJpJNAt0EQLYdZyqJUEykfkaZ8g.w-OM8zdwyNwiBLjdTHI6R9nXTr1looZO-Qg-rQ-wUGIg.PNG%2Ff79c.png%22&type=nf365_240&service=navermain\"},\"sourceCategory\":\"인플루언서\",\"source\":{\"name\":\"ariel1007\",\"image\":{\"url\":\"https://s.pstatic.net/dthumb.phinf/?src=%22https%3A%2F%2Finfluencer-phinf.pstatic.net%2FMjAyMDAyMTJfNjIg%2FMDAxNTgxNDkxNzcyODgx.DdFLuu_C4ix-RMeti26QLkNMrM9xa6lm6w-qr_zUKEgg.Cn5LkWY09r9tBivEUNTFyD1HI7BylAcY_g3xEZd4poUg.JPEG%2FIMG_20200209_135954_286.jpg%22&type=nf40_40&service=navermain\"}},\"labels\":[{\"type\":\"category\",\"text\":\"한식\"}],\"showLiveBadge\":false,\"_id\":\"654ad80598c6dbca70ba6c63\"}],\"excludeInPaging\":false,\"positionForPaging\":0,\"realtime\":false,\"title\":\"오늘의 푸드 토픽\",\"needCologger\":false,\"ad\":false,\"@type\":\"PC-FEED-BLOCK\",\"@code\":\"PC-FEED-RECIPE-INFLUENCER-FOOD-TOPIC\",\"@template\":\"FOUR-COLUMNS\"},{\"@type\":\"PC-FEED-BLOCK\",\"materials\":[{\"@type\":\"MATERIAL-PC-FEED\",\"title\":\"백종원 치킨마요덮밥 만들기 치킨마요 소스\",\"url\":\"https://in.naver.com/kitchen/contents/internal/703965572533312\",\"image\":{\"url\":\"https://s.pstatic.net/dthumb.phinf/?src=%22http%3A%2F%2Fblogfiles.naver.net%2FMjAyNDA2MTJfMjM2%2FMDAxNzE4MTIzMzYwOTUy.-xQSSj9ol3xdjHb5NeaRwzu3_V-455kRZdVBzfSpcGkg.yyglCTcL2Rid0IBNhzo7VQHUMaOPGq_DGbA_Fh7Dq90g.JPEG%2F8S1A8709.JPG%22&type=nf308_200&service=navermain\"},\"source\":{\"url\":\"https://blog.naver.com/ssuujin\",\"name\":\"라비키친\",\"image\":{\"url\":\"https://s.pstatic.net/dthumb.phinf/?src=%22http%3A%2F%2Fblogpfthumb.phinf.naver.net%2FMjAyMDAzMDFfMTcy%2FMDAxNTgzMDAwMjkxMjA2.3zNskLnnDZUMy88i3X0kqa4SiBC0wIQH8SwustCcOpog.UGsYHcjvyuGCN24OFQvHXevShLd11m8bQcjFZsK6OB0g.PNG.ssuujin%2F%25B6%25F3%25BA%25F1%25C5%25B0%25C4%25A3_1%2B%25281%2529.png%22&type=nf40_40&service=navermain\"}},\"showLiveBadge\":false,\"_id\":\"6441ca92c499cc07f334c5a6\"},{\"@type\":\"MATERIAL-PC-FEED\",\"title\":\"오이지무침 만드는 법 오이지무침 레시피 여름반찬 종류\",\"url\":\"https://in.naver.com/jh2y3/contents/internal/705653638253344\",\"image\":{\"url\":\"https://s.pstatic.net/dthumb.phinf/?src=%22http%3A%2F%2Fblogfiles.naver.net%2FMjAyNDA2MTdfMTMz%2FMDAxNzE4NTczNzk3Njc5.SVq48jMrcoranKS23na49JK9wpLi86fyFXjn43mbSbgg.qnzB6VSTVFOQEcqsGr3qKl45r7NKgxj9x0qlFUdPunwg.JPEG%2F%EC%98%A4%EC%9D%B4%EC%A7%80%EB%AC%B4%EC%B9%A8_%2824%29.jpg%22&type=nf308_200&service=navermain\"},\"source\":{\"url\":\"https://blog.naver.com/jh2y3\",\"name\":\"팬이맘\",\"image\":{\"url\":\"https://s.pstatic.net/dthumb.phinf/?src=%22http%3A%2F%2Fblogpfthumb.phinf.naver.net%2F20211004_156%2Fjh2y3_1633296793402CwLCY_JPEG%2Fimage.jpg%22&type=nf40_40&service=navermain\"}},\"showLiveBadge\":false,\"_id\":\"6441ca92c499cc07f334c5a7\"},{\"@type\":\"MATERIAL-PC-FEED\",\"title\":\"깻순 깻잎순 나물 볶음 깻단 볶음 요리\",\"url\":\"https://in.naver.com/forest0405/contents/internal/703645463326016\",\"image\":{\"url\":\"https://s.pstatic.net/dthumb.phinf/?src=%22http%3A%2F%2Fblogfiles.naver.net%2FMjAyNDA2MTFfOTUg%2FMDAxNzE4MDg1NDM5Nzgx.YI3jnxHthbnBUqumGx-ns6CspjY7k5DtVfaZQL-8Lv8g.UToFHJHJzCcwlSuc_KamLyC_HbrixGDh_KdA_rZ8raAg.JPEG%2F20240610%EF%BC%BF165856.jpg%22&type=nf308_200&service=navermain\"},\"source\":{\"url\":\"https://blog.naver.com/jhj6972\",\"name\":\"숲 집밥\",\"image\":{\"url\":\"https://s.pstatic.net/dthumb.phinf/?src=%22http%3A%2F%2Fblogpfthumb.phinf.naver.net%2FMjAyNDA0MThfNjMg%2FMDAxNzEzNDM3MjUwMTI2.qLxXqpnKkiovzdp05Zus5O_DpOuqhHB7aiY3aaYHxlAg.TDSx5YvvAKx_RKYApPTxpI_ZQ6nQKdAs55RdPNMJ5Q0g.JPEG%2FprofileImage.jpg%22&type=nf40_40&service=navermain\"}},\"showLiveBadge\":false,\"_id\":\"6441ca92c499cc07f334c5a8\"},{\"@type\":\"MATERIAL-PC-FEED\",\"title\":\"깻잎순무침 깻잎순 요리 깻순 나물 무침\",\"url\":\"https://in.naver.com/museok27/contents/internal/701266428702336\",\"image\":{\"url\":\"https://s.pstatic.net/dthumb.phinf/?src=%22http%3A%2F%2Fblogfiles.naver.net%2FMjAyNDA2MDRfMjM4%2FMDAxNzE3NTAyNzI3NTg0.l6iww0dzcoYC0NseIKToUn3tS4ZRTXK1mURY4XNajMgg.8eHpoAiZkP0_aZsFaHKNJehbS2VOMgnXdZwyKCw2dygg.JPEG%2F5K7A5112.JPG%22&type=nf308_200&service=navermain\"},\"source\":{\"url\":\"https://blog.naver.com/museok27\",\"name\":\"해피샐러드\",\"image\":{\"url\":\"https://s.pstatic.net/dthumb.phinf/?src=%22http%3A%2F%2Fblogpfthumb.phinf.naver.net%2F20120407_275%2Fmuseok27_1333773871271_icm89f_jpg%2F%ED%94%84%EB%A1%9C%ED%95%84.jpg%22&type=nf40_40&service=navermain\"}},\"showLiveBadge\":false,\"_id\":\"6441ca92c499cc07f334c5a9\"},{\"@type\":\"MATERIAL-PC-FEED\",\"title\":\"마카로니샐러드 만들기 마카로니 삶기 마카로니 콘샐러드 만들기 요리\",\"url\":\"https://in.naver.com/limeshampoo/contents/internal/689425819972928\",\"image\":{\"url\":\"https://s.pstatic.net/dthumb.phinf/?src=%22http%3A%2F%2Fblogfiles.naver.net%2FMjAyNDA1MDFfMTE3%2FMDAxNzE0NTY5ODA5ODE2.-xktcYMAEzW_KFhG8Or28l2QlzW-nq-9Z6PSmbyvV9Ag.SUh6EjUdteu4YuEHtbpLUXVC1h4PJuKtHZbZkQq3Yd0g.JPEG%2F1W8A7917.JPG%22&type=nf308_200&service=navermain\"},\"source\":{\"url\":\"https://blog.naver.com/limeshampoo\",\"name\":\"라임샴푸\",\"image\":{\"url\":\"https://s.pstatic.net/dthumb.phinf/?src=%22http%3A%2F%2Fblogpfthumb.phinf.naver.net%2FMjAyMDA0MTlfMjAy%2FMDAxNTg3MjU1MDM4MDA1.6BLFcButv2oAveGAtTRaXCF4YJ4JI8q8f79jaecP4z8g.heHllCt0NEl5zqy6002CkZDg6qcShCcgJEOXEewMg5og.PNG.limeshampoo%2FprofileImage.png%22&type=nf40_40&service=navermain\"}},\"showLiveBadge\":false,\"_id\":\"6441ca92c499cc07f334c5aa\"},{\"@type\":\"MATERIAL-PC-FEED\",\"title\":\"두부강정 만드는 법 두부강정 소스 만들기\",\"url\":\"https://in.naver.com/daldal_naettee/contents/internal/695584269356416\",\"image\":{\"url\":\"https://s.pstatic.net/dthumb.phinf/?src=%22http%3A%2F%2Fblogfiles.naver.net%2FMjAyNDA1MTlfMjIy%2FMDAxNzE2MDQ4Njg3NTQw.8CO6dfAgnp5nJOqjJYRAMGsXzUZH-ar0T51rHNkA8CYg.rgwpqQwp-BHhpke3XFEd7texaox8bTaoVuqr6Oocvwcg.JPEG%2F0-022.JPG%22&type=nf308_200&service=navermain\"},\"source\":{\"url\":\"https://blog.naver.com/naettee\",\"name\":\"달달한네뜨\",\"image\":{\"url\":\"https://s.pstatic.net/dthumb.phinf/?src=%22http%3A%2F%2Fblogpfthumb.phinf.naver.net%2F20200723_71%2Fnaettee_1595514162920c7aOK_JPEG%2Fimage.jpg%22&type=nf40_40&service=navermain\"}},\"showLiveBadge\":false,\"_id\":\"6441ca92c499cc07f334c5ab\"},{\"@type\":\"MATERIAL-PC-FEED\",\"title\":\"연어덮밥 소스 만들기 사케동 레시피 생연어 요리\",\"url\":\"https://in.naver.com/kimhy004/contents/internal/696179154132288\",\"image\":{\"url\":\"https://s.pstatic.net/dthumb.phinf/?src=%22http%3A%2F%2Fblogfiles.naver.net%2FMjAyNDA1MjFfMTY2%2FMDAxNzE2MjY1MDg2MzQ0.Ef0XIygHj1FBLp_9kNVUgGwOQFGRxwBviTJTixQue_4g.ME--yb8UUm8I75nLHOIyw1oD_sDY15ph-UPJ5on5ZHwg.PNG%2FDSCF7772.png%22&type=nf308_200&service=navermain\"},\"source\":{\"url\":\"https://blog.naver.com/kimhy004\",\"name\":\"들꽃향기\",\"image\":{\"url\":\"https://s.pstatic.net/dthumb.phinf/?src=%22http%3A%2F%2Fblogpfthumb.phinf.naver.net%2FMjAyMTAyMjhfOTkg%2FMDAxNjE0NDk5NTcyNDk2._ES4AtEAN48PEwXn0Zb8GBiLOY9Npx3HG0cOTnxk3m0g.StPfXxcFKN_KsKLXu_FAYUIR3NY3rwjeanSckXHTcuQg.JPEG.kimhy004%2Fbeauty_16%252816%2529_6.jpg%22&type=nf40_40&service=navermain\"}},\"showLiveBadge\":false,\"_id\":\"6441ca92c499cc07f334c5ac\"},{\"@type\":\"MATERIAL-PC-FEED\",\"title\":\"집에서 연어회 소금식초숙성 트레이더스 연어필렛 손질 다시마숙성 생연어요리\",\"url\":\"https://in.naver.com/hitomi1228/contents/internal/680379575313152\",\"image\":{\"url\":\"https://s.pstatic.net/dthumb.phinf/?src=%22http%3A%2F%2Fblogfiles.naver.net%2FMjAyNDA0MDZfNjAg%2FMDAxNzEyNDA2MDM0MTcx.-xfkdnpJvfqHiDv71jenHr37mNPf9-Tz3FGEX7x9_V8g.C_oR7kOC2e3WUigMgRCKTCjD0_smhuQpDKzrDLWYBfEg.JPEG%2FIMG_2494.JPG%22&type=nf308_200&service=navermain\"},\"source\":{\"url\":\"https://blog.naver.com/hitomi1228\",\"name\":\"스위트카렌\",\"image\":{\"url\":\"https://s.pstatic.net/dthumb.phinf/?src=%22http%3A%2F%2Fblogpfthumb.phinf.naver.net%2FMjAxODA5MjBfMTAg%2FMDAxNTM3Mzk5NzE2OTE2.YVPFHRfrSgzFEpkSX7qlaqCpAx-Di9SmwYMpxdqxDQsg.S9sMoySjwB7n9TsJwwyQfs_-KGZlKFw_uJ3s8uy9nMYg.JPEG.hitomi1228%2FTV%25B9%25E8%25B3%25CA2.jpg%22&type=nf40_40&service=navermain\"}},\"showLiveBadge\":false,\"_id\":\"6441ca92c499cc07f334c5ad\"}],\"excludeInPaging\":false,\"positionForPaging\":0,\"realtime\":false,\"needCologger\":false,\"ad\":false,\"@type\":\"PC-FEED-BLOCK\",\"@code\":\"PC-FEED-RECIPE-INGREDIENTS-TAG\",\"@template\":\"TWO-COLUMNS\"},{\"@type\":\"PC-FEED-BLOCK\",\"materials\":[{\"@type\":\"MATERIAL-PC-FEED\",\"title\":\"당신은 어떤 커피 취향을 가졌나요?\",\"url\":\"https://m.post.naver.com/viewer/postView.naver?volumeNo=37973131&memberNo=49067361\",\"image\":{\"url\":\"https://s.pstatic.net/dthumb.phinf/?src=%22https%3A%2F%2Fs.pstatic.net%2Fstatic%2Fwww%2Fmobile%2Fedit%2F20240614_1095%2Fupload_171834418754558N9q.JPEG%22&type=nf365_240&service=navermain\"},\"source\":{\"name\":\"MONTZINE 몽진\",\"service\":\"POST\",\"image\":{\"url\":\"https://s.pstatic.net/dthumb.phinf/?src=%22https%3A%2F%2Fpost-phinf.pstatic.net%2FMjAyMzEwMTBfMjE5%2FMDAxNjk2ODk2OTI0MjUz.-2DnbksfQfmjd9OtJSBc5pxqgwLxjlUUD2w4BgsA1cAg.B5UPrxBYmflHxqwQLXzqiNt0Mb6x_bXE_RACOUCGOEEg.JPEG%2FMONTZINE_SNS.jpg%3Ftype%3Df120_120%22&type=nf40_40&service=navermain\"}},\"showLiveBadge\":false,\"_id\":\"6441ca92c499cc07f334c5ae\"},{\"@type\":\"MATERIAL-PC-FEED\",\"title\":\"고즈넉한 골목 속 다채로운 서촌 맛집 7\",\"url\":\"https://m.post.naver.com/viewer/postView.naver?volumeNo=37968785&memberNo=30298297\",\"image\":{\"url\":\"https://s.pstatic.net/dthumb.phinf/?src=%22https%3A%2F%2Fs.pstatic.net%2Fstatic%2Fwww%2Fmobile%2Fedit%2F20240618_1095%2Fupload_1718701737541FTFGP.JPEG%22&type=nf365_240&service=navermain\"},\"source\":{\"name\":\"부자비즈\",\"service\":\"POST\",\"image\":{\"url\":\"https://s.pstatic.net/dthumb.phinf/?src=%22https%3A%2F%2Fpost-phinf.pstatic.net%2FMjAyMzA5MDVfNzEg%2FMDAxNjkzOTE1MDE5MTI0.DrI5eDXfzpNuR4jn2fNwpBtAXROaDUamFYb0qt8og-gg.S5vf3UiUR8q9iGuYAhj33szdshxgvrDjBfplbuJA_j4g.PNG%2Fpost_5798787807966001971.png%3Ftype%3Df120_120%22&type=nf40_40&service=navermain\"}},\"showLiveBadge\":false,\"_id\":\"6441ca92c499cc07f334c5af\"},{\"@type\":\"MATERIAL-PC-FEED\",\"title\":\"예쁘고 이색적인 비주얼, 올여름 신상 빙수 \",\"url\":\"https://m.post.naver.com/viewer/postView.naver?volumeNo=37969639&memberNo=29742322\",\"image\":{\"url\":\"https://s.pstatic.net/dthumb.phinf/?src=%22https%3A%2F%2Fs.pstatic.net%2Fstatic%2Fwww%2Fmobile%2Fedit%2F20240614_1095%2Fupload_1718354685778LQyqG.JPEG%22&type=nf365_240&service=navermain\"},\"source\":{\"name\":\"여성동아\",\"service\":\"POST\",\"image\":{\"url\":\"https://s.pstatic.net/dthumb.phinf/?src=%22https%3A%2F%2Fpost-phinf.pstatic.net%2FMjAyMzAzMzBfMjgy%2FMDAxNjgwMTUxMTc3NTI2.ctHXAeaWdmSKihpT0ccK5TVQVTrEqMP9GoAFwdEgpagg.iwynEWJVxDLkdSUT8z3JGDobondragSFH8JFdAo8agIg.JPEG%2Fpost_8243532104454418091.jpeg%3Ftype%3Df120_120%22&type=nf40_40&service=navermain\"}},\"showLiveBadge\":false,\"_id\":\"6441ca92c499cc07f334c5b0\"},{\"@type\":\"MATERIAL-PC-FEED\",\"title\":\"호기심을 부르는 서울 4대 포차 거리 취재기\",\"url\":\"https://m.post.naver.com/viewer/postView.naver?volumeNo=37932329&memberNo=25516952\",\"image\":{\"url\":\"https://s.pstatic.net/dthumb.phinf/?src=%22https%3A%2F%2Fs.pstatic.net%2Fstatic%2Fwww%2Fmobile%2Fedit%2F20240613_1095%2Fupload_1718258912692ynug1.JPEG%22&type=nf365_240&service=navermain\"},\"source\":{\"name\":\"리빙센스\",\"service\":\"POST\",\"image\":{\"url\":\"https://s.pstatic.net/dthumb.phinf/?src=%22https%3A%2F%2Fpost-phinf.pstatic.net%2FMjAyMzA1MDRfMTgg%2FMDAxNjgzMTY0NjQzNjA3.hn_QLSgkkOqNZ4DymR-35JlJOLp5oPPmMW55WjxhdIog.KMnTSrqHWla_doBsRoo9pi0aBTK9R0aIA_GyEy3EOfgg.PNG%2Fpost_7555182757111537208.png%3Ftype%3Df120_120%22&type=nf40_40&service=navermain\"}},\"showLiveBadge\":false,\"_id\":\"6441ca92c499cc07f334c5b1\"}],\"excludeInPaging\":false,\"positionForPaging\":0,\"realtime\":false,\"title\":\"푸드스토리\",\"needCologger\":false,\"ad\":false,\"@type\":\"PC-FEED-BLOCK\",\"@code\":\"PC-FEED-RECIPE-FOOD-STORY\",\"@template\":\"FOUR-COLUMNS\"}],\"materials\":null,\"excludeInPaging\":false,\"positionForPaging\":0,\"realtime\":false,\"_id\":null,\"@type\":\"BLOCK\",\"@code\":\"PC-FEED-RECIPE\",\"@template\":\"NONE\",\"@flowId\":null,\"@flowExecutionId\":null,\"@provider\":null,\"@lastModifiedAt\":null}],\"materials\":null,\"excludeInPaging\":false,\"positionForPaging\":0,\"realtime\":false,\"_id\":\"6441ca92a10d3006855f9acd\",\"@type\":\"BLOCK\",\"@code\":\"PC-FEED-WRAPPER\",\"@template\":\"PC-FEED-WRAPPER\",\"@flowId\":\"PC-FEED-WRAPPER\",\"@flowExecutionId\":\"21f74b66-2de5-11ef-8646-4731a46fb6bd\",\"@provider\":\"lambda\",\"@lastModifiedAt\":[2024,6,19,2,39,22,101000000]}\n",
      "window[\"EAGER-DATA\"][\"CAS-MINICONTENT-PC-SPECIAL-LOGO\"] = {\"@type\":\"MINI-CONTENT-BLOCK\",\"blocks\":null,\"materials\":null,\"excludeInPaging\":false,\"positionForPaging\":0,\"realtime\":false,\"items\":[],\"_id\":\"6433d8e3a10d3006850274e8\",\"@type\":\"MINI-CONTENT-BLOCK\",\"@code\":\"CAS-MINICONTENT-PC-SPECIAL-LOGO\",\"@template\":\"NONE\",\"@flowId\":\"CAS-MINICONTENT\",\"@flowExecutionId\":\"08f2df86-2de5-11ef-9030-85fcffa5cd72\",\"@provider\":\"lambda\",\"@lastModifiedAt\":[2024,6,19,2,38,39,291000000]}\n",
      "window[\"EAGER-DATA\"][\"PC-MEDIA-WRAPPER\"] = {\"@type\":\"PC-MEDIA-CONTENTS-BLOCK\",\"blocks\":[{\"@type\":\"BLOCK\",\"blocks\":[{\"@type\":\"PC-NEWSSTAND-BLOCK\",\"blocks\":[{\"@type\":\"PC-NEWSSTAND-PRESS-BLOCK\",\"blocks\":null,\"materials\":null,\"excludeInPaging\":false,\"positionForPaging\":0,\"realtime\":false,\"pid\":\"907\",\"name\":\"경북매일신문\",\"logoLight\":{\"url\":\"https://s.pstatic.net/static/newsstand/2020/logo/light/0604/907.png\"},\"logoDark\":{\"url\":\"https://s.pstatic.net/static/newsstand/2020/logo/dark/0604/907.png\"},\"showThumbnailView\":true,\"showListView\":true,\"regDate\":\"20240619 11:20:13\",\"_id\":null,\"@type\":\"PC-NEWSSTAND-PRESS-BLOCK\",\"@code\":null,\"@template\":\"NONE\",\"@flowId\":null,\"@flowExecutionId\":null,\"@provider\":null,\"@lastModifiedAt\":null},{\"@type\":\"PC-NEWSSTAND-PRESS-BLOCK\",\"blocks\":null,\"materials\":null,\"excludeInPaging\":false,\"positionForPaging\":0,\"realtime\":false,\"pid\":\"908\",\"name\":\"국방일보\",\"logoLight\":{\"url\":\"https://s.pstatic.net/static/newsstand/2020/logo/light/0604/908.png\"},\"logoDark\":{\"url\":\"https://s.pstatic.net/static/newsstand/2020/logo/dark/0604/908.png\"},\"showThumbnailView\":true,\"showListView\":true,\"regDate\":\"20240618 17:31:11\",\"_id\":null,\"@type\":\"PC-NEWSSTAND-PRESS-BLOCK\",\"@code\":null,\"@template\":\"NONE\",\"@flowId\":null,\"@flowExecutionId\":null,\"@provider\":null,\"@lastModifiedAt\":null},{\"@type\":\"PC-NEWSSTAND-PRESS-BLOCK\",\"blocks\":null,\"materials\":null,\"excludeInPaging\":false,\"positionForPaging\":0,\"realtime\":false,\"pid\":\"909\",\"name\":\"기호일보\",\"logoLight\":{\"url\":\"https://s.pstatic.net/static/newsstand/2020/logo/light/0604/909.png\"},\"logoDark\":{\"url\":\"https://s.pstatic.net/static/newsstand/2020/logo/dark/0604/909.png\"},\"showThumbnailView\":true,\"showListView\":true,\"regDate\":\"20240619 10:59:26\",\"_id\":null,\"@type\":\"PC-NEWSSTAND-PRESS-BLOCK\",\"@code\":null,\"@template\":\"NONE\",\"@flowId\":null,\"@flowExecutionId\":null,\"@provider\":null,\"@lastModifiedAt\":null},{\"@type\":\"PC-NEWSSTAND-PRESS-BLOCK\",\"blocks\":null,\"materials\":null,\"excludeInPaging\":false,\"positionForPaging\":0,\"realtime\":false,\"pid\":\"353\",\"name\":\"중앙SUNDAY\",\"logoLight\":{\"url\":\"https://s.pstatic.net/static/newsstand/2020/logo/light/0604/353.png\"},\"logoDark\":{\"url\":\"https://s.pstatic.net/static/newsstand/2020/logo/dark/0604/353.png\"},\"showThumbnailView\":true,\"showListView\":true,\"regDate\":\"20240619 08:53:14\",\"_id\":null,\"@type\":\"PC-NEWSSTAND-PRESS-BLOCK\",\"@code\":null,\"@template\":\"NONE\",\"@flowId\":null,\"@flowExecutionId\":null,\"@provider\":null,\"@lastModifiedAt\":null},{\"@type\":\"PC-NEWSSTAND-PRESS-BLOCK\",\"blocks\":null,\"materials\":null,\"excludeInPaging\":false,\"positionForPaging\":0,\"realtime\":false,\"pid\":\"354\",\"name\":\"엘르\",\"logoLight\":{\"url\":\"https://s.pstatic.net/static/newsstand/2020/logo/light/0604/354.png\"},\"logoDark\":{\"url\":\"https://s.pstatic.net/static/newsstand/2020/logo/dark/0604/354.png\"},\"showThumbnailView\":true,\"showListView\":true,\"regDate\":\"20240619 11:35:18\",\"_id\":null,\"@type\":\"PC-NEWSSTAND-PRESS-BLOCK\",\"@code\":null,\"@template\":\"NONE\",\"@flowId\":null,\"@flowExecutionId\":null,\"@provider\":null,\"@lastModifiedAt\":null},{\"@type\":\"PC-NEWSSTAND-PRESS-BLOCK\",\"blocks\":null,\"materials\":null,\"excludeInPaging\":false,\"positionForPaging\":0,\"realtime\":false,\"pid\":\"355\",\"name\":\"사이언스타임즈\",\"logoLight\":{\"url\":\"https://s.pstatic.net/static/newsstand/2020/logo/light/0604/355.png\"},\"logoDark\":{\"url\":\"https://s.pstatic.net/static/newsstand/2020/logo/dark/0604/355.png\"},\"showThumbnailView\":true,\"showListView\":true,\"regDate\":\"20240617 11:20:10\",\"_id\":null,\"@type\":\"PC-NEWSSTAND-PRESS-BLOCK\",\"@code\":null,\"@template\":\"NONE\",\"@flowId\":null,\"@flowExecutionId\":null,\"@provider\":null,\"@lastModifiedAt\":null},{\"@type\":\"PC-NEWSSTAND-PRESS-BLOCK\",\"blocks\":null,\"materials\":null,\"excludeInPaging\":false,\"positionForPaging\":0,\"realtime\":false,\"pid\":\"356\",\"name\":\"게임메카\",\"logoLight\":{\"url\":\"https://s.pstatic.net/static/newsstand/2020/logo/light/0604/356.png\"},\"logoDark\":{\"url\":\"https://s.pstatic.net/static/newsstand/2020/logo/dark/0604/356.png\"},\"showThumbnailView\":true,\"showListView\":true,\"regDate\":\"20240619 10:47:34\",\"_id\":null,\"@type\":\"PC-NEWSSTAND-PRESS-BLOCK\",\"@code\":null,\"@template\":\"NONE\",\"@flowId\":null,\"@flowExecutionId\":null,\"@provider\":null,\"@lastModifiedAt\":null},{\"@type\":\"PC-NEWSSTAND-PRESS-BLOCK\",\"blocks\":null,\"materials\":null,\"excludeInPaging\":false,\"positionForPaging\":0,\"realtime\":false,\"pid\":\"477\",\"name\":\"스포티비뉴스\",\"logoLight\":{\"url\":\"https://s.pstatic.net/static/newsstand/up/2021/1130/nsd10159718.png\"},\"logoDark\":{\"url\":\"https://s.pstatic.net/static/newsstand/up/2021/1130/nsd101536636.png\"},\"showThumbnailView\":true,\"showListView\":true,\"regDate\":\"20240619 11:20:06\",\"_id\":null,\"@type\":\"PC-NEWSSTAND-PRESS-BLOCK\",\"@code\":null,\"@template\":\"NONE\",\"@flowId\":null,\"@flowExecutionId\":null,\"@provider\":null,\"@lastModifiedAt\":null},{\"@type\":\"PC-NEWSSTAND-PRESS-BLOCK\",\"blocks\":null,\"materials\":null,\"excludeInPaging\":false,\"positionForPaging\":0,\"realtime\":false,\"pid\":\"117\",\"name\":\"마이데일리\",\"logoLight\":{\"url\":\"https://s.pstatic.net/static/newsstand/2020/logo/light/0604/117.png\"},\"logoDark\":{\"url\":\"https://s.pstatic.net/static/newsstand/2020/logo/dark/0604/117.png\"},\"showThumbnailView\":true,\"showListView\":true,\"regDate\":\"20240619 10:12:40\",\"_id\":null,\"@type\":\"PC-NEWSSTAND-PRESS-BLOCK\",\"@code\":null,\"@template\":\"NONE\",\"@flowId\":null,\"@flowExecutionId\":null,\"@provider\":null,\"@lastModifiedAt\":null},{\"@type\":\"PC-NEWSSTAND-PRESS-BLOCK\",\"blocks\":null,\"materials\":null,\"excludeInPaging\":false,\"positionForPaging\":0,\"realtime\":false,\"pid\":\"910\",\"name\":\"넥스트데일리\",\"logoLight\":{\"url\":\"https://s.pstatic.net/static/newsstand/2020/logo/light/0604/910.png\"},\"logoDark\":{\"url\":\"https://s.pstatic.net/static/newsstand/2020/logo/dark/0604/910.png\"},\"showThumbnailView\":true,\"showListView\":true,\"regDate\":\"20240619 11:20:24\",\"_id\":null,\"@type\":\"PC-NEWSSTAND-PRESS-BLOCK\",\"@code\":null,\"@template\":\"NONE\",\"@flowId\":null,\"@flowExecutionId\":null,\"@provider\":null,\"@lastModifiedAt\":null},{\"@type\":\"PC-NEWSSTAND-PRESS-BLOCK\",\"blocks\":null,\"materials\":null,\"excludeInPaging\":false,\"positionForPaging\":0,\"realtime\":false,\"pid\":\"911\",\"name\":\"농민신문\",\"logoLight\":{\"url\":\"https://s.pstatic.net/static/newsstand/2020/logo/light/0604/911.png\"},\"logoDark\":{\"url\":\"https://s.pstatic.net/static/newsstand/2020/logo/dark/0604/911.png\"},\"showThumbnailView\":true,\"showListView\":true,\"regDate\":\"20240618 10:01:46\",\"_id\":null,\"@type\":\"PC-NEWSSTAND-PRESS-BLOCK\",\"@code\":null,\"@template\":\"NONE\",\"@flowId\":null,\"@flowExecutionId\":null,\"@provider\":null,\"@lastModifiedAt\":null},{\"@type\":\"PC-NEWSSTAND-PRESS-BLOCK\",\"blocks\":null,\"materials\":null,\"excludeInPaging\":false,\"positionForPaging\":0,\"realtime\":false,\"pid\":\"913\",\"name\":\"뉴스토마토\",\"logoLight\":{\"url\":\"https://s.pstatic.net/static/newsstand/2020/logo/light/0604/913.png\"},\"logoDark\":{\"url\":\"https://s.pstatic.net/static/newsstand/2020/logo/dark/0604/913.png\"},\"showThumbnailView\":true,\"showListView\":true,\"regDate\":\"20240619 11:31:27\",\"_id\":null,\"@type\":\"PC-NEWSSTAND-PRESS-BLOCK\",\"@code\":null,\"@template\":\"NONE\",\"@flowId\":null,\"@flowExecutionId\":null,\"@provider\":null,\"@lastModifiedAt\":null},{\"@type\":\"PC-NEWSSTAND-PRESS-BLOCK\",\"blocks\":null,\"materials\":null,\"excludeInPaging\":false,\"positionForPaging\":0,\"realtime\":false,\"pid\":\"914\",\"name\":\"뉴스핌\",\"logoLight\":{\"url\":\"https://s.pstatic.net/static/newsstand/2020/logo/light/0604/914.png\"},\"logoDark\":{\"url\":\"https://s.pstatic.net/static/newsstand/2020/logo/dark/0604/914.png\"},\"showThumbnailView\":true,\"showListView\":true,\"regDate\":\"20240619 11:25:04\",\"_id\":null,\"@type\":\"PC-NEWSSTAND-PRESS-BLOCK\",\"@code\":null,\"@template\":\"NONE\",\"@flowId\":null,\"@flowExecutionId\":null,\"@provider\":null,\"@lastModifiedAt\":null},{\"@type\":\"PC-NEWSSTAND-PRESS-BLOCK\",\"blocks\":null,\"materials\":null,\"excludeInPaging\":false,\"positionForPaging\":0,\"realtime\":false,\"pid\":\"915\",\"name\":\"르몽드 디플로마티크\",\"logoLight\":{\"url\":\"https://s.pstatic.net/static/newsstand/2020/logo/light/0604/915.png\"},\"logoDark\":{\"url\":\"https://s.pstatic.net/static/newsstand/2020/logo/dark/0604/915.png\"},\"showThumbnailView\":true,\"showListView\":true,\"regDate\":\"20240524 15:34:39\",\"_id\":null,\"@type\":\"PC-NEWSSTAND-PRESS-BLOCK\",\"@code\":null,\"@template\":\"NONE\",\"@flowId\":null,\"@flowExecutionId\":null,\"@provider\":null,\"@lastModifiedAt\":null},{\"@type\":\"PC-NEWSSTAND-PRESS-BLOCK\",\"blocks\":null,\"materials\":null,\"excludeInPaging\":false,\"positionForPaging\":0,\"realtime\":false,\"pid\":\"916\",\"name\":\"머니투데이방송\",\"logoLight\":{\"url\":\"https://s.pstatic.net/static/newsstand/up/2021/0420/nsd105139164.png\"},\"logoDark\":{\"url\":\"https://s.pstatic.net/static/newsstand/up/2021/0420/nsd104943516.png\"},\"showThumbnailView\":true,\"showListView\":true,\"regDate\":\"20240619 10:51:09\",\"_id\":null,\"@type\":\"PC-NEWSSTAND-PRESS-BLOCK\",\"@code\":null,\"@template\":\"NONE\",\"@flowId\":null,\"@flowExecutionId\":null,\"@provider\":null,\"@lastModifiedAt\":null},{\"@type\":\"PC-NEWSSTAND-PRESS-BLOCK\",\"blocks\":null,\"materials\":null,\"excludeInPaging\":false,\"positionForPaging\":0,\"realtime\":false,\"pid\":\"917\",\"name\":\"IT조선\",\"logoLight\":{\"url\":\"https://s.pstatic.net/static/newsstand/2020/logo/light/0604/917.png\"},\"logoDark\":{\"url\":\"https://s.pstatic.net/static/newsstand/2020/logo/dark/0604/917.png\"},\"showThumbnailView\":true,\"showListView\":true,\"regDate\":\"20240619 11:20:38\",\"_id\":null,\"@type\":\"PC-NEWSSTAND-PRESS-BLOCK\",\"@code\":null,\"@template\":\"NONE\",\"@flowId\":null,\"@flowExecutionId\":null,\"@provider\":null,\"@lastModifiedAt\":null},{\"@type\":\"PC-NEWSSTAND-PRESS-BLOCK\",\"blocks\":null,\"materials\":null,\"excludeInPaging\":false,\"positionForPaging\":0,\"realtime\":false,\"pid\":\"361\",\"name\":\"채널예스\",\"logoLight\":{\"url\":\"https://s.pstatic.net/static/newsstand/up/2023/0418/nsd124959421.png\"},\"logoDark\":{\"url\":\"https://s.pstatic.net/static/newsstand/up/2023/0418/nsd124945796.png\"},\"showThumbnailView\":true,\"showListView\":true,\"regDate\":\"20240619 11:20:46\",\"_id\":null,\"@type\":\"PC-NEWSSTAND-PRESS-BLOCK\",\"@code\":null,\"@template\":\"NONE\",\"@flowId\":null,\"@flowExecutionId\":null,\"@provider\":null,\"@lastModifiedAt\":null},{\"@type\":\"PC-NEWSSTAND-PRESS-BLOCK\",\"blocks\":null,\"materials\":null,\"excludeInPaging\":false,\"positionForPaging\":0,\"realtime\":false,\"pid\":\"120\",\"name\":\"EBN\",\"logoLight\":{\"url\":\"https://s.pstatic.net/static/newsstand/2020/logo/light/0604/120.png\"},\"logoDark\":{\"url\":\"https://s.pstatic.net/static/newsstand/2020/logo/dark/0604/120.png\"},\"showThumbnailView\":true,\"showListView\":true,\"regDate\":\"20240619 10:02:17\",\"_id\":null,\"@type\":\"PC-NEWSSTAND-PRESS-BLOCK\",\"@code\":null,\"@template\":\"NONE\",\"@flowId\":null,\"@flowExecutionId\":null,\"@provider\":null,\"@lastModifiedAt\":null},{\"@type\":\"PC-NEWSSTAND-PRESS-BLOCK\",\"blocks\":null,\"materials\":null,\"excludeInPaging\":false,\"positionForPaging\":0,\"realtime\":false,\"pid\":\"241\",\"name\":\"일간스포츠\",\"logoLight\":{\"url\":\"https://s.pstatic.net/static/newsstand/up/2023/0112/nsd92558162.png\"},\"logoDark\":{\"url\":\"https://s.pstatic.net/static/newsstand/2020/logo/dark/0604/241.png\"},\"showThumbnailView\":true,\"showListView\":true,\"regDate\":\"20240619 11:26:30\",\"_id\":null,\"@type\":\"PC-NEWSSTAND-PRESS-BLOCK\",\"@code\":null,\"@template\":\"NONE\",\"@flowId\":null,\"@flowExecutionId\":null,\"@provider\":null,\"@lastModifiedAt\":null},{\"@type\":\"PC-NEWSSTAND-PRESS-BLOCK\",\"blocks\":null,\"materials\":null,\"excludeInPaging\":false,\"positionForPaging\":0,\"realtime\":false,\"pid\":\"363\",\"name\":\"동아사이언스\",\"logoLight\":{\"url\":\"https://s.pstatic.net/static/newsstand/2020/logo/light/0604/363.png\"},\"logoDark\":{\"url\":\"https://s.pstatic.net/static/newsstand/2020/logo/dark/0604/363.png\"},\"showThumbnailView\":true,\"showListView\":true,\"regDate\":\"20240617 17:55:16\",\"_id\":null,\"@type\":\"PC-NEWSSTAND-PRESS-BLOCK\",\"@code\":null,\"@template\":\"NONE\",\"@flowId\":null,\"@flowExecutionId\":null,\"@provider\":null,\"@lastModifiedAt\":null},{\"@type\":\"PC-NEWSSTAND-PRESS-BLOCK\",\"blocks\":null,\"materials\":null,\"excludeInPaging\":false,\"positionForPaging\":0,\"realtime\":false,\"pid\":\"122\",\"name\":\"법률신문\",\"logoLight\":{\"url\":\"https://s.pstatic.net/static/newsstand/up/2022/1103/nsd124326426.png\"},\"logoDark\":{\"url\":\"https://s.pstatic.net/static/newsstand/up/2022/1103/nsd124320554.png\"},\"showThumbnailView\":true,\"showListView\":true,\"regDate\":\"20240619 11:26:52\",\"_id\":null,\"@type\":\"PC-NEWSSTAND-PRESS-BLOCK\",\"@code\":null,\"@template\":\"NONE\",\"@flowId\":null,\"@flowExecutionId\":null,\"@provider\":null,\"@lastModifiedAt\":null},{\"@type\":\"PC-NEWSSTAND-PRESS-BLOCK\",\"blocks\":null,\"materials\":null,\"excludeInPaging\":false,\"positionForPaging\":0,\"realtime\":false,\"pid\":\"243\",\"name\":\"이코노미스트\",\"logoLight\":{\"url\":\"https://s.pstatic.net/static/newsstand/2020/logo/light/0604/243.png\"},\"logoDark\":{\"url\":\"https://s.pstatic.net/static/newsstand/2020/logo/dark/0604/243.png\"},\"showThumbnailView\":true,\"showListView\":true,\"regDate\":\"20240619 09:32:02\",\"_id\":null,\"@type\":\"PC-NEWSSTAND-PRESS-BLOCK\",\"@code\":null,\"@template\":\"NONE\",\"@flowId\":null,\"@flowExecutionId\":null,\"@provider\":null,\"@lastModifiedAt\":null},{\"@type\":\"PC-NEWSSTAND-PRESS-BLOCK\",\"blocks\":null,\"materials\":null,\"excludeInPaging\":false,\"positionForPaging\":0,\"realtime\":false,\"pid\":\"364\",\"name\":\"PC사랑\",\"logoLight\":{\"url\":\"https://s.pstatic.net/static/newsstand/2020/logo/light/0604/364.png\"},\"logoDark\":{\"url\":\"https://s.pstatic.net/static/newsstand/2020/logo/dark/0604/364.png\"},\"showThumbnailView\":true,\"showListView\":true,\"regDate\":\"20240617 09:49:34\",\"_id\":null,\"@type\":\"PC-NEWSSTAND-PRESS-BLOCK\",\"@code\":null,\"@template\":\"NONE\",\"@flowId\":null,\"@flowExecutionId\":null,\"@provider\":null,\"@lastModifiedAt\":null},{\"@type\":\"PC-NEWSSTAND-PRESS-BLOCK\",\"blocks\":null,\"materials\":null,\"excludeInPaging\":false,\"positionForPaging\":0,\"realtime\":false,\"pid\":\"002\",\"name\":\"프레시안\",\"logoLight\":{\"url\":\"https://s.pstatic.net/static/newsstand/2020/logo/light/0604/002.png\"},\"logoDark\":{\"url\":\"https://s.pstatic.net/static/newsstand/2020/logo/dark/0604/002.png\"},\"showThumbnailView\":true,\"showListView\":true,\"regDate\":\"20240619 11:00:27\",\"_id\":null,\"@type\":\"PC-NEWSSTAND-PRESS-BLOCK\",\"@code\":null,\"@template\":\"NONE\",\"@flowId\":null,\"@flowExecutionId\":null,\"@provider\":null,\"@lastModifiedAt\":null},{\"@type\":\"PC-NEWSSTAND-PRESS-BLOCK\",\"blocks\":null,\"materials\":null,\"excludeInPaging\":false,\"positionForPaging\":0,\"realtime\":false,\"pid\":\"123\",\"name\":\"조세일보\",\"logoLight\":{\"url\":\"https://s.pstatic.net/static/newsstand/2020/logo/light/0604/123.png\"},\"logoDark\":{\"url\":\"https://s.pstatic.net/static/newsstand/2020/logo/dark/0604/123.png\"},\"showThumbnailView\":true,\"showListView\":true,\"regDate\":\"20240619 11:15:54\",\"_id\":null,\"@type\":\"PC-NEWSSTAND-PRESS-BLOCK\",\"@code\":null,\"@template\":\"NONE\",\"@flowId\":null,\"@flowExecutionId\":null,\"@provider\":null,\"@lastModifiedAt\":null},{\"@type\":\"PC-NEWSSTAND-PRESS-BLOCK\",\"blocks\":null,\"materials\":null,\"excludeInPaging\":false,\"positionForPaging\":0,\"realtime\":false,\"pid\":\"003\",\"name\":\"뉴시스\",\"logoLight\":{\"url\":\"https://s.pstatic.net/static/newsstand/2020/logo/light/0604/003.png\"},\"logoDark\":{\"url\":\"https://s.pstatic.net/static/newsstand/2020/logo/dark/0604/003.png\"},\"showThumbnailView\":true,\"showListView\":true,\"regDate\":\"20240619 11:34:41\",\"_id\":null,\"@type\":\"PC-NEWSSTAND-PRESS-BLOCK\",\"@code\":null,\"@template\":\"NONE\",\"@flowId\":null,\"@flowExecutionId\":null,\"@provider\":null,\"@lastModifiedAt\":null},{\"@type\":\"PC-NEWSSTAND-PRESS-BLOCK\",\"blocks\":null,\"materials\":null,\"excludeInPaging\":false,\"positionForPaging\":0,\"realtime\":false,\"pid\":\"366\",\"name\":\"조선비즈\",\"logoLight\":{\"url\":\"https://s.pstatic.net/static/newsstand/2020/logo/light/0604/366.png\"},\"logoDark\":{\"url\":\"https://s.pstatic.net/static/newsstand/2020/logo/dark/0604/366.png\"},\"showThumbnailView\":true,\"showListView\":true,\"regDate\":\"20240619 11:19:50\",\"_id\":null,\"@type\":\"PC-NEWSSTAND-PRESS-BLOCK\",\"@code\":null,\"@template\":\"NONE\",\"@flowId\":null,\"@flowExecutionId\":null,\"@provider\":null,\"@lastModifiedAt\":null},{\"@type\":\"PC-NEWSSTAND-PRESS-BLOCK\",\"blocks\":null,\"materials\":null,\"excludeInPaging\":false,\"positionForPaging\":0,\"realtime\":false,\"pid\":\"005\",\"name\":\"국민일보\",\"logoLight\":{\"url\":\"https://s.pstatic.net/static/newsstand/2020/logo/light/0604/005.png\"},\"logoDark\":{\"url\":\"https://s.pstatic.net/static/newsstand/2020/logo/dark/0604/005.png\"},\"showThumbnailView\":true,\"showListView\":true,\"regDate\":\"20240619 11:20:50\",\"_id\":null,\"@type\":\"PC-NEWSSTAND-PRESS-BLOCK\",\"@code\":null,\"@template\":\"NONE\",\"@flowId\":null,\"@flowExecutionId\":null,\"@provider\":null,\"@lastModifiedAt\":null},{\"@type\":\"PC-NEWSSTAND-PRESS-BLOCK\",\"blocks\":null,\"materials\":null,\"excludeInPaging\":false,\"positionForPaging\":0,\"realtime\":false,\"pid\":\"368\",\"name\":\"데일리안\",\"logoLight\":{\"url\":\"https://s.pstatic.net/static/newsstand/2020/logo/light/0604/368.png\"},\"logoDark\":{\"url\":\"https://s.pstatic.net/static/newsstand/2020/logo/dark/0604/368.png\"},\"showThumbnailView\":true,\"showListView\":true,\"regDate\":\"20240619 11:24:23\",\"_id\":null,\"@type\":\"PC-NEWSSTAND-PRESS-BLOCK\",\"@code\":null,\"@template\":\"NONE\",\"@flowId\":null,\"@flowExecutionId\":null,\"@provider\":null,\"@lastModifiedAt\":null},{\"@type\":\"PC-NEWSSTAND-PRESS-BLOCK\",\"blocks\":null,\"materials\":null,\"excludeInPaging\":false,\"positionForPaging\":0,\"realtime\":false,\"pid\":\"006\",\"name\":\"미디어오늘\",\"logoLight\":{\"url\":\"https://s.pstatic.net/static/newsstand/2020/logo/light/0604/006.png\"},\"logoDark\":{\"url\":\"https://s.pstatic.net/static/newsstand/2020/logo/dark/0604/006.png\"},\"showThumbnailView\":true,\"showListView\":true,\"regDate\":\"20240619 11:30:02\",\"_id\":null,\"@type\":\"PC-NEWSSTAND-PRESS-BLOCK\",\"@code\":null,\"@template\":\"NONE\",\"@flowId\":null,\"@flowExecutionId\":null,\"@provider\":null,\"@lastModifiedAt\":null},{\"@type\":\"PC-NEWSSTAND-PRESS-BLOCK\",\"blocks\":null,\"materials\":null,\"excludeInPaging\":false,\"positionForPaging\":0,\"realtime\":false,\"pid\":\"920\",\"name\":\"아시아투데이\",\"logoLight\":{\"url\":\"https://s.pstatic.net/static/newsstand/2020/logo/light/0604/920.png\"},\"logoDark\":{\"url\":\"https://s.pstatic.net/static/newsstand/2020/logo/dark/0604/920.png\"},\"showThumbnailView\":true,\"showListView\":true,\"regDate\":\"20240619 11:23:28\",\"_id\":null,\"@type\":\"PC-NEWSSTAND-PRESS-BLOCK\",\"@code\":null,\"@template\":\"NONE\",\"@flowId\":null,\"@flowExecutionId\":null,\"@provider\":null,\"@lastModifiedAt\":null},{\"@type\":\"PC-NEWSSTAND-PRESS-BLOCK\",\"blocks\":null,\"materials\":null,\"excludeInPaging\":false,\"positionForPaging\":0,\"realtime\":false,\"pid\":\"008\",\"name\":\"머니투데이\",\"logoLight\":{\"url\":\"https://s.pstatic.net/static/newsstand/2020/logo/light/0604/008.png\"},\"logoDark\":{\"url\":\"https://s.pstatic.net/static/newsstand/2020/logo/dark/0604/008.png\"},\"showThumbnailView\":true,\"showListView\":true,\"regDate\":\"20240619 11:30:08\",\"_id\":null,\"@type\":\"PC-NEWSSTAND-PRESS-BLOCK\",\"@code\":null,\"@template\":\"NONE\",\"@flowId\":null,\"@flowExecutionId\":null,\"@provider\":null,\"@lastModifiedAt\":null},{\"@type\":\"PC-NEWSSTAND-PRESS-BLOCK\",\"blocks\":null,\"materials\":null,\"excludeInPaging\":false,\"positionForPaging\":0,\"realtime\":false,\"pid\":\"921\",\"name\":\"아주경제\",\"logoLight\":{\"url\":\"https://s.pstatic.net/static/newsstand/up/2023/0731/nsd13387289.png\"},\"logoDark\":{\"url\":\"https://s.pstatic.net/static/newsstand/up/2023/0731/nsd133759965.png\"},\"showThumbnailView\":true,\"showListView\":true,\"regDate\":\"20240619 11:24:01\",\"_id\":null,\"@type\":\"PC-NEWSSTAND-PRESS-BLOCK\",\"@code\":null,\"@template\":\"NONE\",\"@flowId\":null,\"@flowExecutionId\":null,\"@provider\":null,\"@lastModifiedAt\":null},{\"@type\":\"PC-NEWSSTAND-PRESS-BLOCK\",\"blocks\":null,\"materials\":null,\"excludeInPaging\":false,\"positionForPaging\":0,\"realtime\":false,\"pid\":\"009\",\"name\":\"매일경제\",\"logoLight\":{\"url\":\"https://s.pstatic.net/static/newsstand/2020/logo/light/0604/009.png\"},\"logoDark\":{\"url\":\"https://s.pstatic.net/static/newsstand/2020/logo/dark/0604/009.png\"},\"showThumbnailView\":true,\"showListView\":true,\"regDate\":\"20240619 11:31:27\",\"_id\":null,\"@type\":\"PC-NEWSSTAND-PRESS-BLOCK\",\"@code\":null,\"@template\":\"NONE\",\"@flowId\":null,\"@flowExecutionId\":null,\"@provider\":null,\"@lastModifiedAt\":null},{\"@type\":\"PC-NEWSSTAND-PRESS-BLOCK\",\"blocks\":null,\"materials\":null,\"excludeInPaging\":false,\"positionForPaging\":0,\"realtime\":false,\"pid\":\"801\",\"name\":\"위키리크스한국\",\"logoLight\":{\"url\":\"https://s.pstatic.net/static/newsstand/2020/logo/light/0604/801.png\"},\"logoDark\":{\"url\":\"https://s.pstatic.net/static/newsstand/2020/logo/dark/0604/801.png\"},\"showThumbnailView\":true,\"showListView\":true,\"regDate\":\"20240619 11:20:09\",\"_id\":null,\"@type\":\"PC-NEWSSTAND-PRESS-BLOCK\",\"@code\":null,\"@template\":\"NONE\",\"@flowId\":null,\"@flowExecutionId\":null,\"@provider\":null,\"@lastModifiedAt\":null},{\"@type\":\"PC-NEWSSTAND-PRESS-BLOCK\",\"blocks\":null,\"materials\":null,\"excludeInPaging\":false,\"positionForPaging\":0,\"realtime\":false,\"pid\":\"922\",\"name\":\"이투데이\",\"logoLight\":{\"url\":\"https://s.pstatic.net/static/newsstand/2020/logo/light/0604/922.png\"},\"logoDark\":{\"url\":\"https://s.pstatic.net/static/newsstand/2020/logo/dark/0604/922.png\"},\"showThumbnailView\":true,\"showListView\":true,\"regDate\":\"20240619 11:18:02\",\"_id\":null,\"@type\":\"PC-NEWSSTAND-PRESS-BLOCK\",\"@code\":null,\"@template\":\"NONE\",\"@flowId\":null,\"@flowExecutionId\":null,\"@provider\":null,\"@lastModifiedAt\":null},{\"@type\":\"PC-NEWSSTAND-PRESS-BLOCK\",\"blocks\":null,\"materials\":null,\"excludeInPaging\":false,\"positionForPaging\":0,\"realtime\":false,\"pid\":\"802\",\"name\":\"스포츠Q\",\"logoLight\":{\"url\":\"https://s.pstatic.net/static/newsstand/2020/logo/light/0604/802.png\"},\"logoDark\":{\"url\":\"https://s.pstatic.net/static/newsstand/2020/logo/dark/0604/802.png\"},\"showThumbnailView\":true,\"showListView\":true,\"regDate\":\"20240619 11:20:10\",\"_id\":null,\"@type\":\"PC-NEWSSTAND-PRESS-BLOCK\",\"@code\":null,\"@template\":\"NONE\",\"@flowId\":null,\"@flowExecutionId\":null,\"@provider\":null,\"@lastModifiedAt\":null},{\"@type\":\"PC-NEWSSTAND-PRESS-BLOCK\",\"blocks\":null,\"materials\":null,\"excludeInPaging\":false,\"positionForPaging\":0,\"realtime\":false,\"pid\":\"923\",\"name\":\"인민망\",\"logoLight\":{\"url\":\"https://s.pstatic.net/static/newsstand/2020/logo/light/0604/923.png\"},\"logoDark\":{\"url\":\"https://s.pstatic.net/static/newsstand/2020/logo/dark/0604/923.png\"},\"showThumbnailView\":true,\"showListView\":true,\"regDate\":\"20240617 12:30:00\",\"_id\":null,\"@type\":\"PC-NEWSSTAND-PRESS-BLOCK\",\"@code\":null,\"@template\":\"NONE\",\"@flowId\":null,\"@flowExecutionId\":null,\"@provider\":null,\"@lastModifiedAt\":null},{\"@type\":\"PC-NEWSSTAND-PRESS-BLOCK\",\"blocks\":null,\"materials\":null,\"excludeInPaging\":false,\"positionForPaging\":0,\"realtime\":false,\"pid\":\"803\",\"name\":\"인더스트리뉴스\",\"logoLight\":{\"url\":\"https://s.pstatic.net/static/newsstand/up/2021/0907/nsd9423633.png\"},\"logoDark\":{\"url\":\"https://s.pstatic.net/static/newsstand/up/2021/0907/nsd94216114.png\"},\"showThumbnailView\":true,\"showListView\":true,\"regDate\":\"20240619 11:20:11\",\"_id\":null,\"@type\":\"PC-NEWSSTAND-PRESS-BLOCK\",\"@code\":null,\"@template\":\"NONE\",\"@flowId\":null,\"@flowExecutionId\":null,\"@provider\":null,\"@lastModifiedAt\":null},{\"@type\":\"PC-NEWSSTAND-PRESS-BLOCK\",\"blocks\":null,\"materials\":null,\"excludeInPaging\":false,\"positionForPaging\":0,\"realtime\":false,\"pid\":\"924\",\"name\":\"인벤\",\"logoLight\":{\"url\":\"https://s.pstatic.net/static/newsstand/2020/logo/light/0604/924.png\"},\"logoDark\":{\"url\":\"https://s.pstatic.net/static/newsstand/2020/logo/dark/0604/924.png\"},\"showThumbnailView\":true,\"showListView\":true,\"regDate\":\"20240619 10:35:27\",\"_id\":null,\"@type\":\"PC-NEWSSTAND-PRESS-BLOCK\",\"@code\":null,\"@template\":\"NONE\",\"@flowId\":null,\"@flowExecutionId\":null,\"@provider\":null,\"@lastModifiedAt\":null},{\"@type\":\"PC-NEWSSTAND-PRESS-BLOCK\",\"blocks\":null,\"materials\":null,\"excludeInPaging\":false,\"positionForPaging\":0,\"realtime\":false,\"pid\":\"804\",\"name\":\"데이터뉴스\",\"logoLight\":{\"url\":\"https://s.pstatic.net/static/newsstand/2020/logo/light/0604/804.png\"},\"logoDark\":{\"url\":\"https://s.pstatic.net/static/newsstand/2020/logo/dark/0604/804.png\"},\"showThumbnailView\":true,\"showListView\":true,\"regDate\":\"20240619 11:00:03\",\"_id\":null,\"@type\":\"PC-NEWSSTAND-PRESS-BLOCK\",\"@code\":null,\"@template\":\"NONE\",\"@flowId\":null,\"@flowExecutionId\":null,\"@provider\":null,\"@lastModifiedAt\":null},{\"@type\":\"PC-NEWSSTAND-PRESS-BLOCK\",\"blocks\":null,\"materials\":null,\"excludeInPaging\":false,\"positionForPaging\":0,\"realtime\":false,\"pid\":\"925\",\"name\":\"일요신문\",\"logoLight\":{\"url\":\"https://s.pstatic.net/static/newsstand/2020/logo/light/0604/925.png\"},\"logoDark\":{\"url\":\"https://s.pstatic.net/static/newsstand/2020/logo/dark/0604/925.png\"},\"showThumbnailView\":true,\"showListView\":true,\"regDate\":\"20240618 17:08:38\",\"_id\":null,\"@type\":\"PC-NEWSSTAND-PRESS-BLOCK\",\"@code\":null,\"@template\":\"NONE\",\"@flowId\":null,\"@flowExecutionId\":null,\"@provider\":null,\"@lastModifiedAt\":null},{\"@type\":\"PC-NEWSSTAND-PRESS-BLOCK\",\"blocks\":null,\"materials\":null,\"excludeInPaging\":false,\"positionForPaging\":0,\"realtime\":false,\"pid\":\"805\",\"name\":\"한경잡앤조이\",\"logoLight\":{\"url\":\"https://s.pstatic.net/static/newsstand/up/2020/0615/nsd10319824.png\"},\"logoDark\":{\"url\":\"https://s.pstatic.net/static/newsstand/up/2020/0615/nsd10311145.png\"},\"showThumbnailView\":true,\"showListView\":true,\"regDate\":\"20240619 09:43:55\",\"_id\":null,\"@type\":\"PC-NEWSSTAND-PRESS-BLOCK\",\"@code\":null,\"@template\":\"NONE\",\"@flowId\":null,\"@flowExecutionId\":null,\"@provider\":null,\"@lastModifiedAt\":null},{\"@type\":\"PC-NEWSSTAND-PRESS-BLOCK\",\"blocks\":null,\"materials\":null,\"excludeInPaging\":false,\"positionForPaging\":0,\"realtime\":false,\"pid\":\"926\",\"name\":\"중부일보\",\"logoLight\":{\"url\":\"https://s.pstatic.net/static/newsstand/up/2022/0704/nsd231551300.png\"},\"logoDark\":{\"url\":\"https://s.pstatic.net/static/newsstand/up/2022/0704/nsd231545458.png\"},\"showThumbnailView\":true,\"showListView\":true,\"regDate\":\"20240619 08:19:38\",\"_id\":null,\"@type\":\"PC-NEWSSTAND-PRESS-BLOCK\",\"@code\":null,\"@template\":\"NONE\",\"@flowId\":null,\"@flowExecutionId\":null,\"@provider\":null,\"@lastModifiedAt\":null},{\"@type\":\"PC-NEWSSTAND-PRESS-BLOCK\",\"blocks\":null,\"materials\":null,\"excludeInPaging\":false,\"positionForPaging\":0,\"realtime\":false,\"pid\":\"806\",\"name\":\"한경머니\",\"logoLight\":{\"url\":\"https://s.pstatic.net/static/newsstand/up/2024/0531/nsd115428801.png\"},\"logoDark\":{\"url\":\"https://s.pstatic.net/static/newsstand/up/2024/0531/nsd115449376.png\"},\"showThumbnailView\":true,\"showListView\":true,\"regDate\":\"20240619 09:21:23\",\"_id\":null,\"@type\":\"PC-NEWSSTAND-PRESS-BLOCK\",\"@code\":null,\"@template\":\"NONE\",\"@flowId\":null,\"@flowExecutionId\":null,\"@provider\":null,\"@lastModifiedAt\":null},{\"@type\":\"PC-NEWSSTAND-PRESS-BLOCK\",\"blocks\":null,\"materials\":null,\"excludeInPaging\":false,\"positionForPaging\":0,\"realtime\":false,\"pid\":\"927\",\"name\":\"충북일보\",\"logoLight\":{\"url\":\"https://s.pstatic.net/static/newsstand/2020/logo/light/0604/927.png\"},\"logoDark\":{\"url\":\"https://s.pstatic.net/static/newsstand/2020/logo/dark/0604/927.png\"},\"showThumbnailView\":true,\"showListView\":true,\"regDate\":\"20240618 18:15:55\",\"_id\":null,\"@type\":\"PC-NEWSSTAND-PRESS-BLOCK\",\"@code\":null,\"@template\":\"NONE\",\"@flowId\":null,\"@flowExecutionId\":null,\"@provider\":null,\"@lastModifiedAt\":null},{\"@type\":\"PC-NEWSSTAND-PRESS-BLOCK\",\"blocks\":null,\"materials\":null,\"excludeInPaging\":false,\"positionForPaging\":0,\"realtime\":false,\"pid\":\"807\",\"name\":\"인사이트코리아\",\"logoLight\":{\"url\":\"https://s.pstatic.net/static/newsstand/2020/logo/light/0604/807.png\"},\"logoDark\":{\"url\":\"https://s.pstatic.net/static/newsstand/2020/logo/dark/0604/807.png\"},\"showThumbnailView\":true,\"showListView\":true,\"regDate\":\"20240619 11:20:12\",\"_id\":null,\"@type\":\"PC-NEWSSTAND-PRESS-BLOCK\",\"@code\":null,\"@template\":\"NONE\",\"@flowId\":null,\"@flowExecutionId\":null,\"@provider\":null,\"@lastModifiedAt\":null},{\"@type\":\"PC-NEWSSTAND-PRESS-BLOCK\",\"blocks\":null,\"materials\":null,\"excludeInPaging\":false,\"positionForPaging\":0,\"realtime\":false,\"pid\":\"928\",\"name\":\"컴퓨터월드\",\"logoLight\":{\"url\":\"https://s.pstatic.net/static/newsstand/2020/logo/light/0604/928.png\"},\"logoDark\":{\"url\":\"https://s.pstatic.net/static/newsstand/2020/logo/dark/0604/928.png\"},\"showThumbnailView\":true,\"showListView\":true,\"regDate\":\"20240603 20:28:30\",\"_id\":null,\"@type\":\"PC-NEWSSTAND-PRESS-BLOCK\",\"@code\":null,\"@template\":\"NONE\",\"@flowId\":null,\"@flowExecutionId\":null,\"@provider\":null,\"@lastModifiedAt\":null},{\"@type\":\"PC-NEWSSTAND-PRESS-BLOCK\",\"blocks\":null,\"materials\":null,\"excludeInPaging\":false,\"positionForPaging\":0,\"realtime\":false,\"pid\":\"808\",\"name\":\"산업일보\",\"logoLight\":{\"url\":\"https://s.pstatic.net/static/newsstand/2020/logo/light/0604/808.png\"},\"logoDark\":{\"url\":\"https://s.pstatic.net/static/newsstand/2020/logo/dark/0604/808.png\"},\"showThumbnailView\":true,\"showListView\":true,\"regDate\":\"20240619 11:24:03\",\"_id\":null,\"@type\":\"PC-NEWSSTAND-PRESS-BLOCK\",\"@code\":null,\"@template\":\"NONE\",\"@flowId\":null,\"@flowExecutionId\":null,\"@provider\":null,\"@lastModifiedAt\":null},{\"@type\":\"PC-NEWSSTAND-PRESS-BLOCK\",\"blocks\":null,\"materials\":null,\"excludeInPaging\":false,\"positionForPaging\":0,\"realtime\":false,\"pid\":\"809\",\"name\":\"미디어펜\",\"logoLight\":{\"url\":\"https://s.pstatic.net/static/newsstand/2020/logo/light/0604/809.png\"},\"logoDark\":{\"url\":\"https://s.pstatic.net/static/newsstand/2020/logo/dark/0604/809.png\"},\"showThumbnailView\":true,\"showListView\":true,\"regDate\":\"20240619 11:21:34\",\"_id\":null,\"@type\":\"PC-NEWSSTAND-PRESS-BLOCK\",\"@code\":null,\"@template\":\"NONE\",\"@flowId\":null,\"@flowExecutionId\":null,\"@provider\":null,\"@lastModifiedAt\":null},{\"@type\":\"PC-NEWSSTAND-PRESS-BLOCK\",\"blocks\":null,\"materials\":null,\"excludeInPaging\":false,\"positionForPaging\":0,\"realtime\":false,\"pid\":\"011\",\"name\":\"서울경제\",\"logoLight\":{\"url\":\"https://s.pstatic.net/static/newsstand/2019/logo/011.png\"},\"logoDark\":{\"url\":\"https://s.pstatic.net/static/newsstand/2020/logo/dark/0604/011.png\"},\"showThumbnailView\":true,\"showListView\":true,\"regDate\":\"20240619 11:06:35\",\"_id\":null,\"@type\":\"PC-NEWSSTAND-PRESS-BLOCK\",\"@code\":null,\"@template\":\"NONE\",\"@flowId\":null,\"@flowExecutionId\":null,\"@provider\":null,\"@lastModifiedAt\":null},{\"@type\":\"PC-NEWSSTAND-PRESS-BLOCK\",\"blocks\":null,\"materials\":null,\"excludeInPaging\":false,\"positionForPaging\":0,\"realtime\":false,\"pid\":\"374\",\"name\":\"SBS Biz\",\"logoLight\":{\"url\":\"https://s.pstatic.net/static/newsstand/up/2020/1229/nsd165811867.png\"},\"logoDark\":{\"url\":\"https://s.pstatic.net/static/newsstand/up/2020/1229/nsd165811867.png\"},\"showThumbnailView\":true,\"showListView\":true,\"regDate\":\"20240619 09:55:57\",\"_id\":null,\"@type\":\"PC-NEWSSTAND-PRESS-BLOCK\",\"@code\":null,\"@template\":\"NONE\",\"@flowId\":null,\"@flowExecutionId\":null,\"@provider\":null,\"@lastModifiedAt\":null},{\"@type\":\"PC-NEWSSTAND-PRESS-BLOCK\",\"blocks\":null,\"materials\":null,\"excludeInPaging\":false,\"positionForPaging\":0,\"realtime\":false,\"pid\":\"013\",\"name\":\"연합인포맥스\",\"logoLight\":{\"url\":\"https://s.pstatic.net/static/newsstand/2020/logo/light/0604/013.png\"},\"logoDark\":{\"url\":\"https://s.pstatic.net/static/newsstand/2020/logo/dark/0604/013.png\"},\"showThumbnailView\":true,\"showListView\":true,\"regDate\":\"20240619 11:20:32\",\"_id\":null,\"@type\":\"PC-NEWSSTAND-PRESS-BLOCK\",\"@code\":null,\"@template\":\"NONE\",\"@flowId\":null,\"@flowExecutionId\":null,\"@provider\":null,\"@lastModifiedAt\":null},{\"@type\":\"PC-NEWSSTAND-PRESS-BLOCK\",\"blocks\":null,\"materials\":null,\"excludeInPaging\":false,\"positionForPaging\":0,\"realtime\":false,\"pid\":\"376\",\"name\":\"지지통신\",\"logoLight\":{\"url\":\"https://s.pstatic.net/static/newsstand/2020/logo/light/0604/376.png\"},\"logoDark\":{\"url\":\"https://s.pstatic.net/static/newsstand/2020/logo/dark/0604/376.png\"},\"showThumbnailView\":true,\"showListView\":true,\"regDate\":\"20240619 11:10:05\",\"_id\":null,\"@type\":\"PC-NEWSSTAND-PRESS-BLOCK\",\"@code\":null,\"@template\":\"NONE\",\"@flowId\":null,\"@flowExecutionId\":null,\"@provider\":null,\"@lastModifiedAt\":null},{\"@type\":\"PC-NEWSSTAND-PRESS-BLOCK\",\"blocks\":null,\"materials\":null,\"excludeInPaging\":false,\"positionForPaging\":0,\"realtime\":false,\"pid\":\"014\",\"name\":\"파이낸셜뉴스\",\"logoLight\":{\"url\":\"https://s.pstatic.net/static/newsstand/2020/logo/light/0604/014.png\"},\"logoDark\":{\"url\":\"https://s.pstatic.net/static/newsstand/2020/logo/dark/0604/014.png\"},\"showThumbnailView\":true,\"showListView\":true,\"regDate\":\"20240619 11:07:30\",\"_id\":null,\"@type\":\"PC-NEWSSTAND-PRESS-BLOCK\",\"@code\":null,\"@template\":\"NONE\",\"@flowId\":null,\"@flowExecutionId\":null,\"@provider\":null,\"@lastModifiedAt\":null},{\"@type\":\"PC-NEWSSTAND-PRESS-BLOCK\",\"blocks\":null,\"materials\":null,\"excludeInPaging\":false,\"positionForPaging\":0,\"realtime\":false,\"pid\":\"135\",\"name\":\"시사저널\",\"logoLight\":{\"url\":\"https://s.pstatic.net/static/newsstand/2020/logo/light/0604/135.png\"},\"logoDark\":{\"url\":\"https://s.pstatic.net/static/newsstand/2020/logo/dark/0604/135.png\"},\"showThumbnailView\":true,\"showListView\":true,\"regDate\":\"20240619 11:20:07\",\"_id\":null,\"@type\":\"PC-NEWSSTAND-PRESS-BLOCK\",\"@code\":null,\"@template\":\"NONE\",\"@flowId\":null,\"@flowExecutionId\":null,\"@provider\":null,\"@lastModifiedAt\":null},{\"@type\":\"PC-NEWSSTAND-PRESS-BLOCK\",\"blocks\":null,\"materials\":null,\"excludeInPaging\":false,\"positionForPaging\":0,\"realtime\":false,\"pid\":\"015\",\"name\":\"한국경제\",\"logoLight\":{\"url\":\"https://s.pstatic.net/static/newsstand/2020/logo/light/0604/015.png\"},\"logoDark\":{\"url\":\"https://s.pstatic.net/static/newsstand/2020/logo/dark/0604/015.png\"},\"showThumbnailView\":true,\"showListView\":true,\"regDate\":\"20240619 11:10:36\",\"_id\":null,\"@type\":\"PC-NEWSSTAND-PRESS-BLOCK\",\"@code\":null,\"@template\":\"NONE\",\"@flowId\":null,\"@flowExecutionId\":null,\"@provider\":null,\"@lastModifiedAt\":null},{\"@type\":\"PC-NEWSSTAND-PRESS-BLOCK\",\"blocks\":null,\"materials\":null,\"excludeInPaging\":false,\"positionForPaging\":0,\"realtime\":false,\"pid\":\"016\",\"name\":\"헤럴드경제\",\"logoLight\":{\"url\":\"https://s.pstatic.net/static/newsstand/2020/logo/light/0604/016.png\"},\"logoDark\":{\"url\":\"https://s.pstatic.net/static/newsstand/2020/logo/dark/0604/016.png\"},\"showThumbnailView\":true,\"showListView\":true,\"regDate\":\"20240619 11:31:28\",\"_id\":null,\"@type\":\"PC-NEWSSTAND-PRESS-BLOCK\",\"@code\":null,\"@template\":\"NONE\",\"@flowId\":null,\"@flowExecutionId\":null,\"@provider\":null,\"@lastModifiedAt\":null},{\"@type\":\"PC-NEWSSTAND-PRESS-BLOCK\",\"blocks\":null,\"materials\":null,\"excludeInPaging\":false,\"positionForPaging\":0,\"realtime\":false,\"pid\":\"138\",\"name\":\"디지털데일리\",\"logoLight\":{\"url\":\"https://s.pstatic.net/static/newsstand/2020/logo/light/0604/138.png\"},\"logoDark\":{\"url\":\"https://s.pstatic.net/static/newsstand/2020/logo/dark/0604/138.png\"},\"showThumbnailView\":true,\"showListView\":true,\"regDate\":\"20240618 17:07:15\",\"_id\":null,\"@type\":\"PC-NEWSSTAND-PRESS-BLOCK\",\"@code\":null,\"@template\":\"NONE\",\"@flowId\":null,\"@flowExecutionId\":null,\"@provider\":null,\"@lastModifiedAt\":null},{\"@type\":\"PC-NEWSSTAND-PRESS-BLOCK\",\"blocks\":null,\"materials\":null,\"excludeInPaging\":false,\"positionForPaging\":0,\"realtime\":false,\"pid\":\"930\",\"name\":\"뉴스타파\",\"logoLight\":{\"url\":\"https://s.pstatic.net/static/newsstand/2020/logo/light/0604/930.png\"},\"logoDark\":{\"url\":\"https://s.pstatic.net/static/newsstand/2020/logo/dark/0604/930.png\"},\"showThumbnailView\":true,\"showListView\":true,\"regDate\":\"20240614 14:05:27\",\"_id\":null,\"@type\":\"PC-NEWSSTAND-PRESS-BLOCK\",\"@code\":null,\"@template\":\"NONE\",\"@flowId\":null,\"@flowExecutionId\":null,\"@provider\":null,\"@lastModifiedAt\":null},{\"@type\":\"PC-NEWSSTAND-PRESS-BLOCK\",\"blocks\":null,\"materials\":null,\"excludeInPaging\":false,\"positionForPaging\":0,\"realtime\":false,\"pid\":\"018\",\"name\":\"이데일리\",\"logoLight\":{\"url\":\"https://s.pstatic.net/static/newsstand/2020/logo/light/0604/018.png\"},\"logoDark\":{\"url\":\"https://s.pstatic.net/static/newsstand/2020/logo/dark/0604/018.png\"},\"showThumbnailView\":true,\"showListView\":true,\"regDate\":\"20240619 11:13:46\",\"_id\":null,\"@type\":\"PC-NEWSSTAND-PRESS-BLOCK\",\"@code\":null,\"@template\":\"NONE\",\"@flowId\":null,\"@flowExecutionId\":null,\"@provider\":null,\"@lastModifiedAt\":null},{\"@type\":\"PC-NEWSSTAND-PRESS-BLOCK\",\"blocks\":null,\"materials\":null,\"excludeInPaging\":false,\"positionForPaging\":0,\"realtime\":false,\"pid\":\"139\",\"name\":\"스포탈코리아\",\"logoLight\":{\"url\":\"https://s.pstatic.net/static/newsstand/2020/logo/light/0604/139.png\"},\"logoDark\":{\"url\":\"https://s.pstatic.net/static/newsstand/2020/logo/dark/0604/139.png\"},\"showThumbnailView\":true,\"showListView\":true,\"regDate\":\"20240618 16:22:05\",\"_id\":null,\"@type\":\"PC-NEWSSTAND-PRESS-BLOCK\",\"@code\":null,\"@template\":\"NONE\",\"@flowId\":null,\"@flowExecutionId\":null,\"@provider\":null,\"@lastModifiedAt\":null},{\"@type\":\"PC-NEWSSTAND-PRESS-BLOCK\",\"blocks\":null,\"materials\":null,\"excludeInPaging\":false,\"positionForPaging\":0,\"realtime\":false,\"pid\":\"810\",\"name\":\"신아일보\",\"logoLight\":{\"url\":\"https://s.pstatic.net/static/newsstand/up/2021/0316/nsd103953129.png\"},\"logoDark\":{\"url\":\"https://s.pstatic.net/static/newsstand/up/2021/0316/nsd104012979.png\"},\"showThumbnailView\":true,\"showListView\":true,\"regDate\":\"20240619 11:20:11\",\"_id\":null,\"@type\":\"PC-NEWSSTAND-PRESS-BLOCK\",\"@code\":null,\"@template\":\"NONE\",\"@flowId\":null,\"@flowExecutionId\":null,\"@provider\":null,\"@lastModifiedAt\":null},{\"@type\":\"PC-NEWSSTAND-PRESS-BLOCK\",\"blocks\":null,\"materials\":null,\"excludeInPaging\":false,\"positionForPaging\":0,\"realtime\":false,\"pid\":\"811\",\"name\":\"한국농어촌방송\",\"logoLight\":{\"url\":\"https://s.pstatic.net/static/newsstand/up/2022/0315/nsd181452869.png\"},\"logoDark\":{\"url\":\"https://s.pstatic.net/static/newsstand/up/2022/0315/nsd18156958.png\"},\"showThumbnailView\":true,\"showListView\":true,\"regDate\":\"20240619 11:20:14\",\"_id\":null,\"@type\":\"PC-NEWSSTAND-PRESS-BLOCK\",\"@code\":null,\"@template\":\"NONE\",\"@flowId\":null,\"@flowExecutionId\":null,\"@provider\":null,\"@lastModifiedAt\":null},{\"@type\":\"PC-NEWSSTAND-PRESS-BLOCK\",\"blocks\":null,\"materials\":null,\"excludeInPaging\":false,\"positionForPaging\":0,\"realtime\":false,\"pid\":\"932\",\"name\":\"CEO스코어데일리\",\"logoLight\":{\"url\":\"https://s.pstatic.net/static/newsstand/2020/logo/light/0604/932.png\"},\"logoDark\":{\"url\":\"https://s.pstatic.net/static/newsstand/2020/logo/dark/0604/932.png\"},\"showThumbnailView\":true,\"showListView\":true,\"regDate\":\"20240619 07:05:17\",\"_id\":null,\"@type\":\"PC-NEWSSTAND-PRESS-BLOCK\",\"@code\":null,\"@template\":\"NONE\",\"@flowId\":null,\"@flowExecutionId\":null,\"@provider\":null,\"@lastModifiedAt\":null},{\"@type\":\"PC-NEWSSTAND-PRESS-BLOCK\",\"blocks\":null,\"materials\":null,\"excludeInPaging\":false,\"positionForPaging\":0,\"realtime\":false,\"pid\":\"812\",\"name\":\"데일리임팩트\",\"logoLight\":{\"url\":\"https://s.pstatic.net/static/newsstand/up/2021/0819/nsd151219656.png\"},\"logoDark\":{\"url\":\"https://s.pstatic.net/static/newsstand/up/2021/0819/nsd151254429.png\"},\"showThumbnailView\":true,\"showListView\":true,\"regDate\":\"20240619 11:20:14\",\"_id\":null,\"@type\":\"PC-NEWSSTAND-PRESS-BLOCK\",\"@code\":null,\"@template\":\"NONE\",\"@flowId\":null,\"@flowExecutionId\":null,\"@provider\":null,\"@lastModifiedAt\":null},{\"@type\":\"PC-NEWSSTAND-PRESS-BLOCK\",\"blocks\":null,\"materials\":null,\"excludeInPaging\":false,\"positionForPaging\":0,\"realtime\":false,\"pid\":\"813\",\"name\":\"이코노믹리뷰\",\"logoLight\":{\"url\":\"https://s.pstatic.net/static/newsstand/up/2022/0418/nsd164755323.png\"},\"logoDark\":{\"url\":\"https://s.pstatic.net/static/newsstand/up/2022/0418/nsd164818946.png\"},\"showThumbnailView\":true,\"showListView\":true,\"regDate\":\"20240619 11:20:16\",\"_id\":null,\"@type\":\"PC-NEWSSTAND-PRESS-BLOCK\",\"@code\":null,\"@template\":\"NONE\",\"@flowId\":null,\"@flowExecutionId\":null,\"@provider\":null,\"@lastModifiedAt\":null},{\"@type\":\"PC-NEWSSTAND-PRESS-BLOCK\",\"blocks\":null,\"materials\":null,\"excludeInPaging\":false,\"positionForPaging\":0,\"realtime\":false,\"pid\":\"934\",\"name\":\"Arirang TV\",\"logoLight\":{\"url\":\"https://s.pstatic.net/static/newsstand/2020/logo/light/0604/934.png\"},\"logoDark\":{\"url\":\"https://s.pstatic.net/static/newsstand/2020/logo/dark/0604/934.png\"},\"showThumbnailView\":true,\"showListView\":true,\"regDate\":\"20240619 10:46:13\",\"_id\":null,\"@type\":\"PC-NEWSSTAND-PRESS-BLOCK\",\"@code\":null,\"@template\":\"NONE\",\"@flowId\":null,\"@flowExecutionId\":null,\"@provider\":null,\"@lastModifiedAt\":null},{\"@type\":\"PC-NEWSSTAND-PRESS-BLOCK\",\"blocks\":null,\"materials\":null,\"excludeInPaging\":false,\"positionForPaging\":0,\"realtime\":false,\"pid\":\"814\",\"name\":\"미주한국일보\",\"logoLight\":{\"url\":\"https://s.pstatic.net/static/newsstand/2020/logo/light/0604/814.png\"},\"logoDark\":{\"url\":\"https://s.pstatic.net/static/newsstand/2020/logo/dark/0604/814.png\"},\"showThumbnailView\":true,\"showListView\":true,\"regDate\":\"20240619 10:04:06\",\"_id\":null,\"@type\":\"PC-NEWSSTAND-PRESS-BLOCK\",\"@code\":null,\"@template\":\"NONE\",\"@flowId\":null,\"@flowExecutionId\":null,\"@provider\":null,\"@lastModifiedAt\":null},{\"@type\":\"PC-NEWSSTAND-PRESS-BLOCK\",\"blocks\":null,\"materials\":null,\"excludeInPaging\":false,\"positionForPaging\":0,\"realtime\":false,\"pid\":\"935\",\"name\":\"경상일보\",\"logoLight\":{\"url\":\"https://s.pstatic.net/static/newsstand/2020/logo/light/0604/935.png\"},\"logoDark\":{\"url\":\"https://s.pstatic.net/static/newsstand/2020/logo/dark/0604/935.png\"},\"showThumbnailView\":true,\"showListView\":true,\"regDate\":\"20240619 00:41:17\",\"_id\":null,\"@type\":\"PC-NEWSSTAND-PRESS-BLOCK\",\"@code\":null,\"@template\":\"NONE\",\"@flowId\":null,\"@flowExecutionId\":null,\"@provider\":null,\"@lastModifiedAt\":null},{\"@type\":\"PC-NEWSSTAND-PRESS-BLOCK\",\"blocks\":null,\"materials\":null,\"excludeInPaging\":false,\"positionForPaging\":0,\"realtime\":false,\"pid\":\"815\",\"name\":\"법률방송뉴스\",\"logoLight\":{\"url\":\"https://s.pstatic.net/static/newsstand/2020/logo/light/0604/815.png\"},\"logoDark\":{\"url\":\"https://s.pstatic.net/static/newsstand/2020/logo/dark/0604/815.png\"},\"showThumbnailView\":true,\"showListView\":true,\"regDate\":\"20240619 11:20:15\",\"_id\":null,\"@type\":\"PC-NEWSSTAND-PRESS-BLOCK\",\"@code\":null,\"@template\":\"NONE\",\"@flowId\":null,\"@flowExecutionId\":null,\"@provider\":null,\"@lastModifiedAt\":null},{\"@type\":\"PC-NEWSSTAND-PRESS-BLOCK\",\"blocks\":null,\"materials\":null,\"excludeInPaging\":false,\"positionForPaging\":0,\"realtime\":false,\"pid\":\"936\",\"name\":\"대구일보\",\"logoLight\":{\"url\":\"https://s.pstatic.net/static/newsstand/2020/logo/light/0604/936.png\"},\"logoDark\":{\"url\":\"https://s.pstatic.net/static/newsstand/2020/logo/dark/0604/936.png\"},\"showThumbnailView\":true,\"showListView\":true,\"regDate\":\"20240619 11:20:39\",\"_id\":null,\"@type\":\"PC-NEWSSTAND-PRESS-BLOCK\",\"@code\":null,\"@template\":\"NONE\",\"@flowId\":null,\"@flowExecutionId\":null,\"@provider\":null,\"@lastModifiedAt\":null},{\"@type\":\"PC-NEWSSTAND-PRESS-BLOCK\",\"blocks\":null,\"materials\":null,\"excludeInPaging\":false,\"positionForPaging\":0,\"realtime\":false,\"pid\":\"816\",\"name\":\"시사오늘\",\"logoLight\":{\"url\":\"https://s.pstatic.net/static/newsstand/2020/logo/light/0604/816.png\"},\"logoDark\":{\"url\":\"https://s.pstatic.net/static/newsstand/2020/logo/dark/0604/816.png\"},\"showThumbnailView\":true,\"showListView\":true,\"regDate\":\"20240619 11:20:16\",\"_id\":null,\"@type\":\"PC-NEWSSTAND-PRESS-BLOCK\",\"@code\":null,\"@template\":\"NONE\",\"@flowId\":null,\"@flowExecutionId\":null,\"@provider\":null,\"@lastModifiedAt\":null},{\"@type\":\"PC-NEWSSTAND-PRESS-BLOCK\",\"blocks\":null,\"materials\":null,\"excludeInPaging\":false,\"positionForPaging\":0,\"realtime\":false,\"pid\":\"937\",\"name\":\"전북도민일보\",\"logoLight\":{\"url\":\"https://s.pstatic.net/static/newsstand/2020/logo/light/0604/937.png\"},\"logoDark\":{\"url\":\"https://s.pstatic.net/static/newsstand/2020/logo/dark/0604/937.png\"},\"showThumbnailView\":true,\"showListView\":true,\"regDate\":\"20240619 09:54:14\",\"_id\":null,\"@type\":\"PC-NEWSSTAND-PRESS-BLOCK\",\"@code\":null,\"@template\":\"NONE\",\"@flowId\":null,\"@flowExecutionId\":null,\"@provider\":null,\"@lastModifiedAt\":null},{\"@type\":\"PC-NEWSSTAND-PRESS-BLOCK\",\"blocks\":null,\"materials\":null,\"excludeInPaging\":false,\"positionForPaging\":0,\"realtime\":false,\"pid\":\"817\",\"name\":\"미디어제주\",\"logoLight\":{\"url\":\"https://s.pstatic.net/static/newsstand/2020/logo/light/0604/817.png\"},\"logoDark\":{\"url\":\"https://s.pstatic.net/static/newsstand/2020/logo/dark/0604/817.png\"},\"showThumbnailView\":true,\"showListView\":true,\"regDate\":\"20240619 11:20:17\",\"_id\":null,\"@type\":\"PC-NEWSSTAND-PRESS-BLOCK\",\"@code\":null,\"@template\":\"NONE\",\"@flowId\":null,\"@flowExecutionId\":null,\"@provider\":null,\"@lastModifiedAt\":null},{\"@type\":\"PC-NEWSSTAND-PRESS-BLOCK\",\"blocks\":null,\"materials\":null,\"excludeInPaging\":false,\"positionForPaging\":0,\"realtime\":false,\"pid\":\"938\",\"name\":\"그린포스트코리아\",\"logoLight\":{\"url\":\"https://s.pstatic.net/static/newsstand/2020/logo/light/0604/938.png\"},\"logoDark\":{\"url\":\"https://s.pstatic.net/static/newsstand/2020/logo/dark/0604/938.png\"},\"showThumbnailView\":true,\"showListView\":true,\"regDate\":\"20240619 11:20:35\",\"_id\":null,\"@type\":\"PC-NEWSSTAND-PRESS-BLOCK\",\"@code\":null,\"@template\":\"NONE\",\"@flowId\":null,\"@flowExecutionId\":null,\"@provider\":null,\"@lastModifiedAt\":null},{\"@type\":\"PC-NEWSSTAND-PRESS-BLOCK\",\"blocks\":null,\"materials\":null,\"excludeInPaging\":false,\"positionForPaging\":0,\"realtime\":false,\"pid\":\"818\",\"name\":\"IT동아\",\"logoLight\":{\"url\":\"https://s.pstatic.net/static/newsstand/2020/logo/light/0604/818.png\"},\"logoDark\":{\"url\":\"https://s.pstatic.net/static/newsstand/2020/logo/dark/0604/818.png\"},\"showThumbnailView\":true,\"showListView\":true,\"regDate\":\"20240619 11:18:10\",\"_id\":null,\"@type\":\"PC-NEWSSTAND-PRESS-BLOCK\",\"@code\":null,\"@template\":\"NONE\",\"@flowId\":null,\"@flowExecutionId\":null,\"@provider\":null,\"@lastModifiedAt\":null},{\"@type\":\"PC-NEWSSTAND-PRESS-BLOCK\",\"blocks\":null,\"materials\":null,\"excludeInPaging\":false,\"positionForPaging\":0,\"realtime\":false,\"pid\":\"819\",\"name\":\"바이라인네트워크\",\"logoLight\":{\"url\":\"https://s.pstatic.net/static/newsstand/2020/logo/light/0604/819.png\"},\"logoDark\":{\"url\":\"https://s.pstatic.net/static/newsstand/2020/logo/dark/0604/819.png\"},\"showThumbnailView\":true,\"showListView\":true,\"regDate\":\"20240619 08:55:53\",\"_id\":null,\"@type\":\"PC-NEWSSTAND-PRESS-BLOCK\",\"@code\":null,\"@template\":\"NONE\",\"@flowId\":null,\"@flowExecutionId\":null,\"@provider\":null,\"@lastModifiedAt\":null},{\"@type\":\"PC-NEWSSTAND-PRESS-BLOCK\",\"blocks\":null,\"materials\":null,\"excludeInPaging\":false,\"positionForPaging\":0,\"realtime\":false,\"pid\":\"140\",\"name\":\"씨네21\",\"logoLight\":{\"url\":\"https://s.pstatic.net/static/newsstand/2020/logo/light/0604/140.png\"},\"logoDark\":{\"url\":\"https://s.pstatic.net/static/newsstand/2020/logo/dark/0604/140.png\"},\"showThumbnailView\":true,\"showListView\":true,\"regDate\":\"20240619 11:00:00\",\"_id\":null,\"@type\":\"PC-NEWSSTAND-PRESS-BLOCK\",\"@code\":null,\"@template\":\"NONE\",\"@flowId\":null,\"@flowExecutionId\":null,\"@provider\":null,\"@lastModifiedAt\":null},{\"@type\":\"PC-NEWSSTAND-PRESS-BLOCK\",\"blocks\":null,\"materials\":null,\"excludeInPaging\":false,\"positionForPaging\":0,\"realtime\":false,\"pid\":\"020\",\"name\":\"동아일보\",\"logoLight\":{\"url\":\"https://s.pstatic.net/static/newsstand/2020/logo/light/0604/020.png\"},\"logoDark\":{\"url\":\"https://s.pstatic.net/static/newsstand/2020/logo/dark/0604/020.png\"},\"showThumbnailView\":true,\"showListView\":true,\"regDate\":\"20240619 11:12:04\",\"_id\":null,\"@type\":\"PC-NEWSSTAND-PRESS-BLOCK\",\"@code\":null,\"@template\":\"NONE\",\"@flowId\":null,\"@flowExecutionId\":null,\"@provider\":null,\"@lastModifiedAt\":null},{\"@type\":\"PC-NEWSSTAND-PRESS-BLOCK\",\"blocks\":null,\"materials\":null,\"excludeInPaging\":false,\"positionForPaging\":0,\"realtime\":false,\"pid\":\"021\",\"name\":\"문화일보\",\"logoLight\":{\"url\":\"https://s.pstatic.net/static/newsstand/2020/logo/light/0604/021.png\"},\"logoDark\":{\"url\":\"https://s.pstatic.net/static/newsstand/2020/logo/dark/0604/021.png\"},\"showThumbnailView\":true,\"showListView\":true,\"regDate\":\"20240619 11:28:41\",\"_id\":null,\"@type\":\"PC-NEWSSTAND-PRESS-BLOCK\",\"@code\":null,\"@template\":\"NONE\",\"@flowId\":null,\"@flowExecutionId\":null,\"@provider\":null,\"@lastModifiedAt\":null},{\"@type\":\"PC-NEWSSTAND-PRESS-BLOCK\",\"blocks\":null,\"materials\":null,\"excludeInPaging\":false,\"positionForPaging\":0,\"realtime\":false,\"pid\":\"384\",\"name\":\"한국대학신문\",\"logoLight\":{\"url\":\"https://s.pstatic.net/static/newsstand/2020/logo/light/0604/384.png\"},\"logoDark\":{\"url\":\"https://s.pstatic.net/static/newsstand/2020/logo/dark/0604/384.png\"},\"showThumbnailView\":true,\"showListView\":true,\"regDate\":\"20240619 11:20:06\",\"_id\":null,\"@type\":\"PC-NEWSSTAND-PRESS-BLOCK\",\"@code\":null,\"@template\":\"NONE\",\"@flowId\":null,\"@flowExecutionId\":null,\"@provider\":null,\"@lastModifiedAt\":null},{\"@type\":\"PC-NEWSSTAND-PRESS-BLOCK\",\"blocks\":null,\"materials\":null,\"excludeInPaging\":false,\"positionForPaging\":0,\"realtime\":false,\"pid\":\"022\",\"name\":\"세계일보\",\"logoLight\":{\"url\":\"https://s.pstatic.net/static/newsstand/2020/logo/light/0604/022.png\"},\"logoDark\":{\"url\":\"https://s.pstatic.net/static/newsstand/2020/logo/dark/0604/022.png\"},\"showThumbnailView\":true,\"showListView\":true,\"regDate\":\"20240619 11:30:42\",\"_id\":null,\"@type\":\"PC-NEWSSTAND-PRESS-BLOCK\",\"@code\":null,\"@template\":\"NONE\",\"@flowId\":null,\"@flowExecutionId\":null,\"@provider\":null,\"@lastModifiedAt\":null},{\"@type\":\"PC-NEWSSTAND-PRESS-BLOCK\",\"blocks\":null,\"materials\":null,\"excludeInPaging\":false,\"positionForPaging\":0,\"realtime\":false,\"pid\":\"143\",\"name\":\"쿠키뉴스\",\"logoLight\":{\"url\":\"https://s.pstatic.net/static/newsstand/up/2024/0610/nsd18952420.png\"},\"logoDark\":{\"url\":\"https://s.pstatic.net/static/newsstand/up/2024/0610/nsd181018320.png\"},\"showThumbnailView\":true,\"showListView\":true,\"regDate\":\"20240619 11:19:18\",\"_id\":null,\"@type\":\"PC-NEWSSTAND-PRESS-BLOCK\",\"@code\":null,\"@template\":\"NONE\",\"@flowId\":null,\"@flowExecutionId\":null,\"@provider\":null,\"@lastModifiedAt\":null},{\"@type\":\"PC-NEWSSTAND-PRESS-BLOCK\",\"blocks\":null,\"materials\":null,\"excludeInPaging\":false,\"positionForPaging\":0,\"realtime\":false,\"pid\":\"385\",\"name\":\"영남일보\",\"logoLight\":{\"url\":\"https://s.pstatic.net/static/newsstand/2020/logo/light/0604/385.png\"},\"logoDark\":{\"url\":\"https://s.pstatic.net/static/newsstand/2020/logo/dark/0604/385.png\"},\"showThumbnailView\":true,\"showListView\":true,\"regDate\":\"20240619 11:20:03\",\"_id\":null,\"@type\":\"PC-NEWSSTAND-PRESS-BLOCK\",\"@code\":null,\"@template\":\"NONE\",\"@flowId\":null,\"@flowExecutionId\":null,\"@provider\":null,\"@lastModifiedAt\":null},{\"@type\":\"PC-NEWSSTAND-PRESS-BLOCK\",\"blocks\":null,\"materials\":null,\"excludeInPaging\":false,\"positionForPaging\":0,\"realtime\":false,\"pid\":\"023\",\"name\":\"조선일보\",\"logoLight\":{\"url\":\"https://s.pstatic.net/static/newsstand/up/2020/0903/nsd185255316.png\"},\"logoDark\":{\"url\":\"https://s.pstatic.net/static/newsstand/up/2020/0903/nsd185246724.png\"},\"showThumbnailView\":true,\"showListView\":true,\"regDate\":\"20240619 11:27:57\",\"_id\":null,\"@type\":\"PC-NEWSSTAND-PRESS-BLOCK\",\"@code\":null,\"@template\":\"NONE\",\"@flowId\":null,\"@flowExecutionId\":null,\"@provider\":null,\"@lastModifiedAt\":null},{\"@type\":\"PC-NEWSSTAND-PRESS-BLOCK\",\"blocks\":null,\"materials\":null,\"excludeInPaging\":false,\"positionForPaging\":0,\"realtime\":false,\"pid\":\"144\",\"name\":\"스포츠경향\",\"logoLight\":{\"url\":\"https://s.pstatic.net/static/newsstand/2020/logo/light/0604/144.png\"},\"logoDark\":{\"url\":\"https://s.pstatic.net/static/newsstand/2020/logo/dark/0604/144.png\"},\"showThumbnailView\":true,\"showListView\":true,\"regDate\":\"20240619 11:04:25\",\"_id\":null,\"@type\":\"PC-NEWSSTAND-PRESS-BLOCK\",\"@code\":null,\"@template\":\"NONE\",\"@flowId\":null,\"@flowExecutionId\":null,\"@provider\":null,\"@lastModifiedAt\":null},{\"@type\":\"PC-NEWSSTAND-PRESS-BLOCK\",\"blocks\":null,\"materials\":null,\"excludeInPaging\":false,\"positionForPaging\":0,\"realtime\":false,\"pid\":\"024\",\"name\":\"매경이코노미\",\"logoLight\":{\"url\":\"https://s.pstatic.net/static/newsstand/2020/logo/light/0604/024.png\"},\"logoDark\":{\"url\":\"https://s.pstatic.net/static/newsstand/2020/logo/dark/0604/024.png\"},\"showThumbnailView\":true,\"showListView\":true,\"regDate\":\"20240619 11:24:01\",\"_id\":null,\"@type\":\"PC-NEWSSTAND-PRESS-BLOCK\",\"@code\":null,\"@template\":\"NONE\",\"@flowId\":null,\"@flowExecutionId\":null,\"@provider\":null,\"@lastModifiedAt\":null},{\"@type\":\"PC-NEWSSTAND-PRESS-BLOCK\",\"blocks\":null,\"materials\":null,\"excludeInPaging\":false,\"positionForPaging\":0,\"realtime\":false,\"pid\":\"387\",\"name\":\"인천일보\",\"logoLight\":{\"url\":\"https://s.pstatic.net/static/newsstand/up/2022/0331/nsd155937506.png\"},\"logoDark\":{\"url\":\"https://s.pstatic.net/static/newsstand/up/2022/0331/nsd15594915.png\"},\"showThumbnailView\":true,\"showListView\":true,\"regDate\":\"20240619 11:20:03\",\"_id\":null,\"@type\":\"PC-NEWSSTAND-PRESS-BLOCK\",\"@code\":null,\"@template\":\"NONE\",\"@flowId\":null,\"@flowExecutionId\":null,\"@provider\":null,\"@lastModifiedAt\":null},{\"@type\":\"PC-NEWSSTAND-PRESS-BLOCK\",\"blocks\":null,\"materials\":null,\"excludeInPaging\":false,\"positionForPaging\":0,\"realtime\":false,\"pid\":\"025\",\"name\":\"중앙일보\",\"logoLight\":{\"url\":\"https://s.pstatic.net/static/newsstand/up/2021/0824/nsd115034872.png\"},\"logoDark\":{\"url\":\"https://s.pstatic.net/static/newsstand/up/2021/0823/nsd101834185.png\"},\"showThumbnailView\":true,\"showListView\":true,\"regDate\":\"20240619 11:17:05\",\"_id\":null,\"@type\":\"PC-NEWSSTAND-PRESS-BLOCK\",\"@code\":null,\"@template\":\"NONE\",\"@flowId\":null,\"@flowExecutionId\":null,\"@provider\":null,\"@lastModifiedAt\":null},{\"@type\":\"PC-NEWSSTAND-PRESS-BLOCK\",\"blocks\":null,\"materials\":null,\"excludeInPaging\":false,\"positionForPaging\":0,\"realtime\":false,\"pid\":\"388\",\"name\":\"전남일보\",\"logoLight\":{\"url\":\"https://s.pstatic.net/static/newsstand/2020/logo/light/0604/388.png\"},\"logoDark\":{\"url\":\"https://s.pstatic.net/static/newsstand/2020/logo/dark/0604/388.png\"},\"showThumbnailView\":true,\"showListView\":true,\"regDate\":\"20240619 11:25:01\",\"_id\":null,\"@type\":\"PC-NEWSSTAND-PRESS-BLOCK\",\"@code\":null,\"@template\":\"NONE\",\"@flowId\":null,\"@flowExecutionId\":null,\"@provider\":null,\"@lastModifiedAt\":null},{\"@type\":\"PC-NEWSSTAND-PRESS-BLOCK\",\"blocks\":null,\"materials\":null,\"excludeInPaging\":false,\"positionForPaging\":0,\"realtime\":false,\"pid\":\"389\",\"name\":\"제주도민일보\",\"logoLight\":{\"url\":\"https://s.pstatic.net/static/newsstand/2020/logo/light/0604/389.png\"},\"logoDark\":{\"url\":\"https://s.pstatic.net/static/newsstand/2020/logo/dark/0604/389.png\"},\"showThumbnailView\":true,\"showListView\":true,\"regDate\":\"20240619 11:20:21\",\"_id\":null,\"@type\":\"PC-NEWSSTAND-PRESS-BLOCK\",\"@code\":null,\"@template\":\"NONE\",\"@flowId\":null,\"@flowExecutionId\":null,\"@provider\":null,\"@lastModifiedAt\":null},{\"@type\":\"PC-NEWSSTAND-PRESS-BLOCK\",\"blocks\":null,\"materials\":null,\"excludeInPaging\":false,\"positionForPaging\":0,\"realtime\":false,\"pid\":\"940\",\"name\":\"스포츠투데이\",\"logoLight\":{\"url\":\"https://s.pstatic.net/static/newsstand/up/2022/0328/nsd223244325.png\"},\"logoDark\":{\"url\":\"https://s.pstatic.net/static/newsstand/up/2022/0328/nsd223257107.png\"},\"showThumbnailView\":true,\"showListView\":true,\"regDate\":\"20240619 11:20:01\",\"_id\":null,\"@type\":\"PC-NEWSSTAND-PRESS-BLOCK\",\"@code\":null,\"@template\":\"NONE\",\"@flowId\":null,\"@flowExecutionId\":null,\"@provider\":null,\"@lastModifiedAt\":null},{\"@type\":\"PC-NEWSSTAND-PRESS-BLOCK\",\"blocks\":null,\"materials\":null,\"excludeInPaging\":false,\"positionForPaging\":0,\"realtime\":false,\"pid\":\"028\",\"name\":\"한겨레\",\"logoLight\":{\"url\":\"https://s.pstatic.net/static/newsstand/up/2024/0219/nsd145828169.png\"},\"logoDark\":{\"url\":\"https://s.pstatic.net/static/newsstand/up/2024/0219/nsd14592425.png\"},\"showThumbnailView\":true,\"showListView\":true,\"regDate\":\"20240619 11:33:12\",\"_id\":null,\"@type\":\"PC-NEWSSTAND-PRESS-BLOCK\",\"@code\":null,\"@template\":\"NONE\",\"@flowId\":null,\"@flowExecutionId\":null,\"@provider\":null,\"@lastModifiedAt\":null},{\"@type\":\"PC-NEWSSTAND-PRESS-BLOCK\",\"blocks\":null,\"materials\":null,\"excludeInPaging\":false,\"positionForPaging\":0,\"realtime\":false,\"pid\":\"820\",\"name\":\"월간노동법률\",\"logoLight\":{\"url\":\"https://s.pstatic.net/static/newsstand/up/2022/0817/nsd14480190.png\"},\"logoDark\":{\"url\":\"https://s.pstatic.net/static/newsstand/up/2022/0817/nsd144754102.png\"},\"showThumbnailView\":true,\"showListView\":true,\"regDate\":\"20240618 18:11:32\",\"_id\":null,\"@type\":\"PC-NEWSSTAND-PRESS-BLOCK\",\"@code\":null,\"@template\":\"NONE\",\"@flowId\":null,\"@flowExecutionId\":null,\"@provider\":null,\"@lastModifiedAt\":null},{\"@type\":\"PC-NEWSSTAND-PRESS-BLOCK\",\"blocks\":null,\"materials\":null,\"excludeInPaging\":false,\"positionForPaging\":0,\"realtime\":false,\"pid\":\"941\",\"name\":\"초이스경제\",\"logoLight\":{\"url\":\"https://s.pstatic.net/static/newsstand/2020/logo/light/0604/941.png\"},\"logoDark\":{\"url\":\"https://s.pstatic.net/static/newsstand/2020/logo/dark/0604/941.png\"},\"showThumbnailView\":true,\"showListView\":true,\"regDate\":\"20240619 11:25:02\",\"_id\":null,\"@type\":\"PC-NEWSSTAND-PRESS-BLOCK\",\"@code\":null,\"@template\":\"NONE\",\"@flowId\":null,\"@flowExecutionId\":null,\"@provider\":null,\"@lastModifiedAt\":null},{\"@type\":\"PC-NEWSSTAND-PRESS-BLOCK\",\"blocks\":null,\"materials\":null,\"excludeInPaging\":false,\"positionForPaging\":0,\"realtime\":false,\"pid\":\"029\",\"name\":\"디지털타임스\",\"logoLight\":{\"url\":\"https://s.pstatic.net/static/newsstand/2020/logo/light/0604/029.png\"},\"logoDark\":{\"url\":\"https://s.pstatic.net/static/newsstand/2020/logo/dark/0604/029.png\"},\"showThumbnailView\":true,\"showListView\":true,\"regDate\":\"20240619 11:23:19\",\"_id\":null,\"@type\":\"PC-NEWSSTAND-PRESS-BLOCK\",\"@code\":null,\"@template\":\"NONE\",\"@flowId\":null,\"@flowExecutionId\":null,\"@provider\":null,\"@lastModifiedAt\":null},{\"@type\":\"PC-NEWSSTAND-PRESS-BLOCK\",\"blocks\":null,\"materials\":null,\"excludeInPaging\":false,\"positionForPaging\":0,\"realtime\":false,\"pid\":\"821\",\"name\":\"경남도민일보\",\"logoLight\":{\"url\":\"https://s.pstatic.net/static/newsstand/2020/logo/light/0604/821.png\"},\"logoDark\":{\"url\":\"https://s.pstatic.net/static/newsstand/2020/logo/dark/0604/821.png\"},\"showThumbnailView\":true,\"showListView\":true,\"regDate\":\"20240619 11:20:18\",\"_id\":null,\"@type\":\"PC-NEWSSTAND-PRESS-BLOCK\",\"@code\":null,\"@template\":\"NONE\",\"@flowId\":null,\"@flowExecutionId\":null,\"@provider\":null,\"@lastModifiedAt\":null},{\"@type\":\"PC-NEWSSTAND-PRESS-BLOCK\",\"blocks\":null,\"materials\":null,\"excludeInPaging\":false,\"positionForPaging\":0,\"realtime\":false,\"pid\":\"942\",\"name\":\"비즈니스포스트\",\"logoLight\":{\"url\":\"https://s.pstatic.net/static/newsstand/2020/logo/light/0604/942.png\"},\"logoDark\":{\"url\":\"https://s.pstatic.net/static/newsstand/2020/logo/dark/0604/942.png\"},\"showThumbnailView\":true,\"showListView\":true,\"regDate\":\"20240619 09:38:37\",\"_id\":null,\"@type\":\"PC-NEWSSTAND-PRESS-BLOCK\",\"@code\":null,\"@template\":\"NONE\",\"@flowId\":null,\"@flowExecutionId\":null,\"@provider\":null,\"@lastModifiedAt\":null},{\"@type\":\"PC-NEWSSTAND-PRESS-BLOCK\",\"blocks\":null,\"materials\":null,\"excludeInPaging\":false,\"positionForPaging\":0,\"realtime\":false,\"pid\":\"822\",\"name\":\"프라임경제\",\"logoLight\":{\"url\":\"https://s.pstatic.net/static/newsstand/up/2020/0730/nsd13728808.png\"},\"logoDark\":{\"url\":\"https://s.pstatic.net/static/newsstand/up/2020/0730/nsd13719939.png\"},\"showThumbnailView\":true,\"showListView\":true,\"regDate\":\"20240619 11:15:06\",\"_id\":null,\"@type\":\"PC-NEWSSTAND-PRESS-BLOCK\",\"@code\":null,\"@template\":\"NONE\",\"@flowId\":null,\"@flowExecutionId\":null,\"@provider\":null,\"@lastModifiedAt\":null},{\"@type\":\"PC-NEWSSTAND-PRESS-BLOCK\",\"blocks\":null,\"materials\":null,\"excludeInPaging\":false,\"positionForPaging\":0,\"realtime\":false,\"pid\":\"943\",\"name\":\"비즈워치\",\"logoLight\":{\"url\":\"https://s.pstatic.net/static/newsstand/up/2023/0213/nsd17943530.png\"},\"logoDark\":{\"url\":\"https://s.pstatic.net/static/newsstand/up/2023/0213/nsd17100999.png\"},\"showThumbnailView\":true,\"showListView\":true,\"regDate\":\"20240619 11:02:45\",\"_id\":null,\"@type\":\"PC-NEWSSTAND-PRESS-BLOCK\",\"@code\":null,\"@template\":\"NONE\",\"@flowId\":null,\"@flowExecutionId\":null,\"@provider\":null,\"@lastModifiedAt\":null},{\"@type\":\"PC-NEWSSTAND-PRESS-BLOCK\",\"blocks\":null,\"materials\":null,\"excludeInPaging\":false,\"positionForPaging\":0,\"realtime\":false,\"pid\":\"823\",\"name\":\"KPI뉴스\",\"logoLight\":{\"url\":\"https://s.pstatic.net/static/newsstand/up/2024/0329/nsd145553436.png\"},\"logoDark\":{\"url\":\"https://s.pstatic.net/static/newsstand/up/2024/0329/nsd14554610.png\"},\"showThumbnailView\":true,\"showListView\":true,\"regDate\":\"20240618 17:49:28\",\"_id\":null,\"@type\":\"PC-NEWSSTAND-PRESS-BLOCK\",\"@code\":null,\"@template\":\"NONE\",\"@flowId\":null,\"@flowExecutionId\":null,\"@provider\":null,\"@lastModifiedAt\":null},{\"@type\":\"PC-NEWSSTAND-PRESS-BLOCK\",\"blocks\":null,\"materials\":null,\"excludeInPaging\":false,\"positionForPaging\":0,\"realtime\":false,\"pid\":\"944\",\"name\":\"나우뉴스\",\"logoLight\":{\"url\":\"https://s.pstatic.net/static/newsstand/up/2022/0804/nsd1343054.png\"},\"logoDark\":{\"url\":\"https://s.pstatic.net/static/newsstand/up/2022/0804/nsd13457540.png\"},\"showThumbnailView\":true,\"showListView\":true,\"regDate\":\"20240619 08:25:43\",\"_id\":null,\"@type\":\"PC-NEWSSTAND-PRESS-BLOCK\",\"@code\":null,\"@template\":\"NONE\",\"@flowId\":null,\"@flowExecutionId\":null,\"@provider\":null,\"@lastModifiedAt\":null},{\"@type\":\"PC-NEWSSTAND-PRESS-BLOCK\",\"blocks\":null,\"materials\":null,\"excludeInPaging\":false,\"positionForPaging\":0,\"realtime\":false,\"pid\":\"824\",\"name\":\"서울파이낸스\",\"logoLight\":{\"url\":\"https://s.pstatic.net/static/newsstand/2020/logo/light/0604/824.png\"},\"logoDark\":{\"url\":\"https://s.pstatic.net/static/newsstand/2020/logo/dark/0604/824.png\"},\"showThumbnailView\":true,\"showListView\":true,\"regDate\":\"20240619 11:20:18\",\"_id\":null,\"@type\":\"PC-NEWSSTAND-PRESS-BLOCK\",\"@code\":null,\"@template\":\"NONE\",\"@flowId\":null,\"@flowExecutionId\":null,\"@provider\":null,\"@lastModifiedAt\":null},{\"@type\":\"PC-NEWSSTAND-PRESS-BLOCK\",\"blocks\":null,\"materials\":null,\"excludeInPaging\":false,\"positionForPaging\":0,\"realtime\":false,\"pid\":\"945\",\"name\":\"YTN사이언스\",\"logoLight\":{\"url\":\"https://s.pstatic.net/static/newsstand/up/2020/0922/nsd152336602.png\"},\"logoDark\":{\"url\":\"https://s.pstatic.net/static/newsstand/up/2020/0922/nsd152323211.png\"},\"showThumbnailView\":true,\"showListView\":true,\"regDate\":\"20240619 11:30:00\",\"_id\":null,\"@type\":\"PC-NEWSSTAND-PRESS-BLOCK\",\"@code\":null,\"@template\":\"NONE\",\"@flowId\":null,\"@flowExecutionId\":null,\"@provider\":null,\"@lastModifiedAt\":null},{\"@type\":\"PC-NEWSSTAND-PRESS-BLOCK\",\"blocks\":null,\"materials\":null,\"excludeInPaging\":false,\"positionForPaging\":0,\"realtime\":false,\"pid\":\"825\",\"name\":\"이로운넷\",\"logoLight\":{\"url\":\"https://s.pstatic.net/static/newsstand/2020/logo/light/0604/825.png\"},\"logoDark\":{\"url\":\"https://s.pstatic.net/static/newsstand/2020/logo/dark/0604/825.png\"},\"showThumbnailView\":true,\"showListView\":true,\"regDate\":\"20240619 11:20:20\",\"_id\":null,\"@type\":\"PC-NEWSSTAND-PRESS-BLOCK\",\"@code\":null,\"@template\":\"NONE\",\"@flowId\":null,\"@flowExecutionId\":null,\"@provider\":null,\"@lastModifiedAt\":null},{\"@type\":\"PC-NEWSSTAND-PRESS-BLOCK\",\"blocks\":null,\"materials\":null,\"excludeInPaging\":false,\"positionForPaging\":0,\"realtime\":false,\"pid\":\"946\",\"name\":\"YONHAPNEWS\",\"logoLight\":{\"url\":\"https://s.pstatic.net/static/newsstand/2020/logo/light/0604/946.png\"},\"logoDark\":{\"url\":\"https://s.pstatic.net/static/newsstand/2020/logo/dark/0604/946.png\"},\"showThumbnailView\":true,\"showListView\":true,\"regDate\":\"20240619 11:12:40\",\"_id\":null,\"@type\":\"PC-NEWSSTAND-PRESS-BLOCK\",\"@code\":null,\"@template\":\"NONE\",\"@flowId\":null,\"@flowExecutionId\":null,\"@provider\":null,\"@lastModifiedAt\":null},{\"@type\":\"PC-NEWSSTAND-PRESS-BLOCK\",\"blocks\":null,\"materials\":null,\"excludeInPaging\":false,\"positionForPaging\":0,\"realtime\":false,\"pid\":\"826\",\"name\":\"톱데일리\",\"logoLight\":{\"url\":\"https://s.pstatic.net/static/newsstand/up/2022/0817/nsd14491516.png\"},\"logoDark\":{\"url\":\"https://s.pstatic.net/static/newsstand/up/2022/0817/nsd14499446.png\"},\"showThumbnailView\":true,\"showListView\":true,\"regDate\":\"20240619 11:20:13\",\"_id\":null,\"@type\":\"PC-NEWSSTAND-PRESS-BLOCK\",\"@code\":null,\"@template\":\"NONE\",\"@flowId\":null,\"@flowExecutionId\":null,\"@provider\":null,\"@lastModifiedAt\":null},{\"@type\":\"PC-NEWSSTAND-PRESS-BLOCK\",\"blocks\":null,\"materials\":null,\"excludeInPaging\":false,\"positionForPaging\":0,\"realtime\":false,\"pid\":\"947\",\"name\":\"조이뉴스24\",\"logoLight\":{\"url\":\"https://s.pstatic.net/static/newsstand/2020/logo/light/0604/947.png\"},\"logoDark\":{\"url\":\"https://s.pstatic.net/static/newsstand/2020/logo/dark/0604/947.png\"},\"showThumbnailView\":true,\"showListView\":true,\"regDate\":\"20240619 11:05:49\",\"_id\":null,\"@type\":\"PC-NEWSSTAND-PRESS-BLOCK\",\"@code\":null,\"@template\":\"NONE\",\"@flowId\":null,\"@flowExecutionId\":null,\"@provider\":null,\"@lastModifiedAt\":null},{\"@type\":\"PC-NEWSSTAND-PRESS-BLOCK\",\"blocks\":null,\"materials\":null,\"excludeInPaging\":false,\"positionForPaging\":0,\"realtime\":false,\"pid\":\"827\",\"name\":\"베이비뉴스\",\"logoLight\":{\"url\":\"https://s.pstatic.net/static/newsstand/up/2021/0222/nsd13325188.png\"},\"logoDark\":{\"url\":\"https://s.pstatic.net/static/newsstand/up/2021/0222/nsd13338358.png\"},\"showThumbnailView\":true,\"showListView\":true,\"regDate\":\"20240619 11:20:22\",\"_id\":null,\"@type\":\"PC-NEWSSTAND-PRESS-BLOCK\",\"@code\":null,\"@template\":\"NONE\",\"@flowId\":null,\"@flowExecutionId\":null,\"@provider\":null,\"@lastModifiedAt\":null},{\"@type\":\"PC-NEWSSTAND-PRESS-BLOCK\",\"blocks\":null,\"materials\":null,\"excludeInPaging\":false,\"positionForPaging\":0,\"realtime\":false,\"pid\":\"948\",\"name\":\"한겨레21\",\"logoLight\":{\"url\":\"https://s.pstatic.net/static/newsstand/2020/logo/light/0604/948.png\"},\"logoDark\":{\"url\":\"https://s.pstatic.net/static/newsstand/2020/logo/dark/0604/948.png\"},\"showThumbnailView\":true,\"showListView\":true,\"regDate\":\"20240619 10:58:45\",\"_id\":null,\"@type\":\"PC-NEWSSTAND-PRESS-BLOCK\",\"@code\":null,\"@template\":\"NONE\",\"@flowId\":null,\"@flowExecutionId\":null,\"@provider\":null,\"@lastModifiedAt\":null},{\"@type\":\"PC-NEWSSTAND-PRESS-BLOCK\",\"blocks\":null,\"materials\":null,\"excludeInPaging\":false,\"positionForPaging\":0,\"realtime\":false,\"pid\":\"828\",\"name\":\"식품저널 foodnews\",\"logoLight\":{\"url\":\"https://s.pstatic.net/static/newsstand/up/2021/0211/nsd0427277.png\"},\"logoDark\":{\"url\":\"https://s.pstatic.net/static/newsstand/up/2021/0211/nsd0439284.png\"},\"showThumbnailView\":true,\"showListView\":true,\"regDate\":\"20240619 11:20:22\",\"_id\":null,\"@type\":\"PC-NEWSSTAND-PRESS-BLOCK\",\"@code\":null,\"@template\":\"NONE\",\"@flowId\":null,\"@flowExecutionId\":null,\"@provider\":null,\"@lastModifiedAt\":null},{\"@type\":\"PC-NEWSSTAND-PRESS-BLOCK\",\"blocks\":null,\"materials\":null,\"excludeInPaging\":false,\"positionForPaging\":0,\"realtime\":false,\"pid\":\"829\",\"name\":\"미디어스\",\"logoLight\":{\"url\":\"https://s.pstatic.net/static/newsstand/up/2021/0211/nsd01153196.png\"},\"logoDark\":{\"url\":\"https://s.pstatic.net/static/newsstand/up/2021/0211/nsd01153196.png\"},\"showThumbnailView\":true,\"showListView\":true,\"regDate\":\"20240619 11:20:29\",\"_id\":null,\"@type\":\"PC-NEWSSTAND-PRESS-BLOCK\",\"@code\":null,\"@template\":\"NONE\",\"@flowId\":null,\"@flowExecutionId\":null,\"@provider\":null,\"@lastModifiedAt\":null},{\"@type\":\"PC-NEWSSTAND-PRESS-BLOCK\",\"blocks\":null,\"materials\":null,\"excludeInPaging\":false,\"positionForPaging\":0,\"realtime\":false,\"pid\":\"391\",\"name\":\"충청일보\",\"logoLight\":{\"url\":\"https://s.pstatic.net/static/newsstand/2020/logo/light/0604/391.png\"},\"logoDark\":{\"url\":\"https://s.pstatic.net/static/newsstand/2020/logo/dark/0604/391.png\"},\"showThumbnailView\":true,\"showListView\":true,\"regDate\":\"20240618 20:18:27\",\"_id\":null,\"@type\":\"PC-NEWSSTAND-PRESS-BLOCK\",\"@code\":null,\"@template\":\"NONE\",\"@flowId\":null,\"@flowExecutionId\":null,\"@provider\":null,\"@lastModifiedAt\":null},{\"@type\":\"PC-NEWSSTAND-PRESS-BLOCK\",\"blocks\":null,\"materials\":null,\"excludeInPaging\":false,\"positionForPaging\":0,\"realtime\":false,\"pid\":\"030\",\"name\":\"전자신문\",\"logoLight\":{\"url\":\"https://s.pstatic.net/static/newsstand/2020/logo/light/0604/030.png\"},\"logoDark\":{\"url\":\"https://s.pstatic.net/static/newsstand/2020/logo/dark/0604/030.png\"},\"showThumbnailView\":true,\"showListView\":true,\"regDate\":\"20240619 11:30:15\",\"_id\":null,\"@type\":\"PC-NEWSSTAND-PRESS-BLOCK\",\"@code\":null,\"@template\":\"NONE\",\"@flowId\":null,\"@flowExecutionId\":null,\"@provider\":null,\"@lastModifiedAt\":null},{\"@type\":\"PC-NEWSSTAND-PRESS-BLOCK\",\"blocks\":null,\"materials\":null,\"excludeInPaging\":false,\"positionForPaging\":0,\"realtime\":false,\"pid\":\"031\",\"name\":\"아이뉴스24\",\"logoLight\":{\"url\":\"https://s.pstatic.net/static/newsstand/2020/logo/light/0604/031.png\"},\"logoDark\":{\"url\":\"https://s.pstatic.net/static/newsstand/2020/logo/dark/0604/031.png\"},\"showThumbnailView\":true,\"showListView\":true,\"regDate\":\"20240619 11:25:10\",\"_id\":null,\"@type\":\"PC-NEWSSTAND-PRESS-BLOCK\",\"@code\":null,\"@template\":\"NONE\",\"@flowId\":null,\"@flowExecutionId\":null,\"@provider\":null,\"@lastModifiedAt\":null},{\"@type\":\"PC-NEWSSTAND-PRESS-BLOCK\",\"blocks\":null,\"materials\":null,\"excludeInPaging\":false,\"positionForPaging\":0,\"realtime\":false,\"pid\":\"032\",\"name\":\"경향신문\",\"logoLight\":{\"url\":\"https://s.pstatic.net/static/newsstand/2020/logo/light/0604/032.png\"},\"logoDark\":{\"url\":\"https://s.pstatic.net/static/newsstand/2020/logo/dark/0604/032.png\"},\"showThumbnailView\":true,\"showListView\":true,\"regDate\":\"20240619 11:20:26\",\"_id\":null,\"@type\":\"PC-NEWSSTAND-PRESS-BLOCK\",\"@code\":null,\"@template\":\"NONE\",\"@flowId\":null,\"@flowExecutionId\":null,\"@provider\":null,\"@lastModifiedAt\":null},{\"@type\":\"PC-NEWSSTAND-PRESS-BLOCK\",\"blocks\":null,\"materials\":null,\"excludeInPaging\":false,\"positionForPaging\":0,\"realtime\":false,\"pid\":\"396\",\"name\":\"스포츠월드\",\"logoLight\":{\"url\":\"https://s.pstatic.net/static/newsstand/2020/logo/light/0604/396.png\"},\"logoDark\":{\"url\":\"https://s.pstatic.net/static/newsstand/2020/logo/dark/0604/396.png\"},\"showThumbnailView\":true,\"showListView\":true,\"regDate\":\"20240619 10:57:29\",\"_id\":null,\"@type\":\"PC-NEWSSTAND-PRESS-BLOCK\",\"@code\":null,\"@template\":\"NONE\",\"@flowId\":null,\"@flowExecutionId\":null,\"@provider\":null,\"@lastModifiedAt\":null},{\"@type\":\"PC-NEWSSTAND-PRESS-BLOCK\",\"blocks\":null,\"materials\":null,\"excludeInPaging\":false,\"positionForPaging\":0,\"realtime\":false,\"pid\":\"277\",\"name\":\"아시아경제\",\"logoLight\":{\"url\":\"https://s.pstatic.net/static/newsstand/2020/logo/light/0604/277.png\"},\"logoDark\":{\"url\":\"https://s.pstatic.net/static/newsstand/2020/logo/dark/0604/277.png\"},\"showThumbnailView\":true,\"showListView\":true,\"regDate\":\"20240619 11:10:48\",\"_id\":null,\"@type\":\"PC-NEWSSTAND-PRESS-BLOCK\",\"@code\":null,\"@template\":\"NONE\",\"@flowId\":null,\"@flowExecutionId\":null,\"@provider\":null,\"@lastModifiedAt\":null},{\"@type\":\"PC-NEWSSTAND-PRESS-BLOCK\",\"blocks\":null,\"materials\":null,\"excludeInPaging\":false,\"positionForPaging\":0,\"realtime\":false,\"pid\":\"950\",\"name\":\"월간중앙\",\"logoLight\":{\"url\":\"https://s.pstatic.net/static/newsstand/2020/logo/light/0604/950.png\"},\"logoDark\":{\"url\":\"https://s.pstatic.net/static/newsstand/2020/logo/dark/0604/950.png\"},\"showThumbnailView\":true,\"showListView\":true,\"regDate\":\"20240619 11:00:00\",\"_id\":null,\"@type\":\"PC-NEWSSTAND-PRESS-BLOCK\",\"@code\":null,\"@template\":\"NONE\",\"@flowId\":null,\"@flowExecutionId\":null,\"@provider\":null,\"@lastModifiedAt\":null},{\"@type\":\"PC-NEWSSTAND-PRESS-BLOCK\",\"blocks\":null,\"materials\":null,\"excludeInPaging\":false,\"positionForPaging\":0,\"realtime\":false,\"pid\":\"038\",\"name\":\"한국일보\",\"logoLight\":{\"url\":\"https://s.pstatic.net/static/newsstand/2020/logo/light/0604/038.png\"},\"logoDark\":{\"url\":\"https://s.pstatic.net/static/newsstand/2020/logo/dark/0604/038.png\"},\"showThumbnailView\":true,\"showListView\":true,\"regDate\":\"20240619 11:25:28\",\"_id\":null,\"@type\":\"PC-NEWSSTAND-PRESS-BLOCK\",\"@code\":null,\"@template\":\"NONE\",\"@flowId\":null,\"@flowExecutionId\":null,\"@provider\":null,\"@lastModifiedAt\":null},{\"@type\":\"PC-NEWSSTAND-PRESS-BLOCK\",\"blocks\":null,\"materials\":null,\"excludeInPaging\":false,\"positionForPaging\":0,\"realtime\":false,\"pid\":\"830\",\"name\":\"게임동아\",\"logoLight\":{\"url\":\"https://s.pstatic.net/static/newsstand/up/2021/0211/nsd02321523.png\"},\"logoDark\":{\"url\":\"https://s.pstatic.net/static/newsstand/up/2021/0211/nsd02332888.png\"},\"showThumbnailView\":true,\"showListView\":true,\"regDate\":\"20240619 11:11:38\",\"_id\":null,\"@type\":\"PC-NEWSSTAND-PRESS-BLOCK\",\"@code\":null,\"@template\":\"NONE\",\"@flowId\":null,\"@flowExecutionId\":null,\"@provider\":null,\"@lastModifiedAt\":null},{\"@type\":\"PC-NEWSSTAND-PRESS-BLOCK\",\"blocks\":null,\"materials\":null,\"excludeInPaging\":false,\"positionForPaging\":0,\"realtime\":false,\"pid\":\"951\",\"name\":\"포브스코리아\",\"logoLight\":{\"url\":\"https://s.pstatic.net/static/newsstand/2020/logo/light/0604/951.png\"},\"logoDark\":{\"url\":\"https://s.pstatic.net/static/newsstand/2020/logo/dark/0604/951.png\"},\"showThumbnailView\":true,\"showListView\":true,\"regDate\":\"20240619 11:00:00\",\"_id\":null,\"@type\":\"PC-NEWSSTAND-PRESS-BLOCK\",\"@code\":null,\"@template\":\"NONE\",\"@flowId\":null,\"@flowExecutionId\":null,\"@provider\":null,\"@lastModifiedAt\":null},{\"@type\":\"PC-NEWSSTAND-PRESS-BLOCK\",\"blocks\":null,\"materials\":null,\"excludeInPaging\":false,\"positionForPaging\":0,\"realtime\":false,\"pid\":\"952\",\"name\":\"보안뉴스\",\"logoLight\":{\"url\":\"https://s.pstatic.net/static/newsstand/2020/logo/light/0604/952.png\"},\"logoDark\":{\"url\":\"https://s.pstatic.net/static/newsstand/2020/logo/dark/0604/952.png\"},\"showThumbnailView\":true,\"showListView\":true,\"regDate\":\"20240619 11:12:00\",\"_id\":null,\"@type\":\"PC-NEWSSTAND-PRESS-BLOCK\",\"@code\":null,\"@template\":\"NONE\",\"@flowId\":null,\"@flowExecutionId\":null,\"@provider\":null,\"@lastModifiedAt\":null},{\"@type\":\"PC-NEWSSTAND-PRESS-BLOCK\",\"blocks\":null,\"materials\":null,\"excludeInPaging\":false,\"positionForPaging\":0,\"realtime\":false,\"pid\":\"953\",\"name\":\"디지털투데이\",\"logoLight\":{\"url\":\"https://s.pstatic.net/static/newsstand/2020/logo/light/0604/953.png\"},\"logoDark\":{\"url\":\"https://s.pstatic.net/static/newsstand/2020/logo/dark/0604/953.png\"},\"showThumbnailView\":true,\"showListView\":true,\"regDate\":\"20240619 11:00:05\",\"_id\":null,\"@type\":\"PC-NEWSSTAND-PRESS-BLOCK\",\"@code\":null,\"@template\":\"NONE\",\"@flowId\":null,\"@flowExecutionId\":null,\"@provider\":null,\"@lastModifiedAt\":null},{\"@type\":\"PC-NEWSSTAND-PRESS-BLOCK\",\"blocks\":null,\"materials\":null,\"excludeInPaging\":false,\"positionForPaging\":0,\"realtime\":false,\"pid\":\"954\",\"name\":\"CNB뉴스\",\"logoLight\":{\"url\":\"https://s.pstatic.net/static/newsstand/2020/logo/light/0604/954.png\"},\"logoDark\":{\"url\":\"https://s.pstatic.net/static/newsstand/2020/logo/dark/0604/954.png\"},\"showThumbnailView\":true,\"showListView\":true,\"regDate\":\"20240619 11:20:03\",\"_id\":null,\"@type\":\"PC-NEWSSTAND-PRESS-BLOCK\",\"@code\":null,\"@template\":\"NONE\",\"@flowId\":null,\"@flowExecutionId\":null,\"@provider\":null,\"@lastModifiedAt\":null},{\"@type\":\"PC-NEWSSTAND-PRESS-BLOCK\",\"blocks\":null,\"materials\":null,\"excludeInPaging\":false,\"positionForPaging\":0,\"realtime\":false,\"pid\":\"955\",\"name\":\"독서신문\",\"logoLight\":{\"url\":\"https://s.pstatic.net/static/newsstand/2020/logo/light/0604/955.png\"},\"logoDark\":{\"url\":\"https://s.pstatic.net/static/newsstand/2020/logo/dark/0604/955.png\"},\"showThumbnailView\":true,\"showListView\":true,\"regDate\":\"20240619 11:20:05\",\"_id\":null,\"@type\":\"PC-NEWSSTAND-PRESS-BLOCK\",\"@code\":null,\"@template\":\"NONE\",\"@flowId\":null,\"@flowExecutionId\":null,\"@provider\":null,\"@lastModifiedAt\":null},{\"@type\":\"PC-NEWSSTAND-PRESS-BLOCK\",\"blocks\":null,\"materials\":null,\"excludeInPaging\":false,\"positionForPaging\":0,\"realtime\":false,\"pid\":\"956\",\"name\":\"철강금속신문\",\"logoLight\":{\"url\":\"https://s.pstatic.net/static/newsstand/2020/logo/light/0604/956.png\"},\"logoDark\":{\"url\":\"https://s.pstatic.net/static/newsstand/2020/logo/dark/0604/956.png\"},\"showThumbnailView\":true,\"showListView\":true,\"regDate\":\"20240619 11:20:03\",\"_id\":null,\"@type\":\"PC-NEWSSTAND-PRESS-BLOCK\",\"@code\":null,\"@template\":\"NONE\",\"@flowId\":null,\"@flowExecutionId\":null,\"@provider\":null,\"@lastModifiedAt\":null},{\"@type\":\"PC-NEWSSTAND-PRESS-BLOCK\",\"blocks\":null,\"materials\":null,\"excludeInPaging\":false,\"positionForPaging\":0,\"realtime\":false,\"pid\":\"957\",\"name\":\"시사위크\",\"logoLight\":{\"url\":\"https://s.pstatic.net/static/newsstand/2020/logo/light/0604/957.png\"},\"logoDark\":{\"url\":\"https://s.pstatic.net/static/newsstand/2020/logo/dark/0604/957.png\"},\"showThumbnailView\":true,\"showListView\":true,\"regDate\":\"20240618 17:55:10\",\"_id\":null,\"@type\":\"PC-NEWSSTAND-PRESS-BLOCK\",\"@code\":null,\"@template\":\"NONE\",\"@flowId\":null,\"@flowExecutionId\":null,\"@provider\":null,\"@lastModifiedAt\":null},{\"@type\":\"PC-NEWSSTAND-PRESS-BLOCK\",\"blocks\":null,\"materials\":null,\"excludeInPaging\":false,\"positionForPaging\":0,\"realtime\":false,\"pid\":\"958\",\"name\":\"베리타스알파\",\"logoLight\":{\"url\":\"https://s.pstatic.net/static/newsstand/up/2023/0826/nsd0145257.png\"},\"logoDark\":{\"url\":\"https://s.pstatic.net/static/newsstand/up/2023/0826/nsd0136682.png\"},\"showThumbnailView\":true,\"showListView\":true,\"regDate\":\"20240619 11:20:38\",\"_id\":null,\"@type\":\"PC-NEWSSTAND-PRESS-BLOCK\",\"@code\":null,\"@template\":\"NONE\",\"@flowId\":null,\"@flowExecutionId\":null,\"@provider\":null,\"@lastModifiedAt\":null},{\"@type\":\"PC-NEWSSTAND-PRESS-BLOCK\",\"blocks\":null,\"materials\":null,\"excludeInPaging\":false,\"positionForPaging\":0,\"realtime\":false,\"pid\":\"959\",\"name\":\"M이코노미뉴스\",\"logoLight\":{\"url\":\"https://s.pstatic.net/static/newsstand/up/2021/1221/nsd15292271.png\"},\"logoDark\":{\"url\":\"https://s.pstatic.net/static/newsstand/up/2021/1221/nsd171157172.png\"},\"showThumbnailView\":true,\"showListView\":true,\"regDate\":\"20240619 11:20:06\",\"_id\":null,\"@type\":\"PC-NEWSSTAND-PRESS-BLOCK\",\"@code\":null,\"@template\":\"NONE\",\"@flowId\":null,\"@flowExecutionId\":null,\"@provider\":null,\"@lastModifiedAt\":null},{\"@type\":\"PC-NEWSSTAND-PRESS-BLOCK\",\"blocks\":null,\"materials\":null,\"excludeInPaging\":false,\"positionForPaging\":0,\"realtime\":false,\"pid\":\"040\",\"name\":\"코리아타임스\",\"logoLight\":{\"url\":\"https://s.pstatic.net/static/newsstand/2020/logo/light/0604/040.png\"},\"logoDark\":{\"url\":\"https://s.pstatic.net/static/newsstand/2020/logo/dark/0604/040.png\"},\"showThumbnailView\":true,\"showListView\":true,\"regDate\":\"20240619 11:25:10\",\"_id\":null,\"@type\":\"PC-NEWSSTAND-PRESS-BLOCK\",\"@code\":null,\"@template\":\"NONE\",\"@flowId\":null,\"@flowExecutionId\":null,\"@provider\":null,\"@lastModifiedAt\":null},{\"@type\":\"PC-NEWSSTAND-PRESS-BLOCK\",\"blocks\":null,\"materials\":null,\"excludeInPaging\":false,\"positionForPaging\":0,\"realtime\":false,\"pid\":\"042\",\"name\":\"데일리한국\",\"logoLight\":{\"url\":\"https://s.pstatic.net/static/newsstand/2020/logo/light/0604/042.png\"},\"logoDark\":{\"url\":\"https://s.pstatic.net/static/newsstand/2020/logo/dark/0604/042.png\"},\"showThumbnailView\":true,\"showListView\":true,\"regDate\":\"20240619 11:20:27\",\"_id\":null,\"@type\":\"PC-NEWSSTAND-PRESS-BLOCK\",\"@code\":null,\"@template\":\"NONE\",\"@flowId\":null,\"@flowExecutionId\":null,\"@provider\":null,\"@lastModifiedAt\":null},{\"@type\":\"PC-NEWSSTAND-PRESS-BLOCK\",\"blocks\":null,\"materials\":null,\"excludeInPaging\":false,\"positionForPaging\":0,\"realtime\":false,\"pid\":\"044\",\"name\":\"코리아헤럴드\",\"logoLight\":{\"url\":\"https://s.pstatic.net/static/newsstand/2020/logo/light/0604/044.png\"},\"logoDark\":{\"url\":\"https://s.pstatic.net/static/newsstand/2020/logo/dark/0604/044.png\"},\"showThumbnailView\":true,\"showListView\":true,\"regDate\":\"20240619 09:39:09\",\"_id\":null,\"@type\":\"PC-NEWSSTAND-PRESS-BLOCK\",\"@code\":null,\"@template\":\"NONE\",\"@flowId\":null,\"@flowExecutionId\":null,\"@provider\":null,\"@lastModifiedAt\":null},{\"@type\":\"PC-NEWSSTAND-PRESS-BLOCK\",\"blocks\":null,\"materials\":null,\"excludeInPaging\":false,\"positionForPaging\":0,\"realtime\":false,\"pid\":\"047\",\"name\":\"오마이뉴스\",\"logoLight\":{\"url\":\"https://s.pstatic.net/static/newsstand/2020/logo/light/0604/047.png\"},\"logoDark\":{\"url\":\"https://s.pstatic.net/static/newsstand/2020/logo/dark/0604/047.png\"},\"showThumbnailView\":true,\"showListView\":true,\"regDate\":\"20240619 11:28:49\",\"_id\":null,\"@type\":\"PC-NEWSSTAND-PRESS-BLOCK\",\"@code\":null,\"@template\":\"NONE\",\"@flowId\":null,\"@flowExecutionId\":null,\"@provider\":null,\"@lastModifiedAt\":null},{\"@type\":\"PC-NEWSSTAND-PRESS-BLOCK\",\"blocks\":null,\"materials\":null,\"excludeInPaging\":false,\"positionForPaging\":0,\"realtime\":false,\"pid\":\"960\",\"name\":\"대한경제\",\"logoLight\":{\"url\":\"https://s.pstatic.net/static/newsstand/up/2022/1115/nsd153942530.png\"},\"logoDark\":{\"url\":\"https://s.pstatic.net/static/newsstand/up/2022/1115/nsd153934427.png\"},\"showThumbnailView\":true,\"showListView\":true,\"regDate\":\"20240619 11:20:25\",\"_id\":null,\"@type\":\"PC-NEWSSTAND-PRESS-BLOCK\",\"@code\":null,\"@template\":\"NONE\",\"@flowId\":null,\"@flowExecutionId\":null,\"@provider\":null,\"@lastModifiedAt\":null},{\"@type\":\"PC-NEWSSTAND-PRESS-BLOCK\",\"blocks\":null,\"materials\":null,\"excludeInPaging\":false,\"positionForPaging\":0,\"realtime\":false,\"pid\":\"961\",\"name\":\"메트로신문\",\"logoLight\":{\"url\":\"https://s.pstatic.net/static/newsstand/2020/logo/light/0604/961.png\"},\"logoDark\":{\"url\":\"https://s.pstatic.net/static/newsstand/2020/logo/dark/0604/961.png\"},\"showThumbnailView\":true,\"showListView\":true,\"regDate\":\"20240619 09:43:57\",\"_id\":null,\"@type\":\"PC-NEWSSTAND-PRESS-BLOCK\",\"@code\":null,\"@template\":\"NONE\",\"@flowId\":null,\"@flowExecutionId\":null,\"@provider\":null,\"@lastModifiedAt\":null},{\"@type\":\"PC-NEWSSTAND-PRESS-BLOCK\",\"blocks\":null,\"materials\":null,\"excludeInPaging\":false,\"positionForPaging\":0,\"realtime\":false,\"pid\":\"962\",\"name\":\"스포츠한국\",\"logoLight\":{\"url\":\"https://s.pstatic.net/static/newsstand/2020/logo/light/0604/962.png\"},\"logoDark\":{\"url\":\"https://s.pstatic.net/static/newsstand/2020/logo/dark/0604/962.png\"},\"showThumbnailView\":true,\"showListView\":true,\"regDate\":\"20240619 11:20:29\",\"_id\":null,\"@type\":\"PC-NEWSSTAND-PRESS-BLOCK\",\"@code\":null,\"@template\":\"NONE\",\"@flowId\":null,\"@flowExecutionId\":null,\"@provider\":null,\"@lastModifiedAt\":null},{\"@type\":\"PC-NEWSSTAND-PRESS-BLOCK\",\"blocks\":null,\"materials\":null,\"excludeInPaging\":false,\"positionForPaging\":0,\"realtime\":false,\"pid\":\"963\",\"name\":\"에너지경제\",\"logoLight\":{\"url\":\"https://s.pstatic.net/static/newsstand/2020/logo/light/0604/963.png\"},\"logoDark\":{\"url\":\"https://s.pstatic.net/static/newsstand/2020/logo/dark/0604/963.png\"},\"showThumbnailView\":true,\"showListView\":true,\"regDate\":\"20240619 11:20:01\",\"_id\":null,\"@type\":\"PC-NEWSSTAND-PRESS-BLOCK\",\"@code\":null,\"@template\":\"NONE\",\"@flowId\":null,\"@flowExecutionId\":null,\"@provider\":null,\"@lastModifiedAt\":null},{\"@type\":\"PC-NEWSSTAND-PRESS-BLOCK\",\"blocks\":null,\"materials\":null,\"excludeInPaging\":false,\"positionForPaging\":0,\"realtime\":false,\"pid\":\"964\",\"name\":\"이뉴스투데이\",\"logoLight\":{\"url\":\"https://s.pstatic.net/static/newsstand/2020/logo/light/0604/964.png\"},\"logoDark\":{\"url\":\"https://s.pstatic.net/static/newsstand/2020/logo/dark/0604/964.png\"},\"showThumbnailView\":true,\"showListView\":true,\"regDate\":\"20240619 11:00:45\",\"_id\":null,\"@type\":\"PC-NEWSSTAND-PRESS-BLOCK\",\"@code\":null,\"@template\":\"NONE\",\"@flowId\":null,\"@flowExecutionId\":null,\"@provider\":null,\"@lastModifiedAt\":null},{\"@type\":\"PC-NEWSSTAND-PRESS-BLOCK\",\"blocks\":null,\"materials\":null,\"excludeInPaging\":false,\"positionForPaging\":0,\"realtime\":false,\"pid\":\"965\",\"name\":\"전기신문\",\"logoLight\":{\"url\":\"https://s.pstatic.net/static/newsstand/2020/logo/light/0604/965.png\"},\"logoDark\":{\"url\":\"https://s.pstatic.net/static/newsstand/2020/logo/dark/0604/965.png\"},\"showThumbnailView\":true,\"showListView\":true,\"regDate\":\"20240619 11:20:25\",\"_id\":null,\"@type\":\"PC-NEWSSTAND-PRESS-BLOCK\",\"@code\":null,\"@template\":\"NONE\",\"@flowId\":null,\"@flowExecutionId\":null,\"@provider\":null,\"@lastModifiedAt\":null},{\"@type\":\"PC-NEWSSTAND-PRESS-BLOCK\",\"blocks\":null,\"materials\":null,\"excludeInPaging\":false,\"positionForPaging\":0,\"realtime\":false,\"pid\":\"966\",\"name\":\"정신의학신문\",\"logoLight\":{\"url\":\"https://s.pstatic.net/static/newsstand/2020/logo/light/0604/966.png\"},\"logoDark\":{\"url\":\"https://s.pstatic.net/static/newsstand/2020/logo/dark/0604/966.png\"},\"showThumbnailView\":true,\"showListView\":true,\"regDate\":\"20240619 11:20:23\",\"_id\":null,\"@type\":\"PC-NEWSSTAND-PRESS-BLOCK\",\"@code\":null,\"@template\":\"NONE\",\"@flowId\":null,\"@flowExecutionId\":null,\"@provider\":null,\"@lastModifiedAt\":null},{\"@type\":\"PC-NEWSSTAND-PRESS-BLOCK\",\"blocks\":null,\"materials\":null,\"excludeInPaging\":false,\"positionForPaging\":0,\"realtime\":false,\"pid\":\"967\",\"name\":\"코리아쉬핑가제트\",\"logoLight\":{\"url\":\"https://s.pstatic.net/static/newsstand/2020/logo/light/0604/967.png\"},\"logoDark\":{\"url\":\"https://s.pstatic.net/static/newsstand/2020/logo/dark/0604/967.png\"},\"showThumbnailView\":true,\"showListView\":true,\"regDate\":\"20240619 11:20:02\",\"_id\":null,\"@type\":\"PC-NEWSSTAND-PRESS-BLOCK\",\"@code\":null,\"@template\":\"NONE\",\"@flowId\":null,\"@flowExecutionId\":null,\"@provider\":null,\"@lastModifiedAt\":null},{\"@type\":\"PC-NEWSSTAND-PRESS-BLOCK\",\"blocks\":null,\"materials\":null,\"excludeInPaging\":false,\"positionForPaging\":0,\"realtime\":false,\"pid\":\"968\",\"name\":\"한국금융신문\",\"logoLight\":{\"url\":\"https://s.pstatic.net/static/newsstand/2020/logo/light/0604/968.png\"},\"logoDark\":{\"url\":\"https://s.pstatic.net/static/newsstand/2020/logo/dark/0604/968.png\"},\"showThumbnailView\":true,\"showListView\":true,\"regDate\":\"20240619 11:18:16\",\"_id\":null,\"@type\":\"PC-NEWSSTAND-PRESS-BLOCK\",\"@code\":null,\"@template\":\"NONE\",\"@flowId\":null,\"@flowExecutionId\":null,\"@provider\":null,\"@lastModifiedAt\":null},{\"@type\":\"PC-NEWSSTAND-PRESS-BLOCK\",\"blocks\":null,\"materials\":null,\"excludeInPaging\":false,\"positionForPaging\":0,\"realtime\":false,\"pid\":\"969\",\"name\":\"매일노동뉴스\",\"logoLight\":{\"url\":\"https://s.pstatic.net/static/newsstand/2020/logo/light/0604/969.png\"},\"logoDark\":{\"url\":\"https://s.pstatic.net/static/newsstand/2020/logo/dark/0604/969.png\"},\"showThumbnailView\":true,\"showListView\":true,\"regDate\":\"20240619 07:40:05\",\"_id\":null,\"@type\":\"PC-NEWSSTAND-PRESS-BLOCK\",\"@code\":null,\"@template\":\"NONE\",\"@flowId\":null,\"@flowExecutionId\":null,\"@provider\":null,\"@lastModifiedAt\":null},{\"@type\":\"PC-NEWSSTAND-PRESS-BLOCK\",\"blocks\":null,\"materials\":null,\"excludeInPaging\":false,\"positionForPaging\":0,\"realtime\":false,\"pid\":\"050\",\"name\":\"한경비즈니스\",\"logoLight\":{\"url\":\"https://s.pstatic.net/static/newsstand/up/2020/0928/nsd125033437.png\"},\"logoDark\":{\"url\":\"https://s.pstatic.net/static/newsstand/up/2020/0928/nsd125026855.png\"},\"showThumbnailView\":true,\"showListView\":true,\"regDate\":\"20240619 10:53:36\",\"_id\":null,\"@type\":\"PC-NEWSSTAND-PRESS-BLOCK\",\"@code\":null,\"@template\":\"NONE\",\"@flowId\":null,\"@flowExecutionId\":null,\"@provider\":null,\"@lastModifiedAt\":null},{\"@type\":\"PC-NEWSSTAND-PRESS-BLOCK\",\"blocks\":null,\"materials\":null,\"excludeInPaging\":false,\"positionForPaging\":0,\"realtime\":false,\"pid\":\"293\",\"name\":\"블로터\",\"logoLight\":{\"url\":\"https://s.pstatic.net/static/newsstand/2020/logo/light/0604/293.png\"},\"logoDark\":{\"url\":\"https://s.pstatic.net/static/newsstand/2020/logo/dark/0604/293.png\"},\"showThumbnailView\":true,\"showListView\":true,\"regDate\":\"20240619 11:20:35\",\"_id\":null,\"@type\":\"PC-NEWSSTAND-PRESS-BLOCK\",\"@code\":null,\"@template\":\"NONE\",\"@flowId\":null,\"@flowExecutionId\":null,\"@provider\":null,\"@lastModifiedAt\":null},{\"@type\":\"PC-NEWSSTAND-PRESS-BLOCK\",\"blocks\":null,\"materials\":null,\"excludeInPaging\":false,\"positionForPaging\":0,\"realtime\":false,\"pid\":\"052\",\"name\":\"YTN\",\"logoLight\":{\"url\":\"https://s.pstatic.net/static/newsstand/2020/logo/light/0604/052.png\"},\"logoDark\":{\"url\":\"https://s.pstatic.net/static/newsstand/2020/logo/dark/0604/052.png\"},\"showThumbnailView\":true,\"showListView\":true,\"regDate\":\"20240619 11:25:02\",\"_id\":null,\"@type\":\"PC-NEWSSTAND-PRESS-BLOCK\",\"@code\":null,\"@template\":\"NONE\",\"@flowId\":null,\"@flowExecutionId\":null,\"@provider\":null,\"@lastModifiedAt\":null},{\"@type\":\"PC-NEWSSTAND-PRESS-BLOCK\",\"blocks\":null,\"materials\":null,\"excludeInPaging\":false,\"positionForPaging\":0,\"realtime\":false,\"pid\":\"296\",\"name\":\"코메디닷컴\",\"logoLight\":{\"url\":\"https://s.pstatic.net/static/newsstand/2020/logo/light/0604/296.png\"},\"logoDark\":{\"url\":\"https://s.pstatic.net/static/newsstand/2020/logo/dark/0604/296.png\"},\"showThumbnailView\":true,\"showListView\":true,\"regDate\":\"20240619 10:41:15\",\"_id\":null,\"@type\":\"PC-NEWSSTAND-PRESS-BLOCK\",\"@code\":null,\"@template\":\"NONE\",\"@flowId\":null,\"@flowExecutionId\":null,\"@provider\":null,\"@lastModifiedAt\":null},{\"@type\":\"PC-NEWSSTAND-PRESS-BLOCK\",\"blocks\":null,\"materials\":null,\"excludeInPaging\":false,\"positionForPaging\":0,\"realtime\":false,\"pid\":\"055\",\"name\":\"SBS\",\"logoLight\":{\"url\":\"https://s.pstatic.net/static/newsstand/2020/logo/light/0604/055.png\"},\"logoDark\":{\"url\":\"https://s.pstatic.net/static/newsstand/2020/logo/dark/0604/055.png\"},\"showThumbnailView\":true,\"showListView\":true,\"regDate\":\"20240619 11:31:27\",\"_id\":null,\"@type\":\"PC-NEWSSTAND-PRESS-BLOCK\",\"@code\":null,\"@template\":\"NONE\",\"@flowId\":null,\"@flowExecutionId\":null,\"@provider\":null,\"@lastModifiedAt\":null},{\"@type\":\"PC-NEWSSTAND-PRESS-BLOCK\",\"blocks\":null,\"materials\":null,\"excludeInPaging\":false,\"positionForPaging\":0,\"realtime\":false,\"pid\":\"056\",\"name\":\"KBS\",\"logoLight\":{\"url\":\"https://s.pstatic.net/static/newsstand/2020/logo/light/0604/056.png\"},\"logoDark\":{\"url\":\"https://s.pstatic.net/static/newsstand/2020/logo/dark/0604/056.png\"},\"showThumbnailView\":true,\"showListView\":true,\"regDate\":\"20240619 11:35:03\",\"_id\":null,\"@type\":\"PC-NEWSSTAND-PRESS-BLOCK\",\"@code\":null,\"@template\":\"NONE\",\"@flowId\":null,\"@flowExecutionId\":null,\"@provider\":null,\"@lastModifiedAt\":null},{\"@type\":\"PC-NEWSSTAND-PRESS-BLOCK\",\"blocks\":null,\"materials\":null,\"excludeInPaging\":false,\"positionForPaging\":0,\"realtime\":false,\"pid\":\"057\",\"name\":\"MBN\",\"logoLight\":{\"url\":\"https://s.pstatic.net/static/newsstand/2020/logo/light/0604/057.png\"},\"logoDark\":{\"url\":\"https://s.pstatic.net/static/newsstand/2020/logo/dark/0604/057.png\"},\"showThumbnailView\":true,\"showListView\":true,\"regDate\":\"20240619 11:35:01\",\"_id\":null,\"@type\":\"PC-NEWSSTAND-PRESS-BLOCK\",\"@code\":null,\"@template\":\"NONE\",\"@flowId\":null,\"@flowExecutionId\":null,\"@provider\":null,\"@lastModifiedAt\":null},{\"@type\":\"PC-NEWSSTAND-PRESS-BLOCK\",\"blocks\":null,\"materials\":null,\"excludeInPaging\":false,\"positionForPaging\":0,\"realtime\":false,\"pid\":\"970\",\"name\":\"소비자가만드는신문\",\"logoLight\":{\"url\":\"https://s.pstatic.net/static/newsstand/2020/logo/light/0604/970.png\"},\"logoDark\":{\"url\":\"https://s.pstatic.net/static/newsstand/2020/logo/dark/0604/970.png\"},\"showThumbnailView\":true,\"showListView\":true,\"regDate\":\"20240619 09:01:42\",\"_id\":null,\"@type\":\"PC-NEWSSTAND-PRESS-BLOCK\",\"@code\":null,\"@template\":\"NONE\",\"@flowId\":null,\"@flowExecutionId\":null,\"@provider\":null,\"@lastModifiedAt\":null},{\"@type\":\"PC-NEWSSTAND-PRESS-BLOCK\",\"blocks\":null,\"materials\":null,\"excludeInPaging\":false,\"positionForPaging\":0,\"realtime\":false,\"pid\":\"971\",\"name\":\"일요시사\",\"logoLight\":{\"url\":\"https://s.pstatic.net/static/newsstand/2020/logo/light/0604/971.png\"},\"logoDark\":{\"url\":\"https://s.pstatic.net/static/newsstand/2020/logo/dark/0604/971.png\"},\"showThumbnailView\":true,\"showListView\":true,\"regDate\":\"20240619 11:20:03\",\"_id\":null,\"@type\":\"PC-NEWSSTAND-PRESS-BLOCK\",\"@code\":null,\"@template\":\"NONE\",\"@flowId\":null,\"@flowExecutionId\":null,\"@provider\":null,\"@lastModifiedAt\":null},{\"@type\":\"PC-NEWSSTAND-PRESS-BLOCK\",\"blocks\":null,\"materials\":null,\"excludeInPaging\":false,\"positionForPaging\":0,\"realtime\":false,\"pid\":\"972\",\"name\":\"PD저널\",\"logoLight\":{\"url\":\"https://s.pstatic.net/static/newsstand/2020/logo/light/0604/972.png\"},\"logoDark\":{\"url\":\"https://s.pstatic.net/static/newsstand/2020/logo/dark/0604/972.png\"},\"showThumbnailView\":true,\"showListView\":true,\"regDate\":\"20240618 15:15:23\",\"_id\":null,\"@type\":\"PC-NEWSSTAND-PRESS-BLOCK\",\"@code\":null,\"@template\":\"NONE\",\"@flowId\":null,\"@flowExecutionId\":null,\"@provider\":null,\"@lastModifiedAt\":null},{\"@type\":\"PC-NEWSSTAND-PRESS-BLOCK\",\"blocks\":null,\"materials\":null,\"excludeInPaging\":false,\"positionForPaging\":0,\"realtime\":false,\"pid\":\"973\",\"name\":\"비즈한국\",\"logoLight\":{\"url\":\"https://s.pstatic.net/static/newsstand/2020/logo/light/0604/973.png\"},\"logoDark\":{\"url\":\"https://s.pstatic.net/static/newsstand/2020/logo/dark/0604/973.png\"},\"showThumbnailView\":true,\"showListView\":true,\"regDate\":\"20240619 11:32:04\",\"_id\":null,\"@type\":\"PC-NEWSSTAND-PRESS-BLOCK\",\"@code\":null,\"@template\":\"NONE\",\"@flowId\":null,\"@flowExecutionId\":null,\"@provider\":null,\"@lastModifiedAt\":null},{\"@type\":\"PC-NEWSSTAND-PRESS-BLOCK\",\"blocks\":null,\"materials\":null,\"excludeInPaging\":false,\"positionForPaging\":0,\"realtime\":false,\"pid\":\"974\",\"name\":\"BBS NEWS\",\"logoLight\":{\"url\":\"https://s.pstatic.net/static/newsstand/2020/logo/light/0604/974.png\"},\"logoDark\":{\"url\":\"https://s.pstatic.net/static/newsstand/2020/logo/dark/0604/974.png\"},\"showThumbnailView\":true,\"showListView\":true,\"regDate\":\"20240619 07:44:14\",\"_id\":null,\"@type\":\"PC-NEWSSTAND-PRESS-BLOCK\",\"@code\":null,\"@template\":\"NONE\",\"@flowId\":null,\"@flowExecutionId\":null,\"@provider\":null,\"@lastModifiedAt\":null},{\"@type\":\"PC-NEWSSTAND-PRESS-BLOCK\",\"blocks\":null,\"materials\":null,\"excludeInPaging\":false,\"positionForPaging\":0,\"realtime\":false,\"pid\":\"975\",\"name\":\"시사저널이코노미\",\"logoLight\":{\"url\":\"https://s.pstatic.net/static/newsstand/2020/logo/light/0604/975.png\"},\"logoDark\":{\"url\":\"https://s.pstatic.net/static/newsstand/2020/logo/dark/0604/975.png\"},\"showThumbnailView\":true,\"showListView\":true,\"regDate\":\"20240619 11:20:08\",\"_id\":null,\"@type\":\"PC-NEWSSTAND-PRESS-BLOCK\",\"@code\":null,\"@template\":\"NONE\",\"@flowId\":null,\"@flowExecutionId\":null,\"@provider\":null,\"@lastModifiedAt\":null},{\"@type\":\"PC-NEWSSTAND-PRESS-BLOCK\",\"blocks\":null,\"materials\":null,\"excludeInPaging\":false,\"positionForPaging\":0,\"realtime\":false,\"pid\":\"976\",\"name\":\"무등일보\",\"logoLight\":{\"url\":\"https://s.pstatic.net/static/newsstand/2020/logo/light/0604/976.png\"},\"logoDark\":{\"url\":\"https://s.pstatic.net/static/newsstand/2020/logo/dark/0604/976.png\"},\"showThumbnailView\":true,\"showListView\":true,\"regDate\":\"20240619 11:20:09\",\"_id\":null,\"@type\":\"PC-NEWSSTAND-PRESS-BLOCK\",\"@code\":null,\"@template\":\"NONE\",\"@flowId\":null,\"@flowExecutionId\":null,\"@provider\":null,\"@lastModifiedAt\":null},{\"@type\":\"PC-NEWSSTAND-PRESS-BLOCK\",\"blocks\":null,\"materials\":null,\"excludeInPaging\":false,\"positionForPaging\":0,\"realtime\":false,\"pid\":\"977\",\"name\":\"헬로디디\",\"logoLight\":{\"url\":\"https://s.pstatic.net/static/newsstand/2020/logo/light/0604/977.png\"},\"logoDark\":{\"url\":\"https://s.pstatic.net/static/newsstand/2020/logo/dark/0604/977.png\"},\"showThumbnailView\":true,\"showListView\":true,\"regDate\":\"20240619 11:20:21\",\"_id\":null,\"@type\":\"PC-NEWSSTAND-PRESS-BLOCK\",\"@code\":null,\"@template\":\"NONE\",\"@flowId\":null,\"@flowExecutionId\":null,\"@provider\":null,\"@lastModifiedAt\":null},{\"@type\":\"PC-NEWSSTAND-PRESS-BLOCK\",\"blocks\":null,\"materials\":null,\"excludeInPaging\":false,\"positionForPaging\":0,\"realtime\":false,\"pid\":\"978\",\"name\":\"경북도민일보\",\"logoLight\":{\"url\":\"https://s.pstatic.net/static/newsstand/2020/logo/light/0604/978.png\"},\"logoDark\":{\"url\":\"https://s.pstatic.net/static/newsstand/2020/logo/dark/0604/978.png\"},\"showThumbnailView\":true,\"showListView\":true,\"regDate\":\"20240618 19:07:18\",\"_id\":null,\"@type\":\"PC-NEWSSTAND-PRESS-BLOCK\",\"@code\":null,\"@template\":\"NONE\",\"@flowId\":null,\"@flowExecutionId\":null,\"@provider\":null,\"@lastModifiedAt\":null},{\"@type\":\"PC-NEWSSTAND-PRESS-BLOCK\",\"blocks\":null,\"materials\":null,\"excludeInPaging\":false,\"positionForPaging\":0,\"realtime\":false,\"pid\":\"979\",\"name\":\"약사공론\",\"logoLight\":{\"url\":\"https://s.pstatic.net/static/newsstand/2020/logo/light/0604/979.png\"},\"logoDark\":{\"url\":\"https://s.pstatic.net/static/newsstand/2020/logo/dark/0604/979.png\"},\"showThumbnailView\":true,\"showListView\":true,\"regDate\":\"20240619 05:50:59\",\"_id\":null,\"@type\":\"PC-NEWSSTAND-PRESS-BLOCK\",\"@code\":null,\"@template\":\"NONE\",\"@flowId\":null,\"@flowExecutionId\":null,\"@provider\":null,\"@lastModifiedAt\":null},{\"@type\":\"PC-NEWSSTAND-PRESS-BLOCK\",\"blocks\":null,\"materials\":null,\"excludeInPaging\":false,\"positionForPaging\":0,\"realtime\":false,\"pid\":\"980\",\"name\":\"KBC광주방송\",\"logoLight\":{\"url\":\"https://s.pstatic.net/static/newsstand/2020/logo/light/0604/980.png\"},\"logoDark\":{\"url\":\"https://s.pstatic.net/static/newsstand/2020/logo/dark/0604/980.png\"},\"showThumbnailView\":true,\"showListView\":true,\"regDate\":\"20240619 10:47:08\",\"_id\":null,\"@type\":\"PC-NEWSSTAND-PRESS-BLOCK\",\"@code\":null,\"@template\":\"NONE\",\"@flowId\":null,\"@flowExecutionId\":null,\"@provider\":null,\"@lastModifiedAt\":null},{\"@type\":\"PC-NEWSSTAND-PRESS-BLOCK\",\"blocks\":null,\"materials\":null,\"excludeInPaging\":false,\"positionForPaging\":0,\"realtime\":false,\"pid\":\"981\",\"name\":\"TBS\",\"logoLight\":{\"url\":\"https://s.pstatic.net/static/newsstand/2020/logo/light/0604/981.png\"},\"logoDark\":{\"url\":\"https://s.pstatic.net/static/newsstand/2020/logo/dark/0604/981.png\"},\"showThumbnailView\":true,\"showListView\":true,\"regDate\":\"20240619 11:25:42\",\"_id\":null,\"@type\":\"PC-NEWSSTAND-PRESS-BLOCK\",\"@code\":null,\"@template\":\"NONE\",\"@flowId\":null,\"@flowExecutionId\":null,\"@provider\":null,\"@lastModifiedAt\":null},{\"@type\":\"PC-NEWSSTAND-PRESS-BLOCK\",\"blocks\":null,\"materials\":null,\"excludeInPaging\":false,\"positionForPaging\":0,\"realtime\":false,\"pid\":\"982\",\"name\":\"이코노미조선\",\"logoLight\":{\"url\":\"https://s.pstatic.net/static/newsstand/2020/logo/light/0604/982.png\"},\"logoDark\":{\"url\":\"https://s.pstatic.net/static/newsstand/2020/logo/dark/0604/982.png\"},\"showThumbnailView\":true,\"showListView\":true,\"regDate\":\"20240617 14:17:32\",\"_id\":null,\"@type\":\"PC-NEWSSTAND-PRESS-BLOCK\",\"@code\":null,\"@template\":\"NONE\",\"@flowId\":null,\"@flowExecutionId\":null,\"@provider\":null,\"@lastModifiedAt\":null},{\"@type\":\"PC-NEWSSTAND-PRESS-BLOCK\",\"blocks\":null,\"materials\":null,\"excludeInPaging\":false,\"positionForPaging\":0,\"realtime\":false,\"pid\":\"983\",\"name\":\"중부매일\",\"logoLight\":{\"url\":\"https://s.pstatic.net/static/newsstand/2020/logo/light/0604/983.png\"},\"logoDark\":{\"url\":\"https://s.pstatic.net/static/newsstand/2020/logo/dark/0604/983.png\"},\"showThumbnailView\":true,\"showListView\":true,\"regDate\":\"20240618 20:05:46\",\"_id\":null,\"@type\":\"PC-NEWSSTAND-PRESS-BLOCK\",\"@code\":null,\"@template\":\"NONE\",\"@flowId\":null,\"@flowExecutionId\":null,\"@provider\":null,\"@lastModifiedAt\":null},{\"@type\":\"PC-NEWSSTAND-PRESS-BLOCK\",\"blocks\":null,\"materials\":null,\"excludeInPaging\":false,\"positionForPaging\":0,\"realtime\":false,\"pid\":\"984\",\"name\":\"낚시춘추\",\"logoLight\":{\"url\":\"https://s.pstatic.net/static/newsstand/2020/logo/light/0604/984.png\"},\"logoDark\":{\"url\":\"https://s.pstatic.net/static/newsstand/2020/logo/dark/0604/984.png\"},\"showThumbnailView\":true,\"showListView\":true,\"regDate\":\"20240610 08:20:00\",\"_id\":null,\"@type\":\"PC-NEWSSTAND-PRESS-BLOCK\",\"@code\":null,\"@template\":\"NONE\",\"@flowId\":null,\"@flowExecutionId\":null,\"@provider\":null,\"@lastModifiedAt\":null},{\"@type\":\"PC-NEWSSTAND-PRESS-BLOCK\",\"blocks\":null,\"materials\":null,\"excludeInPaging\":false,\"positionForPaging\":0,\"realtime\":false,\"pid\":\"986\",\"name\":\"투데이신문\",\"logoLight\":{\"url\":\"https://s.pstatic.net/static/newsstand/up/2020/1019/nsd144531857.png\"},\"logoDark\":{\"url\":\"https://s.pstatic.net/static/newsstand/up/2020/1019/nsd144525568.png\"},\"showThumbnailView\":true,\"showListView\":true,\"regDate\":\"20240619 11:20:04\",\"_id\":null,\"@type\":\"PC-NEWSSTAND-PRESS-BLOCK\",\"@code\":null,\"@template\":\"NONE\",\"@flowId\":null,\"@flowExecutionId\":null,\"@provider\":null,\"@lastModifiedAt\":null},{\"@type\":\"PC-NEWSSTAND-PRESS-BLOCK\",\"blocks\":null,\"materials\":null,\"excludeInPaging\":false,\"positionForPaging\":0,\"realtime\":false,\"pid\":\"988\",\"name\":\"이웃집과학자\",\"logoLight\":{\"url\":\"https://s.pstatic.net/static/newsstand/2020/logo/light/0604/988.png\"},\"logoDark\":{\"url\":\"https://s.pstatic.net/static/newsstand/2020/logo/dark/0604/988.png\"},\"showThumbnailView\":true,\"showListView\":true,\"regDate\":\"20240525 01:17:01\",\"_id\":null,\"@type\":\"PC-NEWSSTAND-PRESS-BLOCK\",\"@code\":null,\"@template\":\"NONE\",\"@flowId\":null,\"@flowExecutionId\":null,\"@provider\":null,\"@lastModifiedAt\":null},{\"@type\":\"PC-NEWSSTAND-PRESS-BLOCK\",\"blocks\":null,\"materials\":null,\"excludeInPaging\":false,\"positionForPaging\":0,\"realtime\":false,\"pid\":\"989\",\"name\":\"TBC\",\"logoLight\":{\"url\":\"https://s.pstatic.net/static/newsstand/2020/logo/light/0604/989.png\"},\"logoDark\":{\"url\":\"https://s.pstatic.net/static/newsstand/2020/logo/dark/0604/989.png\"},\"showThumbnailView\":true,\"showListView\":true,\"regDate\":\"20240619 10:07:12\",\"_id\":null,\"@type\":\"PC-NEWSSTAND-PRESS-BLOCK\",\"@code\":null,\"@template\":\"NONE\",\"@flowId\":null,\"@flowExecutionId\":null,\"@provider\":null,\"@lastModifiedAt\":null},{\"@type\":\"PC-NEWSSTAND-PRESS-BLOCK\",\"blocks\":null,\"materials\":null,\"excludeInPaging\":false,\"positionForPaging\":0,\"realtime\":false,\"pid\":\"073\",\"name\":\"스포츠서울\",\"logoLight\":{\"url\":\"https://s.pstatic.net/static/newsstand/up/2020/0708/nsd94830278.png\"},\"logoDark\":{\"url\":\"https://s.pstatic.net/static/newsstand/up/2020/0708/nsd94820151.png\"},\"showThumbnailView\":true,\"showListView\":true,\"regDate\":\"20240619 11:31:33\",\"_id\":null,\"@type\":\"PC-NEWSSTAND-PRESS-BLOCK\",\"@code\":null,\"@template\":\"NONE\",\"@flowId\":null,\"@flowExecutionId\":null,\"@provider\":null,\"@lastModifiedAt\":null},{\"@type\":\"PC-NEWSSTAND-PRESS-BLOCK\",\"blocks\":null,\"materials\":null,\"excludeInPaging\":false,\"positionForPaging\":0,\"realtime\":false,\"pid\":\"075\",\"name\":\"맥스무비\",\"logoLight\":{\"url\":\"https://s.pstatic.net/static/newsstand/2020/logo/light/0604/075.png\"},\"logoDark\":{\"url\":\"https://s.pstatic.net/static/newsstand/2020/logo/dark/0604/075.png\"},\"showThumbnailView\":true,\"showListView\":true,\"regDate\":\"20240619 09:48:09\",\"_id\":null,\"@type\":\"PC-NEWSSTAND-PRESS-BLOCK\",\"@code\":null,\"@template\":\"NONE\",\"@flowId\":null,\"@flowExecutionId\":null,\"@provider\":null,\"@lastModifiedAt\":null},{\"@type\":\"PC-NEWSSTAND-PRESS-BLOCK\",\"blocks\":null,\"materials\":null,\"excludeInPaging\":false,\"positionForPaging\":0,\"realtime\":false,\"pid\":\"076\",\"name\":\"스포츠조선\",\"logoLight\":{\"url\":\"https://s.pstatic.net/static/newsstand/2020/logo/light/0604/076.png\"},\"logoDark\":{\"url\":\"https://s.pstatic.net/static/newsstand/2020/logo/dark/0604/076.png\"},\"showThumbnailView\":true,\"showListView\":true,\"regDate\":\"20240619 11:21:09\",\"_id\":null,\"@type\":\"PC-NEWSSTAND-PRESS-BLOCK\",\"@code\":null,\"@template\":\"NONE\",\"@flowId\":null,\"@flowExecutionId\":null,\"@provider\":null,\"@lastModifiedAt\":null},{\"@type\":\"PC-NEWSSTAND-PRESS-BLOCK\",\"blocks\":null,\"materials\":null,\"excludeInPaging\":false,\"positionForPaging\":0,\"realtime\":false,\"pid\":\"990\",\"name\":\"주간조선\",\"logoLight\":{\"url\":\"https://s.pstatic.net/static/newsstand/2020/logo/light/0604/990.png\"},\"logoDark\":{\"url\":\"https://s.pstatic.net/static/newsstand/2020/logo/dark/0604/990.png\"},\"showThumbnailView\":true,\"showListView\":true,\"regDate\":\"20240619 11:20:30\",\"_id\":null,\"@type\":\"PC-NEWSSTAND-PRESS-BLOCK\",\"@code\":null,\"@template\":\"NONE\",\"@flowId\":null,\"@flowExecutionId\":null,\"@provider\":null,\"@lastModifiedAt\":null},{\"@type\":\"PC-NEWSSTAND-PRESS-BLOCK\",\"blocks\":null,\"materials\":null,\"excludeInPaging\":false,\"positionForPaging\":0,\"realtime\":false,\"pid\":\"991\",\"name\":\"데일리NK\",\"logoLight\":{\"url\":\"https://s.pstatic.net/static/newsstand/2020/logo/light/0604/991.png\"},\"logoDark\":{\"url\":\"https://s.pstatic.net/static/newsstand/2020/logo/dark/0604/991.png\"},\"showThumbnailView\":true,\"showListView\":true,\"regDate\":\"20240619 01:45:43\",\"_id\":null,\"@type\":\"PC-NEWSSTAND-PRESS-BLOCK\",\"@code\":null,\"@template\":\"NONE\",\"@flowId\":null,\"@flowExecutionId\":null,\"@provider\":null,\"@lastModifiedAt\":null},{\"@type\":\"PC-NEWSSTAND-PRESS-BLOCK\",\"blocks\":null,\"materials\":null,\"excludeInPaging\":false,\"positionForPaging\":0,\"realtime\":false,\"pid\":\"079\",\"name\":\"노컷뉴스\",\"logoLight\":{\"url\":\"https://s.pstatic.net/static/newsstand/2020/logo/light/0604/079.png\"},\"logoDark\":{\"url\":\"https://s.pstatic.net/static/newsstand/2020/logo/dark/0604/079.png\"},\"showThumbnailView\":true,\"showListView\":true,\"regDate\":\"20240619 11:14:05\",\"_id\":null,\"@type\":\"PC-NEWSSTAND-PRESS-BLOCK\",\"@code\":null,\"@template\":\"NONE\",\"@flowId\":null,\"@flowExecutionId\":null,\"@provider\":null,\"@lastModifiedAt\":null},{\"@type\":\"PC-NEWSSTAND-PRESS-BLOCK\",\"blocks\":null,\"materials\":null,\"excludeInPaging\":false,\"positionForPaging\":0,\"realtime\":false,\"pid\":\"993\",\"name\":\"허프포스트코리아\",\"logoLight\":{\"url\":\"https://s.pstatic.net/static/newsstand/2020/logo/light/0604/993.png\"},\"logoDark\":{\"url\":\"https://s.pstatic.net/static/newsstand/2020/logo/dark/0604/993.png\"},\"showThumbnailView\":true,\"showListView\":true,\"regDate\":\"20240619 11:20:31\",\"_id\":null,\"@type\":\"PC-NEWSSTAND-PRESS-BLOCK\",\"@code\":null,\"@template\":\"NONE\",\"@flowId\":null,\"@flowExecutionId\":null,\"@provider\":null,\"@lastModifiedAt\":null},{\"@type\":\"PC-NEWSSTAND-PRESS-BLOCK\",\"blocks\":null,\"materials\":null,\"excludeInPaging\":false,\"positionForPaging\":0,\"realtime\":false,\"pid\":\"994\",\"name\":\"AI타임스\",\"logoLight\":{\"url\":\"https://s.pstatic.net/static/newsstand/up/2021/1112/nsd102040597.png\"},\"logoDark\":{\"url\":\"https://s.pstatic.net/static/newsstand/up/2021/1112/nsd102110770.png\"},\"showThumbnailView\":true,\"showListView\":true,\"regDate\":\"20240619 11:20:24\",\"_id\":null,\"@type\":\"PC-NEWSSTAND-PRESS-BLOCK\",\"@code\":null,\"@template\":\"NONE\",\"@flowId\":null,\"@flowExecutionId\":null,\"@provider\":null,\"@lastModifiedAt\":null},{\"@type\":\"PC-NEWSSTAND-PRESS-BLOCK\",\"blocks\":null,\"materials\":null,\"excludeInPaging\":false,\"positionForPaging\":0,\"realtime\":false,\"pid\":\"995\",\"name\":\"뉴스포스트\",\"logoLight\":{\"url\":\"https://s.pstatic.net/static/newsstand/up/2021/1112/nsd10248812.png\"},\"logoDark\":{\"url\":\"https://s.pstatic.net/static/newsstand/up/2021/1112/nsd102419893.png\"},\"showThumbnailView\":true,\"showListView\":true,\"regDate\":\"20240619 11:20:25\",\"_id\":null,\"@type\":\"PC-NEWSSTAND-PRESS-BLOCK\",\"@code\":null,\"@template\":\"NONE\",\"@flowId\":null,\"@flowExecutionId\":null,\"@provider\":null,\"@lastModifiedAt\":null},{\"@type\":\"PC-NEWSSTAND-PRESS-BLOCK\",\"blocks\":null,\"materials\":null,\"excludeInPaging\":false,\"positionForPaging\":0,\"realtime\":false,\"pid\":\"996\",\"name\":\"매경헬스\",\"logoLight\":{\"url\":\"https://s.pstatic.net/static/newsstand/up/2023/0330/nsd10125746.png\"},\"logoDark\":{\"url\":\"https://s.pstatic.net/static/newsstand/up/2023/0330/nsd10148542.png\"},\"showThumbnailView\":true,\"showListView\":true,\"regDate\":\"20240619 11:20:27\",\"_id\":null,\"@type\":\"PC-NEWSSTAND-PRESS-BLOCK\",\"@code\":null,\"@template\":\"NONE\",\"@flowId\":null,\"@flowExecutionId\":null,\"@provider\":null,\"@lastModifiedAt\":null},{\"@type\":\"PC-NEWSSTAND-PRESS-BLOCK\",\"blocks\":null,\"materials\":null,\"excludeInPaging\":false,\"positionForPaging\":0,\"realtime\":false,\"pid\":\"997\",\"name\":\"뉴스펭귄\",\"logoLight\":{\"url\":\"https://s.pstatic.net/static/newsstand/up/2022/0405/nsd15024245.png\"},\"logoDark\":{\"url\":\"https://s.pstatic.net/static/newsstand/up/2022/0405/nsd15014578.png\"},\"showThumbnailView\":true,\"showListView\":true,\"regDate\":\"20240619 11:20:28\",\"_id\":null,\"@type\":\"PC-NEWSSTAND-PRESS-BLOCK\",\"@code\":null,\"@template\":\"NONE\",\"@flowId\":null,\"@flowExecutionId\":null,\"@provider\":null,\"@lastModifiedAt\":null},{\"@type\":\"PC-NEWSSTAND-PRESS-BLOCK\",\"blocks\":null,\"materials\":null,\"excludeInPaging\":false,\"positionForPaging\":0,\"realtime\":false,\"pid\":\"998\",\"name\":\"뉴스앤조이\",\"logoLight\":{\"url\":\"https://s.pstatic.net/static/newsstand/up/2022/0328/nsd22503109.png\"},\"logoDark\":{\"url\":\"https://s.pstatic.net/static/newsstand/up/2022/0328/nsd22509287.png\"},\"showThumbnailView\":true,\"showListView\":true,\"regDate\":\"20240619 11:20:28\",\"_id\":null,\"@type\":\"PC-NEWSSTAND-PRESS-BLOCK\",\"@code\":null,\"@template\":\"NONE\",\"@flowId\":null,\"@flowExecutionId\":null,\"@provider\":null,\"@lastModifiedAt\":null},{\"@type\":\"PC-NEWSSTAND-PRESS-BLOCK\",\"blocks\":null,\"materials\":null,\"excludeInPaging\":false,\"positionForPaging\":0,\"realtime\":false,\"pid\":\"081\",\"name\":\"서울신문\",\"logoLight\":{\"url\":\"https://s.pstatic.net/static/newsstand/up/2022/0208/nsd16121208.png\"},\"logoDark\":{\"url\":\"https://s.pstatic.net/static/newsstand/up/2022/0208/nsd161212576.png\"},\"showThumbnailView\":true,\"showListView\":true,\"regDate\":\"20240619 11:14:33\",\"_id\":null,\"@type\":\"PC-NEWSSTAND-PRESS-BLOCK\",\"@code\":null,\"@template\":\"NONE\",\"@flowId\":null,\"@flowExecutionId\":null,\"@provider\":null,\"@lastModifiedAt\":null},{\"@type\":\"PC-NEWSSTAND-PRESS-BLOCK\",\"blocks\":null,\"materials\":null,\"excludeInPaging\":false,\"positionForPaging\":0,\"realtime\":false,\"pid\":\"082\",\"name\":\"부산일보\",\"logoLight\":{\"url\":\"https://s.pstatic.net/static/newsstand/up/2021/0322/nsd21527882.png\"},\"logoDark\":{\"url\":\"https://s.pstatic.net/static/newsstand/up/2021/0322/nsd215225866.png\"},\"showThumbnailView\":true,\"showListView\":true,\"regDate\":\"20240619 11:21:42\",\"_id\":null,\"@type\":\"PC-NEWSSTAND-PRESS-BLOCK\",\"@code\":null,\"@template\":\"NONE\",\"@flowId\":null,\"@flowExecutionId\":null,\"@provider\":null,\"@lastModifiedAt\":null},{\"@type\":\"PC-NEWSSTAND-PRESS-BLOCK\",\"blocks\":null,\"materials\":null,\"excludeInPaging\":false,\"positionForPaging\":0,\"realtime\":false,\"pid\":\"083\",\"name\":\"광주일보\",\"logoLight\":{\"url\":\"https://s.pstatic.net/static/newsstand/up/2023/0309/nsd195548501.png\"},\"logoDark\":{\"url\":\"https://s.pstatic.net/static/newsstand/up/2023/0309/nsd1956932.png\"},\"showThumbnailView\":true,\"showListView\":true,\"regDate\":\"20240619 11:34:34\",\"_id\":null,\"@type\":\"PC-NEWSSTAND-PRESS-BLOCK\",\"@code\":null,\"@template\":\"NONE\",\"@flowId\":null,\"@flowExecutionId\":null,\"@provider\":null,\"@lastModifiedAt\":null},{\"@type\":\"PC-NEWSSTAND-PRESS-BLOCK\",\"blocks\":null,\"materials\":null,\"excludeInPaging\":false,\"positionForPaging\":0,\"realtime\":false,\"pid\":\"087\",\"name\":\"강원일보\",\"logoLight\":{\"url\":\"https://s.pstatic.net/static/newsstand/2020/logo/light/0604/087.png\"},\"logoDark\":{\"url\":\"https://s.pstatic.net/static/newsstand/2020/logo/dark/0604/087.png\"},\"showThumbnailView\":true,\"showListView\":true,\"regDate\":\"20240618 20:38:38\",\"_id\":null,\"@type\":\"PC-NEWSSTAND-PRESS-BLOCK\",\"@code\":null,\"@template\":\"NONE\",\"@flowId\":null,\"@flowExecutionId\":null,\"@provider\":null,\"@lastModifiedAt\":null},{\"@type\":\"PC-NEWSSTAND-PRESS-BLOCK\",\"blocks\":null,\"materials\":null,\"excludeInPaging\":false,\"positionForPaging\":0,\"realtime\":false,\"pid\":\"088\",\"name\":\"매일신문\",\"logoLight\":{\"url\":\"https://s.pstatic.net/static/newsstand/2020/logo/light/0604/088.png\"},\"logoDark\":{\"url\":\"https://s.pstatic.net/static/newsstand/2020/logo/dark/0604/088.png\"},\"showThumbnailView\":true,\"showListView\":true,\"regDate\":\"20240619 10:50:11\",\"_id\":null,\"@type\":\"PC-NEWSSTAND-PRESS-BLOCK\",\"@code\":null,\"@template\":\"NONE\",\"@flowId\":null,\"@flowExecutionId\":null,\"@provider\":null,\"@lastModifiedAt\":null},{\"@type\":\"PC-NEWSSTAND-PRESS-BLOCK\",\"blocks\":null,\"materials\":null,\"excludeInPaging\":false,\"positionForPaging\":0,\"realtime\":false,\"pid\":\"089\",\"name\":\"대전일보\",\"logoLight\":{\"url\":\"https://s.pstatic.net/static/newsstand/2020/logo/light/0604/089.png\"},\"logoDark\":{\"url\":\"https://s.pstatic.net/static/newsstand/2020/logo/dark/0604/089.png\"},\"showThumbnailView\":true,\"showListView\":true,\"regDate\":\"20240619 11:30:02\",\"_id\":null,\"@type\":\"PC-NEWSSTAND-PRESS-BLOCK\",\"@code\":null,\"@template\":\"NONE\",\"@flowId\":null,\"@flowExecutionId\":null,\"@provider\":null,\"@lastModifiedAt\":null},{\"@type\":\"PC-NEWSSTAND-PRESS-BLOCK\",\"blocks\":null,\"materials\":null,\"excludeInPaging\":false,\"positionForPaging\":0,\"realtime\":false,\"pid\":\"529\",\"name\":\"스포츠춘추\",\"logoLight\":{\"url\":\"https://s.pstatic.net/static/newsstand/up/2022/0116/nsd19454239.png\"},\"logoDark\":{\"url\":\"https://s.pstatic.net/static/newsstand/up/2022/0116/nsd194523259.png\"},\"showThumbnailView\":true,\"showListView\":true,\"regDate\":\"20240619 11:20:25\",\"_id\":null,\"@type\":\"PC-NEWSSTAND-PRESS-BLOCK\",\"@code\":null,\"@template\":\"NONE\",\"@flowId\":null,\"@flowExecutionId\":null,\"@provider\":null,\"@lastModifiedAt\":null},{\"@type\":\"PC-NEWSSTAND-PRESS-BLOCK\",\"blocks\":null,\"materials\":null,\"excludeInPaging\":false,\"positionForPaging\":0,\"realtime\":false,\"pid\":\"092\",\"name\":\"지디넷코리아\",\"logoLight\":{\"url\":\"https://s.pstatic.net/static/newsstand/up/2022/0905/nsd131925414.png\"},\"logoDark\":{\"url\":\"https://s.pstatic.net/static/newsstand/up/2022/0905/nsd91639628.png\"},\"showThumbnailView\":true,\"showListView\":true,\"regDate\":\"20240619 11:27:48\",\"_id\":null,\"@type\":\"PC-NEWSSTAND-PRESS-BLOCK\",\"@code\":null,\"@template\":\"NONE\",\"@flowId\":null,\"@flowExecutionId\":null,\"@provider\":null,\"@lastModifiedAt\":null},{\"@type\":\"PC-NEWSSTAND-PRESS-BLOCK\",\"blocks\":null,\"materials\":null,\"excludeInPaging\":false,\"positionForPaging\":0,\"realtime\":false,\"pid\":\"094\",\"name\":\"월간 산\",\"logoLight\":{\"url\":\"https://s.pstatic.net/static/newsstand/2020/logo/light/0604/094.png\"},\"logoDark\":{\"url\":\"https://s.pstatic.net/static/newsstand/2020/logo/dark/0604/094.png\"},\"showThumbnailView\":true,\"showListView\":true,\"regDate\":\"20240619 11:20:31\",\"_id\":null,\"@type\":\"PC-NEWSSTAND-PRESS-BLOCK\",\"@code\":null,\"@template\":\"NONE\",\"@flowId\":null,\"@flowExecutionId\":null,\"@provider\":null,\"@lastModifiedAt\":null},{\"@type\":\"PC-NEWSSTAND-PRESS-BLOCK\",\"blocks\":null,\"materials\":null,\"excludeInPaging\":false,\"positionForPaging\":0,\"realtime\":false,\"pid\":\"410\",\"name\":\"MK스포츠\",\"logoLight\":{\"url\":\"https://s.pstatic.net/static/newsstand/2020/logo/light/0604/410.png\"},\"logoDark\":{\"url\":\"https://s.pstatic.net/static/newsstand/2020/logo/dark/0604/410.png\"},\"showThumbnailView\":true,\"showListView\":true,\"regDate\":\"20240619 11:24:01\",\"_id\":null,\"@type\":\"PC-NEWSSTAND-PRESS-BLOCK\",\"@code\":null,\"@template\":\"NONE\",\"@flowId\":null,\"@flowExecutionId\":null,\"@provider\":null,\"@lastModifiedAt\":null},{\"@type\":\"PC-NEWSSTAND-PRESS-BLOCK\",\"blocks\":null,\"materials\":null,\"excludeInPaging\":false,\"positionForPaging\":0,\"realtime\":false,\"pid\":\"536\",\"name\":\"더팩트\",\"logoLight\":{\"url\":\"https://s.pstatic.net/static/newsstand/2020/logo/light/0604/536.png\"},\"logoDark\":{\"url\":\"https://s.pstatic.net/static/newsstand/2020/logo/dark/0604/536.png\"},\"showThumbnailView\":true,\"showListView\":true,\"regDate\":\"20240619 11:15:31\",\"_id\":null,\"@type\":\"PC-NEWSSTAND-PRESS-BLOCK\",\"@code\":null,\"@template\":\"NONE\",\"@flowId\":null,\"@flowExecutionId\":null,\"@provider\":null,\"@lastModifiedAt\":null},{\"@type\":\"PC-NEWSSTAND-PRESS-BLOCK\",\"blocks\":null,\"materials\":null,\"excludeInPaging\":false,\"positionForPaging\":0,\"realtime\":false,\"pid\":\"416\",\"name\":\"SBS연예뉴스\",\"logoLight\":{\"url\":\"https://s.pstatic.net/static/newsstand/up/2020/1228/nsd1681569.png\"},\"logoDark\":{\"url\":\"https://s.pstatic.net/static/newsstand/up/2020/1228/nsd1688305.png\"},\"showThumbnailView\":true,\"showListView\":true,\"regDate\":\"20240619 11:25:31\",\"_id\":null,\"@type\":\"PC-NEWSSTAND-PRESS-BLOCK\",\"@code\":null,\"@template\":\"NONE\",\"@flowId\":null,\"@flowExecutionId\":null,\"@provider\":null,\"@lastModifiedAt\":null},{\"@type\":\"PC-NEWSSTAND-PRESS-BLOCK\",\"blocks\":null,\"materials\":null,\"excludeInPaging\":false,\"positionForPaging\":0,\"realtime\":false,\"pid\":\"417\",\"name\":\"머니S\",\"logoLight\":{\"url\":\"https://s.pstatic.net/static/newsstand/2020/logo/light/0604/417.png\"},\"logoDark\":{\"url\":\"https://s.pstatic.net/static/newsstand/2020/logo/dark/0604/417.png\"},\"showThumbnailView\":true,\"showListView\":true,\"regDate\":\"20240619 11:25:32\",\"_id\":null,\"@type\":\"PC-NEWSSTAND-PRESS-BLOCK\",\"@code\":null,\"@template\":\"NONE\",\"@flowId\":null,\"@flowExecutionId\":null,\"@provider\":null,\"@lastModifiedAt\":null},{\"@type\":\"PC-NEWSSTAND-PRESS-BLOCK\",\"blocks\":null,\"materials\":null,\"excludeInPaging\":false,\"positionForPaging\":0,\"realtime\":false,\"pid\":\"539\",\"name\":\"위키트리\",\"logoLight\":{\"url\":\"https://s.pstatic.net/static/newsstand/2020/logo/light/0604/539.png\"},\"logoDark\":{\"url\":\"https://s.pstatic.net/static/newsstand/2020/logo/dark/0604/539.png\"},\"showThumbnailView\":true,\"showListView\":true,\"regDate\":\"20240619 11:25:31\",\"_id\":null,\"@type\":\"PC-NEWSSTAND-PRESS-BLOCK\",\"@code\":null,\"@template\":\"NONE\",\"@flowId\":null,\"@flowExecutionId\":null,\"@provider\":null,\"@lastModifiedAt\":null},{\"@type\":\"PC-NEWSSTAND-PRESS-BLOCK\",\"blocks\":null,\"materials\":null,\"excludeInPaging\":false,\"positionForPaging\":0,\"realtime\":false,\"pid\":\"421\",\"name\":\"뉴스1\",\"logoLight\":{\"url\":\"https://s.pstatic.net/static/newsstand/up/2024/0229/nsd103734195.png\"},\"logoDark\":{\"url\":\"https://s.pstatic.net/static/newsstand/up/2024/0229/nsd10375418.png\"},\"showThumbnailView\":true,\"showListView\":true,\"regDate\":\"20240619 11:21:28\",\"_id\":null,\"@type\":\"PC-NEWSSTAND-PRESS-BLOCK\",\"@code\":null,\"@template\":\"NONE\",\"@flowId\":null,\"@flowExecutionId\":null,\"@provider\":null,\"@lastModifiedAt\":null},{\"@type\":\"PC-NEWSSTAND-PRESS-BLOCK\",\"blocks\":null,\"materials\":null,\"excludeInPaging\":false,\"positionForPaging\":0,\"realtime\":false,\"pid\":\"301\",\"name\":\"광주드림\",\"logoLight\":{\"url\":\"https://s.pstatic.net/static/newsstand/2020/logo/light/0604/301.png\"},\"logoDark\":{\"url\":\"https://s.pstatic.net/static/newsstand/2020/logo/dark/0604/301.png\"},\"showThumbnailView\":true,\"showListView\":true,\"regDate\":\"20240619 11:20:20\",\"_id\":null,\"@type\":\"PC-NEWSSTAND-PRESS-BLOCK\",\"@code\":null,\"@template\":\"NONE\",\"@flowId\":null,\"@flowExecutionId\":null,\"@provider\":null,\"@lastModifiedAt\":null},{\"@type\":\"PC-NEWSSTAND-PRESS-BLOCK\",\"blocks\":null,\"materials\":null,\"excludeInPaging\":false,\"positionForPaging\":0,\"realtime\":false,\"pid\":\"422\",\"name\":\"연합뉴스TV\",\"logoLight\":{\"url\":\"https://s.pstatic.net/static/newsstand/2020/logo/light/0604/422.png\"},\"logoDark\":{\"url\":\"https://s.pstatic.net/static/newsstand/2020/logo/dark/0604/422.png\"},\"showThumbnailView\":true,\"showListView\":true,\"regDate\":\"20240619 11:31:47\",\"_id\":null,\"@type\":\"PC-NEWSSTAND-PRESS-BLOCK\",\"@code\":null,\"@template\":\"NONE\",\"@flowId\":null,\"@flowExecutionId\":null,\"@provider\":null,\"@lastModifiedAt\":null},{\"@type\":\"PC-NEWSSTAND-PRESS-BLOCK\",\"blocks\":null,\"materials\":null,\"excludeInPaging\":false,\"positionForPaging\":0,\"realtime\":false,\"pid\":\"308\",\"name\":\"시사IN\",\"logoLight\":{\"url\":\"https://s.pstatic.net/static/newsstand/2020/logo/light/0604/308.png\"},\"logoDark\":{\"url\":\"https://s.pstatic.net/static/newsstand/2020/logo/dark/0604/308.png\"},\"showThumbnailView\":true,\"showListView\":true,\"regDate\":\"20240619 06:01:55\",\"_id\":null,\"@type\":\"PC-NEWSSTAND-PRESS-BLOCK\",\"@code\":null,\"@template\":\"NONE\",\"@flowId\":null,\"@flowExecutionId\":null,\"@provider\":null,\"@lastModifiedAt\":null},{\"@type\":\"PC-NEWSSTAND-PRESS-BLOCK\",\"blocks\":null,\"materials\":null,\"excludeInPaging\":false,\"positionForPaging\":0,\"realtime\":false,\"pid\":\"310\",\"name\":\"여성신문\",\"logoLight\":{\"url\":\"https://s.pstatic.net/static/newsstand/2020/logo/light/0604/310.png\"},\"logoDark\":{\"url\":\"https://s.pstatic.net/static/newsstand/2020/logo/dark/0604/310.png\"},\"showThumbnailView\":true,\"showListView\":true,\"regDate\":\"20240619 11:30:02\",\"_id\":null,\"@type\":\"PC-NEWSSTAND-PRESS-BLOCK\",\"@code\":null,\"@template\":\"NONE\",\"@flowId\":null,\"@flowExecutionId\":null,\"@provider\":null,\"@lastModifiedAt\":null},{\"@type\":\"PC-NEWSSTAND-PRESS-BLOCK\",\"blocks\":null,\"materials\":null,\"excludeInPaging\":false,\"positionForPaging\":0,\"realtime\":false,\"pid\":\"311\",\"name\":\"엑스포츠뉴스\",\"logoLight\":{\"url\":\"https://s.pstatic.net/static/newsstand/2020/logo/light/0604/311.png\"},\"logoDark\":{\"url\":\"https://s.pstatic.net/static/newsstand/2020/logo/dark/0604/311.png\"},\"showThumbnailView\":true,\"showListView\":true,\"regDate\":\"20240619 11:18:01\",\"_id\":null,\"@type\":\"PC-NEWSSTAND-PRESS-BLOCK\",\"@code\":null,\"@template\":\"NONE\",\"@flowId\":null,\"@flowExecutionId\":null,\"@provider\":null,\"@lastModifiedAt\":null},{\"@type\":\"PC-NEWSSTAND-PRESS-BLOCK\",\"blocks\":null,\"materials\":null,\"excludeInPaging\":false,\"positionForPaging\":0,\"realtime\":false,\"pid\":\"312\",\"name\":\"텐아시아\",\"logoLight\":{\"url\":\"https://s.pstatic.net/static/newsstand/2020/logo/light/0604/312.png\"},\"logoDark\":{\"url\":\"https://s.pstatic.net/static/newsstand/2020/logo/dark/0604/312.png\"},\"showThumbnailView\":true,\"showListView\":true,\"regDate\":\"20240619 11:15:44\",\"_id\":null,\"@type\":\"PC-NEWSSTAND-PRESS-BLOCK\",\"@code\":null,\"@template\":\"NONE\",\"@flowId\":null,\"@flowExecutionId\":null,\"@provider\":null,\"@lastModifiedAt\":null},{\"@type\":\"PC-NEWSSTAND-PRESS-BLOCK\",\"blocks\":null,\"materials\":null,\"excludeInPaging\":false,\"positionForPaging\":0,\"realtime\":false,\"pid\":\"314\",\"name\":\"스포츠동아\",\"logoLight\":{\"url\":\"https://s.pstatic.net/static/newsstand/2020/logo/light/0604/314.png\"},\"logoDark\":{\"url\":\"https://s.pstatic.net/static/newsstand/2020/logo/dark/0604/314.png\"},\"showThumbnailView\":true,\"showListView\":true,\"regDate\":\"20240619 11:16:48\",\"_id\":null,\"@type\":\"PC-NEWSSTAND-PRESS-BLOCK\",\"@code\":null,\"@template\":\"NONE\",\"@flowId\":null,\"@flowExecutionId\":null,\"@provider\":null,\"@lastModifiedAt\":null},{\"@type\":\"PC-NEWSSTAND-PRESS-BLOCK\",\"blocks\":null,\"materials\":null,\"excludeInPaging\":false,\"positionForPaging\":0,\"realtime\":false,\"pid\":\"681\",\"name\":\"이코노타임즈\",\"logoLight\":{\"url\":\"https://s.pstatic.net/static/newsstand/up/2022/0615/nsd7251644.png\"},\"logoDark\":{\"url\":\"https://s.pstatic.net/static/newsstand/up/2022/0615/nsd7244919.png\"},\"showThumbnailView\":true,\"showListView\":true,\"regDate\":\"20240618 14:31:18\",\"_id\":null,\"@type\":\"PC-NEWSSTAND-PRESS-BLOCK\",\"@code\":null,\"@template\":\"NONE\",\"@flowId\":null,\"@flowExecutionId\":null,\"@provider\":null,\"@lastModifiedAt\":null},{\"@type\":\"PC-NEWSSTAND-PRESS-BLOCK\",\"blocks\":null,\"materials\":null,\"excludeInPaging\":false,\"positionForPaging\":0,\"realtime\":false,\"pid\":\"440\",\"name\":\"티브이데일리\",\"logoLight\":{\"url\":\"https://s.pstatic.net/static/newsstand/2020/logo/light/0604/440.png\"},\"logoDark\":{\"url\":\"https://s.pstatic.net/static/newsstand/2020/logo/dark/0604/440.png\"},\"showThumbnailView\":true,\"showListView\":true,\"regDate\":\"20240619 11:20:01\",\"_id\":null,\"@type\":\"PC-NEWSSTAND-PRESS-BLOCK\",\"@code\":null,\"@template\":\"NONE\",\"@flowId\":null,\"@flowExecutionId\":null,\"@provider\":null,\"@lastModifiedAt\":null},{\"@type\":\"PC-NEWSSTAND-PRESS-BLOCK\",\"blocks\":null,\"materials\":null,\"excludeInPaging\":false,\"positionForPaging\":0,\"realtime\":false,\"pid\":\"682\",\"name\":\"여성경제신문\",\"logoLight\":{\"url\":\"https://s.pstatic.net/static/newsstand/up/2022/1018/nsd132851977.png\"},\"logoDark\":{\"url\":\"https://s.pstatic.net/static/newsstand/up/2022/1018/nsd132844419.png\"},\"showThumbnailView\":true,\"showListView\":true,\"regDate\":\"20240619 11:20:33\",\"_id\":null,\"@type\":\"PC-NEWSSTAND-PRESS-BLOCK\",\"@code\":null,\"@template\":\"NONE\",\"@flowId\":null,\"@flowExecutionId\":null,\"@provider\":null,\"@lastModifiedAt\":null},{\"@type\":\"PC-NEWSSTAND-PRESS-BLOCK\",\"blocks\":null,\"materials\":null,\"excludeInPaging\":false,\"positionForPaging\":0,\"realtime\":false,\"pid\":\"683\",\"name\":\"MS투데이\",\"logoLight\":{\"url\":\"https://s.pstatic.net/static/newsstand/up/2022/1017/nsd202940832.png\"},\"logoDark\":{\"url\":\"https://s.pstatic.net/static/newsstand/up/2022/1017/nsd202933363.png\"},\"showThumbnailView\":true,\"showListView\":true,\"regDate\":\"20240619 11:20:34\",\"_id\":null,\"@type\":\"PC-NEWSSTAND-PRESS-BLOCK\",\"@code\":null,\"@template\":\"NONE\",\"@flowId\":null,\"@flowExecutionId\":null,\"@provider\":null,\"@lastModifiedAt\":null},{\"@type\":\"PC-NEWSSTAND-PRESS-BLOCK\",\"blocks\":null,\"materials\":null,\"excludeInPaging\":false,\"positionForPaging\":0,\"realtime\":false,\"pid\":\"684\",\"name\":\"TJB대전방송\",\"logoLight\":{\"url\":\"https://s.pstatic.net/static/newsstand/up/2023/0103/nsd95227559.png\"},\"logoDark\":{\"url\":\"https://s.pstatic.net/static/newsstand/up/2023/0103/nsd9522095.png\"},\"showThumbnailView\":true,\"showListView\":true,\"regDate\":\"20240619 08:00:01\",\"_id\":null,\"@type\":\"PC-NEWSSTAND-PRESS-BLOCK\",\"@code\":null,\"@template\":\"NONE\",\"@flowId\":null,\"@flowExecutionId\":null,\"@provider\":null,\"@lastModifiedAt\":null},{\"@type\":\"PC-NEWSSTAND-PRESS-BLOCK\",\"blocks\":null,\"materials\":null,\"excludeInPaging\":false,\"positionForPaging\":0,\"realtime\":false,\"pid\":\"685\",\"name\":\"서울와이어\",\"logoLight\":{\"url\":\"https://s.pstatic.net/static/newsstand/up/2022/1024/nsd174430433.png\"},\"logoDark\":{\"url\":\"https://s.pstatic.net/static/newsstand/up/2022/1024/nsd174424325.png\"},\"showThumbnailView\":true,\"showListView\":true,\"regDate\":\"20240619 11:20:34\",\"_id\":null,\"@type\":\"PC-NEWSSTAND-PRESS-BLOCK\",\"@code\":null,\"@template\":\"NONE\",\"@flowId\":null,\"@flowExecutionId\":null,\"@provider\":null,\"@lastModifiedAt\":null},{\"@type\":\"PC-NEWSSTAND-PRESS-BLOCK\",\"blocks\":null,\"materials\":null,\"excludeInPaging\":false,\"positionForPaging\":0,\"realtime\":false,\"pid\":\"686\",\"name\":\"주간경향\",\"logoLight\":{\"url\":\"https://s.pstatic.net/static/newsstand/up/2022/1007/nsd161849944.png\"},\"logoDark\":{\"url\":\"https://s.pstatic.net/static/newsstand/up/2022/1007/nsd161842489.png\"},\"showThumbnailView\":true,\"showListView\":true,\"regDate\":\"20240614 10:23:40\",\"_id\":null,\"@type\":\"PC-NEWSSTAND-PRESS-BLOCK\",\"@code\":null,\"@template\":\"NONE\",\"@flowId\":null,\"@flowExecutionId\":null,\"@provider\":null,\"@lastModifiedAt\":null},{\"@type\":\"PC-NEWSSTAND-PRESS-BLOCK\",\"blocks\":null,\"materials\":null,\"excludeInPaging\":false,\"positionForPaging\":0,\"realtime\":false,\"pid\":\"687\",\"name\":\"뉴스클레임\",\"logoLight\":{\"url\":\"https://s.pstatic.net/static/newsstand/up/2022/1006/nsd205818702.png\"},\"logoDark\":{\"url\":\"https://s.pstatic.net/static/newsstand/up/2022/1006/nsd205810265.png\"},\"showThumbnailView\":true,\"showListView\":true,\"regDate\":\"20240619 11:20:32\",\"_id\":null,\"@type\":\"PC-NEWSSTAND-PRESS-BLOCK\",\"@code\":null,\"@template\":\"NONE\",\"@flowId\":null,\"@flowExecutionId\":null,\"@provider\":null,\"@lastModifiedAt\":null},{\"@type\":\"PC-NEWSSTAND-PRESS-BLOCK\",\"blocks\":null,\"materials\":null,\"excludeInPaging\":false,\"positionForPaging\":0,\"realtime\":false,\"pid\":\"688\",\"name\":\"경기신문\",\"logoLight\":{\"url\":\"https://s.pstatic.net/static/newsstand/up/2022/1017/nsd202616515.png\"},\"logoDark\":{\"url\":\"https://s.pstatic.net/static/newsstand/up/2022/1017/nsd20268714.png\"},\"showThumbnailView\":true,\"showListView\":true,\"regDate\":\"20240619 11:20:02\",\"_id\":null,\"@type\":\"PC-NEWSSTAND-PRESS-BLOCK\",\"@code\":null,\"@template\":\"NONE\",\"@flowId\":null,\"@flowExecutionId\":null,\"@provider\":null,\"@lastModifiedAt\":null},{\"@type\":\"PC-NEWSSTAND-PRESS-BLOCK\",\"blocks\":null,\"materials\":null,\"excludeInPaging\":false,\"positionForPaging\":0,\"realtime\":false,\"pid\":\"326\",\"name\":\"KBS World\",\"logoLight\":{\"url\":\"https://s.pstatic.net/static/newsstand/2020/logo/light/0604/326.png\"},\"logoDark\":{\"url\":\"https://s.pstatic.net/static/newsstand/2020/logo/dark/0604/326.png\"},\"showThumbnailView\":true,\"showListView\":true,\"regDate\":\"20240619 11:21:25\",\"_id\":null,\"@type\":\"PC-NEWSSTAND-PRESS-BLOCK\",\"@code\":null,\"@template\":\"NONE\",\"@flowId\":null,\"@flowExecutionId\":null,\"@provider\":null,\"@lastModifiedAt\":null},{\"@type\":\"PC-NEWSSTAND-PRESS-BLOCK\",\"blocks\":null,\"materials\":null,\"excludeInPaging\":false,\"positionForPaging\":0,\"realtime\":false,\"pid\":\"447\",\"name\":\"뉴스엔\",\"logoLight\":{\"url\":\"https://s.pstatic.net/static/newsstand/2020/logo/light/0604/447.png\"},\"logoDark\":{\"url\":\"https://s.pstatic.net/static/newsstand/2020/logo/dark/0604/447.png\"},\"showThumbnailView\":true,\"showListView\":true,\"regDate\":\"20240619 08:09:33\",\"_id\":null,\"@type\":\"PC-NEWSSTAND-PRESS-BLOCK\",\"@code\":null,\"@template\":\"NONE\",\"@flowId\":null,\"@flowExecutionId\":null,\"@provider\":null,\"@lastModifiedAt\":null},{\"@type\":\"PC-NEWSSTAND-PRESS-BLOCK\",\"blocks\":null,\"materials\":null,\"excludeInPaging\":false,\"positionForPaging\":0,\"realtime\":false,\"pid\":\"689\",\"name\":\"인천투데이\",\"logoLight\":{\"url\":\"https://s.pstatic.net/static/newsstand/up/2022/1107/nsd1054226.png\"},\"logoDark\":{\"url\":\"https://s.pstatic.net/static/newsstand/up/2022/1107/nsd105354391.png\"},\"showThumbnailView\":true,\"showListView\":true,\"regDate\":\"20240619 11:20:33\",\"_id\":null,\"@type\":\"PC-NEWSSTAND-PRESS-BLOCK\",\"@code\":null,\"@template\":\"NONE\",\"@flowId\":null,\"@flowExecutionId\":null,\"@provider\":null,\"@lastModifiedAt\":null},{\"@type\":\"PC-NEWSSTAND-PRESS-BLOCK\",\"blocks\":null,\"materials\":null,\"excludeInPaging\":false,\"positionForPaging\":0,\"realtime\":false,\"pid\":\"327\",\"name\":\"뉴데일리\",\"logoLight\":{\"url\":\"https://s.pstatic.net/static/newsstand/up/2024/0124/nsd95528325.png\"},\"logoDark\":{\"url\":\"https://s.pstatic.net/static/newsstand/up/2024/0124/nsd95520363.png\"},\"showThumbnailView\":true,\"showListView\":true,\"regDate\":\"20240619 10:51:53\",\"_id\":null,\"@type\":\"PC-NEWSSTAND-PRESS-BLOCK\",\"@code\":null,\"@template\":\"NONE\",\"@flowId\":null,\"@flowExecutionId\":null,\"@provider\":null,\"@lastModifiedAt\":null},{\"@type\":\"PC-NEWSSTAND-PRESS-BLOCK\",\"blocks\":null,\"materials\":null,\"excludeInPaging\":false,\"positionForPaging\":0,\"realtime\":false,\"pid\":\"328\",\"name\":\"에이블뉴스\",\"logoLight\":{\"url\":\"https://s.pstatic.net/static/newsstand/2020/logo/light/0604/328.png\"},\"logoDark\":{\"url\":\"https://s.pstatic.net/static/newsstand/2020/logo/dark/0604/328.png\"},\"showThumbnailView\":true,\"showListView\":true,\"regDate\":\"20240619 11:20:34\",\"_id\":null,\"@type\":\"PC-NEWSSTAND-PRESS-BLOCK\",\"@code\":null,\"@template\":\"NONE\",\"@flowId\":null,\"@flowExecutionId\":null,\"@provider\":null,\"@lastModifiedAt\":null},{\"@type\":\"PC-NEWSSTAND-PRESS-BLOCK\",\"blocks\":null,\"materials\":null,\"excludeInPaging\":false,\"positionForPaging\":0,\"realtime\":false,\"pid\":\"329\",\"name\":\"소년한국일보\",\"logoLight\":{\"url\":\"https://s.pstatic.net/static/newsstand/up/2021/0728/nsd1110888.png\"},\"logoDark\":{\"url\":\"https://s.pstatic.net/static/newsstand/up/2021/0728/nsd111059924.png\"},\"showThumbnailView\":true,\"showListView\":true,\"regDate\":\"20240619 11:20:23\",\"_id\":null,\"@type\":\"PC-NEWSSTAND-PRESS-BLOCK\",\"@code\":null,\"@template\":\"NONE\",\"@flowId\":null,\"@flowExecutionId\":null,\"@provider\":null,\"@lastModifiedAt\":null},{\"@type\":\"PC-NEWSSTAND-PRESS-BLOCK\",\"blocks\":null,\"materials\":null,\"excludeInPaging\":false,\"positionForPaging\":0,\"realtime\":false,\"pid\":\"690\",\"name\":\"정책브리핑\",\"logoLight\":{\"url\":\"https://s.pstatic.net/static/newsstand/up/2022/1116/nsd113848865.png\"},\"logoDark\":{\"url\":\"https://s.pstatic.net/static/newsstand/up/2022/1116/nsd113840778.png\"},\"showThumbnailView\":true,\"showListView\":true,\"regDate\":\"20240619 11:12:00\",\"_id\":null,\"@type\":\"PC-NEWSSTAND-PRESS-BLOCK\",\"@code\":null,\"@template\":\"NONE\",\"@flowId\":null,\"@flowExecutionId\":null,\"@provider\":null,\"@lastModifiedAt\":null},{\"@type\":\"PC-NEWSSTAND-PRESS-BLOCK\",\"blocks\":null,\"materials\":null,\"excludeInPaging\":false,\"positionForPaging\":0,\"realtime\":false,\"pid\":\"691\",\"name\":\"여성동아\",\"logoLight\":{\"url\":\"https://s.pstatic.net/static/newsstand/up/2023/0418/nsd124451202.png\"},\"logoDark\":{\"url\":\"https://s.pstatic.net/static/newsstand/up/2023/0418/nsd124439166.png\"},\"showThumbnailView\":true,\"showListView\":true,\"regDate\":\"20240619 10:02:41\",\"_id\":null,\"@type\":\"PC-NEWSSTAND-PRESS-BLOCK\",\"@code\":null,\"@template\":\"NONE\",\"@flowId\":null,\"@flowExecutionId\":null,\"@provider\":null,\"@lastModifiedAt\":null},{\"@type\":\"PC-NEWSSTAND-PRESS-BLOCK\",\"blocks\":null,\"materials\":null,\"excludeInPaging\":false,\"positionForPaging\":0,\"realtime\":false,\"pid\":\"330\",\"name\":\"중앙데일리\",\"logoLight\":{\"url\":\"https://s.pstatic.net/static/newsstand/2020/logo/light/0604/330.png\"},\"logoDark\":{\"url\":\"https://s.pstatic.net/static/newsstand/2020/logo/dark/0604/330.png\"},\"showThumbnailView\":true,\"showListView\":true,\"regDate\":\"20240619 10:22:29\",\"_id\":null,\"@type\":\"PC-NEWSSTAND-PRESS-BLOCK\",\"@code\":null,\"@template\":\"NONE\",\"@flowId\":null,\"@flowExecutionId\":null,\"@provider\":null,\"@lastModifiedAt\":null},{\"@type\":\"PC-NEWSSTAND-PRESS-BLOCK\",\"blocks\":null,\"materials\":null,\"excludeInPaging\":false,\"positionForPaging\":0,\"realtime\":false,\"pid\":\"331\",\"name\":\"충청투데이\",\"logoLight\":{\"url\":\"https://s.pstatic.net/static/newsstand/2020/logo/light/0604/331.png\"},\"logoDark\":{\"url\":\"https://s.pstatic.net/static/newsstand/2020/logo/dark/0604/331.png\"},\"showThumbnailView\":true,\"showListView\":true,\"regDate\":\"20240618 19:30:51\",\"_id\":null,\"@type\":\"PC-NEWSSTAND-PRESS-BLOCK\",\"@code\":null,\"@template\":\"NONE\",\"@flowId\":null,\"@flowExecutionId\":null,\"@provider\":null,\"@lastModifiedAt\":null},{\"@type\":\"PC-NEWSSTAND-PRESS-BLOCK\",\"blocks\":null,\"materials\":null,\"excludeInPaging\":false,\"positionForPaging\":0,\"realtime\":false,\"pid\":\"332\",\"name\":\"국제신문\",\"logoLight\":{\"url\":\"https://s.pstatic.net/static/newsstand/2020/logo/light/0604/332.png\"},\"logoDark\":{\"url\":\"https://s.pstatic.net/static/newsstand/2020/logo/dark/0604/332.png\"},\"showThumbnailView\":true,\"showListView\":true,\"regDate\":\"20240619 09:20:14\",\"_id\":null,\"@type\":\"PC-NEWSSTAND-PRESS-BLOCK\",\"@code\":null,\"@template\":\"NONE\",\"@flowId\":null,\"@flowExecutionId\":null,\"@provider\":null,\"@lastModifiedAt\":null},{\"@type\":\"PC-NEWSSTAND-PRESS-BLOCK\",\"blocks\":null,\"materials\":null,\"excludeInPaging\":false,\"positionForPaging\":0,\"realtime\":false,\"pid\":\"333\",\"name\":\"경남신문\",\"logoLight\":{\"url\":\"https://s.pstatic.net/static/newsstand/2020/logo/light/0604/333.png\"},\"logoDark\":{\"url\":\"https://s.pstatic.net/static/newsstand/2020/logo/dark/0604/333.png\"},\"showThumbnailView\":true,\"showListView\":true,\"regDate\":\"20240619 11:01:05\",\"_id\":null,\"@type\":\"PC-NEWSSTAND-PRESS-BLOCK\",\"@code\":null,\"@template\":\"NONE\",\"@flowId\":null,\"@flowExecutionId\":null,\"@provider\":null,\"@lastModifiedAt\":null},{\"@type\":\"PC-NEWSSTAND-PRESS-BLOCK\",\"blocks\":null,\"materials\":null,\"excludeInPaging\":false,\"positionForPaging\":0,\"realtime\":false,\"pid\":\"213\",\"name\":\"TV리포트\",\"logoLight\":{\"url\":\"https://s.pstatic.net/static/newsstand/up/2023/0714/nsd125517690.png\"},\"logoDark\":{\"url\":\"https://s.pstatic.net/static/newsstand/up/2023/0714/nsd125510155.png\"},\"showThumbnailView\":true,\"showListView\":true,\"regDate\":\"20240619 10:41:54\",\"_id\":null,\"@type\":\"PC-NEWSSTAND-PRESS-BLOCK\",\"@code\":null,\"@template\":\"NONE\",\"@flowId\":null,\"@flowExecutionId\":null,\"@provider\":null,\"@lastModifiedAt\":null},{\"@type\":\"PC-NEWSSTAND-PRESS-BLOCK\",\"blocks\":null,\"materials\":null,\"excludeInPaging\":false,\"positionForPaging\":0,\"realtime\":false,\"pid\":\"334\",\"name\":\"제주의소리\",\"logoLight\":{\"url\":\"https://s.pstatic.net/static/newsstand/2020/logo/light/0604/334.png\"},\"logoDark\":{\"url\":\"https://s.pstatic.net/static/newsstand/2020/logo/dark/0604/334.png\"},\"showThumbnailView\":true,\"showListView\":true,\"regDate\":\"20240619 11:11:59\",\"_id\":null,\"@type\":\"PC-NEWSSTAND-PRESS-BLOCK\",\"@code\":null,\"@template\":\"NONE\",\"@flowId\":null,\"@flowExecutionId\":null,\"@provider\":null,\"@lastModifiedAt\":null},{\"@type\":\"PC-NEWSSTAND-PRESS-BLOCK\",\"blocks\":null,\"materials\":null,\"excludeInPaging\":false,\"positionForPaging\":0,\"realtime\":false,\"pid\":\"214\",\"name\":\"MBC\",\"logoLight\":{\"url\":\"https://s.pstatic.net/static/newsstand/2020/logo/light/0604/214.png\"},\"logoDark\":{\"url\":\"https://s.pstatic.net/static/newsstand/2020/logo/dark/0604/214.png\"},\"showThumbnailView\":true,\"showListView\":true,\"regDate\":\"20240619 11:02:51\",\"_id\":null,\"@type\":\"PC-NEWSSTAND-PRESS-BLOCK\",\"@code\":null,\"@template\":\"NONE\",\"@flowId\":null,\"@flowExecutionId\":null,\"@provider\":null,\"@lastModifiedAt\":null},{\"@type\":\"PC-NEWSSTAND-PRESS-BLOCK\",\"blocks\":null,\"materials\":null,\"excludeInPaging\":false,\"positionForPaging\":0,\"realtime\":false,\"pid\":\"335\",\"name\":\"강원도민일보\",\"logoLight\":{\"url\":\"https://s.pstatic.net/static/newsstand/2020/logo/light/0604/335.png\"},\"logoDark\":{\"url\":\"https://s.pstatic.net/static/newsstand/2020/logo/dark/0604/335.png\"},\"showThumbnailView\":true,\"showListView\":true,\"regDate\":\"20240619 00:15:17\",\"_id\":null,\"@type\":\"PC-NEWSSTAND-PRESS-BLOCK\",\"@code\":null,\"@template\":\"NONE\",\"@flowId\":null,\"@flowExecutionId\":null,\"@provider\":null,\"@lastModifiedAt\":null},{\"@type\":\"PC-NEWSSTAND-PRESS-BLOCK\",\"blocks\":null,\"materials\":null,\"excludeInPaging\":false,\"positionForPaging\":0,\"realtime\":false,\"pid\":\"215\",\"name\":\"한국경제TV\",\"logoLight\":{\"url\":\"https://s.pstatic.net/static/newsstand/2020/logo/light/0604/215.png\"},\"logoDark\":{\"url\":\"https://s.pstatic.net/static/newsstand/2020/logo/dark/0604/215.png\"},\"showThumbnailView\":true,\"showListView\":true,\"regDate\":\"20240619 11:17:12\",\"_id\":null,\"@type\":\"PC-NEWSSTAND-PRESS-BLOCK\",\"@code\":null,\"@template\":\"NONE\",\"@flowId\":null,\"@flowExecutionId\":null,\"@provider\":null,\"@lastModifiedAt\":null},{\"@type\":\"PC-NEWSSTAND-PRESS-BLOCK\",\"blocks\":null,\"materials\":null,\"excludeInPaging\":false,\"positionForPaging\":0,\"realtime\":false,\"pid\":\"336\",\"name\":\"전북일보\",\"logoLight\":{\"url\":\"https://s.pstatic.net/static/newsstand/2020/logo/light/0604/336.png\"},\"logoDark\":{\"url\":\"https://s.pstatic.net/static/newsstand/2020/logo/dark/0604/336.png\"},\"showThumbnailView\":true,\"showListView\":true,\"regDate\":\"20240618 19:46:23\",\"_id\":null,\"@type\":\"PC-NEWSSTAND-PRESS-BLOCK\",\"@code\":null,\"@template\":\"NONE\",\"@flowId\":null,\"@flowExecutionId\":null,\"@provider\":null,\"@lastModifiedAt\":null},{\"@type\":\"PC-NEWSSTAND-PRESS-BLOCK\",\"blocks\":null,\"materials\":null,\"excludeInPaging\":false,\"positionForPaging\":0,\"realtime\":false,\"pid\":\"337\",\"name\":\"경북일보\",\"logoLight\":{\"url\":\"https://s.pstatic.net/static/newsstand/2020/logo/light/0604/337.png\"},\"logoDark\":{\"url\":\"https://s.pstatic.net/static/newsstand/2020/logo/dark/0604/337.png\"},\"showThumbnailView\":true,\"showListView\":true,\"regDate\":\"20240618 22:19:57\",\"_id\":null,\"@type\":\"PC-NEWSSTAND-PRESS-BLOCK\",\"@code\":null,\"@template\":\"NONE\",\"@flowId\":null,\"@flowExecutionId\":null,\"@provider\":null,\"@lastModifiedAt\":null},{\"@type\":\"PC-NEWSSTAND-PRESS-BLOCK\",\"blocks\":null,\"materials\":null,\"excludeInPaging\":false,\"positionForPaging\":0,\"realtime\":false,\"pid\":\"338\",\"name\":\"경인일보\",\"logoLight\":{\"url\":\"https://s.pstatic.net/static/newsstand/2020/logo/light/0604/338.png\"},\"logoDark\":{\"url\":\"https://s.pstatic.net/static/newsstand/2020/logo/dark/0604/338.png\"},\"showThumbnailView\":true,\"showListView\":true,\"regDate\":\"20240619 10:35:33\",\"_id\":null,\"@type\":\"PC-NEWSSTAND-PRESS-BLOCK\",\"@code\":null,\"@template\":\"NONE\",\"@flowId\":null,\"@flowExecutionId\":null,\"@provider\":null,\"@lastModifiedAt\":null},{\"@type\":\"PC-NEWSSTAND-PRESS-BLOCK\",\"blocks\":null,\"materials\":null,\"excludeInPaging\":false,\"positionForPaging\":0,\"realtime\":false,\"pid\":\"339\",\"name\":\"경기일보\",\"logoLight\":{\"url\":\"https://s.pstatic.net/static/newsstand/2020/logo/light/0604/339.png\"},\"logoDark\":{\"url\":\"https://s.pstatic.net/static/newsstand/2020/logo/dark/0604/339.png\"},\"showThumbnailView\":true,\"showListView\":true,\"regDate\":\"20240619 08:12:27\",\"_id\":null,\"@type\":\"PC-NEWSSTAND-PRESS-BLOCK\",\"@code\":null,\"@template\":\"NONE\",\"@flowId\":null,\"@flowExecutionId\":null,\"@provider\":null,\"@lastModifiedAt\":null},{\"@type\":\"PC-NEWSSTAND-PRESS-BLOCK\",\"blocks\":null,\"materials\":null,\"excludeInPaging\":false,\"positionForPaging\":0,\"realtime\":false,\"pid\":\"340\",\"name\":\"OBS\",\"logoLight\":{\"url\":\"https://s.pstatic.net/static/newsstand/2020/logo/light/0604/340.png\"},\"logoDark\":{\"url\":\"https://s.pstatic.net/static/newsstand/2020/logo/dark/0604/340.png\"},\"showThumbnailView\":true,\"showListView\":true,\"regDate\":\"20240619 11:26:45\",\"_id\":null,\"@type\":\"PC-NEWSSTAND-PRESS-BLOCK\",\"@code\":null,\"@template\":\"NONE\",\"@flowId\":null,\"@flowExecutionId\":null,\"@provider\":null,\"@lastModifiedAt\":null},{\"@type\":\"PC-NEWSSTAND-PRESS-BLOCK\",\"blocks\":null,\"materials\":null,\"excludeInPaging\":false,\"positionForPaging\":0,\"realtime\":false,\"pid\":\"344\",\"name\":\"EBS\",\"logoLight\":{\"url\":\"https://s.pstatic.net/static/newsstand/up/2020/0803/nsd20247547.png\"},\"logoDark\":{\"url\":\"https://s.pstatic.net/static/newsstand/up/2020/0803/nsd202358800.png\"},\"showThumbnailView\":true,\"showListView\":true,\"regDate\":\"20240618 19:47:22\",\"_id\":null,\"@type\":\"PC-NEWSSTAND-PRESS-BLOCK\",\"@code\":null,\"@template\":\"NONE\",\"@flowId\":null,\"@flowExecutionId\":null,\"@provider\":null,\"@lastModifiedAt\":null},{\"@type\":\"PC-NEWSSTAND-PRESS-BLOCK\",\"blocks\":null,\"materials\":null,\"excludeInPaging\":false,\"positionForPaging\":0,\"realtime\":false,\"pid\":\"345\",\"name\":\"디자인정글\",\"logoLight\":{\"url\":\"https://s.pstatic.net/static/newsstand/2020/logo/light/0604/345.png\"},\"logoDark\":{\"url\":\"https://s.pstatic.net/static/newsstand/2020/logo/dark/0604/345.png\"},\"showThumbnailView\":true,\"showListView\":true,\"regDate\":\"20240618 09:44:25\",\"_id\":null,\"@type\":\"PC-NEWSSTAND-PRESS-BLOCK\",\"@code\":null,\"@template\":\"NONE\",\"@flowId\":null,\"@flowExecutionId\":null,\"@provider\":null,\"@lastModifiedAt\":null},{\"@type\":\"PC-NEWSSTAND-PRESS-BLOCK\",\"blocks\":null,\"materials\":null,\"excludeInPaging\":false,\"positionForPaging\":0,\"realtime\":false,\"pid\":\"346\",\"name\":\"헬스조선\",\"logoLight\":{\"url\":\"https://s.pstatic.net/static/newsstand/2020/logo/light/0604/346.png\"},\"logoDark\":{\"url\":\"https://s.pstatic.net/static/newsstand/2020/logo/dark/0604/346.png\"},\"showThumbnailView\":true,\"showListView\":true,\"regDate\":\"20240619 11:31:02\",\"_id\":null,\"@type\":\"PC-NEWSSTAND-PRESS-BLOCK\",\"@code\":null,\"@template\":\"NONE\",\"@flowId\":null,\"@flowExecutionId\":null,\"@provider\":null,\"@lastModifiedAt\":null},{\"@type\":\"PC-NEWSSTAND-PRESS-BLOCK\",\"blocks\":null,\"materials\":null,\"excludeInPaging\":false,\"positionForPaging\":0,\"realtime\":false,\"pid\":\"108\",\"name\":\"스타뉴스\",\"logoLight\":{\"url\":\"https://s.pstatic.net/static/newsstand/2020/logo/light/0604/108.png\"},\"logoDark\":{\"url\":\"https://s.pstatic.net/static/newsstand/2020/logo/dark/0604/108.png\"},\"showThumbnailView\":true,\"showListView\":true,\"regDate\":\"20240619 11:25:06\",\"_id\":null,\"@type\":\"PC-NEWSSTAND-PRESS-BLOCK\",\"@code\":null,\"@template\":\"NONE\",\"@flowId\":null,\"@flowExecutionId\":null,\"@provider\":null,\"@lastModifiedAt\":null},{\"@type\":\"PC-NEWSSTAND-PRESS-BLOCK\",\"blocks\":null,\"materials\":null,\"excludeInPaging\":false,\"positionForPaging\":0,\"realtime\":false,\"pid\":\"109\",\"name\":\"OSEN\",\"logoLight\":{\"url\":\"https://s.pstatic.net/static/newsstand/up/2020/0610/nsd151458769.png\"},\"logoDark\":{\"url\":\"https://s.pstatic.net/static/newsstand/up/2020/0610/nsd151458769.png\"},\"showThumbnailView\":true,\"showListView\":true,\"regDate\":\"20240619 07:50:24\",\"_id\":null,\"@type\":\"PC-NEWSSTAND-PRESS-BLOCK\",\"@code\":null,\"@template\":\"NONE\",\"@flowId\":null,\"@flowExecutionId\":null,\"@provider\":null,\"@lastModifiedAt\":null},{\"@type\":\"PC-NEWSSTAND-PRESS-BLOCK\",\"blocks\":null,\"materials\":null,\"excludeInPaging\":false,\"positionForPaging\":0,\"realtime\":false,\"pid\":\"901\",\"name\":\"제민일보\",\"logoLight\":{\"url\":\"https://s.pstatic.net/static/newsstand/up/2020/1119/nsd213345745.png\"},\"logoDark\":{\"url\":\"https://s.pstatic.net/static/newsstand/up/2020/1119/nsd213339585.png\"},\"showThumbnailView\":true,\"showListView\":true,\"regDate\":\"20240618 19:13:35\",\"_id\":null,\"@type\":\"PC-NEWSSTAND-PRESS-BLOCK\",\"@code\":null,\"@template\":\"NONE\",\"@flowId\":null,\"@flowExecutionId\":null,\"@provider\":null,\"@lastModifiedAt\":null},{\"@type\":\"PC-NEWSSTAND-PRESS-BLOCK\",\"blocks\":null,\"materials\":null,\"excludeInPaging\":false,\"positionForPaging\":0,\"realtime\":false,\"pid\":\"902\",\"name\":\"TV조선\",\"logoLight\":{\"url\":\"https://s.pstatic.net/static/newsstand/2020/logo/light/0604/902.png\"},\"logoDark\":{\"url\":\"https://s.pstatic.net/static/newsstand/2020/logo/dark/0604/902.png\"},\"showThumbnailView\":true,\"showListView\":true,\"regDate\":\"20240619 09:54:00\",\"_id\":null,\"@type\":\"PC-NEWSSTAND-PRESS-BLOCK\",\"@code\":null,\"@template\":\"NONE\",\"@flowId\":null,\"@flowExecutionId\":null,\"@provider\":null,\"@lastModifiedAt\":null},{\"@type\":\"PC-NEWSSTAND-PRESS-BLOCK\",\"blocks\":null,\"materials\":null,\"excludeInPaging\":false,\"positionForPaging\":0,\"realtime\":false,\"pid\":\"903\",\"name\":\"채널A\",\"logoLight\":{\"url\":\"https://s.pstatic.net/static/newsstand/2020/logo/light/0604/903.png\"},\"logoDark\":{\"url\":\"https://s.pstatic.net/static/newsstand/2020/logo/dark/0604/903.png\"},\"showThumbnailView\":true,\"showListView\":true,\"regDate\":\"20240619 11:20:52\",\"_id\":null,\"@type\":\"PC-NEWSSTAND-PRESS-BLOCK\",\"@code\":null,\"@template\":\"NONE\",\"@flowId\":null,\"@flowExecutionId\":null,\"@provider\":null,\"@lastModifiedAt\":null},{\"@type\":\"PC-NEWSSTAND-PRESS-BLOCK\",\"blocks\":null,\"materials\":null,\"excludeInPaging\":false,\"positionForPaging\":0,\"realtime\":false,\"pid\":\"904\",\"name\":\"JTBC\",\"logoLight\":{\"url\":\"https://s.pstatic.net/static/newsstand/2020/logo/light/0604/904.png\"},\"logoDark\":{\"url\":\"https://s.pstatic.net/static/newsstand/2020/logo/dark/0604/904.png\"},\"showThumbnailView\":true,\"showListView\":true,\"regDate\":\"20240619 11:30:00\",\"_id\":null,\"@type\":\"PC-NEWSSTAND-PRESS-BLOCK\",\"@code\":null,\"@template\":\"NONE\",\"@flowId\":null,\"@flowExecutionId\":null,\"@provider\":null,\"@lastModifiedAt\":null},{\"@type\":\"PC-NEWSSTAND-PRESS-BLOCK\",\"blocks\":null,\"materials\":null,\"excludeInPaging\":false,\"positionForPaging\":0,\"realtime\":false,\"pid\":\"905\",\"name\":\"더스쿠프\",\"logoLight\":{\"url\":\"https://s.pstatic.net/static/newsstand/up/2024/0304/nsd101630742.png\"},\"logoDark\":{\"url\":\"https://s.pstatic.net/static/newsstand/up/2024/0304/nsd101639503.png\"},\"showThumbnailView\":true,\"showListView\":true,\"regDate\":\"20240618 19:19:05\",\"_id\":null,\"@type\":\"PC-NEWSSTAND-PRESS-BLOCK\",\"@code\":null,\"@template\":\"NONE\",\"@flowId\":null,\"@flowExecutionId\":null,\"@provider\":null,\"@lastModifiedAt\":null},{\"@type\":\"PC-NEWSSTAND-PRESS-BLOCK\",\"blocks\":null,\"materials\":null,\"excludeInPaging\":false,\"positionForPaging\":0,\"realtime\":false,\"pid\":\"906\",\"name\":\"KNN\",\"logoLight\":{\"url\":\"https://s.pstatic.net/static/newsstand/2020/logo/light/0604/906.png\"},\"logoDark\":{\"url\":\"https://s.pstatic.net/static/newsstand/2020/logo/dark/0604/906.png\"},\"showThumbnailView\":true,\"showListView\":true,\"regDate\":\"20240619 10:41:27\",\"_id\":null,\"@type\":\"PC-NEWSSTAND-PRESS-BLOCK\",\"@code\":null,\"@template\":\"NONE\",\"@flowId\":null,\"@flowExecutionId\":null,\"@provider\":null,\"@lastModifiedAt\":null}],\"materials\":null,\"excludeInPaging\":false,\"positionForPaging\":0,\"realtime\":false,\"majorPidList\":[\"032\",\"005\",\"079\",\"327\",\"930\",\"003\",\"368\",\"020\",\"029\",\"117\",\"009\",\"008\",\"021\",\"006\",\"293\",\"011\",\"081\",\"022\",\"314\",\"073\",\"076\",\"139\",\"308\",\"277\",\"031\",\"422\",\"047\",\"018\",\"241\",\"030\",\"366\",\"023\",\"330\",\"025\",\"092\",\"376\",\"044\",\"014\",\"002\",\"028\",\"015\",\"215\",\"038\",\"016\",\"904\",\"056\",\"326\",\"214\",\"057\",\"109\",\"055\",\"052\"],\"minorPidList\":[\"944\",\"687\",\"913\",\"914\",\"960\",\"536\",\"804\",\"812\",\"042\",\"969\",\"417\",\"961\",\"809\",\"814\",\"942\",\"943\",\"973\",\"685\",\"824\",\"970\",\"816\",\"957\",\"975\",\"810\",\"920\",\"921\",\"963\",\"682\",\"013\",\"801\",\"539\",\"964\",\"825\",\"243\",\"922\",\"803\",\"923\",\"971\",\"925\",\"690\",\"123\",\"353\",\"941\",\"143\",\"826\",\"822\",\"968\",\"993\",\"974\",\"932\",\"954\",\"120\",\"823\",\"959\",\"972\",\"421\",\"916\",\"903\",\"934\",\"344\",\"980\",\"906\",\"340\",\"374\",\"989\",\"981\",\"684\",\"902\",\"945\",\"910\",\"138\",\"953\",\"952\",\"977\",\"994\",\"818\",\"917\",\"681\",\"040\",\"946\",\"830\",\"447\",\"108\",\"802\",\"144\",\"396\",\"529\",\"940\",\"962\",\"477\",\"311\",\"947\",\"312\",\"440\",\"410\",\"416\",\"213\",\"356\",\"908\",\"938\",\"984\",\"911\",\"998\",\"997\",\"995\",\"905\",\"991\",\"955\",\"363\",\"345\",\"915\",\"024\",\"996\",\"075\",\"829\",\"819\",\"815\",\"122\",\"958\",\"827\",\"355\",\"808\",\"329\",\"135\",\"828\",\"140\",\"979\",\"328\",\"354\",\"691\",\"310\",\"094\",\"820\",\"950\",\"988\",\"982\",\"813\",\"924\",\"807\",\"965\",\"966\",\"686\",\"990\",\"361\",\"956\",\"928\",\"967\",\"296\",\"986\",\"951\",\"948\",\"806\",\"050\",\"805\",\"811\",\"384\",\"346\",\"364\"],\"catePidList\":{\"ct7\":[\"356\",\"908\",\"938\",\"984\",\"911\",\"998\",\"997\",\"995\",\"905\",\"991\",\"955\",\"363\",\"345\",\"915\",\"024\",\"996\",\"075\",\"829\",\"819\",\"815\",\"122\",\"958\",\"827\",\"355\",\"808\",\"329\",\"308\",\"135\",\"828\",\"140\",\"979\",\"328\",\"354\",\"691\",\"310\",\"094\",\"820\",\"950\",\"988\",\"982\",\"813\",\"924\",\"807\",\"965\",\"966\",\"686\",\"990\",\"361\",\"956\",\"928\",\"967\",\"296\",\"986\",\"951\",\"948\",\"806\",\"050\",\"805\",\"811\",\"384\",\"346\",\"364\"],\"ct8\":[\"335\",\"087\",\"688\",\"339\",\"821\",\"333\",\"978\",\"907\",\"337\",\"935\",\"338\",\"301\",\"083\",\"332\",\"909\",\"936\",\"089\",\"088\",\"976\",\"817\",\"082\",\"385\",\"387\",\"689\",\"388\",\"937\",\"336\",\"901\",\"389\",\"334\",\"983\",\"926\",\"927\",\"391\",\"331\",\"683\"],\"ct5\":[\"681\",\"330\",\"040\",\"044\",\"326\",\"946\"],\"ct6\":[\"830\",\"447\",\"117\",\"108\",\"802\",\"144\",\"314\",\"073\",\"396\",\"076\",\"529\",\"940\",\"962\",\"139\",\"477\",\"311\",\"241\",\"947\",\"312\",\"440\",\"410\",\"109\",\"416\",\"213\"],\"ct3\":[\"421\",\"003\",\"916\",\"422\",\"376\",\"903\",\"215\",\"934\",\"344\",\"904\",\"980\",\"056\",\"906\",\"214\",\"057\",\"340\",\"055\",\"374\",\"989\",\"981\",\"684\",\"902\",\"052\",\"945\"],\"ct4\":[\"910\",\"138\",\"029\",\"953\",\"952\",\"293\",\"030\",\"092\",\"977\",\"994\",\"818\",\"917\"],\"ct2\":[\"032\",\"005\",\"944\",\"079\",\"327\",\"687\",\"930\",\"913\",\"914\",\"960\",\"536\",\"804\",\"368\",\"812\",\"042\",\"020\",\"009\",\"969\",\"417\",\"008\",\"961\",\"021\",\"006\",\"809\",\"814\",\"942\",\"943\",\"973\",\"011\",\"081\",\"685\",\"824\",\"022\",\"970\",\"816\",\"957\",\"975\",\"810\",\"277\",\"920\",\"031\",\"921\",\"963\",\"682\",\"013\",\"047\",\"801\",\"539\",\"964\",\"018\",\"825\",\"243\",\"922\",\"803\",\"923\",\"971\",\"925\",\"690\",\"366\",\"023\",\"123\",\"353\",\"025\",\"941\",\"143\",\"826\",\"014\",\"822\",\"002\",\"028\",\"015\",\"968\",\"038\",\"993\",\"016\",\"974\",\"932\",\"954\",\"120\",\"823\",\"959\",\"972\"]},\"targetLocalPidList\":[],\"subsPidList\":[],\"firstPressBlock\":null,\"rcode\":\"09680101\",\"rcode2\":\"default\",\"_id\":null,\"@type\":\"PC-NEWSSTAND-BLOCK\",\"@code\":\"PC-NEWSSTAND\",\"@template\":\"PC-NEWSSTAND\",\"@flowId\":null,\"@flowExecutionId\":null,\"@provider\":null,\"@lastModifiedAt\":null}],\"materials\":null,\"excludeInPaging\":false,\"positionForPaging\":0,\"realtime\":false,\"_id\":null,\"@type\":\"BLOCK\",\"@code\":\"PC-MEDIA-NEWSSTAND\",\"@template\":\"NONE\",\"@flowId\":null,\"@flowExecutionId\":null,\"@provider\":null,\"@lastModifiedAt\":null}],\"materials\":null,\"excludeInPaging\":false,\"positionForPaging\":0,\"realtime\":false,\"sportsLive\":true,\"_id\":\"643e68a5a10d3006855e268d\",\"@type\":\"PC-MEDIA-CONTENTS-BLOCK\",\"@code\":\"PC-MEDIA-WRAPPER\",\"@template\":\"PC-MEDIA-WRAPPER\",\"@flowId\":\"PC-MEDIA-WRAPPER\",\"@flowExecutionId\":\"08f2e014-2de5-11ef-acbc-7f3e5c1d2fea\",\"@provider\":\"lambda\",\"@lastModifiedAt\":[2024,6,19,2,38,43,962000000]}\n",
      "window[\"EAGER-DATA\"][\"PC-NEWSSTAND-YONHAP\"] = {\"@type\":\"BLOCK\",\"blocks\":[{\"@type\":\"BLOCK\",\"blocks\":null,\"materials\":[],\"excludeInPaging\":false,\"positionForPaging\":0,\"realtime\":false,\"_id\":null,\"@type\":\"BLOCK\",\"@code\":null,\"@template\":\"NONE\",\"@flowId\":null,\"@flowExecutionId\":null,\"@provider\":null,\"@lastModifiedAt\":null}],\"materials\":[{\"@type\":\"MATERIAL-PC-NEWS-ONELINE\",\"gdid\":null,\"title\":\"의협과 3차전 나선 공정위…핵심은 '휴진 참여 강제' 입증\",\"url\":\"https://news.naver.com/main/list.naver?mode=LPOD&mid=sec&sid1=001&sid2=140&oid=001&isYeonhapFlash=Y&aid=0014755870\",\"aid\":null,\"emergency\":false,\"notCompleted\":false,\"officeName\":\"연합뉴스\",\"officeId\":\"001\",\"officeHomeUrl\":null,\"officeWeight\":0,\"officeWeightRate\":0.0,\"_id\":\"643543b2caf3d87b7e0a0da6\"},{\"@type\":\"MATERIAL-PC-NEWS-ONELINE\",\"gdid\":null,\"title\":\"조국혁신당, 김건희 여사 공수처 고발…\\\"알선수재·직권남용\\\"\",\"url\":\"https://news.naver.com/main/list.naver?mode=LPOD&mid=sec&sid1=001&sid2=140&oid=001&isYeonhapFlash=Y&aid=0014756031\",\"aid\":null,\"emergency\":false,\"notCompleted\":false,\"officeName\":\"연합뉴스\",\"officeId\":\"001\",\"officeHomeUrl\":null,\"officeWeight\":0,\"officeWeightRate\":0.0,\"_id\":\"65692532e9bedeca62543dbb\"},{\"@type\":\"MATERIAL-PC-NEWS-ONELINE\",\"gdid\":null,\"title\":\"추경호 \\\"법사·운영위, 민주-與 순서로 1년씩 맡자\\\"\",\"url\":\"https://news.naver.com/main/list.naver?mode=LPOD&mid=sec&sid1=001&sid2=140&oid=001&isYeonhapFlash=Y&aid=0014755987\",\"aid\":null,\"emergency\":false,\"notCompleted\":false,\"officeName\":\"연합뉴스\",\"officeId\":\"001\",\"officeHomeUrl\":null,\"officeWeight\":0,\"officeWeightRate\":0.0,\"_id\":\"65692532e9bedeca62543dbc\"},{\"@type\":\"MATERIAL-PC-NEWS-ONELINE\",\"gdid\":null,\"title\":\"나인원한남 경매서 113억7천만원에 낙찰…공동주택 역대 최고가\",\"url\":\"https://news.naver.com/main/list.naver?mode=LPOD&mid=sec&sid1=001&sid2=140&oid=001&isYeonhapFlash=Y&aid=0014755981\",\"aid\":null,\"emergency\":false,\"notCompleted\":false,\"officeName\":\"연합뉴스\",\"officeId\":\"001\",\"officeHomeUrl\":null,\"officeWeight\":0,\"officeWeightRate\":0.0,\"_id\":\"65692532e9bedeca62543dbd\"},{\"@type\":\"MATERIAL-PC-NEWS-ONELINE\",\"gdid\":null,\"title\":\"이재명, '사법리스크' 與 공세에 주4일제 등 민생카드로 대응\",\"url\":\"https://news.naver.com/main/list.naver?mode=LPOD&mid=sec&sid1=001&sid2=140&oid=001&isYeonhapFlash=Y&aid=0014755871\",\"aid\":null,\"emergency\":false,\"notCompleted\":false,\"officeName\":\"연합뉴스\",\"officeId\":\"001\",\"officeHomeUrl\":null,\"officeWeight\":0,\"officeWeightRate\":0.0,\"_id\":\"65692532e9bedeca62543dbe\"},{\"@type\":\"MATERIAL-PC-NEWS-ONELINE\",\"gdid\":null,\"title\":\"서울 올여름 첫 폭염주의보…92개 지역에 '폭염특보'\",\"url\":\"https://news.naver.com/main/list.naver?mode=LPOD&mid=sec&sid1=001&sid2=140&oid=001&isYeonhapFlash=Y&aid=0014755773\",\"aid\":null,\"emergency\":false,\"notCompleted\":false,\"officeName\":\"연합뉴스\",\"officeId\":\"001\",\"officeHomeUrl\":null,\"officeWeight\":0,\"officeWeightRate\":0.0,\"_id\":\"65692532e9bedeca62543dbf\"},{\"@type\":\"MATERIAL-PC-NEWS-ONELINE\",\"gdid\":null,\"title\":\"교대 합격선 일제히 하락…서울교대도 3등급대로 추락\",\"url\":\"https://news.naver.com/main/list.naver?mode=LPOD&mid=sec&sid1=001&sid2=140&oid=001&isYeonhapFlash=Y&aid=0014755688\",\"aid\":null,\"emergency\":false,\"notCompleted\":false,\"officeName\":\"연합뉴스\",\"officeId\":\"001\",\"officeHomeUrl\":null,\"officeWeight\":0,\"officeWeightRate\":0.0,\"_id\":\"65692532e9bedeca62543dc0\"},{\"@type\":\"MATERIAL-PC-NEWS-ONELINE\",\"gdid\":null,\"title\":\"사망 훈련병 모친 \\\"수료생 중 우리 아들만 없어…누가 책임지나\\\"\",\"url\":\"https://news.naver.com/main/list.naver?mode=LPOD&mid=sec&sid1=001&sid2=140&oid=001&isYeonhapFlash=Y&aid=0014755671\",\"aid\":null,\"emergency\":false,\"notCompleted\":false,\"officeName\":\"연합뉴스\",\"officeId\":\"001\",\"officeHomeUrl\":null,\"officeWeight\":0,\"officeWeightRate\":0.0,\"_id\":\"6573c24ecaf3d87b7e4d5269\"},{\"@type\":\"MATERIAL-PC-NEWS-ONELINE\",\"gdid\":null,\"title\":\"우크라전 거부해 한국 왔지만 난민 인정 못 받는 러시아인들\",\"url\":\"https://news.naver.com/main/list.naver?mode=LPOD&mid=sec&sid1=001&sid2=140&oid=001&isYeonhapFlash=Y&aid=0014755309\",\"aid\":null,\"emergency\":false,\"notCompleted\":false,\"officeName\":\"연합뉴스\",\"officeId\":\"001\",\"officeHomeUrl\":null,\"officeWeight\":0,\"officeWeightRate\":0.0,\"_id\":\"66583442a8e6e913d3f2ba82\"},{\"@type\":\"MATERIAL-PC-NEWS-ONELINE\",\"gdid\":null,\"title\":\"권도형-몬테네그로 총리 수상한 관계…\\\"알고보니 초기 투자자\\\"\",\"url\":\"https://news.naver.com/main/list.naver?mode=LPOD&mid=sec&sid1=001&sid2=140&oid=001&isYeonhapFlash=Y&aid=0014755245\",\"aid\":null,\"emergency\":false,\"notCompleted\":false,\"officeName\":\"연합뉴스\",\"officeId\":\"001\",\"officeHomeUrl\":null,\"officeWeight\":0,\"officeWeightRate\":0.0,\"_id\":\"667187129bd5c8347823fdb5\"}],\"excludeInPaging\":false,\"positionForPaging\":0,\"realtime\":false,\"_id\":\"643543b2a10d3006850fa263\",\"@type\":\"BLOCK\",\"@code\":\"PC-NEWSSTAND-YONHAP\",\"@template\":\"PC-NEWSSTAND-YONHAP\",\"@flowId\":\"PC-YONHAP\",\"@flowExecutionId\":\"08578a23-2de5-11ef-8646-2199aa22e733\",\"@provider\":\"lambda\",\"@lastModifiedAt\":[2024,6,19,2,38,38,419000000]}\n",
      "window[\"EAGER-DATA\"][\"CAS-MINICONTENT-PC-SEARCH-RIGHT\"] = {\"@type\":\"MINI-CONTENT-BLOCK\",\"blocks\":null,\"materials\":null,\"excludeInPaging\":false,\"positionForPaging\":0,\"realtime\":false,\"items\":[],\"_id\":\"6433d8a5a10d300685012682\",\"@type\":\"MINI-CONTENT-BLOCK\",\"@code\":\"CAS-MINICONTENT-PC-SEARCH-RIGHT\",\"@template\":\"NONE\",\"@flowId\":\"CAS-MINICONTENT\",\"@flowExecutionId\":\"07c275c8-2de5-11ef-9030-4ffab1d29b44\",\"@provider\":\"lambda\",\"@lastModifiedAt\":[2024,6,19,2,38,37,298000000]}\n",
      "window[\"EAGER-DATA\"][\"PC-HEADLINE-AD\"] = {\"@type\":\"PC-HEADLINE-AD-BLOCK\",\"blocks\":null,\"materials\":null,\"excludeInPaging\":false,\"positionForPaging\":0,\"realtime\":false,\"adResponse\":{\"type\":\"N401\",\"adlineId\":\"2916538\",\"vimp100p0s\":\"https://siape.veta.naver.com/fxview?eu=EU10044129&calp=-&oj=ZJlEFeSBKmKC7Fq%2Bp4uE%2BkxyRQtk0c%2BE&ac=8979876&src=7131110&evtcd=V900&x_ti=1585&tb=&oid=&sid1=&sid2=&rk=1jvN_nvNClqGTBEsK2fhbQ&eltts=6fRaNCq4bsUT%2FFsI%2BOUWRg%3D%3D&brs=Y&&eid=V900\",\"assets\":{\"hl_web_img\":{\"url\":\"https://ssl.pstatic.net/melona/libs/1500/1500091/12a37da58f8fb899ed57_20240617184839768.png\",\"alt\":\"[광고]처음 만나는 AI PC. 갤럭시 북4 Edge 론칭\",\"w\":488,\"h\":216},\"hl_web_img_dark\":{\"url\":\"https://ssl.pstatic.net/melona/libs/1500/1500091/75a6f07e1474ef7f2d0a_20240617184841616.png\",\"alt\":\"[광고]처음 만나는 AI PC. 갤럭시 북4 Edge 론칭\",\"w\":488,\"h\":216},\"hl_link\":{\"url\":\"https://siape.veta.naver.com/rd?rk=1jvN_nvNClqGTBEsK2fhbQ&eltts=6fRaNCq4bsUT%2FFsI%2BOUWRg%3D%3D&elu=5A160EE182273716801680CFE12B5633AE5798243B6764B6771096C3C21F200C9131D5419AF97349D2F204A8069C9153ACFDD5A6B1A3FAEDFE547D64B8B6D511&tr=ndp\",\"clicktracking\":\"https://siape.veta.naver.com/fxclick?eu=EU10044129&calp=-&oj=ZJlEFeSBKmKC7Fq%2Bp4uE%2BkxyRQtk0c%2BE&ac=8979876&src=7131110&br=4533696&evtcd=P901&x_ti=1585&tb=&oid=&sid1=&sid2=&rk=1jvN_nvNClqGTBEsK2fhbQ&eltts=6fRaNCq4bsUT%2FFsI%2BOUWRg%3D%3D&lu=&brs=Y&&uaf=&wtitle=&t=i\"},\"bb_web_img\":{\"url\":\"https://ssl.pstatic.net/melona/libs/1500/1500091/618331ce1b6bfdce61fd_20240617184843804.jpg\",\"alt\":\"SAMSUNG\",\"w\":80,\"h\":80},\"bb_web_img_dark\":{\"url\":\"https://ssl.pstatic.net/melona/libs/1500/1500091/618331ce1b6bfdce61fd_20240617184843804.jpg\",\"alt\":\"SAMSUNG\",\"w\":80,\"h\":80},\"bb_link\":{\"url\":\"https://siape.veta.naver.com/rd?rk=1jvN_nvNClqGTBEsK2fhbQ&eltts=6fRaNCq4bsUT%2FFsI%2BOUWRg%3D%3D&elu=5A160EE182273716801680CFE12B5633AE5798243B6764B6771096C3C21F200C9131D5419AF97349D2F204A8069C9153ACFDD5A6B1A3FAEDFE547D64B8B6D511&tr=ndp\",\"clicktracking\":\"https://siape.veta.naver.com/fxclick?eu=EU10044129&calp=-&oj=ZJlEFeSBKmKC7Fq%2Bp4uE%2BkxyRQtk0c%2BE&ac=8979876&src=7131112&br=4533697&evtcd=BUBBLE_CLK_1&x_ti=1585&tb=&oid=&sid1=&sid2=&rk=1jvN_nvNClqGTBEsK2fhbQ&eltts=6fRaNCq4bsUT%2FFsI%2BOUWRg%3D%3D&lu=&brs=Y&&uaf=&wtitle=&t=i\"},\"bb_web_text\":\"SAMSUNG\"}},\"_id\":null,\"@type\":null,\"@code\":\"PC-HEADLINE-AD\",\"@template\":\"PC-HEADLINE-AD\",\"@flowId\":null,\"@flowExecutionId\":null,\"@provider\":null,\"@lastModifiedAt\":null}\n",
      "window[\"EAGER-DATA\"][\"CAS-MINICONTENT-PC-MEDIA-TAB-EVENT\"] = {\"@type\":\"MINI-CONTENT-BLOCK\",\"blocks\":null,\"materials\":null,\"excludeInPaging\":false,\"positionForPaging\":0,\"realtime\":false,\"items\":[],\"_id\":\"643687e1a10d300685630556\",\"@type\":\"MINI-CONTENT-BLOCK\",\"@code\":\"CAS-MINICONTENT-PC-MEDIA-TAB-EVENT\",\"@template\":\"NONE\",\"@flowId\":\"CAS-MINICONTENT\",\"@flowExecutionId\":\"eb248ffb-2de4-11ef-8646-af0b48273c66\",\"@provider\":\"lambda\",\"@lastModifiedAt\":[2024,6,19,2,37,49,295000000]}\n",
      "window[\"EAGER-DATA\"][\"CAS-MINICONTENT-PC-MID-BANNER\"] = {\"@type\":\"MINI-CONTENT-BLOCK\",\"blocks\":null,\"materials\":null,\"excludeInPaging\":false,\"positionForPaging\":0,\"realtime\":false,\"items\":[],\"_id\":\"648ae476a10d300685fbab10\",\"@type\":\"MINI-CONTENT-BLOCK\",\"@code\":\"CAS-MINICONTENT-PC-MID-BANNER\",\"@template\":\"NONE\",\"@flowId\":\"CAS-MINICONTENT\",\"@flowExecutionId\":\"042cf333-2de5-11ef-8646-ab870d710481\",\"@provider\":\"lambda\",\"@lastModifiedAt\":[2024,6,19,2,38,31,303000000]}\n",
      "window[\"EAGER-DATA\"][\"CAS-MINICONTENT-PC-TAB-META\"] = {\"@type\":\"MINI-CONTENT-BLOCK\",\"blocks\":null,\"materials\":null,\"excludeInPaging\":false,\"positionForPaging\":0,\"realtime\":false,\"items\":[{\"content\":{\"area\":\"FEED\",\"tabList\":[{\"clickCode\":\"tct.mynr\",\"name\":\"추천・구독\",\"id\":\"PC-FEED-RECOMMEND\",\"contingencyEnabled\":true,\"enabled\":true,\"useFeedCasEditTemplate\":false,\"weight\":1},{\"clickCode\":\"tct.wtn\",\"name\":\"자동차\",\"id\":\"PC-FEED-CARGAME\",\"contingencyEnabled\":true,\"enabled\":true,\"useFeedCasEditTemplate\":true,\"weight\":1},{\"clickCode\":\"tct.wtn\",\"name\":\"웹툰\",\"id\":\"PC-FEED-WEBTOON\",\"contingencyEnabled\":true,\"enabled\":true,\"useFeedCasEditTemplate\":true,\"weight\":1},{\"clickCode\":\"tct.bty\",\"name\":\"패션뷰티\",\"id\":\"PC-FEED-BEAUTY\",\"contingencyEnabled\":true,\"enabled\":true,\"useFeedCasEditTemplate\":false,\"weight\":1},{\"clickCode\":\"tct.fod\",\"name\":\"레시피\",\"id\":\"PC-FEED-RECIPE\",\"contingencyEnabled\":true,\"enabled\":true,\"useFeedCasEditTemplate\":true,\"weight\":1},{\"clickCode\":\"tct.lif\",\"name\":\"리빙\",\"id\":\"PC-FEED-LIVINGHOME\",\"contingencyEnabled\":true,\"enabled\":true,\"useFeedCasEditTemplate\":true,\"weight\":1},{\"clickCode\":\"tct.bok\",\"name\":\"책방\",\"id\":\"PC-FEED-CULTURE\",\"contingencyEnabled\":true,\"enabled\":true,\"useFeedCasEditTemplate\":true,\"weight\":1},{\"clickCode\":\"tct.lec\",\"name\":\"지식+\",\"id\":\"PC-FEED-LECTURE\",\"contingencyEnabled\":true,\"enabled\":true,\"useFeedCasEditTemplate\":true,\"weight\":1},{\"clickCode\":\"tct.health\",\"name\":\"건강\",\"id\":\"PC-FEED-HEALTH\",\"contingencyEnabled\":true,\"enabled\":true,\"useFeedCasEditTemplate\":false,\"weight\":1},{\"clickCode\":\"tct.gameapp\",\"name\":\"게임\",\"id\":\"PC-FEED-GAMEAPP\",\"contingencyEnabled\":true,\"enabled\":true,\"useFeedCasEditTemplate\":false,\"weight\":1}],\"@type\":\"BLOCK-PC-TAB-META\"},\"exposure\":true,\"@miniContentId\":\"643e64d370a065058f369bac\",\"@miniContentCode\":\"PC-TAB-META\",\"@startAt\":\"2023-04-10 00:00\",\"@endAt\":\"2030-05-30 23:59\",\"@createdAt\":\"2023-04-18T18:37:23.412\",\"@updatedAt\":\"2023-11-08T11:34:03.902\"},{\"content\":{\"area\":\"MEDIA\",\"tabList\":[{\"clickCode\":\"nst.nsd\",\"name\":\"뉴스스탠드\",\"id\":\"PC-MEDIA-NEWSSTAND\",\"contingencyEnabled\":true,\"enabled\":true,\"useFeedCasEditTemplate\":false,\"weight\":1},{\"clickCode\":\"nst.nch\",\"name\":\"언론사편집\",\"id\":\"PC-MEDIA-NEWS\",\"contingencyEnabled\":true,\"enabled\":true,\"useFeedCasEditTemplate\":false,\"weight\":1},{\"clickCode\":\"nst.ent\",\"name\":\"엔터\",\"id\":\"PC-MEDIA-ENTER\",\"contingencyEnabled\":true,\"enabled\":true,\"useFeedCasEditTemplate\":false,\"weight\":1},{\"clickCode\":\"nst.spo\",\"name\":\"스포츠\",\"id\":\"PC-MEDIA-SPORTS\",\"contingencyEnabled\":true,\"enabled\":true,\"useFeedCasEditTemplate\":false,\"weight\":1},{\"clickCode\":\"nst.fin\",\"name\":\"경제\",\"id\":\"PC-MEDIA-ECONOMIC\",\"contingencyEnabled\":true,\"enabled\":true,\"useFeedCasEditTemplate\":false,\"weight\":1},{\"clickCode\":\"nst.shpt\",\"name\":\"쇼핑투데이\",\"id\":\"PC-MEDIA-SHOPPING-TODAY\",\"contingencyEnabled\":true,\"enabled\":true,\"useFeedCasEditTemplate\":false,\"weight\":1}],\"@type\":\"BLOCK-PC-TAB-META\"},\"exposure\":true,\"@miniContentId\":\"643e642c8793487c84743a38\",\"@miniContentCode\":\"PC-TAB-META\",\"@startAt\":\"2023-04-11 00:00\",\"@endAt\":\"2030-05-31 23:59\",\"@createdAt\":\"2023-04-18T18:34:36.648\",\"@updatedAt\":\"2024-04-18T16:13:27.109\"}],\"_id\":\"643e6299a10d3006853cc04c\",\"@type\":\"MINI-CONTENT-BLOCK\",\"@code\":\"CAS-MINICONTENT-PC-TAB-META\",\"@template\":\"NONE\",\"@flowId\":\"CAS-MINICONTENT\",\"@flowExecutionId\":\"ed80f693-2de4-11ef-8646-797bbc35943f\",\"@provider\":\"lambda\",\"@lastModifiedAt\":[2024,6,19,2,37,53,275000000]}\n",
      "</script>\n",
      "<script crossorigin=\"anonymous\" defer=\"defer\" src=\"https://pm.pstatic.net/resources/js/polyfill.a163af38.js?o=www\"></script>\n",
      "<script crossorigin=\"anonymous\" defer=\"defer\" src=\"https://pm.pstatic.net/resources/js/preload.819aeb5e.js?o=www\"></script>\n",
      "<script crossorigin=\"anonymous\" defer=\"defer\" src=\"https://pm.pstatic.net/resources/js/search.a2eb1636.js?o=www\"></script>\n",
      "<script crossorigin=\"anonymous\" defer=\"defer\" src=\"https://pm.pstatic.net/resources/js/main.4698d75a.js?o=www\"></script>\n",
      "<script data-gfp-banner-size=\"830x130\" data-gfp-banner-type=\"full\" id=\"ad-timeboard-response\" type=\"text/plain\">{\"payload\":{\"requestId\":\"d1d72521d76d4274a9d97ccd4e231a1b\",\"head\":{\"version\":\"0.0.1\",\"description\":\"Naver SSP Waterfall List\"},\"eventTracking\":{\"ackImpressions\":[{\"url\":\"https://tivan.naver.com/sc2/1/\"}],\"activeViewImpressions\":[{\"url\":\"https://tivan.naver.com/sc2/2/\"}],\"clicks\":[{\"url\":\"https://tivan.naver.com/sc2/3/\"}],\"completions\":[{\"url\":\"https://tivan.naver.com/sc2/4/\"}],\"attached\":[{\"url\":\"https://tivan.naver.com/sc2/10/\"}],\"renderedImpressions\":[{\"url\":\"https://tivan.naver.com/sc2/11/\"}],\"viewableImpressions\":[{\"url\":\"https://tivan.naver.com/sc2/12/\"}],\"loadErrors\":[{\"url\":\"https://tivan.naver.com/sc2/91/\"}],\"startErrors\":[{\"url\":\"https://tivan.naver.com/sc2/92/\"}],\"lazyRenderMediaFailed\":[{\"url\":\"https://tivan.naver.com/sc2/93/\"}],\"mute\":[{\"url\":\"https://tivan.naver.com/sc2/5/\"}],\"close\":[{\"url\":\"https://tivan.naver.com/sc2/6/\"}]},\"adUnit\":\"p_main_timeboard_v1\",\"randomNumber\":59,\"adDivId\":\"ad_timeboard\",\"advertiserDomains\":[\"go.sdu.ac.kr\"],\"adDuplicationKeys\":[\"URL:http://go.sdu.ac.kr\"],\"ads\":[{\"encrypted\":\"sfvRfWRHW38EkO1wV3gv2iwr7Ak6h9lV8f1QXJYVhvkq5EQYYg1IFZSsSoVzFBmr1YIAsrNg0NcRCrhEizhtD3AF3iRXn5MbYa5iwwszFSAmhQh-9HHpfhrvk44vIO0v5PPndPeLo4pd7sNJ4F_CEtj1aCZy8lgj92JKr1MJ4ZC3ZKaMlkOU3a17DsnbyjRVm5i1y6LJdo4YBQ3FUrmC9y44EFeZhKV-eBqu3Ltn1wHROAWMmnZWHEoCBxJo6PzfAWvxxA-4fE0KCduKGWtjiaVq4jAFNlHOn8N34X-vHOH4JKHQWucIhzCjqQKZPsf_10lX6s95U73BVqKVVwXGV5RUyzyOGDWndMZqftAq_K30UdBwO8bGKFr_z9iwIAe3MEugtcBJ7NfprSwkiODMz3uE22KFRZaRFavHeNyu6M3Ga71NlkSl--rDU4E4i9MyI03YUGD4fs1vAnKxnkSI4lmqGNS_nuheuIw1EqG9dpGUS-Y4EBEQVUfRxfgLrpKW2ZO1yzdY-i6QU5Erv5Wkghnwm6ULsnnr2msbbzUO2TClAbfgHiFcvjlcqMAcTH48nJSTml4eRiJlNJ35hNK2va-ZvPZZCmFNe5gW3XYa8CZaHV5OmR1WVZWXnUq1313EspPgT0gQ6pQNy6s3mgu1Zcx-mBes5nkDUBQOQvl2W1gO4HpmT4kXzRXLG_q94zfJENWc2ayveJHvsfrSWCuvJDKQzP4nMGOesJjt5tWaKnU=\",\"connectionType\":\"S2S\",\"adProviderType\":\"IN_NAVER\",\"adProviderName\":\"NDP_SF\",\"layoutType\":\"FLUID\",\"creativeType\":\"BANNER\",\"renderType\":\"SF\",\"eventTracking\":{\"ackImpressions\":[{\"url\":\"https://siape.veta.naver.com/openrtb/nurl?eu=EU10043565\\u0026calp=-\\u0026oj=cQgn6aire5OVMfng%2FxaRDoqBMGdC0lVGEoV4WgPqGkZEzcRYv5zqKzfXip1zibfqJL1qM2Pf%2Fan4%2Bj3iYD%2BMRbG3mFG%2B5vYbWaW5TBWSNb3IBWexIpibH0plqdgUSG%2BUXrQSw%2B%2FX1bbNCF9%2F110BZDp0hCNKO%2BcHo2M9jEOAPSLbaIdXv9YIFqKzdZWOwZvbdMAtSn%2B9Id4vH4MuGzFJiErLLp1Ox71Vg1K%2FFXnNMQA\\u0026ac=8976244\\u0026src=7119747\\u0026evtcd=BID_WIN\\u0026x_ti=1506\\u0026rk=RkXpMZuVvuBw-a7S8NJ2Wg\\u0026eltts=6fRaNCq4bsUT%2FFsI%2BOUWRg%3D%3D\\u0026brs=Y\\u0026\"}],\"attached\":[],\"activeViewImpressions\":[],\"renderedImpressions\":[],\"viewableImpressions\":[],\"clicks\":[],\"vimp1px\":[],\"vimp100\":[],\"vimp100p\":[],\"admute\":[],\"advmute\":[],\"like\":[],\"unlike\":[],\"close\":[],\"bounce\":[]},\"adInfo\":{\"placeId\":\"6436232db28a76002ea3f30c\",\"adomain\":[\"go.sdu.ac.kr\"],\"cid\":\"1496452\",\"crid\":\"2640332\",\"exp\":1115,\"adm\":\"%3Cscript%20src%3D%22https%3A%2F%2Fssl.pstatic.net%2Fmelona%2Flibs%2Fglad%2Fbridge%2Fgfp-bridge.js%22%3E%3C%2Fscript%3E%0D%0A%3Clink%20rel%3D%22stylesheet%22%20href%3D%22https%3A%2F%2Fssl.pstatic.net%2Fmelona%2Flibs%2Fassets%2Fcss%2Fpc%2Fmain%2Fmin%2Fmain_image_rolling_830.min.css%3F20221021%22%20%2F%3E%0D%0A%0D%0A%3Cdiv%20class%3D%22image_rolling_area%20time_board_type%22%3E%0D%0A%20%20%20%20%3Ca%20href%3D%22https%3A%2F%2Fsiape.veta.naver.com%2Ffxclick%3Feu%3DEU10043565%26calp%3D-%26oj%3DcQgn6aire5OVMfng%252FxaRDoqBMGdC0lVGEoV4WgPqGkZEzcRYv5zqKzfXip1zibfqJL1qM2Pf%252Fan4%252Bj3iYD%252BMRbG3mFG%252B5vYbWaW5TBWSNb3IBWexIpibH0plqdgUSG%252BUXrQSw%252B%252FX1bbNCF9%252F110BZDp0hCNKO%252BcHo2M9jEOAPSLbaIdXv9YIFqKzdZWOwZvbdMAtSn%252B9Id4vH4MuGzFJiErLLp1Ox71Vg1K%252FFXnNMQA%26ac%3D8976244%26src%3D7119747%26br%3D4528896%26evtcd%3DP901%26x_ti%3D1506%26tb%3D%26oid%3D%26sid1%3D%26sid2%3D%26rk%3DRkXpMZuVvuBw-a7S8NJ2Wg%26eltts%3D6fRaNCq4bsUT%252FFsI%252BOUWRg%253D%253D%26lu%3D%26brs%3DY%26%22%20class%3D%22image_rolling_link%22%20target%3D%22_blank%22%3E%0D%0A%20%20%20%20%20%20%20%20%3Cdiv%20class%3D%22image_area%22%3E%0D%0A%20%20%20%20%20%20%20%20%20%20%20%20%3Cimg%20src%3D%22https%3A%2F%2Fssl.pstatic.net%2Fmelona%2Flibs%2F1496%2F1496452%2F4b5cae20e7b72d4de06f_20240610145714000.jpg%22%20width%3D%22830%22%20height%3D%22130%22%20alt%3D%22%5B%EA%B4%91%EA%B3%A0%5D%EC%84%9C%EC%9A%B8%EB%94%94%EC%A7%80%ED%84%B8%EB%8C%80%ED%95%99%EA%B5%90%20%EA%B4%91%EA%B3%A0%EC%9E%85%EB%8B%88%EB%8B%A4%22%3E%0D%0A%20%20%20%20%20%20%20%20%20%20%20%20%3Cimg%20src%3D%22https%3A%2F%2Fssl.pstatic.net%2Fmelona%2Flibs%2F1496%2F1496452%2F701545800c88f4bdfeab_20240610145716011.jpg%22%20width%3D%22830%22%20height%3D%22130%22%20alt%3D%22%22%3E%0D%0A%20%20%20%20%20%20%20%20%20%20%20%20%3Cimg%20src%3D%22https%3A%2F%2Fssl.pstatic.net%2Fmelona%2Flibs%2F1496%2F1496452%2F2f8b94a64495ad4a76a7_20240610145717700.jpg%22%20width%3D%22830%22%20height%3D%22130%22%20alt%3D%22%22%3E%0D%0A%20%20%20%20%20%20%20%20%20%20%20%20%3Cimg%20src%3D%22https%3A%2F%2Fssl.pstatic.net%2Fmelona%2Flibs%2F1496%2F1496452%2Fad5c8a23b3448eaa219d_20240610145722575.jpg%22%20width%3D%22830%22%20height%3D%22130%22%20alt%3D%22%22%3E%0D%0A%20%20%20%20%20%20%20%20%3C%2Fdiv%3E%0D%0A%20%20%20%20%3C%2Fa%3E%0D%0A%3C%2Fdiv%3E%0D%0A%0D%0A%3Cscript%20type%3D%22text%2Fjavascript%22%20src%3D%22https%3A%2F%2Fssl.pstatic.net%2Fmelona%2Flibs%2Fassets%2Fjs%2Fpc%2Fmain%2Fmin%2Fpc.veta.core.min.js%3F20221021%22%3E%3C%2Fscript%3E%0D%0A%3Cscript%20type%3D%22text%2Fjavascript%22%3E%0D%0A%20%20%20%20%28function%28ns%2C%20bridge%29%20%7B%0D%0A%20%20%20%20%20%20%20%20var%20LOG%20%3D%20%7B%0D%0A%20%20%20%20%20%20%20%20%20%20%20%20VIEWABLED%3A%20%22https%3A%2F%2Fsiape.veta.naver.com%2Ffxview%3Feu%3DEU10043565%26calp%3D-%26oj%3DcQgn6aire5OVMfng%252FxaRDoqBMGdC0lVGEoV4WgPqGkZEzcRYv5zqKzfXip1zibfqJL1qM2Pf%252Fan4%252Bj3iYD%252BMRbG3mFG%252B5vYbWaW5TBWSNb3IBWexIpibH0plqdgUSG%252BUXrQSw%252B%252FX1bbNCF9%252F110BZDp0hCNKO%252BcHo2M9jEOAPSLbaIdXv9YIFqKzdZWOwZvbdMAtSn%252B9Id4vH4MuGzFJiErLLp1Ox71Vg1K%252FFXnNMQA%26ac%3D8976244%26src%3D7119747%26evtcd%3DV900%26x_ti%3D1506%26tb%3D%26oid%3D%26sid1%3D%26sid2%3D%26rk%3DRkXpMZuVvuBw-a7S8NJ2Wg%26eltts%3D6fRaNCq4bsUT%252FFsI%252BOUWRg%253D%253D%26brs%3DY%26%26eid%3DV900%22%2C%0D%0A%20%20%20%20%20%20%20%20%20%20%20%20RENDERED%3A%20%22https%3A%2F%2Fsiape.veta.naver.com%2Ffxview%3Feu%3DEU10043565%26calp%3D-%26oj%3DcQgn6aire5OVMfng%252FxaRDoqBMGdC0lVGEoV4WgPqGkZEzcRYv5zqKzfXip1zibfqJL1qM2Pf%252Fan4%252Bj3iYD%252BMRbG3mFG%252B5vYbWaW5TBWSNb3IBWexIpibH0plqdgUSG%252BUXrQSw%252B%252FX1bbNCF9%252F110BZDp0hCNKO%252BcHo2M9jEOAPSLbaIdXv9YIFqKzdZWOwZvbdMAtSn%252B9Id4vH4MuGzFJiErLLp1Ox71Vg1K%252FFXnNMQA%26ac%3D8976244%26src%3D7119751%26evtcd%3DV602%26x_ti%3D1506%26tb%3D%26oid%3D%26sid1%3D%26sid2%3D%26rk%3DRkXpMZuVvuBw-a7S8NJ2Wg%26eltts%3D6fRaNCq4bsUT%252FFsI%252BOUWRg%253D%253D%26brs%3DY%26%26eid%3DV810%22%0D%0A%20%20%20%20%20%20%20%20%7D%3B%0D%0A%0D%0A%20%20%20%20%20%20%20%20var%20util%20%3D%20ns.Util%20%3F%20new%20ns.Util%28%29%20%3A%20new%20NBP_CORP.Nimp%28%29%3B%0D%0A%20%20%20%20%20%20%20%20var%20gladSdkBridge%20%3D%20bridge.createSdkBridge%28%29%3B%0D%0A%20%20%20%20%20%20%20%20var%20eventList%20%3D%20%7B%7D%3B%0D%0A%0D%0A%20%20%20%20%20%20%20%20%2F%2F%20%EC%9D%91%EB%8B%B5%EB%85%B8%EC%B6%9C%0D%0A%20%20%20%20%20%20%20%20util.log%28LOG.RENDERED%29%3B%0D%0A%0D%0A%20%20%20%20%20%20%20%20%2F%2F%20%EC%9C%A0%ED%9A%A8%EB%85%B8%EC%B6%9C%0D%0A%20%20%20%20%20%20%20%20eventList%5Bbridge.EVENT.VIEWABLED%5D%20%3D%20function%28%29%20%7B%0D%0A%20%20%20%20%20%20%20%20%20%20%20%20util.log%28LOG.VIEWABLED%29%3B%0D%0A%20%20%20%20%20%20%20%20%7D%3B%0D%0A%0D%0A%20%20%20%20%20%20%20%20gladSdkBridge.setEventListeners%28eventList%29%3B%0D%0A%0D%0A%20%20%20%20%20%20%20%20window.onload%20%3D%20function%28%29%20%7B%0D%0A%20%20%20%20%20%20%20%20%20%20%20%20document.querySelector%28%27.image_area%27%29.classList.add%28%27animation_start%27%29%3B%0D%0A%20%20%20%20%20%20%20%20%7D%3B%0D%0A%20%20%20%20%7D%29%28%0D%0A%20%20%20%20%20%20%20%20window.naver_corp_da%20%7C%7C%20%7B%7D%2C%0D%0A%20%20%20%20%20%20%20%20window.gladBridge%0D%0A%20%20%20%20%29%3B%0D%0A%3C%2Fscript%3E\",\"encoded\":1,\"responseSize\":{\"height\":130,\"width\":830,\"force\":0},\"template\":\"%3C%21doctype%20html%3E%3Chtml%3E%3Chead%3E%3Cmeta%20name%3D%22viewport%22%20content%3D%22width%3Ddevice-width%2C%20user-scalable%3Dno%22%2F%3E%3Cstyle%20data-gfp-role%3D%22adMarkLegacyStyle%22%3E%5Bdata-gfp-role%3D%22adMarkLegacy%22%5D%20%7Bdisplay%3A%20none%3B%7D%3C%2Fstyle%3E%3Cscript%3Ewindow.gladBridge%20%3D%20%7BRUNTIME%3A%20%22InApp%22%7D%3B%3C%2Fscript%3E%3C%2Fhead%3E%3Cbody%20style%3D%22margin%3A%200%3B%20padding%3A%200%22%3E%7B%7Badm%7D%7D%3Cscript%20src%3D%22https%3A%2F%2Fssl.pstatic.net%2Ftveta%2Flibs%2Fglad_admute%2Fprod%2Fglad-admute.js%22%3E%3C%2Fscript%3E%3Cscript%3Econst%20adMuteOptions%20%3D%20%7BmuteUrl%3A%20%22%25%25MUTE_URL%25%25%22%2C%20privacyUrl%3A%20%22%25%25PRIV_URL%25%25%22%2C%20creativeType%3A%20%22BANNER%22%2C%20runtimeType%3A%20%22InApp%22%7D%3B%20if%28adMuteOptions.muteUrl%20%7C%7C%20adMuteOptions.privacyUrl%29%20%7B%20window.gladAdMute.checkAdMarkLegacyStyle%28adMuteOptions%29%3B%20const%20adMuteController%20%3D%20window.gladAdMute.createAdMuteController%28adMuteOptions%29%3B%20adMuteController.render%28%29%3B%20%7D%3C%2Fscript%3E%3C%2Fbody%3E%3C%2Fhtml%3E\"}},{\"encrypted\":\"Fogf0CHjEI1PR-uxHmeXSPMLonGE42SjzHSb-uUdilyoEtsLn592MdtJ9_b524Qm0hJrjpQWItc22H5I0WKTUPwbvaTuXPt3hzF-uW87JxJGfL8Dz1yg90eY54pyWSGLPrzkN08LkS1__B3pMdrtk3RImxw2v3qjkEZPNQwltkIYKXABztbpvqeLh3VYA66_uQHQ2XzDIHc7XQDZsCYQh0fqi2ZX-v0v32x8moaBpIbIMX4O3C0Ed2JALB-ROmtV2QwC2vAGcMMxRdyshiiWSofk5z5k9JODbYsePNI86mCDb9RqcJmNjxjEyPr2DTGVWxk4EVuUC8I47SQ8tQ_3U4kEQaaoBSXQhsVmfTMJgqtbHfN1Pe08ovPvpK5UKQqQ3mE9O3lU8Sl_Atls00H-qKqG_ptyN6h0-UYWBVm1LhVJRw04gTibbJdBhRQoOXie_sJaYf8upZhkcgl6nqrmanYtFqURD1SCohqasmHRc5vtdFKSAw5AzYu4GDgc7E2T\",\"connectionType\":\"S2S\",\"adProviderName\":\"GFP\",\"layoutType\":\"FLUID\",\"creativeType\":\"BANNER\",\"renderType\":\"EMPTY\",\"eventTracking\":{\"ackImpressions\":[{\"url\":\"https://siape.veta.naver.com/openrtb/nbackimp?eu=EU10043565\\u0026oj=cQgn6aire5OVMfng%2FxaRDoqBMGdC0lVGEoV4WgPqGkZEzcRYv5zqKzfXip1zibfqJL1qM2Pf%2Fan4%2Bj3iYD%2BMRbG3mFG%2B5vYbWaW5TBWSNb3IBWexIpibH0plqdgUSG%2BUXrQSw%2B%2FX1bbNCF9%2F110BZDp0hCNKO%2BcHo2M9jEOAPSLbaIdXv9YIFqKzdZWOwZvbdMAtSn%2B9Id4vH4MuGzFJiErLLp1Ox71Vg1K%2FFXnNMQA\\u0026evtcd=BID_LOSE\\u0026rk=RkXpMZuVvuBw-a7S8NJ2Wg\\u0026eltts=6fRaNCq4bsUT%2FFsI%2BOUWRg%3D%3D\\u0026calp=-\\u0026ac=8976244\\u0026src=7119747\\u0026x_ti=1506\\u0026brs=Y\"}],\"attached\":[],\"activeViewImpressions\":[{\"url\":\"https://siape.veta.naver.com/openrtb/nbimp?oj=cQgn6aire5OVMfng%2FxaRDoqBMGdC0lVGEoV4WgPqGkZEzcRYv5zqKzfXip1zibfqJL1qM2Pf%2Fan4%2Bj3iYD%2BMRbG3mFG%2B5vYbWaW5TBWSNb3IBWexIpibH0plqdgUSG%2BUXrQSw%2B%2FX1bbNCF9%2F110BZDp0hCNKO%2BcHo2M9jEOAPSLbaIdXv9YIFqKzdZWOwZvbdMAtSn%2B9Id4vH4MuGzFJiErLLp1Ox71Vg1K%2FFXnNMQA\\u0026rk=RkXpMZuVvuBw-a7S8NJ2Wg\\u0026eltts=6fRaNCq4bsUT%2FFsI%2BOUWRg%3D%3D\"}],\"renderedImpressions\":[],\"viewableImpressions\":[{\"url\":\"https://siape.veta.naver.com/openrtb/nbimp?oj=cQgn6aire5OVMfng%2FxaRDoqBMGdC0lVGEoV4WgPqGkZEzcRYv5zqKzfXip1zibfqJL1qM2Pf%2Fan4%2Bj3iYD%2BMRbG3mFG%2B5vYbWaW5TBWSNb3IBWexIpibH0plqdgUSG%2BUXrQSw%2B%2FX1bbNCF9%2F110BZDp0hCNKO%2BcHo2M9jEOAPSLbaIdXv9YIFqKzdZWOwZvbdMAtSn%2B9Id4vH4MuGzFJiErLLp1Ox71Vg1K%2FFXnNMQA\\u0026rk=RkXpMZuVvuBw-a7S8NJ2Wg\\u0026eltts=6fRaNCq4bsUT%2FFsI%2BOUWRg%3D%3D\"}],\"clicks\":[],\"vimp1px\":[],\"vimp100\":[],\"vimp100p\":[],\"admute\":[],\"advmute\":[],\"like\":[],\"unlike\":[],\"close\":[],\"bounce\":[]},\"adInfo\":{\"responseSize\":{\"height\":0,\"width\":0}}}],\"config\":{\"imp\":{\"ratio\":100,\"ms\":0}}},\"additionalInfo\":{\"adCount\":1,\"adDuplicate\":{\"advertiserDomains\":[\"go.sdu.ac.kr\"],\"adDuplicationKeys\":[\"URL:http://go.sdu.ac.kr\"]},\"adSize\":{\"h\":130,\"w\":830}}}\n",
      "</script>\n",
      "<script> window['EAGER-DATA'] = window['EAGER-DATA'] || {};\n",
      "        window['EAGER-DATA']['GV'] = {\n",
      "            svt: '20240619114123',  }; </script>\n",
      "<script>!function(){function t(t){var e=document.getElementById(\"search_area\"),n=document.getElementById(\"search-btn\");if(!t)return e&&e.removeAttribute(\"style\"),void(n&&n.setAttribute(\"style\",\"fill: #03c75a\"));e&&e.setAttribute(\"style\",\"border-color: \"+t),n&&n.setAttribute(\"class\",\"ico_btn_search type_color\"),n&&n.setAttribute(\"style\",\"fill: \"+t)}var e=window[\"EAGER-DATA\"][\"CAS-MINICONTENT-PC-SPECIAL-LOGO\"];if(!e||!e.items||e.items.length>0==!1)return void t();var n=Math.floor(Math.random()*e.items.length),i=e.items[n];e.items=[i],t(i&&i.content&&i.content.input&&i.content.input.color);const l=document.getElementById(\"search\");l&&l.classList.add(\"type_special_logo_full\"),window.addEventListener(\"header-sticky-state-change\",(function(){var t;(t=document.getElementById(\"header\"))&&t.classList.contains(\"ani_fixed\")?l&&l.classList.remove(\"type_special_logo_full\"):l&&l.classList.add(\"type_special_logo_full\")}));var o=i&&i.content&&i.content.input&&i.content.input.placeholder;if(o){var s=document.getElementById(\"query\");s&&o&&s.setAttribute(\"title\",o),s&&o&&s.setAttribute(\"placeholder\",o)}}()</script>\n"
     ]
    }
   ],
   "source": [
    "banners = soup.find_all('script')\n",
    "for banner in banners:\n",
    "    print(banner)"
   ]
  },
  {
   "cell_type": "code",
   "execution_count": 114,
   "metadata": {},
   "outputs": [
    {
     "name": "stdout",
     "output_type": "stream",
     "text": [
      "<script data-gfp-banner-size=\"830x130\" data-gfp-banner-type=\"full\" id=\"ad-timeboard-response\" type=\"text/plain\">\n",
      " {\"payload\":{\"requestId\":\"d1d72521d76d4274a9d97ccd4e231a1b\",\"head\":{\"version\":\"0.0.1\",\"description\":\"Naver SSP Waterfall List\"},\"eventTracking\":{\"ackImpressions\":[{\"url\":\"https://tivan.naver.com/sc2/1/\"}],\"activeViewImpressions\":[{\"url\":\"https://tivan.naver.com/sc2/2/\"}],\"clicks\":[{\"url\":\"https://tivan.naver.com/sc2/3/\"}],\"completions\":[{\"url\":\"https://tivan.naver.com/sc2/4/\"}],\"attached\":[{\"url\":\"https://tivan.naver.com/sc2/10/\"}],\"renderedImpressions\":[{\"url\":\"https://tivan.naver.com/sc2/11/\"}],\"viewableImpressions\":[{\"url\":\"https://tivan.naver.com/sc2/12/\"}],\"loadErrors\":[{\"url\":\"https://tivan.naver.com/sc2/91/\"}],\"startErrors\":[{\"url\":\"https://tivan.naver.com/sc2/92/\"}],\"lazyRenderMediaFailed\":[{\"url\":\"https://tivan.naver.com/sc2/93/\"}],\"mute\":[{\"url\":\"https://tivan.naver.com/sc2/5/\"}],\"close\":[{\"url\":\"https://tivan.naver.com/sc2/6/\"}]},\"adUnit\":\"p_main_timeboard_v1\",\"randomNumber\":59,\"adDivId\":\"ad_timeboard\",\"advertiserDomains\":[\"go.sdu.ac.kr\"],\"adDuplicationKeys\":[\"URL:http://go.sdu.ac.kr\"],\"ads\":[{\"encrypted\":\"sfvRfWRHW38EkO1wV3gv2iwr7Ak6h9lV8f1QXJYVhvkq5EQYYg1IFZSsSoVzFBmr1YIAsrNg0NcRCrhEizhtD3AF3iRXn5MbYa5iwwszFSAmhQh-9HHpfhrvk44vIO0v5PPndPeLo4pd7sNJ4F_CEtj1aCZy8lgj92JKr1MJ4ZC3ZKaMlkOU3a17DsnbyjRVm5i1y6LJdo4YBQ3FUrmC9y44EFeZhKV-eBqu3Ltn1wHROAWMmnZWHEoCBxJo6PzfAWvxxA-4fE0KCduKGWtjiaVq4jAFNlHOn8N34X-vHOH4JKHQWucIhzCjqQKZPsf_10lX6s95U73BVqKVVwXGV5RUyzyOGDWndMZqftAq_K30UdBwO8bGKFr_z9iwIAe3MEugtcBJ7NfprSwkiODMz3uE22KFRZaRFavHeNyu6M3Ga71NlkSl--rDU4E4i9MyI03YUGD4fs1vAnKxnkSI4lmqGNS_nuheuIw1EqG9dpGUS-Y4EBEQVUfRxfgLrpKW2ZO1yzdY-i6QU5Erv5Wkghnwm6ULsnnr2msbbzUO2TClAbfgHiFcvjlcqMAcTH48nJSTml4eRiJlNJ35hNK2va-ZvPZZCmFNe5gW3XYa8CZaHV5OmR1WVZWXnUq1313EspPgT0gQ6pQNy6s3mgu1Zcx-mBes5nkDUBQOQvl2W1gO4HpmT4kXzRXLG_q94zfJENWc2ayveJHvsfrSWCuvJDKQzP4nMGOesJjt5tWaKnU=\",\"connectionType\":\"S2S\",\"adProviderType\":\"IN_NAVER\",\"adProviderName\":\"NDP_SF\",\"layoutType\":\"FLUID\",\"creativeType\":\"BANNER\",\"renderType\":\"SF\",\"eventTracking\":{\"ackImpressions\":[{\"url\":\"https://siape.veta.naver.com/openrtb/nurl?eu=EU10043565\\u0026calp=-\\u0026oj=cQgn6aire5OVMfng%2FxaRDoqBMGdC0lVGEoV4WgPqGkZEzcRYv5zqKzfXip1zibfqJL1qM2Pf%2Fan4%2Bj3iYD%2BMRbG3mFG%2B5vYbWaW5TBWSNb3IBWexIpibH0plqdgUSG%2BUXrQSw%2B%2FX1bbNCF9%2F110BZDp0hCNKO%2BcHo2M9jEOAPSLbaIdXv9YIFqKzdZWOwZvbdMAtSn%2B9Id4vH4MuGzFJiErLLp1Ox71Vg1K%2FFXnNMQA\\u0026ac=8976244\\u0026src=7119747\\u0026evtcd=BID_WIN\\u0026x_ti=1506\\u0026rk=RkXpMZuVvuBw-a7S8NJ2Wg\\u0026eltts=6fRaNCq4bsUT%2FFsI%2BOUWRg%3D%3D\\u0026brs=Y\\u0026\"}],\"attached\":[],\"activeViewImpressions\":[],\"renderedImpressions\":[],\"viewableImpressions\":[],\"clicks\":[],\"vimp1px\":[],\"vimp100\":[],\"vimp100p\":[],\"admute\":[],\"advmute\":[],\"like\":[],\"unlike\":[],\"close\":[],\"bounce\":[]},\"adInfo\":{\"placeId\":\"6436232db28a76002ea3f30c\",\"adomain\":[\"go.sdu.ac.kr\"],\"cid\":\"1496452\",\"crid\":\"2640332\",\"exp\":1115,\"adm\":\"%3Cscript%20src%3D%22https%3A%2F%2Fssl.pstatic.net%2Fmelona%2Flibs%2Fglad%2Fbridge%2Fgfp-bridge.js%22%3E%3C%2Fscript%3E%0D%0A%3Clink%20rel%3D%22stylesheet%22%20href%3D%22https%3A%2F%2Fssl.pstatic.net%2Fmelona%2Flibs%2Fassets%2Fcss%2Fpc%2Fmain%2Fmin%2Fmain_image_rolling_830.min.css%3F20221021%22%20%2F%3E%0D%0A%0D%0A%3Cdiv%20class%3D%22image_rolling_area%20time_board_type%22%3E%0D%0A%20%20%20%20%3Ca%20href%3D%22https%3A%2F%2Fsiape.veta.naver.com%2Ffxclick%3Feu%3DEU10043565%26calp%3D-%26oj%3DcQgn6aire5OVMfng%252FxaRDoqBMGdC0lVGEoV4WgPqGkZEzcRYv5zqKzfXip1zibfqJL1qM2Pf%252Fan4%252Bj3iYD%252BMRbG3mFG%252B5vYbWaW5TBWSNb3IBWexIpibH0plqdgUSG%252BUXrQSw%252B%252FX1bbNCF9%252F110BZDp0hCNKO%252BcHo2M9jEOAPSLbaIdXv9YIFqKzdZWOwZvbdMAtSn%252B9Id4vH4MuGzFJiErLLp1Ox71Vg1K%252FFXnNMQA%26ac%3D8976244%26src%3D7119747%26br%3D4528896%26evtcd%3DP901%26x_ti%3D1506%26tb%3D%26oid%3D%26sid1%3D%26sid2%3D%26rk%3DRkXpMZuVvuBw-a7S8NJ2Wg%26eltts%3D6fRaNCq4bsUT%252FFsI%252BOUWRg%253D%253D%26lu%3D%26brs%3DY%26%22%20class%3D%22image_rolling_link%22%20target%3D%22_blank%22%3E%0D%0A%20%20%20%20%20%20%20%20%3Cdiv%20class%3D%22image_area%22%3E%0D%0A%20%20%20%20%20%20%20%20%20%20%20%20%3Cimg%20src%3D%22https%3A%2F%2Fssl.pstatic.net%2Fmelona%2Flibs%2F1496%2F1496452%2F4b5cae20e7b72d4de06f_20240610145714000.jpg%22%20width%3D%22830%22%20height%3D%22130%22%20alt%3D%22%5B%EA%B4%91%EA%B3%A0%5D%EC%84%9C%EC%9A%B8%EB%94%94%EC%A7%80%ED%84%B8%EB%8C%80%ED%95%99%EA%B5%90%20%EA%B4%91%EA%B3%A0%EC%9E%85%EB%8B%88%EB%8B%A4%22%3E%0D%0A%20%20%20%20%20%20%20%20%20%20%20%20%3Cimg%20src%3D%22https%3A%2F%2Fssl.pstatic.net%2Fmelona%2Flibs%2F1496%2F1496452%2F701545800c88f4bdfeab_20240610145716011.jpg%22%20width%3D%22830%22%20height%3D%22130%22%20alt%3D%22%22%3E%0D%0A%20%20%20%20%20%20%20%20%20%20%20%20%3Cimg%20src%3D%22https%3A%2F%2Fssl.pstatic.net%2Fmelona%2Flibs%2F1496%2F1496452%2F2f8b94a64495ad4a76a7_20240610145717700.jpg%22%20width%3D%22830%22%20height%3D%22130%22%20alt%3D%22%22%3E%0D%0A%20%20%20%20%20%20%20%20%20%20%20%20%3Cimg%20src%3D%22https%3A%2F%2Fssl.pstatic.net%2Fmelona%2Flibs%2F1496%2F1496452%2Fad5c8a23b3448eaa219d_20240610145722575.jpg%22%20width%3D%22830%22%20height%3D%22130%22%20alt%3D%22%22%3E%0D%0A%20%20%20%20%20%20%20%20%3C%2Fdiv%3E%0D%0A%20%20%20%20%3C%2Fa%3E%0D%0A%3C%2Fdiv%3E%0D%0A%0D%0A%3Cscript%20type%3D%22text%2Fjavascript%22%20src%3D%22https%3A%2F%2Fssl.pstatic.net%2Fmelona%2Flibs%2Fassets%2Fjs%2Fpc%2Fmain%2Fmin%2Fpc.veta.core.min.js%3F20221021%22%3E%3C%2Fscript%3E%0D%0A%3Cscript%20type%3D%22text%2Fjavascript%22%3E%0D%0A%20%20%20%20%28function%28ns%2C%20bridge%29%20%7B%0D%0A%20%20%20%20%20%20%20%20var%20LOG%20%3D%20%7B%0D%0A%20%20%20%20%20%20%20%20%20%20%20%20VIEWABLED%3A%20%22https%3A%2F%2Fsiape.veta.naver.com%2Ffxview%3Feu%3DEU10043565%26calp%3D-%26oj%3DcQgn6aire5OVMfng%252FxaRDoqBMGdC0lVGEoV4WgPqGkZEzcRYv5zqKzfXip1zibfqJL1qM2Pf%252Fan4%252Bj3iYD%252BMRbG3mFG%252B5vYbWaW5TBWSNb3IBWexIpibH0plqdgUSG%252BUXrQSw%252B%252FX1bbNCF9%252F110BZDp0hCNKO%252BcHo2M9jEOAPSLbaIdXv9YIFqKzdZWOwZvbdMAtSn%252B9Id4vH4MuGzFJiErLLp1Ox71Vg1K%252FFXnNMQA%26ac%3D8976244%26src%3D7119747%26evtcd%3DV900%26x_ti%3D1506%26tb%3D%26oid%3D%26sid1%3D%26sid2%3D%26rk%3DRkXpMZuVvuBw-a7S8NJ2Wg%26eltts%3D6fRaNCq4bsUT%252FFsI%252BOUWRg%253D%253D%26brs%3DY%26%26eid%3DV900%22%2C%0D%0A%20%20%20%20%20%20%20%20%20%20%20%20RENDERED%3A%20%22https%3A%2F%2Fsiape.veta.naver.com%2Ffxview%3Feu%3DEU10043565%26calp%3D-%26oj%3DcQgn6aire5OVMfng%252FxaRDoqBMGdC0lVGEoV4WgPqGkZEzcRYv5zqKzfXip1zibfqJL1qM2Pf%252Fan4%252Bj3iYD%252BMRbG3mFG%252B5vYbWaW5TBWSNb3IBWexIpibH0plqdgUSG%252BUXrQSw%252B%252FX1bbNCF9%252F110BZDp0hCNKO%252BcHo2M9jEOAPSLbaIdXv9YIFqKzdZWOwZvbdMAtSn%252B9Id4vH4MuGzFJiErLLp1Ox71Vg1K%252FFXnNMQA%26ac%3D8976244%26src%3D7119751%26evtcd%3DV602%26x_ti%3D1506%26tb%3D%26oid%3D%26sid1%3D%26sid2%3D%26rk%3DRkXpMZuVvuBw-a7S8NJ2Wg%26eltts%3D6fRaNCq4bsUT%252FFsI%252BOUWRg%253D%253D%26brs%3DY%26%26eid%3DV810%22%0D%0A%20%20%20%20%20%20%20%20%7D%3B%0D%0A%0D%0A%20%20%20%20%20%20%20%20var%20util%20%3D%20ns.Util%20%3F%20new%20ns.Util%28%29%20%3A%20new%20NBP_CORP.Nimp%28%29%3B%0D%0A%20%20%20%20%20%20%20%20var%20gladSdkBridge%20%3D%20bridge.createSdkBridge%28%29%3B%0D%0A%20%20%20%20%20%20%20%20var%20eventList%20%3D%20%7B%7D%3B%0D%0A%0D%0A%20%20%20%20%20%20%20%20%2F%2F%20%EC%9D%91%EB%8B%B5%EB%85%B8%EC%B6%9C%0D%0A%20%20%20%20%20%20%20%20util.log%28LOG.RENDERED%29%3B%0D%0A%0D%0A%20%20%20%20%20%20%20%20%2F%2F%20%EC%9C%A0%ED%9A%A8%EB%85%B8%EC%B6%9C%0D%0A%20%20%20%20%20%20%20%20eventList%5Bbridge.EVENT.VIEWABLED%5D%20%3D%20function%28%29%20%7B%0D%0A%20%20%20%20%20%20%20%20%20%20%20%20util.log%28LOG.VIEWABLED%29%3B%0D%0A%20%20%20%20%20%20%20%20%7D%3B%0D%0A%0D%0A%20%20%20%20%20%20%20%20gladSdkBridge.setEventListeners%28eventList%29%3B%0D%0A%0D%0A%20%20%20%20%20%20%20%20window.onload%20%3D%20function%28%29%20%7B%0D%0A%20%20%20%20%20%20%20%20%20%20%20%20document.querySelector%28%27.image_area%27%29.classList.add%28%27animation_start%27%29%3B%0D%0A%20%20%20%20%20%20%20%20%7D%3B%0D%0A%20%20%20%20%7D%29%28%0D%0A%20%20%20%20%20%20%20%20window.naver_corp_da%20%7C%7C%20%7B%7D%2C%0D%0A%20%20%20%20%20%20%20%20window.gladBridge%0D%0A%20%20%20%20%29%3B%0D%0A%3C%2Fscript%3E\",\"encoded\":1,\"responseSize\":{\"height\":130,\"width\":830,\"force\":0},\"template\":\"%3C%21doctype%20html%3E%3Chtml%3E%3Chead%3E%3Cmeta%20name%3D%22viewport%22%20content%3D%22width%3Ddevice-width%2C%20user-scalable%3Dno%22%2F%3E%3Cstyle%20data-gfp-role%3D%22adMarkLegacyStyle%22%3E%5Bdata-gfp-role%3D%22adMarkLegacy%22%5D%20%7Bdisplay%3A%20none%3B%7D%3C%2Fstyle%3E%3Cscript%3Ewindow.gladBridge%20%3D%20%7BRUNTIME%3A%20%22InApp%22%7D%3B%3C%2Fscript%3E%3C%2Fhead%3E%3Cbody%20style%3D%22margin%3A%200%3B%20padding%3A%200%22%3E%7B%7Badm%7D%7D%3Cscript%20src%3D%22https%3A%2F%2Fssl.pstatic.net%2Ftveta%2Flibs%2Fglad_admute%2Fprod%2Fglad-admute.js%22%3E%3C%2Fscript%3E%3Cscript%3Econst%20adMuteOptions%20%3D%20%7BmuteUrl%3A%20%22%25%25MUTE_URL%25%25%22%2C%20privacyUrl%3A%20%22%25%25PRIV_URL%25%25%22%2C%20creativeType%3A%20%22BANNER%22%2C%20runtimeType%3A%20%22InApp%22%7D%3B%20if%28adMuteOptions.muteUrl%20%7C%7C%20adMuteOptions.privacyUrl%29%20%7B%20window.gladAdMute.checkAdMarkLegacyStyle%28adMuteOptions%29%3B%20const%20adMuteController%20%3D%20window.gladAdMute.createAdMuteController%28adMuteOptions%29%3B%20adMuteController.render%28%29%3B%20%7D%3C%2Fscript%3E%3C%2Fbody%3E%3C%2Fhtml%3E\"}},{\"encrypted\":\"Fogf0CHjEI1PR-uxHmeXSPMLonGE42SjzHSb-uUdilyoEtsLn592MdtJ9_b524Qm0hJrjpQWItc22H5I0WKTUPwbvaTuXPt3hzF-uW87JxJGfL8Dz1yg90eY54pyWSGLPrzkN08LkS1__B3pMdrtk3RImxw2v3qjkEZPNQwltkIYKXABztbpvqeLh3VYA66_uQHQ2XzDIHc7XQDZsCYQh0fqi2ZX-v0v32x8moaBpIbIMX4O3C0Ed2JALB-ROmtV2QwC2vAGcMMxRdyshiiWSofk5z5k9JODbYsePNI86mCDb9RqcJmNjxjEyPr2DTGVWxk4EVuUC8I47SQ8tQ_3U4kEQaaoBSXQhsVmfTMJgqtbHfN1Pe08ovPvpK5UKQqQ3mE9O3lU8Sl_Atls00H-qKqG_ptyN6h0-UYWBVm1LhVJRw04gTibbJdBhRQoOXie_sJaYf8upZhkcgl6nqrmanYtFqURD1SCohqasmHRc5vtdFKSAw5AzYu4GDgc7E2T\",\"connectionType\":\"S2S\",\"adProviderName\":\"GFP\",\"layoutType\":\"FLUID\",\"creativeType\":\"BANNER\",\"renderType\":\"EMPTY\",\"eventTracking\":{\"ackImpressions\":[{\"url\":\"https://siape.veta.naver.com/openrtb/nbackimp?eu=EU10043565\\u0026oj=cQgn6aire5OVMfng%2FxaRDoqBMGdC0lVGEoV4WgPqGkZEzcRYv5zqKzfXip1zibfqJL1qM2Pf%2Fan4%2Bj3iYD%2BMRbG3mFG%2B5vYbWaW5TBWSNb3IBWexIpibH0plqdgUSG%2BUXrQSw%2B%2FX1bbNCF9%2F110BZDp0hCNKO%2BcHo2M9jEOAPSLbaIdXv9YIFqKzdZWOwZvbdMAtSn%2B9Id4vH4MuGzFJiErLLp1Ox71Vg1K%2FFXnNMQA\\u0026evtcd=BID_LOSE\\u0026rk=RkXpMZuVvuBw-a7S8NJ2Wg\\u0026eltts=6fRaNCq4bsUT%2FFsI%2BOUWRg%3D%3D\\u0026calp=-\\u0026ac=8976244\\u0026src=7119747\\u0026x_ti=1506\\u0026brs=Y\"}],\"attached\":[],\"activeViewImpressions\":[{\"url\":\"https://siape.veta.naver.com/openrtb/nbimp?oj=cQgn6aire5OVMfng%2FxaRDoqBMGdC0lVGEoV4WgPqGkZEzcRYv5zqKzfXip1zibfqJL1qM2Pf%2Fan4%2Bj3iYD%2BMRbG3mFG%2B5vYbWaW5TBWSNb3IBWexIpibH0plqdgUSG%2BUXrQSw%2B%2FX1bbNCF9%2F110BZDp0hCNKO%2BcHo2M9jEOAPSLbaIdXv9YIFqKzdZWOwZvbdMAtSn%2B9Id4vH4MuGzFJiErLLp1Ox71Vg1K%2FFXnNMQA\\u0026rk=RkXpMZuVvuBw-a7S8NJ2Wg\\u0026eltts=6fRaNCq4bsUT%2FFsI%2BOUWRg%3D%3D\"}],\"renderedImpressions\":[],\"viewableImpressions\":[{\"url\":\"https://siape.veta.naver.com/openrtb/nbimp?oj=cQgn6aire5OVMfng%2FxaRDoqBMGdC0lVGEoV4WgPqGkZEzcRYv5zqKzfXip1zibfqJL1qM2Pf%2Fan4%2Bj3iYD%2BMRbG3mFG%2B5vYbWaW5TBWSNb3IBWexIpibH0plqdgUSG%2BUXrQSw%2B%2FX1bbNCF9%2F110BZDp0hCNKO%2BcHo2M9jEOAPSLbaIdXv9YIFqKzdZWOwZvbdMAtSn%2B9Id4vH4MuGzFJiErLLp1Ox71Vg1K%2FFXnNMQA\\u0026rk=RkXpMZuVvuBw-a7S8NJ2Wg\\u0026eltts=6fRaNCq4bsUT%2FFsI%2BOUWRg%3D%3D\"}],\"clicks\":[],\"vimp1px\":[],\"vimp100\":[],\"vimp100p\":[],\"admute\":[],\"advmute\":[],\"like\":[],\"unlike\":[],\"close\":[],\"bounce\":[]},\"adInfo\":{\"responseSize\":{\"height\":0,\"width\":0}}}],\"config\":{\"imp\":{\"ratio\":100,\"ms\":0}}},\"additionalInfo\":{\"adCount\":1,\"adDuplicate\":{\"advertiserDomains\":[\"go.sdu.ac.kr\"],\"adDuplicationKeys\":[\"URL:http://go.sdu.ac.kr\"]},\"adSize\":{\"h\":130,\"w\":830}}}\n",
      "</script>\n",
      "\n"
     ]
    }
   ],
   "source": [
    "# data-gfp-banner-size 속성을 가진 태그 크롤링\n",
    "banners = soup.find_all(attrs = {'data-gfp-banner-size': '830x130'})\n",
    "# banners = soup.find_all(attrs = {'id': 'ad-timeboard-response'})\n",
    "for banner in banners:\n",
    "    print(banner.prettify())"
   ]
  },
  {
   "cell_type": "code",
   "execution_count": 116,
   "metadata": {},
   "outputs": [
    {
     "name": "stdout",
     "output_type": "stream",
     "text": [
      "상단영역 바로가기\n",
      "서비스 메뉴 바로가기\n",
      "새소식 블록 바로가기\n",
      "쇼핑 블록 바로가기\n",
      "관심사 블록 바로가기\n",
      "MY 영역 바로가기\n",
      "위젯 보드 바로가기\n",
      "보기 설정 바로가기\n"
     ]
    }
   ],
   "source": [
    "#  ID가 'u_skip' 인 div 내부의 모든 a태그 선택\n",
    "\n",
    "u_skip_links = soup.select('#u_skip a')\n",
    "for link in u_skip_links:\n",
    "    print(link.text)"
   ]
  },
  {
   "cell_type": "code",
   "execution_count": 118,
   "metadata": {},
   "outputs": [
    {
     "name": "stdout",
     "output_type": "stream",
     "text": [
      "           검색                       검색       입력도구     자동완성/최근검색어펼치기        최근 검색어  전체삭제     검색어 저장 기능이 꺼져 있습니다.설정이 초기화 된다면 도움말을 확인해주세요. 최근 검색어 내역이 없습니다.설정이 초기화 된다면 도움말을 확인해주세요.     자동저장 끄기  도움말   닫기       CUE대화하듯 질문해 보세요이 정보가 표시된 이유  검색어와 포함된 키워드를 기반으로 AI 기술을 활용하여 연관된 추천 질문을 제공합니다. 레이어 닫기      이전 다음             자세히보기      관심사를 반영한 컨텍스트 자동완성도움말   컨텍스트 자동완성   컨텍스트 자동완성  ON/OFF 설정은 해당기기(브라우저)에 저장됩니다.  자세히 보기    동일한 시간대・연령대・남녀별 사용자 그룹의 관심사에 맞춰 자동완성을 제공합니다. 자세히 보기   네이버로그인   컨텍스트 자동완성 레이어 닫기       자동완성 끄기  도움말 신고   닫기                   \n"
     ]
    }
   ],
   "source": [
    "#  ID가 '#wrap'인 div 내부의 ID가  #header' 인 div 선택\n",
    "header_div = soup.select_one('#wrap #header')\n",
    "print(header_div.text if header_div else 'No header div found')"
   ]
  },
  {
   "cell_type": "code",
   "execution_count": 136,
   "metadata": {},
   "outputs": [
    {
     "name": "stdout",
     "output_type": "stream",
     "text": [
      "<script data-gfp-banner-size=\"830x130\" data-gfp-banner-type=\"full\" id=\"ad-timeboard-response\" type=\"text/plain\">{\"payload\":{\"requestId\":\"d1d72521d76d4274a9d97ccd4e231a1b\",\"head\":{\"version\":\"0.0.1\",\"description\":\"Naver SSP Waterfall List\"},\"eventTracking\":{\"ackImpressions\":[{\"url\":\"https://tivan.naver.com/sc2/1/\"}],\"activeViewImpressions\":[{\"url\":\"https://tivan.naver.com/sc2/2/\"}],\"clicks\":[{\"url\":\"https://tivan.naver.com/sc2/3/\"}],\"completions\":[{\"url\":\"https://tivan.naver.com/sc2/4/\"}],\"attached\":[{\"url\":\"https://tivan.naver.com/sc2/10/\"}],\"renderedImpressions\":[{\"url\":\"https://tivan.naver.com/sc2/11/\"}],\"viewableImpressions\":[{\"url\":\"https://tivan.naver.com/sc2/12/\"}],\"loadErrors\":[{\"url\":\"https://tivan.naver.com/sc2/91/\"}],\"startErrors\":[{\"url\":\"https://tivan.naver.com/sc2/92/\"}],\"lazyRenderMediaFailed\":[{\"url\":\"https://tivan.naver.com/sc2/93/\"}],\"mute\":[{\"url\":\"https://tivan.naver.com/sc2/5/\"}],\"close\":[{\"url\":\"https://tivan.naver.com/sc2/6/\"}]},\"adUnit\":\"p_main_timeboard_v1\",\"randomNumber\":59,\"adDivId\":\"ad_timeboard\",\"advertiserDomains\":[\"go.sdu.ac.kr\"],\"adDuplicationKeys\":[\"URL:http://go.sdu.ac.kr\"],\"ads\":[{\"encrypted\":\"sfvRfWRHW38EkO1wV3gv2iwr7Ak6h9lV8f1QXJYVhvkq5EQYYg1IFZSsSoVzFBmr1YIAsrNg0NcRCrhEizhtD3AF3iRXn5MbYa5iwwszFSAmhQh-9HHpfhrvk44vIO0v5PPndPeLo4pd7sNJ4F_CEtj1aCZy8lgj92JKr1MJ4ZC3ZKaMlkOU3a17DsnbyjRVm5i1y6LJdo4YBQ3FUrmC9y44EFeZhKV-eBqu3Ltn1wHROAWMmnZWHEoCBxJo6PzfAWvxxA-4fE0KCduKGWtjiaVq4jAFNlHOn8N34X-vHOH4JKHQWucIhzCjqQKZPsf_10lX6s95U73BVqKVVwXGV5RUyzyOGDWndMZqftAq_K30UdBwO8bGKFr_z9iwIAe3MEugtcBJ7NfprSwkiODMz3uE22KFRZaRFavHeNyu6M3Ga71NlkSl--rDU4E4i9MyI03YUGD4fs1vAnKxnkSI4lmqGNS_nuheuIw1EqG9dpGUS-Y4EBEQVUfRxfgLrpKW2ZO1yzdY-i6QU5Erv5Wkghnwm6ULsnnr2msbbzUO2TClAbfgHiFcvjlcqMAcTH48nJSTml4eRiJlNJ35hNK2va-ZvPZZCmFNe5gW3XYa8CZaHV5OmR1WVZWXnUq1313EspPgT0gQ6pQNy6s3mgu1Zcx-mBes5nkDUBQOQvl2W1gO4HpmT4kXzRXLG_q94zfJENWc2ayveJHvsfrSWCuvJDKQzP4nMGOesJjt5tWaKnU=\",\"connectionType\":\"S2S\",\"adProviderType\":\"IN_NAVER\",\"adProviderName\":\"NDP_SF\",\"layoutType\":\"FLUID\",\"creativeType\":\"BANNER\",\"renderType\":\"SF\",\"eventTracking\":{\"ackImpressions\":[{\"url\":\"https://siape.veta.naver.com/openrtb/nurl?eu=EU10043565\\u0026calp=-\\u0026oj=cQgn6aire5OVMfng%2FxaRDoqBMGdC0lVGEoV4WgPqGkZEzcRYv5zqKzfXip1zibfqJL1qM2Pf%2Fan4%2Bj3iYD%2BMRbG3mFG%2B5vYbWaW5TBWSNb3IBWexIpibH0plqdgUSG%2BUXrQSw%2B%2FX1bbNCF9%2F110BZDp0hCNKO%2BcHo2M9jEOAPSLbaIdXv9YIFqKzdZWOwZvbdMAtSn%2B9Id4vH4MuGzFJiErLLp1Ox71Vg1K%2FFXnNMQA\\u0026ac=8976244\\u0026src=7119747\\u0026evtcd=BID_WIN\\u0026x_ti=1506\\u0026rk=RkXpMZuVvuBw-a7S8NJ2Wg\\u0026eltts=6fRaNCq4bsUT%2FFsI%2BOUWRg%3D%3D\\u0026brs=Y\\u0026\"}],\"attached\":[],\"activeViewImpressions\":[],\"renderedImpressions\":[],\"viewableImpressions\":[],\"clicks\":[],\"vimp1px\":[],\"vimp100\":[],\"vimp100p\":[],\"admute\":[],\"advmute\":[],\"like\":[],\"unlike\":[],\"close\":[],\"bounce\":[]},\"adInfo\":{\"placeId\":\"6436232db28a76002ea3f30c\",\"adomain\":[\"go.sdu.ac.kr\"],\"cid\":\"1496452\",\"crid\":\"2640332\",\"exp\":1115,\"adm\":\"%3Cscript%20src%3D%22https%3A%2F%2Fssl.pstatic.net%2Fmelona%2Flibs%2Fglad%2Fbridge%2Fgfp-bridge.js%22%3E%3C%2Fscript%3E%0D%0A%3Clink%20rel%3D%22stylesheet%22%20href%3D%22https%3A%2F%2Fssl.pstatic.net%2Fmelona%2Flibs%2Fassets%2Fcss%2Fpc%2Fmain%2Fmin%2Fmain_image_rolling_830.min.css%3F20221021%22%20%2F%3E%0D%0A%0D%0A%3Cdiv%20class%3D%22image_rolling_area%20time_board_type%22%3E%0D%0A%20%20%20%20%3Ca%20href%3D%22https%3A%2F%2Fsiape.veta.naver.com%2Ffxclick%3Feu%3DEU10043565%26calp%3D-%26oj%3DcQgn6aire5OVMfng%252FxaRDoqBMGdC0lVGEoV4WgPqGkZEzcRYv5zqKzfXip1zibfqJL1qM2Pf%252Fan4%252Bj3iYD%252BMRbG3mFG%252B5vYbWaW5TBWSNb3IBWexIpibH0plqdgUSG%252BUXrQSw%252B%252FX1bbNCF9%252F110BZDp0hCNKO%252BcHo2M9jEOAPSLbaIdXv9YIFqKzdZWOwZvbdMAtSn%252B9Id4vH4MuGzFJiErLLp1Ox71Vg1K%252FFXnNMQA%26ac%3D8976244%26src%3D7119747%26br%3D4528896%26evtcd%3DP901%26x_ti%3D1506%26tb%3D%26oid%3D%26sid1%3D%26sid2%3D%26rk%3DRkXpMZuVvuBw-a7S8NJ2Wg%26eltts%3D6fRaNCq4bsUT%252FFsI%252BOUWRg%253D%253D%26lu%3D%26brs%3DY%26%22%20class%3D%22image_rolling_link%22%20target%3D%22_blank%22%3E%0D%0A%20%20%20%20%20%20%20%20%3Cdiv%20class%3D%22image_area%22%3E%0D%0A%20%20%20%20%20%20%20%20%20%20%20%20%3Cimg%20src%3D%22https%3A%2F%2Fssl.pstatic.net%2Fmelona%2Flibs%2F1496%2F1496452%2F4b5cae20e7b72d4de06f_20240610145714000.jpg%22%20width%3D%22830%22%20height%3D%22130%22%20alt%3D%22%5B%EA%B4%91%EA%B3%A0%5D%EC%84%9C%EC%9A%B8%EB%94%94%EC%A7%80%ED%84%B8%EB%8C%80%ED%95%99%EA%B5%90%20%EA%B4%91%EA%B3%A0%EC%9E%85%EB%8B%88%EB%8B%A4%22%3E%0D%0A%20%20%20%20%20%20%20%20%20%20%20%20%3Cimg%20src%3D%22https%3A%2F%2Fssl.pstatic.net%2Fmelona%2Flibs%2F1496%2F1496452%2F701545800c88f4bdfeab_20240610145716011.jpg%22%20width%3D%22830%22%20height%3D%22130%22%20alt%3D%22%22%3E%0D%0A%20%20%20%20%20%20%20%20%20%20%20%20%3Cimg%20src%3D%22https%3A%2F%2Fssl.pstatic.net%2Fmelona%2Flibs%2F1496%2F1496452%2F2f8b94a64495ad4a76a7_20240610145717700.jpg%22%20width%3D%22830%22%20height%3D%22130%22%20alt%3D%22%22%3E%0D%0A%20%20%20%20%20%20%20%20%20%20%20%20%3Cimg%20src%3D%22https%3A%2F%2Fssl.pstatic.net%2Fmelona%2Flibs%2F1496%2F1496452%2Fad5c8a23b3448eaa219d_20240610145722575.jpg%22%20width%3D%22830%22%20height%3D%22130%22%20alt%3D%22%22%3E%0D%0A%20%20%20%20%20%20%20%20%3C%2Fdiv%3E%0D%0A%20%20%20%20%3C%2Fa%3E%0D%0A%3C%2Fdiv%3E%0D%0A%0D%0A%3Cscript%20type%3D%22text%2Fjavascript%22%20src%3D%22https%3A%2F%2Fssl.pstatic.net%2Fmelona%2Flibs%2Fassets%2Fjs%2Fpc%2Fmain%2Fmin%2Fpc.veta.core.min.js%3F20221021%22%3E%3C%2Fscript%3E%0D%0A%3Cscript%20type%3D%22text%2Fjavascript%22%3E%0D%0A%20%20%20%20%28function%28ns%2C%20bridge%29%20%7B%0D%0A%20%20%20%20%20%20%20%20var%20LOG%20%3D%20%7B%0D%0A%20%20%20%20%20%20%20%20%20%20%20%20VIEWABLED%3A%20%22https%3A%2F%2Fsiape.veta.naver.com%2Ffxview%3Feu%3DEU10043565%26calp%3D-%26oj%3DcQgn6aire5OVMfng%252FxaRDoqBMGdC0lVGEoV4WgPqGkZEzcRYv5zqKzfXip1zibfqJL1qM2Pf%252Fan4%252Bj3iYD%252BMRbG3mFG%252B5vYbWaW5TBWSNb3IBWexIpibH0plqdgUSG%252BUXrQSw%252B%252FX1bbNCF9%252F110BZDp0hCNKO%252BcHo2M9jEOAPSLbaIdXv9YIFqKzdZWOwZvbdMAtSn%252B9Id4vH4MuGzFJiErLLp1Ox71Vg1K%252FFXnNMQA%26ac%3D8976244%26src%3D7119747%26evtcd%3DV900%26x_ti%3D1506%26tb%3D%26oid%3D%26sid1%3D%26sid2%3D%26rk%3DRkXpMZuVvuBw-a7S8NJ2Wg%26eltts%3D6fRaNCq4bsUT%252FFsI%252BOUWRg%253D%253D%26brs%3DY%26%26eid%3DV900%22%2C%0D%0A%20%20%20%20%20%20%20%20%20%20%20%20RENDERED%3A%20%22https%3A%2F%2Fsiape.veta.naver.com%2Ffxview%3Feu%3DEU10043565%26calp%3D-%26oj%3DcQgn6aire5OVMfng%252FxaRDoqBMGdC0lVGEoV4WgPqGkZEzcRYv5zqKzfXip1zibfqJL1qM2Pf%252Fan4%252Bj3iYD%252BMRbG3mFG%252B5vYbWaW5TBWSNb3IBWexIpibH0plqdgUSG%252BUXrQSw%252B%252FX1bbNCF9%252F110BZDp0hCNKO%252BcHo2M9jEOAPSLbaIdXv9YIFqKzdZWOwZvbdMAtSn%252B9Id4vH4MuGzFJiErLLp1Ox71Vg1K%252FFXnNMQA%26ac%3D8976244%26src%3D7119751%26evtcd%3DV602%26x_ti%3D1506%26tb%3D%26oid%3D%26sid1%3D%26sid2%3D%26rk%3DRkXpMZuVvuBw-a7S8NJ2Wg%26eltts%3D6fRaNCq4bsUT%252FFsI%252BOUWRg%253D%253D%26brs%3DY%26%26eid%3DV810%22%0D%0A%20%20%20%20%20%20%20%20%7D%3B%0D%0A%0D%0A%20%20%20%20%20%20%20%20var%20util%20%3D%20ns.Util%20%3F%20new%20ns.Util%28%29%20%3A%20new%20NBP_CORP.Nimp%28%29%3B%0D%0A%20%20%20%20%20%20%20%20var%20gladSdkBridge%20%3D%20bridge.createSdkBridge%28%29%3B%0D%0A%20%20%20%20%20%20%20%20var%20eventList%20%3D%20%7B%7D%3B%0D%0A%0D%0A%20%20%20%20%20%20%20%20%2F%2F%20%EC%9D%91%EB%8B%B5%EB%85%B8%EC%B6%9C%0D%0A%20%20%20%20%20%20%20%20util.log%28LOG.RENDERED%29%3B%0D%0A%0D%0A%20%20%20%20%20%20%20%20%2F%2F%20%EC%9C%A0%ED%9A%A8%EB%85%B8%EC%B6%9C%0D%0A%20%20%20%20%20%20%20%20eventList%5Bbridge.EVENT.VIEWABLED%5D%20%3D%20function%28%29%20%7B%0D%0A%20%20%20%20%20%20%20%20%20%20%20%20util.log%28LOG.VIEWABLED%29%3B%0D%0A%20%20%20%20%20%20%20%20%7D%3B%0D%0A%0D%0A%20%20%20%20%20%20%20%20gladSdkBridge.setEventListeners%28eventList%29%3B%0D%0A%0D%0A%20%20%20%20%20%20%20%20window.onload%20%3D%20function%28%29%20%7B%0D%0A%20%20%20%20%20%20%20%20%20%20%20%20document.querySelector%28%27.image_area%27%29.classList.add%28%27animation_start%27%29%3B%0D%0A%20%20%20%20%20%20%20%20%7D%3B%0D%0A%20%20%20%20%7D%29%28%0D%0A%20%20%20%20%20%20%20%20window.naver_corp_da%20%7C%7C%20%7B%7D%2C%0D%0A%20%20%20%20%20%20%20%20window.gladBridge%0D%0A%20%20%20%20%29%3B%0D%0A%3C%2Fscript%3E\",\"encoded\":1,\"responseSize\":{\"height\":130,\"width\":830,\"force\":0},\"template\":\"%3C%21doctype%20html%3E%3Chtml%3E%3Chead%3E%3Cmeta%20name%3D%22viewport%22%20content%3D%22width%3Ddevice-width%2C%20user-scalable%3Dno%22%2F%3E%3Cstyle%20data-gfp-role%3D%22adMarkLegacyStyle%22%3E%5Bdata-gfp-role%3D%22adMarkLegacy%22%5D%20%7Bdisplay%3A%20none%3B%7D%3C%2Fstyle%3E%3Cscript%3Ewindow.gladBridge%20%3D%20%7BRUNTIME%3A%20%22InApp%22%7D%3B%3C%2Fscript%3E%3C%2Fhead%3E%3Cbody%20style%3D%22margin%3A%200%3B%20padding%3A%200%22%3E%7B%7Badm%7D%7D%3Cscript%20src%3D%22https%3A%2F%2Fssl.pstatic.net%2Ftveta%2Flibs%2Fglad_admute%2Fprod%2Fglad-admute.js%22%3E%3C%2Fscript%3E%3Cscript%3Econst%20adMuteOptions%20%3D%20%7BmuteUrl%3A%20%22%25%25MUTE_URL%25%25%22%2C%20privacyUrl%3A%20%22%25%25PRIV_URL%25%25%22%2C%20creativeType%3A%20%22BANNER%22%2C%20runtimeType%3A%20%22InApp%22%7D%3B%20if%28adMuteOptions.muteUrl%20%7C%7C%20adMuteOptions.privacyUrl%29%20%7B%20window.gladAdMute.checkAdMarkLegacyStyle%28adMuteOptions%29%3B%20const%20adMuteController%20%3D%20window.gladAdMute.createAdMuteController%28adMuteOptions%29%3B%20adMuteController.render%28%29%3B%20%7D%3C%2Fscript%3E%3C%2Fbody%3E%3C%2Fhtml%3E\"}},{\"encrypted\":\"Fogf0CHjEI1PR-uxHmeXSPMLonGE42SjzHSb-uUdilyoEtsLn592MdtJ9_b524Qm0hJrjpQWItc22H5I0WKTUPwbvaTuXPt3hzF-uW87JxJGfL8Dz1yg90eY54pyWSGLPrzkN08LkS1__B3pMdrtk3RImxw2v3qjkEZPNQwltkIYKXABztbpvqeLh3VYA66_uQHQ2XzDIHc7XQDZsCYQh0fqi2ZX-v0v32x8moaBpIbIMX4O3C0Ed2JALB-ROmtV2QwC2vAGcMMxRdyshiiWSofk5z5k9JODbYsePNI86mCDb9RqcJmNjxjEyPr2DTGVWxk4EVuUC8I47SQ8tQ_3U4kEQaaoBSXQhsVmfTMJgqtbHfN1Pe08ovPvpK5UKQqQ3mE9O3lU8Sl_Atls00H-qKqG_ptyN6h0-UYWBVm1LhVJRw04gTibbJdBhRQoOXie_sJaYf8upZhkcgl6nqrmanYtFqURD1SCohqasmHRc5vtdFKSAw5AzYu4GDgc7E2T\",\"connectionType\":\"S2S\",\"adProviderName\":\"GFP\",\"layoutType\":\"FLUID\",\"creativeType\":\"BANNER\",\"renderType\":\"EMPTY\",\"eventTracking\":{\"ackImpressions\":[{\"url\":\"https://siape.veta.naver.com/openrtb/nbackimp?eu=EU10043565\\u0026oj=cQgn6aire5OVMfng%2FxaRDoqBMGdC0lVGEoV4WgPqGkZEzcRYv5zqKzfXip1zibfqJL1qM2Pf%2Fan4%2Bj3iYD%2BMRbG3mFG%2B5vYbWaW5TBWSNb3IBWexIpibH0plqdgUSG%2BUXrQSw%2B%2FX1bbNCF9%2F110BZDp0hCNKO%2BcHo2M9jEOAPSLbaIdXv9YIFqKzdZWOwZvbdMAtSn%2B9Id4vH4MuGzFJiErLLp1Ox71Vg1K%2FFXnNMQA\\u0026evtcd=BID_LOSE\\u0026rk=RkXpMZuVvuBw-a7S8NJ2Wg\\u0026eltts=6fRaNCq4bsUT%2FFsI%2BOUWRg%3D%3D\\u0026calp=-\\u0026ac=8976244\\u0026src=7119747\\u0026x_ti=1506\\u0026brs=Y\"}],\"attached\":[],\"activeViewImpressions\":[{\"url\":\"https://siape.veta.naver.com/openrtb/nbimp?oj=cQgn6aire5OVMfng%2FxaRDoqBMGdC0lVGEoV4WgPqGkZEzcRYv5zqKzfXip1zibfqJL1qM2Pf%2Fan4%2Bj3iYD%2BMRbG3mFG%2B5vYbWaW5TBWSNb3IBWexIpibH0plqdgUSG%2BUXrQSw%2B%2FX1bbNCF9%2F110BZDp0hCNKO%2BcHo2M9jEOAPSLbaIdXv9YIFqKzdZWOwZvbdMAtSn%2B9Id4vH4MuGzFJiErLLp1Ox71Vg1K%2FFXnNMQA\\u0026rk=RkXpMZuVvuBw-a7S8NJ2Wg\\u0026eltts=6fRaNCq4bsUT%2FFsI%2BOUWRg%3D%3D\"}],\"renderedImpressions\":[],\"viewableImpressions\":[{\"url\":\"https://siape.veta.naver.com/openrtb/nbimp?oj=cQgn6aire5OVMfng%2FxaRDoqBMGdC0lVGEoV4WgPqGkZEzcRYv5zqKzfXip1zibfqJL1qM2Pf%2Fan4%2Bj3iYD%2BMRbG3mFG%2B5vYbWaW5TBWSNb3IBWexIpibH0plqdgUSG%2BUXrQSw%2B%2FX1bbNCF9%2F110BZDp0hCNKO%2BcHo2M9jEOAPSLbaIdXv9YIFqKzdZWOwZvbdMAtSn%2B9Id4vH4MuGzFJiErLLp1Ox71Vg1K%2FFXnNMQA\\u0026rk=RkXpMZuVvuBw-a7S8NJ2Wg\\u0026eltts=6fRaNCq4bsUT%2FFsI%2BOUWRg%3D%3D\"}],\"clicks\":[],\"vimp1px\":[],\"vimp100\":[],\"vimp100p\":[],\"admute\":[],\"advmute\":[],\"like\":[],\"unlike\":[],\"close\":[],\"bounce\":[]},\"adInfo\":{\"responseSize\":{\"height\":0,\"width\":0}}}],\"config\":{\"imp\":{\"ratio\":100,\"ms\":0}}},\"additionalInfo\":{\"adCount\":1,\"adDuplicate\":{\"advertiserDomains\":[\"go.sdu.ac.kr\"],\"adDuplicationKeys\":[\"URL:http://go.sdu.ac.kr\"]},\"adSize\":{\"h\":130,\"w\":830}}}\n",
      "</script>\n",
      "830x130\n"
     ]
    }
   ],
   "source": [
    "# ID가 ad_timeboard_response 인 script 태그의 data-gft-banner-size 속성값 선택\n",
    "\n",
    "ad_timeboard_response = soup.select_one('script#ad-timeboard-response')\n",
    "print(ad_timeboard_response)\n",
    "banner_size = ad_timeboard_response['data-gfp-banner-size'] if ad_timeboard_response else 'No data-gfp-banner-size found'\n",
    "print(banner_size)"
   ]
  },
  {
   "cell_type": "markdown",
   "metadata": {},
   "source": [
    "Copy Selector\n",
    "\n",
    "- copy selector는 해당 요소로 접근할 수 있는 CSS 선택자를 복사합니다.\n",
    "- 이를 통해 JavaScript나 Selenium과 같은 도구에서 해당 요소를 선택할 수 있습니다."
   ]
  },
  {
   "cell_type": "code",
   "execution_count": 141,
   "metadata": {},
   "outputs": [
    {
     "name": "stdout",
     "output_type": "stream",
     "text": [
      "뉴스스탠드\n"
     ]
    }
   ],
   "source": [
    "# 동적 콘텐츠 로딩: selenium 사용\n",
    "\n",
    "from selenium import webdriver\n",
    "from selenium.webdriver.chrome.options import Options\n",
    "from selenium.webdriver.common.by import By\n",
    "import time\n",
    "\n",
    "options = Options()\n",
    "options.add_argument(\"--start-maximized\")\n",
    "options.add_experimental_option(\"detach\", True)\n",
    "\n",
    "driver = webdriver.Chrome(options=options)\n",
    "\n",
    "# naver 페이지 열기\n",
    "\n",
    "url = 'https://www.naver.com/'\n",
    "driver.get(url)\n",
    "\n",
    "# 페이지 로딩 대기\n",
    "\n",
    "time.sleep(2)\n",
    "\n",
    "# 뉴스스탠드 링크 찾기\n",
    "\n",
    "try:\n",
    "    newsstand_link = driver.find_element(By.CSS_SELECTOR, '#newsstand > div.ContentHeaderView-module__content_header___nSgPg > div > ul > li:nth-child(1) > span > a:nth-child(1)')\n",
    "    print(newsstand_link.text)\n",
    "except:\n",
    "    print(\"뉴스스탠드 링크를 찾을 수 없습니다\")  \n",
    "\n",
    "# 브라우저 닫기\n",
    "driver.quit()\n",
    "\n",
    "\n",
    "\n"
   ]
  },
  {
   "cell_type": "markdown",
   "metadata": {},
   "source": [
    " Copy XPath\n",
    "\n",
    "- copy XPath는 해당 요소로 접근할 수 있는 XPath를 복사합니다.\n",
    "- XPath는 XML 문서의 특정 요소를 선택할 때 사용되는 언어로, HTML에도 적용할 수 있습니다."
   ]
  },
  {
   "cell_type": "code",
   "execution_count": 145,
   "metadata": {},
   "outputs": [
    {
     "name": "stdout",
     "output_type": "stream",
     "text": [
      "뉴스스탠드\n"
     ]
    }
   ],
   "source": [
    "# 동적 콘텐츠 로딩: selenium 사용\n",
    "\n",
    "from selenium import webdriver\n",
    "from selenium.webdriver.chrome.options import Options\n",
    "from selenium.webdriver.common.by import By\n",
    "import time\n",
    "\n",
    "options = Options()\n",
    "options.add_argument(\"--start-maximized\")\n",
    "options.add_experimental_option(\"detach\", True)\n",
    "\n",
    "driver = webdriver.Chrome(options=options)\n",
    "\n",
    "# naver 페이지 열기\n",
    "\n",
    "url = 'https://www.naver.com/'\n",
    "driver.get(url)\n",
    "\n",
    "# 페이지 로딩 대기\n",
    "\n",
    "time.sleep(2)\n",
    "\n",
    "# 뉴스스탠드 링크 찾기\n",
    "\n",
    "try:\n",
    "    newsstand_link = driver.find_element(By.XPATH, '//*[@id=\"newsstand\"]/div[1]/div/ul/li[1]/span/a[1]')\n",
    "    print(newsstand_link.text)\n",
    "except:\n",
    "    print(\"뉴스스탠드 링크를 찾을 수 없습니다\")  \n",
    "\n",
    "# 브라우저 닫기\n",
    "driver.quit()\n",
    "\n",
    "\n",
    "\n"
   ]
  }
 ],
 "metadata": {
  "kernelspec": {
   "display_name": "myenv",
   "language": "python",
   "name": "python3"
  },
  "language_info": {
   "codemirror_mode": {
    "name": "ipython",
    "version": 3
   },
   "file_extension": ".py",
   "mimetype": "text/x-python",
   "name": "python",
   "nbconvert_exporter": "python",
   "pygments_lexer": "ipython3",
   "version": "3.10.11"
  }
 },
 "nbformat": 4,
 "nbformat_minor": 2
}
