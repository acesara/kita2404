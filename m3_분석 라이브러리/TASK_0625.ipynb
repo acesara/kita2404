{
 "cells": [
  {
   "cell_type": "markdown",
   "metadata": {},
   "source": [
    "Task1_0625. 다음 Selenium execute_script 메서드에 사용할 수 있는 JavaScript 명령어를 이용한 사례를 5개 작성해서 실행 결과를 확인하세요.\n",
    "단, 주어진 file_task1.html을 각 과제 항목 수행에 적합하게 수정해서 진행하세요\n",
    "\n",
    "- document.getElementById(id) : 특정 ID를 가진 요소를 선택합니다.\n",
    "- document.getElementsByClassName(className) : 특정 클래스 이름을 가진 요소를 선택합니다.\n",
    "- document.getElementsByTagName(tagName) : 특정 태그 이름을 가진 요소를 선택합니다.\n",
    "- document.querySelector(selector) : CSS 선택자를 사용하여 첫 번째 일치하는 요소를 선택합니다.\n",
    "- document.querySelectorAll(selector) : CSS 선택자를 사용하여 일치하는 모든 요소를 선택합니다.\n",
    "\n",
    "[참고]\n",
    "- element.innerText : 요소의 텍스트 콘텐츠를 설정하거나 가져옵니다.\n",
    "- element.innerHTML : 요소의 HTML 콘텐츠를 설정하거나 가져옵니다.\n",
    "- element.value : 입력 필드의 값을 설정하거나 가져옵니다.\n",
    "- element.style.property : 요소의 CSS 스타일 속성을 설정합니다.\n",
    "- element.click() : 요소를 클릭합니다.\n",
    "- element.focus() : 요소에 포커스를 설정합니다.\n",
    "- element.blur() : 요소에서 포커스를 제거합니다.\n",
    "- window.scrollTo(x, y) : 페이지를 지정된 좌표로 스크롤합니다.\n",
    "- window.scrollBy(x, y) : 현재 위치에서 지정된 거리만큼 페이지를 스크롤합니다.\n",
    "- alert(message) : 경고창을 표시합니다.\n",
    "- confirm(message) : 확인창을 표시하고 사용자의 응답을 반환합니다.\n",
    "- prompt(message, default) : 입력창을 표시하고 사용자의 입력을 반환합니다.\n",
    "- form.submit() : 폼을 제출합니다.\n",
    "- form.reset() : 폼을 초기화합니다."
   ]
  },
  {
   "cell_type": "code",
   "execution_count": null,
   "metadata": {},
   "outputs": [],
   "source": [
    "# Task1_0625. 다음 Selenium execute_script 메서드에 사용할 수 있는 JavaScript 명령어를 이용한 사례를 5개 작성해서 실행 결과를 확인하세요.\n",
    "# 단, 주어진 file_task1.html을 각 과제 항목 수행에 적합하게 수정해서 진행하세요\n",
    "\n",
    "# - document.getElementById(id) : 특정 ID를 가진 요소를 선택합니다.\n",
    "# - document.getElementsByClassName(className) : 특정 클래스 이름을 가진 요소를 선택합니다.\n",
    "# - document.getElementsByTagName(tagName) : 특정 태그 이름을 가진 요소를 선택합니다.\n",
    "# - document.querySelector(selector) : CSS 선택자를 사용하여 첫 번째 일치하는 요소를 선택합니다.\n",
    "# - document.querySelectorAll(selector) : CSS 선택자를 사용하여 일치하는 모든 요소를 선택합니다."
   ]
  },
  {
   "cell_type": "markdown",
   "metadata": {},
   "source": [
    "```html\n",
    "<!DOCTYPE html>\n",
    "<html lang=\"en\">\n",
    "<head>\n",
    "    <meta charset=\"UTF-8\">\n",
    "    <title>Practice Page</title>\n",
    "    <style>\n",
    "        .highlight { background-color: yellow; }\n",
    "    </style>\n",
    "</head>\n",
    "<body>\n",
    "    <h1 id=\"title\">Original Title</h1>\n",
    "    <div class=\"content\">\n",
    "        <p id=\"paragraph\">This is a paragraph.</p>\n",
    "        <button id=\"changeTextButton\">Change Text</button>\n",
    "        <input type=\"text\" id=\"textInput\" value=\"default value\">\n",
    "    </div>\n",
    "    <form id=\"form\">\n",
    "        <input type=\"text\" name=\"name\" value=\"John Doe\">\n",
    "        <input type=\"submit\" id=\"submitButton\" value=\"Submit\">\n",
    "    </form>\n",
    "</body>\n",
    "</html>\n",
    "```\n"
   ]
  },
  {
   "cell_type": "code",
   "execution_count": 8,
   "metadata": {},
   "outputs": [
    {
     "name": "stdout",
     "output_type": "stream",
     "text": [
      "Changed title: New title\n"
     ]
    }
   ],
   "source": [
    "from selenium import webdriver\n",
    "from selenium.webdriver.common.by import By\n",
    "import time\n",
    "\n",
    "# ID가 title인 요소의 텍스트를 변경하여 출력\n",
    "driver = webdriver.Chrome()\n",
    "file_path = 'http://127.0.0.1:52520/file_task1.html'\n",
    "driver.get(file_path)\n",
    "\n",
    "\n",
    "# 텍스트 변경\n",
    "driver.execute_script(\"document.getElementById('title').innerText = 'New title';\")\n",
    "\n",
    "\n",
    "# 변경된 텍스트 가져오기\n",
    "new_title = driver.execute_script(\"return document.getElementById('title').innerText;\")\n",
    "print(\"Changed title:\", new_title)\n",
    "time.sleep(5)\n",
    "\n",
    "driver.quit()"
   ]
  },
  {
   "cell_type": "code",
   "execution_count": 10,
   "metadata": {},
   "outputs": [
    {
     "name": "stdout",
     "output_type": "stream",
     "text": [
      "Hidden button clicked!\n"
     ]
    }
   ],
   "source": [
    "# 1\n",
    "\n",
    "from selenium import webdriver\n",
    "from selenium.webdriver.common.by import By\n",
    "import time\n",
    "\n",
    "# ID가 title인 요소의 텍스트를 변경하여 출력\n",
    "driver = webdriver.Chrome()\n",
    "file_path = 'http://127.0.0.1:52520/file_task11.html'\n",
    "driver.get(file_path)\n",
    "\n",
    "#  JavaScript를 사용하여 숨겨진 요소 클릭\n",
    "# arguments[0]은 hidden_element를 가리키며 click() 메서드를 호출하여 숨겨진 버튼을 클릭\n",
    "# selenium에서 python에서 정의된 객체를 javaScript로 전달하기 위해 arguments 배열을 사용\n",
    "hidden_element = driver.find_element(By.ID,\"hidden_element_id\")\n",
    "driver.execute_script(\"arguments[0].click();\", hidden_element)\n",
    "\n",
    "# 결과 확인\n",
    "\n",
    "message = driver.find_element(By.ID,\"message\").text\n",
    "print(message)\n",
    "time.sleep(3)\n",
    "driver.quit()"
   ]
  },
  {
   "cell_type": "code",
   "execution_count": null,
   "metadata": {},
   "outputs": [],
   "source": [
    "# 첫번쨰 버튼 클릭시 첫번째 단락의 배경색을 노란색으로 변경\n",
    "\n",
    "from selenium import webdriver\n",
    "from selenium.webdriver.common.by import By\n",
    "import time\n",
    "\n",
    "driver = webdriver.Chrome()\n",
    "file_path = 'http://127.0.0.1:52520/file_task2.html'\n",
    "driver.get(file_path)\n",
    "time.sleep(2)\n",
    "\n",
    "first_button = driver.find_element(By.CSS_SELECTOR, 'button')\n",
    "driver.execute_script(\"\"\"\n",
    "                      arguments[0].addEventListener('click', function() {\n",
    "                      document.querySelector('.paragraph').classList.add('highlight');\n",
    "                      });\n",
    "                      \"\"\", first_button)\n",
    "\n",
    "first_button.click()\n",
    "\n",
    "first_paragraph = driver.find_element(By.CSS_SELECTOR,'.paragraph')\n",
    "highlighted = driver.execute_script(\"return arguments[0].classList.contains('highlight);\",first_paragraph)\n",
    "print(\"Paragraph highlighted:\", highlighted)\n",
    "time.sleep(5)\n",
    "driver.quit()"
   ]
  },
  {
   "cell_type": "code",
   "execution_count": 16,
   "metadata": {},
   "outputs": [
    {
     "name": "stdout",
     "output_type": "stream",
     "text": [
      "Updated paragraph: Updated First Paragraph\n",
      "First button background color \n"
     ]
    }
   ],
   "source": [
    "# document.getElementsByClassName(className) : 특정 클래스 이름을 가진 요소를 선택합니다.\n",
    "\n",
    "driver = webdriver.Chrome()\n",
    "file_path = 'http://127.0.0.1:52520/file_task3.html'\n",
    "driver.get(file_path)\n",
    "time.sleep(2)\n",
    "\n",
    "driver.execute_script(\"document.getElementsByClassName('.content');\")\n",
    "time.sleep(2)\n",
    "\n",
    "# 첫번째 <p> 태그의 텍스트 변경\n",
    "driver.execute_script(\"document.getElementsByTagName('p')[0].innerText = 'Updated First Paragraph';\")\n",
    "\n",
    "# 모든 <button> 태그들의 배경색 변경\n",
    "driver.execute_script(\"\"\"\n",
    "    var buttons = document.getElementsByTagName('bitton');\n",
    "    for (var i = 0; i < buttons.length; i++) {\n",
    "        buttons[i].style.backgroundColor = 'green';\n",
    "    }\n",
    "\"\"\")\n",
    "\n",
    "# 첫번쨰 <p>태그의 텍스트 가져오기\n",
    "updata_paragraph = driver.execute_script(\"return document.getElementsByTagName('p')[0].innerText;\")\n",
    "\n",
    "print(\"Updated paragraph:\", updata_paragraph)\n",
    "\n",
    "# 첫번쨰 <button> 태그의 배경색 가져오기\n",
    "\n",
    "button_background_color = driver.execute_script(\"return document.getElementsByTagName('button')[0].style.backgroundColor;\")\n",
    "\n",
    "print(\"First button background color\", button_background_color)\n",
    "time.sleep(5)\n",
    "driver.quit()"
   ]
  },
  {
   "cell_type": "code",
   "execution_count": 18,
   "metadata": {},
   "outputs": [
    {
     "ename": "JavascriptException",
     "evalue": "Message: javascript error: Cannot set properties of null (setting 'innerText')\n  (Session info: chrome=126.0.6478.115)\nStacktrace:\n\tGetHandleVerifier [0x00007FF752D7EEA2+31554]\n\t(No symbol) [0x00007FF752CF7ED9]\n\t(No symbol) [0x00007FF752BB872A]\n\t(No symbol) [0x00007FF752BBE55E]\n\t(No symbol) [0x00007FF752BC11D8]\n\t(No symbol) [0x00007FF752C4D69B]\n\t(No symbol) [0x00007FF752C2D02A]\n\t(No symbol) [0x00007FF752C4C977]\n\t(No symbol) [0x00007FF752C2CDD3]\n\t(No symbol) [0x00007FF752BFA33B]\n\t(No symbol) [0x00007FF752BFAED1]\n\tGetHandleVerifier [0x00007FF753088B1D+3217341]\n\tGetHandleVerifier [0x00007FF7530D5AE3+3532675]\n\tGetHandleVerifier [0x00007FF7530CB0E0+3489152]\n\tGetHandleVerifier [0x00007FF752E2E776+750614]\n\t(No symbol) [0x00007FF752D0375F]\n\t(No symbol) [0x00007FF752CFEB14]\n\t(No symbol) [0x00007FF752CFECA2]\n\t(No symbol) [0x00007FF752CEE16F]\n\tBaseThreadInitThunk [0x00007FFDBF227344+20]\n\tRtlUserThreadStart [0x00007FFDC02BCC91+33]\n",
     "output_type": "error",
     "traceback": [
      "\u001b[1;31m---------------------------------------------------------------------------\u001b[0m",
      "\u001b[1;31mJavascriptException\u001b[0m                       Traceback (most recent call last)",
      "Cell \u001b[1;32mIn[18], line 13\u001b[0m\n\u001b[0;32m      9\u001b[0m time\u001b[38;5;241m.\u001b[39msleep(\u001b[38;5;241m2\u001b[39m)\n\u001b[0;32m     11\u001b[0m \u001b[38;5;66;03m# 첫번쨰 <p>태그의 텍스트 변경\u001b[39;00m\n\u001b[1;32m---> 13\u001b[0m \u001b[43mdriver\u001b[49m\u001b[38;5;241;43m.\u001b[39;49m\u001b[43mexecute_script\u001b[49m\u001b[43m(\u001b[49m\u001b[38;5;124;43m\"\u001b[39;49m\u001b[38;5;124;43mdocument.querySelector(\u001b[39;49m\u001b[38;5;124;43m'\u001b[39;49m\u001b[38;5;124;43m#firstparagraph\u001b[39;49m\u001b[38;5;124;43m'\u001b[39;49m\u001b[38;5;124;43m).innerText = \u001b[39;49m\u001b[38;5;124;43m'\u001b[39;49m\u001b[38;5;124;43mUpdated First Paragraph\u001b[39;49m\u001b[38;5;124;43m'\u001b[39;49m\u001b[38;5;124;43m;\u001b[39;49m\u001b[38;5;124;43m\"\u001b[39;49m\u001b[43m)\u001b[49m\n\u001b[0;32m     15\u001b[0m \u001b[38;5;66;03m# 첫번 쨰 changetextbutton 텍스트 변경\u001b[39;00m\n\u001b[0;32m     17\u001b[0m driver\u001b[38;5;241m.\u001b[39mexecute_script(\u001b[38;5;124m\"\u001b[39m\u001b[38;5;124mdocument.querySelector(\u001b[39m\u001b[38;5;124m'\u001b[39m\u001b[38;5;124m.changeTextButton\u001b[39m\u001b[38;5;124m'\u001b[39m\u001b[38;5;124m).innerText = \u001b[39m\u001b[38;5;124m'\u001b[39m\u001b[38;5;124mText Chnaged\u001b[39m\u001b[38;5;124m'\u001b[39m\u001b[38;5;124m;\u001b[39m\u001b[38;5;124m\"\u001b[39m)\n",
      "File \u001b[1;32me:\\kdt_240424\\workspace\\m3_분석라이브러리\\crawling\\myenv\\lib\\site-packages\\selenium\\webdriver\\remote\\webdriver.py:407\u001b[0m, in \u001b[0;36mWebDriver.execute_script\u001b[1;34m(self, script, *args)\u001b[0m\n\u001b[0;32m    404\u001b[0m converted_args \u001b[38;5;241m=\u001b[39m \u001b[38;5;28mlist\u001b[39m(args)\n\u001b[0;32m    405\u001b[0m command \u001b[38;5;241m=\u001b[39m Command\u001b[38;5;241m.\u001b[39mW3C_EXECUTE_SCRIPT\n\u001b[1;32m--> 407\u001b[0m \u001b[38;5;28;01mreturn\u001b[39;00m \u001b[38;5;28;43mself\u001b[39;49m\u001b[38;5;241;43m.\u001b[39;49m\u001b[43mexecute\u001b[49m\u001b[43m(\u001b[49m\u001b[43mcommand\u001b[49m\u001b[43m,\u001b[49m\u001b[43m \u001b[49m\u001b[43m{\u001b[49m\u001b[38;5;124;43m\"\u001b[39;49m\u001b[38;5;124;43mscript\u001b[39;49m\u001b[38;5;124;43m\"\u001b[39;49m\u001b[43m:\u001b[49m\u001b[43m \u001b[49m\u001b[43mscript\u001b[49m\u001b[43m,\u001b[49m\u001b[43m \u001b[49m\u001b[38;5;124;43m\"\u001b[39;49m\u001b[38;5;124;43margs\u001b[39;49m\u001b[38;5;124;43m\"\u001b[39;49m\u001b[43m:\u001b[49m\u001b[43m \u001b[49m\u001b[43mconverted_args\u001b[49m\u001b[43m}\u001b[49m\u001b[43m)\u001b[49m[\u001b[38;5;124m\"\u001b[39m\u001b[38;5;124mvalue\u001b[39m\u001b[38;5;124m\"\u001b[39m]\n",
      "File \u001b[1;32me:\\kdt_240424\\workspace\\m3_분석라이브러리\\crawling\\myenv\\lib\\site-packages\\selenium\\webdriver\\remote\\webdriver.py:347\u001b[0m, in \u001b[0;36mWebDriver.execute\u001b[1;34m(self, driver_command, params)\u001b[0m\n\u001b[0;32m    345\u001b[0m response \u001b[38;5;241m=\u001b[39m \u001b[38;5;28mself\u001b[39m\u001b[38;5;241m.\u001b[39mcommand_executor\u001b[38;5;241m.\u001b[39mexecute(driver_command, params)\n\u001b[0;32m    346\u001b[0m \u001b[38;5;28;01mif\u001b[39;00m response:\n\u001b[1;32m--> 347\u001b[0m     \u001b[38;5;28;43mself\u001b[39;49m\u001b[38;5;241;43m.\u001b[39;49m\u001b[43merror_handler\u001b[49m\u001b[38;5;241;43m.\u001b[39;49m\u001b[43mcheck_response\u001b[49m\u001b[43m(\u001b[49m\u001b[43mresponse\u001b[49m\u001b[43m)\u001b[49m\n\u001b[0;32m    348\u001b[0m     response[\u001b[38;5;124m\"\u001b[39m\u001b[38;5;124mvalue\u001b[39m\u001b[38;5;124m\"\u001b[39m] \u001b[38;5;241m=\u001b[39m \u001b[38;5;28mself\u001b[39m\u001b[38;5;241m.\u001b[39m_unwrap_value(response\u001b[38;5;241m.\u001b[39mget(\u001b[38;5;124m\"\u001b[39m\u001b[38;5;124mvalue\u001b[39m\u001b[38;5;124m\"\u001b[39m, \u001b[38;5;28;01mNone\u001b[39;00m))\n\u001b[0;32m    349\u001b[0m     \u001b[38;5;28;01mreturn\u001b[39;00m response\n",
      "File \u001b[1;32me:\\kdt_240424\\workspace\\m3_분석라이브러리\\crawling\\myenv\\lib\\site-packages\\selenium\\webdriver\\remote\\errorhandler.py:229\u001b[0m, in \u001b[0;36mErrorHandler.check_response\u001b[1;34m(self, response)\u001b[0m\n\u001b[0;32m    227\u001b[0m         alert_text \u001b[38;5;241m=\u001b[39m value[\u001b[38;5;124m\"\u001b[39m\u001b[38;5;124malert\u001b[39m\u001b[38;5;124m\"\u001b[39m]\u001b[38;5;241m.\u001b[39mget(\u001b[38;5;124m\"\u001b[39m\u001b[38;5;124mtext\u001b[39m\u001b[38;5;124m\"\u001b[39m)\n\u001b[0;32m    228\u001b[0m     \u001b[38;5;28;01mraise\u001b[39;00m exception_class(message, screen, stacktrace, alert_text)  \u001b[38;5;66;03m# type: ignore[call-arg]  # mypy is not smart enough here\u001b[39;00m\n\u001b[1;32m--> 229\u001b[0m \u001b[38;5;28;01mraise\u001b[39;00m exception_class(message, screen, stacktrace)\n",
      "\u001b[1;31mJavascriptException\u001b[0m: Message: javascript error: Cannot set properties of null (setting 'innerText')\n  (Session info: chrome=126.0.6478.115)\nStacktrace:\n\tGetHandleVerifier [0x00007FF752D7EEA2+31554]\n\t(No symbol) [0x00007FF752CF7ED9]\n\t(No symbol) [0x00007FF752BB872A]\n\t(No symbol) [0x00007FF752BBE55E]\n\t(No symbol) [0x00007FF752BC11D8]\n\t(No symbol) [0x00007FF752C4D69B]\n\t(No symbol) [0x00007FF752C2D02A]\n\t(No symbol) [0x00007FF752C4C977]\n\t(No symbol) [0x00007FF752C2CDD3]\n\t(No symbol) [0x00007FF752BFA33B]\n\t(No symbol) [0x00007FF752BFAED1]\n\tGetHandleVerifier [0x00007FF753088B1D+3217341]\n\tGetHandleVerifier [0x00007FF7530D5AE3+3532675]\n\tGetHandleVerifier [0x00007FF7530CB0E0+3489152]\n\tGetHandleVerifier [0x00007FF752E2E776+750614]\n\t(No symbol) [0x00007FF752D0375F]\n\t(No symbol) [0x00007FF752CFEB14]\n\t(No symbol) [0x00007FF752CFECA2]\n\t(No symbol) [0x00007FF752CEE16F]\n\tBaseThreadInitThunk [0x00007FFDBF227344+20]\n\tRtlUserThreadStart [0x00007FFDC02BCC91+33]\n"
     ]
    }
   ],
   "source": [
    "# ex\n",
    "\n",
    "driver = webdriver.Chrome()\n",
    "file_path = 'http://127.0.0.1:52520/file_task4.html'\n",
    "driver.get(file_path)\n",
    "time.sleep(2)\n",
    "\n",
    "driver.execute_script(\"document.getElementsByClassName('.content');\")\n",
    "time.sleep(2)\n",
    "\n",
    "# 첫번쨰 <p>태그의 텍스트 변경\n",
    "\n",
    "driver.execute_script(\"document.querySelector('#firstparagraph').innerText = 'Updated First Paragraph';\")\n",
    "\n",
    "# 첫번 쨰 changetextbutton 텍스트 변경\n",
    "\n",
    "driver.execute_script(\"document.querySelector('.changeTextButton').innerText = 'Text Chnaged';\")\n",
    "\n",
    "# 두번째 p태그의 배경색 변경\n",
    "\n",
    "driver.execute_script(\"document.querySelector('#secondParagraph').style.backgroundColor = 'lightblue';\")\n",
    "\n",
    "# 첫번쨰 p태그의 텍스트 가져오기\n",
    "\n",
    "updata_paragraph = driver.execute_script(\"return document.querySelector('#firstparagraph').innerText\")\n",
    "\n",
    "print(\"Updated paragraph:\", updata_paragraph)\n",
    "\n",
    "# 첫번쨰 changetextbutton 텍스트 가져오기\n",
    "\n",
    "updata_button_text = driver.execute_script(\"return document.querySelector('.changeTextButton').innerText;\")\n",
    "print(\"updata_button_text\", updata_button_text)                          \n",
    "time.sleep(5)\n",
    "driver.quit()\n",
    "                                        "
   ]
  },
  {
   "cell_type": "code",
   "execution_count": 26,
   "metadata": {},
   "outputs": [
    {
     "ename": "JavascriptException",
     "evalue": "Message: javascript error: Cannot read properties of null (reading 'innerText')\n  (Session info: chrome=126.0.6478.115)\nStacktrace:\n\tGetHandleVerifier [0x00007FF752D7EEA2+31554]\n\t(No symbol) [0x00007FF752CF7ED9]\n\t(No symbol) [0x00007FF752BB872A]\n\t(No symbol) [0x00007FF752BBE55E]\n\t(No symbol) [0x00007FF752BC11D8]\n\t(No symbol) [0x00007FF752C4D69B]\n\t(No symbol) [0x00007FF752C2D02A]\n\t(No symbol) [0x00007FF752C4C977]\n\t(No symbol) [0x00007FF752C2CDD3]\n\t(No symbol) [0x00007FF752BFA33B]\n\t(No symbol) [0x00007FF752BFAED1]\n\tGetHandleVerifier [0x00007FF753088B1D+3217341]\n\tGetHandleVerifier [0x00007FF7530D5AE3+3532675]\n\tGetHandleVerifier [0x00007FF7530CB0E0+3489152]\n\tGetHandleVerifier [0x00007FF752E2E776+750614]\n\t(No symbol) [0x00007FF752D0375F]\n\t(No symbol) [0x00007FF752CFEB14]\n\t(No symbol) [0x00007FF752CFECA2]\n\t(No symbol) [0x00007FF752CEE16F]\n\tBaseThreadInitThunk [0x00007FFDBF227344+20]\n\tRtlUserThreadStart [0x00007FFDC02BCC91+33]\n",
     "output_type": "error",
     "traceback": [
      "\u001b[1;31m---------------------------------------------------------------------------\u001b[0m",
      "\u001b[1;31mJavascriptException\u001b[0m                       Traceback (most recent call last)",
      "Cell \u001b[1;32mIn[26], line 29\u001b[0m\n\u001b[0;32m     20\u001b[0m driver\u001b[38;5;241m.\u001b[39mexecute_script(\u001b[38;5;124m\"\"\"\u001b[39m\n\u001b[0;32m     21\u001b[0m \u001b[38;5;124m    var buttons = document.querySelectorAll(\u001b[39m\u001b[38;5;124m'\u001b[39m\u001b[38;5;124m.changeColorButton\u001b[39m\u001b[38;5;124m'\u001b[39m\u001b[38;5;124m);\u001b[39m\n\u001b[0;32m     22\u001b[0m \u001b[38;5;124m    buttons.forEach(function(button) \u001b[39m\u001b[38;5;124m{\u001b[39m\n\u001b[0;32m     23\u001b[0m \u001b[38;5;124m        button.style.backgroundColor = \u001b[39m\u001b[38;5;124m'\u001b[39m\u001b[38;5;124mlightgreen\u001b[39m\u001b[38;5;124m'\u001b[39m\u001b[38;5;124m;\u001b[39m\n\u001b[0;32m     24\u001b[0m \u001b[38;5;124m    });\u001b[39m\n\u001b[0;32m     25\u001b[0m \u001b[38;5;124m\"\"\"\u001b[39m)\n\u001b[0;32m     27\u001b[0m \u001b[38;5;66;03m# 클래스가 paragraph인 첫번째 요소의 텍스트 가져오기\u001b[39;00m\n\u001b[1;32m---> 29\u001b[0m updated_paragraph \u001b[38;5;241m=\u001b[39m \u001b[43mdriver\u001b[49m\u001b[38;5;241;43m.\u001b[39;49m\u001b[43mexecute_script\u001b[49m\u001b[43m(\u001b[49m\u001b[38;5;124;43m\"\u001b[39;49m\u001b[38;5;124;43mreturn document.querySelector(\u001b[39;49m\u001b[38;5;124;43m'\u001b[39;49m\u001b[38;5;124;43m.paragraph\u001b[39;49m\u001b[38;5;124;43m'\u001b[39;49m\u001b[38;5;124;43m).innerText;\u001b[39;49m\u001b[38;5;124;43m\"\u001b[39;49m\u001b[43m)\u001b[49m\n\u001b[0;32m     30\u001b[0m \u001b[38;5;28mprint\u001b[39m(\u001b[38;5;124m\"\u001b[39m\u001b[38;5;124mUpdated first paragraph:\u001b[39m\u001b[38;5;124m\"\u001b[39m, updated_paragraph)\n\u001b[0;32m     32\u001b[0m \u001b[38;5;66;03m# 클래스가 changecolorbutton인 두번째 버튼의 배경색 가져오기\u001b[39;00m\n",
      "File \u001b[1;32me:\\kdt_240424\\workspace\\m3_분석라이브러리\\crawling\\myenv\\lib\\site-packages\\selenium\\webdriver\\remote\\webdriver.py:407\u001b[0m, in \u001b[0;36mWebDriver.execute_script\u001b[1;34m(self, script, *args)\u001b[0m\n\u001b[0;32m    404\u001b[0m converted_args \u001b[38;5;241m=\u001b[39m \u001b[38;5;28mlist\u001b[39m(args)\n\u001b[0;32m    405\u001b[0m command \u001b[38;5;241m=\u001b[39m Command\u001b[38;5;241m.\u001b[39mW3C_EXECUTE_SCRIPT\n\u001b[1;32m--> 407\u001b[0m \u001b[38;5;28;01mreturn\u001b[39;00m \u001b[38;5;28;43mself\u001b[39;49m\u001b[38;5;241;43m.\u001b[39;49m\u001b[43mexecute\u001b[49m\u001b[43m(\u001b[49m\u001b[43mcommand\u001b[49m\u001b[43m,\u001b[49m\u001b[43m \u001b[49m\u001b[43m{\u001b[49m\u001b[38;5;124;43m\"\u001b[39;49m\u001b[38;5;124;43mscript\u001b[39;49m\u001b[38;5;124;43m\"\u001b[39;49m\u001b[43m:\u001b[49m\u001b[43m \u001b[49m\u001b[43mscript\u001b[49m\u001b[43m,\u001b[49m\u001b[43m \u001b[49m\u001b[38;5;124;43m\"\u001b[39;49m\u001b[38;5;124;43margs\u001b[39;49m\u001b[38;5;124;43m\"\u001b[39;49m\u001b[43m:\u001b[49m\u001b[43m \u001b[49m\u001b[43mconverted_args\u001b[49m\u001b[43m}\u001b[49m\u001b[43m)\u001b[49m[\u001b[38;5;124m\"\u001b[39m\u001b[38;5;124mvalue\u001b[39m\u001b[38;5;124m\"\u001b[39m]\n",
      "File \u001b[1;32me:\\kdt_240424\\workspace\\m3_분석라이브러리\\crawling\\myenv\\lib\\site-packages\\selenium\\webdriver\\remote\\webdriver.py:347\u001b[0m, in \u001b[0;36mWebDriver.execute\u001b[1;34m(self, driver_command, params)\u001b[0m\n\u001b[0;32m    345\u001b[0m response \u001b[38;5;241m=\u001b[39m \u001b[38;5;28mself\u001b[39m\u001b[38;5;241m.\u001b[39mcommand_executor\u001b[38;5;241m.\u001b[39mexecute(driver_command, params)\n\u001b[0;32m    346\u001b[0m \u001b[38;5;28;01mif\u001b[39;00m response:\n\u001b[1;32m--> 347\u001b[0m     \u001b[38;5;28;43mself\u001b[39;49m\u001b[38;5;241;43m.\u001b[39;49m\u001b[43merror_handler\u001b[49m\u001b[38;5;241;43m.\u001b[39;49m\u001b[43mcheck_response\u001b[49m\u001b[43m(\u001b[49m\u001b[43mresponse\u001b[49m\u001b[43m)\u001b[49m\n\u001b[0;32m    348\u001b[0m     response[\u001b[38;5;124m\"\u001b[39m\u001b[38;5;124mvalue\u001b[39m\u001b[38;5;124m\"\u001b[39m] \u001b[38;5;241m=\u001b[39m \u001b[38;5;28mself\u001b[39m\u001b[38;5;241m.\u001b[39m_unwrap_value(response\u001b[38;5;241m.\u001b[39mget(\u001b[38;5;124m\"\u001b[39m\u001b[38;5;124mvalue\u001b[39m\u001b[38;5;124m\"\u001b[39m, \u001b[38;5;28;01mNone\u001b[39;00m))\n\u001b[0;32m    349\u001b[0m     \u001b[38;5;28;01mreturn\u001b[39;00m response\n",
      "File \u001b[1;32me:\\kdt_240424\\workspace\\m3_분석라이브러리\\crawling\\myenv\\lib\\site-packages\\selenium\\webdriver\\remote\\errorhandler.py:229\u001b[0m, in \u001b[0;36mErrorHandler.check_response\u001b[1;34m(self, response)\u001b[0m\n\u001b[0;32m    227\u001b[0m         alert_text \u001b[38;5;241m=\u001b[39m value[\u001b[38;5;124m\"\u001b[39m\u001b[38;5;124malert\u001b[39m\u001b[38;5;124m\"\u001b[39m]\u001b[38;5;241m.\u001b[39mget(\u001b[38;5;124m\"\u001b[39m\u001b[38;5;124mtext\u001b[39m\u001b[38;5;124m\"\u001b[39m)\n\u001b[0;32m    228\u001b[0m     \u001b[38;5;28;01mraise\u001b[39;00m exception_class(message, screen, stacktrace, alert_text)  \u001b[38;5;66;03m# type: ignore[call-arg]  # mypy is not smart enough here\u001b[39;00m\n\u001b[1;32m--> 229\u001b[0m \u001b[38;5;28;01mraise\u001b[39;00m exception_class(message, screen, stacktrace)\n",
      "\u001b[1;31mJavascriptException\u001b[0m: Message: javascript error: Cannot read properties of null (reading 'innerText')\n  (Session info: chrome=126.0.6478.115)\nStacktrace:\n\tGetHandleVerifier [0x00007FF752D7EEA2+31554]\n\t(No symbol) [0x00007FF752CF7ED9]\n\t(No symbol) [0x00007FF752BB872A]\n\t(No symbol) [0x00007FF752BBE55E]\n\t(No symbol) [0x00007FF752BC11D8]\n\t(No symbol) [0x00007FF752C4D69B]\n\t(No symbol) [0x00007FF752C2D02A]\n\t(No symbol) [0x00007FF752C4C977]\n\t(No symbol) [0x00007FF752C2CDD3]\n\t(No symbol) [0x00007FF752BFA33B]\n\t(No symbol) [0x00007FF752BFAED1]\n\tGetHandleVerifier [0x00007FF753088B1D+3217341]\n\tGetHandleVerifier [0x00007FF7530D5AE3+3532675]\n\tGetHandleVerifier [0x00007FF7530CB0E0+3489152]\n\tGetHandleVerifier [0x00007FF752E2E776+750614]\n\t(No symbol) [0x00007FF752D0375F]\n\t(No symbol) [0x00007FF752CFEB14]\n\t(No symbol) [0x00007FF752CFECA2]\n\t(No symbol) [0x00007FF752CEE16F]\n\tBaseThreadInitThunk [0x00007FFDBF227344+20]\n\tRtlUserThreadStart [0x00007FFDC02BCC91+33]\n"
     ]
    }
   ],
   "source": [
    "driver = webdriver.Chrome()\n",
    "file_path = 'http://127.0.0.1:52520/file_task5.html'\n",
    "driver.get(file_path)\n",
    "\n",
    "\n",
    "driver.execute_script(\"document.getElementsByClassName('.content');\")\n",
    "\n",
    "\n",
    "# 클래스가 'paragraph'인 모든 요소들의 텍스트 변경\n",
    "\n",
    "driver.execute_script(\"\"\"\n",
    "    var paragraphs = document.querySelectorAll('.paragraph');\n",
    "    paragraphs.forEach(function(p, index) {\n",
    "        p.innerText = 'Updated Paragraph ' + (index + 1);\n",
    "    });\n",
    "\"\"\")\n",
    "\n",
    "# 클래스가 changecolorbutton 인 모든 버튼들의 배경색 변경\n",
    "\n",
    "driver.execute_script(\"\"\"\n",
    "    var buttons = document.querySelectorAll('.changeColorButton');\n",
    "    buttons.forEach(function(button) {\n",
    "        button.style.backgroundColor = 'lightgreen';\n",
    "    });\n",
    "\"\"\")\n",
    "\n",
    "# 클래스가 paragraph인 첫번째 요소의 텍스트 가져오기\n",
    "\n",
    "updated_paragraph = driver.execute_script(\"return document.querySelector('.paragraph').innerText;\")\n",
    "print(\"Updated first paragraph:\", updated_paragraph)\n",
    "\n",
    "# 클래스가 changecolorbutton인 두번째 버튼의 배경색 가져오기\n",
    "\n",
    "button_background_color = driver.execute_script(\"return document.querySelector('.changeColorButton').style.backgroundColor;\")\n",
    "\n",
    "print(\"First button background color:\", button_background_color)\n",
    "time.sleep(5)\n",
    "driver.quit()"
   ]
  }
 ],
 "metadata": {
  "kernelspec": {
   "display_name": "myenv",
   "language": "python",
   "name": "python3"
  },
  "language_info": {
   "codemirror_mode": {
    "name": "ipython",
    "version": 3
   },
   "file_extension": ".py",
   "mimetype": "text/x-python",
   "name": "python",
   "nbconvert_exporter": "python",
   "pygments_lexer": "ipython3",
   "version": "3.10.11"
  }
 },
 "nbformat": 4,
 "nbformat_minor": 2
}
